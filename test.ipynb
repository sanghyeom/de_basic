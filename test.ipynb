{
 "cells": [
  {
   "cell_type": "code",
   "execution_count": 1,
   "id": "f113d4c0-d030-47c2-a0f1-bfde53a7a300",
   "metadata": {},
   "outputs": [],
   "source": [
    "from selenium import webdriver\n",
    "from selenium.webdriver.chrome.service import Service\n",
    "from selenium.webdriver.common.by import By\n",
    "from webdriver_manager.chrome import ChromeDriverManager\n",
    "import time\n",
    "\n",
    "# 1. Chrome 드라이버 설정\n",
    "options = webdriver.ChromeOptions()\n",
    "options.add_argument(\"--start-maximized\")  # 창 띄우기\n",
    "driver = webdriver.Chrome(service=Service(ChromeDriverManager().install()), options=options)\n",
    "\n",
    "# 2. 사이트 접속\n",
    "driver.get(\"https://quotes.toscrape.com\")\n",
    "time.sleep(2)  # 로딩 대기\n",
    "\n",
    "# 3. \"Login\" 버튼 클릭\n",
    "login_link = driver.find_element(By.LINK_TEXT, \"Login\")\n",
    "login_link.click()\n",
    "\n",
    "# 4. 결과 확인용 대기\n",
    "time.sleep(3)\n",
    "\n",
    "# driver.quit()"
   ]
  },
  {
   "cell_type": "markdown",
   "id": "e930cb58-47a1-4c34-94e9-780a971e90d1",
   "metadata": {},
   "source": [
    "# 웹사이트"
   ]
  },
  {
   "cell_type": "code",
   "execution_count": 2,
   "id": "48abc6e5-581d-4835-9937-b95d807296c6",
   "metadata": {},
   "outputs": [
    {
     "name": "stdout",
     "output_type": "stream",
     "text": [
      "“The world as we have created it is a process of our thinking. It cannot be changed without changing our thinking.” — Albert Einstein\n",
      "“It is our choices, Harry, that show what we truly are, far more than our abilities.” — J.K. Rowling\n",
      "“There are only two ways to live your life. One is as though nothing is a miracle. The other is as though everything is a miracle.” — Albert Einstein\n",
      "“The person, be it gentleman or lady, who has not pleasure in a good novel, must be intolerably stupid.” — Jane Austen\n",
      "“Imperfection is beauty, madness is genius and it's better to be absolutely ridiculous than absolutely boring.” — Marilyn Monroe\n",
      "“Try not to become a man of success. Rather become a man of value.” — Albert Einstein\n",
      "“It is better to be hated for what you are than to be loved for what you are not.” — André Gide\n",
      "“I have not failed. I've just found 10,000 ways that won't work.” — Thomas A. Edison\n",
      "“A woman is like a tea bag; you never know how strong it is until it's in hot water.” — Eleanor Roosevelt\n",
      "“A day without sunshine is like, you know, night.” — Steve Martin\n"
     ]
    }
   ],
   "source": [
    "import requests\n",
    "from bs4 import BeautifulSoup\n",
    "\n",
    "# 1. URL 설정\n",
    "url = \"http://quotes.toscrape.com/page/1/\"\n",
    "\n",
    "# 2. HTTP 요청\n",
    "response = requests.get(url)\n",
    "soup = BeautifulSoup(response.text, \"html.parser\")\n",
    "\n",
    "# 3. 명언과 저자 추출\n",
    "quotes = soup.find_all(\"div\", class_=\"quote\")\n",
    "\n",
    "for quote in quotes:\n",
    "    text = quote.find(\"span\", class_=\"text\").get_text()\n",
    "    author = quote.find(\"small\", class_=\"author\").get_text()\n",
    "    print(f\"{text} — {author}\")"
   ]
  },
  {
   "cell_type": "code",
   "execution_count": 3,
   "id": "8a234faf-3883-4676-953f-286054d7c207",
   "metadata": {},
   "outputs": [],
   "source": [
    "# NY times 웹 크롤링 API"
   ]
  },
  {
   "cell_type": "code",
   "execution_count": 72,
   "id": "209fa680-2ece-410f-8249-1c6b5f46915c",
   "metadata": {},
   "outputs": [
    {
     "data": {
      "text/plain": [
       "{'status': 'OK',\n",
       " 'copyright': 'Copyright (c) 2025 The New York Times Company.  All Rights Reserved.',\n",
       " 'num_results': 20,\n",
       " 'results': [{'uri': 'nyt://article/145cfe92-7c5f-5da3-8ecf-6167d2e7d1db',\n",
       "   'url': 'https://www.nytimes.com/2025/06/17/nyregion/brad-lander-immigration-ice.html',\n",
       "   'id': 100000010234457,\n",
       "   'asset_id': 100000010234457,\n",
       "   'source': 'New York Times',\n",
       "   'published_date': '2025-06-17',\n",
       "   'updated': '2025-06-17 22:24:47',\n",
       "   'section': 'New York',\n",
       "   'subsection': '',\n",
       "   'nytdsection': 'new york',\n",
       "   'adx_keywords': 'Immigration and Emigration;Elections, Mayors;Lander, Brad;Immigration and Customs Enforcement (US);Office of the Comptroller (NYC)',\n",
       "   'column': None,\n",
       "   'byline': 'By Luis Ferré-Sadurní',\n",
       "   'type': 'Article',\n",
       "   'title': 'Brad Lander Is Arrested by ICE Agents at Immigration Courthouse',\n",
       "   'abstract': 'Mr. Lander, the New York City comptroller and a candidate for mayor, was handcuffed as he tried to steer a man past Immigration and Customs Enforcement officers.',\n",
       "   'des_facet': ['Immigration and Emigration', 'Elections, Mayors'],\n",
       "   'org_facet': ['Immigration and Customs Enforcement (US)',\n",
       "    'Office of the Comptroller (NYC)'],\n",
       "   'per_facet': ['Lander, Brad'],\n",
       "   'geo_facet': [],\n",
       "   'media': [{'type': 'image',\n",
       "     'subtype': 'photo',\n",
       "     'caption': 'Brad Lander, the New York City comptroller, was detained on Tuesday by federal agents inside an immigration courthouse.',\n",
       "     'copyright': 'Olga Fedorova/Associated Press',\n",
       "     'approved_for_syndication': 1,\n",
       "     'media-metadata': [{'url': 'https://static01.nyt.com/images/2025/06/17/multimedia/17met-lander-pfmb/17met-lander-pfmb-thumbStandard.jpg',\n",
       "       'format': 'Standard Thumbnail',\n",
       "       'height': 75,\n",
       "       'width': 75},\n",
       "      {'url': 'https://static01.nyt.com/images/2025/06/17/multimedia/17met-lander-pfmb/17met-lander-pfmb-mediumThreeByTwo210.jpg',\n",
       "       'format': 'mediumThreeByTwo210',\n",
       "       'height': 140,\n",
       "       'width': 210},\n",
       "      {'url': 'https://static01.nyt.com/images/2025/06/17/multimedia/17met-lander-pfmb/17met-lander-pfmb-mediumThreeByTwo440.jpg',\n",
       "       'format': 'mediumThreeByTwo440',\n",
       "       'height': 293,\n",
       "       'width': 440}]}],\n",
       "   'eta_id': 0},\n",
       "  {'uri': 'nyt://article/a172f7c2-ed0d-55e8-9d2d-1bf83d8b6aba',\n",
       "   'url': 'https://www.nytimes.com/2025/06/16/us/politics/trump-iran-diplomacy-conflict.html',\n",
       "   'id': 100000010231464,\n",
       "   'asset_id': 100000010231464,\n",
       "   'source': 'New York Times',\n",
       "   'published_date': '2025-06-16',\n",
       "   'updated': '2025-06-17 23:06:17',\n",
       "   'section': 'U.S.',\n",
       "   'subsection': 'Politics',\n",
       "   'nytdsection': 'u.s.',\n",
       "   'adx_keywords': 'United States Politics and Government;United States International Relations;United States Defense and Military Forces;Nuclear Weapons;Arms Control and Limitation and Disarmament;Bombs and Explosives;Uranium;Nuclear Energy;Trump, Donald J;Araghchi, Abbas;Netanyahu, Benjamin;Republican Party;Fordo (Iran);Iran;Israel;Middle East',\n",
       "   'column': None,\n",
       "   'byline': 'By David E. Sanger and Jonathan Swan',\n",
       "   'type': 'Article',\n",
       "   'title': 'Trump’s Iran Choice: Last-Chance Diplomacy or a Bunker-Busting Bomb',\n",
       "   'abstract': 'Iranian officials have warned that U.S. participation in an attack on its facilities will imperil any chance of the nuclear disarmament deal the president insists he is still interested in pursuing.',\n",
       "   'des_facet': ['United States Politics and Government',\n",
       "    'United States International Relations',\n",
       "    'United States Defense and Military Forces',\n",
       "    'Nuclear Weapons',\n",
       "    'Arms Control and Limitation and Disarmament',\n",
       "    'Bombs and Explosives',\n",
       "    'Uranium',\n",
       "    'Nuclear Energy'],\n",
       "   'org_facet': ['Republican Party'],\n",
       "   'per_facet': ['Trump, Donald J', 'Araghchi, Abbas', 'Netanyahu, Benjamin'],\n",
       "   'geo_facet': ['Fordo (Iran)', 'Iran', 'Israel', 'Middle East'],\n",
       "   'media': [{'type': 'image',\n",
       "     'subtype': 'photo',\n",
       "     'caption': 'Iranians lined up at gas stations as they fled Tehran on Monday.',\n",
       "     'copyright': 'Arash Khamooshi for The New York Times',\n",
       "     'approved_for_syndication': 1,\n",
       "     'media-metadata': [{'url': 'https://static01.nyt.com/images/2025/06/16/multimedia/16dc-PREXY-01-tgkh/16dc-PREXY-01-tgkh-thumbStandard.jpg',\n",
       "       'format': 'Standard Thumbnail',\n",
       "       'height': 75,\n",
       "       'width': 75},\n",
       "      {'url': 'https://static01.nyt.com/images/2025/06/16/multimedia/16dc-PREXY-01-tgkh/16dc-PREXY-01-tgkh-mediumThreeByTwo210.jpg',\n",
       "       'format': 'mediumThreeByTwo210',\n",
       "       'height': 140,\n",
       "       'width': 210},\n",
       "      {'url': 'https://static01.nyt.com/images/2025/06/16/multimedia/16dc-PREXY-01-tgkh/16dc-PREXY-01-tgkh-mediumThreeByTwo440.jpg',\n",
       "       'format': 'mediumThreeByTwo440',\n",
       "       'height': 293,\n",
       "       'width': 440}]}],\n",
       "   'eta_id': 0},\n",
       "  {'uri': 'nyt://article/6f64f0f2-b59d-5eb7-bedd-068afcab738e',\n",
       "   'url': 'https://www.nytimes.com/2025/06/17/business/tariffs-china-exports.html',\n",
       "   'id': 100000010221064,\n",
       "   'asset_id': 100000010221064,\n",
       "   'source': 'New York Times',\n",
       "   'published_date': '2025-06-17',\n",
       "   'updated': '2025-06-17 23:08:04',\n",
       "   'section': 'Business',\n",
       "   'subsection': '',\n",
       "   'nytdsection': 'business',\n",
       "   'adx_keywords': 'Customs (Tariff);International Trade and World Market;Trump, Donald J;China;United States;Brazil;Europe;Far East, South and Southeast Asia and Pacific Areas;Southeast Asia',\n",
       "   'column': None,\n",
       "   'byline': 'By Alexandra Stevenson',\n",
       "   'type': 'Article',\n",
       "   'title': 'China Is Unleashing a New Export Shock on the World',\n",
       "   'abstract': 'As President Trump’s tariffs close off the U.S. market, Chinese goods are flooding countries from Southeast Asia to Europe to Latin America.',\n",
       "   'des_facet': ['Customs (Tariff)', 'International Trade and World Market'],\n",
       "   'org_facet': [],\n",
       "   'per_facet': ['Trump, Donald J'],\n",
       "   'geo_facet': ['China',\n",
       "    'United States',\n",
       "    'Brazil',\n",
       "    'Europe',\n",
       "    'Far East, South and Southeast Asia and Pacific Areas',\n",
       "    'Southeast Asia'],\n",
       "   'media': [{'type': 'image',\n",
       "     'subtype': 'photo',\n",
       "     'caption': 'A shipping terminal in Chongqing, China, is a hub of trade routes connecting China with countries in Southeast Asia.',\n",
       "     'copyright': 'Gilles Sabrié for The New York Times',\n",
       "     'approved_for_syndication': 1,\n",
       "     'media-metadata': [{'url': 'https://static01.nyt.com/images/2025/06/13/multimedia/00Biz-New-China-Shock-02-wfvl/00Biz-New-China-Shock-02-wfvl-thumbStandard.jpg',\n",
       "       'format': 'Standard Thumbnail',\n",
       "       'height': 75,\n",
       "       'width': 75},\n",
       "      {'url': 'https://static01.nyt.com/images/2025/06/13/multimedia/00Biz-New-China-Shock-02-wfvl/00Biz-New-China-Shock-02-wfvl-mediumThreeByTwo210.jpg',\n",
       "       'format': 'mediumThreeByTwo210',\n",
       "       'height': 140,\n",
       "       'width': 210},\n",
       "      {'url': 'https://static01.nyt.com/images/2025/06/13/multimedia/00Biz-New-China-Shock-02-wfvl/00Biz-New-China-Shock-02-wfvl-mediumThreeByTwo440.jpg',\n",
       "       'format': 'mediumThreeByTwo440',\n",
       "       'height': 293,\n",
       "       'width': 440}]}],\n",
       "   'eta_id': 0},\n",
       "  {'uri': 'nyt://article/fe8035de-cdf2-537f-bbc3-64e7bc3f8a7c',\n",
       "   'url': 'https://www.nytimes.com/2025/06/17/us/politics/trump-iran-israel-nuclear-talks.html',\n",
       "   'id': 100000010230990,\n",
       "   'asset_id': 100000010230990,\n",
       "   'source': 'New York Times',\n",
       "   'published_date': '2025-06-17',\n",
       "   'updated': '2025-06-17 23:45:49',\n",
       "   'section': 'U.S.',\n",
       "   'subsection': 'Politics',\n",
       "   'nytdsection': 'u.s.',\n",
       "   'adx_keywords': 'Iran-Israel Proxy Conflict;International Relations;Defense and Military Forces;United States Defense and Military Forces;United States International Relations;United States Politics and Government;Netanyahu, Benjamin;Trump, Donald J;Witkoff, Steven;Iran;Israel',\n",
       "   'column': None,\n",
       "   'byline': 'By Jonathan Swan, Maggie Haberman, Mark Mazzetti and Ronen Bergman',\n",
       "   'type': 'Article',\n",
       "   'title': 'How Trump Shifted on Iran Under Pressure From Israel',\n",
       "   'abstract': 'President Trump spent the first months of his term holding back Israel’s push for an assault on Iran’s nuclear program. With the war underway, his posture has gyrated as he weighs sending in the U.S. military.',\n",
       "   'des_facet': ['Iran-Israel Proxy Conflict',\n",
       "    'International Relations',\n",
       "    'Defense and Military Forces',\n",
       "    'United States Defense and Military Forces',\n",
       "    'United States International Relations',\n",
       "    'United States Politics and Government'],\n",
       "   'org_facet': [],\n",
       "   'per_facet': ['Netanyahu, Benjamin', 'Trump, Donald J', 'Witkoff, Steven'],\n",
       "   'geo_facet': ['Iran', 'Israel'],\n",
       "   'media': [{'type': 'image',\n",
       "     'subtype': 'photo',\n",
       "     'caption': 'Smoke from explosions after Israel’s attacks on Tehran on Sunday.',\n",
       "     'copyright': 'Arash Khamooshi for The New York Times',\n",
       "     'approved_for_syndication': 1,\n",
       "     'media-metadata': [{'url': 'https://static01.nyt.com/images/2025/06/18/multimedia/17dc-trump-bibi-01-bvkt/17dc-trump-bibi-01-bvkt-thumbStandard.jpg',\n",
       "       'format': 'Standard Thumbnail',\n",
       "       'height': 75,\n",
       "       'width': 75},\n",
       "      {'url': 'https://static01.nyt.com/images/2025/06/18/multimedia/17dc-trump-bibi-01-bvkt/17dc-trump-bibi-01-bvkt-mediumThreeByTwo210.jpg',\n",
       "       'format': 'mediumThreeByTwo210',\n",
       "       'height': 140,\n",
       "       'width': 210},\n",
       "      {'url': 'https://static01.nyt.com/images/2025/06/18/multimedia/17dc-trump-bibi-01-bvkt/17dc-trump-bibi-01-bvkt-mediumThreeByTwo440.jpg',\n",
       "       'format': 'mediumThreeByTwo440',\n",
       "       'height': 293,\n",
       "       'width': 440}]}],\n",
       "   'eta_id': 0},\n",
       "  {'uri': 'nyt://article/732e4824-46c7-55a9-9d2c-c140948ad25e',\n",
       "   'url': 'https://www.nytimes.com/2025/06/17/us/politics/obama-speech-heather-cox-richardson-democrats.html',\n",
       "   'id': 100000010233882,\n",
       "   'asset_id': 100000010233882,\n",
       "   'source': 'New York Times',\n",
       "   'published_date': '2025-06-17',\n",
       "   'updated': '2025-06-17 22:59:39',\n",
       "   'section': 'U.S.',\n",
       "   'subsection': 'Politics',\n",
       "   'nytdsection': 'u.s.',\n",
       "   'adx_keywords': 'United States Politics and Government;Obama, Barack;Richardson, Heather Cox;Trump, Donald J;Democratic Party;Hartford (Conn)',\n",
       "   'column': None,\n",
       "   'byline': 'By Lisa Lerer',\n",
       "   'type': 'Article',\n",
       "   'title': 'Obama, Back in Public Eye, Offers a Careful Warning of a Democratic Slide',\n",
       "   'abstract': 'He spoke about the risks of autocracy during an appearance on Tuesday night with the writer Heather Cox Richardson at a time of deep volatility for his party, the country and the world.',\n",
       "   'des_facet': ['United States Politics and Government'],\n",
       "   'org_facet': ['Democratic Party'],\n",
       "   'per_facet': ['Obama, Barack',\n",
       "    'Richardson, Heather Cox',\n",
       "    'Trump, Donald J'],\n",
       "   'geo_facet': ['Hartford (Conn)'],\n",
       "   'media': [{'type': 'image',\n",
       "     'subtype': 'photo',\n",
       "     'caption': 'Former President Barack Obama at an event in Chicago last year. He has shied away from offering running commentary on politics or on President Trump.',\n",
       "     'copyright': 'Jamie Kelter Davis for The New York Times',\n",
       "     'approved_for_syndication': 1,\n",
       "     'media-metadata': [{'url': 'https://static01.nyt.com/images/2025/06/17/multimedia/17pol-obama-wpbq/17pol-obama-wpbq-thumbStandard.jpg',\n",
       "       'format': 'Standard Thumbnail',\n",
       "       'height': 75,\n",
       "       'width': 75},\n",
       "      {'url': 'https://static01.nyt.com/images/2025/06/17/multimedia/17pol-obama-wpbq/17pol-obama-wpbq-mediumThreeByTwo210.jpg',\n",
       "       'format': 'mediumThreeByTwo210',\n",
       "       'height': 140,\n",
       "       'width': 210},\n",
       "      {'url': 'https://static01.nyt.com/images/2025/06/17/multimedia/17pol-obama-wpbq/17pol-obama-wpbq-mediumThreeByTwo440.jpg',\n",
       "       'format': 'mediumThreeByTwo440',\n",
       "       'height': 293,\n",
       "       'width': 440}]}],\n",
       "   'eta_id': 0},\n",
       "  {'uri': 'nyt://article/9274dca8-49a8-5f06-b231-fbbb207eb0fd',\n",
       "   'url': 'https://www.nytimes.com/2025/06/17/us/politics/iran-israel-us-bases.html',\n",
       "   'id': 100000010234511,\n",
       "   'asset_id': 100000010234511,\n",
       "   'source': 'New York Times',\n",
       "   'published_date': '2025-06-17',\n",
       "   'updated': '2025-06-17 18:39:57',\n",
       "   'section': 'U.S.',\n",
       "   'subsection': 'Politics',\n",
       "   'nytdsection': 'u.s.',\n",
       "   'adx_keywords': 'International Relations;Iran-Israel Proxy Conflict;United States International Relations;Trump, Donald J;Iran;Israel',\n",
       "   'column': None,\n",
       "   'byline': 'By Julian E. Barnes, Farnaz Fassihi, Eric Schmitt and Helene Cooper',\n",
       "   'type': 'Article',\n",
       "   'title': 'Iran Is Preparing Missiles for Possible Retaliatory Strikes on U.S. Bases, Officials Say',\n",
       "   'abstract': 'American commanders have put troops on high alert throughout the region as fears of a wider war grow.',\n",
       "   'des_facet': ['International Relations',\n",
       "    'Iran-Israel Proxy Conflict',\n",
       "    'United States International Relations'],\n",
       "   'org_facet': [],\n",
       "   'per_facet': ['Trump, Donald J'],\n",
       "   'geo_facet': ['Iran', 'Israel'],\n",
       "   'media': [{'type': 'image',\n",
       "     'subtype': 'photo',\n",
       "     'caption': 'The U.S.S. Carl Vinson aircraft carrier in 2024. The carrier is currently steaming in the Arabian Sea. Iranian allies or proxies are expected to resume attacks on U.S. ships in the region if the United States joins Israel’s campaign.',\n",
       "     'copyright': 'Richard A. Brooks/Agence France-Presse — Getty Images',\n",
       "     'approved_for_syndication': 1,\n",
       "     'media-metadata': [{'url': 'https://static01.nyt.com/images/2025/06/17/multimedia/17dc-intel-zbpk/17dc-intel-zbpk-thumbStandard.jpg',\n",
       "       'format': 'Standard Thumbnail',\n",
       "       'height': 75,\n",
       "       'width': 75},\n",
       "      {'url': 'https://static01.nyt.com/images/2025/06/17/multimedia/17dc-intel-zbpk/17dc-intel-zbpk-mediumThreeByTwo210.jpg',\n",
       "       'format': 'mediumThreeByTwo210',\n",
       "       'height': 140,\n",
       "       'width': 210},\n",
       "      {'url': 'https://static01.nyt.com/images/2025/06/17/multimedia/17dc-intel-zbpk/17dc-intel-zbpk-mediumThreeByTwo440.jpg',\n",
       "       'format': 'mediumThreeByTwo440',\n",
       "       'height': 293,\n",
       "       'width': 440}]}],\n",
       "   'eta_id': 0},\n",
       "  {'uri': 'nyt://article/6a02d3cd-b67b-502c-99d3-2a5f6ab15162',\n",
       "   'url': 'https://www.nytimes.com/2025/06/17/opinion/trump-third-impeachment.html',\n",
       "   'id': 100000010232657,\n",
       "   'asset_id': 100000010232657,\n",
       "   'source': 'New York Times',\n",
       "   'published_date': '2025-06-17',\n",
       "   'updated': '2025-06-17 22:42:13',\n",
       "   'section': 'Opinion',\n",
       "   'subsection': '',\n",
       "   'nytdsection': 'opinion',\n",
       "   'adx_keywords': 'United States Politics and Government;Freedom of Speech and Expression;Ethics and Official Misconduct;Impeachment;Deportation;Federal Aid (US);Amnesties, Commutations and Pardons;Trump, Donald J;Republican Party;United States',\n",
       "   'column': None,\n",
       "   'byline': 'By Thomas B. Edsall',\n",
       "   'type': 'Article',\n",
       "   'title': 'Could the Third Time Be the Charm on Impeachment and Removal?',\n",
       "   'abstract': 'There are many legitimate reasons to try Trump a third time. Don’t hold your breath.',\n",
       "   'des_facet': ['United States Politics and Government',\n",
       "    'Freedom of Speech and Expression',\n",
       "    'Ethics and Official Misconduct',\n",
       "    'Impeachment',\n",
       "    'Deportation',\n",
       "    'Federal Aid (US)',\n",
       "    'Amnesties, Commutations and Pardons'],\n",
       "   'org_facet': ['Republican Party'],\n",
       "   'per_facet': ['Trump, Donald J'],\n",
       "   'geo_facet': ['United States'],\n",
       "   'media': [{'type': 'image',\n",
       "     'subtype': 'photo',\n",
       "     'caption': '',\n",
       "     'copyright': 'Mark Peterson for The New York Times',\n",
       "     'approved_for_syndication': 1,\n",
       "     'media-metadata': [{'url': 'https://static01.nyt.com/images/2025/06/17/multimedia/17edsall-new-chlb/17edsall-new-chlb-thumbStandard.jpg',\n",
       "       'format': 'Standard Thumbnail',\n",
       "       'height': 75,\n",
       "       'width': 75},\n",
       "      {'url': 'https://static01.nyt.com/images/2025/06/17/multimedia/17edsall-new-chlb/17edsall-new-chlb-mediumThreeByTwo210.jpg',\n",
       "       'format': 'mediumThreeByTwo210',\n",
       "       'height': 140,\n",
       "       'width': 210},\n",
       "      {'url': 'https://static01.nyt.com/images/2025/06/17/multimedia/17edsall-new-chlb/17edsall-new-chlb-mediumThreeByTwo440.jpg',\n",
       "       'format': 'mediumThreeByTwo440',\n",
       "       'height': 293,\n",
       "       'width': 440}]}],\n",
       "   'eta_id': 0},\n",
       "  {'uri': 'nyt://article/71d8f577-633a-5b5a-ba44-03bd579d19cd',\n",
       "   'url': 'https://www.nytimes.com/2025/06/16/us/politics/trump-travel-ban.html',\n",
       "   'id': 100000010232194,\n",
       "   'asset_id': 100000010232194,\n",
       "   'source': 'New York Times',\n",
       "   'published_date': '2025-06-16',\n",
       "   'updated': '2025-06-17 13:37:41',\n",
       "   'section': 'U.S.',\n",
       "   'subsection': 'Politics',\n",
       "   'nytdsection': 'u.s.',\n",
       "   'adx_keywords': 'United States International Relations;Trump Travel Bans;Deportation;Visas;Trump, Donald J;State Department;Africa;Angola;Antigua and Barbuda;Benin;Bhutan;Burkina Faso;Cambodia;Cameroon;Cape Verde;Congo, Democratic Republic of (Congo-Kinshasa);Djibouti;Dominica;Egypt;Gabon;Gambia;Ghana;Ivory Coast;Kyrgyzstan;Liberia;Malawi;Mauritania;Niger;Nigeria;St Kitts and Nevis;St Lucia;Sao Tome and Principe;Senegal;South Sudan;Syria;Tanzania;Tonga;Tuvalu;Uganda;Vanuatu;Zambia;Zimbabwe',\n",
       "   'column': None,\n",
       "   'byline': 'By Charlie Savage and Edward Wong',\n",
       "   'type': 'Article',\n",
       "   'title': '36 More Countries May Be Added to Trump’s Travel Ban',\n",
       "   'abstract': 'The administration gave the nations 60 days to fix concerns, according to a State Department cable. The president already imposed a full or partial ban on citizens of 19 countries.',\n",
       "   'des_facet': ['United States International Relations',\n",
       "    'Trump Travel Bans',\n",
       "    'Deportation',\n",
       "    'Visas'],\n",
       "   'org_facet': ['State Department'],\n",
       "   'per_facet': ['Trump, Donald J'],\n",
       "   'geo_facet': ['Africa',\n",
       "    'Angola',\n",
       "    'Antigua and Barbuda',\n",
       "    'Benin',\n",
       "    'Bhutan',\n",
       "    'Burkina Faso',\n",
       "    'Cambodia',\n",
       "    'Cameroon',\n",
       "    'Cape Verde',\n",
       "    'Congo, Democratic Republic of (Congo-Kinshasa)',\n",
       "    'Djibouti',\n",
       "    'Dominica',\n",
       "    'Egypt',\n",
       "    'Gabon',\n",
       "    'Gambia',\n",
       "    'Ghana',\n",
       "    'Ivory Coast',\n",
       "    'Kyrgyzstan',\n",
       "    'Liberia',\n",
       "    'Malawi',\n",
       "    'Mauritania',\n",
       "    'Niger',\n",
       "    'Nigeria',\n",
       "    'St Kitts and Nevis',\n",
       "    'St Lucia',\n",
       "    'Sao Tome and Principe',\n",
       "    'Senegal',\n",
       "    'South Sudan',\n",
       "    'Syria',\n",
       "    'Tanzania',\n",
       "    'Tonga',\n",
       "    'Tuvalu',\n",
       "    'Uganda',\n",
       "    'Vanuatu',\n",
       "    'Zambia',\n",
       "    'Zimbabwe'],\n",
       "   'media': [{'type': 'image',\n",
       "     'subtype': 'photo',\n",
       "     'caption': 'The Trump administration set a Wednesday deadline for countries facing a potential travel ban to provide remediation plans.',\n",
       "     'copyright': 'Kenny Holston/The New York Times',\n",
       "     'approved_for_syndication': 1,\n",
       "     'media-metadata': [{'url': 'https://static01.nyt.com/images/2025/06/16/multimedia/trump-travel-1-vpcf/trump-travel-1-vpcf-thumbStandard.jpg',\n",
       "       'format': 'Standard Thumbnail',\n",
       "       'height': 75,\n",
       "       'width': 75},\n",
       "      {'url': 'https://static01.nyt.com/images/2025/06/16/multimedia/trump-travel-1-vpcf/trump-travel-1-vpcf-mediumThreeByTwo210.jpg',\n",
       "       'format': 'mediumThreeByTwo210',\n",
       "       'height': 140,\n",
       "       'width': 210},\n",
       "      {'url': 'https://static01.nyt.com/images/2025/06/16/multimedia/trump-travel-1-vpcf/trump-travel-1-vpcf-mediumThreeByTwo440.jpg',\n",
       "       'format': 'mediumThreeByTwo440',\n",
       "       'height': 293,\n",
       "       'width': 440}]}],\n",
       "   'eta_id': 0},\n",
       "  {'uri': 'nyt://article/65749417-97aa-5bf3-bebd-cc23769dd463',\n",
       "   'url': 'https://www.nytimes.com/2025/06/17/arts/television/best-tv-shows-2025-so-far.html',\n",
       "   'id': 100000010219694,\n",
       "   'asset_id': 100000010219694,\n",
       "   'source': 'New York Times',\n",
       "   'published_date': '2025-06-17',\n",
       "   'updated': '2025-06-17 18:02:48',\n",
       "   'section': 'Arts',\n",
       "   'subsection': 'Television',\n",
       "   'nytdsection': 'arts',\n",
       "   'adx_keywords': 'Television',\n",
       "   'column': None,\n",
       "   'byline': 'By The New York Times',\n",
       "   'type': 'Article',\n",
       "   'title': 'The Best TV Shows of 2025, So Far',\n",
       "   'abstract': 'Returning hits like “Severance” and “The White Lotus” inspired plenty of chatter, but did they make our top TV list?',\n",
       "   'des_facet': ['Television'],\n",
       "   'org_facet': [],\n",
       "   'per_facet': [],\n",
       "   'geo_facet': [],\n",
       "   'media': [{'type': 'image',\n",
       "     'subtype': 'photo',\n",
       "     'caption': 'Adam Scott in the second season of “Severance.”',\n",
       "     'copyright': 'Jon Pack/Apple TV+, via Associated Press',\n",
       "     'approved_for_syndication': 1,\n",
       "     'media-metadata': [{'url': 'https://static01.nyt.com/images/2025/06/17/multimedia/17cul-bestTV-severance-cvkg/17cul-bestTV-severance-cvkg-thumbStandard.jpg',\n",
       "       'format': 'Standard Thumbnail',\n",
       "       'height': 75,\n",
       "       'width': 75},\n",
       "      {'url': 'https://static01.nyt.com/images/2025/06/17/multimedia/17cul-bestTV-severance-cvkg/17cul-bestTV-severance-cvkg-mediumThreeByTwo210.jpg',\n",
       "       'format': 'mediumThreeByTwo210',\n",
       "       'height': 140,\n",
       "       'width': 210},\n",
       "      {'url': 'https://static01.nyt.com/images/2025/06/17/multimedia/17cul-bestTV-severance-cvkg/17cul-bestTV-severance-cvkg-mediumThreeByTwo440.jpg',\n",
       "       'format': 'mediumThreeByTwo440',\n",
       "       'height': 293,\n",
       "       'width': 440}]}],\n",
       "   'eta_id': 0},\n",
       "  {'uri': 'nyt://article/261fb30e-f039-5732-93e7-622c2d7b4eb1',\n",
       "   'url': 'https://www.nytimes.com/2025/06/17/magazine/ai-new-jobs.html',\n",
       "   'id': 100000010211093,\n",
       "   'asset_id': 100000010211093,\n",
       "   'source': 'New York Times',\n",
       "   'published_date': '2025-06-17',\n",
       "   'updated': '2025-06-17 13:19:31',\n",
       "   'section': 'Magazine',\n",
       "   'subsection': '',\n",
       "   'nytdsection': 'magazine',\n",
       "   'adx_keywords': 'Artificial Intelligence;Innovation;Labor and Jobs;Workplace Environment;Creativity;Careers and Professions;Entrepreneurship;Writing and Writers',\n",
       "   'column': None,\n",
       "   'byline': 'By Robert Capps',\n",
       "   'type': 'Article',\n",
       "   'title': 'A.I. Might Take Your Job. Here Are 22 New Ones It Could Give You.',\n",
       "   'abstract': 'In a few key areas, humans will be more essential than ever.',\n",
       "   'des_facet': ['Artificial Intelligence',\n",
       "    'Innovation',\n",
       "    'Labor and Jobs',\n",
       "    'Workplace Environment',\n",
       "    'Creativity',\n",
       "    'Careers and Professions',\n",
       "    'Entrepreneurship',\n",
       "    'Writing and Writers'],\n",
       "   'org_facet': [],\n",
       "   'per_facet': [],\n",
       "   'geo_facet': [],\n",
       "   'media': [],\n",
       "   'eta_id': 0},\n",
       "  {'uri': 'nyt://article/d48f0a7c-cc0b-501b-b2aa-c68ed6919a58',\n",
       "   'url': 'https://www.nytimes.com/2025/06/17/nyregion/new-jersey-homeschool-teenage-girl-abused.html',\n",
       "   'id': 100000010199461,\n",
       "   'asset_id': 100000010199461,\n",
       "   'source': 'New York Times',\n",
       "   'published_date': '2025-06-17',\n",
       "   'updated': '2025-06-17 13:12:39',\n",
       "   'section': 'New York',\n",
       "   'subsection': '',\n",
       "   'nytdsection': 'new york',\n",
       "   'adx_keywords': 'Child Abuse and Neglect;Home Schooling;Police;Sex Crimes;Dogs;Education (K-12);Spencer, Brenda (1986- );Department of Children and Families (NJ);Blackwood (NJ);Camden County (NJ);New Jersey',\n",
       "   'column': None,\n",
       "   'byline': 'By Sarah Maslin Nir',\n",
       "   'type': 'Article',\n",
       "   'title': 'They Said She Was Home-Schooled. She Said She Was Locked in a Dog Crate.',\n",
       "   'abstract': 'A teenage girl fled her home last month after what she said was years of abuse. Prosecutors called what had happened to her “beyond heinous.”',\n",
       "   'des_facet': ['Child Abuse and Neglect',\n",
       "    'Home Schooling',\n",
       "    'Police',\n",
       "    'Sex Crimes',\n",
       "    'Dogs',\n",
       "    'Education (K-12)'],\n",
       "   'org_facet': ['Department of Children and Families (NJ)'],\n",
       "   'per_facet': ['Spencer, Brenda (1986- )'],\n",
       "   'geo_facet': ['Blackwood (NJ)', 'Camden County (NJ)', 'New Jersey'],\n",
       "   'media': [{'type': 'image',\n",
       "     'subtype': 'photo',\n",
       "     'caption': 'An 18-year-old girl who said she had been abused for years fled to the home of a neighbor in Blackwood, N.J., last month. She said she had been kept in a dog crate.',\n",
       "     'copyright': 'Rachel Wisniewski for The New York Times',\n",
       "     'approved_for_syndication': 1,\n",
       "     'media-metadata': [{'url': 'https://static01.nyt.com/images/2025/06/22/nyregion/22met-nj-captive-01-mvlh/00met-nj-captive-01-mvlh-thumbStandard.jpg',\n",
       "       'format': 'Standard Thumbnail',\n",
       "       'height': 75,\n",
       "       'width': 75},\n",
       "      {'url': 'https://static01.nyt.com/images/2025/06/22/nyregion/22met-nj-captive-01-mvlh/00met-nj-captive-01-mvlh-mediumThreeByTwo210.jpg',\n",
       "       'format': 'mediumThreeByTwo210',\n",
       "       'height': 140,\n",
       "       'width': 210},\n",
       "      {'url': 'https://static01.nyt.com/images/2025/06/22/nyregion/22met-nj-captive-01-mvlh/00met-nj-captive-01-mvlh-mediumThreeByTwo440.jpg',\n",
       "       'format': 'mediumThreeByTwo440',\n",
       "       'height': 293,\n",
       "       'width': 440}]}],\n",
       "   'eta_id': 0},\n",
       "  {'uri': 'nyt://article/2669488d-d9cb-55f4-ab80-4cd4fe298ecd',\n",
       "   'url': 'https://www.nytimes.com/2025/06/16/us/politics/mike-lee-minnesota-assassination-democrats.html',\n",
       "   'id': 100000010232181,\n",
       "   'asset_id': 100000010232181,\n",
       "   'source': 'New York Times',\n",
       "   'published_date': '2025-06-16',\n",
       "   'updated': '2025-06-16 22:38:13',\n",
       "   'section': 'U.S.',\n",
       "   'subsection': 'Politics',\n",
       "   'nytdsection': 'u.s.',\n",
       "   'adx_keywords': 'United States Politics and Government;Assassinations and Attempted Assassinations;Shootings of Minnesota Legislators (2025);Governors (US);Social Media;Conservatism (US Politics);Hortman, Melissa (1970-2025);Hoffman, John A (1965- );Lee, Michael S (1971- );Minnesota;Utah',\n",
       "   'column': None,\n",
       "   'byline': 'By Annie Karni and Megan Mineiro',\n",
       "   'type': 'Article',\n",
       "   'title': 'Mike Lee Draws Outrage for Posts Blaming Assassination on the Far Left',\n",
       "   'abstract': 'The Republican senator from Utah suggested in social media posts that the killings were the work of “Marxists,” and mocked Minnesota’s Democratic governor. He later issued a more sober condemnation of the violence.',\n",
       "   'des_facet': ['United States Politics and Government',\n",
       "    'Assassinations and Attempted Assassinations',\n",
       "    'Shootings of Minnesota Legislators (2025)',\n",
       "    'Governors (US)',\n",
       "    'Social Media',\n",
       "    'Conservatism (US Politics)'],\n",
       "   'org_facet': [],\n",
       "   'per_facet': ['Hortman, Melissa (1970-2025)',\n",
       "    'Hoffman, John A (1965- )',\n",
       "    'Lee, Michael S (1971- )'],\n",
       "   'geo_facet': ['Minnesota', 'Utah'],\n",
       "   'media': [{'type': 'image',\n",
       "     'subtype': 'photo',\n",
       "     'caption': 'Senator Mike Lee of Utah at the Senate Judiciary Committee confirmation hearing at the Capitol in Washington earlier this year.',\n",
       "     'copyright': 'Haiyun Jiang for The New York Times',\n",
       "     'approved_for_syndication': 1,\n",
       "     'media-metadata': [{'url': 'https://static01.nyt.com/images/2025/06/16/multimedia/16minn-shooting-lee1-ghmw/16minn-shooting-lee1-ghmw-thumbStandard.jpg',\n",
       "       'format': 'Standard Thumbnail',\n",
       "       'height': 75,\n",
       "       'width': 75},\n",
       "      {'url': 'https://static01.nyt.com/images/2025/06/16/multimedia/16minn-shooting-lee1-ghmw/16minn-shooting-lee1-ghmw-mediumThreeByTwo210.jpg',\n",
       "       'format': 'mediumThreeByTwo210',\n",
       "       'height': 140,\n",
       "       'width': 210},\n",
       "      {'url': 'https://static01.nyt.com/images/2025/06/16/multimedia/16minn-shooting-lee1-ghmw/16minn-shooting-lee1-ghmw-mediumThreeByTwo440.jpg',\n",
       "       'format': 'mediumThreeByTwo440',\n",
       "       'height': 293,\n",
       "       'width': 440}]}],\n",
       "   'eta_id': 0},\n",
       "  {'uri': 'nyt://article/52228e2d-9135-5835-aedc-3ec8a3d1803d',\n",
       "   'url': 'https://www.nytimes.com/2025/06/16/us/politics/iran-nuclear-site-israel.html',\n",
       "   'id': 100000010232057,\n",
       "   'asset_id': 100000010232057,\n",
       "   'source': 'New York Times',\n",
       "   'published_date': '2025-06-16',\n",
       "   'updated': '2025-06-17 23:21:56',\n",
       "   'section': 'U.S.',\n",
       "   'subsection': 'Politics',\n",
       "   'nytdsection': 'u.s.',\n",
       "   'adx_keywords': 'Defense and Military Forces;War and Armed Conflicts;United States Defense and Military Forces;Nuclear Weapons;Military Aircraft;United States International Relations;Iran-Israel Proxy Conflict;Trump, Donald J;Iran;Israel',\n",
       "   'column': None,\n",
       "   'byline': 'By Helene Cooper, Eric Schmitt and Samuel Granados',\n",
       "   'type': 'Article',\n",
       "   'title': 'Iran’s Best-Protected Nuclear Site Is Deep Underground',\n",
       "   'abstract': 'Only the U.S. military has the 30,000-pound bomb capable of reaching the facility and the bomber that can carry it.',\n",
       "   'des_facet': ['Defense and Military Forces',\n",
       "    'War and Armed Conflicts',\n",
       "    'United States Defense and Military Forces',\n",
       "    'Nuclear Weapons',\n",
       "    'Military Aircraft',\n",
       "    'United States International Relations',\n",
       "    'Iran-Israel Proxy Conflict'],\n",
       "   'org_facet': [],\n",
       "   'per_facet': ['Trump, Donald J'],\n",
       "   'geo_facet': ['Iran', 'Israel'],\n",
       "   'media': [{'type': 'image',\n",
       "     'subtype': 'photo',\n",
       "     'caption': '',\n",
       "     'copyright': '',\n",
       "     'approved_for_syndication': 1,\n",
       "     'media-metadata': [{'url': 'https://static01.nyt.com/images/2025/06/16/multimedia/2025-06-16-fordo-nuclear-site-index/2025-06-16-fordo-nuclear-site-index-thumbStandard-v2.jpg',\n",
       "       'format': 'Standard Thumbnail',\n",
       "       'height': 75,\n",
       "       'width': 75},\n",
       "      {'url': 'https://static01.nyt.com/images/2025/06/16/multimedia/2025-06-16-fordo-nuclear-site-index/2025-06-16-fordo-nuclear-site-index-mediumThreeByTwo210.jpg',\n",
       "       'format': 'mediumThreeByTwo210',\n",
       "       'height': 140,\n",
       "       'width': 210},\n",
       "      {'url': 'https://static01.nyt.com/images/2025/06/16/multimedia/2025-06-16-fordo-nuclear-site-index/2025-06-16-fordo-nuclear-site-index-mediumThreeByTwo440.jpg',\n",
       "       'format': 'mediumThreeByTwo440',\n",
       "       'height': 293,\n",
       "       'width': 440}]}],\n",
       "   'eta_id': 0},\n",
       "  {'uri': 'nyt://article/d12fdd6b-2fa3-59be-b6ba-2773ed1a7a24',\n",
       "   'url': 'https://www.nytimes.com/2025/06/17/opinion/ezra-klein-podcast-sarah-mcbride.html',\n",
       "   'id': 100000010228120,\n",
       "   'asset_id': 100000010228120,\n",
       "   'source': 'New York Times',\n",
       "   'published_date': '2025-06-17',\n",
       "   'updated': '2025-06-17 10:50:19',\n",
       "   'section': 'Opinion',\n",
       "   'subsection': '',\n",
       "   'nytdsection': 'opinion',\n",
       "   'adx_keywords': 'United States Politics and Government;Transgender;Polls and Public Opinion;Politics and Government;Discrimination;Civil Rights and Liberties;Gender;Law and Legislation;Liberalism (US Politics);McBride, Sarah (1990- )',\n",
       "   'column': None,\n",
       "   'byline': 'By Ezra Klein',\n",
       "   'type': 'Article',\n",
       "   'title': 'Sarah McBride on Why the Left Lost on Trans Rights',\n",
       "   'abstract': 'Representative Sarah McBride reckons with the trans rights movement’s shortcomings, and how to win hearts and minds through a politics of grace.',\n",
       "   'des_facet': ['United States Politics and Government',\n",
       "    'Transgender',\n",
       "    'Polls and Public Opinion',\n",
       "    'Politics and Government',\n",
       "    'Discrimination',\n",
       "    'Civil Rights and Liberties',\n",
       "    'Gender',\n",
       "    'Law and Legislation',\n",
       "    'Liberalism (US Politics)'],\n",
       "   'org_facet': [],\n",
       "   'per_facet': ['McBride, Sarah (1990- )'],\n",
       "   'geo_facet': [],\n",
       "   'media': [{'type': 'image',\n",
       "     'subtype': 'photo',\n",
       "     'caption': '',\n",
       "     'copyright': 'The New York Times',\n",
       "     'approved_for_syndication': 1,\n",
       "     'media-metadata': [{'url': 'https://static01.nyt.com/images/2025/06/17/opinion/17eks-mcbride-image/17eks-mcbride-image-thumbStandard.jpg',\n",
       "       'format': 'Standard Thumbnail',\n",
       "       'height': 75,\n",
       "       'width': 75},\n",
       "      {'url': 'https://static01.nyt.com/images/2025/06/17/opinion/17eks-mcbride-image/17eks-mcbride-image-mediumThreeByTwo210.jpg',\n",
       "       'format': 'mediumThreeByTwo210',\n",
       "       'height': 140,\n",
       "       'width': 210},\n",
       "      {'url': 'https://static01.nyt.com/images/2025/06/17/opinion/17eks-mcbride-image/17eks-mcbride-image-mediumThreeByTwo440.jpg',\n",
       "       'format': 'mediumThreeByTwo440',\n",
       "       'height': 293,\n",
       "       'width': 440}]}],\n",
       "   'eta_id': 0},\n",
       "  {'uri': 'nyt://article/d90aba6b-e506-5fe4-80fb-2eae4c9d0217',\n",
       "   'url': 'https://www.nytimes.com/2025/06/16/world/canada/trump-g7-russia-ukraine.html',\n",
       "   'id': 100000010232796,\n",
       "   'asset_id': 100000010232796,\n",
       "   'source': 'New York Times',\n",
       "   'published_date': '2025-06-16',\n",
       "   'updated': '2025-06-17 23:28:41',\n",
       "   'section': 'World',\n",
       "   'subsection': 'Canada',\n",
       "   'nytdsection': 'world',\n",
       "   'adx_keywords': 'United States International Relations;International Relations;Russian Invasion of Ukraine (2022);Embargoes and Sanctions;Trump, Donald J;Putin, Vladimir V;Group of Seven;Canada;United States;Great Britain;Russia;Ukraine;Europe',\n",
       "   'column': None,\n",
       "   'byline': 'By Erica L. Green and Zolan Kanno-Youngs',\n",
       "   'type': 'Article',\n",
       "   'title': 'Trump Renews Embrace of Putin Amid Rift With Allies',\n",
       "   'abstract': 'President Trump opened his remarks at the Group of 7 gathering of industrialized nations by criticizing the decision to expel Russia from the bloc after Moscow’s 2014 “annexation” of Crimea.',\n",
       "   'des_facet': ['United States International Relations',\n",
       "    'International Relations',\n",
       "    'Russian Invasion of Ukraine (2022)',\n",
       "    'Embargoes and Sanctions'],\n",
       "   'org_facet': ['Group of Seven'],\n",
       "   'per_facet': ['Trump, Donald J', 'Putin, Vladimir V'],\n",
       "   'geo_facet': ['Canada',\n",
       "    'United States',\n",
       "    'Great Britain',\n",
       "    'Russia',\n",
       "    'Ukraine',\n",
       "    'Europe'],\n",
       "   'media': [{'type': 'image',\n",
       "     'subtype': 'photo',\n",
       "     'caption': '“Putin speaks to me; he doesn’t speak to anybody else,” President Trump said, “because he was very insulted when he got thrown out at the G8, as I would be, as you would be, as anybody would be.”',\n",
       "     'copyright': 'Kenny Holston/The New York Times',\n",
       "     'approved_for_syndication': 1,\n",
       "     'media-metadata': [{'url': 'https://static01.nyt.com/images/2025/06/16/multimedia/16int-g7-trump-russia/16int-g7-trump-russia-thumbStandard.jpg',\n",
       "       'format': 'Standard Thumbnail',\n",
       "       'height': 75,\n",
       "       'width': 75},\n",
       "      {'url': 'https://static01.nyt.com/images/2025/06/16/multimedia/16int-g7-trump-russia/16int-g7-trump-russia-mediumThreeByTwo210-v2.jpg',\n",
       "       'format': 'mediumThreeByTwo210',\n",
       "       'height': 140,\n",
       "       'width': 210},\n",
       "      {'url': 'https://static01.nyt.com/images/2025/06/16/multimedia/16int-g7-trump-russia/16int-g7-trump-russia-mediumThreeByTwo440-v2.jpg',\n",
       "       'format': 'mediumThreeByTwo440',\n",
       "       'height': 293,\n",
       "       'width': 440}]}],\n",
       "   'eta_id': 0},\n",
       "  {'uri': 'nyt://article/4165d23e-8955-59ae-8e04-cf73e1972e13',\n",
       "   'url': 'https://www.nytimes.com/2025/06/17/business/media/trump-tucker-carlson-fox-news.html',\n",
       "   'id': 100000010234498,\n",
       "   'asset_id': 100000010234498,\n",
       "   'source': 'New York Times',\n",
       "   'published_date': '2025-06-17',\n",
       "   'updated': '2025-06-17 16:44:26',\n",
       "   'section': 'Business',\n",
       "   'subsection': 'Media',\n",
       "   'nytdsection': 'business',\n",
       "   'adx_keywords': 'News and News Media;Bannon, Stephen K;Carlson, Tucker;Levin, Mark Reed;Trump, Donald J;Fox News Channel;Iran',\n",
       "   'column': None,\n",
       "   'byline': 'By Michael M. Grynbaum',\n",
       "   'type': 'Article',\n",
       "   'title': 'A Tucker-Trump Dispute, With Fox News Caught in the Crossfire',\n",
       "   'abstract': 'As President Trump edges toward involvement in the Israel-Iran war, some of his longtime supporters in right-wing media are questioning his judgment.',\n",
       "   'des_facet': ['News and News Media'],\n",
       "   'org_facet': ['Fox News Channel'],\n",
       "   'per_facet': ['Bannon, Stephen K',\n",
       "    'Carlson, Tucker',\n",
       "    'Levin, Mark Reed',\n",
       "    'Trump, Donald J'],\n",
       "   'geo_facet': ['Iran'],\n",
       "   'media': [{'type': 'image',\n",
       "     'subtype': 'photo',\n",
       "     'caption': 'Tucker Carlson at a campaign rally for President Trump last year.',\n",
       "     'copyright': 'Hiroko Masuike/The New York Times',\n",
       "     'approved_for_syndication': 1,\n",
       "     'media-metadata': [{'url': 'https://static01.nyt.com/images/2025/06/17/multimedia/17biz-carlson1-qvhp/17biz-carlson1-qvhp-thumbStandard.jpg',\n",
       "       'format': 'Standard Thumbnail',\n",
       "       'height': 75,\n",
       "       'width': 75},\n",
       "      {'url': 'https://static01.nyt.com/images/2025/06/17/multimedia/17biz-carlson1-qvhp/17biz-carlson1-qvhp-mediumThreeByTwo210.jpg',\n",
       "       'format': 'mediumThreeByTwo210',\n",
       "       'height': 140,\n",
       "       'width': 210},\n",
       "      {'url': 'https://static01.nyt.com/images/2025/06/17/multimedia/17biz-carlson1-qvhp/17biz-carlson1-qvhp-mediumThreeByTwo440.jpg',\n",
       "       'format': 'mediumThreeByTwo440',\n",
       "       'height': 293,\n",
       "       'width': 440}]}],\n",
       "   'eta_id': 0},\n",
       "  {'uri': 'nyt://article/a6de1632-2a16-5d6c-8d6a-6007dd575ce0',\n",
       "   'url': 'https://www.nytimes.com/2025/06/16/opinion/trump-israel-iran-war.html',\n",
       "   'id': 100000010231450,\n",
       "   'asset_id': 100000010231450,\n",
       "   'source': 'New York Times',\n",
       "   'published_date': '2025-06-16',\n",
       "   'updated': '2025-06-17 20:58:56',\n",
       "   'section': 'Opinion',\n",
       "   'subsection': '',\n",
       "   'nytdsection': 'opinion',\n",
       "   'adx_keywords': 'War and Armed Conflicts;Israel-Gaza War (2023- );Palestinians;United States International Relations;Iran-Israel Proxy Conflict;Jews and Judaism;Trump, Donald J;Netanyahu, Benjamin;Hezbollah;Israel;Iran;Gaza Strip',\n",
       "   'column': None,\n",
       "   'byline': 'By Thomas L. Friedman',\n",
       "   'type': 'Article',\n",
       "   'title': 'The Smart Way for Trump to End the Israel-Iran War',\n",
       "   'abstract': 'President Trump has a chance to create the best opportunity for stabilizing the Middle East in decades, if he is up to it.',\n",
       "   'des_facet': ['War and Armed Conflicts',\n",
       "    'Israel-Gaza War (2023- )',\n",
       "    'Palestinians',\n",
       "    'United States International Relations',\n",
       "    'Iran-Israel Proxy Conflict',\n",
       "    'Jews and Judaism'],\n",
       "   'org_facet': ['Hezbollah'],\n",
       "   'per_facet': ['Trump, Donald J', 'Netanyahu, Benjamin'],\n",
       "   'geo_facet': ['Israel', 'Iran', 'Gaza Strip'],\n",
       "   'media': [{'type': 'image',\n",
       "     'subtype': 'photo',\n",
       "     'caption': '',\n",
       "     'copyright': 'Eyad Baba/Agence France-Presse — Getty Images',\n",
       "     'approved_for_syndication': 1,\n",
       "     'media-metadata': [{'url': 'https://static01.nyt.com/images/2025/06/16/multimedia/16friedman-hlgb/16friedman-hlgb-thumbStandard.jpg',\n",
       "       'format': 'Standard Thumbnail',\n",
       "       'height': 75,\n",
       "       'width': 75},\n",
       "      {'url': 'https://static01.nyt.com/images/2025/06/16/multimedia/16friedman-hlgb/16friedman-hlgb-mediumThreeByTwo210.jpg',\n",
       "       'format': 'mediumThreeByTwo210',\n",
       "       'height': 140,\n",
       "       'width': 210},\n",
       "      {'url': 'https://static01.nyt.com/images/2025/06/16/multimedia/16friedman-hlgb/16friedman-hlgb-mediumThreeByTwo440.jpg',\n",
       "       'format': 'mediumThreeByTwo440',\n",
       "       'height': 293,\n",
       "       'width': 440}]}],\n",
       "   'eta_id': 0},\n",
       "  {'uri': 'nyt://article/f5b40786-7df6-5e20-9a5a-624399894e86',\n",
       "   'url': 'https://www.nytimes.com/2025/06/17/nyregion/prison-robert-menendez.html',\n",
       "   'id': 100000010222036,\n",
       "   'asset_id': 100000010222036,\n",
       "   'source': 'New York Times',\n",
       "   'published_date': '2025-06-17',\n",
       "   'updated': '2025-06-17 22:25:14',\n",
       "   'section': 'New York',\n",
       "   'subsection': '',\n",
       "   'nytdsection': 'new york',\n",
       "   'adx_keywords': 'Corruption (Institutional);Bribery and Kickbacks;United States Politics and Government;Prisons and Prisoners;Menendez, Robert;Menendez, Nadine;Trump, Donald J;Stein, Sidney H;Federal Correctional Institution, Schuylkill;New Jersey;Pennsylvania',\n",
       "   'column': None,\n",
       "   'byline': 'By Tracey Tully',\n",
       "   'type': 'Article',\n",
       "   'title': 'A Senator’s Fall From Grace Ends in a Grim Federal Lockup',\n",
       "   'abstract': 'For decades, Robert Menendez, 71, was one of New Jersey’s most influential Democrats. He began serving an 11-year sentence on Tuesday.',\n",
       "   'des_facet': ['Corruption (Institutional)',\n",
       "    'Bribery and Kickbacks',\n",
       "    'United States Politics and Government',\n",
       "    'Prisons and Prisoners'],\n",
       "   'org_facet': ['Federal Correctional Institution, Schuylkill'],\n",
       "   'per_facet': ['Menendez, Robert',\n",
       "    'Menendez, Nadine',\n",
       "    'Trump, Donald J',\n",
       "    'Stein, Sidney H'],\n",
       "   'geo_facet': ['New Jersey', 'Pennsylvania'],\n",
       "   'media': [{'type': 'image',\n",
       "     'subtype': 'photo',\n",
       "     'caption': 'Robert Menendez was convicted of political corruption. His wife, Nadine Menendez, is expected to be sentenced in September for her role in the scheme.',\n",
       "     'copyright': 'Hiroko Masuike/The New York Times',\n",
       "     'approved_for_syndication': 1,\n",
       "     'media-metadata': [{'url': 'https://static01.nyt.com/images/2025/06/17/multimedia/17met-menendez-prison-gvpb/17met-menendez-prison-gvpb-thumbStandard.jpg',\n",
       "       'format': 'Standard Thumbnail',\n",
       "       'height': 75,\n",
       "       'width': 75},\n",
       "      {'url': 'https://static01.nyt.com/images/2025/06/17/multimedia/17met-menendez-prison-gvpb/17met-menendez-prison-gvpb-mediumThreeByTwo210.jpg',\n",
       "       'format': 'mediumThreeByTwo210',\n",
       "       'height': 140,\n",
       "       'width': 210},\n",
       "      {'url': 'https://static01.nyt.com/images/2025/06/17/multimedia/17met-menendez-prison-gvpb/17met-menendez-prison-gvpb-mediumThreeByTwo440.jpg',\n",
       "       'format': 'mediumThreeByTwo440',\n",
       "       'height': 293,\n",
       "       'width': 440}]}],\n",
       "   'eta_id': 0},\n",
       "  {'uri': 'nyt://article/423fd172-cd82-5277-8dbb-245764b8eb8d',\n",
       "   'url': 'https://www.nytimes.com/2025/06/17/us/politics/virginia-governor-election-spanberger-earle-sears.html',\n",
       "   'id': 100000010231519,\n",
       "   'asset_id': 100000010231519,\n",
       "   'source': 'New York Times',\n",
       "   'published_date': '2025-06-17',\n",
       "   'updated': '2025-06-17 22:08:21',\n",
       "   'section': 'U.S.',\n",
       "   'subsection': 'Politics',\n",
       "   'nytdsection': 'u.s.',\n",
       "   'adx_keywords': 'Elections, Governors;United States Politics and Government;Primaries and Caucuses;Layoffs and Job Reductions;Spanberger, Abigail;Earle-Sears, Winsome;Trump, Donald J;Youngkin, Glenn A;Democratic Party;Republican Party;Virginia',\n",
       "   'column': None,\n",
       "   'byline': 'By Reid J. Epstein',\n",
       "   'type': 'Article',\n",
       "   'title': 'Republicans Fight Uphill in Virginia Race That Will Test Anger at Trump',\n",
       "   'abstract': 'The Democratic candidate for governor, Abigail Spanberger, is raising far more cash than her Republican rival, Winsome Earle-Sears, in a state where federal work force cuts are being acutely felt.',\n",
       "   'des_facet': ['Elections, Governors',\n",
       "    'United States Politics and Government',\n",
       "    'Primaries and Caucuses',\n",
       "    'Layoffs and Job Reductions'],\n",
       "   'org_facet': ['Democratic Party', 'Republican Party'],\n",
       "   'per_facet': ['Spanberger, Abigail',\n",
       "    'Earle-Sears, Winsome',\n",
       "    'Trump, Donald J',\n",
       "    'Youngkin, Glenn A'],\n",
       "   'geo_facet': ['Virginia'],\n",
       "   'media': [{'type': 'image',\n",
       "     'subtype': 'photo',\n",
       "     'caption': 'Former Representative Abigail Spanberger, left, a Democrat, is facing off against Lt. Gov. Winsome Earle-Sears, a Republican, for governor of Virginia.',\n",
       "     'copyright': 'From left: Ryan M. Kelly/Associated Press; Steve Helber/Associated Press',\n",
       "     'approved_for_syndication': 1,\n",
       "     'media-metadata': [{'url': 'https://static01.nyt.com/images/2025/06/17/us/politics/17POL-VIRGINIA-GOVERNOR-GRID/17POL-VIRGINIA-GOVERNOR-GRID-thumbStandard.jpg',\n",
       "       'format': 'Standard Thumbnail',\n",
       "       'height': 75,\n",
       "       'width': 75},\n",
       "      {'url': 'https://static01.nyt.com/images/2025/06/17/us/politics/17POL-VIRGINIA-GOVERNOR-GRID/17POL-VIRGINIA-GOVERNOR-GRID-mediumThreeByTwo210.jpg',\n",
       "       'format': 'mediumThreeByTwo210',\n",
       "       'height': 140,\n",
       "       'width': 210},\n",
       "      {'url': 'https://static01.nyt.com/images/2025/06/17/us/politics/17POL-VIRGINIA-GOVERNOR-GRID/17POL-VIRGINIA-GOVERNOR-GRID-mediumThreeByTwo440.jpg',\n",
       "       'format': 'mediumThreeByTwo440',\n",
       "       'height': 293,\n",
       "       'width': 440}]}],\n",
       "   'eta_id': 0},\n",
       "  {'uri': 'nyt://article/1632026a-a5a0-5097-be45-9c49a648544e',\n",
       "   'url': 'https://www.nytimes.com/2025/06/16/opinion/trump-has-reawakened-the-resistance.html',\n",
       "   'id': 100000010232096,\n",
       "   'asset_id': 100000010232096,\n",
       "   'source': 'New York Times',\n",
       "   'published_date': '2025-06-16',\n",
       "   'updated': '2025-06-17 09:17:47',\n",
       "   'section': 'Opinion',\n",
       "   'subsection': '',\n",
       "   'nytdsection': 'opinion',\n",
       "   'adx_keywords': 'United States Politics and Government;Demonstrations, Protests and Riots;Illegal Immigration;Polls and Public Opinion;Parades;United States Defense and Military Forces;Trump, Donald J;Democratic Party;Los Angeles (Calif);United States',\n",
       "   'column': None,\n",
       "   'byline': 'By Michelle Goldberg',\n",
       "   'type': 'Article',\n",
       "   'title': 'Trump Has Reawakened the Resistance',\n",
       "   'abstract': 'Huge protests dwarfed the administration’s sad military parade.',\n",
       "   'des_facet': ['United States Politics and Government',\n",
       "    'Demonstrations, Protests and Riots',\n",
       "    'Illegal Immigration',\n",
       "    'Polls and Public Opinion',\n",
       "    'Parades',\n",
       "    'United States Defense and Military Forces'],\n",
       "   'org_facet': ['Democratic Party'],\n",
       "   'per_facet': ['Trump, Donald J'],\n",
       "   'geo_facet': ['Los Angeles (Calif)', 'United States'],\n",
       "   'media': [{'type': 'image',\n",
       "     'subtype': 'photo',\n",
       "     'caption': '',\n",
       "     'copyright': 'Natalie Keyssar for The New York Times',\n",
       "     'approved_for_syndication': 1,\n",
       "     'media-metadata': [{'url': 'https://static01.nyt.com/images/2025/07/16/multimedia/16Goldberg-zmfk/16Goldberg-zmfk-thumbStandard.jpg',\n",
       "       'format': 'Standard Thumbnail',\n",
       "       'height': 75,\n",
       "       'width': 75},\n",
       "      {'url': 'https://static01.nyt.com/images/2025/07/16/multimedia/16Goldberg-zmfk/16Goldberg-zmfk-mediumThreeByTwo210.jpg',\n",
       "       'format': 'mediumThreeByTwo210',\n",
       "       'height': 140,\n",
       "       'width': 210},\n",
       "      {'url': 'https://static01.nyt.com/images/2025/07/16/multimedia/16Goldberg-zmfk/16Goldberg-zmfk-mediumThreeByTwo440.jpg',\n",
       "       'format': 'mediumThreeByTwo440',\n",
       "       'height': 293,\n",
       "       'width': 440}]}],\n",
       "   'eta_id': 0}]}"
      ]
     },
     "execution_count": 72,
     "metadata": {},
     "output_type": "execute_result"
    }
   ],
   "source": [
    "import requests\n",
    "import pandas as pd\n",
    "\n",
    "API_KEY = 'Xpo4bBneKqPS5BwLUuxK1buiOK2fTlyb'\n",
    "\n",
    "url= 'https://api.nytimes.com/svc/mostpopular/v2/viewed/1.json'\n",
    "params = {\n",
    "    \"api-key\" : API_KEY\n",
    "}\n",
    "\n",
    "response = requests.get(url,params=params)\n",
    "\n",
    "data = response.json()\n",
    "data\n",
    "#df = pd.json_normalize(data['results'])\n",
    "#df.head(1)"
   ]
  },
  {
   "cell_type": "markdown",
   "id": "60adfc85-cd37-4211-94f2-9e39be2660d6",
   "metadata": {},
   "source": [
    "# 단일 학교의 1일 급식 정보 가져오기"
   ]
  },
  {
   "cell_type": "code",
   "execution_count": 5,
   "id": "f5384d4c-db4b-4eba-baa2-24fc86ae725f",
   "metadata": {},
   "outputs": [
    {
     "name": "stdout",
     "output_type": "stream",
     "text": [
      "학교 이름 조회 예정 : 교육청=B10,학교코드=7021105\n",
      "응답코드:200\n",
      "{'schoolInfo': [{'head': [{'list_total_count': 1}, {'RESULT': {'CODE': 'INFO-000', 'MESSAGE': '정상 처리되었습니다.'}}]}, {'row': [{'ATPT_OFCDC_SC_CODE': 'B10', 'ATPT_OFCDC_SC_NM': '서울특별시교육청', 'SD_SCHUL_CODE': '7021105', 'SCHUL_NM': '서울이문초등학교', 'ENG_SCHUL_NM': 'Seoul Imun Elementary School', 'SCHUL_KND_SC_NM': '초등학교', 'LCTN_SC_NM': '서울특별시', 'JU_ORG_NM': '서울특별시동부교육지원청', 'FOND_SC_NM': '공립', 'ORG_RDNZC': '02411 ', 'ORG_RDNMA': '서울특별시 동대문구 신이문로 16', 'ORG_RDNDA': '(이문동/ 서울이문초등학교)', 'ORG_TELNO': '02-957-8141', 'HMPG_ADRES': 'http://www.imun.es.kr', 'COEDU_SC_NM': '남여공학', 'ORG_FAXNO': '02-969-3244', 'HS_SC_NM': None, 'INDST_SPECL_CCCCL_EXST_YN': 'N', 'HS_GNRL_BUSNS_SC_NM': '일반계', 'SPCLY_PURPS_HS_ORD_NM': None, 'ENE_BFE_SEHF_SC_NM': '전기', 'DGHT_SC_NM': '주간', 'FOND_YMD': '19670711', 'FOAS_MEMRD': '19670906', 'LOAD_DTM': '20230615'}]}]}\n"
     ]
    },
    {
     "data": {
      "text/plain": [
       "'서울이문초등학교'"
      ]
     },
     "execution_count": 5,
     "metadata": {},
     "output_type": "execute_result"
    }
   ],
   "source": [
    "import requests\n",
    "import pandas as pd\n",
    "\n",
    "EDU_CODE = 'B10'\n",
    "SCHOOL_CODE = '7021105'\n",
    "API_KEY = '10feb9677fbd4778871461b4d226beb9'\n",
    "TARGET_DATE = '20241030' # 수요일\n",
    "# 나이스 학교기본정보 코드에서 빼올수있음. (school info)\n",
    "\n",
    "# 학교의 이름을 가져오는 함수\n",
    "def get_school_name(edu_code, school_code):\n",
    "    print(f'학교 이름 조회 예정 : 교육청={edu_code},학교코드={school_code}')\n",
    "    url = 'https://open.neis.go.kr/hub/schoolInfo'\n",
    "    params = {\n",
    "    'KEY' : API_KEY,\n",
    "    'Type': 'json',\n",
    "    # 할수만있으면 json으로 가져와라 -> 데이터 편집하기 유용함.\n",
    "    'ATPT_OFCDC_SC_CODE' : edu_code,\n",
    "    'SD_SCHUL_CODE' : school_code\n",
    "    }\n",
    "    try:\n",
    "        res = requests.get(url,params=params,timeout=5)\n",
    "        print(f\"응답코드:{res.status_code}\")\n",
    "        if res.status_code == 200 :\n",
    "            data=res.json()\n",
    "           # print(data)\n",
    "            if \"schoolInfo\" in data:\n",
    "                # 여기 코드가 핵심코드\n",
    "                name = data[\"schoolInfo\"][1][\"row\"][0][\"SCHUL_NM\"]\n",
    "                print(data)\n",
    "                #print(f\"학교명: {name}\")\n",
    "                return name   \n",
    "            else : \n",
    "                print(\"해당학교는 존재하지 않음.\", data)\n",
    "        else:\n",
    "            print(\"응답 실패\", res.text)\n",
    "    except Excepton as e:\n",
    "        print(f\"학교명 정보 조회 오류 :{e} \")\n",
    "    return \"학교명 조회 불가\"\n",
    "\n",
    "get_school_name(EDU_CODE, SCHOOL_CODE)\n",
    "\n"
   ]
  },
  {
   "cell_type": "code",
   "execution_count": 27,
   "id": "fa4c9d1a-141a-4d55-a201-7ad8b1f30513",
   "metadata": {},
   "outputs": [
    {
     "name": "stdout",
     "output_type": "stream",
     "text": [
      "학교 이름 조회 예정 : 교육청=B10,학교코드=7021105\n",
      "응답코드:200\n",
      "{'schoolInfo': [{'head': [{'list_total_count': 1}, {'RESULT': {'CODE': 'INFO-000', 'MESSAGE': '정상 처리되었습니다.'}}]}, {'row': [{'ATPT_OFCDC_SC_CODE': 'B10', 'ATPT_OFCDC_SC_NM': '서울특별시교육청', 'SD_SCHUL_CODE': '7021105', 'SCHUL_NM': '서울이문초등학교', 'ENG_SCHUL_NM': 'Seoul Imun Elementary School', 'SCHUL_KND_SC_NM': '초등학교', 'LCTN_SC_NM': '서울특별시', 'JU_ORG_NM': '서울특별시동부교육지원청', 'FOND_SC_NM': '공립', 'ORG_RDNZC': '02411 ', 'ORG_RDNMA': '서울특별시 동대문구 신이문로 16', 'ORG_RDNDA': '(이문동/ 서울이문초등학교)', 'ORG_TELNO': '02-957-8141', 'HMPG_ADRES': 'http://www.imun.es.kr', 'COEDU_SC_NM': '남여공학', 'ORG_FAXNO': '02-969-3244', 'HS_SC_NM': None, 'INDST_SPECL_CCCCL_EXST_YN': 'N', 'HS_GNRL_BUSNS_SC_NM': '일반계', 'SPCLY_PURPS_HS_ORD_NM': None, 'ENE_BFE_SEHF_SC_NM': '전기', 'DGHT_SC_NM': '주간', 'FOND_YMD': '19670711', 'FOAS_MEMRD': '19670906', 'LOAD_DTM': '20230615'}]}]}\n",
      "급식 정보 조회 중: 날짜=20250618\n",
      "mealService 응답코드: 200\n",
      "급식 데이터 수: 1\n",
      "수집된 행 수: 1\n",
      "  교육청코드     학교코드       학교명      급식일자 식사명  \\\n",
      "0   B10  7021105  서울이문초등학교  20250618  중식   \n",
      "\n",
      "                                                급식식단  \n",
      "0  발아현미밥 <br/>카레소스(닭고기)* (2.5.6.12.13.15.16.18)<b...  \n",
      "CSV 저장 완료: 서울_초등학교_급식_20241030.csv\n"
     ]
    }
   ],
   "source": [
    "# mission \n",
    "\n",
    "# 급식정보 조회중 같은 방식으로 \n",
    "import requests\n",
    "import pandas as pd\n",
    "\n",
    "EDU_CODE = 'B10'\n",
    "SCHOOL_CODE = '7021105'\n",
    "API_KEY = '10feb9677fbd4778871461b4d226beb9'\n",
    "TARGET_DATE = '20250618' \n",
    "\n",
    "def get_meal_info(edu_code, school_code):\n",
    "    print(f\"급식 정보 조회 중: 날짜={TARGET_DATE}\")\n",
    "    url = \"https://open.neis.go.kr/hub/mealServiceDietInfo\"\n",
    "    params = {\n",
    "        \"KEY\": API_KEY,\n",
    "        \"Type\": \"json\",\n",
    "        \"ATPT_OFCDC_SC_CODE\": edu_code,\n",
    "        \"SD_SCHUL_CODE\": school_code,\n",
    "        \"MLSV_YMD\": TARGET_DATE\n",
    "    }\n",
    "    try:\n",
    "        res = requests.get(url, params=params, timeout=5)\n",
    "        print(f\"mealService 응답코드: {res.status_code}\")\n",
    "        if res.status_code == 200:\n",
    "            data = res.json()\n",
    "            if \"mealServiceDietInfo\" in data:\n",
    "                print(f\"급식 데이터 수: {len(data['mealServiceDietInfo'][1]['row'])}\")\n",
    "                return data[\"mealServiceDietInfo\"][1][\"row\"]\n",
    "            else:\n",
    "                print(\"mealServiceDietInfo 키 없음:\", data)\n",
    "        else:\n",
    "            print(\"응답 실패:\", res.text)\n",
    "    except Exception as e:\n",
    "        print(f\"급식 정보 조회 오류: {e}\")\n",
    "    return []\n",
    "\n",
    "# 데이터 수집\n",
    "school_name = get_school_name(EDU_CODE, SCHOOL_CODE)\n",
    "meals = get_meal_info(EDU_CODE, SCHOOL_CODE)\n",
    "data = []\n",
    "for meal in meals:\n",
    "    data.append({\n",
    "        \"교육청코드\": EDU_CODE,\n",
    "        \"학교코드\": SCHOOL_CODE,\n",
    "        \"학교명\": school_name,\n",
    "        \"급식일자\": meal.get(\"MLSV_YMD\"),\n",
    "        \"식사명\": meal.get(\"MMEAL_SC_NM\"),\n",
    "        \"급식식단\": meal.get(\"DDISH_NM\")\n",
    "    })\n",
    "\n",
    "df = pd.DataFrame(data)\n",
    "print(\"수집된 행 수:\", len(df))\n",
    "print(df.head())\n",
    "\n",
    "df.to_csv(\"서울_초등학교_급식_20241030.csv\", index=False, encoding=\"utf-8-sig\")\n",
    "print(\"CSV 저장 완료: 서울_초등학교_급식_20241030.csv\")\n"
   ]
  },
  {
   "cell_type": "markdown",
   "id": "f3097582-07c3-41fb-a531-6e976c6a0f8e",
   "metadata": {},
   "source": [
    "# 1개의 학교 한달 데이터 수집 \n",
    "- 날짜만 변경"
   ]
  },
  {
   "cell_type": "code",
   "execution_count": 21,
   "id": "cbb32e0f-bddc-435b-8860-2bdb67f2103b",
   "metadata": {},
   "outputs": [
    {
     "data": {
      "text/plain": [
       "('20250519', '20250618')"
      ]
     },
     "execution_count": 21,
     "metadata": {},
     "output_type": "execute_result"
    }
   ],
   "source": [
    "from datetime import datetime, timedelta\n",
    "today = datetime.today()\n",
    "one_month_ago = today - timedelta(days=30)\n",
    "\n",
    "\n",
    "FROM_DATE = one_month_ago.strftime('%Y%m%d')\n",
    "TO_DATE = today.strftime('%Y%m%d')\n",
    "FROM_DATE , TO_DATE"
   ]
  },
  {
   "cell_type": "code",
   "execution_count": null,
   "id": "9d5cfae3-4d53-49c5-b1a7-70a0b41a23c3",
   "metadata": {},
   "outputs": [],
   "source": []
  },
  {
   "cell_type": "code",
   "execution_count": 47,
   "id": "d8005005-59b3-45b7-98ac-320f7a947842",
   "metadata": {},
   "outputs": [
    {
     "name": "stdout",
     "output_type": "stream",
     "text": [
      "학교 이름 조회 예정 : 교육청=B10,학교코드=7021105\n",
      "응답코드:200\n",
      "{'schoolInfo': [{'head': [{'list_total_count': 1}, {'RESULT': {'CODE': 'INFO-000', 'MESSAGE': '정상 처리되었습니다.'}}]}, {'row': [{'ATPT_OFCDC_SC_CODE': 'B10', 'ATPT_OFCDC_SC_NM': '서울특별시교육청', 'SD_SCHUL_CODE': '7021105', 'SCHUL_NM': '서울이문초등학교', 'ENG_SCHUL_NM': 'Seoul Imun Elementary School', 'SCHUL_KND_SC_NM': '초등학교', 'LCTN_SC_NM': '서울특별시', 'JU_ORG_NM': '서울특별시동부교육지원청', 'FOND_SC_NM': '공립', 'ORG_RDNZC': '02411 ', 'ORG_RDNMA': '서울특별시 동대문구 신이문로 16', 'ORG_RDNDA': '(이문동/ 서울이문초등학교)', 'ORG_TELNO': '02-957-8141', 'HMPG_ADRES': 'http://www.imun.es.kr', 'COEDU_SC_NM': '남여공학', 'ORG_FAXNO': '02-969-3244', 'HS_SC_NM': None, 'INDST_SPECL_CCCCL_EXST_YN': 'N', 'HS_GNRL_BUSNS_SC_NM': '일반계', 'SPCLY_PURPS_HS_ORD_NM': None, 'ENE_BFE_SEHF_SC_NM': '전기', 'DGHT_SC_NM': '주간', 'FOND_YMD': '19670711', 'FOAS_MEMRD': '19670906', 'LOAD_DTM': '20230615'}]}]}\n",
      "급식 정보 조회 중: 날짜=20250618\n",
      "mealService 응답코드: 200\n",
      "급식 데이터 수: 21\n",
      "수집된 행 수: 21\n",
      "  교육청코드     학교코드       학교명      급식일자 식사명  \\\n",
      "0   B10  7021105  서울이문초등학교  20250519  중식   \n",
      "1   B10  7021105  서울이문초등학교  20250520  중식   \n",
      "2   B10  7021105  서울이문초등학교  20250521  중식   \n",
      "3   B10  7021105  서울이문초등학교  20250522  중식   \n",
      "4   B10  7021105  서울이문초등학교  20250523  중식   \n",
      "\n",
      "                                                급식식단  \n",
      "0  차수수밥* <br/>김치콩나물국^ (5.6.9)<br/>오이볶음 (5)<br/>순살...  \n",
      "1  강황밥 <br/>감자옹심이국 (5.6.17)<br/>미역줄기볶음* (5)<br/>오...  \n",
      "2  부지갱이나물밥&양념장 (5.6.13)<br/>북어계란국* (1.5.6)<br/>비름...  \n",
      "3  귀리밥* <br/>호박잎된장국y (5.6.18)<br/>참나물무침* (5.6)<br...  \n",
      "4  발아현미밥 <br/>어묵국y (1.2.5.6.7.8.13.16.18)<br/>고춧잎...  \n"
     ]
    },
    {
     "data": {
      "text/plain": [
       "''"
      ]
     },
     "execution_count": 47,
     "metadata": {},
     "output_type": "execute_result"
    }
   ],
   "source": [
    "import requests\n",
    "import pandas as pd\n",
    "from datetime import datetime, timedelta\n",
    "EDU_CODE = 'B10'\n",
    "SCHOOL_CODE = '7021105'\n",
    "API_KEY = '10feb9677fbd4778871461b4d226beb9'\n",
    "\n",
    "# 최근 한달 기간 설정\n",
    "today = datetime.today()\n",
    "one_month_ago = today - timedelta(days=30)\n",
    "FROM_DATE = one_month_ago.strftime('%Y%m%d')\n",
    "TO_DATE = today.strftime('%Y%m%d')\n",
    "\n",
    "def get_meal_info(edu_code, school_code,from_date,to_date):\n",
    "    print(f\"급식 정보 조회 중: 날짜={TARGET_DATE}\")\n",
    "    url = \"https://open.neis.go.kr/hub/mealServiceDietInfo\"\n",
    "    params = {\n",
    "        \"KEY\": API_KEY,\n",
    "        \"Type\": \"json\",\n",
    "        \"ATPT_OFCDC_SC_CODE\": edu_code,\n",
    "        \"SD_SCHUL_CODE\": school_code,\n",
    "        \"MLSV_FROM_YMD\": from_date,\n",
    "        \"MLSV_TO_YMD\": to_date,\n",
    "        \"pIndex\" : 1,\n",
    "        \"pSize\" : 100\n",
    "    \n",
    "    }\n",
    "    try:\n",
    "        res = requests.get(url, params=params, timeout=5)\n",
    "        print(f\"mealService 응답코드: {res.status_code}\")\n",
    "        if res.status_code == 200:\n",
    "            data = res.json()\n",
    "            if \"mealServiceDietInfo\" in data:\n",
    "                print(f\"급식 데이터 수: {len(data['mealServiceDietInfo'][1]['row'])}\")\n",
    "                return data[\"mealServiceDietInfo\"][1][\"row\"]\n",
    "            else:\n",
    "                print(\"mealServiceDietInfo 키 없음:\", data)\n",
    "        else:\n",
    "            print(\"응답 실패:\", res.text)\n",
    "    except Exception as e:\n",
    "        print(f\"급식 정보 조회 오류: {e}\")\n",
    "    return []\n",
    "\n",
    "# 데이터 수집\n",
    "school_name = get_school_name(EDU_CODE, SCHOOL_CODE)\n",
    "meals = get_meal_info(EDU_CODE, SCHOOL_CODE, FROM_DATE, TO_DATE)\n",
    "data = []\n",
    "for meal in meals:\n",
    "    data.append({\n",
    "        \"교육청코드\": EDU_CODE,\n",
    "        \"학교코드\": SCHOOL_CODE,\n",
    "        \"학교명\": school_name,\n",
    "        \"급식일자\": meal.get(\"MLSV_YMD\"),\n",
    "        \"식사명\": meal.get(\"MMEAL_SC_NM\"),\n",
    "        \"급식식단\": meal.get(\"DDISH_NM\")\n",
    "    })\n",
    "\n",
    "df = pd.DataFrame(data)\n",
    "print(\"수집된 행 수:\", len(df))\n",
    "print(df.head())\n",
    "\n",
    "#df.to_csv(\"서울_초등학교_급식_20241030.csv\", index=False, encoding=\"utf-8-sig\")\n",
    "#print(\"CSV 저장 완료: 서울_초등학교_급식_20241030.csv\")\n",
    ","
   ]
  },
  {
   "cell_type": "markdown",
   "id": "6206934a-1a94-49a4-96a1-e7bac5c6d7a6",
   "metadata": {},
   "source": [
    "# 서울에 있는  모든 고등학교 최근 1개월 데이터 수집\n",
    "- 가장 중요한건, 학교 명과 학교 코드가 필요\n",
    "- "
   ]
  },
  {
   "cell_type": "code",
   "execution_count": 40,
   "id": "05456c77-cba2-4d17-9e0d-a2295b999246",
   "metadata": {},
   "outputs": [
    {
     "name": "stdout",
     "output_type": "stream",
     "text": [
      "응답코드 : 200\n"
     ]
    },
    {
     "data": {
      "text/plain": [
       "178"
      ]
     },
     "execution_count": 40,
     "metadata": {},
     "output_type": "execute_result"
    }
   ],
   "source": [
    "import requests\n",
    "import pandas as pd\n",
    "from datetime import datetime,timedelta\n",
    "from tqdm import tqdm\n",
    "import time\n",
    "\n",
    "\n",
    "EDU_CODE = 'B10'\n",
    "SCHOOL_CODE = '7021105'\n",
    "API_KEY = '10feb9677fbd4778871461b4d226beb9'\n",
    "\n",
    "# 최근 한달 기간 설정\n",
    "today = datetime.today()\n",
    "one_month_ago = today - timedelta(days=30)\n",
    "FROM_DATE = one_month_ago.strftime('%Y%m%d')\n",
    "TO_DATE = today.strftime('%Y%m%d')\n",
    "\n",
    "# 고등학교만 조회\n",
    "def get_highschools(edu_code):\n",
    "    url = 'https://open.neis.go.kr/hub/schoolInfo'\n",
    "    params = {\n",
    "        'KEY': API_KEY, \n",
    "        'Type' : 'json', \n",
    "        'ATPT_OFCDC_SC_CODE' : edu_code, \n",
    "        'pIndex': 1, \n",
    "        'pSize': 1000\n",
    "    }\n",
    "    highschools = []\n",
    "    try:\n",
    "        res = requests.get(url, params=params, timeout=5)\n",
    "        print(f\"응답코드 : {res.status_code}\")\n",
    "        if res.status_code == 200 and 'schoolInfo' in res.json():\n",
    "            rows = res.json()['schoolInfo'][1]['row']\n",
    "            for row in rows:\n",
    "                if row.get('SCHUL_KND_SC_NM') == '고등학교':\n",
    "                    highschools.append((row['SD_SCHUL_CODE'], row['SCHUL_NM']))\n",
    "                else:\n",
    "                    pass\n",
    "        else:\n",
    "            print(\"200은 뜨나, schoolinfo은 없음\")\n",
    "    except Exception as e:\n",
    "        print(\"고등학교 목록 오류: {e}\")\n",
    "    return highschools\n",
    "\n",
    "highschool_list = get_highschools(EDU_CODE)\n",
    "len()"
   ]
  },
  {
   "cell_type": "code",
   "execution_count": 50,
   "id": "2175e1b2-af7e-46e4-b31e-0f39e31f5d64",
   "metadata": {},
   "outputs": [
    {
     "name": "stdout",
     "output_type": "stream",
     "text": [
      "응답코드 : 200\n"
     ]
    },
    {
     "name": "stderr",
     "output_type": "stream",
     "text": [
      "고등학교 급식 조회:   0%|                                                           | 0/178 [00:00<?, ?it/s]"
     ]
    },
    {
     "name": "stdout",
     "output_type": "stream",
     "text": [
      "7010057 가락고등학교\n",
      "급식 정보 조회 중: 날짜=20250618\n",
      "mealService 응답코드: 200\n",
      "급식 데이터 수: 21\n"
     ]
    },
    {
     "name": "stderr",
     "output_type": "stream",
     "text": [
      "고등학교 급식 조회:   1%|▎                                                  | 1/178 [00:00<00:34,  5.06it/s]"
     ]
    },
    {
     "name": "stdout",
     "output_type": "stream",
     "text": [
      "7011169 가재울고등학교\n",
      "급식 정보 조회 중: 날짜=20250618\n",
      "mealService 응답코드: 200\n",
      "급식 데이터 수: 21\n"
     ]
    },
    {
     "name": "stderr",
     "output_type": "stream",
     "text": [
      "고등학교 급식 조회:   1%|▌                                                  | 2/178 [00:00<00:35,  4.93it/s]"
     ]
    },
    {
     "name": "stdout",
     "output_type": "stream",
     "text": [
      "7010117 강동고등학교\n",
      "급식 정보 조회 중: 날짜=20250618\n",
      "mealService 응답코드: 200\n",
      "급식 데이터 수: 41\n"
     ]
    },
    {
     "name": "stderr",
     "output_type": "stream",
     "text": [
      "고등학교 급식 조회:   2%|▊                                                  | 3/178 [00:00<00:36,  4.74it/s]"
     ]
    },
    {
     "name": "stdout",
     "output_type": "stream",
     "text": [
      "7010118 강서고등학교\n",
      "급식 정보 조회 중: 날짜=20250618\n",
      "mealService 응답코드: 200\n",
      "급식 데이터 수: 42\n"
     ]
    },
    {
     "name": "stderr",
     "output_type": "stream",
     "text": [
      "고등학교 급식 조회:   2%|█▏                                                 | 4/178 [00:00<00:37,  4.62it/s]"
     ]
    },
    {
     "name": "stdout",
     "output_type": "stream",
     "text": [
      "7010958 강일고등학교\n",
      "급식 정보 조회 중: 날짜=20250618\n",
      "mealService 응답코드: 200\n",
      "급식 데이터 수: 21\n"
     ]
    },
    {
     "name": "stderr",
     "output_type": "stream",
     "text": [
      "고등학교 급식 조회:   3%|█▍                                                 | 5/178 [00:01<00:39,  4.39it/s]"
     ]
    },
    {
     "name": "stdout",
     "output_type": "stream",
     "text": [
      "7010058 개포고등학교\n",
      "급식 정보 조회 중: 날짜=20250618\n",
      "mealService 응답코드: 200\n",
      "급식 데이터 수: 21\n"
     ]
    },
    {
     "name": "stderr",
     "output_type": "stream",
     "text": [
      "고등학교 급식 조회:   3%|█▋                                                 | 6/178 [00:01<00:39,  4.35it/s]"
     ]
    },
    {
     "name": "stdout",
     "output_type": "stream",
     "text": [
      "7010119 건국대학교사범대학부속고등학교\n",
      "급식 정보 조회 중: 날짜=20250618\n",
      "mealService 응답코드: 200\n",
      "급식 데이터 수: 41\n"
     ]
    },
    {
     "name": "stderr",
     "output_type": "stream",
     "text": [
      "고등학교 급식 조회:   4%|██▎                                                | 8/178 [00:01<00:36,  4.62it/s]"
     ]
    },
    {
     "name": "stdout",
     "output_type": "stream",
     "text": [
      "7010059 경기고등학교\n",
      "급식 정보 조회 중: 날짜=20250618\n",
      "mealService 응답코드: 200\n",
      "급식 데이터 수: 36\n",
      "7010271 경기기계공업고등학교\n",
      "급식 정보 조회 중: 날짜=20250618\n",
      "mealService 응답코드: 200\n",
      "급식 데이터 수: 59\n"
     ]
    },
    {
     "name": "stderr",
     "output_type": "stream",
     "text": [
      "고등학교 급식 조회:   6%|██▊                                               | 10/178 [00:02<00:35,  4.68it/s]"
     ]
    },
    {
     "name": "stdout",
     "output_type": "stream",
     "text": [
      "7010272 경기상업고등학교\n",
      "급식 정보 조회 중: 날짜=20250618\n",
      "mealService 응답코드: 200\n",
      "급식 데이터 수: 20\n"
     ]
    },
    {
     "name": "stderr",
     "output_type": "stream",
     "text": [
      "고등학교 급식 조회:   6%|███                                               | 11/178 [00:02<00:34,  4.86it/s]"
     ]
    },
    {
     "name": "stdout",
     "output_type": "stream",
     "text": [
      "7010060 경기여자고등학교\n",
      "급식 정보 조회 중: 날짜=20250618\n",
      "mealService 응답코드: 200\n",
      "급식 데이터 수: 21\n"
     ]
    },
    {
     "name": "stderr",
     "output_type": "stream",
     "text": [
      "고등학교 급식 조회:   7%|███▎                                              | 12/178 [00:02<00:33,  4.91it/s]"
     ]
    },
    {
     "name": "stdout",
     "output_type": "stream",
     "text": [
      "7010061 경동고등학교\n",
      "급식 정보 조회 중: 날짜=20250618\n",
      "mealService 응답코드: 200\n",
      "급식 데이터 수: 21\n"
     ]
    },
    {
     "name": "stderr",
     "output_type": "stream",
     "text": [
      "고등학교 급식 조회:   7%|███▋                                              | 13/178 [00:02<00:33,  4.97it/s]"
     ]
    },
    {
     "name": "stdout",
     "output_type": "stream",
     "text": [
      "7010120 경문고등학교\n",
      "급식 정보 조회 중: 날짜=20250618\n",
      "mealService 응답코드: 200\n",
      "급식 데이터 수: 21\n",
      "7010062 경복고등학교\n",
      "급식 정보 조회 중: 날짜=20250618\n",
      "mealService 응답코드: 200\n",
      "급식 데이터 수: 21\n"
     ]
    },
    {
     "name": "stderr",
     "output_type": "stream",
     "text": [
      "고등학교 급식 조회:   8%|███▉                                              | 14/178 [00:02<00:33,  4.84it/s]"
     ]
    },
    {
     "name": "stdout",
     "output_type": "stream",
     "text": [
      "7010835 경복비즈니스고등학교\n",
      "급식 정보 조회 중: 날짜=20250618\n",
      "mealService 응답코드: 200\n",
      "급식 데이터 수: 36\n"
     ]
    },
    {
     "name": "stderr",
     "output_type": "stream",
     "text": [
      "고등학교 급식 조회:   8%|████▏                                             | 15/178 [00:03<00:35,  4.66it/s]"
     ]
    },
    {
     "name": "stdout",
     "output_type": "stream",
     "text": [
      "7010122 경복여자고등학교\n",
      "급식 정보 조회 중: 날짜=20250618\n",
      "mealService 응답코드: 200\n",
      "급식 데이터 수: 36\n"
     ]
    },
    {
     "name": "stderr",
     "output_type": "stream",
     "text": [
      "고등학교 급식 조회:   9%|████▍                                             | 16/178 [00:03<00:35,  4.56it/s]"
     ]
    },
    {
     "name": "stdout",
     "output_type": "stream",
     "text": [
      "7010124 경성고등학교\n",
      "급식 정보 조회 중: 날짜=20250618\n",
      "mealService 응답코드: 200\n",
      "급식 데이터 수: 21\n"
     ]
    },
    {
     "name": "stderr",
     "output_type": "stream",
     "text": [
      "고등학교 급식 조회:  10%|████▊                                             | 17/178 [00:03<00:34,  4.61it/s]"
     ]
    },
    {
     "name": "stdout",
     "output_type": "stream",
     "text": [
      "7010125 경신고등학교\n",
      "급식 정보 조회 중: 날짜=20250618\n",
      "mealService 응답코드: 200\n",
      "급식 데이터 수: 37\n"
     ]
    },
    {
     "name": "stderr",
     "output_type": "stream",
     "text": [
      "고등학교 급식 조회:  11%|█████▎                                            | 19/178 [00:04<00:32,  4.84it/s]"
     ]
    },
    {
     "name": "stdout",
     "output_type": "stream",
     "text": [
      "7010563 경인고등학교\n",
      "급식 정보 조회 중: 날짜=20250618\n",
      "mealService 응답코드: 200\n",
      "급식 데이터 수: 21\n",
      "7010698 경일고등학교\n",
      "급식 정보 조회 중: 날짜=20250618\n",
      "mealService 응답코드: 200\n",
      "급식 데이터 수: 21\n"
     ]
    },
    {
     "name": "stderr",
     "output_type": "stream",
     "text": [
      "고등학교 급식 조회:  11%|█████▌                                            | 20/178 [00:04<00:33,  4.71it/s]"
     ]
    },
    {
     "name": "stdout",
     "output_type": "stream",
     "text": [
      "7010126 경희고등학교\n",
      "급식 정보 조회 중: 날짜=20250618\n",
      "mealService 응답코드: 200\n",
      "급식 데이터 수: 41\n"
     ]
    },
    {
     "name": "stderr",
     "output_type": "stream",
     "text": [
      "고등학교 급식 조회:  12%|█████▉                                            | 21/178 [00:04<00:32,  4.77it/s]"
     ]
    },
    {
     "name": "stdout",
     "output_type": "stream",
     "text": [
      "7010127 경희여자고등학교\n",
      "급식 정보 조회 중: 날짜=20250618\n",
      "mealService 응답코드: 200\n",
      "급식 데이터 수: 38\n"
     ]
    },
    {
     "name": "stderr",
     "output_type": "stream",
     "text": [
      "고등학교 급식 조회:  12%|██████▏                                           | 22/178 [00:04<00:33,  4.68it/s]"
     ]
    },
    {
     "name": "stdout",
     "output_type": "stream",
     "text": [
      "7011312 계성고등학교\n",
      "급식 정보 조회 중: 날짜=20250618\n",
      "mealService 응답코드: 200\n",
      "급식 데이터 수: 37\n"
     ]
    },
    {
     "name": "stderr",
     "output_type": "stream",
     "text": [
      "고등학교 급식 조회:  13%|██████▍                                           | 23/178 [00:04<00:34,  4.48it/s]"
     ]
    },
    {
     "name": "stdout",
     "output_type": "stream",
     "text": [
      "7010797 고려대학교사범대학부속고등학교\n",
      "급식 정보 조회 중: 날짜=20250618\n",
      "mealService 응답코드: 200\n",
      "급식 데이터 수: 21\n"
     ]
    },
    {
     "name": "stderr",
     "output_type": "stream",
     "text": [
      "고등학교 급식 조회:  14%|███████                                           | 25/178 [00:05<00:32,  4.77it/s]"
     ]
    },
    {
     "name": "stdout",
     "output_type": "stream",
     "text": [
      "7011487 고명외식고등학교\n",
      "급식 정보 조회 중: 날짜=20250618\n",
      "mealService 응답코드: 200\n",
      "급식 데이터 수: 20\n"
     ]
    },
    {
     "name": "stderr",
     "output_type": "stream",
     "text": [
      "고등학교 급식 조회:  15%|███████▎                                          | 26/178 [00:05<00:30,  4.97it/s]"
     ]
    },
    {
     "name": "stdout",
     "output_type": "stream",
     "text": [
      "7010063 고척고등학교\n",
      "급식 정보 조회 중: 날짜=20250618\n",
      "mealService 응답코드: 200\n",
      "급식 데이터 수: 21\n"
     ]
    },
    {
     "name": "stderr",
     "output_type": "stream",
     "text": [
      "고등학교 급식 조회:  15%|███████▌                                          | 27/178 [00:05<00:29,  5.13it/s]"
     ]
    },
    {
     "name": "stdout",
     "output_type": "stream",
     "text": [
      "7010064 공항고등학교\n",
      "급식 정보 조회 중: 날짜=20250618\n",
      "mealService 응답코드: 200\n",
      "급식 데이터 수: 20\n",
      "7010065 관악고등학교\n",
      "급식 정보 조회 중: 날짜=20250618\n"
     ]
    },
    {
     "name": "stderr",
     "output_type": "stream",
     "text": [
      "고등학교 급식 조회:  16%|███████▊                                          | 28/178 [00:05<00:28,  5.28it/s]"
     ]
    },
    {
     "name": "stdout",
     "output_type": "stream",
     "text": [
      "mealService 응답코드: 200\n",
      "급식 데이터 수: 21\n",
      "7010066 광남고등학교\n",
      "급식 정보 조회 중: 날짜=20250618\n",
      "mealService 응답코드: 200\n",
      "급식 데이터 수: 40\n"
     ]
    },
    {
     "name": "stderr",
     "output_type": "stream",
     "text": [
      "고등학교 급식 조회:  16%|████████▏                                         | 29/178 [00:06<00:28,  5.25it/s]"
     ]
    },
    {
     "name": "stdout",
     "output_type": "stream",
     "text": [
      "7010131 광문고등학교\n",
      "급식 정보 조회 중: 날짜=20250618\n",
      "mealService 응답코드: 200\n",
      "급식 데이터 수: 33\n"
     ]
    },
    {
     "name": "stderr",
     "output_type": "stream",
     "text": [
      "고등학교 급식 조회:  17%|████████▍                                         | 30/178 [00:06<00:30,  4.90it/s]"
     ]
    },
    {
     "name": "stdout",
     "output_type": "stream",
     "text": [
      "7010132 광성고등학교\n",
      "급식 정보 조회 중: 날짜=20250618\n",
      "mealService 응답코드: 200\n",
      "급식 데이터 수: 59\n"
     ]
    },
    {
     "name": "stderr",
     "output_type": "stream",
     "text": [
      "고등학교 급식 조회:  18%|████████▉                                         | 32/178 [00:06<00:29,  4.91it/s]"
     ]
    },
    {
     "name": "stdout",
     "output_type": "stream",
     "text": [
      "7010133 광신고등학교\n",
      "급식 정보 조회 중: 날짜=20250618\n",
      "mealService 응답코드: 200\n",
      "급식 데이터 수: 21\n"
     ]
    },
    {
     "name": "stderr",
     "output_type": "stream",
     "text": [
      "고등학교 급식 조회:  19%|█████████▎                                        | 33/178 [00:06<00:28,  5.16it/s]"
     ]
    },
    {
     "name": "stdout",
     "output_type": "stream",
     "text": [
      "7011488 광신방송예술고등학교\n",
      "급식 정보 조회 중: 날짜=20250618\n",
      "mealService 응답코드: 200\n",
      "급식 데이터 수: 8\n",
      "7010067 광양고등학교\n",
      "급식 정보 조회 중: 날짜=20250618\n"
     ]
    },
    {
     "name": "stderr",
     "output_type": "stream",
     "text": [
      "고등학교 급식 조회:  19%|█████████▌                                        | 34/178 [00:07<00:27,  5.17it/s]"
     ]
    },
    {
     "name": "stdout",
     "output_type": "stream",
     "text": [
      "mealService 응답코드: 200\n",
      "급식 데이터 수: 20\n",
      "7010134 광영고등학교\n",
      "급식 정보 조회 중: 날짜=20250618\n",
      "mealService 응답코드: 200\n",
      "급식 데이터 수: 21\n"
     ]
    },
    {
     "name": "stderr",
     "output_type": "stream",
     "text": [
      "고등학교 급식 조회:  20%|█████████▊                                        | 35/178 [00:07<00:27,  5.20it/s]"
     ]
    },
    {
     "name": "stdout",
     "output_type": "stream",
     "text": [
      "7010135 광영여자고등학교\n",
      "급식 정보 조회 중: 날짜=20250618\n",
      "mealService 응답코드: 200\n",
      "급식 데이터 수: 37\n"
     ]
    },
    {
     "name": "stderr",
     "output_type": "stream",
     "text": [
      "고등학교 급식 조회:  21%|██████████▍                                       | 37/178 [00:07<00:27,  5.04it/s]"
     ]
    },
    {
     "name": "stdout",
     "output_type": "stream",
     "text": [
      "7011505 광운인공지능고등학교\n",
      "급식 정보 조회 중: 날짜=20250618\n",
      "mealService 응답코드: 200\n",
      "급식 데이터 수: 18\n"
     ]
    },
    {
     "name": "stderr",
     "output_type": "stream",
     "text": [
      "고등학교 급식 조회:  21%|██████████▋                                       | 38/178 [00:07<00:26,  5.19it/s]"
     ]
    },
    {
     "name": "stdout",
     "output_type": "stream",
     "text": [
      "7010068 구로고등학교\n",
      "급식 정보 조회 중: 날짜=20250618\n",
      "mealService 응답코드: 200\n",
      "급식 데이터 수: 21\n",
      "7011111 구암고등학교\n",
      "급식 정보 조회 중: 날짜=20250618\n"
     ]
    },
    {
     "name": "stderr",
     "output_type": "stream",
     "text": [
      "고등학교 급식 조회:  22%|██████████▉                                       | 39/178 [00:08<00:28,  4.91it/s]"
     ]
    },
    {
     "name": "stdout",
     "output_type": "stream",
     "text": [
      "mealService 응답코드: 200\n",
      "급식 데이터 수: 21\n",
      "7010069 구일고등학교\n",
      "급식 정보 조회 중: 날짜=20250618\n"
     ]
    },
    {
     "name": "stderr",
     "output_type": "stream",
     "text": [
      "고등학교 급식 조회:  22%|███████████▏                                      | 40/178 [00:08<00:28,  4.78it/s]"
     ]
    },
    {
     "name": "stdout",
     "output_type": "stream",
     "text": [
      "mealService 응답코드: 200\n",
      "급식 데이터 수: 21\n",
      "7010827 구현고등학교\n",
      "급식 정보 조회 중: 날짜=20250618\n"
     ]
    },
    {
     "name": "stderr",
     "output_type": "stream",
     "text": [
      "고등학교 급식 조회:  23%|███████████▌                                      | 41/178 [00:08<00:30,  4.54it/s]"
     ]
    },
    {
     "name": "stdout",
     "output_type": "stream",
     "text": [
      "mealService 응답코드: 200\n",
      "급식 데이터 수: 21\n",
      "1371661 국립국악고등학교\n",
      "급식 정보 조회 중: 날짜=20250618\n"
     ]
    },
    {
     "name": "stderr",
     "output_type": "stream",
     "text": [
      "고등학교 급식 조회:  24%|███████████▊                                      | 42/178 [00:08<00:29,  4.59it/s]"
     ]
    },
    {
     "name": "stdout",
     "output_type": "stream",
     "text": [
      "mealService 응답코드: 200\n",
      "급식 데이터 수: 21\n",
      "1371663 국립전통예술고등학교\n",
      "급식 정보 조회 중: 날짜=20250618\n"
     ]
    },
    {
     "name": "stderr",
     "output_type": "stream",
     "text": [
      "고등학교 급식 조회:  24%|████████████                                      | 43/178 [00:08<00:29,  4.57it/s]"
     ]
    },
    {
     "name": "stdout",
     "output_type": "stream",
     "text": [
      "mealService 응답코드: 200\n",
      "급식 데이터 수: 37\n",
      "7010071 금옥여자고등학교\n",
      "급식 정보 조회 중: 날짜=20250618\n",
      "mealService 응답코드: 200\n",
      "급식 데이터 수: 21\n"
     ]
    },
    {
     "name": "stderr",
     "output_type": "stream",
     "text": [
      "고등학교 급식 조회:  25%|████████████▋                                     | 45/178 [00:09<00:26,  4.93it/s]"
     ]
    },
    {
     "name": "stdout",
     "output_type": "stream",
     "text": [
      "7010072 금천고등학교\n",
      "급식 정보 조회 중: 날짜=20250618\n",
      "mealService 응답코드: 200\n",
      "급식 데이터 수: 21\n"
     ]
    },
    {
     "name": "stderr",
     "output_type": "stream",
     "text": [
      "고등학교 급식 조회:  26%|████████████▉                                     | 46/178 [00:09<00:26,  5.00it/s]"
     ]
    },
    {
     "name": "stdout",
     "output_type": "stream",
     "text": [
      "7011319 금호고등학교\n",
      "급식 정보 조회 중: 날짜=20250618\n",
      "mealService 응답코드: 200\n",
      "급식 데이터 수: 21\n",
      "7010136 남강고등학교\n",
      "급식 정보 조회 중: 날짜=20250618\n",
      "mealService 응답코드: 200\n",
      "급식 데이터 수: 39\n"
     ]
    },
    {
     "name": "stderr",
     "output_type": "stream",
     "text": [
      "고등학교 급식 조회:  27%|█████████████▍                                    | 48/178 [00:09<00:26,  4.88it/s]"
     ]
    },
    {
     "name": "stdout",
     "output_type": "stream",
     "text": [
      "7010564 노원고등학교\n",
      "급식 정보 조회 중: 날짜=20250618\n",
      "mealService 응답코드: 200\n",
      "급식 데이터 수: 21\n",
      "7010589 누원고등학교\n",
      "급식 정보 조회 중: 날짜=20250618\n",
      "mealService 응답코드: 200\n",
      "급식 데이터 수: 21\n"
     ]
    },
    {
     "name": "stderr",
     "output_type": "stream",
     "text": [
      "고등학교 급식 조회:  28%|██████████████                                    | 50/178 [00:10<00:25,  5.03it/s]"
     ]
    },
    {
     "name": "stdout",
     "output_type": "stream",
     "text": [
      "7011489 단국대학교부속소프트웨어고등학교\n",
      "급식 정보 조회 중: 날짜=20250618\n",
      "mealService 응답코드: 200\n",
      "급식 데이터 수: 21\n"
     ]
    },
    {
     "name": "stderr",
     "output_type": "stream",
     "text": [
      "고등학교 급식 조회:  29%|██████████████▎                                   | 51/178 [00:10<00:25,  5.07it/s]"
     ]
    },
    {
     "name": "stdout",
     "output_type": "stream",
     "text": [
      "7010137 단국대학교사범대학부속고등학교\n",
      "급식 정보 조회 중: 날짜=20250618\n",
      "mealService 응답코드: 200\n",
      "급식 데이터 수: 21\n",
      "7010073 당곡고등학교\n",
      "급식 정보 조회 중: 날짜=20250618\n",
      "mealService 응답코드: 200\n",
      "급식 데이터 수: 41\n"
     ]
    },
    {
     "name": "stderr",
     "output_type": "stream",
     "text": [
      "고등학교 급식 조회:  29%|██████████████▌                                   | 52/178 [00:10<00:26,  4.79it/s]"
     ]
    },
    {
     "name": "stdout",
     "output_type": "stream",
     "text": [
      "7011507 대경생활과학고등학교\n",
      "급식 정보 조회 중: 날짜=20250618\n",
      "mealService 응답코드: 200\n",
      "급식 데이터 수: 21\n"
     ]
    },
    {
     "name": "stderr",
     "output_type": "stream",
     "text": [
      "고등학교 급식 조회:  30%|██████████████▉                                   | 53/178 [00:11<00:26,  4.79it/s]"
     ]
    },
    {
     "name": "stdout",
     "output_type": "stream",
     "text": [
      "7010138 대광고등학교\n",
      "급식 정보 조회 중: 날짜=20250618\n",
      "mealService 응답코드: 200\n",
      "급식 데이터 수: 42\n"
     ]
    },
    {
     "name": "stderr",
     "output_type": "stream",
     "text": [
      "고등학교 급식 조회:  31%|███████████████▍                                  | 55/178 [00:11<00:24,  4.95it/s]"
     ]
    },
    {
     "name": "stdout",
     "output_type": "stream",
     "text": [
      "7010833 대동세무고등학교\n",
      "급식 정보 조회 중: 날짜=20250618\n",
      "mealService 응답코드: 200\n",
      "급식 데이터 수: 21\n",
      "7010139 대성고등학교\n",
      "급식 정보 조회 중: 날짜=20250618\n"
     ]
    },
    {
     "name": "stderr",
     "output_type": "stream",
     "text": [
      "고등학교 급식 조회:  31%|███████████████▋                                  | 56/178 [00:11<00:24,  4.92it/s]"
     ]
    },
    {
     "name": "stdout",
     "output_type": "stream",
     "text": [
      "mealService 응답코드: 200\n",
      "급식 데이터 수: 21\n",
      "7010140 대신고등학교\n",
      "급식 정보 조회 중: 날짜=20250618\n"
     ]
    },
    {
     "name": "stderr",
     "output_type": "stream",
     "text": [
      "고등학교 급식 조회:  32%|████████████████                                  | 57/178 [00:11<00:24,  4.85it/s]"
     ]
    },
    {
     "name": "stdout",
     "output_type": "stream",
     "text": [
      "mealService 응답코드: 200\n",
      "급식 데이터 수: 21\n",
      "7010074 대영고등학교\n",
      "급식 정보 조회 중: 날짜=20250618\n",
      "mealService 응답코드: 200\n",
      "급식 데이터 수: 21\n"
     ]
    },
    {
     "name": "stderr",
     "output_type": "stream",
     "text": [
      "고등학교 급식 조회:  33%|████████████████▎                                 | 58/178 [00:12<00:24,  4.89it/s]"
     ]
    },
    {
     "name": "stdout",
     "output_type": "stream",
     "text": [
      "7010141 대원고등학교\n",
      "급식 정보 조회 중: 날짜=20250618\n",
      "mealService 응답코드: 200\n",
      "급식 데이터 수: 35\n"
     ]
    },
    {
     "name": "stderr",
     "output_type": "stream",
     "text": [
      "고등학교 급식 조회:  33%|████████████████▌                                 | 59/178 [00:12<00:24,  4.80it/s]"
     ]
    },
    {
     "name": "stdout",
     "output_type": "stream",
     "text": [
      "7010142 대원여자고등학교\n",
      "급식 정보 조회 중: 날짜=20250618\n",
      "mealService 응답코드: 200\n",
      "급식 데이터 수: 35\n"
     ]
    },
    {
     "name": "stderr",
     "output_type": "stream",
     "text": [
      "고등학교 급식 조회:  34%|█████████████████▏                                | 61/178 [00:12<00:24,  4.84it/s]"
     ]
    },
    {
     "name": "stdout",
     "output_type": "stream",
     "text": [
      "7010143 대원외국어고등학교\n",
      "급식 정보 조회 중: 날짜=20250618\n",
      "mealService 응답코드: 200\n",
      "급식 데이터 수: 35\n",
      "7010144 대일고등학교\n",
      "급식 정보 조회 중: 날짜=20250618\n",
      "mealService 응답코드: 200\n",
      "급식 데이터 수: 21\n"
     ]
    },
    {
     "name": "stderr",
     "output_type": "stream",
     "text": [
      "고등학교 급식 조회:  35%|█████████████████▋                                | 63/178 [00:13<00:23,  4.94it/s]"
     ]
    },
    {
     "name": "stdout",
     "output_type": "stream",
     "text": [
      "7011186 대일관광고등학교\n",
      "급식 정보 조회 중: 날짜=20250618\n",
      "mealService 응답코드: 200\n",
      "급식 데이터 수: 21\n",
      "7010145 대일외국어고등학교\n",
      "급식 정보 조회 중: 날짜=20250618\n",
      "mealService 응답코드: 200\n",
      "급식 데이터 수: 59\n"
     ]
    },
    {
     "name": "stderr",
     "output_type": "stream",
     "text": [
      "고등학교 급식 조회:  37%|██████████████████▎                               | 65/178 [00:13<00:23,  4.90it/s]"
     ]
    },
    {
     "name": "stdout",
     "output_type": "stream",
     "text": [
      "7010146 대진고등학교\n",
      "급식 정보 조회 중: 날짜=20250618\n",
      "mealService 응답코드: 200\n",
      "급식 데이터 수: 39\n",
      "7010740 대진디자인고등학교\n",
      "급식 정보 조회 중: 날짜=20250618\n",
      "mealService 응답코드: 200\n",
      "급식 데이터 수: 20\n"
     ]
    },
    {
     "name": "stderr",
     "output_type": "stream",
     "text": [
      "고등학교 급식 조회:  38%|██████████████████▊                               | 67/178 [00:13<00:22,  4.97it/s]"
     ]
    },
    {
     "name": "stdout",
     "output_type": "stream",
     "text": [
      "7010147 대진여자고등학교\n",
      "급식 정보 조회 중: 날짜=20250618\n",
      "mealService 응답코드: 200\n",
      "급식 데이터 수: 41\n",
      "7010148 덕성여자고등학교\n",
      "급식 정보 조회 중: 날짜=20250618\n",
      "mealService 응답코드: 200\n",
      "급식 데이터 수: 36\n"
     ]
    },
    {
     "name": "stderr",
     "output_type": "stream",
     "text": [
      "고등학교 급식 조회:  38%|███████████████████                               | 68/178 [00:14<00:24,  4.50it/s]"
     ]
    },
    {
     "name": "stdout",
     "output_type": "stream",
     "text": [
      "7010808 덕수고등학교\n",
      "급식 정보 조회 중: 날짜=20250618\n",
      "mealService 응답코드: 200\n",
      "급식 데이터 수: 21\n"
     ]
    },
    {
     "name": "stderr",
     "output_type": "stream",
     "text": [
      "고등학교 급식 조회:  39%|███████████████████▍                              | 69/178 [00:14<00:23,  4.55it/s]"
     ]
    },
    {
     "name": "stdout",
     "output_type": "stream",
     "text": [
      "7010149 덕원여자고등학교\n",
      "급식 정보 조회 중: 날짜=20250618\n",
      "mealService 응답코드: 200\n",
      "급식 데이터 수: 41\n"
     ]
    },
    {
     "name": "stderr",
     "output_type": "stream",
     "text": [
      "고등학교 급식 조회:  39%|███████████████████▋                              | 70/178 [00:14<00:24,  4.42it/s]"
     ]
    },
    {
     "name": "stdout",
     "output_type": "stream",
     "text": [
      "7010150 덕원예술고등학교\n",
      "급식 정보 조회 중: 날짜=20250618\n",
      "mealService 응답코드: 200\n",
      "급식 데이터 수: 41\n"
     ]
    },
    {
     "name": "stderr",
     "output_type": "stream",
     "text": [
      "고등학교 급식 조회:  40%|███████████████████▉                              | 71/178 [00:14<00:25,  4.26it/s]"
     ]
    },
    {
     "name": "stdout",
     "output_type": "stream",
     "text": [
      "7010317 덕일전자공업고등학교\n",
      "급식 정보 조회 중: 날짜=20250618\n",
      "mealService 응답코드: 200\n",
      "급식 데이터 수: 20\n"
     ]
    },
    {
     "name": "stderr",
     "output_type": "stream",
     "text": [
      "고등학교 급식 조회:  40%|████████████████████▏                             | 72/178 [00:15<00:24,  4.25it/s]"
     ]
    },
    {
     "name": "stdout",
     "output_type": "stream",
     "text": [
      "7011318 도선고등학교\n",
      "급식 정보 조회 중: 날짜=20250618\n",
      "mealService 응답코드: 200\n",
      "급식 데이터 수: 21\n"
     ]
    },
    {
     "name": "stderr",
     "output_type": "stream",
     "text": [
      "고등학교 급식 조회:  42%|████████████████████▊                             | 74/178 [00:15<00:23,  4.43it/s]"
     ]
    },
    {
     "name": "stdout",
     "output_type": "stream",
     "text": [
      "7010560 독산고등학교\n",
      "급식 정보 조회 중: 날짜=20250618\n",
      "mealService 응답코드: 200\n",
      "급식 데이터 수: 20\n"
     ]
    },
    {
     "name": "stderr",
     "output_type": "stream",
     "text": [
      "고등학교 급식 조회:  42%|█████████████████████                             | 75/178 [00:15<00:22,  4.60it/s]"
     ]
    },
    {
     "name": "stdout",
     "output_type": "stream",
     "text": [
      "7011586 동국대학교사범대학부속가람고등학교\n",
      "급식 정보 조회 중: 날짜=20250618\n",
      "mealService 응답코드: 200\n",
      "급식 데이터 수: 42\n",
      "7010151 동국대학교사범대학부속고등학교\n",
      "급식 정보 조회 중: 날짜=20250618\n",
      "mealService 응답코드: 200\n",
      "급식 데이터 수: 40\n"
     ]
    },
    {
     "name": "stderr",
     "output_type": "stream",
     "text": [
      "고등학교 급식 조회:  43%|█████████████████████▎                            | 76/178 [00:15<00:22,  4.57it/s]"
     ]
    },
    {
     "name": "stdout",
     "output_type": "stream",
     "text": [
      "7010152 동덕여자고등학교\n",
      "급식 정보 조회 중: 날짜=20250618\n",
      "mealService 응답코드: 200\n",
      "급식 데이터 수: 21\n"
     ]
    },
    {
     "name": "stderr",
     "output_type": "stream",
     "text": [
      "고등학교 급식 조회:  44%|█████████████████████▉                            | 78/178 [00:16<00:20,  4.83it/s]"
     ]
    },
    {
     "name": "stdout",
     "output_type": "stream",
     "text": [
      "7011490 동명생활경영고등학교\n",
      "급식 정보 조회 중: 날짜=20250618\n",
      "mealService 응답코드: 200\n",
      "급식 데이터 수: 20\n",
      "7010153 동명여자고등학교\n",
      "급식 정보 조회 중: 날짜=20250618\n"
     ]
    },
    {
     "name": "stderr",
     "output_type": "stream",
     "text": [
      "고등학교 급식 조회:  44%|██████████████████████▏                           | 79/178 [00:16<00:19,  4.96it/s]"
     ]
    },
    {
     "name": "stdout",
     "output_type": "stream",
     "text": [
      "mealService 응답코드: 200\n",
      "급식 데이터 수: 20\n",
      "7010154 동북고등학교\n",
      "급식 정보 조회 중: 날짜=20250618\n"
     ]
    },
    {
     "name": "stderr",
     "output_type": "stream",
     "text": [
      "고등학교 급식 조회:  45%|██████████████████████▍                           | 80/178 [00:16<00:19,  4.98it/s]"
     ]
    },
    {
     "name": "stdout",
     "output_type": "stream",
     "text": [
      "mealService 응답코드: 200\n",
      "급식 데이터 수: 38\n",
      "7010155 동성고등학교\n",
      "급식 정보 조회 중: 날짜=20250618\n"
     ]
    },
    {
     "name": "stderr",
     "output_type": "stream",
     "text": [
      "고등학교 급식 조회:  46%|██████████████████████▊                           | 81/178 [00:16<00:20,  4.68it/s]"
     ]
    },
    {
     "name": "stdout",
     "output_type": "stream",
     "text": [
      "mealService 응답코드: 200\n",
      "급식 데이터 수: 63\n",
      "7010965 동양고등학교\n",
      "급식 정보 조회 중: 날짜=20250618\n",
      "mealService 응답코드: 200\n",
      "급식 데이터 수: 37\n"
     ]
    },
    {
     "name": "stderr",
     "output_type": "stream",
     "text": [
      "고등학교 급식 조회:  47%|███████████████████████▎                          | 83/178 [00:17<00:18,  5.01it/s]"
     ]
    },
    {
     "name": "stdout",
     "output_type": "stream",
     "text": [
      "7010156 동일여자고등학교\n",
      "급식 정보 조회 중: 날짜=20250618\n",
      "mealService 응답코드: 200\n",
      "급식 데이터 수: 20\n",
      "7010075 동작고등학교\n",
      "급식 정보 조회 중: 날짜=20250618\n"
     ]
    },
    {
     "name": "stderr",
     "output_type": "stream",
     "text": [
      "고등학교 급식 조회:  47%|███████████████████████▌                          | 84/178 [00:17<00:18,  5.10it/s]"
     ]
    },
    {
     "name": "stdout",
     "output_type": "stream",
     "text": [
      "mealService 응답코드: 200\n",
      "급식 데이터 수: 20\n",
      "7010076 둔촌고등학교\n",
      "급식 정보 조회 중: 날짜=20250618\n",
      "mealService 응답코드: 200\n",
      "급식 데이터 수: 21\n"
     ]
    },
    {
     "name": "stderr",
     "output_type": "stream",
     "text": [
      "고등학교 급식 조회:  48%|████████████████████████▏                         | 86/178 [00:17<00:17,  5.24it/s]"
     ]
    },
    {
     "name": "stdout",
     "output_type": "stream",
     "text": [
      "7010700 등촌고등학교\n",
      "급식 정보 조회 중: 날짜=20250618\n",
      "mealService 응답코드: 200\n",
      "급식 데이터 수: 21\n",
      "7010908 리라아트고등학교\n",
      "급식 정보 조회 중: 날짜=20250618\n"
     ]
    },
    {
     "name": "stderr",
     "output_type": "stream",
     "text": [
      "고등학교 급식 조회:  49%|████████████████████████▍                         | 87/178 [00:18<00:17,  5.21it/s]"
     ]
    },
    {
     "name": "stdout",
     "output_type": "stream",
     "text": [
      "mealService 응답코드: 200\n",
      "급식 데이터 수: 19\n",
      "7010157 마포고등학교\n",
      "급식 정보 조회 중: 날짜=20250618\n",
      "mealService 응답코드: 200\n",
      "급식 데이터 수: 21\n"
     ]
    },
    {
     "name": "stderr",
     "output_type": "stream",
     "text": [
      "고등학교 급식 조회:  50%|█████████████████████████                         | 89/178 [00:18<00:17,  5.13it/s]"
     ]
    },
    {
     "name": "stdout",
     "output_type": "stream",
     "text": [
      "7010077 면목고등학교\n",
      "급식 정보 조회 중: 날짜=20250618\n",
      "mealService 응답코드: 200\n",
      "급식 데이터 수: 22\n",
      "7010158 명덕고등학교\n",
      "급식 정보 조회 중: 날짜=20250618\n",
      "mealService 응답코드: 200\n",
      "급식 데이터 수: 69\n"
     ]
    },
    {
     "name": "stderr",
     "output_type": "stream",
     "text": [
      "고등학교 급식 조회:  51%|█████████████████████████▎                        | 90/178 [00:18<00:19,  4.47it/s]"
     ]
    },
    {
     "name": "stdout",
     "output_type": "stream",
     "text": [
      "7010159 명덕여자고등학교\n",
      "급식 정보 조회 중: 날짜=20250618\n",
      "mealService 응답코드: 200\n",
      "급식 데이터 수: 69\n"
     ]
    },
    {
     "name": "stderr",
     "output_type": "stream",
     "text": [
      "고등학교 급식 조회:  51%|█████████████████████████▌                        | 91/178 [00:19<00:19,  4.46it/s]"
     ]
    },
    {
     "name": "stdout",
     "output_type": "stream",
     "text": [
      "7010160 명덕외국어고등학교\n",
      "급식 정보 조회 중: 날짜=20250618\n",
      "mealService 응답코드: 200\n",
      "급식 데이터 수: 69\n"
     ]
    },
    {
     "name": "stderr",
     "output_type": "stream",
     "text": [
      "고등학교 급식 조회:  52%|██████████████████████████                        | 93/178 [00:19<00:18,  4.51it/s]"
     ]
    },
    {
     "name": "stdout",
     "output_type": "stream",
     "text": [
      "7010078 명일여자고등학교\n",
      "급식 정보 조회 중: 날짜=20250618\n",
      "mealService 응답코드: 200\n",
      "급식 데이터 수: 21\n",
      "7010163 명지고등학교\n",
      "급식 정보 조회 중: 날짜=20250618\n",
      "mealService 응답코드: 200\n",
      "급식 데이터 수: 41\n"
     ]
    },
    {
     "name": "stderr",
     "output_type": "stream",
     "text": [
      "고등학교 급식 조회:  53%|██████████████████████████▍                       | 94/178 [00:19<00:18,  4.47it/s]"
     ]
    },
    {
     "name": "stdout",
     "output_type": "stream",
     "text": [
      "7010744 목동고등학교\n",
      "급식 정보 조회 중: 날짜=20250618\n",
      "mealService 응답코드: 200\n",
      "급식 데이터 수: 41\n"
     ]
    },
    {
     "name": "stderr",
     "output_type": "stream",
     "text": [
      "고등학교 급식 조회:  54%|██████████████████████████▉                       | 96/178 [00:20<00:16,  4.83it/s]"
     ]
    },
    {
     "name": "stdout",
     "output_type": "stream",
     "text": [
      "7010079 무학여자고등학교\n",
      "급식 정보 조회 중: 날짜=20250618\n",
      "mealService 응답코드: 200\n",
      "mealServiceDietInfo 키 없음: {'RESULT': {'CODE': 'INFO-200', 'MESSAGE': '해당하는 데이터가 없습니다.'}}\n",
      "7010166 문일고등학교\n",
      "급식 정보 조회 중: 날짜=20250618\n"
     ]
    },
    {
     "name": "stderr",
     "output_type": "stream",
     "text": [
      "고등학교 급식 조회:  54%|███████████████████████████▏                      | 97/178 [00:20<00:16,  4.78it/s]"
     ]
    },
    {
     "name": "stdout",
     "output_type": "stream",
     "text": [
      "mealService 응답코드: 200\n",
      "급식 데이터 수: 42\n",
      "7010701 문정고등학교\n",
      "급식 정보 조회 중: 날짜=20250618\n"
     ]
    },
    {
     "name": "stderr",
     "output_type": "stream",
     "text": [
      "고등학교 급식 조회:  55%|███████████████████████████▌                      | 98/178 [00:20<00:16,  4.81it/s]"
     ]
    },
    {
     "name": "stdout",
     "output_type": "stream",
     "text": [
      "mealService 응답코드: 200\n",
      "급식 데이터 수: 21\n",
      "7010959 문현고등학교\n",
      "급식 정보 조회 중: 날짜=20250618\n"
     ]
    },
    {
     "name": "stderr",
     "output_type": "stream",
     "text": [
      "고등학교 급식 조회:  56%|███████████████████████████▊                      | 99/178 [00:20<00:16,  4.88it/s]"
     ]
    },
    {
     "name": "stdout",
     "output_type": "stream",
     "text": [
      "mealService 응답코드: 200\n",
      "급식 데이터 수: 20\n",
      "7010591 미래산업과학고등학교\n",
      "급식 정보 조회 중: 날짜=20250618\n"
     ]
    },
    {
     "name": "stderr",
     "output_type": "stream",
     "text": [
      "고등학교 급식 조회:  56%|███████████████████████████▌                     | 100/178 [00:20<00:16,  4.80it/s]"
     ]
    },
    {
     "name": "stdout",
     "output_type": "stream",
     "text": [
      "mealService 응답코드: 200\n",
      "급식 데이터 수: 21\n",
      "7011569 미림마이스터고등학교\n",
      "급식 정보 조회 중: 날짜=20250618\n"
     ]
    },
    {
     "name": "stderr",
     "output_type": "stream",
     "text": [
      "고등학교 급식 조회:  57%|███████████████████████████▊                     | 101/178 [00:21<00:16,  4.74it/s]"
     ]
    },
    {
     "name": "stdout",
     "output_type": "stream",
     "text": [
      "mealService 응답코드: 200\n",
      "급식 데이터 수: 58\n",
      "7010167 미림여자고등학교\n",
      "급식 정보 조회 중: 날짜=20250618\n",
      "mealService 응답코드: 200\n",
      "급식 데이터 수: 58\n"
     ]
    },
    {
     "name": "stderr",
     "output_type": "stream",
     "text": [
      "고등학교 급식 조회:  58%|████████████████████████████▎                    | 103/178 [00:21<00:15,  4.84it/s]"
     ]
    },
    {
     "name": "stdout",
     "output_type": "stream",
     "text": [
      "7010080 반포고등학교\n",
      "급식 정보 조회 중: 날짜=20250618\n",
      "mealService 응답코드: 200\n",
      "급식 데이터 수: 21\n"
     ]
    },
    {
     "name": "stderr",
     "output_type": "stream",
     "text": [
      "고등학교 급식 조회:  58%|████████████████████████████▋                    | 104/178 [00:21<00:14,  5.08it/s]"
     ]
    },
    {
     "name": "stdout",
     "output_type": "stream",
     "text": [
      "7010590 방산고등학교\n",
      "급식 정보 조회 중: 날짜=20250618\n",
      "mealService 응답코드: 200\n",
      "급식 데이터 수: 21\n",
      "7010168 배명고등학교\n",
      "급식 정보 조회 중: 날짜=20250618\n"
     ]
    },
    {
     "name": "stderr",
     "output_type": "stream",
     "text": [
      "고등학교 급식 조회:  59%|████████████████████████████▉                    | 105/178 [00:21<00:15,  4.81it/s]"
     ]
    },
    {
     "name": "stdout",
     "output_type": "stream",
     "text": [
      "mealService 응답코드: 200\n",
      "급식 데이터 수: 62\n",
      "7010169 배문고등학교\n",
      "급식 정보 조회 중: 날짜=20250618\n"
     ]
    },
    {
     "name": "stderr",
     "output_type": "stream",
     "text": [
      "고등학교 급식 조회:  60%|█████████████████████████████▏                   | 106/178 [00:22<00:16,  4.48it/s]"
     ]
    },
    {
     "name": "stdout",
     "output_type": "stream",
     "text": [
      "mealService 응답코드: 200\n",
      "급식 데이터 수: 38\n",
      "7010170 배재고등학교\n",
      "급식 정보 조회 중: 날짜=20250618\n"
     ]
    },
    {
     "name": "stderr",
     "output_type": "stream",
     "text": [
      "고등학교 급식 조회:  60%|█████████████████████████████▍                   | 107/178 [00:22<00:16,  4.30it/s]"
     ]
    },
    {
     "name": "stdout",
     "output_type": "stream",
     "text": [
      "mealService 응답코드: 200\n",
      "급식 데이터 수: 62\n",
      "7010171 배화여자고등학교\n",
      "급식 정보 조회 중: 날짜=20250618\n",
      "mealService 응답코드: 200\n",
      "급식 데이터 수: 41\n"
     ]
    },
    {
     "name": "stderr",
     "output_type": "stream",
     "text": [
      "고등학교 급식 조회:  61%|█████████████████████████████▋                   | 108/178 [00:22<00:15,  4.48it/s]"
     ]
    },
    {
     "name": "stdout",
     "output_type": "stream",
     "text": [
      "7010172 백암고등학교\n",
      "급식 정보 조회 중: 날짜=20250618\n",
      "mealService 응답코드: 200\n",
      "급식 데이터 수: 35\n"
     ]
    },
    {
     "name": "stderr",
     "output_type": "stream",
     "text": [
      "고등학교 급식 조회:  61%|██████████████████████████████                   | 109/178 [00:22<00:15,  4.56it/s]"
     ]
    },
    {
     "name": "stdout",
     "output_type": "stream",
     "text": [
      "7010173 보성고등학교\n",
      "급식 정보 조회 중: 날짜=20250618\n",
      "mealService 응답코드: 200\n",
      "급식 데이터 수: 38\n"
     ]
    },
    {
     "name": "stderr",
     "output_type": "stream",
     "text": [
      "고등학교 급식 조회:  62%|██████████████████████████████▌                  | 111/178 [00:23<00:13,  4.86it/s]"
     ]
    },
    {
     "name": "stdout",
     "output_type": "stream",
     "text": [
      "7010174 보성여자고등학교\n",
      "급식 정보 조회 중: 날짜=20250618\n",
      "mealService 응답코드: 200\n",
      "급식 데이터 수: 21\n",
      "7010813 보인고등학교\n",
      "급식 정보 조회 중: 날짜=20250618\n"
     ]
    },
    {
     "name": "stderr",
     "output_type": "stream",
     "text": [
      "고등학교 급식 조회:  63%|██████████████████████████████▊                  | 112/178 [00:23<00:13,  4.79it/s]"
     ]
    },
    {
     "name": "stdout",
     "output_type": "stream",
     "text": [
      "mealService 응답코드: 200\n",
      "급식 데이터 수: 59\n",
      "7010736 불암고등학교\n",
      "급식 정보 조회 중: 날짜=20250618\n"
     ]
    },
    {
     "name": "stderr",
     "output_type": "stream",
     "text": [
      "고등학교 급식 조회:  63%|███████████████████████████████                  | 113/178 [00:23<00:13,  4.88it/s]"
     ]
    },
    {
     "name": "stdout",
     "output_type": "stream",
     "text": [
      "mealService 응답코드: 200\n",
      "급식 데이터 수: 21\n",
      "7010985 삼각산고등학교\n",
      "급식 정보 조회 중: 날짜=20250618\n",
      "mealService 응답코드: 200\n",
      "급식 데이터 수: 19\n"
     ]
    },
    {
     "name": "stderr",
     "output_type": "stream",
     "text": [
      "고등학교 급식 조회:  65%|███████████████████████████████▋                 | 115/178 [00:24<00:12,  4.91it/s]"
     ]
    },
    {
     "name": "stdout",
     "output_type": "stream",
     "text": [
      "7010081 삼성고등학교\n",
      "급식 정보 조회 중: 날짜=20250618\n",
      "mealService 응답코드: 200\n",
      "급식 데이터 수: 21\n",
      "7010082 상계고등학교\n",
      "급식 정보 조회 중: 날짜=20250618\n",
      "mealService 응답코드: 200\n",
      "급식 데이터 수: 20\n"
     ]
    },
    {
     "name": "stderr",
     "output_type": "stream",
     "text": [
      "고등학교 급식 조회:  66%|████████████████████████████████▏                | 117/178 [00:24<00:12,  5.06it/s]"
     ]
    },
    {
     "name": "stdout",
     "output_type": "stream",
     "text": [
      "7010593 상명고등학교\n",
      "급식 정보 조회 중: 날짜=20250618\n",
      "mealService 응답코드: 200\n",
      "급식 데이터 수: 21\n",
      "7010178 상명대학교사범대학부속여자고등학교\n",
      "급식 정보 조회 중: 날짜=20250618\n",
      "mealService 응답코드: 200\n",
      "급식 데이터 수: 21\n"
     ]
    },
    {
     "name": "stderr",
     "output_type": "stream",
     "text": [
      "고등학교 급식 조회:  67%|████████████████████████████████▊                | 119/178 [00:24<00:11,  5.04it/s]"
     ]
    },
    {
     "name": "stdout",
     "output_type": "stream",
     "text": [
      "7010179 상문고등학교\n",
      "급식 정보 조회 중: 날짜=20250618\n",
      "mealService 응답코드: 200\n",
      "급식 데이터 수: 20\n"
     ]
    },
    {
     "name": "stderr",
     "output_type": "stream",
     "text": [
      "고등학교 급식 조회:  67%|█████████████████████████████████                | 120/178 [00:25<00:11,  5.11it/s]"
     ]
    },
    {
     "name": "stdout",
     "output_type": "stream",
     "text": [
      "7010806 상암고등학교\n",
      "급식 정보 조회 중: 날짜=20250618\n",
      "mealService 응답코드: 200\n",
      "급식 데이터 수: 21\n"
     ]
    },
    {
     "name": "stderr",
     "output_type": "stream",
     "text": [
      "고등학교 급식 조회:  68%|█████████████████████████████████▎               | 121/178 [00:25<00:10,  5.24it/s]"
     ]
    },
    {
     "name": "stdout",
     "output_type": "stream",
     "text": [
      "7010916 상일미디어고등학교\n",
      "급식 정보 조회 중: 날짜=20250618\n",
      "mealService 응답코드: 200\n",
      "급식 데이터 수: 21\n",
      "7010181 상일여자고등학교\n",
      "급식 정보 조회 중: 날짜=20250618\n"
     ]
    },
    {
     "name": "stderr",
     "output_type": "stream",
     "text": [
      "고등학교 급식 조회:  69%|█████████████████████████████████▌               | 122/178 [00:25<00:10,  5.24it/s]"
     ]
    },
    {
     "name": "stdout",
     "output_type": "stream",
     "text": [
      "mealService 응답코드: 200\n",
      "급식 데이터 수: 21\n",
      "7010182 서라벌고등학교\n",
      "급식 정보 조회 중: 날짜=20250618\n"
     ]
    },
    {
     "name": "stderr",
     "output_type": "stream",
     "text": [
      "고등학교 급식 조회:  69%|█████████████████████████████████▊               | 123/178 [00:25<00:10,  5.11it/s]"
     ]
    },
    {
     "name": "stdout",
     "output_type": "stream",
     "text": [
      "mealService 응답코드: 200\n",
      "급식 데이터 수: 35\n",
      "7010183 서문여자고등학교\n",
      "급식 정보 조회 중: 날짜=20250618\n"
     ]
    },
    {
     "name": "stderr",
     "output_type": "stream",
     "text": [
      "고등학교 급식 조회:  70%|██████████████████████████████████▏              | 124/178 [00:25<00:11,  4.87it/s]"
     ]
    },
    {
     "name": "stdout",
     "output_type": "stream",
     "text": [
      "mealService 응답코드: 200\n",
      "급식 데이터 수: 37\n",
      "7010721 서서울생활과학고등학교\n",
      "급식 정보 조회 중: 날짜=20250618\n",
      "mealService 응답코드: 200\n",
      "급식 데이터 수: 20\n"
     ]
    },
    {
     "name": "stderr",
     "output_type": "stream",
     "text": [
      "고등학교 급식 조회:  70%|██████████████████████████████████▍              | 125/178 [00:26<00:10,  4.90it/s]"
     ]
    },
    {
     "name": "stdout",
     "output_type": "stream",
     "text": [
      "7010083 서울고등학교\n",
      "급식 정보 조회 중: 날짜=20250618\n",
      "mealService 응답코드: 200\n",
      "급식 데이터 수: 41\n"
     ]
    },
    {
     "name": "stderr",
     "output_type": "stream",
     "text": [
      "고등학교 급식 조회:  71%|██████████████████████████████████▋              | 126/178 [00:26<00:10,  4.87it/s]"
     ]
    },
    {
     "name": "stdout",
     "output_type": "stream",
     "text": [
      "7010278 서울공업고등학교\n",
      "급식 정보 조회 중: 날짜=20250618\n",
      "mealService 응답코드: 200\n",
      "급식 데이터 수: 19\n"
     ]
    },
    {
     "name": "stderr",
     "output_type": "stream",
     "text": [
      "고등학교 급식 조회:  72%|███████████████████████████████████▏             | 128/178 [00:26<00:09,  5.10it/s]"
     ]
    },
    {
     "name": "stdout",
     "output_type": "stream",
     "text": [
      "7010906 서울공연예술고등학교\n",
      "급식 정보 조회 중: 날짜=20250618\n",
      "mealService 응답코드: 200\n",
      "급식 데이터 수: 21\n",
      "7010084 서울과학고등학교\n",
      "급식 정보 조회 중: 날짜=20250618\n"
     ]
    },
    {
     "name": "stderr",
     "output_type": "stream",
     "text": [
      "고등학교 급식 조회:  72%|███████████████████████████████████▌             | 129/178 [00:26<00:10,  4.83it/s]"
     ]
    },
    {
     "name": "stdout",
     "output_type": "stream",
     "text": [
      "mealService 응답코드: 200\n",
      "급식 데이터 수: 60\n",
      "7010739 서울관광고등학교\n",
      "급식 정보 조회 중: 날짜=20250618\n",
      "mealService 응답코드: 200\n",
      "급식 데이터 수: 19\n"
     ]
    },
    {
     "name": "stderr",
     "output_type": "stream",
     "text": [
      "고등학교 급식 조회:  73%|███████████████████████████████████▊             | 130/178 [00:27<00:09,  5.08it/s]"
     ]
    },
    {
     "name": "stdout",
     "output_type": "stream",
     "text": [
      "7010817 서울국제고등학교\n",
      "급식 정보 조회 중: 날짜=20250618\n",
      "mealService 응답코드: 200\n",
      "급식 데이터 수: 58\n"
     ]
    },
    {
     "name": "stderr",
     "output_type": "stream",
     "text": [
      "고등학교 급식 조회:  74%|████████████████████████████████████▎            | 132/178 [00:27<00:09,  5.10it/s]"
     ]
    },
    {
     "name": "stdout",
     "output_type": "stream",
     "text": [
      "7010964 서울금융고등학교\n",
      "급식 정보 조회 중: 날짜=20250618\n",
      "mealService 응답코드: 200\n",
      "급식 데이터 수: 20\n",
      "7011109 서울대학교사범대학부설고등학교\n",
      "급식 정보 조회 중: 날짜=20250618\n"
     ]
    },
    {
     "name": "stderr",
     "output_type": "stream",
     "text": [
      "고등학교 급식 조회:  75%|████████████████████████████████████▌            | 133/178 [00:27<00:08,  5.24it/s]"
     ]
    },
    {
     "name": "stdout",
     "output_type": "stream",
     "text": [
      "mealService 응답코드: 200\n",
      "급식 데이터 수: 21\n",
      "7011180 서울도시과학기술고등학교\n",
      "급식 정보 조회 중: 날짜=20250618\n"
     ]
    },
    {
     "name": "stderr",
     "output_type": "stream",
     "text": [
      "고등학교 급식 조회:  75%|████████████████████████████████████▉            | 134/178 [00:27<00:08,  4.97it/s]"
     ]
    },
    {
     "name": "stdout",
     "output_type": "stream",
     "text": [
      "mealService 응답코드: 200\n",
      "급식 데이터 수: 54\n",
      "7011539 서울동구고등학교\n",
      "급식 정보 조회 중: 날짜=20250618\n",
      "mealService 응답코드: 200\n",
      "급식 데이터 수: 19\n"
     ]
    },
    {
     "name": "stderr",
     "output_type": "stream",
     "text": [
      "고등학교 급식 조회:  76%|█████████████████████████████████████▏           | 135/178 [00:28<00:08,  5.06it/s]"
     ]
    },
    {
     "name": "stdout",
     "output_type": "stream",
     "text": [
      "7011494 서울동산고등학교\n",
      "급식 정보 조회 중: 날짜=20250618\n",
      "mealService 응답코드: 200\n",
      "급식 데이터 수: 21\n"
     ]
    },
    {
     "name": "stderr",
     "output_type": "stream",
     "text": [
      "고등학교 급식 조회:  76%|█████████████████████████████████████▍           | 136/178 [00:28<00:08,  4.90it/s]"
     ]
    },
    {
     "name": "stdout",
     "output_type": "stream",
     "text": [
      "7010741 서울디자인고등학교\n",
      "급식 정보 조회 중: 날짜=20250618\n",
      "mealService 응답코드: 200\n",
      "급식 데이터 수: 21\n"
     ]
    },
    {
     "name": "stderr",
     "output_type": "stream",
     "text": [
      "고등학교 급식 조회:  78%|█████████████████████████████████████▉           | 138/178 [00:28<00:07,  5.10it/s]"
     ]
    },
    {
     "name": "stdout",
     "output_type": "stream",
     "text": [
      "7011585 서울디지털콘텐츠고등학교\n",
      "급식 정보 조회 중: 날짜=20250618\n",
      "mealService 응답코드: 200\n",
      "급식 데이터 수: 21\n"
     ]
    },
    {
     "name": "stderr",
     "output_type": "stream",
     "text": [
      "고등학교 급식 조회:  78%|██████████████████████████████████████▎          | 139/178 [00:28<00:07,  5.27it/s]"
     ]
    },
    {
     "name": "stdout",
     "output_type": "stream",
     "text": [
      "7010572 서울디지텍고등학교\n",
      "급식 정보 조회 중: 날짜=20250618\n",
      "mealService 응답코드: 200\n",
      "급식 데이터 수: 21\n",
      "7010738 서울로봇고등학교\n",
      "급식 정보 조회 중: 날짜=20250618\n"
     ]
    },
    {
     "name": "stderr",
     "output_type": "stream",
     "text": [
      "고등학교 급식 조회:  79%|██████████████████████████████████████▌          | 140/178 [00:29<00:07,  4.91it/s]"
     ]
    },
    {
     "name": "stdout",
     "output_type": "stream",
     "text": [
      "mealService 응답코드: 200\n",
      "급식 데이터 수: 62\n",
      "7011506 서울매그넷고등학교\n",
      "급식 정보 조회 중: 날짜=20250618\n",
      "mealService 응답코드: 200\n",
      "급식 데이터 수: 20\n"
     ]
    },
    {
     "name": "stderr",
     "output_type": "stream",
     "text": [
      "고등학교 급식 조회:  80%|███████████████████████████████████████          | 142/178 [00:29<00:06,  5.18it/s]"
     ]
    },
    {
     "name": "stdout",
     "output_type": "stream",
     "text": [
      "7010697 서울문영여자고등학교\n",
      "급식 정보 조회 중: 날짜=20250618\n",
      "mealService 응답코드: 200\n",
      "급식 데이터 수: 41\n"
     ]
    },
    {
     "name": "stderr",
     "output_type": "stream",
     "text": [
      "고등학교 급식 조회:  80%|███████████████████████████████████████▎         | 143/178 [00:29<00:06,  5.18it/s]"
     ]
    },
    {
     "name": "stdout",
     "output_type": "stream",
     "text": [
      "7010888 서울문화고등학교\n",
      "급식 정보 조회 중: 날짜=20250618\n",
      "mealService 응답코드: 200\n",
      "급식 데이터 수: 19\n"
     ]
    },
    {
     "name": "stderr",
     "output_type": "stream",
     "text": [
      "고등학교 급식 조회:  81%|███████████████████████████████████████▋         | 144/178 [00:29<00:06,  5.32it/s]"
     ]
    },
    {
     "name": "stdout",
     "output_type": "stream",
     "text": [
      "7010185 서울미술고등학교\n",
      "급식 정보 조회 중: 날짜=20250618\n",
      "mealService 응답코드: 200\n",
      "급식 데이터 수: 18\n",
      "7011575 서울반도체고등학교\n",
      "급식 정보 조회 중: 날짜=20250618\n"
     ]
    },
    {
     "name": "stderr",
     "output_type": "stream",
     "text": [
      "고등학교 급식 조회:  81%|███████████████████████████████████████▉         | 145/178 [00:30<00:06,  5.04it/s]"
     ]
    },
    {
     "name": "stdout",
     "output_type": "stream",
     "text": [
      "mealService 응답코드: 200\n",
      "급식 데이터 수: 21\n",
      "7010836 서울방송고등학교\n",
      "급식 정보 조회 중: 날짜=20250618\n",
      "mealService 응답코드: 200\n",
      "급식 데이터 수: 20\n"
     ]
    },
    {
     "name": "stderr",
     "output_type": "stream",
     "text": [
      "고등학교 급식 조회:  83%|████████████████████████████████████████▍        | 147/178 [00:30<00:05,  5.24it/s]"
     ]
    },
    {
     "name": "stdout",
     "output_type": "stream",
     "text": [
      "7011584 서울백영고등학교\n",
      "급식 정보 조회 중: 날짜=20250618\n",
      "mealService 응답코드: 200\n",
      "급식 데이터 수: 17\n"
     ]
    },
    {
     "name": "stderr",
     "output_type": "stream",
     "text": [
      "고등학교 급식 조회:  83%|████████████████████████████████████████▋        | 148/178 [00:30<00:05,  5.43it/s]"
     ]
    },
    {
     "name": "stdout",
     "output_type": "stream",
     "text": [
      "7010186 서울세종고등학교\n",
      "급식 정보 조회 중: 날짜=20250618\n",
      "mealService 응답코드: 200\n",
      "급식 데이터 수: 21\n",
      "7011492 서울신정고등학교\n",
      "급식 정보 조회 중: 날짜=20250618\n"
     ]
    },
    {
     "name": "stderr",
     "output_type": "stream",
     "text": [
      "고등학교 급식 조회:  84%|█████████████████████████████████████████        | 149/178 [00:30<00:05,  5.32it/s]"
     ]
    },
    {
     "name": "stdout",
     "output_type": "stream",
     "text": [
      "mealService 응답코드: 200\n",
      "급식 데이터 수: 21\n",
      "7010960 서울아이티고등학교\n",
      "급식 정보 조회 중: 날짜=20250618\n"
     ]
    },
    {
     "name": "stderr",
     "output_type": "stream",
     "text": [
      "고등학교 급식 조회:  84%|█████████████████████████████████████████▎       | 150/178 [00:30<00:05,  5.26it/s]"
     ]
    },
    {
     "name": "stdout",
     "output_type": "stream",
     "text": [
      "mealService 응답코드: 200\n",
      "급식 데이터 수: 21\n",
      "7010085 서울여자고등학교\n",
      "급식 정보 조회 중: 날짜=20250618\n"
     ]
    },
    {
     "name": "stderr",
     "output_type": "stream",
     "text": [
      "고등학교 급식 조회:  85%|█████████████████████████████████████████▌       | 151/178 [00:31<00:05,  5.08it/s]"
     ]
    },
    {
     "name": "stdout",
     "output_type": "stream",
     "text": [
      "mealService 응답코드: 200\n",
      "급식 데이터 수: 41\n",
      "7010340 서울여자상업고등학교\n",
      "급식 정보 조회 중: 날짜=20250618\n",
      "mealService 응답코드: 200\n",
      "급식 데이터 수: 20\n"
     ]
    },
    {
     "name": "stderr",
     "output_type": "stream",
     "text": [
      "고등학교 급식 조회:  85%|█████████████████████████████████████████▊       | 152/178 [00:31<00:05,  5.01it/s]"
     ]
    },
    {
     "name": "stdout",
     "output_type": "stream",
     "text": [
      "7010795 서울영상고등학교\n",
      "급식 정보 조회 중: 날짜=20250618\n",
      "mealService 응답코드: 200\n",
      "급식 데이터 수: 55\n"
     ]
    },
    {
     "name": "stderr",
     "output_type": "stream",
     "text": [
      "고등학교 급식 조회:  86%|██████████████████████████████████████████       | 153/178 [00:31<00:05,  4.77it/s]"
     ]
    },
    {
     "name": "stdout",
     "output_type": "stream",
     "text": [
      "7010187 서울예술고등학교\n",
      "급식 정보 조회 중: 날짜=20250618\n",
      "mealService 응답코드: 200\n",
      "급식 데이터 수: 30\n"
     ]
    },
    {
     "name": "stderr",
     "output_type": "stream",
     "text": [
      "고등학교 급식 조회:  87%|██████████████████████████████████████████▋      | 155/178 [00:32<00:04,  4.89it/s]"
     ]
    },
    {
     "name": "stdout",
     "output_type": "stream",
     "text": [
      "7010188 서울외국어고등학교\n",
      "급식 정보 조회 중: 날짜=20250618\n",
      "mealService 응답코드: 200\n",
      "급식 데이터 수: 37\n"
     ]
    },
    {
     "name": "stderr",
     "output_type": "stream",
     "text": [
      "고등학교 급식 조회:  88%|██████████████████████████████████████████▉      | 156/178 [00:32<00:04,  5.07it/s]"
     ]
    },
    {
     "name": "stdout",
     "output_type": "stream",
     "text": [
      "7011558 서울웹툰애니메이션고등학교\n",
      "급식 정보 조회 중: 날짜=20250618\n",
      "mealService 응답코드: 200\n",
      "급식 데이터 수: 18\n",
      "7011486 서울의료보건고등학교\n",
      "급식 정보 조회 중: 날짜=20250618\n"
     ]
    },
    {
     "name": "stderr",
     "output_type": "stream",
     "text": [
      "고등학교 급식 조회:  88%|███████████████████████████████████████████▏     | 157/178 [00:32<00:04,  4.93it/s]"
     ]
    },
    {
     "name": "stdout",
     "output_type": "stream",
     "text": [
      "mealService 응답코드: 200\n",
      "급식 데이터 수: 21\n",
      "7011498 서울인공지능고등학교\n",
      "급식 정보 조회 중: 날짜=20250618\n",
      "mealService 응답코드: 200\n",
      "급식 데이터 수: 21\n"
     ]
    },
    {
     "name": "stderr",
     "output_type": "stream",
     "text": [
      "고등학교 급식 조회:  89%|███████████████████████████████████████████▊     | 159/178 [00:32<00:03,  5.07it/s]"
     ]
    },
    {
     "name": "stdout",
     "output_type": "stream",
     "text": [
      "7011513 서울정화고등학교\n",
      "급식 정보 조회 중: 날짜=20250618\n",
      "mealService 응답코드: 200\n",
      "급식 데이터 수: 21\n",
      "7010086 서울체육고등학교\n",
      "급식 정보 조회 중: 날짜=20250618\n",
      "mealService 응답코드: 200\n",
      "급식 데이터 수: 52\n"
     ]
    },
    {
     "name": "stderr",
     "output_type": "stream",
     "text": [
      "고등학교 급식 조회:  90%|████████████████████████████████████████████     | 160/178 [00:33<00:03,  4.67it/s]"
     ]
    },
    {
     "name": "stdout",
     "output_type": "stream",
     "text": [
      "7011213 서울컨벤션고등학교\n",
      "급식 정보 조회 중: 날짜=20250618\n",
      "mealService 응답코드: 200\n",
      "급식 데이터 수: 21\n"
     ]
    },
    {
     "name": "stderr",
     "output_type": "stream",
     "text": [
      "고등학교 급식 조회:  90%|████████████████████████████████████████████▎    | 161/178 [00:33<00:03,  4.70it/s]"
     ]
    },
    {
     "name": "stdout",
     "output_type": "stream",
     "text": [
      "7011491 서일문화예술고등학교\n",
      "급식 정보 조회 중: 날짜=20250618\n",
      "mealService 응답코드: 200\n",
      "급식 데이터 수: 16\n"
     ]
    },
    {
     "name": "stderr",
     "output_type": "stream",
     "text": [
      "고등학교 급식 조회:  92%|████████████████████████████████████████████▊    | 163/178 [00:33<00:03,  4.99it/s]"
     ]
    },
    {
     "name": "stdout",
     "output_type": "stream",
     "text": [
      "7010087 서초고등학교\n",
      "급식 정보 조회 중: 날짜=20250618\n",
      "mealService 응답코드: 200\n",
      "급식 데이터 수: 19\n",
      "7010088 석관고등학교\n",
      "급식 정보 조회 중: 날짜=20250618\n"
     ]
    },
    {
     "name": "stderr",
     "output_type": "stream",
     "text": [
      "고등학교 급식 조회:  92%|█████████████████████████████████████████████▏   | 164/178 [00:33<00:02,  5.02it/s]"
     ]
    },
    {
     "name": "stdout",
     "output_type": "stream",
     "text": [
      "mealService 응답코드: 200\n",
      "급식 데이터 수: 21\n",
      "7010189 선덕고등학교\n",
      "급식 정보 조회 중: 날짜=20250618\n"
     ]
    },
    {
     "name": "stderr",
     "output_type": "stream",
     "text": [
      "고등학교 급식 조회:  93%|█████████████████████████████████████████████▍   | 165/178 [00:34<00:02,  5.05it/s]"
     ]
    },
    {
     "name": "stdout",
     "output_type": "stream",
     "text": [
      "mealService 응답코드: 200\n",
      "급식 데이터 수: 43\n",
      "7010536 선린인터넷고등학교\n",
      "급식 정보 조회 중: 날짜=20250618\n",
      "mealService 응답코드: 200\n",
      "급식 데이터 수: 19\n"
     ]
    },
    {
     "name": "stderr",
     "output_type": "stream",
     "text": [
      "고등학교 급식 조회:  94%|█████████████████████████████████████████████▉   | 167/178 [00:34<00:02,  5.19it/s]"
     ]
    },
    {
     "name": "stdout",
     "output_type": "stream",
     "text": [
      "7010984 선사고등학교\n",
      "급식 정보 조회 중: 날짜=20250618\n",
      "mealService 응답코드: 200\n",
      "급식 데이터 수: 21\n"
     ]
    },
    {
     "name": "stderr",
     "output_type": "stream",
     "text": [
      "고등학교 급식 조회:  94%|██████████████████████████████████████████████▏  | 168/178 [00:34<00:01,  5.21it/s]"
     ]
    },
    {
     "name": "stdout",
     "output_type": "stream",
     "text": [
      "7010734 선유고등학교\n",
      "급식 정보 조회 중: 날짜=20250618\n",
      "mealService 응답코드: 200\n",
      "급식 데이터 수: 20\n"
     ]
    },
    {
     "name": "stderr",
     "output_type": "stream",
     "text": [
      "고등학교 급식 조회:  95%|██████████████████████████████████████████████▌  | 169/178 [00:34<00:01,  5.21it/s]"
     ]
    },
    {
     "name": "stdout",
     "output_type": "stream",
     "text": [
      "7011508 선일빅데이터고등학교\n",
      "급식 정보 조회 중: 날짜=20250618\n",
      "mealService 응답코드: 200\n",
      "급식 데이터 수: 21\n"
     ]
    },
    {
     "name": "stderr",
     "output_type": "stream",
     "text": [
      "고등학교 급식 조회:  96%|██████████████████████████████████████████████▊  | 170/178 [00:34<00:01,  5.17it/s]"
     ]
    },
    {
     "name": "stdout",
     "output_type": "stream",
     "text": [
      "7010190 선일여자고등학교\n",
      "급식 정보 조회 중: 날짜=20250618\n",
      "mealService 응답코드: 200\n",
      "급식 데이터 수: 21\n",
      "7010191 선정고등학교\n",
      "급식 정보 조회 중: 날짜=20250618\n",
      "mealService 응답코드: 200\n",
      "급식 데이터 수: 40\n"
     ]
    },
    {
     "name": "stderr",
     "output_type": "stream",
     "text": [
      "고등학교 급식 조회:  96%|███████████████████████████████████████████████  | 171/178 [00:35<00:01,  4.87it/s]"
     ]
    },
    {
     "name": "stdout",
     "output_type": "stream",
     "text": [
      "7011315 선정국제관광고등학교\n",
      "급식 정보 조회 중: 날짜=20250618\n",
      "mealService 응답코드: 200\n",
      "급식 데이터 수: 40\n"
     ]
    },
    {
     "name": "stderr",
     "output_type": "stream",
     "text": [
      "고등학교 급식 조회:  97%|███████████████████████████████████████████████▎ | 172/178 [00:35<00:01,  4.60it/s]"
     ]
    },
    {
     "name": "stdout",
     "output_type": "stream",
     "text": [
      "7010192 선화예술고등학교\n",
      "급식 정보 조회 중: 날짜=20250618\n",
      "mealService 응답코드: 200\n",
      "급식 데이터 수: 62\n"
     ]
    },
    {
     "name": "stderr",
     "output_type": "stream",
     "text": [
      "고등학교 급식 조회:  98%|███████████████████████████████████████████████▉ | 174/178 [00:35<00:00,  4.64it/s]"
     ]
    },
    {
     "name": "stdout",
     "output_type": "stream",
     "text": [
      "7010193 성남고등학교\n",
      "급식 정보 조회 중: 날짜=20250618\n",
      "mealService 응답코드: 200\n",
      "급식 데이터 수: 19\n",
      "7011179 성덕고등학교\n",
      "급식 정보 조회 중: 날짜=20250618\n"
     ]
    },
    {
     "name": "stderr",
     "output_type": "stream",
     "text": [
      "고등학교 급식 조회:  98%|████████████████████████████████████████████████▏| 175/178 [00:36<00:00,  4.90it/s]"
     ]
    },
    {
     "name": "stdout",
     "output_type": "stream",
     "text": [
      "mealService 응답코드: 200\n",
      "급식 데이터 수: 21\n",
      "7010089 성동고등학교\n",
      "급식 정보 조회 중: 날짜=20250618\n",
      "mealService 응답코드: 200\n",
      "급식 데이터 수: 20\n"
     ]
    },
    {
     "name": "stderr",
     "output_type": "stream",
     "text": [
      "고등학교 급식 조회:  99%|████████████████████████████████████████████████▍| 176/178 [00:36<00:00,  5.06it/s]"
     ]
    },
    {
     "name": "stdout",
     "output_type": "stream",
     "text": [
      "7010737 성동공업고등학교\n",
      "급식 정보 조회 중: 날짜=20250618\n",
      "mealService 응답코드: 200\n",
      "급식 데이터 수: 38\n"
     ]
    },
    {
     "name": "stderr",
     "output_type": "stream",
     "text": [
      "고등학교 급식 조회: 100%|█████████████████████████████████████████████████| 178/178 [00:36<00:00,  5.06it/s]"
     ]
    },
    {
     "name": "stdout",
     "output_type": "stream",
     "text": [
      "7010889 성동글로벌경영고등학교\n",
      "급식 정보 조회 중: 날짜=20250618\n",
      "mealService 응답코드: 200\n",
      "급식 데이터 수: 19\n"
     ]
    },
    {
     "name": "stderr",
     "output_type": "stream",
     "text": [
      "고등학교 급식 조회: 100%|█████████████████████████████████████████████████| 178/178 [00:36<00:00,  4.85it/s]"
     ]
    },
    {
     "name": "stdout",
     "output_type": "stream",
     "text": [
      "수집된 급식 행 수: 5222\n",
      "  교육청코드     학교코드     학교명      급식일자 식사명  \\\n",
      "0   B10  7010057  가락고등학교  20250519  중식   \n",
      "1   B10  7010057  가락고등학교  20250520  중식   \n",
      "2   B10  7010057  가락고등학교  20250521  중식   \n",
      "3   B10  7010057  가락고등학교  20250522  중식   \n",
      "4   B10  7010057  가락고등학교  20250523  중식   \n",
      "\n",
      "                                                급식식단  \n",
      "0  쌀밥 <br/>소고기미역국 (2.5.6.15.16.18)<br/>돼지갈비찜 (5.6...  \n",
      "1  쇠고기콩나물밥 (5.6.16)<br/>물만두국 (1.2.5.6.10.15.16.18...  \n",
      "2  새우볶음밥 (1.5.6.8.9.13.18)<br/>씨앗호떡파이 (1.2.3.5.6)...  \n",
      "3  쌀밥 <br/>볶음우동 (5.6.8.9.13.15.17.18)<br/>zero초코파...  \n",
      "4  현미밥 <br/>어묵국 (1.2.5.6.15.16.18)<br/>마라찜닭 (5.6....  \n"
     ]
    },
    {
     "name": "stderr",
     "output_type": "stream",
     "text": [
      "\n"
     ]
    }
   ],
   "source": [
    "highschool_list = get_highschools(EDU_CODE)\n",
    "def get_meal_info(edu_code, school_code,from_date,to_date):\n",
    "    print(f\"급식 정보 조회 중: 날짜={TARGET_DATE}\")\n",
    "    url = \"https://open.neis.go.kr/hub/mealServiceDietInfo\"\n",
    "    params = {\n",
    "        \"KEY\": API_KEY,\n",
    "        \"Type\": \"json\",\n",
    "        \"ATPT_OFCDC_SC_CODE\": edu_code,\n",
    "        \"SD_SCHUL_CODE\": school_code,\n",
    "        \"MLSV_FROM_YMD\": from_date,\n",
    "        \"MLSV_TO_YMD\": to_date,\n",
    "        \"pIndex\" : 1,\n",
    "        \"pSize\" : 100\n",
    "    \n",
    "    }\n",
    "    try:\n",
    "        res = requests.get(url, params=params, timeout=5)\n",
    "        print(f\"mealService 응답코드: {res.status_code}\")\n",
    "        if res.status_code == 200:\n",
    "            data = res.json()\n",
    "            if \"mealServiceDietInfo\" in data:\n",
    "                print(f\"급식 데이터 수: {len(data['mealServiceDietInfo'][1]['row'])}\")\n",
    "                return data[\"mealServiceDietInfo\"][1][\"row\"]\n",
    "            else:\n",
    "                print(\"mealServiceDietInfo 키 없음:\", data)\n",
    "        else:\n",
    "            print(\"응답 실패:\", res.text)\n",
    "    except Exception as e:\n",
    "        print(f\"급식 정보 조회 오류: {e}\")\n",
    "    return []\n",
    "\n",
    "all_data = []\n",
    "for school_code, school_name in tqdm(highschool_list, desc=\"고등학교 급식 조회\"):\n",
    "    print(school_code, school_name)\n",
    "    meals = get_meal_info(EDU_CODE, school_code, FROM_DATE, TO_DATE)\n",
    "    for meal in meals:\n",
    "        all_data.append({\n",
    "            \"교육청코드\": EDU_CODE,\n",
    "            \"학교코드\": school_code,\n",
    "            \"학교명\": school_name,\n",
    "            \"급식일자\": meal.get(\"MLSV_YMD\"),\n",
    "            \"식사명\": meal.get(\"MMEAL_SC_NM\"),\n",
    "            \"급식식단\": meal.get(\"DDISH_NM\")\n",
    "        })\n",
    "    time.sleep(0.1)\n",
    "\n",
    "# 저장\n",
    "df = pd.DataFrame(all_data)\n",
    "print(\"수집된 급식 행 수:\", len(df))\n",
    "print(df.head())\n",
    "    "
   ]
  },
  {
   "cell_type": "code",
   "execution_count": 52,
   "id": "b8bea391-dce6-4e61-b3ad-514b614701e9",
   "metadata": {},
   "outputs": [
    {
     "name": "stdout",
     "output_type": "stream",
     "text": [
      "CSV 저장 완료: 서울_고등학교 전국_급식_1개월.csv\n"
     ]
    }
   ],
   "source": [
    "df.to_csv(\"서울_고등학교 전국_급식_1개월.csv\", index=False, encoding=\"utf-8-sig\")\n",
    "print(\"CSV 저장 완료: 서울_고등학교 전국_급식_1개월.csv\")"
   ]
  },
  {
   "cell_type": "markdown",
   "id": "3e9272f4-42cf-4308-b3c9-a5bb7f6114fc",
   "metadata": {},
   "source": [
    "# 4교시 미션 \n",
    "- 전국 시도 교육청 기반으로 고등학교 전체 급식 데이터 수집\n",
    "  GPT 사용 하지않고 진행 (반복문~반복문~조건문 , 기초문법 확장한 개념)"
   ]
  },
  {
   "cell_type": "code",
   "execution_count": 69,
   "id": "e6ee1f4d-e4bc-49c5-b1cc-150a19fc01f5",
   "metadata": {},
   "outputs": [
    {
     "name": "stdout",
     "output_type": "stream",
     "text": [
      "응답코드 : 200\n"
     ]
    },
    {
     "name": "stderr",
     "output_type": "stream",
     "text": [
      "고등학교 급식 조회:   0%|                                                           | 0/178 [00:00<?, ?it/s]"
     ]
    },
    {
     "name": "stdout",
     "output_type": "stream",
     "text": [
      "7010057 가락고등학교\n",
      "급식 정보 조회 중: 날짜=20250618\n",
      "mealService 응답코드: 200\n",
      "급식 데이터 수: 21\n"
     ]
    },
    {
     "name": "stderr",
     "output_type": "stream",
     "text": [
      "고등학교 급식 조회:   1%|▎                                                  | 1/178 [00:00<00:44,  3.95it/s]"
     ]
    },
    {
     "name": "stdout",
     "output_type": "stream",
     "text": [
      "7011169 가재울고등학교\n",
      "급식 정보 조회 중: 날짜=20250618\n",
      "mealService 응답코드: 200\n",
      "급식 데이터 수: 21\n"
     ]
    },
    {
     "name": "stderr",
     "output_type": "stream",
     "text": [
      "고등학교 급식 조회:   1%|▌                                                  | 2/178 [00:00<00:41,  4.21it/s]"
     ]
    },
    {
     "name": "stdout",
     "output_type": "stream",
     "text": [
      "7010117 강동고등학교\n",
      "급식 정보 조회 중: 날짜=20250618\n",
      "mealService 응답코드: 200\n",
      "급식 데이터 수: 41\n"
     ]
    },
    {
     "name": "stderr",
     "output_type": "stream",
     "text": [
      "고등학교 급식 조회:   2%|▊                                                  | 3/178 [00:00<00:39,  4.38it/s]"
     ]
    },
    {
     "name": "stdout",
     "output_type": "stream",
     "text": [
      "7010118 강서고등학교\n",
      "급식 정보 조회 중: 날짜=20250618\n",
      "mealService 응답코드: 200\n",
      "급식 데이터 수: 42\n"
     ]
    },
    {
     "name": "stderr",
     "output_type": "stream",
     "text": [
      "고등학교 급식 조회:   2%|█▏                                                 | 4/178 [00:00<00:40,  4.26it/s]"
     ]
    },
    {
     "name": "stdout",
     "output_type": "stream",
     "text": [
      "7010958 강일고등학교\n",
      "급식 정보 조회 중: 날짜=20250618\n",
      "mealService 응답코드: 200\n",
      "급식 데이터 수: 21\n"
     ]
    },
    {
     "name": "stderr",
     "output_type": "stream",
     "text": [
      "고등학교 급식 조회:   3%|█▍                                                 | 5/178 [00:01<00:39,  4.40it/s]"
     ]
    },
    {
     "name": "stdout",
     "output_type": "stream",
     "text": [
      "7010058 개포고등학교\n",
      "급식 정보 조회 중: 날짜=20250618\n",
      "mealService 응답코드: 200\n",
      "급식 데이터 수: 21\n"
     ]
    },
    {
     "name": "stderr",
     "output_type": "stream",
     "text": [
      "고등학교 급식 조회:   3%|█▋                                                 | 6/178 [00:01<00:38,  4.53it/s]"
     ]
    },
    {
     "name": "stdout",
     "output_type": "stream",
     "text": [
      "7010119 건국대학교사범대학부속고등학교\n",
      "급식 정보 조회 중: 날짜=20250618\n",
      "mealService 응답코드: 200\n",
      "급식 데이터 수: 41\n"
     ]
    },
    {
     "name": "stderr",
     "output_type": "stream",
     "text": [
      "고등학교 급식 조회:   4%|██                                                 | 7/178 [00:01<00:37,  4.57it/s]"
     ]
    },
    {
     "name": "stdout",
     "output_type": "stream",
     "text": [
      "7010059 경기고등학교\n",
      "급식 정보 조회 중: 날짜=20250618\n",
      "mealService 응답코드: 200\n",
      "급식 데이터 수: 36\n"
     ]
    },
    {
     "name": "stderr",
     "output_type": "stream",
     "text": [
      "고등학교 급식 조회:   4%|██▎                                                | 8/178 [00:01<00:36,  4.63it/s]"
     ]
    },
    {
     "name": "stdout",
     "output_type": "stream",
     "text": [
      "7010271 경기기계공업고등학교\n",
      "급식 정보 조회 중: 날짜=20250618\n",
      "mealService 응답코드: 200\n",
      "급식 데이터 수: 59\n"
     ]
    },
    {
     "name": "stderr",
     "output_type": "stream",
     "text": [
      "고등학교 급식 조회:   5%|██▌                                                | 9/178 [00:02<00:39,  4.25it/s]"
     ]
    },
    {
     "name": "stdout",
     "output_type": "stream",
     "text": [
      "7010272 경기상업고등학교\n",
      "급식 정보 조회 중: 날짜=20250618\n",
      "mealService 응답코드: 200\n",
      "급식 데이터 수: 20\n"
     ]
    },
    {
     "name": "stderr",
     "output_type": "stream",
     "text": [
      "고등학교 급식 조회:   6%|██▊                                               | 10/178 [00:02<00:39,  4.27it/s]"
     ]
    },
    {
     "name": "stdout",
     "output_type": "stream",
     "text": [
      "7010060 경기여자고등학교\n",
      "급식 정보 조회 중: 날짜=20250618\n",
      "mealService 응답코드: 200\n",
      "급식 데이터 수: 21\n"
     ]
    },
    {
     "name": "stderr",
     "output_type": "stream",
     "text": [
      "고등학교 급식 조회:   6%|███                                               | 11/178 [00:02<00:38,  4.35it/s]"
     ]
    },
    {
     "name": "stdout",
     "output_type": "stream",
     "text": [
      "7010061 경동고등학교\n",
      "급식 정보 조회 중: 날짜=20250618\n",
      "mealService 응답코드: 200\n",
      "급식 데이터 수: 21\n"
     ]
    },
    {
     "name": "stderr",
     "output_type": "stream",
     "text": [
      "고등학교 급식 조회:   7%|███▎                                              | 12/178 [00:02<00:36,  4.51it/s]"
     ]
    },
    {
     "name": "stdout",
     "output_type": "stream",
     "text": [
      "7010120 경문고등학교\n",
      "급식 정보 조회 중: 날짜=20250618\n",
      "mealService 응답코드: 200\n",
      "급식 데이터 수: 21\n"
     ]
    },
    {
     "name": "stderr",
     "output_type": "stream",
     "text": [
      "고등학교 급식 조회:   8%|███▉                                              | 14/178 [00:03<00:34,  4.72it/s]"
     ]
    },
    {
     "name": "stdout",
     "output_type": "stream",
     "text": [
      "7010062 경복고등학교\n",
      "급식 정보 조회 중: 날짜=20250618\n",
      "mealService 응답코드: 200\n",
      "급식 데이터 수: 21\n",
      "7010835 경복비즈니스고등학교\n",
      "급식 정보 조회 중: 날짜=20250618\n",
      "mealService 응답코드: 200\n",
      "급식 데이터 수: 36\n"
     ]
    },
    {
     "name": "stderr",
     "output_type": "stream",
     "text": [
      "고등학교 급식 조회:   8%|████▏                                             | 15/178 [00:03<00:34,  4.70it/s]"
     ]
    },
    {
     "name": "stdout",
     "output_type": "stream",
     "text": [
      "7010122 경복여자고등학교\n",
      "급식 정보 조회 중: 날짜=20250618\n",
      "mealService 응답코드: 200\n",
      "급식 데이터 수: 36\n"
     ]
    },
    {
     "name": "stderr",
     "output_type": "stream",
     "text": [
      "고등학교 급식 조회:   9%|████▍                                             | 16/178 [00:03<00:34,  4.63it/s]"
     ]
    },
    {
     "name": "stdout",
     "output_type": "stream",
     "text": [
      "7010124 경성고등학교\n",
      "급식 정보 조회 중: 날짜=20250618\n",
      "mealService 응답코드: 200\n",
      "급식 데이터 수: 21\n"
     ]
    },
    {
     "name": "stderr",
     "output_type": "stream",
     "text": [
      "고등학교 급식 조회:  10%|████▊                                             | 17/178 [00:03<00:34,  4.67it/s]"
     ]
    },
    {
     "name": "stdout",
     "output_type": "stream",
     "text": [
      "7010125 경신고등학교\n",
      "급식 정보 조회 중: 날짜=20250618\n",
      "mealService 응답코드: 200\n",
      "급식 데이터 수: 37\n"
     ]
    },
    {
     "name": "stderr",
     "output_type": "stream",
     "text": [
      "고등학교 급식 조회:  11%|█████▎                                            | 19/178 [00:04<00:33,  4.73it/s]"
     ]
    },
    {
     "name": "stdout",
     "output_type": "stream",
     "text": [
      "7010563 경인고등학교\n",
      "급식 정보 조회 중: 날짜=20250618\n",
      "mealService 응답코드: 200\n",
      "급식 데이터 수: 21\n",
      "7010698 경일고등학교\n",
      "급식 정보 조회 중: 날짜=20250618\n",
      "mealService 응답코드: 200\n",
      "급식 데이터 수: 21\n"
     ]
    },
    {
     "name": "stderr",
     "output_type": "stream",
     "text": [
      "고등학교 급식 조회:  11%|█████▌                                            | 20/178 [00:04<00:33,  4.67it/s]"
     ]
    },
    {
     "name": "stdout",
     "output_type": "stream",
     "text": [
      "7010126 경희고등학교\n",
      "급식 정보 조회 중: 날짜=20250618\n",
      "mealService 응답코드: 200\n",
      "급식 데이터 수: 41\n"
     ]
    },
    {
     "name": "stderr",
     "output_type": "stream",
     "text": [
      "고등학교 급식 조회:  12%|█████▉                                            | 21/178 [00:04<00:33,  4.64it/s]"
     ]
    },
    {
     "name": "stdout",
     "output_type": "stream",
     "text": [
      "7010127 경희여자고등학교\n",
      "급식 정보 조회 중: 날짜=20250618\n",
      "mealService 응답코드: 200\n",
      "급식 데이터 수: 38\n"
     ]
    },
    {
     "name": "stderr",
     "output_type": "stream",
     "text": [
      "고등학교 급식 조회:  12%|██████▏                                           | 22/178 [00:04<00:34,  4.46it/s]"
     ]
    },
    {
     "name": "stdout",
     "output_type": "stream",
     "text": [
      "7011312 계성고등학교\n",
      "급식 정보 조회 중: 날짜=20250618\n",
      "mealService 응답코드: 200\n",
      "급식 데이터 수: 37\n"
     ]
    },
    {
     "name": "stderr",
     "output_type": "stream",
     "text": [
      "고등학교 급식 조회:  13%|██████▍                                           | 23/178 [00:05<00:36,  4.24it/s]"
     ]
    },
    {
     "name": "stdout",
     "output_type": "stream",
     "text": [
      "7010797 고려대학교사범대학부속고등학교\n",
      "급식 정보 조회 중: 날짜=20250618\n",
      "mealService 응답코드: 200\n",
      "급식 데이터 수: 21\n"
     ]
    },
    {
     "name": "stderr",
     "output_type": "stream",
     "text": [
      "고등학교 급식 조회:  13%|██████▋                                           | 24/178 [00:05<00:38,  4.05it/s]"
     ]
    },
    {
     "name": "stdout",
     "output_type": "stream",
     "text": [
      "7011487 고명외식고등학교\n",
      "급식 정보 조회 중: 날짜=20250618\n",
      "mealService 응답코드: 200\n",
      "급식 데이터 수: 20\n"
     ]
    },
    {
     "name": "stderr",
     "output_type": "stream",
     "text": [
      "고등학교 급식 조회:  15%|███████▎                                          | 26/178 [00:05<00:34,  4.37it/s]"
     ]
    },
    {
     "name": "stdout",
     "output_type": "stream",
     "text": [
      "7010063 고척고등학교\n",
      "급식 정보 조회 중: 날짜=20250618\n",
      "mealService 응답코드: 200\n",
      "급식 데이터 수: 21\n",
      "7010064 공항고등학교\n",
      "급식 정보 조회 중: 날짜=20250618\n",
      "mealService 응답코드: 200\n",
      "급식 데이터 수: 20\n"
     ]
    },
    {
     "name": "stderr",
     "output_type": "stream",
     "text": [
      "고등학교 급식 조회:  15%|███████▌                                          | 27/178 [00:06<00:37,  4.04it/s]"
     ]
    },
    {
     "name": "stdout",
     "output_type": "stream",
     "text": [
      "7010065 관악고등학교\n",
      "급식 정보 조회 중: 날짜=20250618\n"
     ]
    },
    {
     "name": "stderr",
     "output_type": "stream",
     "text": [
      "고등학교 급식 조회:  16%|███████▊                                          | 28/178 [00:06<00:41,  3.58it/s]"
     ]
    },
    {
     "name": "stdout",
     "output_type": "stream",
     "text": [
      "mealService 응답코드: 200\n",
      "급식 데이터 수: 21\n",
      "7010066 광남고등학교\n",
      "급식 정보 조회 중: 날짜=20250618\n"
     ]
    },
    {
     "name": "stderr",
     "output_type": "stream",
     "text": [
      "고등학교 급식 조회:  16%|████████▏                                         | 29/178 [00:06<00:42,  3.52it/s]"
     ]
    },
    {
     "name": "stdout",
     "output_type": "stream",
     "text": [
      "mealService 응답코드: 200\n",
      "급식 데이터 수: 40\n",
      "7010131 광문고등학교\n",
      "급식 정보 조회 중: 날짜=20250618\n"
     ]
    },
    {
     "name": "stderr",
     "output_type": "stream",
     "text": [
      "고등학교 급식 조회:  17%|████████▍                                         | 30/178 [00:07<00:42,  3.48it/s]"
     ]
    },
    {
     "name": "stdout",
     "output_type": "stream",
     "text": [
      "mealService 응답코드: 200\n",
      "급식 데이터 수: 33\n",
      "7010132 광성고등학교\n",
      "급식 정보 조회 중: 날짜=20250618\n"
     ]
    },
    {
     "name": "stderr",
     "output_type": "stream",
     "text": [
      "고등학교 급식 조회:  17%|████████▋                                         | 31/178 [00:07<00:42,  3.44it/s]"
     ]
    },
    {
     "name": "stdout",
     "output_type": "stream",
     "text": [
      "mealService 응답코드: 200\n",
      "급식 데이터 수: 59\n",
      "7010133 광신고등학교\n",
      "급식 정보 조회 중: 날짜=20250618\n"
     ]
    },
    {
     "name": "stderr",
     "output_type": "stream",
     "text": [
      "고등학교 급식 조회:  18%|████████▉                                         | 32/178 [00:07<00:40,  3.65it/s]"
     ]
    },
    {
     "name": "stdout",
     "output_type": "stream",
     "text": [
      "mealService 응답코드: 200\n",
      "급식 데이터 수: 21\n",
      "7011488 광신방송예술고등학교\n",
      "급식 정보 조회 중: 날짜=20250618\n",
      "mealService 응답코드: 200\n",
      "급식 데이터 수: 8\n"
     ]
    },
    {
     "name": "stderr",
     "output_type": "stream",
     "text": [
      "고등학교 급식 조회:  19%|█████████▎                                        | 33/178 [00:07<00:36,  3.97it/s]"
     ]
    },
    {
     "name": "stdout",
     "output_type": "stream",
     "text": [
      "7010067 광양고등학교\n",
      "급식 정보 조회 중: 날짜=20250618\n",
      "mealService 응답코드: 200\n",
      "급식 데이터 수: 20\n"
     ]
    },
    {
     "name": "stderr",
     "output_type": "stream",
     "text": [
      "고등학교 급식 조회:  19%|█████████▌                                        | 34/178 [00:08<00:35,  4.07it/s]"
     ]
    },
    {
     "name": "stdout",
     "output_type": "stream",
     "text": [
      "7010134 광영고등학교\n",
      "급식 정보 조회 중: 날짜=20250618\n",
      "mealService 응답코드: 200\n",
      "급식 데이터 수: 21\n"
     ]
    },
    {
     "name": "stderr",
     "output_type": "stream",
     "text": [
      "고등학교 급식 조회:  20%|█████████▊                                        | 35/178 [00:08<00:35,  4.00it/s]"
     ]
    },
    {
     "name": "stdout",
     "output_type": "stream",
     "text": [
      "7010135 광영여자고등학교\n",
      "급식 정보 조회 중: 날짜=20250618\n",
      "mealService 응답코드: 200\n",
      "급식 데이터 수: 37\n"
     ]
    },
    {
     "name": "stderr",
     "output_type": "stream",
     "text": [
      "고등학교 급식 조회:  21%|██████████▍                                       | 37/178 [00:08<00:34,  4.11it/s]"
     ]
    },
    {
     "name": "stdout",
     "output_type": "stream",
     "text": [
      "7011505 광운인공지능고등학교\n",
      "급식 정보 조회 중: 날짜=20250618\n",
      "mealService 응답코드: 200\n",
      "급식 데이터 수: 18\n"
     ]
    },
    {
     "name": "stderr",
     "output_type": "stream",
     "text": [
      "고등학교 급식 조회:  21%|██████████▋                                       | 38/178 [00:09<00:32,  4.34it/s]"
     ]
    },
    {
     "name": "stdout",
     "output_type": "stream",
     "text": [
      "7010068 구로고등학교\n",
      "급식 정보 조회 중: 날짜=20250618\n",
      "mealService 응답코드: 200\n",
      "급식 데이터 수: 21\n",
      "7011111 구암고등학교\n",
      "급식 정보 조회 중: 날짜=20250618\n",
      "mealService 응답코드: 200\n",
      "급식 데이터 수: 21\n"
     ]
    },
    {
     "name": "stderr",
     "output_type": "stream",
     "text": [
      "고등학교 급식 조회:  22%|██████████▉                                       | 39/178 [00:09<00:31,  4.47it/s]"
     ]
    },
    {
     "name": "stdout",
     "output_type": "stream",
     "text": [
      "7010069 구일고등학교\n",
      "급식 정보 조회 중: 날짜=20250618\n",
      "mealService 응답코드: 200\n",
      "급식 데이터 수: 21\n"
     ]
    },
    {
     "name": "stderr",
     "output_type": "stream",
     "text": [
      "고등학교 급식 조회:  22%|███████████▏                                      | 40/178 [00:09<00:32,  4.18it/s]"
     ]
    },
    {
     "name": "stdout",
     "output_type": "stream",
     "text": [
      "7010827 구현고등학교\n",
      "급식 정보 조회 중: 날짜=20250618\n",
      "mealService 응답코드: 200\n",
      "급식 데이터 수: 21\n"
     ]
    },
    {
     "name": "stderr",
     "output_type": "stream",
     "text": [
      "고등학교 급식 조회:  23%|███████████▌                                      | 41/178 [00:09<00:34,  3.98it/s]"
     ]
    },
    {
     "name": "stdout",
     "output_type": "stream",
     "text": [
      "1371661 국립국악고등학교\n",
      "급식 정보 조회 중: 날짜=20250618\n",
      "mealService 응답코드: 200\n",
      "급식 데이터 수: 21\n"
     ]
    },
    {
     "name": "stderr",
     "output_type": "stream",
     "text": [
      "고등학교 급식 조회:  24%|███████████▊                                      | 42/178 [00:09<00:33,  4.07it/s]"
     ]
    },
    {
     "name": "stdout",
     "output_type": "stream",
     "text": [
      "1371663 국립전통예술고등학교\n",
      "급식 정보 조회 중: 날짜=20250618\n",
      "mealService 응답코드: 200\n",
      "급식 데이터 수: 37\n"
     ]
    },
    {
     "name": "stderr",
     "output_type": "stream",
     "text": [
      "고등학교 급식 조회:  24%|████████████                                      | 43/178 [00:10<00:33,  4.02it/s]"
     ]
    },
    {
     "name": "stdout",
     "output_type": "stream",
     "text": [
      "7010071 금옥여자고등학교\n",
      "급식 정보 조회 중: 날짜=20250618\n",
      "mealService 응답코드: 200\n",
      "급식 데이터 수: 21\n"
     ]
    },
    {
     "name": "stderr",
     "output_type": "stream",
     "text": [
      "고등학교 급식 조회:  25%|████████████▎                                     | 44/178 [00:10<00:31,  4.23it/s]"
     ]
    },
    {
     "name": "stdout",
     "output_type": "stream",
     "text": [
      "7010072 금천고등학교\n",
      "급식 정보 조회 중: 날짜=20250618\n",
      "mealService 응답코드: 200\n",
      "급식 데이터 수: 21\n"
     ]
    },
    {
     "name": "stderr",
     "output_type": "stream",
     "text": [
      "고등학교 급식 조회:  25%|████████████▋                                     | 45/178 [00:10<00:30,  4.33it/s]"
     ]
    },
    {
     "name": "stdout",
     "output_type": "stream",
     "text": [
      "7011319 금호고등학교\n",
      "급식 정보 조회 중: 날짜=20250618\n",
      "mealService 응답코드: 200\n",
      "급식 데이터 수: 21\n"
     ]
    },
    {
     "name": "stderr",
     "output_type": "stream",
     "text": [
      "고등학교 급식 조회:  26%|████████████▉                                     | 46/178 [00:10<00:30,  4.35it/s]"
     ]
    },
    {
     "name": "stdout",
     "output_type": "stream",
     "text": [
      "7010136 남강고등학교\n",
      "급식 정보 조회 중: 날짜=20250618\n",
      "mealService 응답코드: 200\n",
      "급식 데이터 수: 39\n"
     ]
    },
    {
     "name": "stderr",
     "output_type": "stream",
     "text": [
      "고등학교 급식 조회:  26%|█████████████▏                                    | 47/178 [00:11<00:32,  3.99it/s]"
     ]
    },
    {
     "name": "stdout",
     "output_type": "stream",
     "text": [
      "7010564 노원고등학교\n",
      "급식 정보 조회 중: 날짜=20250618\n"
     ]
    },
    {
     "name": "stderr",
     "output_type": "stream",
     "text": [
      "고등학교 급식 조회:  27%|█████████████▍                                    | 48/178 [00:11<00:35,  3.69it/s]"
     ]
    },
    {
     "name": "stdout",
     "output_type": "stream",
     "text": [
      "mealService 응답코드: 200\n",
      "급식 데이터 수: 21\n",
      "7010589 누원고등학교\n",
      "급식 정보 조회 중: 날짜=20250618\n"
     ]
    },
    {
     "name": "stderr",
     "output_type": "stream",
     "text": [
      "고등학교 급식 조회:  28%|█████████████▊                                    | 49/178 [00:11<00:35,  3.59it/s]"
     ]
    },
    {
     "name": "stdout",
     "output_type": "stream",
     "text": [
      "mealService 응답코드: 200\n",
      "급식 데이터 수: 21\n",
      "7011489 단국대학교부속소프트웨어고등학교\n",
      "급식 정보 조회 중: 날짜=20250618\n"
     ]
    },
    {
     "name": "stderr",
     "output_type": "stream",
     "text": [
      "고등학교 급식 조회:  28%|██████████████                                    | 50/178 [00:12<00:34,  3.72it/s]"
     ]
    },
    {
     "name": "stdout",
     "output_type": "stream",
     "text": [
      "mealService 응답코드: 200\n",
      "급식 데이터 수: 21\n",
      "7010137 단국대학교사범대학부속고등학교\n",
      "급식 정보 조회 중: 날짜=20250618\n"
     ]
    },
    {
     "name": "stderr",
     "output_type": "stream",
     "text": [
      "고등학교 급식 조회:  29%|██████████████▎                                   | 51/178 [00:12<00:34,  3.73it/s]"
     ]
    },
    {
     "name": "stdout",
     "output_type": "stream",
     "text": [
      "mealService 응답코드: 200\n",
      "급식 데이터 수: 21\n",
      "7010073 당곡고등학교\n",
      "급식 정보 조회 중: 날짜=20250618\n"
     ]
    },
    {
     "name": "stderr",
     "output_type": "stream",
     "text": [
      "고등학교 급식 조회:  29%|██████████████▌                                   | 52/178 [00:12<00:34,  3.66it/s]"
     ]
    },
    {
     "name": "stdout",
     "output_type": "stream",
     "text": [
      "mealService 응답코드: 200\n",
      "급식 데이터 수: 41\n",
      "7011507 대경생활과학고등학교\n",
      "급식 정보 조회 중: 날짜=20250618\n"
     ]
    },
    {
     "name": "stderr",
     "output_type": "stream",
     "text": [
      "고등학교 급식 조회:  30%|██████████████▉                                   | 53/178 [00:12<00:33,  3.71it/s]"
     ]
    },
    {
     "name": "stdout",
     "output_type": "stream",
     "text": [
      "mealService 응답코드: 200\n",
      "급식 데이터 수: 21\n",
      "7010138 대광고등학교\n",
      "급식 정보 조회 중: 날짜=20250618\n"
     ]
    },
    {
     "name": "stderr",
     "output_type": "stream",
     "text": [
      "고등학교 급식 조회:  30%|███████████████▏                                  | 54/178 [00:13<00:32,  3.82it/s]"
     ]
    },
    {
     "name": "stdout",
     "output_type": "stream",
     "text": [
      "mealService 응답코드: 200\n",
      "급식 데이터 수: 42\n",
      "7010833 대동세무고등학교\n",
      "급식 정보 조회 중: 날짜=20250618\n"
     ]
    },
    {
     "name": "stderr",
     "output_type": "stream",
     "text": [
      "고등학교 급식 조회:  31%|███████████████▍                                  | 55/178 [00:13<00:30,  3.99it/s]"
     ]
    },
    {
     "name": "stdout",
     "output_type": "stream",
     "text": [
      "mealService 응답코드: 200\n",
      "급식 데이터 수: 21\n",
      "7010139 대성고등학교\n",
      "급식 정보 조회 중: 날짜=20250618\n"
     ]
    },
    {
     "name": "stderr",
     "output_type": "stream",
     "text": [
      "고등학교 급식 조회:  31%|███████████████▋                                  | 56/178 [00:13<00:29,  4.13it/s]"
     ]
    },
    {
     "name": "stdout",
     "output_type": "stream",
     "text": [
      "mealService 응답코드: 200\n",
      "급식 데이터 수: 21\n",
      "7010140 대신고등학교\n",
      "급식 정보 조회 중: 날짜=20250618\n"
     ]
    },
    {
     "name": "stderr",
     "output_type": "stream",
     "text": [
      "고등학교 급식 조회:  32%|████████████████                                  | 57/178 [00:13<00:28,  4.24it/s]"
     ]
    },
    {
     "name": "stdout",
     "output_type": "stream",
     "text": [
      "mealService 응답코드: 200\n",
      "급식 데이터 수: 21\n",
      "7010074 대영고등학교\n",
      "급식 정보 조회 중: 날짜=20250618\n"
     ]
    },
    {
     "name": "stderr",
     "output_type": "stream",
     "text": [
      "고등학교 급식 조회:  33%|████████████████▎                                 | 58/178 [00:14<00:28,  4.14it/s]"
     ]
    },
    {
     "name": "stdout",
     "output_type": "stream",
     "text": [
      "mealService 응답코드: 200\n",
      "급식 데이터 수: 21\n",
      "7010141 대원고등학교\n",
      "급식 정보 조회 중: 날짜=20250618\n"
     ]
    },
    {
     "name": "stderr",
     "output_type": "stream",
     "text": [
      "고등학교 급식 조회:  33%|████████████████▌                                 | 59/178 [00:14<00:29,  4.03it/s]"
     ]
    },
    {
     "name": "stdout",
     "output_type": "stream",
     "text": [
      "mealService 응답코드: 200\n",
      "급식 데이터 수: 35\n",
      "7010142 대원여자고등학교\n",
      "급식 정보 조회 중: 날짜=20250618\n"
     ]
    },
    {
     "name": "stderr",
     "output_type": "stream",
     "text": [
      "고등학교 급식 조회:  34%|████████████████▊                                 | 60/178 [00:14<00:29,  4.05it/s]"
     ]
    },
    {
     "name": "stdout",
     "output_type": "stream",
     "text": [
      "mealService 응답코드: 200\n",
      "급식 데이터 수: 35\n",
      "7010143 대원외국어고등학교\n",
      "급식 정보 조회 중: 날짜=20250618\n"
     ]
    },
    {
     "name": "stderr",
     "output_type": "stream",
     "text": [
      "고등학교 급식 조회:  34%|█████████████████▏                                | 61/178 [00:14<00:28,  4.15it/s]"
     ]
    },
    {
     "name": "stdout",
     "output_type": "stream",
     "text": [
      "mealService 응답코드: 200\n",
      "급식 데이터 수: 35\n",
      "7010144 대일고등학교\n",
      "급식 정보 조회 중: 날짜=20250618\n",
      "mealService 응답코드: 200\n",
      "급식 데이터 수: 21\n"
     ]
    },
    {
     "name": "stderr",
     "output_type": "stream",
     "text": [
      "고등학교 급식 조회:  35%|█████████████████▋                                | 63/178 [00:15<00:24,  4.67it/s]"
     ]
    },
    {
     "name": "stdout",
     "output_type": "stream",
     "text": [
      "7011186 대일관광고등학교\n",
      "급식 정보 조회 중: 날짜=20250618\n",
      "mealService 응답코드: 200\n",
      "급식 데이터 수: 21\n",
      "7010145 대일외국어고등학교\n",
      "급식 정보 조회 중: 날짜=20250618\n"
     ]
    },
    {
     "name": "stderr",
     "output_type": "stream",
     "text": [
      "고등학교 급식 조회:  36%|█████████████████▉                                | 64/178 [00:15<00:28,  3.94it/s]"
     ]
    },
    {
     "name": "stdout",
     "output_type": "stream",
     "text": [
      "mealService 응답코드: 200\n",
      "급식 데이터 수: 59\n",
      "7010146 대진고등학교\n",
      "급식 정보 조회 중: 날짜=20250618\n"
     ]
    },
    {
     "name": "stderr",
     "output_type": "stream",
     "text": [
      "고등학교 급식 조회:  37%|██████████████████▎                               | 65/178 [00:15<00:27,  4.09it/s]"
     ]
    },
    {
     "name": "stdout",
     "output_type": "stream",
     "text": [
      "mealService 응답코드: 200\n",
      "급식 데이터 수: 39\n",
      "7010740 대진디자인고등학교\n",
      "급식 정보 조회 중: 날짜=20250618\n"
     ]
    },
    {
     "name": "stderr",
     "output_type": "stream",
     "text": [
      "고등학교 급식 조회:  37%|██████████████████▌                               | 66/178 [00:15<00:26,  4.21it/s]"
     ]
    },
    {
     "name": "stdout",
     "output_type": "stream",
     "text": [
      "mealService 응답코드: 200\n",
      "급식 데이터 수: 20\n",
      "7010147 대진여자고등학교\n",
      "급식 정보 조회 중: 날짜=20250618\n"
     ]
    },
    {
     "name": "stderr",
     "output_type": "stream",
     "text": [
      "고등학교 급식 조회:  38%|██████████████████▊                               | 67/178 [00:16<00:25,  4.30it/s]"
     ]
    },
    {
     "name": "stdout",
     "output_type": "stream",
     "text": [
      "mealService 응답코드: 200\n",
      "급식 데이터 수: 41\n",
      "7010148 덕성여자고등학교\n",
      "급식 정보 조회 중: 날짜=20250618\n"
     ]
    },
    {
     "name": "stderr",
     "output_type": "stream",
     "text": [
      "고등학교 급식 조회:  38%|███████████████████                               | 68/178 [00:16<00:26,  4.17it/s]"
     ]
    },
    {
     "name": "stdout",
     "output_type": "stream",
     "text": [
      "mealService 응답코드: 200\n",
      "급식 데이터 수: 36\n",
      "7010808 덕수고등학교\n",
      "급식 정보 조회 중: 날짜=20250618\n"
     ]
    },
    {
     "name": "stderr",
     "output_type": "stream",
     "text": [
      "고등학교 급식 조회:  39%|███████████████████▍                              | 69/178 [00:16<00:25,  4.27it/s]"
     ]
    },
    {
     "name": "stdout",
     "output_type": "stream",
     "text": [
      "mealService 응답코드: 200\n",
      "급식 데이터 수: 21\n",
      "7010149 덕원여자고등학교\n",
      "급식 정보 조회 중: 날짜=20250618\n"
     ]
    },
    {
     "name": "stderr",
     "output_type": "stream",
     "text": [
      "고등학교 급식 조회:  39%|███████████████████▋                              | 70/178 [00:16<00:24,  4.36it/s]"
     ]
    },
    {
     "name": "stdout",
     "output_type": "stream",
     "text": [
      "mealService 응답코드: 200\n",
      "급식 데이터 수: 41\n",
      "7010150 덕원예술고등학교\n",
      "급식 정보 조회 중: 날짜=20250618\n"
     ]
    },
    {
     "name": "stderr",
     "output_type": "stream",
     "text": [
      "고등학교 급식 조회:  40%|███████████████████▉                              | 71/178 [00:17<00:24,  4.29it/s]"
     ]
    },
    {
     "name": "stdout",
     "output_type": "stream",
     "text": [
      "mealService 응답코드: 200\n",
      "급식 데이터 수: 41\n",
      "7010317 덕일전자공업고등학교\n",
      "급식 정보 조회 중: 날짜=20250618\n"
     ]
    },
    {
     "name": "stderr",
     "output_type": "stream",
     "text": [
      "고등학교 급식 조회:  40%|████████████████████▏                             | 72/178 [00:17<00:24,  4.38it/s]"
     ]
    },
    {
     "name": "stdout",
     "output_type": "stream",
     "text": [
      "mealService 응답코드: 200\n",
      "급식 데이터 수: 20\n",
      "7011318 도선고등학교\n",
      "급식 정보 조회 중: 날짜=20250618\n"
     ]
    },
    {
     "name": "stderr",
     "output_type": "stream",
     "text": [
      "고등학교 급식 조회:  41%|████████████████████▌                             | 73/178 [00:17<00:23,  4.46it/s]"
     ]
    },
    {
     "name": "stdout",
     "output_type": "stream",
     "text": [
      "mealService 응답코드: 200\n",
      "급식 데이터 수: 21\n",
      "7010560 독산고등학교\n",
      "급식 정보 조회 중: 날짜=20250618\n",
      "mealService 응답코드: 200\n",
      "급식 데이터 수: 20\n"
     ]
    },
    {
     "name": "stderr",
     "output_type": "stream",
     "text": [
      "고등학교 급식 조회:  42%|████████████████████▊                             | 74/178 [00:17<00:22,  4.63it/s]"
     ]
    },
    {
     "name": "stdout",
     "output_type": "stream",
     "text": [
      "7011586 동국대학교사범대학부속가람고등학교\n",
      "급식 정보 조회 중: 날짜=20250618\n",
      "mealService 응답코드: 200\n",
      "급식 데이터 수: 42\n"
     ]
    },
    {
     "name": "stderr",
     "output_type": "stream",
     "text": [
      "고등학교 급식 조회:  42%|█████████████████████                             | 75/178 [00:17<00:22,  4.49it/s]"
     ]
    },
    {
     "name": "stdout",
     "output_type": "stream",
     "text": [
      "7010151 동국대학교사범대학부속고등학교\n",
      "급식 정보 조회 중: 날짜=20250618\n"
     ]
    },
    {
     "name": "stderr",
     "output_type": "stream",
     "text": [
      "고등학교 급식 조회:  43%|█████████████████████▎                            | 76/178 [00:18<00:25,  3.95it/s]"
     ]
    },
    {
     "name": "stdout",
     "output_type": "stream",
     "text": [
      "mealService 응답코드: 200\n",
      "급식 데이터 수: 40\n",
      "7010152 동덕여자고등학교\n",
      "급식 정보 조회 중: 날짜=20250618\n"
     ]
    },
    {
     "name": "stderr",
     "output_type": "stream",
     "text": [
      "고등학교 급식 조회:  43%|█████████████████████▋                            | 77/178 [00:18<00:25,  3.92it/s]"
     ]
    },
    {
     "name": "stdout",
     "output_type": "stream",
     "text": [
      "mealService 응답코드: 200\n",
      "급식 데이터 수: 21\n",
      "7011490 동명생활경영고등학교\n",
      "급식 정보 조회 중: 날짜=20250618\n"
     ]
    },
    {
     "name": "stderr",
     "output_type": "stream",
     "text": [
      "고등학교 급식 조회:  44%|█████████████████████▉                            | 78/178 [00:18<00:24,  4.16it/s]"
     ]
    },
    {
     "name": "stdout",
     "output_type": "stream",
     "text": [
      "mealService 응답코드: 200\n",
      "급식 데이터 수: 20\n",
      "7010153 동명여자고등학교\n",
      "급식 정보 조회 중: 날짜=20250618\n"
     ]
    },
    {
     "name": "stderr",
     "output_type": "stream",
     "text": [
      "고등학교 급식 조회:  44%|██████████████████████▏                           | 79/178 [00:19<00:24,  4.11it/s]"
     ]
    },
    {
     "name": "stdout",
     "output_type": "stream",
     "text": [
      "mealService 응답코드: 200\n",
      "급식 데이터 수: 20\n",
      "7010154 동북고등학교\n",
      "급식 정보 조회 중: 날짜=20250618\n"
     ]
    },
    {
     "name": "stderr",
     "output_type": "stream",
     "text": [
      "고등학교 급식 조회:  45%|██████████████████████▍                           | 80/178 [00:19<00:24,  3.95it/s]"
     ]
    },
    {
     "name": "stdout",
     "output_type": "stream",
     "text": [
      "mealService 응답코드: 200\n",
      "급식 데이터 수: 38\n",
      "7010155 동성고등학교\n",
      "급식 정보 조회 중: 날짜=20250618\n"
     ]
    },
    {
     "name": "stderr",
     "output_type": "stream",
     "text": [
      "고등학교 급식 조회:  46%|██████████████████████▊                           | 81/178 [00:19<00:24,  3.92it/s]"
     ]
    },
    {
     "name": "stdout",
     "output_type": "stream",
     "text": [
      "mealService 응답코드: 200\n",
      "급식 데이터 수: 63\n",
      "7010965 동양고등학교\n",
      "급식 정보 조회 중: 날짜=20250618\n"
     ]
    },
    {
     "name": "stderr",
     "output_type": "stream",
     "text": [
      "고등학교 급식 조회:  46%|███████████████████████                           | 82/178 [00:19<00:24,  3.96it/s]"
     ]
    },
    {
     "name": "stdout",
     "output_type": "stream",
     "text": [
      "mealService 응답코드: 200\n",
      "급식 데이터 수: 37\n",
      "7010156 동일여자고등학교\n",
      "급식 정보 조회 중: 날짜=20250618\n"
     ]
    },
    {
     "name": "stderr",
     "output_type": "stream",
     "text": [
      "고등학교 급식 조회:  47%|███████████████████████▎                          | 83/178 [00:20<00:22,  4.18it/s]"
     ]
    },
    {
     "name": "stdout",
     "output_type": "stream",
     "text": [
      "mealService 응답코드: 200\n",
      "급식 데이터 수: 20\n",
      "7010075 동작고등학교\n",
      "급식 정보 조회 중: 날짜=20250618\n"
     ]
    },
    {
     "name": "stderr",
     "output_type": "stream",
     "text": [
      "고등학교 급식 조회:  47%|███████████████████████▌                          | 84/178 [00:20<00:23,  4.08it/s]"
     ]
    },
    {
     "name": "stdout",
     "output_type": "stream",
     "text": [
      "mealService 응답코드: 200\n",
      "급식 데이터 수: 20\n",
      "7010076 둔촌고등학교\n",
      "급식 정보 조회 중: 날짜=20250618\n"
     ]
    },
    {
     "name": "stderr",
     "output_type": "stream",
     "text": [
      "고등학교 급식 조회:  48%|███████████████████████▉                          | 85/178 [00:20<00:22,  4.06it/s]"
     ]
    },
    {
     "name": "stdout",
     "output_type": "stream",
     "text": [
      "mealService 응답코드: 200\n",
      "급식 데이터 수: 21\n",
      "7010700 등촌고등학교\n",
      "급식 정보 조회 중: 날짜=20250618\n",
      "mealService 응답코드: 200\n",
      "급식 데이터 수: 21\n"
     ]
    },
    {
     "name": "stderr",
     "output_type": "stream",
     "text": [
      "고등학교 급식 조회:  48%|████████████████████████▏                         | 86/178 [00:20<00:21,  4.38it/s]"
     ]
    },
    {
     "name": "stdout",
     "output_type": "stream",
     "text": [
      "7010908 리라아트고등학교\n",
      "급식 정보 조회 중: 날짜=20250618\n"
     ]
    },
    {
     "name": "stderr",
     "output_type": "stream",
     "text": [
      "고등학교 급식 조회:  49%|████████████████████████▍                         | 87/178 [00:21<00:23,  3.83it/s]"
     ]
    },
    {
     "name": "stdout",
     "output_type": "stream",
     "text": [
      "mealService 응답코드: 200\n",
      "급식 데이터 수: 19\n",
      "7010157 마포고등학교\n",
      "급식 정보 조회 중: 날짜=20250618\n"
     ]
    },
    {
     "name": "stderr",
     "output_type": "stream",
     "text": [
      "고등학교 급식 조회:  49%|████████████████████████▋                         | 88/178 [00:21<00:25,  3.52it/s]"
     ]
    },
    {
     "name": "stdout",
     "output_type": "stream",
     "text": [
      "mealService 응답코드: 200\n",
      "급식 데이터 수: 21\n",
      "7010077 면목고등학교\n",
      "급식 정보 조회 중: 날짜=20250618\n"
     ]
    },
    {
     "name": "stderr",
     "output_type": "stream",
     "text": [
      "고등학교 급식 조회:  50%|█████████████████████████                         | 89/178 [00:21<00:26,  3.35it/s]"
     ]
    },
    {
     "name": "stdout",
     "output_type": "stream",
     "text": [
      "mealService 응답코드: 200\n",
      "급식 데이터 수: 22\n",
      "7010158 명덕고등학교\n",
      "급식 정보 조회 중: 날짜=20250618\n"
     ]
    },
    {
     "name": "stderr",
     "output_type": "stream",
     "text": [
      "고등학교 급식 조회:  51%|█████████████████████████▎                        | 90/178 [00:22<00:29,  2.99it/s]"
     ]
    },
    {
     "name": "stdout",
     "output_type": "stream",
     "text": [
      "mealService 응답코드: 200\n",
      "급식 데이터 수: 69\n",
      "7010159 명덕여자고등학교\n",
      "급식 정보 조회 중: 날짜=20250618\n"
     ]
    },
    {
     "name": "stderr",
     "output_type": "stream",
     "text": [
      "고등학교 급식 조회:  51%|█████████████████████████▌                        | 91/178 [00:22<00:28,  3.06it/s]"
     ]
    },
    {
     "name": "stdout",
     "output_type": "stream",
     "text": [
      "mealService 응답코드: 200\n",
      "급식 데이터 수: 69\n",
      "7010160 명덕외국어고등학교\n",
      "급식 정보 조회 중: 날짜=20250618\n"
     ]
    },
    {
     "name": "stderr",
     "output_type": "stream",
     "text": [
      "고등학교 급식 조회:  52%|█████████████████████████▊                        | 92/178 [00:22<00:25,  3.37it/s]"
     ]
    },
    {
     "name": "stdout",
     "output_type": "stream",
     "text": [
      "mealService 응답코드: 200\n",
      "급식 데이터 수: 69\n",
      "7010078 명일여자고등학교\n",
      "급식 정보 조회 중: 날짜=20250618\n"
     ]
    },
    {
     "name": "stderr",
     "output_type": "stream",
     "text": [
      "고등학교 급식 조회:  52%|██████████████████████████                        | 93/178 [00:22<00:25,  3.33it/s]"
     ]
    },
    {
     "name": "stdout",
     "output_type": "stream",
     "text": [
      "mealService 응답코드: 200\n",
      "급식 데이터 수: 21\n",
      "7010163 명지고등학교\n",
      "급식 정보 조회 중: 날짜=20250618\n"
     ]
    },
    {
     "name": "stderr",
     "output_type": "stream",
     "text": [
      "고등학교 급식 조회:  53%|██████████████████████████▍                       | 94/178 [00:23<00:23,  3.60it/s]"
     ]
    },
    {
     "name": "stdout",
     "output_type": "stream",
     "text": [
      "mealService 응답코드: 200\n",
      "급식 데이터 수: 41\n",
      "7010744 목동고등학교\n",
      "급식 정보 조회 중: 날짜=20250618\n"
     ]
    },
    {
     "name": "stderr",
     "output_type": "stream",
     "text": [
      "고등학교 급식 조회:  53%|██████████████████████████▋                       | 95/178 [00:23<00:22,  3.73it/s]"
     ]
    },
    {
     "name": "stdout",
     "output_type": "stream",
     "text": [
      "mealService 응답코드: 200\n",
      "급식 데이터 수: 41\n",
      "7010079 무학여자고등학교\n",
      "급식 정보 조회 중: 날짜=20250618\n"
     ]
    },
    {
     "name": "stderr",
     "output_type": "stream",
     "text": [
      "고등학교 급식 조회:  54%|██████████████████████████▉                       | 96/178 [00:23<00:20,  4.04it/s]"
     ]
    },
    {
     "name": "stdout",
     "output_type": "stream",
     "text": [
      "mealService 응답코드: 200\n",
      "mealServiceDietInfo 키 없음: {'RESULT': {'CODE': 'INFO-200', 'MESSAGE': '해당하는 데이터가 없습니다.'}}\n",
      "7010166 문일고등학교\n",
      "급식 정보 조회 중: 날짜=20250618\n"
     ]
    },
    {
     "name": "stderr",
     "output_type": "stream",
     "text": [
      "고등학교 급식 조회:  54%|███████████████████████████▏                      | 97/178 [00:23<00:19,  4.17it/s]"
     ]
    },
    {
     "name": "stdout",
     "output_type": "stream",
     "text": [
      "mealService 응답코드: 200\n",
      "급식 데이터 수: 42\n",
      "7010701 문정고등학교\n",
      "급식 정보 조회 중: 날짜=20250618\n"
     ]
    },
    {
     "name": "stderr",
     "output_type": "stream",
     "text": [
      "고등학교 급식 조회:  55%|███████████████████████████▌                      | 98/178 [00:24<00:18,  4.34it/s]"
     ]
    },
    {
     "name": "stdout",
     "output_type": "stream",
     "text": [
      "mealService 응답코드: 200\n",
      "급식 데이터 수: 21\n",
      "7010959 문현고등학교\n",
      "급식 정보 조회 중: 날짜=20250618\n"
     ]
    },
    {
     "name": "stderr",
     "output_type": "stream",
     "text": [
      "고등학교 급식 조회:  56%|███████████████████████████▊                      | 99/178 [00:24<00:17,  4.51it/s]"
     ]
    },
    {
     "name": "stdout",
     "output_type": "stream",
     "text": [
      "mealService 응답코드: 200\n",
      "급식 데이터 수: 20\n",
      "7010591 미래산업과학고등학교\n",
      "급식 정보 조회 중: 날짜=20250618\n",
      "mealService 응답코드: 200\n",
      "급식 데이터 수: 21\n"
     ]
    },
    {
     "name": "stderr",
     "output_type": "stream",
     "text": [
      "고등학교 급식 조회:  56%|███████████████████████████▌                     | 100/178 [00:24<00:16,  4.70it/s]"
     ]
    },
    {
     "name": "stdout",
     "output_type": "stream",
     "text": [
      "7011569 미림마이스터고등학교\n",
      "급식 정보 조회 중: 날짜=20250618\n",
      "mealService 응답코드: 200\n",
      "급식 데이터 수: 58\n"
     ]
    },
    {
     "name": "stderr",
     "output_type": "stream",
     "text": [
      "고등학교 급식 조회:  57%|███████████████████████████▊                     | 101/178 [00:24<00:16,  4.54it/s]"
     ]
    },
    {
     "name": "stdout",
     "output_type": "stream",
     "text": [
      "7010167 미림여자고등학교\n",
      "급식 정보 조회 중: 날짜=20250618\n",
      "mealService 응답코드: 200\n",
      "급식 데이터 수: 58\n"
     ]
    },
    {
     "name": "stderr",
     "output_type": "stream",
     "text": [
      "고등학교 급식 조회:  58%|████████████████████████████▎                    | 103/178 [00:25<00:16,  4.67it/s]"
     ]
    },
    {
     "name": "stdout",
     "output_type": "stream",
     "text": [
      "7010080 반포고등학교\n",
      "급식 정보 조회 중: 날짜=20250618\n",
      "mealService 응답코드: 200\n",
      "급식 데이터 수: 21\n",
      "7010590 방산고등학교\n",
      "급식 정보 조회 중: 날짜=20250618\n",
      "mealService 응답코드: 200\n",
      "급식 데이터 수: 21\n"
     ]
    },
    {
     "name": "stderr",
     "output_type": "stream",
     "text": [
      "고등학교 급식 조회:  58%|████████████████████████████▋                    | 104/178 [00:25<00:15,  4.71it/s]"
     ]
    },
    {
     "name": "stdout",
     "output_type": "stream",
     "text": [
      "7010168 배명고등학교\n",
      "급식 정보 조회 중: 날짜=20250618\n",
      "mealService 응답코드: 200\n",
      "급식 데이터 수: 62\n"
     ]
    },
    {
     "name": "stderr",
     "output_type": "stream",
     "text": [
      "고등학교 급식 조회:  59%|████████████████████████████▉                    | 105/178 [00:25<00:16,  4.46it/s]"
     ]
    },
    {
     "name": "stdout",
     "output_type": "stream",
     "text": [
      "7010169 배문고등학교\n",
      "급식 정보 조회 중: 날짜=20250618\n"
     ]
    },
    {
     "name": "stderr",
     "output_type": "stream",
     "text": [
      "고등학교 급식 조회:  60%|█████████████████████████████▏                   | 106/178 [00:25<00:18,  3.85it/s]"
     ]
    },
    {
     "name": "stdout",
     "output_type": "stream",
     "text": [
      "mealService 응답코드: 200\n",
      "급식 데이터 수: 38\n",
      "7010170 배재고등학교\n",
      "급식 정보 조회 중: 날짜=20250618\n"
     ]
    },
    {
     "name": "stderr",
     "output_type": "stream",
     "text": [
      "고등학교 급식 조회:  60%|█████████████████████████████▍                   | 107/178 [00:26<00:20,  3.42it/s]"
     ]
    },
    {
     "name": "stdout",
     "output_type": "stream",
     "text": [
      "mealService 응답코드: 200\n",
      "급식 데이터 수: 62\n",
      "7010171 배화여자고등학교\n",
      "급식 정보 조회 중: 날짜=20250618\n"
     ]
    },
    {
     "name": "stderr",
     "output_type": "stream",
     "text": [
      "고등학교 급식 조회:  61%|█████████████████████████████▋                   | 108/178 [00:26<00:18,  3.72it/s]"
     ]
    },
    {
     "name": "stdout",
     "output_type": "stream",
     "text": [
      "mealService 응답코드: 200\n",
      "급식 데이터 수: 41\n",
      "7010172 백암고등학교\n",
      "급식 정보 조회 중: 날짜=20250618\n",
      "mealService 응답코드: 200\n",
      "급식 데이터 수: 35\n"
     ]
    },
    {
     "name": "stderr",
     "output_type": "stream",
     "text": [
      "고등학교 급식 조회:  61%|██████████████████████████████                   | 109/178 [00:26<00:17,  4.00it/s]"
     ]
    },
    {
     "name": "stdout",
     "output_type": "stream",
     "text": [
      "7010173 보성고등학교\n",
      "급식 정보 조회 중: 날짜=20250618\n",
      "mealService 응답코드: 200\n",
      "급식 데이터 수: 38\n"
     ]
    },
    {
     "name": "stderr",
     "output_type": "stream",
     "text": [
      "고등학교 급식 조회:  62%|██████████████████████████████▎                  | 110/178 [00:26<00:16,  4.21it/s]"
     ]
    },
    {
     "name": "stdout",
     "output_type": "stream",
     "text": [
      "7010174 보성여자고등학교\n",
      "급식 정보 조회 중: 날짜=20250618\n",
      "mealService 응답코드: 200\n",
      "급식 데이터 수: 21\n"
     ]
    },
    {
     "name": "stderr",
     "output_type": "stream",
     "text": [
      "고등학교 급식 조회:  62%|██████████████████████████████▌                  | 111/178 [00:27<00:15,  4.29it/s]"
     ]
    },
    {
     "name": "stdout",
     "output_type": "stream",
     "text": [
      "7010813 보인고등학교\n",
      "급식 정보 조회 중: 날짜=20250618\n",
      "mealService 응답코드: 200\n",
      "급식 데이터 수: 59\n"
     ]
    },
    {
     "name": "stderr",
     "output_type": "stream",
     "text": [
      "고등학교 급식 조회:  63%|██████████████████████████████▊                  | 112/178 [00:27<00:15,  4.14it/s]"
     ]
    },
    {
     "name": "stdout",
     "output_type": "stream",
     "text": [
      "7010736 불암고등학교\n",
      "급식 정보 조회 중: 날짜=20250618\n",
      "mealService 응답코드: 200\n",
      "급식 데이터 수: 21\n"
     ]
    },
    {
     "name": "stderr",
     "output_type": "stream",
     "text": [
      "고등학교 급식 조회:  63%|███████████████████████████████                  | 113/178 [00:27<00:15,  4.16it/s]"
     ]
    },
    {
     "name": "stdout",
     "output_type": "stream",
     "text": [
      "7010985 삼각산고등학교\n",
      "급식 정보 조회 중: 날짜=20250618\n",
      "mealService 응답코드: 200\n",
      "급식 데이터 수: 19\n"
     ]
    },
    {
     "name": "stderr",
     "output_type": "stream",
     "text": [
      "고등학교 급식 조회:  64%|███████████████████████████████▍                 | 114/178 [00:27<00:15,  4.21it/s]"
     ]
    },
    {
     "name": "stdout",
     "output_type": "stream",
     "text": [
      "7010081 삼성고등학교\n",
      "급식 정보 조회 중: 날짜=20250618\n",
      "mealService 응답코드: 200\n",
      "급식 데이터 수: 21\n"
     ]
    },
    {
     "name": "stderr",
     "output_type": "stream",
     "text": [
      "고등학교 급식 조회:  65%|███████████████████████████████▋                 | 115/178 [00:28<00:14,  4.34it/s]"
     ]
    },
    {
     "name": "stdout",
     "output_type": "stream",
     "text": [
      "7010082 상계고등학교\n",
      "급식 정보 조회 중: 날짜=20250618\n",
      "mealService 응답코드: 200\n",
      "급식 데이터 수: 20\n"
     ]
    },
    {
     "name": "stderr",
     "output_type": "stream",
     "text": [
      "고등학교 급식 조회:  65%|███████████████████████████████▉                 | 116/178 [00:28<00:14,  4.36it/s]"
     ]
    },
    {
     "name": "stdout",
     "output_type": "stream",
     "text": [
      "7010593 상명고등학교\n",
      "급식 정보 조회 중: 날짜=20250618\n",
      "mealService 응답코드: 200\n",
      "급식 데이터 수: 21\n"
     ]
    },
    {
     "name": "stderr",
     "output_type": "stream",
     "text": [
      "고등학교 급식 조회:  66%|████████████████████████████████▏                | 117/178 [00:28<00:13,  4.38it/s]"
     ]
    },
    {
     "name": "stdout",
     "output_type": "stream",
     "text": [
      "7010178 상명대학교사범대학부속여자고등학교\n",
      "급식 정보 조회 중: 날짜=20250618\n",
      "mealService 응답코드: 200\n",
      "급식 데이터 수: 21\n"
     ]
    },
    {
     "name": "stderr",
     "output_type": "stream",
     "text": [
      "고등학교 급식 조회:  67%|████████████████████████████████▊                | 119/178 [00:29<00:13,  4.34it/s]"
     ]
    },
    {
     "name": "stdout",
     "output_type": "stream",
     "text": [
      "7010179 상문고등학교\n",
      "급식 정보 조회 중: 날짜=20250618\n",
      "mealService 응답코드: 200\n",
      "급식 데이터 수: 20\n",
      "7010806 상암고등학교\n",
      "급식 정보 조회 중: 날짜=20250618\n",
      "mealService 응답코드: 200\n",
      "급식 데이터 수: 21\n"
     ]
    },
    {
     "name": "stderr",
     "output_type": "stream",
     "text": [
      "고등학교 급식 조회:  67%|█████████████████████████████████                | 120/178 [00:29<00:13,  4.43it/s]"
     ]
    },
    {
     "name": "stdout",
     "output_type": "stream",
     "text": [
      "7010916 상일미디어고등학교\n",
      "급식 정보 조회 중: 날짜=20250618\n",
      "mealService 응답코드: 200\n",
      "급식 데이터 수: 21\n"
     ]
    },
    {
     "name": "stderr",
     "output_type": "stream",
     "text": [
      "고등학교 급식 조회:  68%|█████████████████████████████████▎               | 121/178 [00:29<00:13,  4.33it/s]"
     ]
    },
    {
     "name": "stdout",
     "output_type": "stream",
     "text": [
      "7010181 상일여자고등학교\n",
      "급식 정보 조회 중: 날짜=20250618\n",
      "mealService 응답코드: 200\n",
      "급식 데이터 수: 21\n"
     ]
    },
    {
     "name": "stderr",
     "output_type": "stream",
     "text": [
      "고등학교 급식 조회:  69%|█████████████████████████████████▌               | 122/178 [00:29<00:13,  4.21it/s]"
     ]
    },
    {
     "name": "stdout",
     "output_type": "stream",
     "text": [
      "7010182 서라벌고등학교\n",
      "급식 정보 조회 중: 날짜=20250618\n",
      "mealService 응답코드: 200\n",
      "급식 데이터 수: 35\n"
     ]
    },
    {
     "name": "stderr",
     "output_type": "stream",
     "text": [
      "고등학교 급식 조회:  69%|█████████████████████████████████▊               | 123/178 [00:29<00:13,  4.21it/s]"
     ]
    },
    {
     "name": "stdout",
     "output_type": "stream",
     "text": [
      "7010183 서문여자고등학교\n",
      "급식 정보 조회 중: 날짜=20250618\n",
      "mealService 응답코드: 200\n",
      "급식 데이터 수: 37\n"
     ]
    },
    {
     "name": "stderr",
     "output_type": "stream",
     "text": [
      "고등학교 급식 조회:  70%|██████████████████████████████████▏              | 124/178 [00:30<00:12,  4.27it/s]"
     ]
    },
    {
     "name": "stdout",
     "output_type": "stream",
     "text": [
      "7010721 서서울생활과학고등학교\n",
      "급식 정보 조회 중: 날짜=20250618\n",
      "mealService 응답코드: 200\n",
      "급식 데이터 수: 20\n"
     ]
    },
    {
     "name": "stderr",
     "output_type": "stream",
     "text": [
      "고등학교 급식 조회:  70%|██████████████████████████████████▍              | 125/178 [00:30<00:12,  4.35it/s]"
     ]
    },
    {
     "name": "stdout",
     "output_type": "stream",
     "text": [
      "7010083 서울고등학교\n",
      "급식 정보 조회 중: 날짜=20250618\n",
      "mealService 응답코드: 200\n",
      "급식 데이터 수: 41\n"
     ]
    },
    {
     "name": "stderr",
     "output_type": "stream",
     "text": [
      "고등학교 급식 조회:  71%|██████████████████████████████████▋              | 126/178 [00:30<00:12,  4.13it/s]"
     ]
    },
    {
     "name": "stdout",
     "output_type": "stream",
     "text": [
      "7010278 서울공업고등학교\n",
      "급식 정보 조회 중: 날짜=20250618\n",
      "mealService 응답코드: 200\n",
      "급식 데이터 수: 19\n"
     ]
    },
    {
     "name": "stderr",
     "output_type": "stream",
     "text": [
      "고등학교 급식 조회:  71%|██████████████████████████████████▉              | 127/178 [00:30<00:11,  4.37it/s]"
     ]
    },
    {
     "name": "stdout",
     "output_type": "stream",
     "text": [
      "7010906 서울공연예술고등학교\n",
      "급식 정보 조회 중: 날짜=20250618\n",
      "mealService 응답코드: 200\n",
      "급식 데이터 수: 21\n"
     ]
    },
    {
     "name": "stderr",
     "output_type": "stream",
     "text": [
      "고등학교 급식 조회:  72%|███████████████████████████████████▏             | 128/178 [00:31<00:11,  4.41it/s]"
     ]
    },
    {
     "name": "stdout",
     "output_type": "stream",
     "text": [
      "7010084 서울과학고등학교\n",
      "급식 정보 조회 중: 날짜=20250618\n",
      "mealService 응답코드: 200\n",
      "급식 데이터 수: 60\n"
     ]
    },
    {
     "name": "stderr",
     "output_type": "stream",
     "text": [
      "고등학교 급식 조회:  73%|███████████████████████████████████▊             | 130/178 [00:31<00:10,  4.54it/s]"
     ]
    },
    {
     "name": "stdout",
     "output_type": "stream",
     "text": [
      "7010739 서울관광고등학교\n",
      "급식 정보 조회 중: 날짜=20250618\n",
      "mealService 응답코드: 200\n",
      "급식 데이터 수: 19\n",
      "7010817 서울국제고등학교\n",
      "급식 정보 조회 중: 날짜=20250618\n",
      "mealService 응답코드: 200\n",
      "급식 데이터 수: 58\n"
     ]
    },
    {
     "name": "stderr",
     "output_type": "stream",
     "text": [
      "고등학교 급식 조회:  74%|████████████████████████████████████             | 131/178 [00:31<00:10,  4.31it/s]"
     ]
    },
    {
     "name": "stdout",
     "output_type": "stream",
     "text": [
      "7010964 서울금융고등학교\n",
      "급식 정보 조회 중: 날짜=20250618\n",
      "mealService 응답코드: 200\n",
      "급식 데이터 수: 20\n"
     ]
    },
    {
     "name": "stderr",
     "output_type": "stream",
     "text": [
      "고등학교 급식 조회:  74%|████████████████████████████████████▎            | 132/178 [00:32<00:10,  4.46it/s]"
     ]
    },
    {
     "name": "stdout",
     "output_type": "stream",
     "text": [
      "7011109 서울대학교사범대학부설고등학교\n",
      "급식 정보 조회 중: 날짜=20250618\n",
      "mealService 응답코드: 200\n",
      "급식 데이터 수: 21\n"
     ]
    },
    {
     "name": "stderr",
     "output_type": "stream",
     "text": [
      "고등학교 급식 조회:  75%|████████████████████████████████████▌            | 133/178 [00:32<00:10,  4.33it/s]"
     ]
    },
    {
     "name": "stdout",
     "output_type": "stream",
     "text": [
      "7011180 서울도시과학기술고등학교\n",
      "급식 정보 조회 중: 날짜=20250618\n",
      "mealService 응답코드: 200\n",
      "급식 데이터 수: 54\n"
     ]
    },
    {
     "name": "stderr",
     "output_type": "stream",
     "text": [
      "고등학교 급식 조회:  75%|████████████████████████████████████▉            | 134/178 [00:32<00:10,  4.25it/s]"
     ]
    },
    {
     "name": "stdout",
     "output_type": "stream",
     "text": [
      "7011539 서울동구고등학교\n",
      "급식 정보 조회 중: 날짜=20250618\n",
      "mealService 응답코드: 200\n",
      "급식 데이터 수: 19\n"
     ]
    },
    {
     "name": "stderr",
     "output_type": "stream",
     "text": [
      "고등학교 급식 조회:  76%|█████████████████████████████████████▍           | 136/178 [00:32<00:09,  4.64it/s]"
     ]
    },
    {
     "name": "stdout",
     "output_type": "stream",
     "text": [
      "7011494 서울동산고등학교\n",
      "급식 정보 조회 중: 날짜=20250618\n",
      "mealService 응답코드: 200\n",
      "급식 데이터 수: 21\n"
     ]
    },
    {
     "name": "stderr",
     "output_type": "stream",
     "text": [
      "고등학교 급식 조회:  77%|█████████████████████████████████████▋           | 137/178 [00:33<00:08,  4.76it/s]"
     ]
    },
    {
     "name": "stdout",
     "output_type": "stream",
     "text": [
      "7010741 서울디자인고등학교\n",
      "급식 정보 조회 중: 날짜=20250618\n",
      "mealService 응답코드: 200\n",
      "급식 데이터 수: 21\n",
      "7011585 서울디지털콘텐츠고등학교\n",
      "급식 정보 조회 중: 날짜=20250618\n",
      "mealService 응답코드: 200\n",
      "급식 데이터 수: 21\n"
     ]
    },
    {
     "name": "stderr",
     "output_type": "stream",
     "text": [
      "고등학교 급식 조회:  78%|█████████████████████████████████████▉           | 138/178 [00:33<00:08,  4.80it/s]"
     ]
    },
    {
     "name": "stdout",
     "output_type": "stream",
     "text": [
      "7010572 서울디지텍고등학교\n",
      "급식 정보 조회 중: 날짜=20250618\n",
      "mealService 응답코드: 200\n",
      "급식 데이터 수: 21\n"
     ]
    },
    {
     "name": "stderr",
     "output_type": "stream",
     "text": [
      "고등학교 급식 조회:  78%|██████████████████████████████████████▎          | 139/178 [00:33<00:08,  4.59it/s]"
     ]
    },
    {
     "name": "stdout",
     "output_type": "stream",
     "text": [
      "7010738 서울로봇고등학교\n",
      "급식 정보 조회 중: 날짜=20250618\n",
      "mealService 응답코드: 200\n",
      "급식 데이터 수: 62\n"
     ]
    },
    {
     "name": "stderr",
     "output_type": "stream",
     "text": [
      "고등학교 급식 조회:  79%|██████████████████████████████████████▊          | 141/178 [00:34<00:08,  4.42it/s]"
     ]
    },
    {
     "name": "stdout",
     "output_type": "stream",
     "text": [
      "7011506 서울매그넷고등학교\n",
      "급식 정보 조회 중: 날짜=20250618\n",
      "mealService 응답코드: 200\n",
      "급식 데이터 수: 20\n",
      "7010697 서울문영여자고등학교\n",
      "급식 정보 조회 중: 날짜=20250618\n",
      "mealService 응답코드: 200\n",
      "급식 데이터 수: 41\n"
     ]
    },
    {
     "name": "stderr",
     "output_type": "stream",
     "text": [
      "고등학교 급식 조회:  80%|███████████████████████████████████████          | 142/178 [00:34<00:08,  4.30it/s]"
     ]
    },
    {
     "name": "stdout",
     "output_type": "stream",
     "text": [
      "7010888 서울문화고등학교\n",
      "급식 정보 조회 중: 날짜=20250618\n",
      "mealService 응답코드: 200\n",
      "급식 데이터 수: 19\n"
     ]
    },
    {
     "name": "stderr",
     "output_type": "stream",
     "text": [
      "고등학교 급식 조회:  81%|███████████████████████████████████████▋         | 144/178 [00:34<00:07,  4.72it/s]"
     ]
    },
    {
     "name": "stdout",
     "output_type": "stream",
     "text": [
      "7010185 서울미술고등학교\n",
      "급식 정보 조회 중: 날짜=20250618\n",
      "mealService 응답코드: 200\n",
      "급식 데이터 수: 18\n",
      "7011575 서울반도체고등학교\n",
      "급식 정보 조회 중: 날짜=20250618\n"
     ]
    },
    {
     "name": "stderr",
     "output_type": "stream",
     "text": [
      "고등학교 급식 조회:  81%|███████████████████████████████████████▉         | 145/178 [00:34<00:06,  4.73it/s]"
     ]
    },
    {
     "name": "stdout",
     "output_type": "stream",
     "text": [
      "mealService 응답코드: 200\n",
      "급식 데이터 수: 21\n",
      "7010836 서울방송고등학교\n",
      "급식 정보 조회 중: 날짜=20250618\n"
     ]
    },
    {
     "name": "stderr",
     "output_type": "stream",
     "text": [
      "고등학교 급식 조회:  82%|████████████████████████████████████████▏        | 146/178 [00:35<00:06,  4.69it/s]"
     ]
    },
    {
     "name": "stdout",
     "output_type": "stream",
     "text": [
      "mealService 응답코드: 200\n",
      "급식 데이터 수: 20\n",
      "7011584 서울백영고등학교\n",
      "급식 정보 조회 중: 날짜=20250618\n",
      "mealService 응답코드: 200\n",
      "급식 데이터 수: 17\n"
     ]
    },
    {
     "name": "stderr",
     "output_type": "stream",
     "text": [
      "고등학교 급식 조회:  83%|████████████████████████████████████████▋        | 148/178 [00:35<00:05,  5.06it/s]"
     ]
    },
    {
     "name": "stdout",
     "output_type": "stream",
     "text": [
      "7010186 서울세종고등학교\n",
      "급식 정보 조회 중: 날짜=20250618\n",
      "mealService 응답코드: 200\n",
      "급식 데이터 수: 21\n",
      "7011492 서울신정고등학교\n",
      "급식 정보 조회 중: 날짜=20250618\n"
     ]
    },
    {
     "name": "stderr",
     "output_type": "stream",
     "text": [
      "고등학교 급식 조회:  84%|█████████████████████████████████████████        | 149/178 [00:35<00:05,  4.97it/s]"
     ]
    },
    {
     "name": "stdout",
     "output_type": "stream",
     "text": [
      "mealService 응답코드: 200\n",
      "급식 데이터 수: 21\n",
      "7010960 서울아이티고등학교\n",
      "급식 정보 조회 중: 날짜=20250618\n"
     ]
    },
    {
     "name": "stderr",
     "output_type": "stream",
     "text": [
      "고등학교 급식 조회:  84%|█████████████████████████████████████████▎       | 150/178 [00:35<00:05,  4.86it/s]"
     ]
    },
    {
     "name": "stdout",
     "output_type": "stream",
     "text": [
      "mealService 응답코드: 200\n",
      "급식 데이터 수: 21\n",
      "7010085 서울여자고등학교\n",
      "급식 정보 조회 중: 날짜=20250618\n"
     ]
    },
    {
     "name": "stderr",
     "output_type": "stream",
     "text": [
      "고등학교 급식 조회:  85%|█████████████████████████████████████████▌       | 151/178 [00:36<00:05,  4.82it/s]"
     ]
    },
    {
     "name": "stdout",
     "output_type": "stream",
     "text": [
      "mealService 응답코드: 200\n",
      "급식 데이터 수: 41\n",
      "7010340 서울여자상업고등학교\n",
      "급식 정보 조회 중: 날짜=20250618\n",
      "mealService 응답코드: 200\n",
      "급식 데이터 수: 20\n"
     ]
    },
    {
     "name": "stderr",
     "output_type": "stream",
     "text": [
      "고등학교 급식 조회:  85%|█████████████████████████████████████████▊       | 152/178 [00:36<00:05,  4.89it/s]"
     ]
    },
    {
     "name": "stdout",
     "output_type": "stream",
     "text": [
      "7010795 서울영상고등학교\n",
      "급식 정보 조회 중: 날짜=20250618\n",
      "mealService 응답코드: 200\n",
      "급식 데이터 수: 55\n"
     ]
    },
    {
     "name": "stderr",
     "output_type": "stream",
     "text": [
      "고등학교 급식 조회:  86%|██████████████████████████████████████████       | 153/178 [00:36<00:05,  4.58it/s]"
     ]
    },
    {
     "name": "stdout",
     "output_type": "stream",
     "text": [
      "7010187 서울예술고등학교\n",
      "급식 정보 조회 중: 날짜=20250618\n",
      "mealService 응답코드: 200\n",
      "급식 데이터 수: 30\n"
     ]
    },
    {
     "name": "stderr",
     "output_type": "stream",
     "text": [
      "고등학교 급식 조회:  87%|██████████████████████████████████████████▍      | 154/178 [00:36<00:05,  4.67it/s]"
     ]
    },
    {
     "name": "stdout",
     "output_type": "stream",
     "text": [
      "7010188 서울외국어고등학교\n",
      "급식 정보 조회 중: 날짜=20250618\n",
      "mealService 응답코드: 200\n",
      "급식 데이터 수: 37\n"
     ]
    },
    {
     "name": "stderr",
     "output_type": "stream",
     "text": [
      "고등학교 급식 조회:  88%|██████████████████████████████████████████▉      | 156/178 [00:37<00:04,  4.86it/s]"
     ]
    },
    {
     "name": "stdout",
     "output_type": "stream",
     "text": [
      "7011558 서울웹툰애니메이션고등학교\n",
      "급식 정보 조회 중: 날짜=20250618\n",
      "mealService 응답코드: 200\n",
      "급식 데이터 수: 18\n",
      "7011486 서울의료보건고등학교\n",
      "급식 정보 조회 중: 날짜=20250618\n",
      "mealService 응답코드: 200\n",
      "급식 데이터 수: 21\n"
     ]
    },
    {
     "name": "stderr",
     "output_type": "stream",
     "text": [
      "고등학교 급식 조회:  88%|███████████████████████████████████████████▏     | 157/178 [00:37<00:04,  4.88it/s]"
     ]
    },
    {
     "name": "stdout",
     "output_type": "stream",
     "text": [
      "7011498 서울인공지능고등학교\n",
      "급식 정보 조회 중: 날짜=20250618\n",
      "mealService 응답코드: 200\n",
      "급식 데이터 수: 21\n"
     ]
    },
    {
     "name": "stderr",
     "output_type": "stream",
     "text": [
      "고등학교 급식 조회:  89%|███████████████████████████████████████████▊     | 159/178 [00:37<00:03,  4.92it/s]"
     ]
    },
    {
     "name": "stdout",
     "output_type": "stream",
     "text": [
      "7011513 서울정화고등학교\n",
      "급식 정보 조회 중: 날짜=20250618\n",
      "mealService 응답코드: 200\n",
      "급식 데이터 수: 21\n",
      "7010086 서울체육고등학교\n",
      "급식 정보 조회 중: 날짜=20250618\n",
      "mealService 응답코드: 200\n",
      "급식 데이터 수: 52\n"
     ]
    },
    {
     "name": "stderr",
     "output_type": "stream",
     "text": [
      "고등학교 급식 조회:  90%|████████████████████████████████████████████▎    | 161/178 [00:38<00:03,  4.72it/s]"
     ]
    },
    {
     "name": "stdout",
     "output_type": "stream",
     "text": [
      "7011213 서울컨벤션고등학교\n",
      "급식 정보 조회 중: 날짜=20250618\n",
      "mealService 응답코드: 200\n",
      "급식 데이터 수: 21\n"
     ]
    },
    {
     "name": "stderr",
     "output_type": "stream",
     "text": [
      "고등학교 급식 조회:  91%|████████████████████████████████████████████▌    | 162/178 [00:38<00:03,  4.87it/s]"
     ]
    },
    {
     "name": "stdout",
     "output_type": "stream",
     "text": [
      "7011491 서일문화예술고등학교\n",
      "급식 정보 조회 중: 날짜=20250618\n",
      "mealService 응답코드: 200\n",
      "급식 데이터 수: 16\n",
      "7010087 서초고등학교\n",
      "급식 정보 조회 중: 날짜=20250618\n",
      "mealService 응답코드: 200\n",
      "급식 데이터 수: 19\n"
     ]
    },
    {
     "name": "stderr",
     "output_type": "stream",
     "text": [
      "고등학교 급식 조회:  92%|████████████████████████████████████████████▊    | 163/178 [00:38<00:03,  4.84it/s]"
     ]
    },
    {
     "name": "stdout",
     "output_type": "stream",
     "text": [
      "7010088 석관고등학교\n",
      "급식 정보 조회 중: 날짜=20250618\n",
      "mealService 응답코드: 200\n",
      "급식 데이터 수: 21\n"
     ]
    },
    {
     "name": "stderr",
     "output_type": "stream",
     "text": [
      "고등학교 급식 조회:  92%|█████████████████████████████████████████████▏   | 164/178 [00:38<00:02,  4.76it/s]"
     ]
    },
    {
     "name": "stdout",
     "output_type": "stream",
     "text": [
      "7010189 선덕고등학교\n",
      "급식 정보 조회 중: 날짜=20250618\n",
      "mealService 응답코드: 200\n",
      "급식 데이터 수: 43\n"
     ]
    },
    {
     "name": "stderr",
     "output_type": "stream",
     "text": [
      "고등학교 급식 조회:  93%|█████████████████████████████████████████████▋   | 166/178 [00:39<00:02,  4.66it/s]"
     ]
    },
    {
     "name": "stdout",
     "output_type": "stream",
     "text": [
      "7010536 선린인터넷고등학교\n",
      "급식 정보 조회 중: 날짜=20250618\n",
      "mealService 응답코드: 200\n",
      "급식 데이터 수: 19\n"
     ]
    },
    {
     "name": "stderr",
     "output_type": "stream",
     "text": [
      "고등학교 급식 조회:  94%|█████████████████████████████████████████████▉   | 167/178 [00:39<00:02,  4.75it/s]"
     ]
    },
    {
     "name": "stdout",
     "output_type": "stream",
     "text": [
      "7010984 선사고등학교\n",
      "급식 정보 조회 중: 날짜=20250618\n",
      "mealService 응답코드: 200\n",
      "급식 데이터 수: 21\n",
      "7010734 선유고등학교\n",
      "급식 정보 조회 중: 날짜=20250618\n",
      "mealService 응답코드: 200\n",
      "급식 데이터 수: 20\n"
     ]
    },
    {
     "name": "stderr",
     "output_type": "stream",
     "text": [
      "고등학교 급식 조회:  95%|██████████████████████████████████████████████▌  | 169/178 [00:39<00:01,  4.90it/s]"
     ]
    },
    {
     "name": "stdout",
     "output_type": "stream",
     "text": [
      "7011508 선일빅데이터고등학교\n",
      "급식 정보 조회 중: 날짜=20250618\n",
      "mealService 응답코드: 200\n",
      "급식 데이터 수: 21\n",
      "7010190 선일여자고등학교\n",
      "급식 정보 조회 중: 날짜=20250618\n"
     ]
    },
    {
     "name": "stderr",
     "output_type": "stream",
     "text": [
      "고등학교 급식 조회:  96%|██████████████████████████████████████████████▊  | 170/178 [00:40<00:01,  5.02it/s]"
     ]
    },
    {
     "name": "stdout",
     "output_type": "stream",
     "text": [
      "mealService 응답코드: 200\n",
      "급식 데이터 수: 21\n",
      "7010191 선정고등학교\n",
      "급식 정보 조회 중: 날짜=20250618\n"
     ]
    },
    {
     "name": "stderr",
     "output_type": "stream",
     "text": [
      "고등학교 급식 조회:  96%|███████████████████████████████████████████████  | 171/178 [00:40<00:01,  4.59it/s]"
     ]
    },
    {
     "name": "stdout",
     "output_type": "stream",
     "text": [
      "mealService 응답코드: 200\n",
      "급식 데이터 수: 40\n",
      "7011315 선정국제관광고등학교\n",
      "급식 정보 조회 중: 날짜=20250618\n"
     ]
    },
    {
     "name": "stderr",
     "output_type": "stream",
     "text": [
      "고등학교 급식 조회:  97%|███████████████████████████████████████████████▎ | 172/178 [00:40<00:01,  4.48it/s]"
     ]
    },
    {
     "name": "stdout",
     "output_type": "stream",
     "text": [
      "mealService 응답코드: 200\n",
      "급식 데이터 수: 40\n",
      "7010192 선화예술고등학교\n",
      "급식 정보 조회 중: 날짜=20250618\n"
     ]
    },
    {
     "name": "stderr",
     "output_type": "stream",
     "text": [
      "고등학교 급식 조회:  97%|███████████████████████████████████████████████▌ | 173/178 [00:40<00:01,  4.20it/s]"
     ]
    },
    {
     "name": "stdout",
     "output_type": "stream",
     "text": [
      "mealService 응답코드: 200\n",
      "급식 데이터 수: 62\n",
      "7010193 성남고등학교\n",
      "급식 정보 조회 중: 날짜=20250618\n",
      "mealService 응답코드: 200\n",
      "급식 데이터 수: 19\n"
     ]
    },
    {
     "name": "stderr",
     "output_type": "stream",
     "text": [
      "고등학교 급식 조회:  98%|████████████████████████████████████████████████▏| 175/178 [00:41<00:00,  4.81it/s]"
     ]
    },
    {
     "name": "stdout",
     "output_type": "stream",
     "text": [
      "7011179 성덕고등학교\n",
      "급식 정보 조회 중: 날짜=20250618\n",
      "mealService 응답코드: 200\n",
      "급식 데이터 수: 21\n",
      "7010089 성동고등학교\n",
      "급식 정보 조회 중: 날짜=20250618\n"
     ]
    },
    {
     "name": "stderr",
     "output_type": "stream",
     "text": [
      "고등학교 급식 조회:  99%|████████████████████████████████████████████████▍| 176/178 [00:41<00:00,  4.71it/s]"
     ]
    },
    {
     "name": "stdout",
     "output_type": "stream",
     "text": [
      "mealService 응답코드: 200\n",
      "급식 데이터 수: 20\n",
      "7010737 성동공업고등학교\n",
      "급식 정보 조회 중: 날짜=20250618\n"
     ]
    },
    {
     "name": "stderr",
     "output_type": "stream",
     "text": [
      "고등학교 급식 조회:  99%|████████████████████████████████████████████████▋| 177/178 [00:41<00:00,  4.36it/s]"
     ]
    },
    {
     "name": "stdout",
     "output_type": "stream",
     "text": [
      "mealService 응답코드: 200\n",
      "급식 데이터 수: 38\n",
      "7010889 성동글로벌경영고등학교\n",
      "급식 정보 조회 중: 날짜=20250618\n"
     ]
    },
    {
     "name": "stderr",
     "output_type": "stream",
     "text": [
      "고등학교 급식 조회: 100%|█████████████████████████████████████████████████| 178/178 [00:41<00:00,  4.24it/s]"
     ]
    },
    {
     "name": "stdout",
     "output_type": "stream",
     "text": [
      "mealService 응답코드: 200\n",
      "급식 데이터 수: 19\n",
      "수집된 급식 행 수: 5222\n",
      "수집된 전체 급식 행 수: 5222\n",
      "  교육청코드     학교코드     학교명      급식일자 식사명  \\\n",
      "0   B10  7010057  가락고등학교  20250519  중식   \n",
      "1   B10  7010057  가락고등학교  20250520  중식   \n",
      "2   B10  7010057  가락고등학교  20250521  중식   \n",
      "3   B10  7010057  가락고등학교  20250522  중식   \n",
      "4   B10  7010057  가락고등학교  20250523  중식   \n",
      "\n",
      "                                                급식식단  \n",
      "0  쌀밥 <br/>소고기미역국 (2.5.6.15.16.18)<br/>돼지갈비찜 (5.6...  \n",
      "1  쇠고기콩나물밥 (5.6.16)<br/>물만두국 (1.2.5.6.10.15.16.18...  \n",
      "2  새우볶음밥 (1.5.6.8.9.13.18)<br/>씨앗호떡파이 (1.2.3.5.6)...  \n",
      "3  쌀밥 <br/>볶음우동 (5.6.8.9.13.15.17.18)<br/>zero초코파...  \n",
      "4  현미밥 <br/>어묵국 (1.2.5.6.15.16.18)<br/>마라찜닭 (5.6....  \n"
     ]
    },
    {
     "name": "stderr",
     "output_type": "stream",
     "text": [
      "\n"
     ]
    },
    {
     "name": "stdout",
     "output_type": "stream",
     "text": [
      "응답코드 : 200\n"
     ]
    },
    {
     "name": "stderr",
     "output_type": "stream",
     "text": [
      "고등학교 급식 조회:   0%|                                                           | 0/143 [00:00<?, ?it/s]"
     ]
    },
    {
     "name": "stdout",
     "output_type": "stream",
     "text": [
      "7150119 가야고등학교\n",
      "급식 정보 조회 중: 날짜=20250618\n",
      "mealService 응답코드: 200\n",
      "급식 데이터 수: 39\n"
     ]
    },
    {
     "name": "stderr",
     "output_type": "stream",
     "text": [
      "고등학교 급식 조회:   1%|▎                                                  | 1/143 [00:00<00:32,  4.31it/s]"
     ]
    },
    {
     "name": "stdout",
     "output_type": "stream",
     "text": [
      "7150084 개금고등학교\n",
      "급식 정보 조회 중: 날짜=20250618\n",
      "mealService 응답코드: 200\n",
      "급식 데이터 수: 40\n"
     ]
    },
    {
     "name": "stderr",
     "output_type": "stream",
     "text": [
      "고등학교 급식 조회:   1%|▋                                                  | 2/143 [00:00<00:32,  4.35it/s]"
     ]
    },
    {
     "name": "stdout",
     "output_type": "stream",
     "text": [
      "7150396 개성고등학교\n",
      "급식 정보 조회 중: 날짜=20250618\n",
      "mealService 응답코드: 200\n",
      "급식 데이터 수: 39\n"
     ]
    },
    {
     "name": "stderr",
     "output_type": "stream",
     "text": [
      "고등학교 급식 조회:   2%|█                                                  | 3/143 [00:00<00:33,  4.13it/s]"
     ]
    },
    {
     "name": "stdout",
     "output_type": "stream",
     "text": [
      "7150120 건국고등학교\n",
      "급식 정보 조회 중: 날짜=20250618\n",
      "mealService 응답코드: 200\n",
      "급식 데이터 수: 40\n"
     ]
    },
    {
     "name": "stderr",
     "output_type": "stream",
     "text": [
      "고등학교 급식 조회:   3%|█▍                                                 | 4/143 [00:00<00:32,  4.28it/s]"
     ]
    },
    {
     "name": "stdout",
     "output_type": "stream",
     "text": [
      "7150085 경남고등학교\n",
      "급식 정보 조회 중: 날짜=20250618\n",
      "mealService 응답코드: 200\n",
      "급식 데이터 수: 42\n"
     ]
    },
    {
     "name": "stderr",
     "output_type": "stream",
     "text": [
      "고등학교 급식 조회:   3%|█▊                                                 | 5/143 [00:01<00:31,  4.32it/s]"
     ]
    },
    {
     "name": "stdout",
     "output_type": "stream",
     "text": [
      "7150166 경남공업고등학교\n",
      "급식 정보 조회 중: 날짜=20250618\n",
      "mealService 응답코드: 200\n",
      "급식 데이터 수: 58\n"
     ]
    },
    {
     "name": "stderr",
     "output_type": "stream",
     "text": [
      "고등학교 급식 조회:   4%|██▏                                                | 6/143 [00:01<00:32,  4.27it/s]"
     ]
    },
    {
     "name": "stdout",
     "output_type": "stream",
     "text": [
      "7150086 경남여자고등학교\n",
      "급식 정보 조회 중: 날짜=20250618\n",
      "mealService 응답코드: 200\n",
      "급식 데이터 수: 57\n"
     ]
    },
    {
     "name": "stderr",
     "output_type": "stream",
     "text": [
      "고등학교 급식 조회:   5%|██▍                                                | 7/143 [00:01<00:34,  3.94it/s]"
     ]
    },
    {
     "name": "stdout",
     "output_type": "stream",
     "text": [
      "7150429 경성전자고등학교\n",
      "급식 정보 조회 중: 날짜=20250618\n",
      "mealService 응답코드: 200\n",
      "급식 데이터 수: 21\n"
     ]
    },
    {
     "name": "stderr",
     "output_type": "stream",
     "text": [
      "고등학교 급식 조회:   6%|██▊                                                | 8/143 [00:01<00:32,  4.20it/s]"
     ]
    },
    {
     "name": "stdout",
     "output_type": "stream",
     "text": [
      "7150121 경원고등학교\n",
      "급식 정보 조회 중: 날짜=20250618\n",
      "mealService 응답코드: 200\n",
      "급식 데이터 수: 39\n"
     ]
    },
    {
     "name": "stderr",
     "output_type": "stream",
     "text": [
      "고등학교 급식 조회:   6%|███▏                                               | 9/143 [00:02<00:32,  4.17it/s]"
     ]
    },
    {
     "name": "stdout",
     "output_type": "stream",
     "text": [
      "7150423 경일고등학교\n",
      "급식 정보 조회 중: 날짜=20250618\n",
      "mealService 응답코드: 200\n",
      "급식 데이터 수: 62\n"
     ]
    },
    {
     "name": "stderr",
     "output_type": "stream",
     "text": [
      "고등학교 급식 조회:   7%|███▍                                              | 10/143 [00:02<00:31,  4.23it/s]"
     ]
    },
    {
     "name": "stdout",
     "output_type": "stream",
     "text": [
      "7150122 경혜여자고등학교\n",
      "급식 정보 조회 중: 날짜=20250618\n",
      "mealService 응답코드: 200\n",
      "급식 데이터 수: 40\n"
     ]
    },
    {
     "name": "stderr",
     "output_type": "stream",
     "text": [
      "고등학교 급식 조회:   8%|████▏                                             | 12/143 [00:02<00:28,  4.56it/s]"
     ]
    },
    {
     "name": "stdout",
     "output_type": "stream",
     "text": [
      "7150623 계성여자고등학교\n",
      "급식 정보 조회 중: 날짜=20250618\n",
      "mealService 응답코드: 200\n",
      "급식 데이터 수: 21\n",
      "7150123 광명고등학교\n",
      "급식 정보 조회 중: 날짜=20250618\n",
      "mealService 응답코드: 200\n",
      "급식 데이터 수: 39\n"
     ]
    },
    {
     "name": "stderr",
     "output_type": "stream",
     "text": [
      "고등학교 급식 조회:   9%|████▌                                             | 13/143 [00:03<00:28,  4.60it/s]"
     ]
    },
    {
     "name": "stdout",
     "output_type": "stream",
     "text": [
      "7150087 구덕고등학교\n",
      "급식 정보 조회 중: 날짜=20250618\n",
      "mealService 응답코드: 200\n",
      "급식 데이터 수: 38\n"
     ]
    },
    {
     "name": "stderr",
     "output_type": "stream",
     "text": [
      "고등학교 급식 조회:  10%|████▉                                             | 14/143 [00:03<00:28,  4.55it/s]"
     ]
    },
    {
     "name": "stdout",
     "output_type": "stream",
     "text": [
      "7150372 금곡고등학교\n",
      "급식 정보 조회 중: 날짜=20250618\n",
      "mealService 응답코드: 200\n",
      "급식 데이터 수: 41\n"
     ]
    },
    {
     "name": "stderr",
     "output_type": "stream",
     "text": [
      "고등학교 급식 조회:  10%|█████▏                                            | 15/143 [00:03<00:29,  4.39it/s]"
     ]
    },
    {
     "name": "stdout",
     "output_type": "stream",
     "text": [
      "7150424 금명여자고등학교\n",
      "급식 정보 조회 중: 날짜=20250618\n",
      "mealService 응답코드: 200\n",
      "급식 데이터 수: 39\n"
     ]
    },
    {
     "name": "stderr",
     "output_type": "stream",
     "text": [
      "고등학교 급식 조회:  12%|█████▉                                            | 17/143 [00:03<00:28,  4.44it/s]"
     ]
    },
    {
     "name": "stdout",
     "output_type": "stream",
     "text": [
      "7150738 금샘고등학교\n",
      "급식 정보 조회 중: 날짜=20250618\n",
      "mealService 응답코드: 200\n",
      "급식 데이터 수: 21\n",
      "7150124 금성고등학교\n",
      "급식 정보 조회 중: 날짜=20250618\n",
      "mealService 응답코드: 200\n",
      "급식 데이터 수: 37\n"
     ]
    },
    {
     "name": "stderr",
     "output_type": "stream",
     "text": [
      "고등학교 급식 조회:  13%|██████▎                                           | 18/143 [00:04<00:28,  4.40it/s]"
     ]
    },
    {
     "name": "stdout",
     "output_type": "stream",
     "text": [
      "7150090 금정고등학교\n",
      "급식 정보 조회 중: 날짜=20250618\n",
      "mealService 응답코드: 200\n",
      "급식 데이터 수: 41\n"
     ]
    },
    {
     "name": "stderr",
     "output_type": "stream",
     "text": [
      "고등학교 급식 조회:  13%|██████▋                                           | 19/143 [00:04<00:27,  4.44it/s]"
     ]
    },
    {
     "name": "stdout",
     "output_type": "stream",
     "text": [
      "7150091 금정여자고등학교\n",
      "급식 정보 조회 중: 날짜=20250618\n",
      "mealService 응답코드: 200\n",
      "급식 데이터 수: 37\n"
     ]
    },
    {
     "name": "stderr",
     "output_type": "stream",
     "text": [
      "고등학교 급식 조회:  14%|██████▉                                           | 20/143 [00:04<00:28,  4.34it/s]"
     ]
    },
    {
     "name": "stdout",
     "output_type": "stream",
     "text": [
      "7150089 기장고등학교\n",
      "급식 정보 조회 중: 날짜=20250618\n",
      "mealService 응답코드: 200\n",
      "급식 데이터 수: 54\n"
     ]
    },
    {
     "name": "stderr",
     "output_type": "stream",
     "text": [
      "고등학교 급식 조회:  15%|███████▎                                          | 21/143 [00:04<00:30,  4.03it/s]"
     ]
    },
    {
     "name": "stdout",
     "output_type": "stream",
     "text": [
      "7150092 낙동고등학교\n",
      "급식 정보 조회 중: 날짜=20250618\n",
      "mealService 응답코드: 200\n",
      "급식 데이터 수: 40\n"
     ]
    },
    {
     "name": "stderr",
     "output_type": "stream",
     "text": [
      "고등학교 급식 조회:  16%|████████                                          | 23/143 [00:05<00:27,  4.43it/s]"
     ]
    },
    {
     "name": "stdout",
     "output_type": "stream",
     "text": [
      "7150093 남산고등학교\n",
      "급식 정보 조회 중: 날짜=20250618\n",
      "mealService 응답코드: 200\n",
      "급식 데이터 수: 38\n",
      "7150125 남성여자고등학교\n",
      "급식 정보 조회 중: 날짜=20250618\n",
      "mealService 응답코드: 200\n",
      "급식 데이터 수: 39\n"
     ]
    },
    {
     "name": "stderr",
     "output_type": "stream",
     "text": [
      "고등학교 급식 조회:  17%|████████▍                                         | 24/143 [00:05<00:26,  4.42it/s]"
     ]
    },
    {
     "name": "stdout",
     "output_type": "stream",
     "text": [
      "7150094 내성고등학교\n",
      "급식 정보 조회 중: 날짜=20250618\n",
      "mealService 응답코드: 200\n",
      "급식 데이터 수: 37\n"
     ]
    },
    {
     "name": "stderr",
     "output_type": "stream",
     "text": [
      "고등학교 급식 조회:  17%|████████▋                                         | 25/143 [00:05<00:27,  4.22it/s]"
     ]
    },
    {
     "name": "stdout",
     "output_type": "stream",
     "text": [
      "7150095 다대고등학교\n",
      "급식 정보 조회 중: 날짜=20250618\n",
      "mealService 응답코드: 200\n",
      "급식 데이터 수: 39\n"
     ]
    },
    {
     "name": "stderr",
     "output_type": "stream",
     "text": [
      "고등학교 급식 조회:  19%|█████████▍                                        | 27/143 [00:06<00:26,  4.39it/s]"
     ]
    },
    {
     "name": "stdout",
     "output_type": "stream",
     "text": [
      "7150624 대광고등학교\n",
      "급식 정보 조회 중: 날짜=20250618\n",
      "mealService 응답코드: 200\n",
      "급식 데이터 수: 21\n",
      "7150126 대덕여자고등학교\n",
      "급식 정보 조회 중: 날짜=20250618\n",
      "mealService 응답코드: 200\n",
      "급식 데이터 수: 41\n"
     ]
    },
    {
     "name": "stderr",
     "output_type": "stream",
     "text": [
      "고등학교 급식 조회:  20%|█████████▊                                        | 28/143 [00:06<00:26,  4.37it/s]"
     ]
    },
    {
     "name": "stdout",
     "output_type": "stream",
     "text": [
      "7150127 대동고등학교\n",
      "급식 정보 조회 중: 날짜=20250618\n",
      "mealService 응답코드: 200\n",
      "급식 데이터 수: 39\n"
     ]
    },
    {
     "name": "stderr",
     "output_type": "stream",
     "text": [
      "고등학교 급식 조회:  20%|██████████▏                                       | 29/143 [00:06<00:25,  4.44it/s]"
     ]
    },
    {
     "name": "stdout",
     "output_type": "stream",
     "text": [
      "7150128 대명여자고등학교\n",
      "급식 정보 조회 중: 날짜=20250618\n"
     ]
    },
    {
     "name": "stderr",
     "output_type": "stream",
     "text": [
      "고등학교 급식 조회:  21%|██████████▍                                       | 30/143 [00:07<00:28,  4.01it/s]"
     ]
    },
    {
     "name": "stdout",
     "output_type": "stream",
     "text": [
      "mealService 응답코드: 200\n",
      "급식 데이터 수: 41\n",
      "7150626 대양고등학교\n",
      "급식 정보 조회 중: 날짜=20250618\n"
     ]
    },
    {
     "name": "stderr",
     "output_type": "stream",
     "text": [
      "고등학교 급식 조회:  22%|██████████▊                                       | 31/143 [00:07<00:26,  4.15it/s]"
     ]
    },
    {
     "name": "stdout",
     "output_type": "stream",
     "text": [
      "mealService 응답코드: 200\n",
      "급식 데이터 수: 21\n",
      "7150129 대연고등학교\n",
      "급식 정보 조회 중: 날짜=20250618\n"
     ]
    },
    {
     "name": "stderr",
     "output_type": "stream",
     "text": [
      "고등학교 급식 조회:  22%|███████████▏                                      | 32/143 [00:07<00:27,  4.09it/s]"
     ]
    },
    {
     "name": "stdout",
     "output_type": "stream",
     "text": [
      "mealService 응답코드: 200\n",
      "급식 데이터 수: 41\n",
      "7150597 대진전자통신고등학교\n",
      "급식 정보 조회 중: 날짜=20250618\n"
     ]
    },
    {
     "name": "stderr",
     "output_type": "stream",
     "text": [
      "고등학교 급식 조회:  23%|███████████▌                                      | 33/143 [00:07<00:26,  4.21it/s]"
     ]
    },
    {
     "name": "stdout",
     "output_type": "stream",
     "text": [
      "mealService 응답코드: 200\n",
      "급식 데이터 수: 20\n",
      "7150096 덕문고등학교\n",
      "급식 정보 조회 중: 날짜=20250618\n"
     ]
    },
    {
     "name": "stderr",
     "output_type": "stream",
     "text": [
      "고등학교 급식 조회:  24%|███████████▉                                      | 34/143 [00:07<00:26,  4.13it/s]"
     ]
    },
    {
     "name": "stdout",
     "output_type": "stream",
     "text": [
      "mealService 응답코드: 200\n",
      "급식 데이터 수: 52\n",
      "7150130 덕문여자고등학교\n",
      "급식 정보 조회 중: 날짜=20250618\n"
     ]
    },
    {
     "name": "stderr",
     "output_type": "stream",
     "text": [
      "고등학교 급식 조회:  24%|████████████▏                                     | 35/143 [00:08<00:25,  4.23it/s]"
     ]
    },
    {
     "name": "stdout",
     "output_type": "stream",
     "text": [
      "mealService 응답코드: 200\n",
      "급식 데이터 수: 39\n",
      "7150131 데레사여자고등학교\n",
      "급식 정보 조회 중: 날짜=20250618\n"
     ]
    },
    {
     "name": "stderr",
     "output_type": "stream",
     "text": [
      "고등학교 급식 조회:  25%|████████████▌                                     | 36/143 [00:08<00:26,  4.02it/s]"
     ]
    },
    {
     "name": "stdout",
     "output_type": "stream",
     "text": [
      "mealService 응답코드: 200\n",
      "급식 데이터 수: 41\n",
      "7150097 동래고등학교\n",
      "급식 정보 조회 중: 날짜=20250618\n",
      "mealService 응답코드: 200\n",
      "급식 데이터 수: 21\n"
     ]
    },
    {
     "name": "stderr",
     "output_type": "stream",
     "text": [
      "고등학교 급식 조회:  26%|████████████▉                                     | 37/143 [00:08<00:24,  4.25it/s]"
     ]
    },
    {
     "name": "stdout",
     "output_type": "stream",
     "text": [
      "7150132 동래여자고등학교\n",
      "급식 정보 조회 중: 날짜=20250618\n",
      "mealService 응답코드: 200\n",
      "급식 데이터 수: 39\n"
     ]
    },
    {
     "name": "stderr",
     "output_type": "stream",
     "text": [
      "고등학교 급식 조회:  27%|█████████████▋                                    | 39/143 [00:09<00:23,  4.50it/s]"
     ]
    },
    {
     "name": "stdout",
     "output_type": "stream",
     "text": [
      "7150170 동래원예고등학교\n",
      "급식 정보 조회 중: 날짜=20250618\n",
      "mealService 응답코드: 200\n",
      "급식 데이터 수: 21\n",
      "7150620 동명공업고등학교\n",
      "급식 정보 조회 중: 날짜=20250618\n",
      "mealService 응답코드: 200\n",
      "급식 데이터 수: 21\n"
     ]
    },
    {
     "name": "stderr",
     "output_type": "stream",
     "text": [
      "고등학교 급식 조회:  28%|█████████████▉                                    | 40/143 [00:09<00:22,  4.56it/s]"
     ]
    },
    {
     "name": "stdout",
     "output_type": "stream",
     "text": [
      "7150133 동아고등학교\n",
      "급식 정보 조회 중: 날짜=20250618\n",
      "mealService 응답코드: 200\n",
      "급식 데이터 수: 41\n"
     ]
    },
    {
     "name": "stderr",
     "output_type": "stream",
     "text": [
      "고등학교 급식 조회:  29%|██████████████▎                                   | 41/143 [00:09<00:24,  4.21it/s]"
     ]
    },
    {
     "name": "stdout",
     "output_type": "stream",
     "text": [
      "7150198 동아공업고등학교\n",
      "급식 정보 조회 중: 날짜=20250618\n",
      "mealService 응답코드: 200\n",
      "급식 데이터 수: 20\n"
     ]
    },
    {
     "name": "stderr",
     "output_type": "stream",
     "text": [
      "고등학교 급식 조회:  29%|██████████████▋                                   | 42/143 [00:09<00:23,  4.33it/s]"
     ]
    },
    {
     "name": "stdout",
     "output_type": "stream",
     "text": [
      "7150739 동의고등학교\n",
      "급식 정보 조회 중: 날짜=20250618\n",
      "mealService 응답코드: 200\n",
      "급식 데이터 수: 18\n"
     ]
    },
    {
     "name": "stderr",
     "output_type": "stream",
     "text": [
      "고등학교 급식 조회:  30%|███████████████                                   | 43/143 [00:10<00:22,  4.41it/s]"
     ]
    },
    {
     "name": "stdout",
     "output_type": "stream",
     "text": [
      "7150134 동인고등학교\n",
      "급식 정보 조회 중: 날짜=20250618\n",
      "mealService 응답코드: 200\n",
      "급식 데이터 수: 39\n"
     ]
    },
    {
     "name": "stderr",
     "output_type": "stream",
     "text": [
      "고등학교 급식 조회:  31%|███████████████▍                                  | 44/143 [00:10<00:22,  4.32it/s]"
     ]
    },
    {
     "name": "stdout",
     "output_type": "stream",
     "text": [
      "7150431 동주여자고등학교\n",
      "급식 정보 조회 중: 날짜=20250618\n",
      "mealService 응답코드: 200\n",
      "급식 데이터 수: 35\n"
     ]
    },
    {
     "name": "stderr",
     "output_type": "stream",
     "text": [
      "고등학교 급식 조회:  31%|███████████████▋                                  | 45/143 [00:10<00:22,  4.35it/s]"
     ]
    },
    {
     "name": "stdout",
     "output_type": "stream",
     "text": [
      "7150135 동천고등학교\n",
      "급식 정보 조회 중: 날짜=20250618\n",
      "mealService 응답코드: 200\n",
      "급식 데이터 수: 35\n"
     ]
    },
    {
     "name": "stderr",
     "output_type": "stream",
     "text": [
      "고등학교 급식 조회:  32%|████████████████                                  | 46/143 [00:10<00:22,  4.30it/s]"
     ]
    },
    {
     "name": "stdout",
     "output_type": "stream",
     "text": [
      "7150363 만덕고등학교\n",
      "급식 정보 조회 중: 날짜=20250618\n"
     ]
    },
    {
     "name": "stderr",
     "output_type": "stream",
     "text": [
      "고등학교 급식 조회:  33%|████████████████▍                                 | 47/143 [00:11<00:24,  3.91it/s]"
     ]
    },
    {
     "name": "stdout",
     "output_type": "stream",
     "text": [
      "mealService 응답코드: 200\n",
      "급식 데이터 수: 38\n",
      "7150451 명호고등학교\n",
      "급식 정보 조회 중: 날짜=20250618\n"
     ]
    },
    {
     "name": "stderr",
     "output_type": "stream",
     "text": [
      "고등학교 급식 조회:  34%|████████████████▊                                 | 48/143 [00:11<00:23,  4.08it/s]"
     ]
    },
    {
     "name": "stdout",
     "output_type": "stream",
     "text": [
      "mealService 응답코드: 200\n",
      "급식 데이터 수: 37\n",
      "7150098 문현여자고등학교\n",
      "급식 정보 조회 중: 날짜=20250618\n"
     ]
    },
    {
     "name": "stderr",
     "output_type": "stream",
     "text": [
      "고등학교 급식 조회:  34%|█████████████████▏                                | 49/143 [00:11<00:22,  4.20it/s]"
     ]
    },
    {
     "name": "stdout",
     "output_type": "stream",
     "text": [
      "mealService 응답코드: 200\n",
      "급식 데이터 수: 40\n",
      "7150383 반여고등학교\n",
      "급식 정보 조회 중: 날짜=20250618\n"
     ]
    },
    {
     "name": "stderr",
     "output_type": "stream",
     "text": [
      "고등학교 급식 조회:  35%|█████████████████▍                                | 50/143 [00:11<00:22,  4.20it/s]"
     ]
    },
    {
     "name": "stdout",
     "output_type": "stream",
     "text": [
      "mealService 응답코드: 200\n",
      "급식 데이터 수: 39\n",
      "7150136 배정고등학교\n",
      "급식 정보 조회 중: 날짜=20250618\n"
     ]
    },
    {
     "name": "stderr",
     "output_type": "stream",
     "text": [
      "고등학교 급식 조회:  36%|█████████████████▊                                | 51/143 [00:11<00:21,  4.24it/s]"
     ]
    },
    {
     "name": "stdout",
     "output_type": "stream",
     "text": [
      "mealService 응답코드: 200\n",
      "급식 데이터 수: 41\n",
      "7150625 배정미래고등학교\n",
      "급식 정보 조회 중: 날짜=20250618\n"
     ]
    },
    {
     "name": "stderr",
     "output_type": "stream",
     "text": [
      "고등학교 급식 조회:  36%|██████████████████▏                               | 52/143 [00:12<00:21,  4.26it/s]"
     ]
    },
    {
     "name": "stdout",
     "output_type": "stream",
     "text": [
      "mealService 응답코드: 200\n",
      "급식 데이터 수: 21\n",
      "7150397 부경고등학교\n",
      "급식 정보 조회 중: 날짜=20250618\n"
     ]
    },
    {
     "name": "stderr",
     "output_type": "stream",
     "text": [
      "고등학교 급식 조회:  37%|██████████████████▌                               | 53/143 [00:12<00:22,  4.05it/s]"
     ]
    },
    {
     "name": "stdout",
     "output_type": "stream",
     "text": [
      "mealService 응답코드: 200\n",
      "급식 데이터 수: 48\n",
      "7150099 부산강서고등학교\n",
      "급식 정보 조회 중: 날짜=20250618\n"
     ]
    },
    {
     "name": "stderr",
     "output_type": "stream",
     "text": [
      "고등학교 급식 조회:  38%|██████████████████▉                               | 54/143 [00:12<00:22,  3.95it/s]"
     ]
    },
    {
     "name": "stdout",
     "output_type": "stream",
     "text": [
      "mealService 응답코드: 200\n",
      "급식 데이터 수: 40\n",
      "7150100 부산고등학교\n",
      "급식 정보 조회 중: 날짜=20250618\n"
     ]
    },
    {
     "name": "stderr",
     "output_type": "stream",
     "text": [
      "고등학교 급식 조회:  38%|███████████████████▏                              | 55/143 [00:12<00:22,  3.95it/s]"
     ]
    },
    {
     "name": "stdout",
     "output_type": "stream",
     "text": [
      "mealService 응답코드: 200\n",
      "급식 데이터 수: 54\n",
      "7150171 부산공업고등학교\n",
      "급식 정보 조회 중: 날짜=20250618\n"
     ]
    },
    {
     "name": "stderr",
     "output_type": "stream",
     "text": [
      "고등학교 급식 조회:  39%|███████████████████▌                              | 56/143 [00:13<00:21,  4.02it/s]"
     ]
    },
    {
     "name": "stdout",
     "output_type": "stream",
     "text": [
      "mealService 응답코드: 200\n",
      "급식 데이터 수: 57\n",
      "7150459 부산과학고등학교\n",
      "급식 정보 조회 중: 날짜=20250618\n"
     ]
    },
    {
     "name": "stderr",
     "output_type": "stream",
     "text": [
      "고등학교 급식 조회:  40%|███████████████████▉                              | 57/143 [00:13<00:22,  3.90it/s]"
     ]
    },
    {
     "name": "stdout",
     "output_type": "stream",
     "text": [
      "mealService 응답코드: 200\n",
      "급식 데이터 수: 52\n",
      "7150422 부산관광고등학교\n",
      "급식 정보 조회 중: 날짜=20250618\n"
     ]
    },
    {
     "name": "stderr",
     "output_type": "stream",
     "text": [
      "고등학교 급식 조회:  41%|████████████████████▎                             | 58/143 [00:13<00:20,  4.18it/s]"
     ]
    },
    {
     "name": "stdout",
     "output_type": "stream",
     "text": [
      "mealService 응답코드: 200\n",
      "급식 데이터 수: 21\n",
      "7150369 부산국제고등학교\n",
      "급식 정보 조회 중: 날짜=20250618\n"
     ]
    },
    {
     "name": "stderr",
     "output_type": "stream",
     "text": [
      "고등학교 급식 조회:  41%|████████████████████▋                             | 59/143 [00:13<00:20,  4.08it/s]"
     ]
    },
    {
     "name": "stdout",
     "output_type": "stream",
     "text": [
      "mealService 응답코드: 200\n",
      "급식 데이터 수: 52\n",
      "1421117 부산기계공업고등학교\n",
      "급식 정보 조회 중: 날짜=20250618\n"
     ]
    },
    {
     "name": "stderr",
     "output_type": "stream",
     "text": [
      "고등학교 급식 조회:  42%|████████████████████▉                             | 60/143 [00:14<00:21,  3.85it/s]"
     ]
    },
    {
     "name": "stdout",
     "output_type": "stream",
     "text": [
      "mealService 응답코드: 200\n",
      "급식 데이터 수: 70\n",
      "7150102 부산남고등학교\n",
      "급식 정보 조회 중: 날짜=20250618\n"
     ]
    },
    {
     "name": "stderr",
     "output_type": "stream",
     "text": [
      "고등학교 급식 조회:  43%|█████████████████████▎                            | 61/143 [00:14<00:20,  3.93it/s]"
     ]
    },
    {
     "name": "stdout",
     "output_type": "stream",
     "text": [
      "mealService 응답코드: 200\n",
      "급식 데이터 수: 38\n",
      "7150743 부산남고등학교임시교육시설\n",
      "급식 정보 조회 중: 날짜=20250618\n",
      "mealService 응답코드: 200\n",
      "mealServiceDietInfo 키 없음: {'RESULT': {'CODE': 'INFO-200', 'MESSAGE': '해당하는 데이터가 없습니다.'}}\n"
     ]
    },
    {
     "name": "stderr",
     "output_type": "stream",
     "text": [
      "고등학교 급식 조회:  43%|█████████████████████▋                            | 62/143 [00:14<00:18,  4.35it/s]"
     ]
    },
    {
     "name": "stdout",
     "output_type": "stream",
     "text": [
      "7150103 부산남일고등학교\n",
      "급식 정보 조회 중: 날짜=20250618\n",
      "mealService 응답코드: 200\n",
      "급식 데이터 수: 40\n"
     ]
    },
    {
     "name": "stderr",
     "output_type": "stream",
     "text": [
      "고등학교 급식 조회:  44%|██████████████████████                            | 63/143 [00:14<00:18,  4.26it/s]"
     ]
    },
    {
     "name": "stdout",
     "output_type": "stream",
     "text": [
      "7150137 부산대저고등학교\n",
      "급식 정보 조회 중: 날짜=20250618\n",
      "mealService 응답코드: 200\n",
      "급식 데이터 수: 21\n"
     ]
    },
    {
     "name": "stderr",
     "output_type": "stream",
     "text": [
      "고등학교 급식 조회:  45%|██████████████████████▍                           | 64/143 [00:15<00:18,  4.38it/s]"
     ]
    },
    {
     "name": "stdout",
     "output_type": "stream",
     "text": [
      "7005103 부산대학교사범대학부설고등학교\n",
      "급식 정보 조회 중: 날짜=20250618\n",
      "mealService 응답코드: 200\n",
      "급식 데이터 수: 40\n"
     ]
    },
    {
     "name": "stderr",
     "output_type": "stream",
     "text": [
      "고등학교 급식 조회:  45%|██████████████████████▋                           | 65/143 [00:15<00:17,  4.39it/s]"
     ]
    },
    {
     "name": "stdout",
     "output_type": "stream",
     "text": [
      "7150138 부산동고등학교\n",
      "급식 정보 조회 중: 날짜=20250618\n",
      "mealService 응답코드: 200\n",
      "급식 데이터 수: 40\n"
     ]
    },
    {
     "name": "stderr",
     "output_type": "stream",
     "text": [
      "고등학교 급식 조회:  46%|███████████████████████                           | 66/143 [00:15<00:17,  4.43it/s]"
     ]
    },
    {
     "name": "stdout",
     "output_type": "stream",
     "text": [
      "7150139 부산동성고등학교\n",
      "급식 정보 조회 중: 날짜=20250618\n",
      "mealService 응답코드: 200\n",
      "급식 데이터 수: 39\n"
     ]
    },
    {
     "name": "stderr",
     "output_type": "stream",
     "text": [
      "고등학교 급식 조회:  47%|███████████████████████▍                          | 67/143 [00:15<00:17,  4.31it/s]"
     ]
    },
    {
     "name": "stdout",
     "output_type": "stream",
     "text": [
      "7150104 부산동여자고등학교\n",
      "급식 정보 조회 중: 날짜=20250618\n",
      "mealService 응답코드: 200\n",
      "급식 데이터 수: 41\n"
     ]
    },
    {
     "name": "stderr",
     "output_type": "stream",
     "text": [
      "고등학교 급식 조회:  48%|███████████████████████▊                          | 68/143 [00:16<00:17,  4.36it/s]"
     ]
    },
    {
     "name": "stdout",
     "output_type": "stream",
     "text": [
      "7150345 부산디지털고등학교\n",
      "급식 정보 조회 중: 날짜=20250618\n",
      "mealService 응답코드: 200\n",
      "급식 데이터 수: 21\n"
     ]
    },
    {
     "name": "stderr",
     "output_type": "stream",
     "text": [
      "고등학교 급식 조회:  49%|████████████████████████▍                         | 70/143 [00:16<00:15,  4.69it/s]"
     ]
    },
    {
     "name": "stdout",
     "output_type": "stream",
     "text": [
      "7150421 부산마케팅고등학교\n",
      "급식 정보 조회 중: 날짜=20250618\n",
      "mealService 응답코드: 200\n",
      "mealServiceDietInfo 키 없음: {'RESULT': {'CODE': 'INFO-200', 'MESSAGE': '해당하는 데이터가 없습니다.'}}\n",
      "7150456 부산문화여자고등학교\n",
      "급식 정보 조회 중: 날짜=20250618\n"
     ]
    },
    {
     "name": "stderr",
     "output_type": "stream",
     "text": [
      "고등학교 급식 조회:  50%|████████████████████████▊                         | 71/143 [00:16<00:15,  4.70it/s]"
     ]
    },
    {
     "name": "stdout",
     "output_type": "stream",
     "text": [
      "mealService 응답코드: 200\n",
      "급식 데이터 수: 20\n",
      "7150420 부산백양고등학교\n",
      "급식 정보 조회 중: 날짜=20250618\n"
     ]
    },
    {
     "name": "stderr",
     "output_type": "stream",
     "text": [
      "고등학교 급식 조회:  50%|█████████████████████████▏                        | 72/143 [00:16<00:15,  4.67it/s]"
     ]
    },
    {
     "name": "stdout",
     "output_type": "stream",
     "text": [
      "mealService 응답코드: 200\n",
      "급식 데이터 수: 37\n",
      "7150533 부산보건고등학교\n",
      "급식 정보 조회 중: 날짜=20250618\n"
     ]
    },
    {
     "name": "stderr",
     "output_type": "stream",
     "text": [
      "고등학교 급식 조회:  51%|█████████████████████████▌                        | 73/143 [00:17<00:14,  4.79it/s]"
     ]
    },
    {
     "name": "stdout",
     "output_type": "stream",
     "text": [
      "mealService 응답코드: 200\n",
      "급식 데이터 수: 20\n",
      "7150105 부산서여자고등학교\n",
      "급식 정보 조회 중: 날짜=20250618\n"
     ]
    },
    {
     "name": "stderr",
     "output_type": "stream",
     "text": [
      "고등학교 급식 조회:  52%|█████████████████████████▊                        | 74/143 [00:17<00:15,  4.55it/s]"
     ]
    },
    {
     "name": "stdout",
     "output_type": "stream",
     "text": [
      "mealService 응답코드: 200\n",
      "급식 데이터 수: 40\n",
      "7150659 부산센텀여자고등학교\n",
      "급식 정보 조회 중: 날짜=20250618\n"
     ]
    },
    {
     "name": "stderr",
     "output_type": "stream",
     "text": [
      "고등학교 급식 조회:  52%|██████████████████████████▏                       | 75/143 [00:17<00:14,  4.55it/s]"
     ]
    },
    {
     "name": "stdout",
     "output_type": "stream",
     "text": [
      "mealService 응답코드: 200\n",
      "급식 데이터 수: 41\n",
      "7150658 부산소프트웨어마이스터고등학교\n",
      "급식 정보 조회 중: 날짜=20250618\n"
     ]
    },
    {
     "name": "stderr",
     "output_type": "stream",
     "text": [
      "고등학교 급식 조회:  53%|██████████████████████████▌                       | 76/143 [00:17<00:16,  3.95it/s]"
     ]
    },
    {
     "name": "stdout",
     "output_type": "stream",
     "text": [
      "mealService 응답코드: 200\n",
      "급식 데이터 수: 57\n",
      "7150106 부산여자고등학교\n",
      "급식 정보 조회 중: 날짜=20250618\n"
     ]
    },
    {
     "name": "stderr",
     "output_type": "stream",
     "text": [
      "고등학교 급식 조회:  54%|██████████████████████████▉                       | 77/143 [00:18<00:16,  4.10it/s]"
     ]
    },
    {
     "name": "stdout",
     "output_type": "stream",
     "text": [
      "mealService 응답코드: 200\n",
      "급식 데이터 수: 38\n",
      "7150207 부산여자상업고등학교\n",
      "급식 정보 조회 중: 날짜=20250618\n"
     ]
    },
    {
     "name": "stderr",
     "output_type": "stream",
     "text": [
      "고등학교 급식 조회:  55%|███████████████████████████▎                      | 78/143 [00:18<00:15,  4.24it/s]"
     ]
    },
    {
     "name": "stdout",
     "output_type": "stream",
     "text": [
      "mealService 응답코드: 200\n",
      "급식 데이터 수: 20\n",
      "7150426 부산영상예술고등학교\n",
      "급식 정보 조회 중: 날짜=20250618\n",
      "mealService 응답코드: 200\n",
      "급식 데이터 수: 20\n"
     ]
    },
    {
     "name": "stderr",
     "output_type": "stream",
     "text": [
      "고등학교 급식 조회:  55%|███████████████████████████▌                      | 79/143 [00:18<00:14,  4.39it/s]"
     ]
    },
    {
     "name": "stdout",
     "output_type": "stream",
     "text": [
      "7150140 부산예술고등학교\n",
      "급식 정보 조회 중: 날짜=20250618\n",
      "mealService 응답코드: 200\n",
      "급식 데이터 수: 41\n"
     ]
    },
    {
     "name": "stderr",
     "output_type": "stream",
     "text": [
      "고등학교 급식 조회:  56%|███████████████████████████▉                      | 80/143 [00:18<00:14,  4.38it/s]"
     ]
    },
    {
     "name": "stdout",
     "output_type": "stream",
     "text": [
      "7150141 부산외국어고등학교\n",
      "급식 정보 조회 중: 날짜=20250618\n",
      "mealService 응답코드: 200\n",
      "급식 데이터 수: 43\n"
     ]
    },
    {
     "name": "stderr",
     "output_type": "stream",
     "text": [
      "고등학교 급식 조회:  57%|████████████████████████████▎                     | 81/143 [00:18<00:14,  4.18it/s]"
     ]
    },
    {
     "name": "stdout",
     "output_type": "stream",
     "text": [
      "7150532 부산일과학고등학교\n",
      "급식 정보 조회 중: 날짜=20250618\n",
      "mealService 응답코드: 200\n",
      "급식 데이터 수: 52\n"
     ]
    },
    {
     "name": "stderr",
     "output_type": "stream",
     "text": [
      "고등학교 급식 조회:  57%|████████████████████████████▋                     | 82/143 [00:19<00:15,  3.99it/s]"
     ]
    },
    {
     "name": "stdout",
     "output_type": "stream",
     "text": [
      "7150747 부산자동차마이스터고등학교\n",
      "급식 정보 조회 중: 날짜=20250618\n",
      "mealService 응답코드: 200\n",
      "급식 데이터 수: 58\n"
     ]
    },
    {
     "name": "stderr",
     "output_type": "stream",
     "text": [
      "고등학교 급식 조회:  58%|█████████████████████████████                     | 83/143 [00:19<00:15,  3.99it/s]"
     ]
    },
    {
     "name": "stdout",
     "output_type": "stream",
     "text": [
      "7150365 부산장안고등학교\n",
      "급식 정보 조회 중: 날짜=20250618\n",
      "mealService 응답코드: 200\n",
      "급식 데이터 수: 52\n"
     ]
    },
    {
     "name": "stderr",
     "output_type": "stream",
     "text": [
      "고등학교 급식 조회:  59%|█████████████████████████████▋                    | 85/143 [00:19<00:13,  4.29it/s]"
     ]
    },
    {
     "name": "stdout",
     "output_type": "stream",
     "text": [
      "7150177 부산전자공업고등학교\n",
      "급식 정보 조회 중: 날짜=20250618\n",
      "mealService 응답코드: 200\n",
      "급식 데이터 수: 21\n",
      "7150348 부산정보고등학교\n",
      "급식 정보 조회 중: 날짜=20250618\n",
      "mealService 응답코드: 200\n",
      "급식 데이터 수: 21\n"
     ]
    },
    {
     "name": "stderr",
     "output_type": "stream",
     "text": [
      "고등학교 급식 조회:  60%|██████████████████████████████                    | 86/143 [00:20<00:13,  4.34it/s]"
     ]
    },
    {
     "name": "stdout",
     "output_type": "stream",
     "text": [
      "7150208 부산정보관광고등학교\n",
      "급식 정보 조회 중: 날짜=20250618\n",
      "mealService 응답코드: 200\n",
      "급식 데이터 수: 21\n"
     ]
    },
    {
     "name": "stderr",
     "output_type": "stream",
     "text": [
      "고등학교 급식 조회:  61%|██████████████████████████████▍                   | 87/143 [00:20<00:12,  4.49it/s]"
     ]
    },
    {
     "name": "stdout",
     "output_type": "stream",
     "text": [
      "7150107 부산중앙고등학교\n",
      "급식 정보 조회 중: 날짜=20250618\n",
      "mealService 응답코드: 200\n",
      "급식 데이터 수: 40\n"
     ]
    },
    {
     "name": "stderr",
     "output_type": "stream",
     "text": [
      "고등학교 급식 조회:  62%|██████████████████████████████▊                   | 88/143 [00:20<00:12,  4.27it/s]"
     ]
    },
    {
     "name": "stdout",
     "output_type": "stream",
     "text": [
      "7150108 부산중앙여자고등학교\n",
      "급식 정보 조회 중: 날짜=20250618\n"
     ]
    },
    {
     "name": "stderr",
     "output_type": "stream",
     "text": [
      "고등학교 급식 조회:  62%|███████████████████████████████                   | 89/143 [00:21<00:14,  3.72it/s]"
     ]
    },
    {
     "name": "stdout",
     "output_type": "stream",
     "text": [
      "mealService 응답코드: 200\n",
      "급식 데이터 수: 37\n",
      "7150109 부산진고등학교\n",
      "급식 정보 조회 중: 날짜=20250618\n"
     ]
    },
    {
     "name": "stderr",
     "output_type": "stream",
     "text": [
      "고등학교 급식 조회:  63%|███████████████████████████████▍                  | 90/143 [00:21<00:15,  3.48it/s]"
     ]
    },
    {
     "name": "stdout",
     "output_type": "stream",
     "text": [
      "mealService 응답코드: 200\n",
      "급식 데이터 수: 40\n",
      "7150142 부산진여자고등학교\n",
      "급식 정보 조회 중: 날짜=20250618\n"
     ]
    },
    {
     "name": "stderr",
     "output_type": "stream",
     "text": [
      "고등학교 급식 조회:  64%|███████████████████████████████▊                  | 91/143 [00:21<00:15,  3.45it/s]"
     ]
    },
    {
     "name": "stdout",
     "output_type": "stream",
     "text": [
      "mealService 응답코드: 200\n",
      "급식 데이터 수: 41\n",
      "7150178 부산진여자상업고등학교\n",
      "급식 정보 조회 중: 날짜=20250618\n"
     ]
    },
    {
     "name": "stderr",
     "output_type": "stream",
     "text": [
      "고등학교 급식 조회:  64%|████████████████████████████████▏                 | 92/143 [00:21<00:14,  3.58it/s]"
     ]
    },
    {
     "name": "stdout",
     "output_type": "stream",
     "text": [
      "mealService 응답코드: 200\n",
      "급식 데이터 수: 19\n",
      "7150110 부산체육고등학교\n",
      "급식 정보 조회 중: 날짜=20250618\n"
     ]
    },
    {
     "name": "stderr",
     "output_type": "stream",
     "text": [
      "고등학교 급식 조회:  65%|████████████████████████████████▌                 | 93/143 [00:22<00:16,  3.11it/s]"
     ]
    },
    {
     "name": "stdout",
     "output_type": "stream",
     "text": [
      "mealService 응답코드: 200\n",
      "급식 데이터 수: 56\n",
      "7150337 부산컴퓨터과학고등학교\n",
      "급식 정보 조회 중: 날짜=20250618\n"
     ]
    },
    {
     "name": "stderr",
     "output_type": "stream",
     "text": [
      "고등학교 급식 조회:  66%|████████████████████████████████▊                 | 94/143 [00:22<00:15,  3.08it/s]"
     ]
    },
    {
     "name": "stdout",
     "output_type": "stream",
     "text": [
      "mealService 응답코드: 200\n",
      "급식 데이터 수: 21\n",
      "7150737 부산항공고등학교\n",
      "급식 정보 조회 중: 날짜=20250618\n"
     ]
    },
    {
     "name": "stderr",
     "output_type": "stream",
     "text": [
      "고등학교 급식 조회:  66%|█████████████████████████████████▏                | 95/143 [00:22<00:16,  3.00it/s]"
     ]
    },
    {
     "name": "stdout",
     "output_type": "stream",
     "text": [
      "mealService 응답코드: 200\n",
      "급식 데이터 수: 57\n",
      "7150746 부산해군과학기술고등학교\n",
      "급식 정보 조회 중: 날짜=20250618\n"
     ]
    },
    {
     "name": "stderr",
     "output_type": "stream",
     "text": [
      "고등학교 급식 조회:  67%|█████████████████████████████████▌                | 96/143 [00:23<00:14,  3.23it/s]"
     ]
    },
    {
     "name": "stdout",
     "output_type": "stream",
     "text": [
      "mealService 응답코드: 200\n",
      "급식 데이터 수: 59\n",
      "1192068 부산해사고등학교\n",
      "급식 정보 조회 중: 날짜=20250618\n"
     ]
    },
    {
     "name": "stderr",
     "output_type": "stream",
     "text": [
      "고등학교 급식 조회:  68%|█████████████████████████████████▉                | 97/143 [00:23<00:13,  3.36it/s]"
     ]
    },
    {
     "name": "stdout",
     "output_type": "stream",
     "text": [
      "mealService 응답코드: 200\n",
      "급식 데이터 수: 83\n",
      "7150143 부일외국어고등학교\n",
      "급식 정보 조회 중: 날짜=20250618\n"
     ]
    },
    {
     "name": "stderr",
     "output_type": "stream",
     "text": [
      "고등학교 급식 조회:  69%|██████████████████████████████████▎               | 98/143 [00:23<00:12,  3.49it/s]"
     ]
    },
    {
     "name": "stdout",
     "output_type": "stream",
     "text": [
      "mealService 응답코드: 200\n",
      "급식 데이터 수: 74\n",
      "7150346 부일전자디자인고등학교\n",
      "급식 정보 조회 중: 날짜=20250618\n"
     ]
    },
    {
     "name": "stderr",
     "output_type": "stream",
     "text": [
      "고등학교 급식 조회:  69%|██████████████████████████████████▌               | 99/143 [00:24<00:12,  3.62it/s]"
     ]
    },
    {
     "name": "stdout",
     "output_type": "stream",
     "text": [
      "mealService 응답코드: 200\n",
      "급식 데이터 수: 74\n",
      "7150111 부흥고등학교\n",
      "급식 정보 조회 중: 날짜=20250618\n"
     ]
    },
    {
     "name": "stderr",
     "output_type": "stream",
     "text": [
      "고등학교 급식 조회:  70%|██████████████████████████████████▎              | 100/143 [00:24<00:11,  3.78it/s]"
     ]
    },
    {
     "name": "stdout",
     "output_type": "stream",
     "text": [
      "mealService 응답코드: 200\n",
      "급식 데이터 수: 36\n",
      "7150371 분포고등학교\n",
      "급식 정보 조회 중: 날짜=20250618\n"
     ]
    },
    {
     "name": "stderr",
     "output_type": "stream",
     "text": [
      "고등학교 급식 조회:  71%|██████████████████████████████████▌              | 101/143 [00:24<00:10,  3.95it/s]"
     ]
    },
    {
     "name": "stdout",
     "output_type": "stream",
     "text": [
      "mealService 응답코드: 200\n",
      "급식 데이터 수: 40\n",
      "7150144 브니엘고등학교\n",
      "급식 정보 조회 중: 날짜=20250618\n"
     ]
    },
    {
     "name": "stderr",
     "output_type": "stream",
     "text": [
      "고등학교 급식 조회:  71%|██████████████████████████████████▉              | 102/143 [00:24<00:10,  4.04it/s]"
     ]
    },
    {
     "name": "stdout",
     "output_type": "stream",
     "text": [
      "mealService 응답코드: 200\n",
      "급식 데이터 수: 41\n",
      "7150145 브니엘여자고등학교\n",
      "급식 정보 조회 중: 날짜=20250618\n"
     ]
    },
    {
     "name": "stderr",
     "output_type": "stream",
     "text": [
      "고등학교 급식 조회:  72%|███████████████████████████████████▎             | 103/143 [00:24<00:09,  4.32it/s]"
     ]
    },
    {
     "name": "stdout",
     "output_type": "stream",
     "text": [
      "mealService 응답코드: 200\n",
      "급식 데이터 수: 41\n",
      "7150592 브니엘예술고등학교\n",
      "급식 정보 조회 중: 날짜=20250618\n"
     ]
    },
    {
     "name": "stderr",
     "output_type": "stream",
     "text": [
      "고등학교 급식 조회:  73%|███████████████████████████████████▋             | 104/143 [00:25<00:09,  4.09it/s]"
     ]
    },
    {
     "name": "stdout",
     "output_type": "stream",
     "text": [
      "mealService 응답코드: 200\n",
      "급식 데이터 수: 59\n",
      "7150425 사상고등학교\n",
      "급식 정보 조회 중: 날짜=20250618\n"
     ]
    },
    {
     "name": "stderr",
     "output_type": "stream",
     "text": [
      "고등학교 급식 조회:  73%|███████████████████████████████████▉             | 105/143 [00:25<00:09,  4.09it/s]"
     ]
    },
    {
     "name": "stdout",
     "output_type": "stream",
     "text": [
      "mealService 응답코드: 200\n",
      "급식 데이터 수: 40\n",
      "7150112 사직고등학교\n",
      "급식 정보 조회 중: 날짜=20250618\n"
     ]
    },
    {
     "name": "stderr",
     "output_type": "stream",
     "text": [
      "고등학교 급식 조회:  74%|████████████████████████████████████▎            | 106/143 [00:25<00:09,  4.03it/s]"
     ]
    },
    {
     "name": "stdout",
     "output_type": "stream",
     "text": [
      "mealService 응답코드: 200\n",
      "급식 데이터 수: 37\n",
      "7150146 사직여자고등학교\n",
      "급식 정보 조회 중: 날짜=20250618\n"
     ]
    },
    {
     "name": "stderr",
     "output_type": "stream",
     "text": [
      "고등학교 급식 조회:  75%|████████████████████████████████████▋            | 107/143 [00:25<00:08,  4.03it/s]"
     ]
    },
    {
     "name": "stdout",
     "output_type": "stream",
     "text": [
      "mealService 응답코드: 200\n",
      "급식 데이터 수: 39\n",
      "7150147 삼성여자고등학교\n",
      "급식 정보 조회 중: 날짜=20250618\n"
     ]
    },
    {
     "name": "stderr",
     "output_type": "stream",
     "text": [
      "고등학교 급식 조회:  76%|█████████████████████████████████████            | 108/143 [00:26<00:08,  4.14it/s]"
     ]
    },
    {
     "name": "stdout",
     "output_type": "stream",
     "text": [
      "mealService 응답코드: 200\n",
      "급식 데이터 수: 41\n",
      "7150430 삼정고등학교\n",
      "급식 정보 조회 중: 날짜=20250618\n"
     ]
    },
    {
     "name": "stderr",
     "output_type": "stream",
     "text": [
      "고등학교 급식 조회:  76%|█████████████████████████████████████▎           | 109/143 [00:26<00:08,  4.22it/s]"
     ]
    },
    {
     "name": "stdout",
     "output_type": "stream",
     "text": [
      "mealService 응답코드: 200\n",
      "급식 데이터 수: 39\n",
      "7150148 성도고등학교\n",
      "급식 정보 조회 중: 날짜=20250618\n"
     ]
    },
    {
     "name": "stderr",
     "output_type": "stream",
     "text": [
      "고등학교 급식 조회:  77%|█████████████████████████████████████▋           | 110/143 [00:26<00:07,  4.38it/s]"
     ]
    },
    {
     "name": "stdout",
     "output_type": "stream",
     "text": [
      "mealService 응답코드: 200\n",
      "급식 데이터 수: 39\n",
      "7150149 성모여자고등학교\n",
      "급식 정보 조회 중: 날짜=20250618\n"
     ]
    },
    {
     "name": "stderr",
     "output_type": "stream",
     "text": [
      "고등학교 급식 조회:  78%|██████████████████████████████████████           | 111/143 [00:26<00:07,  4.38it/s]"
     ]
    },
    {
     "name": "stdout",
     "output_type": "stream",
     "text": [
      "mealService 응답코드: 200\n",
      "급식 데이터 수: 40\n",
      "7150150 성일여자고등학교\n",
      "급식 정보 조회 중: 날짜=20250618\n"
     ]
    },
    {
     "name": "stderr",
     "output_type": "stream",
     "text": [
      "고등학교 급식 조회:  78%|██████████████████████████████████████▍          | 112/143 [00:27<00:06,  4.57it/s]"
     ]
    },
    {
     "name": "stdout",
     "output_type": "stream",
     "text": [
      "mealService 응답코드: 200\n",
      "급식 데이터 수: 41\n",
      "7150455 성지고등학교\n",
      "급식 정보 조회 중: 날짜=20250618\n"
     ]
    },
    {
     "name": "stderr",
     "output_type": "stream",
     "text": [
      "고등학교 급식 조회:  79%|██████████████████████████████████████▋          | 113/143 [00:27<00:06,  4.33it/s]"
     ]
    },
    {
     "name": "stdout",
     "output_type": "stream",
     "text": [
      "mealService 응답코드: 200\n",
      "급식 데이터 수: 37\n",
      "7150660 세연고등학교\n",
      "급식 정보 조회 중: 날짜=20250618\n"
     ]
    },
    {
     "name": "stderr",
     "output_type": "stream",
     "text": [
      "고등학교 급식 조회:  80%|███████████████████████████████████████          | 114/143 [00:27<00:07,  4.08it/s]"
     ]
    },
    {
     "name": "stdout",
     "output_type": "stream",
     "text": [
      "mealService 응답코드: 200\n",
      "급식 데이터 수: 21\n",
      "7150622 세정고등학교\n",
      "급식 정보 조회 중: 날짜=20250618\n"
     ]
    },
    {
     "name": "stderr",
     "output_type": "stream",
     "text": [
      "고등학교 급식 조회:  80%|███████████████████████████████████████▍         | 115/143 [00:27<00:06,  4.17it/s]"
     ]
    },
    {
     "name": "stdout",
     "output_type": "stream",
     "text": [
      "mealService 응답코드: 200\n",
      "급식 데이터 수: 21\n",
      "7150428 센텀고등학교\n",
      "급식 정보 조회 중: 날짜=20250618\n"
     ]
    },
    {
     "name": "stderr",
     "output_type": "stream",
     "text": [
      "고등학교 급식 조회:  81%|███████████████████████████████████████▋         | 116/143 [00:28<00:06,  4.30it/s]"
     ]
    },
    {
     "name": "stdout",
     "output_type": "stream",
     "text": [
      "mealService 응답코드: 200\n",
      "급식 데이터 수: 37\n",
      "7150114 신도고등학교\n",
      "급식 정보 조회 중: 날짜=20250618\n"
     ]
    },
    {
     "name": "stderr",
     "output_type": "stream",
     "text": [
      "고등학교 급식 조회:  82%|████████████████████████████████████████         | 117/143 [00:28<00:05,  4.36it/s]"
     ]
    },
    {
     "name": "stdout",
     "output_type": "stream",
     "text": [
      "mealService 응답코드: 200\n",
      "급식 데이터 수: 39\n",
      "7150452 신정고등학교\n",
      "급식 정보 조회 중: 날짜=20250618\n"
     ]
    },
    {
     "name": "stderr",
     "output_type": "stream",
     "text": [
      "고등학교 급식 조회:  83%|████████████████████████████████████████▍        | 118/143 [00:28<00:05,  4.43it/s]"
     ]
    },
    {
     "name": "stdout",
     "output_type": "stream",
     "text": [
      "mealService 응답코드: 200\n",
      "급식 데이터 수: 41\n",
      "7150115 양운고등학교\n",
      "급식 정보 조회 중: 날짜=20250618\n"
     ]
    },
    {
     "name": "stderr",
     "output_type": "stream",
     "text": [
      "고등학교 급식 조회:  83%|████████████████████████████████████████▊        | 119/143 [00:28<00:05,  4.43it/s]"
     ]
    },
    {
     "name": "stdout",
     "output_type": "stream",
     "text": [
      "mealService 응답코드: 200\n",
      "급식 데이터 수: 40\n",
      "7150152 양정고등학교\n",
      "급식 정보 조회 중: 날짜=20250618\n"
     ]
    },
    {
     "name": "stderr",
     "output_type": "stream",
     "text": [
      "고등학교 급식 조회:  84%|█████████████████████████████████████████        | 120/143 [00:28<00:05,  4.42it/s]"
     ]
    },
    {
     "name": "stdout",
     "output_type": "stream",
     "text": [
      "mealService 응답코드: 200\n",
      "급식 데이터 수: 39\n",
      "7150405 연제고등학교\n",
      "급식 정보 조회 중: 날짜=20250618\n"
     ]
    },
    {
     "name": "stderr",
     "output_type": "stream",
     "text": [
      "고등학교 급식 조회:  85%|█████████████████████████████████████████▍       | 121/143 [00:29<00:05,  4.29it/s]"
     ]
    },
    {
     "name": "stdout",
     "output_type": "stream",
     "text": [
      "mealService 응답코드: 200\n",
      "급식 데이터 수: 38\n",
      "7150116 영도여자고등학교\n",
      "급식 정보 조회 중: 날짜=20250618\n"
     ]
    },
    {
     "name": "stderr",
     "output_type": "stream",
     "text": [
      "고등학교 급식 조회:  85%|█████████████████████████████████████████▊       | 122/143 [00:29<00:05,  4.05it/s]"
     ]
    },
    {
     "name": "stdout",
     "output_type": "stream",
     "text": [
      "mealService 응답코드: 200\n",
      "급식 데이터 수: 41\n",
      "7150621 영산고등학교\n",
      "급식 정보 조회 중: 날짜=20250618\n",
      "mealService 응답코드: 200\n",
      "급식 데이터 수: 21\n"
     ]
    },
    {
     "name": "stderr",
     "output_type": "stream",
     "text": [
      "고등학교 급식 조회:  86%|██████████████████████████████████████████▏      | 123/143 [00:29<00:04,  4.30it/s]"
     ]
    },
    {
     "name": "stdout",
     "output_type": "stream",
     "text": [
      "7150153 예문여자고등학교\n",
      "급식 정보 조회 중: 날짜=20250618\n",
      "mealService 응답코드: 200\n",
      "급식 데이터 수: 41\n"
     ]
    },
    {
     "name": "stderr",
     "output_type": "stream",
     "text": [
      "고등학교 급식 조회:  87%|██████████████████████████████████████████▍      | 124/143 [00:29<00:04,  4.30it/s]"
     ]
    },
    {
     "name": "stdout",
     "output_type": "stream",
     "text": [
      "7150154 용인고등학교\n",
      "급식 정보 조회 중: 날짜=20250618\n",
      "mealService 응답코드: 200\n",
      "급식 데이터 수: 41\n"
     ]
    },
    {
     "name": "stderr",
     "output_type": "stream",
     "text": [
      "고등학교 급식 조회:  87%|██████████████████████████████████████████▊      | 125/143 [00:30<00:04,  3.98it/s]"
     ]
    },
    {
     "name": "stdout",
     "output_type": "stream",
     "text": [
      "7150344 이사벨고등학교\n",
      "급식 정보 조회 중: 날짜=20250618\n"
     ]
    },
    {
     "name": "stderr",
     "output_type": "stream",
     "text": [
      "고등학교 급식 조회:  88%|███████████████████████████████████████████▏     | 126/143 [00:30<00:04,  3.65it/s]"
     ]
    },
    {
     "name": "stdout",
     "output_type": "stream",
     "text": [
      "mealService 응답코드: 200\n",
      "급식 데이터 수: 39\n",
      "7150341 장안제일고등학교\n",
      "급식 정보 조회 중: 날짜=20250618\n"
     ]
    },
    {
     "name": "stderr",
     "output_type": "stream",
     "text": [
      "고등학교 급식 조회:  89%|███████████████████████████████████████████▌     | 127/143 [00:30<00:04,  3.85it/s]"
     ]
    },
    {
     "name": "stdout",
     "output_type": "stream",
     "text": [
      "mealService 응답코드: 200\n",
      "급식 데이터 수: 57\n",
      "7150580 정관고등학교\n",
      "급식 정보 조회 중: 날짜=20250618\n"
     ]
    },
    {
     "name": "stderr",
     "output_type": "stream",
     "text": [
      "고등학교 급식 조회:  90%|███████████████████████████████████████████▊     | 128/143 [00:31<00:04,  3.65it/s]"
     ]
    },
    {
     "name": "stdout",
     "output_type": "stream",
     "text": [
      "mealService 응답코드: 200\n",
      "급식 데이터 수: 36\n",
      "7150117 주례여자고등학교\n",
      "급식 정보 조회 중: 날짜=20250618\n"
     ]
    },
    {
     "name": "stderr",
     "output_type": "stream",
     "text": [
      "고등학교 급식 조회:  90%|████████████████████████████████████████████▏    | 129/143 [00:31<00:03,  3.55it/s]"
     ]
    },
    {
     "name": "stdout",
     "output_type": "stream",
     "text": [
      "mealService 응답코드: 200\n",
      "급식 데이터 수: 39\n",
      "7150157 지산고등학교\n",
      "급식 정보 조회 중: 날짜=20250618\n"
     ]
    },
    {
     "name": "stderr",
     "output_type": "stream",
     "text": [
      "고등학교 급식 조회:  91%|████████████████████████████████████████████▌    | 130/143 [00:31<00:03,  3.67it/s]"
     ]
    },
    {
     "name": "stdout",
     "output_type": "stream",
     "text": [
      "mealService 응답코드: 200\n",
      "급식 데이터 수: 41\n",
      "7150118 충렬고등학교\n",
      "급식 정보 조회 중: 날짜=20250618\n"
     ]
    },
    {
     "name": "stderr",
     "output_type": "stream",
     "text": [
      "고등학교 급식 조회:  92%|████████████████████████████████████████████▉    | 131/143 [00:31<00:03,  3.94it/s]"
     ]
    },
    {
     "name": "stdout",
     "output_type": "stream",
     "text": [
      "mealService 응답코드: 200\n",
      "급식 데이터 수: 37\n",
      "7150158 학산여자고등학교\n",
      "급식 정보 조회 중: 날짜=20250618\n"
     ]
    },
    {
     "name": "stderr",
     "output_type": "stream",
     "text": [
      "고등학교 급식 조회:  92%|█████████████████████████████████████████████▏   | 132/143 [00:32<00:02,  3.99it/s]"
     ]
    },
    {
     "name": "stdout",
     "output_type": "stream",
     "text": [
      "mealService 응답코드: 200\n",
      "급식 데이터 수: 39\n",
      "7150400 한국과학영재학교\n",
      "급식 정보 조회 중: 날짜=20250618\n",
      "mealService 응답코드: 200\n",
      "mealServiceDietInfo 키 없음: {'RESULT': {'CODE': 'INFO-200', 'MESSAGE': '해당하는 데이터가 없습니다.'}}\n"
     ]
    },
    {
     "name": "stderr",
     "output_type": "stream",
     "text": [
      "고등학교 급식 조회:  93%|█████████████████████████████████████████████▌   | 133/143 [00:32<00:02,  4.40it/s]"
     ]
    },
    {
     "name": "stdout",
     "output_type": "stream",
     "text": [
      "7150579 한국조형예술고등학교\n",
      "급식 정보 조회 중: 날짜=20250618\n",
      "mealService 응답코드: 200\n",
      "급식 데이터 수: 58\n"
     ]
    },
    {
     "name": "stderr",
     "output_type": "stream",
     "text": [
      "고등학교 급식 조회:  94%|██████████████████████████████████████████████▎  | 135/143 [00:32<00:01,  4.60it/s]"
     ]
    },
    {
     "name": "stdout",
     "output_type": "stream",
     "text": [
      "7150598 한얼고등학교\n",
      "급식 정보 조회 중: 날짜=20250618\n",
      "mealService 응답코드: 200\n",
      "급식 데이터 수: 21\n",
      "7150404 해강고등학교\n",
      "급식 정보 조회 중: 날짜=20250618\n"
     ]
    },
    {
     "name": "stderr",
     "output_type": "stream",
     "text": [
      "고등학교 급식 조회:  95%|██████████████████████████████████████████████▌  | 136/143 [00:32<00:01,  4.47it/s]"
     ]
    },
    {
     "name": "stdout",
     "output_type": "stream",
     "text": [
      "mealService 응답코드: 200\n",
      "급식 데이터 수: 41\n",
      "7150159 해동고등학교\n",
      "급식 정보 조회 중: 날짜=20250618\n"
     ]
    },
    {
     "name": "stderr",
     "output_type": "stream",
     "text": [
      "고등학교 급식 조회:  96%|██████████████████████████████████████████████▉  | 137/143 [00:33<00:01,  4.55it/s]"
     ]
    },
    {
     "name": "stdout",
     "output_type": "stream",
     "text": [
      "mealService 응답코드: 200\n",
      "급식 데이터 수: 39\n",
      "7150160 해운대고등학교\n",
      "급식 정보 조회 중: 날짜=20250618\n"
     ]
    },
    {
     "name": "stderr",
     "output_type": "stream",
     "text": [
      "고등학교 급식 조회:  97%|███████████████████████████████████████████████▎ | 138/143 [00:33<00:01,  4.04it/s]"
     ]
    },
    {
     "name": "stdout",
     "output_type": "stream",
     "text": [
      "mealService 응답코드: 200\n",
      "급식 데이터 수: 63\n",
      "7150367 해운대관광고등학교\n",
      "급식 정보 조회 중: 날짜=20250618\n",
      "mealService 응답코드: 200\n",
      "급식 데이터 수: 20\n"
     ]
    },
    {
     "name": "stderr",
     "output_type": "stream",
     "text": [
      "고등학교 급식 조회:  97%|███████████████████████████████████████████████▋ | 139/143 [00:33<00:00,  4.35it/s]"
     ]
    },
    {
     "name": "stdout",
     "output_type": "stream",
     "text": [
      "7150161 해운대여자고등학교\n",
      "급식 정보 조회 중: 날짜=20250618\n",
      "mealService 응답코드: 200\n",
      "급식 데이터 수: 41\n"
     ]
    },
    {
     "name": "stderr",
     "output_type": "stream",
     "text": [
      "고등학교 급식 조회:  98%|███████████████████████████████████████████████▉ | 140/143 [00:33<00:00,  4.37it/s]"
     ]
    },
    {
     "name": "stdout",
     "output_type": "stream",
     "text": [
      "7150162 혜광고등학교\n",
      "급식 정보 조회 중: 날짜=20250618\n",
      "mealService 응답코드: 200\n",
      "급식 데이터 수: 41\n"
     ]
    },
    {
     "name": "stderr",
     "output_type": "stream",
     "text": [
      "고등학교 급식 조회:  99%|████████████████████████████████████████████████▎| 141/143 [00:34<00:00,  4.27it/s]"
     ]
    },
    {
     "name": "stdout",
     "output_type": "stream",
     "text": [
      "7150163 혜화여자고등학교\n",
      "급식 정보 조회 중: 날짜=20250618\n",
      "mealService 응답코드: 200\n",
      "급식 데이터 수: 40\n"
     ]
    },
    {
     "name": "stderr",
     "output_type": "stream",
     "text": [
      "고등학교 급식 조회:  99%|████████████████████████████████████████████████▋| 142/143 [00:34<00:00,  4.20it/s]"
     ]
    },
    {
     "name": "stdout",
     "output_type": "stream",
     "text": [
      "7150364 화명고등학교\n",
      "급식 정보 조회 중: 날짜=20250618\n",
      "mealService 응답코드: 200\n",
      "급식 데이터 수: 40\n"
     ]
    },
    {
     "name": "stderr",
     "output_type": "stream",
     "text": [
      "고등학교 급식 조회: 100%|█████████████████████████████████████████████████| 143/143 [00:34<00:00,  4.14it/s]\n"
     ]
    },
    {
     "name": "stdout",
     "output_type": "stream",
     "text": [
      "수집된 급식 행 수: 10681\n",
      "수집된 전체 급식 행 수: 10681\n",
      "  교육청코드     학교코드     학교명      급식일자 식사명  \\\n",
      "0   B10  7010057  가락고등학교  20250519  중식   \n",
      "1   B10  7010057  가락고등학교  20250520  중식   \n",
      "2   B10  7010057  가락고등학교  20250521  중식   \n",
      "3   B10  7010057  가락고등학교  20250522  중식   \n",
      "4   B10  7010057  가락고등학교  20250523  중식   \n",
      "\n",
      "                                                급식식단  \n",
      "0  쌀밥 <br/>소고기미역국 (2.5.6.15.16.18)<br/>돼지갈비찜 (5.6...  \n",
      "1  쇠고기콩나물밥 (5.6.16)<br/>물만두국 (1.2.5.6.10.15.16.18...  \n",
      "2  새우볶음밥 (1.5.6.8.9.13.18)<br/>씨앗호떡파이 (1.2.3.5.6)...  \n",
      "3  쌀밥 <br/>볶음우동 (5.6.8.9.13.15.17.18)<br/>zero초코파...  \n",
      "4  현미밥 <br/>어묵국 (1.2.5.6.15.16.18)<br/>마라찜닭 (5.6....  \n",
      "응답코드 : 200\n"
     ]
    },
    {
     "name": "stderr",
     "output_type": "stream",
     "text": [
      "고등학교 급식 조회:   0%|                                                            | 0/97 [00:00<?, ?it/s]"
     ]
    },
    {
     "name": "stdout",
     "output_type": "stream",
     "text": [
      "7240223 강동고등학교\n",
      "급식 정보 조회 중: 날짜=20250618\n",
      "mealService 응답코드: 200\n",
      "급식 데이터 수: 21\n"
     ]
    },
    {
     "name": "stderr",
     "output_type": "stream",
     "text": [
      "고등학교 급식 조회:   1%|▌                                                   | 1/97 [00:00<00:21,  4.53it/s]"
     ]
    },
    {
     "name": "stdout",
     "output_type": "stream",
     "text": [
      "7240068 강북고등학교\n",
      "급식 정보 조회 중: 날짜=20250618\n",
      "mealService 응답코드: 200\n",
      "급식 데이터 수: 21\n"
     ]
    },
    {
     "name": "stderr",
     "output_type": "stream",
     "text": [
      "고등학교 급식 조회:   2%|█                                                   | 2/97 [00:00<00:21,  4.47it/s]"
     ]
    },
    {
     "name": "stdout",
     "output_type": "stream",
     "text": [
      "7240053 경덕여자고등학교\n",
      "급식 정보 조회 중: 날짜=20250618\n",
      "mealService 응답코드: 200\n",
      "급식 데이터 수: 21\n"
     ]
    },
    {
     "name": "stderr",
     "output_type": "stream",
     "text": [
      "고등학교 급식 조회:   4%|██▏                                                 | 4/97 [00:00<00:18,  4.91it/s]"
     ]
    },
    {
     "name": "stdout",
     "output_type": "stream",
     "text": [
      "7240069 경명여자고등학교\n",
      "급식 정보 조회 중: 날짜=20250618\n",
      "mealService 응답코드: 200\n",
      "급식 데이터 수: 21\n",
      "7240054 경북고등학교\n",
      "급식 정보 조회 중: 날짜=20250618\n"
     ]
    },
    {
     "name": "stderr",
     "output_type": "stream",
     "text": [
      "고등학교 급식 조회:   5%|██▋                                                 | 5/97 [00:01<00:19,  4.72it/s]"
     ]
    },
    {
     "name": "stdout",
     "output_type": "stream",
     "text": [
      "mealService 응답코드: 200\n",
      "급식 데이터 수: 21\n",
      "7240123 경북공업고등학교\n",
      "급식 정보 조회 중: 날짜=20250618\n",
      "mealService 응답코드: 200\n",
      "mealServiceDietInfo 키 없음: {'RESULT': {'CODE': 'INFO-200', 'MESSAGE': '해당하는 데이터가 없습니다.'}}\n"
     ]
    },
    {
     "name": "stderr",
     "output_type": "stream",
     "text": [
      "고등학교 급식 조회:   6%|███▏                                                | 6/97 [00:01<00:17,  5.14it/s]"
     ]
    },
    {
     "name": "stdout",
     "output_type": "stream",
     "text": [
      "7240107 경북기계공업고등학교\n",
      "급식 정보 조회 중: 날짜=20250618\n"
     ]
    },
    {
     "name": "stderr",
     "output_type": "stream",
     "text": [
      "고등학교 급식 조회:   7%|███▊                                                | 7/97 [00:01<00:20,  4.32it/s]"
     ]
    },
    {
     "name": "stdout",
     "output_type": "stream",
     "text": [
      "mealService 응답코드: 200\n",
      "급식 데이터 수: 58\n",
      "7004180 경북대학교사범대학부설고등학교\n",
      "급식 정보 조회 중: 날짜=20250618\n"
     ]
    },
    {
     "name": "stderr",
     "output_type": "stream",
     "text": [
      "고등학교 급식 조회:   8%|████▎                                               | 8/97 [00:01<00:21,  4.12it/s]"
     ]
    },
    {
     "name": "stdout",
     "output_type": "stream",
     "text": [
      "mealService 응답코드: 200\n",
      "급식 데이터 수: 21\n",
      "7240055 경북여자고등학교\n",
      "급식 정보 조회 중: 날짜=20250618\n"
     ]
    },
    {
     "name": "stderr",
     "output_type": "stream",
     "text": [
      "고등학교 급식 조회:   9%|████▊                                               | 9/97 [00:02<00:22,  3.99it/s]"
     ]
    },
    {
     "name": "stdout",
     "output_type": "stream",
     "text": [
      "mealService 응답코드: 200\n",
      "급식 데이터 수: 21\n",
      "7240296 경북여자상업고등학교\n",
      "급식 정보 조회 중: 날짜=20250618\n"
     ]
    },
    {
     "name": "stderr",
     "output_type": "stream",
     "text": [
      "고등학교 급식 조회:  10%|█████▎                                             | 10/97 [00:02<00:21,  4.12it/s]"
     ]
    },
    {
     "name": "stdout",
     "output_type": "stream",
     "text": [
      "mealService 응답코드: 200\n",
      "급식 데이터 수: 18\n",
      "7240070 경북예술고등학교\n",
      "급식 정보 조회 중: 날짜=20250618\n",
      "mealService 응답코드: 200\n",
      "mealServiceDietInfo 키 없음: {'RESULT': {'CODE': 'INFO-200', 'MESSAGE': '해당하는 데이터가 없습니다.'}}\n"
     ]
    },
    {
     "name": "stderr",
     "output_type": "stream",
     "text": [
      "고등학교 급식 조회:  11%|█████▊                                             | 11/97 [00:02<00:19,  4.49it/s]"
     ]
    },
    {
     "name": "stdout",
     "output_type": "stream",
     "text": [
      "7240071 경상고등학교\n",
      "급식 정보 조회 중: 날짜=20250618\n",
      "mealService 응답코드: 200\n",
      "급식 데이터 수: 35\n"
     ]
    },
    {
     "name": "stderr",
     "output_type": "stream",
     "text": [
      "고등학교 급식 조회:  12%|██████▎                                            | 12/97 [00:02<00:19,  4.34it/s]"
     ]
    },
    {
     "name": "stdout",
     "output_type": "stream",
     "text": [
      "7240126 경상공업고등학교\n",
      "급식 정보 조회 중: 날짜=20250618\n",
      "mealService 응답코드: 200\n",
      "급식 데이터 수: 21\n"
     ]
    },
    {
     "name": "stderr",
     "output_type": "stream",
     "text": [
      "고등학교 급식 조회:  13%|██████▊                                            | 13/97 [00:02<00:18,  4.45it/s]"
     ]
    },
    {
     "name": "stdout",
     "output_type": "stream",
     "text": [
      "7240072 경상여자고등학교\n",
      "급식 정보 조회 중: 날짜=20250618\n",
      "mealService 응답코드: 200\n",
      "급식 데이터 수: 32\n"
     ]
    },
    {
     "name": "stderr",
     "output_type": "stream",
     "text": [
      "고등학교 급식 조회:  14%|███████▎                                           | 14/97 [00:03<00:18,  4.38it/s]"
     ]
    },
    {
     "name": "stdout",
     "output_type": "stream",
     "text": [
      "7240073 경신고등학교\n",
      "급식 정보 조회 중: 날짜=20250618\n",
      "mealService 응답코드: 200\n",
      "급식 데이터 수: 21\n"
     ]
    },
    {
     "name": "stderr",
     "output_type": "stream",
     "text": [
      "고등학교 급식 조회:  15%|███████▉                                           | 15/97 [00:03<00:18,  4.52it/s]"
     ]
    },
    {
     "name": "stdout",
     "output_type": "stream",
     "text": [
      "7240074 경원고등학교\n",
      "급식 정보 조회 중: 날짜=20250618\n",
      "mealService 응답코드: 200\n",
      "급식 데이터 수: 21\n"
     ]
    },
    {
     "name": "stderr",
     "output_type": "stream",
     "text": [
      "고등학교 급식 조회:  18%|████████▉                                          | 17/97 [00:03<00:16,  4.94it/s]"
     ]
    },
    {
     "name": "stdout",
     "output_type": "stream",
     "text": [
      "7240075 경일여자고등학교\n",
      "급식 정보 조회 중: 날짜=20250618\n",
      "mealService 응답코드: 200\n",
      "급식 데이터 수: 20\n",
      "7240076 경화여자고등학교\n",
      "급식 정보 조회 중: 날짜=20250618\n"
     ]
    },
    {
     "name": "stderr",
     "output_type": "stream",
     "text": [
      "고등학교 급식 조회:  19%|█████████▍                                         | 18/97 [00:03<00:16,  4.83it/s]"
     ]
    },
    {
     "name": "stdout",
     "output_type": "stream",
     "text": [
      "mealService 응답코드: 200\n",
      "급식 데이터 수: 21\n",
      "7240078 계성고등학교\n",
      "급식 정보 조회 중: 날짜=20250618\n"
     ]
    },
    {
     "name": "stderr",
     "output_type": "stream",
     "text": [
      "고등학교 급식 조회:  20%|█████████▉                                         | 19/97 [00:04<00:16,  4.64it/s]"
     ]
    },
    {
     "name": "stdout",
     "output_type": "stream",
     "text": [
      "mealService 응답코드: 200\n",
      "급식 데이터 수: 60\n",
      "7240056 구암고등학교\n",
      "급식 정보 조회 중: 날짜=20250618\n"
     ]
    },
    {
     "name": "stderr",
     "output_type": "stream",
     "text": [
      "고등학교 급식 조회:  21%|██████████▌                                        | 20/97 [00:04<00:16,  4.62it/s]"
     ]
    },
    {
     "name": "stdout",
     "output_type": "stream",
     "text": [
      "mealService 응답코드: 200\n",
      "급식 데이터 수: 21\n",
      "7240459 군위고등학교\n",
      "급식 정보 조회 중: 날짜=20250618\n"
     ]
    },
    {
     "name": "stderr",
     "output_type": "stream",
     "text": [
      "고등학교 급식 조회:  22%|███████████                                        | 21/97 [00:04<00:17,  4.24it/s]"
     ]
    },
    {
     "name": "stdout",
     "output_type": "stream",
     "text": [
      "mealService 응답코드: 200\n",
      "급식 데이터 수: 62\n",
      "7240080 능인고등학교\n",
      "급식 정보 조회 중: 날짜=20250618\n",
      "mealService 응답코드: 200\n",
      "급식 데이터 수: 21\n"
     ]
    },
    {
     "name": "stderr",
     "output_type": "stream",
     "text": [
      "고등학교 급식 조회:  23%|███████████▌                                       | 22/97 [00:04<00:16,  4.52it/s]"
     ]
    },
    {
     "name": "stdout",
     "output_type": "stream",
     "text": [
      "7240057 다사고등학교\n",
      "급식 정보 조회 중: 날짜=20250618\n",
      "mealService 응답코드: 200\n",
      "급식 데이터 수: 60\n"
     ]
    },
    {
     "name": "stderr",
     "output_type": "stream",
     "text": [
      "고등학교 급식 조회:  24%|████████████                                       | 23/97 [00:05<00:17,  4.33it/s]"
     ]
    },
    {
     "name": "stdout",
     "output_type": "stream",
     "text": [
      "7240224 달구벌고등학교\n",
      "급식 정보 조회 중: 날짜=20250618\n",
      "mealService 응답코드: 200\n",
      "급식 데이터 수: 47\n"
     ]
    },
    {
     "name": "stderr",
     "output_type": "stream",
     "text": [
      "고등학교 급식 조회:  25%|████████████▌                                      | 24/97 [00:05<00:16,  4.35it/s]"
     ]
    },
    {
     "name": "stdout",
     "output_type": "stream",
     "text": [
      "7240081 달서고등학교\n",
      "급식 정보 조회 중: 날짜=20250618\n",
      "mealService 응답코드: 200\n",
      "급식 데이터 수: 34\n"
     ]
    },
    {
     "name": "stderr",
     "output_type": "stream",
     "text": [
      "고등학교 급식 조회:  26%|█████████████▏                                     | 25/97 [00:05<00:15,  4.50it/s]"
     ]
    },
    {
     "name": "stdout",
     "output_type": "stream",
     "text": [
      "7240058 달성고등학교\n",
      "급식 정보 조회 중: 날짜=20250618\n",
      "mealService 응답코드: 200\n",
      "급식 데이터 수: 21\n"
     ]
    },
    {
     "name": "stderr",
     "output_type": "stream",
     "text": [
      "고등학교 급식 조회:  27%|█████████████▋                                     | 26/97 [00:05<00:15,  4.61it/s]"
     ]
    },
    {
     "name": "stdout",
     "output_type": "stream",
     "text": [
      "7240082 대건고등학교\n",
      "급식 정보 조회 중: 날짜=20250618\n",
      "mealService 응답코드: 200\n",
      "급식 데이터 수: 21\n"
     ]
    },
    {
     "name": "stderr",
     "output_type": "stream",
     "text": [
      "고등학교 급식 조회:  28%|██████████████▏                                    | 27/97 [00:05<00:14,  4.69it/s]"
     ]
    },
    {
     "name": "stdout",
     "output_type": "stream",
     "text": [
      "7240205 대곡고등학교\n",
      "급식 정보 조회 중: 날짜=20250618\n",
      "mealService 응답코드: 200\n",
      "급식 데이터 수: 21\n"
     ]
    },
    {
     "name": "stderr",
     "output_type": "stream",
     "text": [
      "고등학교 급식 조회:  29%|██████████████▋                                    | 28/97 [00:06<00:14,  4.73it/s]"
     ]
    },
    {
     "name": "stdout",
     "output_type": "stream",
     "text": [
      "7240059 대구고등학교\n",
      "급식 정보 조회 중: 날짜=20250618\n",
      "mealService 응답코드: 200\n",
      "급식 데이터 수: 21\n"
     ]
    },
    {
     "name": "stderr",
     "output_type": "stream",
     "text": [
      "고등학교 급식 조회:  30%|███████████████▏                                   | 29/97 [00:06<00:14,  4.74it/s]"
     ]
    },
    {
     "name": "stdout",
     "output_type": "stream",
     "text": [
      "7240111 대구공업고등학교\n",
      "급식 정보 조회 중: 날짜=20250618\n",
      "mealService 응답코드: 200\n",
      "급식 데이터 수: 21\n"
     ]
    },
    {
     "name": "stderr",
     "output_type": "stream",
     "text": [
      "고등학교 급식 조회:  31%|███████████████▊                                   | 30/97 [00:06<00:14,  4.67it/s]"
     ]
    },
    {
     "name": "stdout",
     "output_type": "stream",
     "text": [
      "7240453 대구공업고등학교 테크노폴리스 캠퍼스\n",
      "급식 정보 조회 중: 날짜=20250618\n",
      "mealService 응답코드: 200\n",
      "급식 데이터 수: 21\n"
     ]
    },
    {
     "name": "stderr",
     "output_type": "stream",
     "text": [
      "고등학교 급식 조회:  32%|████████████████▎                                  | 31/97 [00:06<00:14,  4.58it/s]"
     ]
    },
    {
     "name": "stdout",
     "output_type": "stream",
     "text": [
      "7240060 대구과학고등학교\n",
      "급식 정보 조회 중: 날짜=20250618\n",
      "mealService 응답코드: 200\n",
      "급식 데이터 수: 79\n"
     ]
    },
    {
     "name": "stderr",
     "output_type": "stream",
     "text": [
      "고등학교 급식 조회:  33%|████████████████▊                                  | 32/97 [00:07<00:14,  4.39it/s]"
     ]
    },
    {
     "name": "stdout",
     "output_type": "stream",
     "text": [
      "7240452 대구과학기술고등학교\n",
      "급식 정보 조회 중: 날짜=20250618\n",
      "mealService 응답코드: 200\n",
      "급식 데이터 수: 21\n"
     ]
    },
    {
     "name": "stderr",
     "output_type": "stream",
     "text": [
      "고등학교 급식 조회:  34%|█████████████████▎                                 | 33/97 [00:07<00:14,  4.33it/s]"
     ]
    },
    {
     "name": "stdout",
     "output_type": "stream",
     "text": [
      "7240219 대구관광고등학교\n",
      "급식 정보 조회 중: 날짜=20250618\n",
      "mealService 응답코드: 200\n",
      "급식 데이터 수: 20\n"
     ]
    },
    {
     "name": "stderr",
     "output_type": "stream",
     "text": [
      "고등학교 급식 조회:  35%|█████████████████▉                                 | 34/97 [00:07<00:14,  4.34it/s]"
     ]
    },
    {
     "name": "stdout",
     "output_type": "stream",
     "text": [
      "7240450 대구국제고등학교\n",
      "급식 정보 조회 중: 날짜=20250618\n"
     ]
    },
    {
     "name": "stderr",
     "output_type": "stream",
     "text": [
      "고등학교 급식 조회:  36%|██████████████████▍                                | 35/97 [00:07<00:16,  3.83it/s]"
     ]
    },
    {
     "name": "stdout",
     "output_type": "stream",
     "text": [
      "mealService 응답코드: 200\n",
      "급식 데이터 수: 62\n",
      "7240213 대구남산고등학교\n",
      "급식 정보 조회 중: 날짜=20250618\n"
     ]
    },
    {
     "name": "stderr",
     "output_type": "stream",
     "text": [
      "고등학교 급식 조회:  37%|██████████████████▉                                | 36/97 [00:08<00:14,  4.11it/s]"
     ]
    },
    {
     "name": "stdout",
     "output_type": "stream",
     "text": [
      "mealService 응답코드: 200\n",
      "mealServiceDietInfo 키 없음: {'RESULT': {'CODE': 'INFO-200', 'MESSAGE': '해당하는 데이터가 없습니다.'}}\n",
      "7240400 대구농업마이스터고등학교\n",
      "급식 정보 조회 중: 날짜=20250618\n"
     ]
    },
    {
     "name": "stderr",
     "output_type": "stream",
     "text": [
      "고등학교 급식 조회:  38%|███████████████████▍                               | 37/97 [00:08<00:15,  3.77it/s]"
     ]
    },
    {
     "name": "stdout",
     "output_type": "stream",
     "text": [
      "mealService 응답코드: 200\n",
      "급식 데이터 수: 56\n",
      "7240217 대구동부고등학교\n",
      "급식 정보 조회 중: 날짜=20250618\n"
     ]
    },
    {
     "name": "stderr",
     "output_type": "stream",
     "text": [
      "고등학교 급식 조회:  39%|███████████████████▉                               | 38/97 [00:08<00:15,  3.93it/s]"
     ]
    },
    {
     "name": "stdout",
     "output_type": "stream",
     "text": [
      "mealService 응답코드: 200\n",
      "급식 데이터 수: 21\n",
      "7240514 대구반도체마이스터고등학교\n",
      "급식 정보 조회 중: 날짜=20250618\n"
     ]
    },
    {
     "name": "stderr",
     "output_type": "stream",
     "text": [
      "고등학교 급식 조회:  40%|████████████████████▌                              | 39/97 [00:08<00:14,  4.08it/s]"
     ]
    },
    {
     "name": "stdout",
     "output_type": "stream",
     "text": [
      "mealService 응답코드: 200\n",
      "급식 데이터 수: 53\n",
      "7240401 대구보건고등학교\n",
      "급식 정보 조회 중: 날짜=20250618\n"
     ]
    },
    {
     "name": "stderr",
     "output_type": "stream",
     "text": [
      "고등학교 급식 조회:  41%|█████████████████████                              | 40/97 [00:09<00:13,  4.28it/s]"
     ]
    },
    {
     "name": "stdout",
     "output_type": "stream",
     "text": [
      "mealService 응답코드: 200\n",
      "급식 데이터 수: 21\n",
      "7240215 대구상원고등학교\n",
      "급식 정보 조회 중: 날짜=20250618\n"
     ]
    },
    {
     "name": "stderr",
     "output_type": "stream",
     "text": [
      "고등학교 급식 조회:  42%|█████████████████████▌                             | 41/97 [00:09<00:13,  4.27it/s]"
     ]
    },
    {
     "name": "stdout",
     "output_type": "stream",
     "text": [
      "mealService 응답코드: 200\n",
      "급식 데이터 수: 21\n",
      "7240061 대구서부고등학교\n",
      "급식 정보 조회 중: 날짜=20250618\n",
      "mealService 응답코드: 200\n",
      "급식 데이터 수: 21\n"
     ]
    },
    {
     "name": "stderr",
     "output_type": "stream",
     "text": [
      "고등학교 급식 조회:  43%|██████████████████████                             | 42/97 [00:09<00:12,  4.55it/s]"
     ]
    },
    {
     "name": "stdout",
     "output_type": "stream",
     "text": [
      "7240454 대구소프트웨어마이스터고등학교\n",
      "급식 정보 조회 중: 날짜=20250618\n",
      "mealService 응답코드: 200\n",
      "급식 데이터 수: 56\n"
     ]
    },
    {
     "name": "stderr",
     "output_type": "stream",
     "text": [
      "고등학교 급식 조회:  45%|███████████████████████▏                           | 44/97 [00:09<00:11,  4.61it/s]"
     ]
    },
    {
     "name": "stdout",
     "output_type": "stream",
     "text": [
      "7240062 대구여자고등학교\n",
      "급식 정보 조회 중: 날짜=20250618\n",
      "mealService 응답코드: 200\n",
      "급식 데이터 수: 13\n",
      "7240295 대구여자상업고등학교\n",
      "급식 정보 조회 중: 날짜=20250618\n",
      "mealService 응답코드: 200\n",
      "급식 데이터 수: 21\n"
     ]
    },
    {
     "name": "stderr",
     "output_type": "stream",
     "text": [
      "고등학교 급식 조회:  46%|███████████████████████▋                           | 45/97 [00:10<00:11,  4.54it/s]"
     ]
    },
    {
     "name": "stdout",
     "output_type": "stream",
     "text": [
      "7240063 대구외국어고등학교\n",
      "급식 정보 조회 중: 날짜=20250618\n",
      "mealService 응답코드: 200\n",
      "급식 데이터 수: 57\n"
     ]
    },
    {
     "name": "stderr",
     "output_type": "stream",
     "text": [
      "고등학교 급식 조회:  47%|████████████████████████▏                          | 46/97 [00:10<00:11,  4.45it/s]"
     ]
    },
    {
     "name": "stdout",
     "output_type": "stream",
     "text": [
      "7240331 대구일과학고등학교\n",
      "급식 정보 조회 중: 날짜=20250618\n",
      "mealService 응답코드: 200\n",
      "급식 데이터 수: 52\n"
     ]
    },
    {
     "name": "stderr",
     "output_type": "stream",
     "text": [
      "고등학교 급식 조회:  48%|████████████████████████▋                          | 47/97 [00:10<00:11,  4.39it/s]"
     ]
    },
    {
     "name": "stdout",
     "output_type": "stream",
     "text": [
      "7240372 대구일마이스터고등학교\n",
      "급식 정보 조회 중: 날짜=20250618\n"
     ]
    },
    {
     "name": "stderr",
     "output_type": "stream",
     "text": [
      "고등학교 급식 조회:  49%|█████████████████████████▏                         | 48/97 [00:10<00:12,  3.87it/s]"
     ]
    },
    {
     "name": "stdout",
     "output_type": "stream",
     "text": [
      "mealService 응답코드: 200\n",
      "급식 데이터 수: 56\n",
      "7240183 대구제일고등학교\n",
      "급식 정보 조회 중: 날짜=20250618\n",
      "mealService 응답코드: 200\n",
      "급식 데이터 수: 20\n"
     ]
    },
    {
     "name": "stderr",
     "output_type": "stream",
     "text": [
      "고등학교 급식 조회:  52%|██████████████████████████▎                        | 50/97 [00:11<00:10,  4.57it/s]"
     ]
    },
    {
     "name": "stdout",
     "output_type": "stream",
     "text": [
      "7240293 대구제일여자상업고등학교\n",
      "급식 정보 조회 중: 날짜=20250618\n",
      "mealService 응답코드: 200\n",
      "급식 데이터 수: 19\n",
      "7240294 대구중앙고등학교\n",
      "급식 정보 조회 중: 날짜=20250618\n",
      "mealService 응답코드: 200\n",
      "급식 데이터 수: 21\n"
     ]
    },
    {
     "name": "stderr",
     "output_type": "stream",
     "text": [
      "고등학교 급식 조회:  53%|██████████████████████████▊                        | 51/97 [00:11<00:10,  4.57it/s]"
     ]
    },
    {
     "name": "stdout",
     "output_type": "stream",
     "text": [
      "7240206 대구체육고등학교\n",
      "급식 정보 조회 중: 날짜=20250618\n",
      "mealService 응답코드: 200\n",
      "급식 데이터 수: 61\n"
     ]
    },
    {
     "name": "stderr",
     "output_type": "stream",
     "text": [
      "고등학교 급식 조회:  55%|███████████████████████████▊                       | 53/97 [00:11<00:09,  4.68it/s]"
     ]
    },
    {
     "name": "stdout",
     "output_type": "stream",
     "text": [
      "7240462 대구하이텍고등학교\n",
      "급식 정보 조회 중: 날짜=20250618\n",
      "mealService 응답코드: 200\n",
      "급식 데이터 수: 20\n",
      "7240084 대구혜화여자고등학교\n",
      "급식 정보 조회 중: 날짜=20250618\n"
     ]
    },
    {
     "name": "stderr",
     "output_type": "stream",
     "text": [
      "고등학교 급식 조회:  56%|████████████████████████████▍                      | 54/97 [00:12<00:09,  4.75it/s]"
     ]
    },
    {
     "name": "stdout",
     "output_type": "stream",
     "text": [
      "mealService 응답코드: 200\n",
      "급식 데이터 수: 21\n",
      "7240085 대륜고등학교\n",
      "급식 정보 조회 중: 날짜=20250618\n",
      "mealService 응답코드: 200\n",
      "급식 데이터 수: 21\n"
     ]
    },
    {
     "name": "stderr",
     "output_type": "stream",
     "text": [
      "고등학교 급식 조회:  57%|████████████████████████████▉                      | 55/97 [00:12<00:08,  4.82it/s]"
     ]
    },
    {
     "name": "stdout",
     "output_type": "stream",
     "text": [
      "7240216 대원고등학교\n",
      "급식 정보 조회 중: 날짜=20250618\n",
      "mealService 응답코드: 200\n",
      "급식 데이터 수: 20\n"
     ]
    },
    {
     "name": "stderr",
     "output_type": "stream",
     "text": [
      "고등학교 급식 조회:  58%|█████████████████████████████▍                     | 56/97 [00:12<00:08,  4.64it/s]"
     ]
    },
    {
     "name": "stdout",
     "output_type": "stream",
     "text": [
      "7240133 대중금속공업고등학교\n",
      "급식 정보 조회 중: 날짜=20250618\n",
      "mealService 응답코드: 200\n",
      "급식 데이터 수: 58\n"
     ]
    },
    {
     "name": "stderr",
     "output_type": "stream",
     "text": [
      "고등학교 급식 조회:  59%|█████████████████████████████▉                     | 57/97 [00:12<00:09,  4.33it/s]"
     ]
    },
    {
     "name": "stdout",
     "output_type": "stream",
     "text": [
      "7240271 대진고등학교\n",
      "급식 정보 조회 중: 날짜=20250618\n",
      "mealService 응답코드: 200\n",
      "급식 데이터 수: 21\n"
     ]
    },
    {
     "name": "stderr",
     "output_type": "stream",
     "text": [
      "고등학교 급식 조회:  61%|███████████████████████████████                    | 59/97 [00:13<00:08,  4.60it/s]"
     ]
    },
    {
     "name": "stdout",
     "output_type": "stream",
     "text": [
      "7240086 덕원고등학교\n",
      "급식 정보 조회 중: 날짜=20250618\n",
      "mealService 응답코드: 200\n",
      "급식 데이터 수: 21\n",
      "7240203 도원고등학교\n",
      "급식 정보 조회 중: 날짜=20250618\n",
      "mealService 응답코드: 200\n",
      "급식 데이터 수: 21\n"
     ]
    },
    {
     "name": "stderr",
     "output_type": "stream",
     "text": [
      "고등학교 급식 조회:  63%|████████████████████████████████                   | 61/97 [00:13<00:07,  4.70it/s]"
     ]
    },
    {
     "name": "stdout",
     "output_type": "stream",
     "text": [
      "7240222 동문고등학교\n",
      "급식 정보 조회 중: 날짜=20250618\n",
      "mealService 응답코드: 200\n",
      "급식 데이터 수: 20\n",
      "7240272 매천고등학교\n",
      "급식 정보 조회 중: 날짜=20250618\n",
      "mealService 응답코드: 200\n",
      "급식 데이터 수: 21\n"
     ]
    },
    {
     "name": "stderr",
     "output_type": "stream",
     "text": [
      "고등학교 급식 조회:  64%|████████████████████████████████▌                  | 62/97 [00:13<00:07,  4.53it/s]"
     ]
    },
    {
     "name": "stdout",
     "output_type": "stream",
     "text": [
      "7240394 비슬고등학교\n",
      "급식 정보 조회 중: 날짜=20250618\n",
      "mealService 응답코드: 200\n",
      "급식 데이터 수: 21\n"
     ]
    },
    {
     "name": "stderr",
     "output_type": "stream",
     "text": [
      "고등학교 급식 조회:  65%|█████████████████████████████████                  | 63/97 [00:14<00:07,  4.60it/s]"
     ]
    },
    {
     "name": "stdout",
     "output_type": "stream",
     "text": [
      "7240356 상서고등학교\n",
      "급식 정보 조회 중: 날짜=20250618\n",
      "mealService 응답코드: 200\n",
      "급식 데이터 수: 21\n"
     ]
    },
    {
     "name": "stderr",
     "output_type": "stream",
     "text": [
      "고등학교 급식 조회:  67%|██████████████████████████████████▏                | 65/97 [00:14<00:06,  4.63it/s]"
     ]
    },
    {
     "name": "stdout",
     "output_type": "stream",
     "text": [
      "7240187 상인고등학교\n",
      "급식 정보 조회 중: 날짜=20250618\n",
      "mealService 응답코드: 200\n",
      "급식 데이터 수: 22\n",
      "7240090 성광고등학교\n",
      "급식 정보 조회 중: 날짜=20250618\n",
      "mealService 응답코드: 200\n",
      "급식 데이터 수: 21\n"
     ]
    },
    {
     "name": "stderr",
     "output_type": "stream",
     "text": [
      "고등학교 급식 조회:  69%|███████████████████████████████████▏               | 67/97 [00:14<00:06,  4.85it/s]"
     ]
    },
    {
     "name": "stdout",
     "output_type": "stream",
     "text": [
      "7240204 성산고등학교\n",
      "급식 정보 조회 중: 날짜=20250618\n",
      "mealService 응답코드: 200\n",
      "급식 데이터 수: 21\n",
      "7240064 성서고등학교\n",
      "급식 정보 조회 중: 날짜=20250618\n",
      "mealService 응답코드: 200\n",
      "급식 데이터 수: 21\n"
     ]
    },
    {
     "name": "stderr",
     "output_type": "stream",
     "text": [
      "고등학교 급식 조회:  71%|████████████████████████████████████▎              | 69/97 [00:15<00:05,  4.98it/s]"
     ]
    },
    {
     "name": "stdout",
     "output_type": "stream",
     "text": [
      "7240091 성화여자고등학교\n",
      "급식 정보 조회 중: 날짜=20250618\n",
      "mealService 응답코드: 200\n",
      "급식 데이터 수: 21\n"
     ]
    },
    {
     "name": "stderr",
     "output_type": "stream",
     "text": [
      "고등학교 급식 조회:  72%|████████████████████████████████████▊              | 70/97 [00:15<00:05,  5.07it/s]"
     ]
    },
    {
     "name": "stdout",
     "output_type": "stream",
     "text": [
      "7240092 송현여자고등학교\n",
      "급식 정보 조회 중: 날짜=20250618\n",
      "mealService 응답코드: 200\n",
      "급식 데이터 수: 21\n"
     ]
    },
    {
     "name": "stderr",
     "output_type": "stream",
     "text": [
      "고등학교 급식 조회:  73%|█████████████████████████████████████▎             | 71/97 [00:15<00:05,  5.11it/s]"
     ]
    },
    {
     "name": "stdout",
     "output_type": "stream",
     "text": [
      "7240259 수성고등학교\n",
      "급식 정보 조회 중: 날짜=20250618\n",
      "mealService 응답코드: 200\n",
      "급식 데이터 수: 21\n"
     ]
    },
    {
     "name": "stderr",
     "output_type": "stream",
     "text": [
      "고등학교 급식 조회:  74%|█████████████████████████████████████▊             | 72/97 [00:15<00:04,  5.15it/s]"
     ]
    },
    {
     "name": "stdout",
     "output_type": "stream",
     "text": [
      "7240065 시지고등학교\n",
      "급식 정보 조회 중: 날짜=20250618\n",
      "mealService 응답코드: 200\n",
      "급식 데이터 수: 21\n",
      "7240218 신명고등학교\n",
      "급식 정보 조회 중: 날짜=20250618\n",
      "mealService 응답코드: 200\n",
      "급식 데이터 수: 21\n"
     ]
    },
    {
     "name": "stderr",
     "output_type": "stream",
     "text": [
      "고등학교 급식 조회:  75%|██████████████████████████████████████▍            | 73/97 [00:16<00:04,  5.05it/s]"
     ]
    },
    {
     "name": "stdout",
     "output_type": "stream",
     "text": [
      "7240094 심인고등학교\n",
      "급식 정보 조회 중: 날짜=20250618\n",
      "mealService 응답코드: 200\n",
      "급식 데이터 수: 20\n"
     ]
    },
    {
     "name": "stderr",
     "output_type": "stream",
     "text": [
      "고등학교 급식 조회:  76%|██████████████████████████████████████▉            | 74/97 [00:16<00:04,  4.84it/s]"
     ]
    },
    {
     "name": "stdout",
     "output_type": "stream",
     "text": [
      "7240095 영남고등학교\n",
      "급식 정보 조회 중: 날짜=20250618\n",
      "mealService 응답코드: 200\n",
      "급식 데이터 수: 39\n"
     ]
    },
    {
     "name": "stderr",
     "output_type": "stream",
     "text": [
      "고등학교 급식 조회:  78%|███████████████████████████████████████▉           | 76/97 [00:16<00:04,  4.93it/s]"
     ]
    },
    {
     "name": "stdout",
     "output_type": "stream",
     "text": [
      "7240144 영남공업고등학교\n",
      "급식 정보 조회 중: 날짜=20250618\n",
      "mealService 응답코드: 200\n",
      "급식 데이터 수: 20\n",
      "7240096 영송여자고등학교\n",
      "급식 정보 조회 중: 날짜=20250618\n",
      "mealService 응답코드: 200\n",
      "급식 데이터 수: 20\n"
     ]
    },
    {
     "name": "stderr",
     "output_type": "stream",
     "text": [
      "고등학교 급식 조회:  79%|████████████████████████████████████████▍          | 77/97 [00:16<00:04,  4.93it/s]"
     ]
    },
    {
     "name": "stdout",
     "output_type": "stream",
     "text": [
      "7240097 영신고등학교\n",
      "급식 정보 조회 중: 날짜=20250618\n",
      "mealService 응답코드: 200\n",
      "급식 데이터 수: 56\n"
     ]
    },
    {
     "name": "stderr",
     "output_type": "stream",
     "text": [
      "고등학교 급식 조회:  81%|█████████████████████████████████████████▌         | 79/97 [00:17<00:03,  4.92it/s]"
     ]
    },
    {
     "name": "stdout",
     "output_type": "stream",
     "text": [
      "7240098 영진고등학교\n",
      "급식 정보 조회 중: 날짜=20250618\n",
      "mealService 응답코드: 200\n",
      "급식 데이터 수: 21\n",
      "7240099 오성고등학교\n",
      "급식 정보 조회 중: 날짜=20250618\n",
      "mealService 응답코드: 200\n",
      "급식 데이터 수: 21\n"
     ]
    },
    {
     "name": "stderr",
     "output_type": "stream",
     "text": [
      "고등학교 급식 조회:  84%|██████████████████████████████████████████▌        | 81/97 [00:17<00:03,  5.11it/s]"
     ]
    },
    {
     "name": "stdout",
     "output_type": "stream",
     "text": [
      "7240182 와룡고등학교\n",
      "급식 정보 조회 중: 날짜=20250618\n",
      "mealService 응답코드: 200\n",
      "급식 데이터 수: 21\n",
      "7240188 운암고등학교\n",
      "급식 정보 조회 중: 날짜=20250618\n",
      "mealService 응답코드: 200\n",
      "급식 데이터 수: 21\n"
     ]
    },
    {
     "name": "stderr",
     "output_type": "stream",
     "text": [
      "고등학교 급식 조회:  85%|███████████████████████████████████████████        | 82/97 [00:18<00:03,  4.82it/s]"
     ]
    },
    {
     "name": "stdout",
     "output_type": "stream",
     "text": [
      "7240100 원화여자고등학교\n",
      "급식 정보 조회 중: 날짜=20250618\n",
      "mealService 응답코드: 200\n",
      "급식 데이터 수: 21\n"
     ]
    },
    {
     "name": "stderr",
     "output_type": "stream",
     "text": [
      "고등학교 급식 조회:  87%|████████████████████████████████████████████▏      | 84/97 [00:18<00:02,  4.99it/s]"
     ]
    },
    {
     "name": "stdout",
     "output_type": "stream",
     "text": [
      "7240101 정동고등학교\n",
      "급식 정보 조회 중: 날짜=20250618\n",
      "mealService 응답코드: 200\n",
      "급식 데이터 수: 21\n"
     ]
    },
    {
     "name": "stderr",
     "output_type": "stream",
     "text": [
      "고등학교 급식 조회:  88%|████████████████████████████████████████████▋      | 85/97 [00:18<00:02,  5.14it/s]"
     ]
    },
    {
     "name": "stdout",
     "output_type": "stream",
     "text": [
      "7240102 정화여자고등학교\n",
      "급식 정보 조회 중: 날짜=20250618\n",
      "mealService 응답코드: 200\n",
      "급식 데이터 수: 21\n",
      "7240402 조일고등학교\n",
      "급식 정보 조회 중: 날짜=20250618\n"
     ]
    },
    {
     "name": "stderr",
     "output_type": "stream",
     "text": [
      "고등학교 급식 조회:  89%|█████████████████████████████████████████████▏     | 86/97 [00:18<00:02,  5.33it/s]"
     ]
    },
    {
     "name": "stdout",
     "output_type": "stream",
     "text": [
      "mealService 응답코드: 200\n",
      "급식 데이터 수: 21\n",
      "7240103 청구고등학교\n",
      "급식 정보 조회 중: 날짜=20250618\n",
      "mealService 응답코드: 200\n",
      "급식 데이터 수: 20\n"
     ]
    },
    {
     "name": "stderr",
     "output_type": "stream",
     "text": [
      "고등학교 급식 조회:  91%|██████████████████████████████████████████████▎    | 88/97 [00:19<00:01,  5.26it/s]"
     ]
    },
    {
     "name": "stdout",
     "output_type": "stream",
     "text": [
      "7240282 칠성고등학교\n",
      "급식 정보 조회 중: 날짜=20250618\n",
      "mealService 응답코드: 200\n",
      "급식 데이터 수: 21\n",
      "7240189 포산고등학교\n",
      "급식 정보 조회 중: 날짜=20250618\n",
      "mealService 응답코드: 200\n",
      "급식 데이터 수: 64\n"
     ]
    },
    {
     "name": "stderr",
     "output_type": "stream",
     "text": [
      "고등학교 급식 조회:  92%|██████████████████████████████████████████████▊    | 89/97 [00:19<00:01,  4.58it/s]"
     ]
    },
    {
     "name": "stdout",
     "output_type": "stream",
     "text": [
      "7240207 학남고등학교\n",
      "급식 정보 조회 중: 날짜=20250618\n",
      "mealService 응답코드: 200\n",
      "급식 데이터 수: 21\n"
     ]
    },
    {
     "name": "stderr",
     "output_type": "stream",
     "text": [
      "고등학교 급식 조회:  93%|███████████████████████████████████████████████▎   | 90/97 [00:19<00:01,  4.65it/s]"
     ]
    },
    {
     "name": "stdout",
     "output_type": "stream",
     "text": [
      "7240273 함지고등학교\n",
      "급식 정보 조회 중: 날짜=20250618\n",
      "mealService 응답코드: 200\n",
      "급식 데이터 수: 21\n"
     ]
    },
    {
     "name": "stderr",
     "output_type": "stream",
     "text": [
      "고등학교 급식 조회:  94%|███████████████████████████████████████████████▊   | 91/97 [00:19<00:01,  4.68it/s]"
     ]
    },
    {
     "name": "stdout",
     "output_type": "stream",
     "text": [
      "7240104 현풍고등학교\n",
      "급식 정보 조회 중: 날짜=20250618\n",
      "mealService 응답코드: 200\n",
      "급식 데이터 수: 66\n"
     ]
    },
    {
     "name": "stderr",
     "output_type": "stream",
     "text": [
      "고등학교 급식 조회:  95%|████████████████████████████████████████████████▎  | 92/97 [00:20<00:01,  4.22it/s]"
     ]
    },
    {
     "name": "stdout",
     "output_type": "stream",
     "text": [
      "7240105 협성고등학교\n",
      "급식 정보 조회 중: 날짜=20250618\n",
      "mealService 응답코드: 200\n",
      "급식 데이터 수: 20\n"
     ]
    },
    {
     "name": "stderr",
     "output_type": "stream",
     "text": [
      "고등학교 급식 조회:  96%|████████████████████████████████████████████████▉  | 93/97 [00:20<00:00,  4.37it/s]"
     ]
    },
    {
     "name": "stdout",
     "output_type": "stream",
     "text": [
      "7240283 호산고등학교\n",
      "급식 정보 조회 중: 날짜=20250618\n",
      "mealService 응답코드: 200\n",
      "급식 데이터 수: 21\n"
     ]
    },
    {
     "name": "stderr",
     "output_type": "stream",
     "text": [
      "고등학교 급식 조회:  98%|█████████████████████████████████████████████████▉ | 95/97 [00:20<00:00,  4.74it/s]"
     ]
    },
    {
     "name": "stdout",
     "output_type": "stream",
     "text": [
      "7240209 화원고등학교\n",
      "급식 정보 조회 중: 날짜=20250618\n",
      "mealService 응답코드: 200\n",
      "급식 데이터 수: 21\n"
     ]
    },
    {
     "name": "stderr",
     "output_type": "stream",
     "text": [
      "고등학교 급식 조회:  99%|██████████████████████████████████████████████████▍| 96/97 [00:20<00:00,  5.12it/s]"
     ]
    },
    {
     "name": "stdout",
     "output_type": "stream",
     "text": [
      "7240458 효령고등학교\n",
      "급식 정보 조회 중: 날짜=20250618\n",
      "mealService 응답코드: 200\n",
      "mealServiceDietInfo 키 없음: {'RESULT': {'CODE': 'INFO-200', 'MESSAGE': '해당하는 데이터가 없습니다.'}}\n",
      "7240106 효성여자고등학교\n",
      "급식 정보 조회 중: 날짜=20250618\n"
     ]
    },
    {
     "name": "stderr",
     "output_type": "stream",
     "text": [
      "고등학교 급식 조회: 100%|███████████████████████████████████████████████████| 97/97 [00:21<00:00,  4.60it/s]"
     ]
    },
    {
     "name": "stdout",
     "output_type": "stream",
     "text": [
      "mealService 응답코드: 200\n",
      "급식 데이터 수: 21\n",
      "수집된 급식 행 수: 13352\n",
      "수집된 전체 급식 행 수: 13352\n",
      "  교육청코드     학교코드     학교명      급식일자 식사명  \\\n",
      "0   B10  7010057  가락고등학교  20250519  중식   \n",
      "1   B10  7010057  가락고등학교  20250520  중식   \n",
      "2   B10  7010057  가락고등학교  20250521  중식   \n",
      "3   B10  7010057  가락고등학교  20250522  중식   \n",
      "4   B10  7010057  가락고등학교  20250523  중식   \n",
      "\n",
      "                                                급식식단  \n",
      "0  쌀밥 <br/>소고기미역국 (2.5.6.15.16.18)<br/>돼지갈비찜 (5.6...  \n",
      "1  쇠고기콩나물밥 (5.6.16)<br/>물만두국 (1.2.5.6.10.15.16.18...  \n",
      "2  새우볶음밥 (1.5.6.8.9.13.18)<br/>씨앗호떡파이 (1.2.3.5.6)...  \n",
      "3  쌀밥 <br/>볶음우동 (5.6.8.9.13.15.17.18)<br/>zero초코파...  \n",
      "4  현미밥 <br/>어묵국 (1.2.5.6.15.16.18)<br/>마라찜닭 (5.6....  \n"
     ]
    },
    {
     "name": "stderr",
     "output_type": "stream",
     "text": [
      "\n"
     ]
    },
    {
     "name": "stdout",
     "output_type": "stream",
     "text": [
      "응답코드 : 200\n"
     ]
    },
    {
     "name": "stderr",
     "output_type": "stream",
     "text": [
      "고등학교 급식 조회:   1%|▍                                                  | 1/128 [00:00<00:21,  5.90it/s]"
     ]
    },
    {
     "name": "stdout",
     "output_type": "stream",
     "text": [
      "7310207 가림고등학교\n",
      "급식 정보 조회 중: 날짜=20250618\n",
      "mealService 응답코드: 200\n",
      "급식 데이터 수: 21\n",
      "7310035 가정고등학교\n",
      "급식 정보 조회 중: 날짜=20250618\n"
     ]
    },
    {
     "name": "stderr",
     "output_type": "stream",
     "text": [
      "고등학교 급식 조회:   2%|▊                                                  | 2/128 [00:00<00:23,  5.41it/s]"
     ]
    },
    {
     "name": "stdout",
     "output_type": "stream",
     "text": [
      "mealService 응답코드: 200\n",
      "급식 데이터 수: 21\n",
      "7310217 가좌고등학교\n",
      "급식 정보 조회 중: 날짜=20250618\n"
     ]
    },
    {
     "name": "stderr",
     "output_type": "stream",
     "text": [
      "고등학교 급식 조회:   2%|█▏                                                 | 3/128 [00:00<00:23,  5.28it/s]"
     ]
    },
    {
     "name": "stdout",
     "output_type": "stream",
     "text": [
      "mealService 응답코드: 200\n",
      "급식 데이터 수: 21\n",
      "7310346 강남영상미디어고등학교\n",
      "급식 정보 조회 중: 날짜=20250618\n"
     ]
    },
    {
     "name": "stderr",
     "output_type": "stream",
     "text": [
      "고등학교 급식 조회:   3%|█▌                                                 | 4/128 [00:00<00:24,  5.10it/s]"
     ]
    },
    {
     "name": "stdout",
     "output_type": "stream",
     "text": [
      "mealService 응답코드: 200\n",
      "급식 데이터 수: 42\n",
      "7310036 강화고등학교\n",
      "급식 정보 조회 중: 날짜=20250618\n"
     ]
    },
    {
     "name": "stderr",
     "output_type": "stream",
     "text": [
      "고등학교 급식 조회:   4%|█▉                                                 | 5/128 [00:00<00:24,  4.96it/s]"
     ]
    },
    {
     "name": "stdout",
     "output_type": "stream",
     "text": [
      "mealService 응답코드: 200\n",
      "급식 데이터 수: 62\n",
      "7310201 강화여자고등학교\n",
      "급식 정보 조회 중: 날짜=20250618\n",
      "mealService 응답코드: 200\n",
      "급식 데이터 수: 56\n"
     ]
    },
    {
     "name": "stderr",
     "output_type": "stream",
     "text": [
      "고등학교 급식 조회:   5%|██▊                                                | 7/128 [00:01<00:23,  5.05it/s]"
     ]
    },
    {
     "name": "stdout",
     "output_type": "stream",
     "text": [
      "7310203 검단고등학교\n",
      "급식 정보 조회 중: 날짜=20250618\n",
      "mealService 응답코드: 200\n",
      "급식 데이터 수: 21\n"
     ]
    },
    {
     "name": "stderr",
     "output_type": "stream",
     "text": [
      "고등학교 급식 조회:   6%|███▏                                               | 8/128 [00:01<00:23,  5.12it/s]"
     ]
    },
    {
     "name": "stdout",
     "output_type": "stream",
     "text": [
      "7310037 계산고등학교\n",
      "급식 정보 조회 중: 날짜=20250618\n",
      "mealService 응답코드: 200\n",
      "급식 데이터 수: 21\n"
     ]
    },
    {
     "name": "stderr",
     "output_type": "stream",
     "text": [
      "고등학교 급식 조회:   7%|███▌                                               | 9/128 [00:01<00:23,  5.16it/s]"
     ]
    },
    {
     "name": "stdout",
     "output_type": "stream",
     "text": [
      "7310090 계산공업고등학교\n",
      "급식 정보 조회 중: 날짜=20250618\n",
      "mealService 응답코드: 200\n",
      "급식 데이터 수: 19\n"
     ]
    },
    {
     "name": "stderr",
     "output_type": "stream",
     "text": [
      "고등학교 급식 조회:   8%|███▉                                              | 10/128 [00:01<00:23,  5.10it/s]"
     ]
    },
    {
     "name": "stdout",
     "output_type": "stream",
     "text": [
      "7310038 계산여자고등학교\n",
      "급식 정보 조회 중: 날짜=20250618\n",
      "mealService 응답코드: 200\n",
      "급식 데이터 수: 21\n",
      "7310039 계양고등학교\n",
      "급식 정보 조회 중: 날짜=20250618\n",
      "mealService 응답코드: 200\n",
      "급식 데이터 수: 21\n"
     ]
    },
    {
     "name": "stderr",
     "output_type": "stream",
     "text": [
      "고등학교 급식 조회:   9%|████▋                                             | 12/128 [00:02<00:22,  5.05it/s]"
     ]
    },
    {
     "name": "stdout",
     "output_type": "stream",
     "text": [
      "7310067 광성고등학교\n",
      "급식 정보 조회 중: 날짜=20250618\n",
      "mealService 응답코드: 200\n",
      "급식 데이터 수: 21\n",
      "7310189 교동고등학교\n",
      "급식 정보 조회 중: 날짜=20250618\n",
      "mealService 응답코드: 200\n",
      "급식 데이터 수: 35\n"
     ]
    },
    {
     "name": "stderr",
     "output_type": "stream",
     "text": [
      "고등학교 급식 조회:  10%|█████                                             | 13/128 [00:02<00:23,  5.00it/s]"
     ]
    },
    {
     "name": "stdout",
     "output_type": "stream",
     "text": [
      "7310069 대인고등학교\n",
      "급식 정보 조회 중: 날짜=20250618\n",
      "mealService 응답코드: 200\n",
      "급식 데이터 수: 38\n"
     ]
    },
    {
     "name": "stderr",
     "output_type": "stream",
     "text": [
      "고등학교 급식 조회:  11%|█████▍                                            | 14/128 [00:02<00:23,  4.88it/s]"
     ]
    },
    {
     "name": "stdout",
     "output_type": "stream",
     "text": [
      "7310041 대청고등학교\n",
      "급식 정보 조회 중: 날짜=20250618\n",
      "mealService 응답코드: 200\n",
      "급식 데이터 수: 36\n"
     ]
    },
    {
     "name": "stderr",
     "output_type": "stream",
     "text": [
      "고등학교 급식 조회:  12%|█████▊                                            | 15/128 [00:02<00:23,  4.78it/s]"
     ]
    },
    {
     "name": "stdout",
     "output_type": "stream",
     "text": [
      "7310070 덕신고등학교\n",
      "급식 정보 조회 중: 날짜=20250618\n",
      "mealService 응답코드: 200\n",
      "급식 데이터 수: 55\n"
     ]
    },
    {
     "name": "stderr",
     "output_type": "stream",
     "text": [
      "고등학교 급식 조회:  12%|██████▎                                           | 16/128 [00:03<00:23,  4.71it/s]"
     ]
    },
    {
     "name": "stdout",
     "output_type": "stream",
     "text": [
      "7310042 덕적고등학교\n",
      "급식 정보 조회 중: 날짜=20250618\n",
      "mealService 응답코드: 200\n",
      "급식 데이터 수: 35\n"
     ]
    },
    {
     "name": "stderr",
     "output_type": "stream",
     "text": [
      "고등학교 급식 조회:  14%|███████                                           | 18/128 [00:03<00:22,  4.84it/s]"
     ]
    },
    {
     "name": "stdout",
     "output_type": "stream",
     "text": [
      "7310220 도림고등학교\n",
      "급식 정보 조회 중: 날짜=20250618\n",
      "mealService 응답코드: 200\n",
      "급식 데이터 수: 21\n"
     ]
    },
    {
     "name": "stderr",
     "output_type": "stream",
     "text": [
      "고등학교 급식 조회:  15%|███████▍                                          | 19/128 [00:03<00:22,  4.88it/s]"
     ]
    },
    {
     "name": "stdout",
     "output_type": "stream",
     "text": [
      "7310071 동산고등학교\n",
      "급식 정보 조회 중: 날짜=20250618\n",
      "mealService 응답코드: 200\n",
      "급식 데이터 수: 21\n",
      "7310043 동인천고등학교\n",
      "급식 정보 조회 중: 날짜=20250618\n",
      "mealService 응답코드: 200\n",
      "급식 데이터 수: 21\n"
     ]
    },
    {
     "name": "stderr",
     "output_type": "stream",
     "text": [
      "고등학교 급식 조회:  16%|███████▊                                          | 20/128 [00:04<00:22,  4.82it/s]"
     ]
    },
    {
     "name": "stdout",
     "output_type": "stream",
     "text": [
      "7310072 명신여자고등학교\n",
      "급식 정보 조회 중: 날짜=20250618\n",
      "mealService 응답코드: 200\n",
      "급식 데이터 수: 20\n"
     ]
    },
    {
     "name": "stderr",
     "output_type": "stream",
     "text": [
      "고등학교 급식 조회:  16%|████████▏                                         | 21/128 [00:04<00:24,  4.31it/s]"
     ]
    },
    {
     "name": "stdout",
     "output_type": "stream",
     "text": [
      "7310626 문곡고등학교\n",
      "급식 정보 조회 중: 날짜=20250618\n",
      "mealService 응답코드: 200\n",
      "급식 데이터 수: 21\n"
     ]
    },
    {
     "name": "stderr",
     "output_type": "stream",
     "text": [
      "고등학교 급식 조회:  18%|████████▉                                         | 23/128 [00:04<00:23,  4.56it/s]"
     ]
    },
    {
     "name": "stdout",
     "output_type": "stream",
     "text": [
      "7310073 문일여자고등학교\n",
      "급식 정보 조회 중: 날짜=20250618\n",
      "mealService 응답코드: 200\n",
      "급식 데이터 수: 21\n",
      "7310192 문학정보고등학교\n",
      "급식 정보 조회 중: 날짜=20250618\n",
      "mealService 응답코드: 200\n",
      "급식 데이터 수: 21\n"
     ]
    },
    {
     "name": "stderr",
     "output_type": "stream",
     "text": [
      "고등학교 급식 조회:  19%|█████████▍                                        | 24/128 [00:05<00:24,  4.31it/s]"
     ]
    },
    {
     "name": "stdout",
     "output_type": "stream",
     "text": [
      "7310350 미추홀외국어고등학교\n",
      "급식 정보 조회 중: 날짜=20250618\n",
      "mealService 응답코드: 200\n",
      "급식 데이터 수: 55\n"
     ]
    },
    {
     "name": "stderr",
     "output_type": "stream",
     "text": [
      "고등학교 급식 조회:  20%|█████████▊                                        | 25/128 [00:05<00:24,  4.26it/s]"
     ]
    },
    {
     "name": "stdout",
     "output_type": "stream",
     "text": [
      "7310427 박문여자고등학교\n",
      "급식 정보 조회 중: 날짜=20250618\n",
      "mealService 응답코드: 200\n",
      "급식 데이터 수: 21\n"
     ]
    },
    {
     "name": "stderr",
     "output_type": "stream",
     "text": [
      "고등학교 급식 조회:  20%|██████████▏                                       | 26/128 [00:05<00:23,  4.43it/s]"
     ]
    },
    {
     "name": "stdout",
     "output_type": "stream",
     "text": [
      "7310403 백령고등학교\n",
      "급식 정보 조회 중: 날짜=20250618\n",
      "mealService 응답코드: 200\n",
      "급식 데이터 수: 21\n"
     ]
    },
    {
     "name": "stderr",
     "output_type": "stream",
     "text": [
      "고등학교 급식 조회:  21%|██████████▌                                       | 27/128 [00:05<00:24,  4.19it/s]"
     ]
    },
    {
     "name": "stdout",
     "output_type": "stream",
     "text": [
      "7310044 백석고등학교\n",
      "급식 정보 조회 중: 날짜=20250618\n",
      "mealService 응답코드: 200\n",
      "급식 데이터 수: 21\n"
     ]
    },
    {
     "name": "stderr",
     "output_type": "stream",
     "text": [
      "고등학교 급식 조회:  23%|███████████▎                                      | 29/128 [00:06<00:21,  4.53it/s]"
     ]
    },
    {
     "name": "stdout",
     "output_type": "stream",
     "text": [
      "7310219 부개고등학교\n",
      "급식 정보 조회 중: 날짜=20250618\n",
      "mealService 응답코드: 200\n",
      "급식 데이터 수: 21\n",
      "7310045 부개여자고등학교\n",
      "급식 정보 조회 중: 날짜=20250618\n"
     ]
    },
    {
     "name": "stderr",
     "output_type": "stream",
     "text": [
      "고등학교 급식 조회:  23%|███████████▋                                      | 30/128 [00:06<00:21,  4.53it/s]"
     ]
    },
    {
     "name": "stdout",
     "output_type": "stream",
     "text": [
      "mealService 응답코드: 200\n",
      "급식 데이터 수: 21\n",
      "7310046 부광고등학교\n",
      "급식 정보 조회 중: 날짜=20250618\n",
      "mealService 응답코드: 200\n",
      "급식 데이터 수: 21\n"
     ]
    },
    {
     "name": "stderr",
     "output_type": "stream",
     "text": [
      "고등학교 급식 조회:  25%|████████████▌                                     | 32/128 [00:06<00:19,  4.84it/s]"
     ]
    },
    {
     "name": "stdout",
     "output_type": "stream",
     "text": [
      "7310047 부광여자고등학교\n",
      "급식 정보 조회 중: 날짜=20250618\n",
      "mealService 응답코드: 200\n",
      "급식 데이터 수: 21\n"
     ]
    },
    {
     "name": "stderr",
     "output_type": "stream",
     "text": [
      "고등학교 급식 조회:  26%|████████████▉                                     | 33/128 [00:06<00:18,  5.02it/s]"
     ]
    },
    {
     "name": "stdout",
     "output_type": "stream",
     "text": [
      "7310048 부평고등학교\n",
      "급식 정보 조회 중: 날짜=20250618\n",
      "mealService 응답코드: 200\n",
      "급식 데이터 수: 20\n",
      "7310093 부평공업고등학교\n",
      "급식 정보 조회 중: 날짜=20250618\n"
     ]
    },
    {
     "name": "stderr",
     "output_type": "stream",
     "text": [
      "고등학교 급식 조회:  27%|█████████████▎                                    | 34/128 [00:07<00:18,  5.08it/s]"
     ]
    },
    {
     "name": "stdout",
     "output_type": "stream",
     "text": [
      "mealService 응답코드: 200\n",
      "급식 데이터 수: 21\n",
      "7310049 부평여자고등학교\n",
      "급식 정보 조회 중: 날짜=20250618\n",
      "mealService 응답코드: 200\n",
      "급식 데이터 수: 20\n"
     ]
    },
    {
     "name": "stderr",
     "output_type": "stream",
     "text": [
      "고등학교 급식 조회:  27%|█████████████▋                                    | 35/128 [00:07<00:18,  5.15it/s]"
     ]
    },
    {
     "name": "stdout",
     "output_type": "stream",
     "text": [
      "7310212 산마을고등학교\n",
      "급식 정보 조회 중: 날짜=20250618\n"
     ]
    },
    {
     "name": "stderr",
     "output_type": "stream",
     "text": [
      "고등학교 급식 조회:  28%|██████████████                                    | 36/128 [00:07<00:21,  4.30it/s]"
     ]
    },
    {
     "name": "stdout",
     "output_type": "stream",
     "text": [
      "mealService 응답코드: 200\n",
      "급식 데이터 수: 52\n",
      "7310190 삼산고등학교\n",
      "급식 정보 조회 중: 날짜=20250618\n"
     ]
    },
    {
     "name": "stderr",
     "output_type": "stream",
     "text": [
      "고등학교 급식 조회:  29%|██████████████▍                                   | 37/128 [00:07<00:22,  4.11it/s]"
     ]
    },
    {
     "name": "stdout",
     "output_type": "stream",
     "text": [
      "mealService 응답코드: 200\n",
      "급식 데이터 수: 21\n",
      "7310050 서도고등학교\n",
      "급식 정보 조회 중: 날짜=20250618\n"
     ]
    },
    {
     "name": "stderr",
     "output_type": "stream",
     "text": [
      "고등학교 급식 조회:  30%|██████████████▊                                   | 38/128 [00:08<00:22,  3.98it/s]"
     ]
    },
    {
     "name": "stdout",
     "output_type": "stream",
     "text": [
      "mealService 응답코드: 200\n",
      "급식 데이터 수: 21\n",
      "7310204 서운고등학교\n",
      "급식 정보 조회 중: 날짜=20250618\n"
     ]
    },
    {
     "name": "stderr",
     "output_type": "stream",
     "text": [
      "고등학교 급식 조회:  30%|███████████████▏                                  | 39/128 [00:08<00:21,  4.14it/s]"
     ]
    },
    {
     "name": "stdout",
     "output_type": "stream",
     "text": [
      "mealService 응답코드: 200\n",
      "급식 데이터 수: 20\n",
      "7310075 서인천고등학교\n",
      "급식 정보 조회 중: 날짜=20250618\n"
     ]
    },
    {
     "name": "stderr",
     "output_type": "stream",
     "text": [
      "고등학교 급식 조회:  31%|███████████████▋                                  | 40/128 [00:08<00:20,  4.27it/s]"
     ]
    },
    {
     "name": "stdout",
     "output_type": "stream",
     "text": [
      "mealService 응답코드: 200\n",
      "급식 데이터 수: 21\n",
      "7310051 석정여자고등학교\n",
      "급식 정보 조회 중: 날짜=20250618\n"
     ]
    },
    {
     "name": "stderr",
     "output_type": "stream",
     "text": [
      "고등학교 급식 조회:  32%|████████████████                                  | 41/128 [00:08<00:20,  4.30it/s]"
     ]
    },
    {
     "name": "stdout",
     "output_type": "stream",
     "text": [
      "mealService 응답코드: 200\n",
      "급식 데이터 수: 20\n",
      "7310052 선인고등학교\n",
      "급식 정보 조회 중: 날짜=20250618\n"
     ]
    },
    {
     "name": "stderr",
     "output_type": "stream",
     "text": [
      "고등학교 급식 조회:  33%|████████████████▍                                 | 42/128 [00:09<00:19,  4.38it/s]"
     ]
    },
    {
     "name": "stdout",
     "output_type": "stream",
     "text": [
      "mealService 응답코드: 200\n",
      "급식 데이터 수: 21\n",
      "7310077 세일고등학교\n",
      "급식 정보 조회 중: 날짜=20250618\n"
     ]
    },
    {
     "name": "stderr",
     "output_type": "stream",
     "text": [
      "고등학교 급식 조회:  34%|████████████████▊                                 | 43/128 [00:09<00:19,  4.34it/s]"
     ]
    },
    {
     "name": "stdout",
     "output_type": "stream",
     "text": [
      "mealService 응답코드: 200\n",
      "급식 데이터 수: 38\n",
      "7310078 송도고등학교\n",
      "급식 정보 조회 중: 날짜=20250618\n"
     ]
    },
    {
     "name": "stderr",
     "output_type": "stream",
     "text": [
      "고등학교 급식 조회:  34%|█████████████████▏                                | 44/128 [00:09<00:18,  4.45it/s]"
     ]
    },
    {
     "name": "stdout",
     "output_type": "stream",
     "text": [
      "mealService 응답코드: 200\n",
      "급식 데이터 수: 40\n",
      "7310079 숭덕여자고등학교\n",
      "급식 정보 조회 중: 날짜=20250618\n"
     ]
    },
    {
     "name": "stderr",
     "output_type": "stream",
     "text": [
      "고등학교 급식 조회:  35%|█████████████████▌                                | 45/128 [00:09<00:18,  4.51it/s]"
     ]
    },
    {
     "name": "stdout",
     "output_type": "stream",
     "text": [
      "mealService 응답코드: 200\n",
      "급식 데이터 수: 39\n",
      "7310080 신명여자고등학교\n",
      "급식 정보 조회 중: 날짜=20250618\n"
     ]
    },
    {
     "name": "stderr",
     "output_type": "stream",
     "text": [
      "고등학교 급식 조회:  36%|█████████████████▉                                | 46/128 [00:09<00:17,  4.60it/s]"
     ]
    },
    {
     "name": "stdout",
     "output_type": "stream",
     "text": [
      "mealService 응답코드: 200\n",
      "급식 데이터 수: 21\n",
      "7310250 신송고등학교\n",
      "급식 정보 조회 중: 날짜=20250618\n"
     ]
    },
    {
     "name": "stderr",
     "output_type": "stream",
     "text": [
      "고등학교 급식 조회:  37%|██████████████████▎                               | 47/128 [00:10<00:19,  4.20it/s]"
     ]
    },
    {
     "name": "stdout",
     "output_type": "stream",
     "text": [
      "mealService 응답코드: 200\n",
      "급식 데이터 수: 20\n",
      "7310214 안남고등학교\n",
      "급식 정보 조회 중: 날짜=20250618\n"
     ]
    },
    {
     "name": "stderr",
     "output_type": "stream",
     "text": [
      "고등학교 급식 조회:  38%|██████████████████▊                               | 48/128 [00:10<00:19,  4.01it/s]"
     ]
    },
    {
     "name": "stdout",
     "output_type": "stream",
     "text": [
      "mealService 응답코드: 200\n",
      "급식 데이터 수: 21\n",
      "7310053 연수고등학교\n",
      "급식 정보 조회 중: 날짜=20250618\n"
     ]
    },
    {
     "name": "stderr",
     "output_type": "stream",
     "text": [
      "고등학교 급식 조회:  38%|███████████████████▏                              | 49/128 [00:10<00:18,  4.21it/s]"
     ]
    },
    {
     "name": "stdout",
     "output_type": "stream",
     "text": [
      "mealService 응답코드: 200\n",
      "급식 데이터 수: 21\n",
      "7310054 연수여자고등학교\n",
      "급식 정보 조회 중: 날짜=20250618\n"
     ]
    },
    {
     "name": "stderr",
     "output_type": "stream",
     "text": [
      "고등학교 급식 조회:  39%|███████████████████▌                              | 50/128 [00:10<00:18,  4.11it/s]"
     ]
    },
    {
     "name": "stdout",
     "output_type": "stream",
     "text": [
      "mealService 응답코드: 200\n",
      "급식 데이터 수: 21\n",
      "7310055 연평고등학교\n",
      "급식 정보 조회 중: 날짜=20250618\n"
     ]
    },
    {
     "name": "stderr",
     "output_type": "stream",
     "text": [
      "고등학교 급식 조회:  40%|███████████████████▉                              | 51/128 [00:11<00:18,  4.07it/s]"
     ]
    },
    {
     "name": "stdout",
     "output_type": "stream",
     "text": [
      "mealService 응답코드: 200\n",
      "급식 데이터 수: 21\n",
      "7310261 영종국제물류고등학교\n",
      "급식 정보 조회 중: 날짜=20250618\n",
      "mealService 응답코드: 200\n",
      "급식 데이터 수: 21\n"
     ]
    },
    {
     "name": "stderr",
     "output_type": "stream",
     "text": [
      "고등학교 급식 조회:  41%|████████████████████▋                             | 53/128 [00:11<00:16,  4.61it/s]"
     ]
    },
    {
     "name": "stdout",
     "output_type": "stream",
     "text": [
      "7310560 영화국제관광고등학교\n",
      "급식 정보 조회 중: 날짜=20250618\n",
      "mealService 응답코드: 200\n",
      "급식 데이터 수: 21\n"
     ]
    },
    {
     "name": "stderr",
     "output_type": "stream",
     "text": [
      "고등학교 급식 조회:  42%|█████████████████████                             | 54/128 [00:11<00:15,  4.86it/s]"
     ]
    },
    {
     "name": "stdout",
     "output_type": "stream",
     "text": [
      "7310216 옥련여자고등학교\n",
      "급식 정보 조회 중: 날짜=20250618\n",
      "mealService 응답코드: 200\n",
      "급식 데이터 수: 21\n",
      "7310082 인명여자고등학교\n",
      "급식 정보 조회 중: 날짜=20250618\n",
      "mealService 응답코드: 200\n",
      "급식 데이터 수: 49\n"
     ]
    },
    {
     "name": "stderr",
     "output_type": "stream",
     "text": [
      "고등학교 급식 조회:  43%|█████████████████████▍                            | 55/128 [00:11<00:15,  4.77it/s]"
     ]
    },
    {
     "name": "stdout",
     "output_type": "stream",
     "text": [
      "7310083 인성여자고등학교\n",
      "급식 정보 조회 중: 날짜=20250618\n",
      "mealService 응답코드: 200\n",
      "급식 데이터 수: 21\n"
     ]
    },
    {
     "name": "stderr",
     "output_type": "stream",
     "text": [
      "고등학교 급식 조회:  44%|█████████████████████▉                            | 56/128 [00:12<00:15,  4.68it/s]"
     ]
    },
    {
     "name": "stdout",
     "output_type": "stream",
     "text": [
      "7310056 인일여자고등학교\n",
      "급식 정보 조회 중: 날짜=20250618\n",
      "mealService 응답코드: 200\n",
      "급식 데이터 수: 21\n"
     ]
    },
    {
     "name": "stderr",
     "output_type": "stream",
     "text": [
      "고등학교 급식 조회:  45%|██████████████████████▎                           | 57/128 [00:12<00:15,  4.52it/s]"
     ]
    },
    {
     "name": "stdout",
     "output_type": "stream",
     "text": [
      "7310084 인제고등학교\n",
      "급식 정보 조회 중: 날짜=20250618\n",
      "mealService 응답코드: 200\n",
      "급식 데이터 수: 21\n"
     ]
    },
    {
     "name": "stderr",
     "output_type": "stream",
     "text": [
      "고등학교 급식 조회:  45%|██████████████████████▋                           | 58/128 [00:12<00:15,  4.41it/s]"
     ]
    },
    {
     "name": "stdout",
     "output_type": "stream",
     "text": [
      "7310057 인천고등학교\n",
      "급식 정보 조회 중: 날짜=20250618\n",
      "mealService 응답코드: 200\n",
      "급식 데이터 수: 21\n"
     ]
    },
    {
     "name": "stderr",
     "output_type": "stream",
     "text": [
      "고등학교 급식 조회:  47%|███████████████████████▍                          | 60/128 [00:13<00:14,  4.54it/s]"
     ]
    },
    {
     "name": "stdout",
     "output_type": "stream",
     "text": [
      "7310348 인천고잔고등학교\n",
      "급식 정보 조회 중: 날짜=20250618\n",
      "mealService 응답코드: 200\n",
      "급식 데이터 수: 21\n"
     ]
    },
    {
     "name": "stderr",
     "output_type": "stream",
     "text": [
      "고등학교 급식 조회:  48%|███████████████████████▊                          | 61/128 [00:13<00:14,  4.78it/s]"
     ]
    },
    {
     "name": "stdout",
     "output_type": "stream",
     "text": [
      "7310205 인천공항고등학교\n",
      "급식 정보 조회 중: 날짜=20250618\n",
      "mealService 응답코드: 200\n",
      "급식 데이터 수: 21\n",
      "7310058 인천과학고등학교\n",
      "급식 정보 조회 중: 날짜=20250618\n",
      "mealService 응답코드: 200\n",
      "급식 데이터 수: 54\n"
     ]
    },
    {
     "name": "stderr",
     "output_type": "stream",
     "text": [
      "고등학교 급식 조회:  48%|████████████████████████▏                         | 62/128 [00:13<00:14,  4.51it/s]"
     ]
    },
    {
     "name": "stdout",
     "output_type": "stream",
     "text": [
      "7310449 인천과학예술영재학교\n",
      "급식 정보 조회 중: 날짜=20250618\n"
     ]
    },
    {
     "name": "stderr",
     "output_type": "stream",
     "text": [
      "고등학교 급식 조회:  49%|████████████████████████▌                         | 63/128 [00:13<00:16,  3.87it/s]"
     ]
    },
    {
     "name": "stdout",
     "output_type": "stream",
     "text": [
      "mealService 응답코드: 200\n",
      "급식 데이터 수: 76\n",
      "7310334 인천국제고등학교\n",
      "급식 정보 조회 중: 날짜=20250618\n"
     ]
    },
    {
     "name": "stderr",
     "output_type": "stream",
     "text": [
      "고등학교 급식 조회:  50%|█████████████████████████                         | 64/128 [00:14<00:17,  3.74it/s]"
     ]
    },
    {
     "name": "stdout",
     "output_type": "stream",
     "text": [
      "mealService 응답코드: 200\n",
      "급식 데이터 수: 57\n",
      "7310475 인천금융고등학교\n",
      "급식 정보 조회 중: 날짜=20250618\n"
     ]
    },
    {
     "name": "stderr",
     "output_type": "stream",
     "text": [
      "고등학교 급식 조회:  51%|█████████████████████████▍                        | 65/128 [00:14<00:15,  4.02it/s]"
     ]
    },
    {
     "name": "stdout",
     "output_type": "stream",
     "text": [
      "mealService 응답코드: 200\n",
      "급식 데이터 수: 20\n",
      "7310100 인천기계공업고등학교\n",
      "급식 정보 조회 중: 날짜=20250618\n",
      "mealService 응답코드: 200\n",
      "급식 데이터 수: 21\n"
     ]
    },
    {
     "name": "stderr",
     "output_type": "stream",
     "text": [
      "고등학교 급식 조회:  52%|█████████████████████████▊                        | 66/128 [00:14<00:14,  4.40it/s]"
     ]
    },
    {
     "name": "stdout",
     "output_type": "stream",
     "text": [
      "7310059 인천남고등학교\n",
      "급식 정보 조회 중: 날짜=20250618\n",
      "mealService 응답코드: 200\n",
      "급식 데이터 수: 21\n"
     ]
    },
    {
     "name": "stderr",
     "output_type": "stream",
     "text": [
      "고등학교 급식 조회:  52%|██████████████████████████▏                       | 67/128 [00:14<00:13,  4.52it/s]"
     ]
    },
    {
     "name": "stdout",
     "output_type": "stream",
     "text": [
      "7310339 인천남동고등학교\n",
      "급식 정보 조회 중: 날짜=20250618\n",
      "mealService 응답코드: 200\n",
      "급식 데이터 수: 21\n"
     ]
    },
    {
     "name": "stderr",
     "output_type": "stream",
     "text": [
      "고등학교 급식 조회:  53%|██████████████████████████▌                       | 68/128 [00:15<00:13,  4.49it/s]"
     ]
    },
    {
     "name": "stdout",
     "output_type": "stream",
     "text": [
      "7310256 인천논현고등학교\n",
      "급식 정보 조회 중: 날짜=20250618\n",
      "mealService 응답코드: 200\n",
      "급식 데이터 수: 20\n"
     ]
    },
    {
     "name": "stderr",
     "output_type": "stream",
     "text": [
      "고등학교 급식 조회:  54%|██████████████████████████▉                       | 69/128 [00:15<00:13,  4.47it/s]"
     ]
    },
    {
     "name": "stdout",
     "output_type": "stream",
     "text": [
      "7310068 인천대건고등학교\n",
      "급식 정보 조회 중: 날짜=20250618\n",
      "mealService 응답코드: 200\n",
      "급식 데이터 수: 21\n"
     ]
    },
    {
     "name": "stderr",
     "output_type": "stream",
     "text": [
      "고등학교 급식 조회:  55%|███████████████████████████▎                      | 70/128 [00:15<00:13,  4.22it/s]"
     ]
    },
    {
     "name": "stdout",
     "output_type": "stream",
     "text": [
      "7310563 인천대중예술고등학교\n",
      "급식 정보 조회 중: 날짜=20250618\n",
      "mealService 응답코드: 200\n",
      "급식 데이터 수: 19\n"
     ]
    },
    {
     "name": "stderr",
     "output_type": "stream",
     "text": [
      "고등학교 급식 조회:  55%|███████████████████████████▋                      | 71/128 [00:15<00:13,  4.10it/s]"
     ]
    },
    {
     "name": "stdout",
     "output_type": "stream",
     "text": [
      "7310191 인천디자인고등학교\n",
      "급식 정보 조회 중: 날짜=20250618\n",
      "mealService 응답코드: 200\n",
      "급식 데이터 수: 19\n"
     ]
    },
    {
     "name": "stderr",
     "output_type": "stream",
     "text": [
      "고등학교 급식 조회:  56%|████████████████████████████▏                     | 72/128 [00:16<00:13,  4.04it/s]"
     ]
    },
    {
     "name": "stdout",
     "output_type": "stream",
     "text": [
      "7310452 인천마전고등학교\n",
      "급식 정보 조회 중: 날짜=20250618\n",
      "mealService 응답코드: 200\n",
      "급식 데이터 수: 20\n"
     ]
    },
    {
     "name": "stderr",
     "output_type": "stream",
     "text": [
      "고등학교 급식 조회:  57%|████████████████████████████▌                     | 73/128 [00:16<00:13,  4.03it/s]"
     ]
    },
    {
     "name": "stdout",
     "output_type": "stream",
     "text": [
      "7310332 인천만수고등학교\n",
      "급식 정보 조회 중: 날짜=20250618\n",
      "mealService 응답코드: 200\n",
      "급식 데이터 수: 21\n"
     ]
    },
    {
     "name": "stderr",
     "output_type": "stream",
     "text": [
      "고등학교 급식 조회:  59%|█████████████████████████████▎                    | 75/128 [00:16<00:12,  4.36it/s]"
     ]
    },
    {
     "name": "stdout",
     "output_type": "stream",
     "text": [
      "7310480 인천미래생활고등학교\n",
      "급식 정보 조회 중: 날짜=20250618\n",
      "mealService 응답코드: 200\n",
      "급식 데이터 수: 20\n",
      "7310593 인천바이오과학고등학교\n",
      "급식 정보 조회 중: 날짜=20250618\n",
      "mealService 응답코드: 200\n",
      "급식 데이터 수: 20\n"
     ]
    },
    {
     "name": "stderr",
     "output_type": "stream",
     "text": [
      "고등학교 급식 조회:  59%|█████████████████████████████▋                    | 76/128 [00:16<00:11,  4.49it/s]"
     ]
    },
    {
     "name": "stdout",
     "output_type": "stream",
     "text": [
      "7310624 인천반도체고등학교\n",
      "급식 정보 조회 중: 날짜=20250618\n",
      "mealService 응답코드: 200\n",
      "급식 데이터 수: 21\n"
     ]
    },
    {
     "name": "stderr",
     "output_type": "stream",
     "text": [
      "고등학교 급식 조회:  60%|██████████████████████████████                    | 77/128 [00:17<00:11,  4.55it/s]"
     ]
    },
    {
     "name": "stdout",
     "output_type": "stream",
     "text": [
      "7310455 인천보건고등학교\n",
      "급식 정보 조회 중: 날짜=20250618\n",
      "mealService 응답코드: 200\n",
      "급식 데이터 수: 21\n"
     ]
    },
    {
     "name": "stderr",
     "output_type": "stream",
     "text": [
      "고등학교 급식 조회:  62%|██████████████████████████████▊                   | 79/128 [00:17<00:10,  4.63it/s]"
     ]
    },
    {
     "name": "stdout",
     "output_type": "stream",
     "text": [
      "7310248 인천부흥고등학교\n",
      "급식 정보 조회 중: 날짜=20250618\n",
      "mealService 응답코드: 200\n",
      "급식 데이터 수: 21\n",
      "7310453 인천뷰티예술고등학교\n",
      "급식 정보 조회 중: 날짜=20250618\n",
      "mealService 응답코드: 200\n",
      "급식 데이터 수: 21\n"
     ]
    },
    {
     "name": "stderr",
     "output_type": "stream",
     "text": [
      "고등학교 급식 조회:  62%|███████████████████████████████▎                  | 80/128 [00:17<00:11,  4.18it/s]"
     ]
    },
    {
     "name": "stdout",
     "output_type": "stream",
     "text": [
      "7310345 인천비즈니스고등학교\n",
      "급식 정보 조회 중: 날짜=20250618\n",
      "mealService 응답코드: 200\n",
      "급식 데이터 수: 20\n"
     ]
    },
    {
     "name": "stderr",
     "output_type": "stream",
     "text": [
      "고등학교 급식 조회:  63%|███████████████████████████████▋                  | 81/128 [00:18<00:11,  3.98it/s]"
     ]
    },
    {
     "name": "stdout",
     "output_type": "stream",
     "text": [
      "7310257 인천산곡고등학교\n",
      "급식 정보 조회 중: 날짜=20250618\n",
      "mealService 응답코드: 200\n",
      "급식 데이터 수: 21\n"
     ]
    },
    {
     "name": "stderr",
     "output_type": "stream",
     "text": [
      "고등학교 급식 조회:  64%|████████████████████████████████                  | 82/128 [00:18<00:11,  3.96it/s]"
     ]
    },
    {
     "name": "stdout",
     "output_type": "stream",
     "text": [
      "7310342 인천상정고등학교\n",
      "급식 정보 조회 중: 날짜=20250618\n",
      "mealService 응답코드: 200\n",
      "급식 데이터 수: 20\n"
     ]
    },
    {
     "name": "stderr",
     "output_type": "stream",
     "text": [
      "고등학교 급식 조회:  65%|████████████████████████████████▍                 | 83/128 [00:18<00:11,  3.91it/s]"
     ]
    },
    {
     "name": "stdout",
     "output_type": "stream",
     "text": [
      "7310193 인천생활과학고등학교\n",
      "급식 정보 조회 중: 날짜=20250618\n",
      "mealService 응답코드: 200\n",
      "급식 데이터 수: 20\n"
     ]
    },
    {
     "name": "stderr",
     "output_type": "stream",
     "text": [
      "고등학교 급식 조회:  66%|████████████████████████████████▊                 | 84/128 [00:18<00:11,  3.91it/s]"
     ]
    },
    {
     "name": "stdout",
     "output_type": "stream",
     "text": [
      "7310369 인천세원고등학교\n",
      "급식 정보 조회 중: 날짜=20250618\n"
     ]
    },
    {
     "name": "stderr",
     "output_type": "stream",
     "text": [
      "고등학교 급식 조회:  66%|█████████████████████████████████▏                | 85/128 [00:19<00:12,  3.57it/s]"
     ]
    },
    {
     "name": "stdout",
     "output_type": "stream",
     "text": [
      "mealService 응답코드: 200\n",
      "급식 데이터 수: 20\n",
      "7310592 인천소방고등학교\n",
      "급식 정보 조회 중: 날짜=20250618\n"
     ]
    },
    {
     "name": "stderr",
     "output_type": "stream",
     "text": [
      "고등학교 급식 조회:  67%|█████████████████████████████████▌                | 86/128 [00:19<00:11,  3.60it/s]"
     ]
    },
    {
     "name": "stdout",
     "output_type": "stream",
     "text": [
      "mealService 응답코드: 200\n",
      "급식 데이터 수: 21\n",
      "7310373 인천송천고등학교\n",
      "급식 정보 조회 중: 날짜=20250618\n"
     ]
    },
    {
     "name": "stderr",
     "output_type": "stream",
     "text": [
      "고등학교 급식 조회:  68%|█████████████████████████████████▉                | 87/128 [00:19<00:11,  3.62it/s]"
     ]
    },
    {
     "name": "stdout",
     "output_type": "stream",
     "text": [
      "mealService 응답코드: 200\n",
      "급식 데이터 수: 21\n",
      "7310333 인천신현고등학교\n",
      "급식 정보 조회 중: 날짜=20250618\n"
     ]
    },
    {
     "name": "stderr",
     "output_type": "stream",
     "text": [
      "고등학교 급식 조회:  69%|██████████████████████████████████▍               | 88/128 [00:20<00:10,  3.78it/s]"
     ]
    },
    {
     "name": "stdout",
     "output_type": "stream",
     "text": [
      "mealService 응답코드: 200\n",
      "급식 데이터 수: 21\n",
      "7310598 인천아라고등학교\n",
      "급식 정보 조회 중: 날짜=20250618\n"
     ]
    },
    {
     "name": "stderr",
     "output_type": "stream",
     "text": [
      "고등학교 급식 조회:  70%|██████████████████████████████████▊               | 89/128 [00:20<00:10,  3.90it/s]"
     ]
    },
    {
     "name": "stdout",
     "output_type": "stream",
     "text": [
      "mealService 응답코드: 200\n",
      "급식 데이터 수: 21\n",
      "7310060 인천여자고등학교\n",
      "급식 정보 조회 중: 날짜=20250618\n"
     ]
    },
    {
     "name": "stderr",
     "output_type": "stream",
     "text": [
      "고등학교 급식 조회:  70%|███████████████████████████████████▏              | 90/128 [00:20<00:09,  4.11it/s]"
     ]
    },
    {
     "name": "stdout",
     "output_type": "stream",
     "text": [
      "mealService 응답코드: 200\n",
      "급식 데이터 수: 21\n",
      "7310104 인천여자상업고등학교\n",
      "급식 정보 조회 중: 날짜=20250618\n",
      "mealService 응답코드: 200\n",
      "급식 데이터 수: 20\n"
     ]
    },
    {
     "name": "stderr",
     "output_type": "stream",
     "text": [
      "고등학교 급식 조회:  71%|███████████████████████████████████▌              | 91/128 [00:20<00:08,  4.34it/s]"
     ]
    },
    {
     "name": "stdout",
     "output_type": "stream",
     "text": [
      "7310422 인천연송고등학교\n",
      "급식 정보 조회 중: 날짜=20250618\n",
      "mealService 응답코드: 200\n",
      "급식 데이터 수: 21\n"
     ]
    },
    {
     "name": "stderr",
     "output_type": "stream",
     "text": [
      "고등학교 급식 조회:  72%|███████████████████████████████████▉              | 92/128 [00:20<00:08,  4.36it/s]"
     ]
    },
    {
     "name": "stdout",
     "output_type": "stream",
     "text": [
      "7310259 인천영선고등학교\n",
      "급식 정보 조회 중: 날짜=20250618\n",
      "mealService 응답코드: 200\n",
      "급식 데이터 수: 21\n"
     ]
    },
    {
     "name": "stderr",
     "output_type": "stream",
     "text": [
      "고등학교 급식 조회:  73%|████████████████████████████████████▎             | 93/128 [00:21<00:08,  4.37it/s]"
     ]
    },
    {
     "name": "stdout",
     "output_type": "stream",
     "text": [
      "7310405 인천영종고등학교\n",
      "급식 정보 조회 중: 날짜=20250618\n",
      "mealService 응답코드: 200\n",
      "급식 데이터 수: 21\n"
     ]
    },
    {
     "name": "stderr",
     "output_type": "stream",
     "text": [
      "고등학교 급식 조회:  73%|████████████████████████████████████▋             | 94/128 [00:21<00:07,  4.43it/s]"
     ]
    },
    {
     "name": "stdout",
     "output_type": "stream",
     "text": [
      "7310383 인천영흥고등학교\n",
      "급식 정보 조회 중: 날짜=20250618\n",
      "mealService 응답코드: 200\n",
      "급식 데이터 수: 20\n"
     ]
    },
    {
     "name": "stderr",
     "output_type": "stream",
     "text": [
      "고등학교 급식 조회:  75%|█████████████████████████████████████▌            | 96/128 [00:21<00:06,  4.80it/s]"
     ]
    },
    {
     "name": "stdout",
     "output_type": "stream",
     "text": [
      "7310061 인천예술고등학교\n",
      "급식 정보 조회 중: 날짜=20250618\n",
      "mealService 응답코드: 200\n",
      "급식 데이터 수: 21\n"
     ]
    },
    {
     "name": "stderr",
     "output_type": "stream",
     "text": [
      "고등학교 급식 조회:  76%|█████████████████████████████████████▉            | 97/128 [00:21<00:06,  5.01it/s]"
     ]
    },
    {
     "name": "stdout",
     "output_type": "stream",
     "text": [
      "7310253 인천예일고등학교\n",
      "급식 정보 조회 중: 날짜=20250618\n",
      "mealService 응답코드: 200\n",
      "급식 데이터 수: 20\n",
      "7310242 인천외국어고등학교\n",
      "급식 정보 조회 중: 날짜=20250618\n",
      "mealService 응답코드: 200\n",
      "급식 데이터 수: 63\n"
     ]
    },
    {
     "name": "stderr",
     "output_type": "stream",
     "text": [
      "고등학교 급식 조회:  77%|██████████████████████████████████████▋           | 99/128 [00:22<00:06,  4.79it/s]"
     ]
    },
    {
     "name": "stdout",
     "output_type": "stream",
     "text": [
      "7310260 인천원당고등학교\n",
      "급식 정보 조회 중: 날짜=20250618\n",
      "mealService 응답코드: 200\n",
      "급식 데이터 수: 19\n"
     ]
    },
    {
     "name": "stderr",
     "output_type": "stream",
     "text": [
      "고등학교 급식 조회:  78%|██████████████████████████████████████▎          | 100/128 [00:22<00:05,  4.96it/s]"
     ]
    },
    {
     "name": "stdout",
     "output_type": "stream",
     "text": [
      "7310628 인천이음고등학교\n",
      "급식 정보 조회 중: 날짜=20250618\n",
      "mealService 응답코드: 200\n",
      "급식 데이터 수: 21\n",
      "7310370 인천전자마이스터고등학교\n",
      "급식 정보 조회 중: 날짜=20250618\n",
      "mealService 응답코드: 200\n",
      "급식 데이터 수: 35\n"
     ]
    },
    {
     "name": "stderr",
     "output_type": "stream",
     "text": [
      "고등학교 급식 조회:  79%|██████████████████████████████████████▋          | 101/128 [00:22<00:05,  4.69it/s]"
     ]
    },
    {
     "name": "stdout",
     "output_type": "stream",
     "text": [
      "7310562 인천중산고등학교\n",
      "급식 정보 조회 중: 날짜=20250618\n",
      "mealService 응답코드: 200\n",
      "급식 데이터 수: 20\n"
     ]
    },
    {
     "name": "stderr",
     "output_type": "stream",
     "text": [
      "고등학교 급식 조회:  80%|███████████████████████████████████████          | 102/128 [00:23<00:05,  4.60it/s]"
     ]
    },
    {
     "name": "stdout",
     "output_type": "stream",
     "text": [
      "7310625 인천중앙여자고등학교\n",
      "급식 정보 조회 중: 날짜=20250618\n",
      "mealService 응답코드: 200\n",
      "급식 데이터 수: 21\n"
     ]
    },
    {
     "name": "stderr",
     "output_type": "stream",
     "text": [
      "고등학교 급식 조회:  80%|███████████████████████████████████████▍         | 103/128 [00:23<00:05,  4.67it/s]"
     ]
    },
    {
     "name": "stdout",
     "output_type": "stream",
     "text": [
      "7310404 인천진산과학고등학교\n",
      "급식 정보 조회 중: 날짜=20250618\n",
      "mealService 응답코드: 200\n",
      "급식 데이터 수: 50\n"
     ]
    },
    {
     "name": "stderr",
     "output_type": "stream",
     "text": [
      "고등학교 급식 조회:  81%|███████████████████████████████████████▊         | 104/128 [00:23<00:05,  4.58it/s]"
     ]
    },
    {
     "name": "stdout",
     "output_type": "stream",
     "text": [
      "7310375 인천청라고등학교\n",
      "급식 정보 조회 중: 날짜=20250618\n",
      "mealService 응답코드: 200\n",
      "급식 데이터 수: 21\n"
     ]
    },
    {
     "name": "stderr",
     "output_type": "stream",
     "text": [
      "고등학교 급식 조회:  82%|████████████████████████████████████████▏        | 105/128 [00:23<00:04,  4.63it/s]"
     ]
    },
    {
     "name": "stdout",
     "output_type": "stream",
     "text": [
      "7310062 인천체육고등학교\n",
      "급식 정보 조회 중: 날짜=20250618\n",
      "mealService 응답코드: 200\n",
      "급식 데이터 수: 59\n"
     ]
    },
    {
     "name": "stderr",
     "output_type": "stream",
     "text": [
      "고등학교 급식 조회:  83%|████████████████████████████████████████▌        | 106/128 [00:23<00:05,  4.30it/s]"
     ]
    },
    {
     "name": "stdout",
     "output_type": "stream",
     "text": [
      "7310374 인천초은고등학교\n",
      "급식 정보 조회 중: 날짜=20250618\n",
      "mealService 응답코드: 200\n",
      "급식 데이터 수: 21\n"
     ]
    },
    {
     "name": "stderr",
     "output_type": "stream",
     "text": [
      "고등학교 급식 조회:  84%|████████████████████████████████████████▉        | 107/128 [00:24<00:04,  4.37it/s]"
     ]
    },
    {
     "name": "stdout",
     "output_type": "stream",
     "text": [
      "7310447 인천포스코고등학교\n",
      "급식 정보 조회 중: 날짜=20250618\n",
      "mealService 응답코드: 200\n",
      "급식 데이터 수: 37\n"
     ]
    },
    {
     "name": "stderr",
     "output_type": "stream",
     "text": [
      "고등학교 급식 조회:  84%|█████████████████████████████████████████▎       | 108/128 [00:24<00:04,  4.39it/s]"
     ]
    },
    {
     "name": "stdout",
     "output_type": "stream",
     "text": [
      "7310371 인천하늘고등학교\n",
      "급식 정보 조회 중: 날짜=20250618\n",
      "mealService 응답코드: 200\n",
      "급식 데이터 수: 83\n"
     ]
    },
    {
     "name": "stderr",
     "output_type": "stream",
     "text": [
      "고등학교 급식 조회:  85%|█████████████████████████████████████████▋       | 109/128 [00:24<00:04,  4.14it/s]"
     ]
    },
    {
     "name": "stdout",
     "output_type": "stream",
     "text": [
      "1192069 인천해사고등학교\n",
      "급식 정보 조회 중: 날짜=20250618\n"
     ]
    },
    {
     "name": "stderr",
     "output_type": "stream",
     "text": [
      "고등학교 급식 조회:  86%|██████████████████████████████████████████       | 110/128 [00:24<00:04,  3.67it/s]"
     ]
    },
    {
     "name": "stdout",
     "output_type": "stream",
     "text": [
      "mealService 응답코드: 200\n",
      "급식 데이터 수: 69\n",
      "7310349 인천해송고등학교\n",
      "급식 정보 조회 중: 날짜=20250618\n",
      "mealService 응답코드: 200\n",
      "급식 데이터 수: 21\n"
     ]
    },
    {
     "name": "stderr",
     "output_type": "stream",
     "text": [
      "고등학교 급식 조회:  87%|██████████████████████████████████████████▍      | 111/128 [00:25<00:04,  4.12it/s]"
     ]
    },
    {
     "name": "stdout",
     "output_type": "stream",
     "text": [
      "7310109 인천해양과학고등학교\n",
      "급식 정보 조회 중: 날짜=20250618\n",
      "mealService 응답코드: 200\n",
      "급식 데이터 수: 21\n"
     ]
    },
    {
     "name": "stderr",
     "output_type": "stream",
     "text": [
      "고등학교 급식 조회:  88%|██████████████████████████████████████████▉      | 112/128 [00:25<00:03,  4.13it/s]"
     ]
    },
    {
     "name": "stdout",
     "output_type": "stream",
     "text": [
      "7310423 인천해원고등학교\n",
      "급식 정보 조회 중: 날짜=20250618\n",
      "mealService 응답코드: 200\n",
      "급식 데이터 수: 20\n"
     ]
    },
    {
     "name": "stderr",
     "output_type": "stream",
     "text": [
      "고등학교 급식 조회:  88%|███████████████████████████████████████████▎     | 113/128 [00:25<00:03,  4.13it/s]"
     ]
    },
    {
     "name": "stdout",
     "output_type": "stream",
     "text": [
      "7310252 인천효성고등학교\n",
      "급식 정보 조회 중: 날짜=20250618\n",
      "mealService 응답코드: 200\n",
      "급식 데이터 수: 21\n"
     ]
    },
    {
     "name": "stderr",
     "output_type": "stream",
     "text": [
      "고등학교 급식 조회:  90%|████████████████████████████████████████████     | 115/128 [00:26<00:02,  4.44it/s]"
     ]
    },
    {
     "name": "stdout",
     "output_type": "stream",
     "text": [
      "7310479 인평자동차고등학교\n",
      "급식 정보 조회 중: 날짜=20250618\n",
      "mealService 응답코드: 200\n",
      "급식 데이터 수: 20\n",
      "7310085 인하대학교사범대학부속고등학교\n",
      "급식 정보 조회 중: 날짜=20250618\n",
      "mealService 응답코드: 200\n",
      "급식 데이터 수: 40\n"
     ]
    },
    {
     "name": "stderr",
     "output_type": "stream",
     "text": [
      "고등학교 급식 조회:  91%|████████████████████████████████████████████▍    | 116/128 [00:26<00:02,  4.50it/s]"
     ]
    },
    {
     "name": "stdout",
     "output_type": "stream",
     "text": [
      "7310086 인항고등학교\n",
      "급식 정보 조회 중: 날짜=20250618\n",
      "mealService 응답코드: 200\n",
      "급식 데이터 수: 21\n"
     ]
    },
    {
     "name": "stderr",
     "output_type": "stream",
     "text": [
      "고등학교 급식 조회:  92%|█████████████████████████████████████████████▏   | 118/128 [00:26<00:02,  4.77it/s]"
     ]
    },
    {
     "name": "stdout",
     "output_type": "stream",
     "text": [
      "7310063 인화여자고등학교\n",
      "급식 정보 조회 중: 날짜=20250618\n",
      "mealService 응답코드: 200\n",
      "급식 데이터 수: 21\n",
      "7310213 작전고등학교\n",
      "급식 정보 조회 중: 날짜=20250618\n"
     ]
    },
    {
     "name": "stderr",
     "output_type": "stream",
     "text": [
      "고등학교 급식 조회:  93%|█████████████████████████████████████████████▌   | 119/128 [00:26<00:01,  4.89it/s]"
     ]
    },
    {
     "name": "stdout",
     "output_type": "stream",
     "text": [
      "mealService 응답코드: 200\n",
      "급식 데이터 수: 21\n",
      "7310241 작전여자고등학교\n",
      "급식 정보 조회 중: 날짜=20250618\n"
     ]
    },
    {
     "name": "stderr",
     "output_type": "stream",
     "text": [
      "고등학교 급식 조회:  94%|█████████████████████████████████████████████▉   | 120/128 [00:27<00:01,  4.98it/s]"
     ]
    },
    {
     "name": "stdout",
     "output_type": "stream",
     "text": [
      "mealService 응답코드: 200\n",
      "급식 데이터 수: 21\n",
      "7310627 재능고등학교\n",
      "급식 정보 조회 중: 날짜=20250618\n"
     ]
    },
    {
     "name": "stderr",
     "output_type": "stream",
     "text": [
      "고등학교 급식 조회:  95%|██████████████████████████████████████████████▎  | 121/128 [00:27<00:01,  4.89it/s]"
     ]
    },
    {
     "name": "stdout",
     "output_type": "stream",
     "text": [
      "mealService 응답코드: 200\n",
      "급식 데이터 수: 22\n",
      "7310372 정석항공과학고등학교\n",
      "급식 정보 조회 중: 날짜=20250618\n"
     ]
    },
    {
     "name": "stderr",
     "output_type": "stream",
     "text": [
      "고등학교 급식 조회:  95%|██████████████████████████████████████████████▋  | 122/128 [00:27<00:01,  4.93it/s]"
     ]
    },
    {
     "name": "stdout",
     "output_type": "stream",
     "text": [
      "mealService 응답코드: 200\n",
      "급식 데이터 수: 21\n",
      "7310064 제물포고등학교\n",
      "급식 정보 조회 중: 날짜=20250618\n"
     ]
    },
    {
     "name": "stderr",
     "output_type": "stream",
     "text": [
      "고등학교 급식 조회:  96%|███████████████████████████████████████████████  | 123/128 [00:27<00:01,  4.57it/s]"
     ]
    },
    {
     "name": "stdout",
     "output_type": "stream",
     "text": [
      "mealService 응답코드: 200\n",
      "급식 데이터 수: 20\n",
      "7310246 제일고등학교\n",
      "급식 정보 조회 중: 날짜=20250618\n"
     ]
    },
    {
     "name": "stderr",
     "output_type": "stream",
     "text": [
      "고등학교 급식 조회:  97%|███████████████████████████████████████████████▍ | 124/128 [00:27<00:00,  4.73it/s]"
     ]
    },
    {
     "name": "stdout",
     "output_type": "stream",
     "text": [
      "mealService 응답코드: 200\n",
      "급식 데이터 수: 21\n",
      "7310065 학익고등학교\n",
      "급식 정보 조회 중: 날짜=20250618\n",
      "mealService 응답코드: 200\n",
      "급식 데이터 수: 21\n"
     ]
    },
    {
     "name": "stderr",
     "output_type": "stream",
     "text": [
      "고등학교 급식 조회:  98%|███████████████████████████████████████████████▊ | 125/128 [00:28<00:00,  4.79it/s]"
     ]
    },
    {
     "name": "stdout",
     "output_type": "stream",
     "text": [
      "7310066 학익여자고등학교\n",
      "급식 정보 조회 중: 날짜=20250618\n",
      "mealService 응답코드: 200\n",
      "급식 데이터 수: 21\n"
     ]
    },
    {
     "name": "stderr",
     "output_type": "stream",
     "text": [
      "고등학교 급식 조회:  98%|████████████████████████████████████████████████▏| 126/128 [00:28<00:00,  4.79it/s]"
     ]
    },
    {
     "name": "stdout",
     "output_type": "stream",
     "text": [
      "7310601 한국글로벌셰프고등학교\n",
      "급식 정보 조회 중: 날짜=20250618\n",
      "mealService 응답코드: 200\n",
      "급식 데이터 수: 51\n"
     ]
    },
    {
     "name": "stderr",
     "output_type": "stream",
     "text": [
      "고등학교 급식 조회:  99%|████████████████████████████████████████████████▌| 127/128 [00:28<00:00,  4.52it/s]"
     ]
    },
    {
     "name": "stdout",
     "output_type": "stream",
     "text": [
      "7310454 한국주얼리고등학교\n",
      "급식 정보 조회 중: 날짜=20250618\n",
      "mealService 응답코드: 200\n",
      "급식 데이터 수: 5\n"
     ]
    },
    {
     "name": "stderr",
     "output_type": "stream",
     "text": [
      "고등학교 급식 조회: 100%|█████████████████████████████████████████████████| 128/128 [00:28<00:00,  4.45it/s]\n"
     ]
    },
    {
     "name": "stdout",
     "output_type": "stream",
     "text": [
      "수집된 급식 행 수: 16755\n",
      "수집된 전체 급식 행 수: 16755\n",
      "  교육청코드     학교코드     학교명      급식일자 식사명  \\\n",
      "0   B10  7010057  가락고등학교  20250519  중식   \n",
      "1   B10  7010057  가락고등학교  20250520  중식   \n",
      "2   B10  7010057  가락고등학교  20250521  중식   \n",
      "3   B10  7010057  가락고등학교  20250522  중식   \n",
      "4   B10  7010057  가락고등학교  20250523  중식   \n",
      "\n",
      "                                                급식식단  \n",
      "0  쌀밥 <br/>소고기미역국 (2.5.6.15.16.18)<br/>돼지갈비찜 (5.6...  \n",
      "1  쇠고기콩나물밥 (5.6.16)<br/>물만두국 (1.2.5.6.10.15.16.18...  \n",
      "2  새우볶음밥 (1.5.6.8.9.13.18)<br/>씨앗호떡파이 (1.2.3.5.6)...  \n",
      "3  쌀밥 <br/>볶음우동 (5.6.8.9.13.15.17.18)<br/>zero초코파...  \n",
      "4  현미밥 <br/>어묵국 (1.2.5.6.15.16.18)<br/>마라찜닭 (5.6....  \n",
      "응답코드 : 200\n"
     ]
    },
    {
     "name": "stderr",
     "output_type": "stream",
     "text": [
      "고등학교 급식 조회:   0%|                                                            | 0/71 [00:00<?, ?it/s]"
     ]
    },
    {
     "name": "stdout",
     "output_type": "stream",
     "text": [
      "7380041 고려고등학교\n",
      "급식 정보 조회 중: 날짜=20250618\n",
      "mealService 응답코드: 200\n",
      "급식 데이터 수: 49\n"
     ]
    },
    {
     "name": "stderr",
     "output_type": "stream",
     "text": [
      "고등학교 급식 조회:   1%|▋                                                   | 1/71 [00:00<00:17,  3.99it/s]"
     ]
    },
    {
     "name": "stdout",
     "output_type": "stream",
     "text": [
      "7380042 광덕고등학교\n",
      "급식 정보 조회 중: 날짜=20250618\n",
      "mealService 응답코드: 200\n",
      "급식 데이터 수: 45\n"
     ]
    },
    {
     "name": "stderr",
     "output_type": "stream",
     "text": [
      "고등학교 급식 조회:   3%|█▍                                                  | 2/71 [00:00<00:17,  4.05it/s]"
     ]
    },
    {
     "name": "stdout",
     "output_type": "stream",
     "text": [
      "7380047 광일고등학교\n",
      "급식 정보 조회 중: 날짜=20250618\n",
      "mealService 응답코드: 200\n",
      "급식 데이터 수: 38\n"
     ]
    },
    {
     "name": "stderr",
     "output_type": "stream",
     "text": [
      "고등학교 급식 조회:   4%|██▏                                                 | 3/71 [00:00<00:16,  4.03it/s]"
     ]
    },
    {
     "name": "stdout",
     "output_type": "stream",
     "text": [
      "7380048 광주경신여자고등학교\n",
      "급식 정보 조회 중: 날짜=20250618\n",
      "mealService 응답코드: 200\n",
      "급식 데이터 수: 41\n"
     ]
    },
    {
     "name": "stderr",
     "output_type": "stream",
     "text": [
      "고등학교 급식 조회:   6%|██▉                                                 | 4/71 [00:01<00:17,  3.89it/s]"
     ]
    },
    {
     "name": "stdout",
     "output_type": "stream",
     "text": [
      "7380030 광주고등학교\n",
      "급식 정보 조회 중: 날짜=20250618\n"
     ]
    },
    {
     "name": "stderr",
     "output_type": "stream",
     "text": [
      "고등학교 급식 조회:   7%|███▋                                                | 5/71 [00:01<00:18,  3.63it/s]"
     ]
    },
    {
     "name": "stdout",
     "output_type": "stream",
     "text": [
      "mealService 응답코드: 200\n",
      "급식 데이터 수: 62\n",
      "7380146 광주공업고등학교\n",
      "급식 정보 조회 중: 날짜=20250618\n"
     ]
    },
    {
     "name": "stderr",
     "output_type": "stream",
     "text": [
      "고등학교 급식 조회:   8%|████▍                                               | 6/71 [00:01<00:16,  3.92it/s]"
     ]
    },
    {
     "name": "stdout",
     "output_type": "stream",
     "text": [
      "mealService 응답코드: 200\n",
      "급식 데이터 수: 39\n",
      "7380031 광주과학고등학교\n",
      "급식 정보 조회 중: 날짜=20250618\n"
     ]
    },
    {
     "name": "stderr",
     "output_type": "stream",
     "text": [
      "고등학교 급식 조회:  10%|█████▏                                              | 7/71 [00:01<00:17,  3.65it/s]"
     ]
    },
    {
     "name": "stdout",
     "output_type": "stream",
     "text": [
      "mealService 응답코드: 200\n",
      "급식 데이터 수: 79\n",
      "7380049 광주대동고등학교\n",
      "급식 정보 조회 중: 날짜=20250618\n"
     ]
    },
    {
     "name": "stderr",
     "output_type": "stream",
     "text": [
      "고등학교 급식 조회:  11%|█████▊                                              | 8/71 [00:02<00:17,  3.67it/s]"
     ]
    },
    {
     "name": "stdout",
     "output_type": "stream",
     "text": [
      "mealService 응답코드: 200\n",
      "급식 데이터 수: 48\n",
      "7380127 광주동성고등학교\n",
      "급식 정보 조회 중: 날짜=20250618\n"
     ]
    },
    {
     "name": "stderr",
     "output_type": "stream",
     "text": [
      "고등학교 급식 조회:  13%|██████▌                                             | 9/71 [00:02<00:16,  3.66it/s]"
     ]
    },
    {
     "name": "stdout",
     "output_type": "stream",
     "text": [
      "mealService 응답코드: 200\n",
      "급식 데이터 수: 40\n",
      "7380050 광주동신고등학교\n",
      "급식 정보 조회 중: 날짜=20250618\n"
     ]
    },
    {
     "name": "stderr",
     "output_type": "stream",
     "text": [
      "고등학교 급식 조회:  14%|███████▏                                           | 10/71 [00:02<00:16,  3.73it/s]"
     ]
    },
    {
     "name": "stdout",
     "output_type": "stream",
     "text": [
      "mealService 응답코드: 200\n",
      "급식 데이터 수: 41\n",
      "7380051 광주동신여자고등학교\n",
      "급식 정보 조회 중: 날짜=20250618\n"
     ]
    },
    {
     "name": "stderr",
     "output_type": "stream",
     "text": [
      "고등학교 급식 조회:  15%|███████▉                                           | 11/71 [00:02<00:15,  3.96it/s]"
     ]
    },
    {
     "name": "stdout",
     "output_type": "stream",
     "text": [
      "mealService 응답코드: 200\n",
      "급식 데이터 수: 41\n",
      "7380053 광주서석고등학교\n",
      "급식 정보 조회 중: 날짜=20250618\n"
     ]
    },
    {
     "name": "stderr",
     "output_type": "stream",
     "text": [
      "고등학교 급식 조회:  17%|████████▌                                          | 12/71 [00:03<00:14,  3.98it/s]"
     ]
    },
    {
     "name": "stdout",
     "output_type": "stream",
     "text": [
      "mealService 응답코드: 200\n",
      "급식 데이터 수: 48\n",
      "7380054 광주석산고등학교\n",
      "급식 정보 조회 중: 날짜=20250618\n"
     ]
    },
    {
     "name": "stderr",
     "output_type": "stream",
     "text": [
      "고등학교 급식 조회:  18%|█████████▎                                         | 13/71 [00:03<00:14,  4.00it/s]"
     ]
    },
    {
     "name": "stdout",
     "output_type": "stream",
     "text": [
      "mealService 응답코드: 200\n",
      "급식 데이터 수: 41\n",
      "7380292 광주소프트웨어마이스터고등학교\n",
      "급식 정보 조회 중: 날짜=20250618\n"
     ]
    },
    {
     "name": "stderr",
     "output_type": "stream",
     "text": [
      "고등학교 급식 조회:  20%|██████████                                         | 14/71 [00:03<00:14,  3.98it/s]"
     ]
    },
    {
     "name": "stdout",
     "output_type": "stream",
     "text": [
      "mealService 응답코드: 200\n",
      "급식 데이터 수: 57\n",
      "7380055 광주수피아여자고등학교\n",
      "급식 정보 조회 중: 날짜=20250618\n"
     ]
    },
    {
     "name": "stderr",
     "output_type": "stream",
     "text": [
      "고등학교 급식 조회:  21%|██████████▊                                        | 15/71 [00:03<00:13,  4.03it/s]"
     ]
    },
    {
     "name": "stdout",
     "output_type": "stream",
     "text": [
      "mealService 응답코드: 200\n",
      "급식 데이터 수: 40\n",
      "7380056 광주숭일고등학교\n",
      "급식 정보 조회 중: 날짜=20250618\n"
     ]
    },
    {
     "name": "stderr",
     "output_type": "stream",
     "text": [
      "고등학교 급식 조회:  23%|███████████▍                                       | 16/71 [00:04<00:13,  4.14it/s]"
     ]
    },
    {
     "name": "stdout",
     "output_type": "stream",
     "text": [
      "mealService 응답코드: 200\n",
      "급식 데이터 수: 47\n",
      "7380032 광주여자고등학교\n",
      "급식 정보 조회 중: 날짜=20250618\n"
     ]
    },
    {
     "name": "stderr",
     "output_type": "stream",
     "text": [
      "고등학교 급식 조회:  24%|████████████▏                                      | 17/71 [00:04<00:13,  4.11it/s]"
     ]
    },
    {
     "name": "stdout",
     "output_type": "stream",
     "text": [
      "mealService 응답코드: 200\n",
      "급식 데이터 수: 37\n",
      "7380091 광주여자상업고등학교\n",
      "급식 정보 조회 중: 날짜=20250618\n",
      "mealService 응답코드: 200\n",
      "급식 데이터 수: 32\n"
     ]
    },
    {
     "name": "stderr",
     "output_type": "stream",
     "text": [
      "고등학교 급식 조회:  25%|████████████▉                                      | 18/71 [00:04<00:12,  4.33it/s]"
     ]
    },
    {
     "name": "stdout",
     "output_type": "stream",
     "text": [
      "7380033 광주예술고등학교\n",
      "급식 정보 조회 중: 날짜=20250618\n",
      "mealService 응답코드: 200\n",
      "급식 데이터 수: 21\n"
     ]
    },
    {
     "name": "stderr",
     "output_type": "stream",
     "text": [
      "고등학교 급식 조회:  27%|█████████████▋                                     | 19/71 [00:04<00:11,  4.44it/s]"
     ]
    },
    {
     "name": "stdout",
     "output_type": "stream",
     "text": [
      "7380057 광주인성고등학교\n",
      "급식 정보 조회 중: 날짜=20250618\n",
      "mealService 응답코드: 200\n",
      "급식 데이터 수: 41\n"
     ]
    },
    {
     "name": "stderr",
     "output_type": "stream",
     "text": [
      "고등학교 급식 조회:  28%|██████████████▎                                    | 20/71 [00:04<00:11,  4.52it/s]"
     ]
    },
    {
     "name": "stdout",
     "output_type": "stream",
     "text": [
      "7380353 광주자동화설비마이스터고등학교\n",
      "급식 정보 조회 중: 날짜=20250618\n",
      "mealService 응답코드: 200\n",
      "급식 데이터 수: 48\n"
     ]
    },
    {
     "name": "stderr",
     "output_type": "stream",
     "text": [
      "고등학교 급식 조회:  30%|███████████████                                    | 21/71 [00:05<00:10,  4.57it/s]"
     ]
    },
    {
     "name": "stdout",
     "output_type": "stream",
     "text": [
      "7380128 광주자연과학고등학교\n",
      "급식 정보 조회 중: 날짜=20250618\n",
      "mealService 응답코드: 200\n",
      "급식 데이터 수: 20\n"
     ]
    },
    {
     "name": "stderr",
     "output_type": "stream",
     "text": [
      "고등학교 급식 조회:  32%|████████████████▌                                  | 23/71 [00:05<00:10,  4.66it/s]"
     ]
    },
    {
     "name": "stdout",
     "output_type": "stream",
     "text": [
      "7380083 광주전자공업고등학교\n",
      "급식 정보 조회 중: 날짜=20250618\n",
      "mealService 응답코드: 200\n",
      "급식 데이터 수: 20\n",
      "7380034 광주제일고등학교\n",
      "급식 정보 조회 중: 날짜=20250618\n",
      "mealService 응답코드: 200\n",
      "급식 데이터 수: 41\n"
     ]
    },
    {
     "name": "stderr",
     "output_type": "stream",
     "text": [
      "고등학교 급식 조회:  34%|█████████████████▏                                 | 24/71 [00:05<00:10,  4.55it/s]"
     ]
    },
    {
     "name": "stdout",
     "output_type": "stream",
     "text": [
      "7380059 광주진흥고등학교\n",
      "급식 정보 조회 중: 날짜=20250618\n"
     ]
    },
    {
     "name": "stderr",
     "output_type": "stream",
     "text": [
      "고등학교 급식 조회:  35%|█████████████████▉                                 | 25/71 [00:06<00:12,  3.81it/s]"
     ]
    },
    {
     "name": "stdout",
     "output_type": "stream",
     "text": [
      "mealService 응답코드: 200\n",
      "급식 데이터 수: 45\n",
      "7380035 광주체육고등학교\n",
      "급식 정보 조회 중: 날짜=20250618\n"
     ]
    },
    {
     "name": "stderr",
     "output_type": "stream",
     "text": [
      "고등학교 급식 조회:  37%|██████████████████▋                                | 26/71 [00:06<00:13,  3.24it/s]"
     ]
    },
    {
     "name": "stdout",
     "output_type": "stream",
     "text": [
      "mealService 응답코드: 200\n",
      "급식 데이터 수: 58\n",
      "7380291 광주푸른꿈창작학교\n",
      "급식 정보 조회 중: 날짜=20250618\n"
     ]
    },
    {
     "name": "stderr",
     "output_type": "stream",
     "text": [
      "고등학교 급식 조회:  38%|███████████████████▍                               | 27/71 [00:06<00:12,  3.47it/s]"
     ]
    },
    {
     "name": "stdout",
     "output_type": "stream",
     "text": [
      "mealService 응답코드: 200\n",
      "급식 데이터 수: 21\n",
      "7380060 국제고등학교\n",
      "급식 정보 조회 중: 날짜=20250618\n"
     ]
    },
    {
     "name": "stderr",
     "output_type": "stream",
     "text": [
      "고등학교 급식 조회:  39%|████████████████████                               | 28/71 [00:07<00:12,  3.38it/s]"
     ]
    },
    {
     "name": "stdout",
     "output_type": "stream",
     "text": [
      "mealService 응답코드: 200\n",
      "급식 데이터 수: 41\n",
      "7380094 금파공업고등학교\n",
      "급식 정보 조회 중: 날짜=20250618\n"
     ]
    },
    {
     "name": "stderr",
     "output_type": "stream",
     "text": [
      "고등학교 급식 조회:  41%|████████████████████▊                              | 29/71 [00:07<00:11,  3.67it/s]"
     ]
    },
    {
     "name": "stdout",
     "output_type": "stream",
     "text": [
      "mealService 응답코드: 200\n",
      "급식 데이터 수: 21\n",
      "7380061 금호고등학교\n",
      "급식 정보 조회 중: 날짜=20250618\n"
     ]
    },
    {
     "name": "stderr",
     "output_type": "stream",
     "text": [
      "고등학교 급식 조회:  42%|█████████████████████▌                             | 30/71 [00:07<00:11,  3.64it/s]"
     ]
    },
    {
     "name": "stdout",
     "output_type": "stream",
     "text": [
      "mealService 응답코드: 200\n",
      "급식 데이터 수: 44\n",
      "7380278 금호중앙여자고등학교\n",
      "급식 정보 조회 중: 날짜=20250618\n"
     ]
    },
    {
     "name": "stderr",
     "output_type": "stream",
     "text": [
      "고등학교 급식 조회:  44%|██████████████████████▎                            | 31/71 [00:07<00:10,  3.80it/s]"
     ]
    },
    {
     "name": "stdout",
     "output_type": "stream",
     "text": [
      "mealService 응답코드: 200\n",
      "급식 데이터 수: 41\n",
      "7380062 대광여자고등학교\n",
      "급식 정보 조회 중: 날짜=20250618\n"
     ]
    },
    {
     "name": "stderr",
     "output_type": "stream",
     "text": [
      "고등학교 급식 조회:  45%|██████████████████████▉                            | 32/71 [00:08<00:09,  3.99it/s]"
     ]
    },
    {
     "name": "stdout",
     "output_type": "stream",
     "text": [
      "mealService 응답코드: 200\n",
      "급식 데이터 수: 37\n",
      "7380063 대성여자고등학교\n",
      "급식 정보 조회 중: 날짜=20250618\n"
     ]
    },
    {
     "name": "stderr",
     "output_type": "stream",
     "text": [
      "고등학교 급식 조회:  46%|███████████████████████▋                           | 33/71 [00:08<00:09,  4.12it/s]"
     ]
    },
    {
     "name": "stdout",
     "output_type": "stream",
     "text": [
      "mealService 응답코드: 200\n",
      "급식 데이터 수: 41\n",
      "7380187 돈보스코학교\n",
      "급식 정보 조회 중: 날짜=20250618\n"
     ]
    },
    {
     "name": "stderr",
     "output_type": "stream",
     "text": [
      "고등학교 급식 조회:  48%|████████████████████████▍                          | 34/71 [00:08<00:08,  4.21it/s]"
     ]
    },
    {
     "name": "stdout",
     "output_type": "stream",
     "text": [
      "mealService 응답코드: 200\n",
      "급식 데이터 수: 19\n",
      "7380131 동명고등학교\n",
      "급식 정보 조회 중: 날짜=20250618\n"
     ]
    },
    {
     "name": "stderr",
     "output_type": "stream",
     "text": [
      "고등학교 급식 조회:  49%|█████████████████████████▏                         | 35/71 [00:08<00:08,  4.20it/s]"
     ]
    },
    {
     "name": "stdout",
     "output_type": "stream",
     "text": [
      "mealService 응답코드: 200\n",
      "급식 데이터 수: 59\n",
      "7380064 동아여자고등학교\n",
      "급식 정보 조회 중: 날짜=20250618\n"
     ]
    },
    {
     "name": "stderr",
     "output_type": "stream",
     "text": [
      "고등학교 급식 조회:  51%|█████████████████████████▊                         | 36/71 [00:09<00:08,  4.26it/s]"
     ]
    },
    {
     "name": "stdout",
     "output_type": "stream",
     "text": [
      "mealService 응답코드: 200\n",
      "급식 데이터 수: 41\n",
      "7380290 동일미래과학고등학교\n",
      "급식 정보 조회 중: 날짜=20250618\n"
     ]
    },
    {
     "name": "stderr",
     "output_type": "stream",
     "text": [
      "고등학교 급식 조회:  52%|██████████████████████████▌                        | 37/71 [00:09<00:07,  4.35it/s]"
     ]
    },
    {
     "name": "stdout",
     "output_type": "stream",
     "text": [
      "mealService 응답코드: 200\n",
      "급식 데이터 수: 21\n",
      "7380273 명진고등학교\n",
      "급식 정보 조회 중: 날짜=20250618\n"
     ]
    },
    {
     "name": "stderr",
     "output_type": "stream",
     "text": [
      "고등학교 급식 조회:  54%|███████████████████████████▎                       | 38/71 [00:09<00:07,  4.25it/s]"
     ]
    },
    {
     "name": "stdout",
     "output_type": "stream",
     "text": [
      "mealService 응답코드: 200\n",
      "급식 데이터 수: 21\n",
      "7380065 문성고등학교\n",
      "급식 정보 조회 중: 날짜=20250618\n"
     ]
    },
    {
     "name": "stderr",
     "output_type": "stream",
     "text": [
      "고등학교 급식 조회:  55%|████████████████████████████                       | 39/71 [00:09<00:07,  4.32it/s]"
     ]
    },
    {
     "name": "stdout",
     "output_type": "stream",
     "text": [
      "mealService 응답코드: 200\n",
      "급식 데이터 수: 42\n",
      "7380180 문정여자고등학교\n",
      "급식 정보 조회 중: 날짜=20250618\n"
     ]
    },
    {
     "name": "stderr",
     "output_type": "stream",
     "text": [
      "고등학교 급식 조회:  56%|████████████████████████████▋                      | 40/71 [00:09<00:07,  4.20it/s]"
     ]
    },
    {
     "name": "stdout",
     "output_type": "stream",
     "text": [
      "mealService 응답코드: 200\n",
      "급식 데이터 수: 37\n",
      "7380148 보문고등학교\n",
      "급식 정보 조회 중: 날짜=20250618\n"
     ]
    },
    {
     "name": "stderr",
     "output_type": "stream",
     "text": [
      "고등학교 급식 조회:  58%|█████████████████████████████▍                     | 41/71 [00:10<00:07,  4.20it/s]"
     ]
    },
    {
     "name": "stdout",
     "output_type": "stream",
     "text": [
      "mealService 응답코드: 200\n",
      "급식 데이터 수: 41\n",
      "7380326 비아고등학교\n",
      "급식 정보 조회 중: 날짜=20250618\n"
     ]
    },
    {
     "name": "stderr",
     "output_type": "stream",
     "text": [
      "고등학교 급식 조회:  59%|██████████████████████████████▏                    | 42/71 [00:10<00:07,  3.90it/s]"
     ]
    },
    {
     "name": "stdout",
     "output_type": "stream",
     "text": [
      "mealService 응답코드: 200\n",
      "급식 데이터 수: 35\n",
      "7380196 빛고을고등학교\n",
      "급식 정보 조회 중: 날짜=20250618\n"
     ]
    },
    {
     "name": "stderr",
     "output_type": "stream",
     "text": [
      "고등학교 급식 조회:  61%|██████████████████████████████▉                    | 43/71 [00:10<00:06,  4.09it/s]"
     ]
    },
    {
     "name": "stdout",
     "output_type": "stream",
     "text": [
      "mealService 응답코드: 200\n",
      "급식 데이터 수: 37\n",
      "7380067 살레시오고등학교\n",
      "급식 정보 조회 중: 날짜=20250618\n"
     ]
    },
    {
     "name": "stderr",
     "output_type": "stream",
     "text": [
      "고등학교 급식 조회:  62%|███████████████████████████████▌                   | 44/71 [00:11<00:07,  3.85it/s]"
     ]
    },
    {
     "name": "stdout",
     "output_type": "stream",
     "text": [
      "mealService 응답코드: 200\n",
      "급식 데이터 수: 44\n",
      "7380068 살레시오여자고등학교\n",
      "급식 정보 조회 중: 날짜=20250618\n"
     ]
    },
    {
     "name": "stderr",
     "output_type": "stream",
     "text": [
      "고등학교 급식 조회:  63%|████████████████████████████████▎                  | 45/71 [00:11<00:07,  3.59it/s]"
     ]
    },
    {
     "name": "stdout",
     "output_type": "stream",
     "text": [
      "mealService 응답코드: 200\n",
      "급식 데이터 수: 37\n",
      "7380132 상무고등학교\n",
      "급식 정보 조회 중: 날짜=20250618\n"
     ]
    },
    {
     "name": "stderr",
     "output_type": "stream",
     "text": [
      "고등학교 급식 조회:  65%|█████████████████████████████████                  | 46/71 [00:11<00:09,  2.69it/s]"
     ]
    },
    {
     "name": "stdout",
     "output_type": "stream",
     "text": [
      "mealService 응답코드: 200\n",
      "급식 데이터 수: 37\n",
      "7380177 상일여자고등학교\n",
      "급식 정보 조회 중: 날짜=20250618\n"
     ]
    },
    {
     "name": "stderr",
     "output_type": "stream",
     "text": [
      "고등학교 급식 조회:  66%|█████████████████████████████████▊                 | 47/71 [00:12<00:08,  2.84it/s]"
     ]
    },
    {
     "name": "stdout",
     "output_type": "stream",
     "text": [
      "mealService 응답코드: 200\n",
      "급식 데이터 수: 40\n",
      "7380258 새날학교\n",
      "급식 정보 조회 중: 날짜=20250618\n"
     ]
    },
    {
     "name": "stderr",
     "output_type": "stream",
     "text": [
      "고등학교 급식 조회:  68%|██████████████████████████████████▍                | 48/71 [00:12<00:07,  3.12it/s]"
     ]
    },
    {
     "name": "stdout",
     "output_type": "stream",
     "text": [
      "mealService 응답코드: 200\n",
      "급식 데이터 수: 21\n",
      "7380069 서강고등학교\n",
      "급식 정보 조회 중: 날짜=20250618\n"
     ]
    },
    {
     "name": "stderr",
     "output_type": "stream",
     "text": [
      "고등학교 급식 조회:  69%|███████████████████████████████████▏               | 49/71 [00:12<00:06,  3.16it/s]"
     ]
    },
    {
     "name": "stdout",
     "output_type": "stream",
     "text": [
      "mealService 응답코드: 200\n",
      "급식 데이터 수: 34\n",
      "7380149 서진여자고등학교\n",
      "급식 정보 조회 중: 날짜=20250618\n"
     ]
    },
    {
     "name": "stderr",
     "output_type": "stream",
     "text": [
      "고등학교 급식 조회:  70%|███████████████████████████████████▉               | 50/71 [00:13<00:06,  3.46it/s]"
     ]
    },
    {
     "name": "stdout",
     "output_type": "stream",
     "text": [
      "mealService 응답코드: 200\n",
      "급식 데이터 수: 21\n",
      "7380073 설월여자고등학교\n",
      "급식 정보 조회 중: 날짜=20250618\n"
     ]
    },
    {
     "name": "stderr",
     "output_type": "stream",
     "text": [
      "고등학교 급식 조회:  72%|████████████████████████████████████▋              | 51/71 [00:13<00:05,  3.47it/s]"
     ]
    },
    {
     "name": "stdout",
     "output_type": "stream",
     "text": [
      "mealService 응답코드: 200\n",
      "급식 데이터 수: 37\n",
      "7380260 성덕고등학교\n",
      "급식 정보 조회 중: 날짜=20250618\n"
     ]
    },
    {
     "name": "stderr",
     "output_type": "stream",
     "text": [
      "고등학교 급식 조회:  73%|█████████████████████████████████████▎             | 52/71 [00:13<00:05,  3.66it/s]"
     ]
    },
    {
     "name": "stdout",
     "output_type": "stream",
     "text": [
      "mealService 응답코드: 200\n",
      "급식 데이터 수: 37\n",
      "7380070 송원고등학교\n",
      "급식 정보 조회 중: 날짜=20250618\n"
     ]
    },
    {
     "name": "stderr",
     "output_type": "stream",
     "text": [
      "고등학교 급식 조회:  75%|██████████████████████████████████████             | 53/71 [00:13<00:05,  3.32it/s]"
     ]
    },
    {
     "name": "stdout",
     "output_type": "stream",
     "text": [
      "mealService 응답코드: 200\n",
      "급식 데이터 수: 41\n",
      "7380071 송원여자고등학교\n",
      "급식 정보 조회 중: 날짜=20250618\n"
     ]
    },
    {
     "name": "stderr",
     "output_type": "stream",
     "text": [
      "고등학교 급식 조회:  76%|██████████████████████████████████████▊            | 54/71 [00:14<00:05,  3.20it/s]"
     ]
    },
    {
     "name": "stdout",
     "output_type": "stream",
     "text": [
      "mealService 응답코드: 200\n",
      "급식 데이터 수: 41\n",
      "7380158 송원여자상업고등학교\n",
      "급식 정보 조회 중: 날짜=20250618\n"
     ]
    },
    {
     "name": "stderr",
     "output_type": "stream",
     "text": [
      "고등학교 급식 조회:  77%|███████████████████████████████████████▌           | 55/71 [00:14<00:04,  3.26it/s]"
     ]
    },
    {
     "name": "stdout",
     "output_type": "stream",
     "text": [
      "mealService 응답코드: 200\n",
      "급식 데이터 수: 21\n",
      "7380182 수완고등학교\n",
      "급식 정보 조회 중: 날짜=20250618\n"
     ]
    },
    {
     "name": "stderr",
     "output_type": "stream",
     "text": [
      "고등학교 급식 조회:  79%|████████████████████████████████████████▏          | 56/71 [00:14<00:04,  3.28it/s]"
     ]
    },
    {
     "name": "stdout",
     "output_type": "stream",
     "text": [
      "mealService 응답코드: 200\n",
      "급식 데이터 수: 41\n",
      "7380072 숭덕고등학교\n",
      "급식 정보 조회 중: 날짜=20250618\n"
     ]
    },
    {
     "name": "stderr",
     "output_type": "stream",
     "text": [
      "고등학교 급식 조회:  80%|████████████████████████████████████████▉          | 57/71 [00:15<00:04,  3.01it/s]"
     ]
    },
    {
     "name": "stdout",
     "output_type": "stream",
     "text": [
      "mealService 응답코드: 200\n",
      "급식 데이터 수: 50\n",
      "7380321 숭의과학기술고등학교\n",
      "급식 정보 조회 중: 날짜=20250618\n"
     ]
    },
    {
     "name": "stderr",
     "output_type": "stream",
     "text": [
      "고등학교 급식 조회:  82%|█████████████████████████████████████████▋         | 58/71 [00:15<00:04,  3.09it/s]"
     ]
    },
    {
     "name": "stdout",
     "output_type": "stream",
     "text": [
      "mealService 응답코드: 200\n",
      "급식 데이터 수: 21\n",
      "7380147 운남고등학교\n",
      "급식 정보 조회 중: 날짜=20250618\n"
     ]
    },
    {
     "name": "stderr",
     "output_type": "stream",
     "text": [
      "고등학교 급식 조회:  83%|██████████████████████████████████████████▍        | 59/71 [00:15<00:04,  2.89it/s]"
     ]
    },
    {
     "name": "stdout",
     "output_type": "stream",
     "text": [
      "mealService 응답코드: 200\n",
      "급식 데이터 수: 35\n",
      "7380181 장덕고등학교\n",
      "급식 정보 조회 중: 날짜=20250618\n"
     ]
    },
    {
     "name": "stderr",
     "output_type": "stream",
     "text": [
      "고등학교 급식 조회:  85%|███████████████████████████████████████████        | 60/71 [00:16<00:03,  2.98it/s]"
     ]
    },
    {
     "name": "stdout",
     "output_type": "stream",
     "text": [
      "mealService 응답코드: 200\n",
      "급식 데이터 수: 35\n",
      "7380037 전남고등학교\n",
      "급식 정보 조회 중: 날짜=20250618\n"
     ]
    },
    {
     "name": "stderr",
     "output_type": "stream",
     "text": [
      "고등학교 급식 조회:  86%|███████████████████████████████████████████▊       | 61/71 [00:16<00:03,  2.87it/s]"
     ]
    },
    {
     "name": "stdout",
     "output_type": "stream",
     "text": [
      "mealService 응답코드: 200\n",
      "급식 데이터 수: 41\n",
      "7380086 전남공업고등학교\n",
      "급식 정보 조회 중: 날짜=20250618\n"
     ]
    },
    {
     "name": "stderr",
     "output_type": "stream",
     "text": [
      "고등학교 급식 조회:  87%|████████████████████████████████████████████▌      | 62/71 [00:16<00:03,  2.90it/s]"
     ]
    },
    {
     "name": "stdout",
     "output_type": "stream",
     "text": [
      "mealService 응답코드: 200\n",
      "급식 데이터 수: 20\n",
      "7380029 전남대학교사범대학부설고등학교\n",
      "급식 정보 조회 중: 날짜=20250618\n"
     ]
    },
    {
     "name": "stderr",
     "output_type": "stream",
     "text": [
      "고등학교 급식 조회:  89%|█████████████████████████████████████████████▎     | 63/71 [00:17<00:02,  3.01it/s]"
     ]
    },
    {
     "name": "stdout",
     "output_type": "stream",
     "text": [
      "mealService 응답코드: 200\n",
      "급식 데이터 수: 34\n",
      "7380039 전남여자고등학교\n",
      "급식 정보 조회 중: 날짜=20250618\n"
     ]
    },
    {
     "name": "stderr",
     "output_type": "stream",
     "text": [
      "고등학교 급식 조회:  90%|█████████████████████████████████████████████▉     | 64/71 [00:17<00:02,  3.00it/s]"
     ]
    },
    {
     "name": "stdout",
     "output_type": "stream",
     "text": [
      "mealService 응답코드: 200\n",
      "급식 데이터 수: 36\n",
      "7380097 전남여자상업고등학교\n",
      "급식 정보 조회 중: 날짜=20250618\n"
     ]
    },
    {
     "name": "stderr",
     "output_type": "stream",
     "text": [
      "고등학교 급식 조회:  92%|██████████████████████████████████████████████▋    | 65/71 [00:17<00:01,  3.06it/s]"
     ]
    },
    {
     "name": "stdout",
     "output_type": "stream",
     "text": [
      "mealService 응답코드: 200\n",
      "급식 데이터 수: 36\n",
      "7380075 정광고등학교\n",
      "급식 정보 조회 중: 날짜=20250618\n"
     ]
    },
    {
     "name": "stderr",
     "output_type": "stream",
     "text": [
      "고등학교 급식 조회:  93%|███████████████████████████████████████████████▍   | 66/71 [00:18<00:01,  3.07it/s]"
     ]
    },
    {
     "name": "stdout",
     "output_type": "stream",
     "text": [
      "mealService 응답코드: 200\n",
      "급식 데이터 수: 42\n",
      "7380076 조선대학교부속고등학교\n",
      "급식 정보 조회 중: 날짜=20250618\n"
     ]
    },
    {
     "name": "stderr",
     "output_type": "stream",
     "text": [
      "고등학교 급식 조회:  94%|████████████████████████████████████████████████▏  | 67/71 [00:18<00:01,  3.32it/s]"
     ]
    },
    {
     "name": "stdout",
     "output_type": "stream",
     "text": [
      "mealService 응답코드: 200\n",
      "급식 데이터 수: 44\n",
      "7380077 조선대학교여자고등학교\n",
      "급식 정보 조회 중: 날짜=20250618\n"
     ]
    },
    {
     "name": "stderr",
     "output_type": "stream",
     "text": [
      "고등학교 급식 조회:  96%|████████████████████████████████████████████████▊  | 68/71 [00:18<00:00,  3.33it/s]"
     ]
    },
    {
     "name": "stdout",
     "output_type": "stream",
     "text": [
      "mealService 응답코드: 200\n",
      "급식 데이터 수: 38\n",
      "7380153 첨단고등학교\n",
      "급식 정보 조회 중: 날짜=20250618\n"
     ]
    },
    {
     "name": "stderr",
     "output_type": "stream",
     "text": [
      "고등학교 급식 조회:  97%|█████████████████████████████████████████████████▌ | 69/71 [00:19<00:00,  3.39it/s]"
     ]
    },
    {
     "name": "stdout",
     "output_type": "stream",
     "text": [
      "mealService 응답코드: 200\n",
      "급식 데이터 수: 35\n",
      "7380145 풍암고등학교\n",
      "급식 정보 조회 중: 날짜=20250618\n"
     ]
    },
    {
     "name": "stderr",
     "output_type": "stream",
     "text": [
      "고등학교 급식 조회:  99%|██████████████████████████████████████████████████▎| 70/71 [00:19<00:00,  3.52it/s]"
     ]
    },
    {
     "name": "stdout",
     "output_type": "stream",
     "text": [
      "mealService 응답코드: 200\n",
      "급식 데이터 수: 34\n",
      "7380078 호남삼육고등학교\n",
      "급식 정보 조회 중: 날짜=20250618\n"
     ]
    },
    {
     "name": "stderr",
     "output_type": "stream",
     "text": [
      "고등학교 급식 조회: 100%|███████████████████████████████████████████████████| 71/71 [00:19<00:00,  3.60it/s]"
     ]
    },
    {
     "name": "stdout",
     "output_type": "stream",
     "text": [
      "mealService 응답코드: 200\n",
      "급식 데이터 수: 63\n",
      "수집된 급식 행 수: 19489\n",
      "수집된 전체 급식 행 수: 19489\n",
      "  교육청코드     학교코드     학교명      급식일자 식사명  \\\n",
      "0   B10  7010057  가락고등학교  20250519  중식   \n",
      "1   B10  7010057  가락고등학교  20250520  중식   \n",
      "2   B10  7010057  가락고등학교  20250521  중식   \n",
      "3   B10  7010057  가락고등학교  20250522  중식   \n",
      "4   B10  7010057  가락고등학교  20250523  중식   \n",
      "\n",
      "                                                급식식단  \n",
      "0  쌀밥 <br/>소고기미역국 (2.5.6.15.16.18)<br/>돼지갈비찜 (5.6...  \n",
      "1  쇠고기콩나물밥 (5.6.16)<br/>물만두국 (1.2.5.6.10.15.16.18...  \n",
      "2  새우볶음밥 (1.5.6.8.9.13.18)<br/>씨앗호떡파이 (1.2.3.5.6)...  \n",
      "3  쌀밥 <br/>볶음우동 (5.6.8.9.13.15.17.18)<br/>zero초코파...  \n",
      "4  현미밥 <br/>어묵국 (1.2.5.6.15.16.18)<br/>마라찜닭 (5.6....  \n"
     ]
    },
    {
     "name": "stderr",
     "output_type": "stream",
     "text": [
      "\n"
     ]
    },
    {
     "name": "stdout",
     "output_type": "stream",
     "text": [
      "응답코드 : 200\n"
     ]
    },
    {
     "name": "stderr",
     "output_type": "stream",
     "text": [
      "고등학교 급식 조회:   0%|                                                            | 0/62 [00:00<?, ?it/s]"
     ]
    },
    {
     "name": "stdout",
     "output_type": "stream",
     "text": [
      "7430324 계룡디지텍고등학교\n",
      "급식 정보 조회 중: 날짜=20250618\n",
      "mealService 응답코드: 200\n",
      "급식 데이터 수: 20\n"
     ]
    },
    {
     "name": "stderr",
     "output_type": "stream",
     "text": [
      "고등학교 급식 조회:   2%|▊                                                   | 1/62 [00:00<00:16,  3.72it/s]"
     ]
    },
    {
     "name": "stdout",
     "output_type": "stream",
     "text": [
      "7430046 남대전고등학교\n",
      "급식 정보 조회 중: 날짜=20250618\n"
     ]
    },
    {
     "name": "stderr",
     "output_type": "stream",
     "text": [
      "고등학교 급식 조회:   3%|█▋                                                  | 2/62 [00:00<00:18,  3.28it/s]"
     ]
    },
    {
     "name": "stdout",
     "output_type": "stream",
     "text": [
      "mealService 응답코드: 200\n",
      "급식 데이터 수: 39\n",
      "7430030 대덕고등학교\n",
      "급식 정보 조회 중: 날짜=20250618\n"
     ]
    },
    {
     "name": "stderr",
     "output_type": "stream",
     "text": [
      "고등학교 급식 조회:   5%|██▌                                                 | 3/62 [00:00<00:17,  3.34it/s]"
     ]
    },
    {
     "name": "stdout",
     "output_type": "stream",
     "text": [
      "mealService 응답코드: 200\n",
      "급식 데이터 수: 38\n",
      "7430310 대덕소프트웨어마이스터고등학교\n",
      "급식 정보 조회 중: 날짜=20250618\n"
     ]
    },
    {
     "name": "stderr",
     "output_type": "stream",
     "text": [
      "고등학교 급식 조회:   6%|███▎                                                | 4/62 [00:01<00:18,  3.10it/s]"
     ]
    },
    {
     "name": "stdout",
     "output_type": "stream",
     "text": [
      "mealService 응답코드: 200\n",
      "급식 데이터 수: 79\n",
      "7430241 대전가오고등학교\n",
      "급식 정보 조회 중: 날짜=20250618\n"
     ]
    },
    {
     "name": "stderr",
     "output_type": "stream",
     "text": [
      "고등학교 급식 조회:   8%|████▏                                               | 5/62 [00:01<00:17,  3.28it/s]"
     ]
    },
    {
     "name": "stdout",
     "output_type": "stream",
     "text": [
      "mealService 응답코드: 200\n",
      "급식 데이터 수: 38\n",
      "7430031 대전고등학교\n",
      "급식 정보 조회 중: 날짜=20250618\n"
     ]
    },
    {
     "name": "stderr",
     "output_type": "stream",
     "text": [
      "고등학교 급식 조회:  10%|█████                                               | 6/62 [00:01<00:17,  3.17it/s]"
     ]
    },
    {
     "name": "stdout",
     "output_type": "stream",
     "text": [
      "mealService 응답코드: 200\n",
      "급식 데이터 수: 61\n",
      "7430032 대전과학고등학교\n",
      "급식 정보 조회 중: 날짜=20250618\n"
     ]
    },
    {
     "name": "stderr",
     "output_type": "stream",
     "text": [
      "고등학교 급식 조회:  11%|█████▊                                              | 7/62 [00:02<00:19,  2.87it/s]"
     ]
    },
    {
     "name": "stdout",
     "output_type": "stream",
     "text": [
      "mealService 응답코드: 200\n",
      "급식 데이터 수: 76\n",
      "7430033 대전관저고등학교\n",
      "급식 정보 조회 중: 날짜=20250618\n"
     ]
    },
    {
     "name": "stderr",
     "output_type": "stream",
     "text": [
      "고등학교 급식 조회:  13%|██████▋                                             | 8/62 [00:02<00:17,  3.11it/s]"
     ]
    },
    {
     "name": "stdout",
     "output_type": "stream",
     "text": [
      "mealService 응답코드: 200\n",
      "급식 데이터 수: 37\n",
      "7430237 대전괴정고등학교\n",
      "급식 정보 조회 중: 날짜=20250618\n"
     ]
    },
    {
     "name": "stderr",
     "output_type": "stream",
     "text": [
      "고등학교 급식 조회:  15%|███████▌                                            | 9/62 [00:02<00:15,  3.44it/s]"
     ]
    },
    {
     "name": "stdout",
     "output_type": "stream",
     "text": [
      "mealService 응답코드: 200\n",
      "급식 데이터 수: 37\n",
      "7430150 대전구봉고등학교\n",
      "급식 정보 조회 중: 날짜=20250618\n"
     ]
    },
    {
     "name": "stderr",
     "output_type": "stream",
     "text": [
      "고등학교 급식 조회:  16%|████████▏                                          | 10/62 [00:03<00:14,  3.64it/s]"
     ]
    },
    {
     "name": "stdout",
     "output_type": "stream",
     "text": [
      "mealService 응답코드: 200\n",
      "급식 데이터 수: 37\n",
      "7430252 대전국제통상고등학교\n",
      "급식 정보 조회 중: 날짜=20250618\n"
     ]
    },
    {
     "name": "stderr",
     "output_type": "stream",
     "text": [
      "고등학교 급식 조회:  18%|█████████                                          | 11/62 [00:03<00:13,  3.79it/s]"
     ]
    },
    {
     "name": "stdout",
     "output_type": "stream",
     "text": [
      "mealService 응답코드: 200\n",
      "급식 데이터 수: 21\n",
      "7430143 대전노은고등학교\n",
      "급식 정보 조회 중: 날짜=20250618\n"
     ]
    },
    {
     "name": "stderr",
     "output_type": "stream",
     "text": [
      "고등학교 급식 조회:  19%|█████████▊                                         | 12/62 [00:03<00:13,  3.71it/s]"
     ]
    },
    {
     "name": "stdout",
     "output_type": "stream",
     "text": [
      "mealService 응답코드: 200\n",
      "급식 데이터 수: 38\n",
      "7430325 대전대성고등학교\n",
      "급식 정보 조회 중: 날짜=20250618\n"
     ]
    },
    {
     "name": "stderr",
     "output_type": "stream",
     "text": [
      "고등학교 급식 조회:  21%|██████████▋                                        | 13/62 [00:03<00:14,  3.37it/s]"
     ]
    },
    {
     "name": "stdout",
     "output_type": "stream",
     "text": [
      "mealService 응답코드: 200\n",
      "급식 데이터 수: 60\n",
      "7430326 대전대성여자고등학교\n",
      "급식 정보 조회 중: 날짜=20250618\n"
     ]
    },
    {
     "name": "stderr",
     "output_type": "stream",
     "text": [
      "고등학교 급식 조회:  23%|███████████▌                                       | 14/62 [00:04<00:13,  3.51it/s]"
     ]
    },
    {
     "name": "stdout",
     "output_type": "stream",
     "text": [
      "mealService 응답코드: 200\n",
      "급식 데이터 수: 21\n",
      "7430048 대전대신고등학교\n",
      "급식 정보 조회 중: 날짜=20250618\n"
     ]
    },
    {
     "name": "stderr",
     "output_type": "stream",
     "text": [
      "고등학교 급식 조회:  24%|████████████▎                                      | 15/62 [00:04<00:12,  3.63it/s]"
     ]
    },
    {
     "name": "stdout",
     "output_type": "stream",
     "text": [
      "mealService 응답코드: 200\n",
      "급식 데이터 수: 21\n",
      "7430351 대전도시과학고등학교\n",
      "급식 정보 조회 중: 날짜=20250618\n"
     ]
    },
    {
     "name": "stderr",
     "output_type": "stream",
     "text": [
      "고등학교 급식 조회:  26%|█████████████▏                                     | 16/62 [00:04<00:11,  3.84it/s]"
     ]
    },
    {
     "name": "stdout",
     "output_type": "stream",
     "text": [
      "mealService 응답코드: 200\n",
      "급식 데이터 수: 21\n",
      "7430290 대전도안고등학교\n",
      "급식 정보 조회 중: 날짜=20250618\n"
     ]
    },
    {
     "name": "stderr",
     "output_type": "stream",
     "text": [
      "고등학교 급식 조회:  27%|█████████████▉                                     | 17/62 [00:04<00:12,  3.71it/s]"
     ]
    },
    {
     "name": "stdout",
     "output_type": "stream",
     "text": [
      "mealService 응답코드: 200\n",
      "급식 데이터 수: 36\n",
      "7430049 대전동산고등학교\n",
      "급식 정보 조회 중: 날짜=20250618\n"
     ]
    },
    {
     "name": "stderr",
     "output_type": "stream",
     "text": [
      "고등학교 급식 조회:  29%|██████████████▊                                    | 18/62 [00:05<00:11,  3.67it/s]"
     ]
    },
    {
     "name": "stdout",
     "output_type": "stream",
     "text": [
      "mealService 응답코드: 200\n",
      "급식 데이터 수: 39\n",
      "7430295 대전동신과학고등학교\n",
      "급식 정보 조회 중: 날짜=20250618\n"
     ]
    },
    {
     "name": "stderr",
     "output_type": "stream",
     "text": [
      "고등학교 급식 조회:  31%|███████████████▋                                   | 19/62 [00:05<00:11,  3.59it/s]"
     ]
    },
    {
     "name": "stdout",
     "output_type": "stream",
     "text": [
      "mealService 응답코드: 200\n",
      "급식 데이터 수: 57\n",
      "7430034 대전둔산여자고등학교\n",
      "급식 정보 조회 중: 날짜=20250618\n"
     ]
    },
    {
     "name": "stderr",
     "output_type": "stream",
     "text": [
      "고등학교 급식 조회:  32%|████████████████▍                                  | 20/62 [00:05<00:12,  3.50it/s]"
     ]
    },
    {
     "name": "stdout",
     "output_type": "stream",
     "text": [
      "mealService 응답코드: 200\n",
      "급식 데이터 수: 21\n",
      "7430142 대전둔원고등학교\n",
      "급식 정보 조회 중: 날짜=20250618\n"
     ]
    },
    {
     "name": "stderr",
     "output_type": "stream",
     "text": [
      "고등학교 급식 조회:  34%|█████████████████▎                                 | 21/62 [00:06<00:11,  3.57it/s]"
     ]
    },
    {
     "name": "stdout",
     "output_type": "stream",
     "text": [
      "mealService 응답코드: 200\n",
      "급식 데이터 수: 36\n",
      "7430035 대전만년고등학교\n",
      "급식 정보 조회 중: 날짜=20250618\n"
     ]
    },
    {
     "name": "stderr",
     "output_type": "stream",
     "text": [
      "고등학교 급식 조회:  35%|██████████████████                                 | 22/62 [00:06<00:10,  3.68it/s]"
     ]
    },
    {
     "name": "stdout",
     "output_type": "stream",
     "text": [
      "mealService 응답코드: 200\n",
      "급식 데이터 수: 38\n",
      "7430238 대전반석고등학교\n",
      "급식 정보 조회 중: 날짜=20250618\n"
     ]
    },
    {
     "name": "stderr",
     "output_type": "stream",
     "text": [
      "고등학교 급식 조회:  37%|██████████████████▉                                | 23/62 [00:06<00:10,  3.60it/s]"
     ]
    },
    {
     "name": "stdout",
     "output_type": "stream",
     "text": [
      "mealService 응답코드: 200\n",
      "급식 데이터 수: 36\n",
      "7430253 대전복수고등학교\n",
      "급식 정보 조회 중: 날짜=20250618\n"
     ]
    },
    {
     "name": "stderr",
     "output_type": "stream",
     "text": [
      "고등학교 급식 조회:  39%|███████████████████▋                               | 24/62 [00:06<00:10,  3.56it/s]"
     ]
    },
    {
     "name": "stdout",
     "output_type": "stream",
     "text": [
      "mealService 응답코드: 200\n",
      "급식 데이터 수: 37\n",
      "7430329 대전생활과학고등학교\n",
      "급식 정보 조회 중: 날짜=20250618\n"
     ]
    },
    {
     "name": "stderr",
     "output_type": "stream",
     "text": [
      "고등학교 급식 조회:  40%|████████████████████▌                              | 25/62 [00:07<00:09,  3.73it/s]"
     ]
    },
    {
     "name": "stdout",
     "output_type": "stream",
     "text": [
      "mealService 응답코드: 200\n",
      "급식 데이터 수: 20\n",
      "7430051 대전성모여자고등학교\n",
      "급식 정보 조회 중: 날짜=20250618\n"
     ]
    },
    {
     "name": "stderr",
     "output_type": "stream",
     "text": [
      "고등학교 급식 조회:  42%|█████████████████████▍                             | 26/62 [00:07<00:09,  3.75it/s]"
     ]
    },
    {
     "name": "stdout",
     "output_type": "stream",
     "text": [
      "mealService 응답코드: 200\n",
      "급식 데이터 수: 39\n",
      "7430132 대전송촌고등학교\n",
      "급식 정보 조회 중: 날짜=20250618\n"
     ]
    },
    {
     "name": "stderr",
     "output_type": "stream",
     "text": [
      "고등학교 급식 조회:  44%|██████████████████████▏                            | 27/62 [00:07<00:09,  3.84it/s]"
     ]
    },
    {
     "name": "stdout",
     "output_type": "stream",
     "text": [
      "mealService 응답코드: 200\n",
      "급식 데이터 수: 38\n",
      "7430133 대전신일여자고등학교\n",
      "급식 정보 조회 중: 날짜=20250618\n"
     ]
    },
    {
     "name": "stderr",
     "output_type": "stream",
     "text": [
      "고등학교 급식 조회:  45%|███████████████████████                            | 28/62 [00:07<00:08,  4.00it/s]"
     ]
    },
    {
     "name": "stdout",
     "output_type": "stream",
     "text": [
      "mealService 응답코드: 200\n",
      "급식 데이터 수: 21\n",
      "7430036 대전여자고등학교\n",
      "급식 정보 조회 중: 날짜=20250618\n"
     ]
    },
    {
     "name": "stderr",
     "output_type": "stream",
     "text": [
      "고등학교 급식 조회:  47%|███████████████████████▊                           | 29/62 [00:08<00:08,  4.02it/s]"
     ]
    },
    {
     "name": "stdout",
     "output_type": "stream",
     "text": [
      "mealService 응답코드: 200\n",
      "급식 데이터 수: 37\n",
      "7430083 대전여자상업고등학교\n",
      "급식 정보 조회 중: 날짜=20250618\n"
     ]
    },
    {
     "name": "stderr",
     "output_type": "stream",
     "text": [
      "고등학교 급식 조회:  48%|████████████████████████▋                          | 30/62 [00:08<00:07,  4.04it/s]"
     ]
    },
    {
     "name": "stdout",
     "output_type": "stream",
     "text": [
      "mealService 응답코드: 200\n",
      "급식 데이터 수: 21\n",
      "7430053 대전예술고등학교\n",
      "급식 정보 조회 중: 날짜=20250618\n"
     ]
    },
    {
     "name": "stderr",
     "output_type": "stream",
     "text": [
      "고등학교 급식 조회:  50%|█████████████████████████▌                         | 31/62 [00:08<00:08,  3.83it/s]"
     ]
    },
    {
     "name": "stdout",
     "output_type": "stream",
     "text": [
      "mealService 응답코드: 200\n",
      "급식 데이터 수: 21\n",
      "7430037 대전외국어고등학교\n",
      "급식 정보 조회 중: 날짜=20250618\n"
     ]
    },
    {
     "name": "stderr",
     "output_type": "stream",
     "text": [
      "고등학교 급식 조회:  52%|██████████████████████████▎                        | 32/62 [00:08<00:08,  3.74it/s]"
     ]
    },
    {
     "name": "stdout",
     "output_type": "stream",
     "text": [
      "mealService 응답코드: 200\n",
      "급식 데이터 수: 60\n",
      "7430239 대전용산고등학교\n",
      "급식 정보 조회 중: 날짜=20250618\n"
     ]
    },
    {
     "name": "stderr",
     "output_type": "stream",
     "text": [
      "고등학교 급식 조회:  53%|███████████████████████████▏                       | 33/62 [00:09<00:07,  3.77it/s]"
     ]
    },
    {
     "name": "stdout",
     "output_type": "stream",
     "text": [
      "mealService 응답코드: 200\n",
      "급식 데이터 수: 38\n",
      "7430240 대전이문고등학교\n",
      "급식 정보 조회 중: 날짜=20250618\n"
     ]
    },
    {
     "name": "stderr",
     "output_type": "stream",
     "text": [
      "고등학교 급식 조회:  55%|███████████████████████████▉                       | 34/62 [00:09<00:07,  3.96it/s]"
     ]
    },
    {
     "name": "stdout",
     "output_type": "stream",
     "text": [
      "mealService 응답코드: 200\n",
      "급식 데이터 수: 41\n",
      "7430148 대전전민고등학교\n",
      "급식 정보 조회 중: 날짜=20250618\n"
     ]
    },
    {
     "name": "stderr",
     "output_type": "stream",
     "text": [
      "고등학교 급식 조회:  56%|████████████████████████████▊                      | 35/62 [00:09<00:06,  4.09it/s]"
     ]
    },
    {
     "name": "stdout",
     "output_type": "stream",
     "text": [
      "mealService 응답코드: 200\n",
      "급식 데이터 수: 38\n",
      "7430311 대전전자디자인고등학교\n",
      "급식 정보 조회 중: 날짜=20250618\n"
     ]
    },
    {
     "name": "stderr",
     "output_type": "stream",
     "text": [
      "고등학교 급식 조회:  58%|█████████████████████████████▌                     | 36/62 [00:09<00:07,  3.71it/s]"
     ]
    },
    {
     "name": "stdout",
     "output_type": "stream",
     "text": [
      "mealService 응답코드: 200\n",
      "급식 데이터 수: 21\n",
      "7430242 대전제일고등학교\n",
      "급식 정보 조회 중: 날짜=20250618\n"
     ]
    },
    {
     "name": "stderr",
     "output_type": "stream",
     "text": [
      "고등학교 급식 조회:  60%|██████████████████████████████▍                    | 37/62 [00:10<00:06,  3.87it/s]"
     ]
    },
    {
     "name": "stdout",
     "output_type": "stream",
     "text": [
      "mealService 응답코드: 200\n",
      "급식 데이터 수: 41\n",
      "7430052 대전중앙고등학교\n",
      "급식 정보 조회 중: 날짜=20250618\n"
     ]
    },
    {
     "name": "stderr",
     "output_type": "stream",
     "text": [
      "고등학교 급식 조회:  61%|███████████████████████████████▎                   | 38/62 [00:10<00:06,  3.87it/s]"
     ]
    },
    {
     "name": "stdout",
     "output_type": "stream",
     "text": [
      "mealService 응답코드: 200\n",
      "급식 데이터 수: 36\n",
      "7430149 대전지족고등학교\n",
      "급식 정보 조회 중: 날짜=20250618\n"
     ]
    },
    {
     "name": "stderr",
     "output_type": "stream",
     "text": [
      "고등학교 급식 조회:  63%|████████████████████████████████                   | 39/62 [00:10<00:05,  3.88it/s]"
     ]
    },
    {
     "name": "stdout",
     "output_type": "stream",
     "text": [
      "mealService 응답코드: 200\n",
      "급식 데이터 수: 38\n",
      "7430038 대전체육고등학교\n",
      "급식 정보 조회 중: 날짜=20250618\n"
     ]
    },
    {
     "name": "stderr",
     "output_type": "stream",
     "text": [
      "고등학교 급식 조회:  65%|████████████████████████████████▉                  | 40/62 [00:11<00:06,  3.53it/s]"
     ]
    },
    {
     "name": "stdout",
     "output_type": "stream",
     "text": [
      "mealService 응답코드: 200\n",
      "급식 데이터 수: 56\n",
      "7430138 대전한빛고등학교\n",
      "급식 정보 조회 중: 날짜=20250618\n"
     ]
    },
    {
     "name": "stderr",
     "output_type": "stream",
     "text": [
      "고등학교 급식 조회:  66%|█████████████████████████████████▋                 | 41/62 [00:11<00:06,  3.25it/s]"
     ]
    },
    {
     "name": "stdout",
     "output_type": "stream",
     "text": [
      "mealService 응답코드: 200\n",
      "급식 데이터 수: 69\n",
      "7430039 동대전고등학교\n",
      "급식 정보 조회 중: 날짜=20250618\n"
     ]
    },
    {
     "name": "stderr",
     "output_type": "stream",
     "text": [
      "고등학교 급식 조회:  68%|██████████████████████████████████▌                | 42/62 [00:11<00:05,  3.37it/s]"
     ]
    },
    {
     "name": "stdout",
     "output_type": "stream",
     "text": [
      "mealService 응답코드: 200\n",
      "급식 데이터 수: 38\n",
      "7430244 동방고등학교\n",
      "급식 정보 조회 중: 날짜=20250618\n"
     ]
    },
    {
     "name": "stderr",
     "output_type": "stream",
     "text": [
      "고등학교 급식 조회:  69%|███████████████████████████████████▎               | 43/62 [00:11<00:05,  3.58it/s]"
     ]
    },
    {
     "name": "stdout",
     "output_type": "stream",
     "text": [
      "mealService 응답코드: 200\n",
      "급식 데이터 수: 39\n",
      "7430256 동아마이스터고등학교\n",
      "급식 정보 조회 중: 날짜=20250618\n"
     ]
    },
    {
     "name": "stderr",
     "output_type": "stream",
     "text": [
      "고등학교 급식 조회:  71%|████████████████████████████████████▏              | 44/62 [00:12<00:05,  3.57it/s]"
     ]
    },
    {
     "name": "stdout",
     "output_type": "stream",
     "text": [
      "mealService 응답코드: 200\n",
      "급식 데이터 수: 52\n",
      "7430056 명석고등학교\n",
      "급식 정보 조회 중: 날짜=20250618\n"
     ]
    },
    {
     "name": "stderr",
     "output_type": "stream",
     "text": [
      "고등학교 급식 조회:  73%|█████████████████████████████████████              | 45/62 [00:12<00:04,  3.77it/s]"
     ]
    },
    {
     "name": "stdout",
     "output_type": "stream",
     "text": [
      "mealService 응답코드: 200\n",
      "급식 데이터 수: 33\n",
      "7430057 보문고등학교\n",
      "급식 정보 조회 중: 날짜=20250618\n"
     ]
    },
    {
     "name": "stderr",
     "output_type": "stream",
     "text": [
      "고등학교 급식 조회:  74%|█████████████████████████████████████▊             | 46/62 [00:12<00:04,  3.91it/s]"
     ]
    },
    {
     "name": "stdout",
     "output_type": "stream",
     "text": [
      "mealService 응답코드: 200\n",
      "급식 데이터 수: 38\n",
      "7430059 서대전고등학교\n",
      "급식 정보 조회 중: 날짜=20250618\n"
     ]
    },
    {
     "name": "stderr",
     "output_type": "stream",
     "text": [
      "고등학교 급식 조회:  76%|██████████████████████████████████████▋            | 47/62 [00:12<00:03,  3.83it/s]"
     ]
    },
    {
     "name": "stdout",
     "output_type": "stream",
     "text": [
      "mealService 응답코드: 200\n",
      "급식 데이터 수: 37\n",
      "7430060 서대전여자고등학교\n",
      "급식 정보 조회 중: 날짜=20250618\n"
     ]
    },
    {
     "name": "stderr",
     "output_type": "stream",
     "text": [
      "고등학교 급식 조회:  77%|███████████████████████████████████████▍           | 48/62 [00:13<00:03,  4.03it/s]"
     ]
    },
    {
     "name": "stdout",
     "output_type": "stream",
     "text": [
      "mealService 응답코드: 200\n",
      "급식 데이터 수: 38\n",
      "7430061 서일고등학교\n",
      "급식 정보 조회 중: 날짜=20250618\n"
     ]
    },
    {
     "name": "stderr",
     "output_type": "stream",
     "text": [
      "고등학교 급식 조회:  79%|████████████████████████████████████████▎          | 49/62 [00:13<00:03,  4.08it/s]"
     ]
    },
    {
     "name": "stdout",
     "output_type": "stream",
     "text": [
      "mealService 응답코드: 200\n",
      "급식 데이터 수: 40\n",
      "7430062 서일여자고등학교\n",
      "급식 정보 조회 중: 날짜=20250618\n"
     ]
    },
    {
     "name": "stderr",
     "output_type": "stream",
     "text": [
      "고등학교 급식 조회:  81%|█████████████████████████████████████████▏         | 50/62 [00:13<00:02,  4.04it/s]"
     ]
    },
    {
     "name": "stdout",
     "output_type": "stream",
     "text": [
      "mealService 응답코드: 200\n",
      "급식 데이터 수: 41\n",
      "7430041 신탄진고등학교\n",
      "급식 정보 조회 중: 날짜=20250618\n"
     ]
    },
    {
     "name": "stderr",
     "output_type": "stream",
     "text": [
      "고등학교 급식 조회:  82%|█████████████████████████████████████████▉         | 51/62 [00:13<00:02,  4.20it/s]"
     ]
    },
    {
     "name": "stdout",
     "output_type": "stream",
     "text": [
      "mealService 응답코드: 200\n",
      "급식 데이터 수: 38\n",
      "7430140 우송고등학교\n",
      "급식 정보 조회 중: 날짜=20250618\n"
     ]
    },
    {
     "name": "stderr",
     "output_type": "stream",
     "text": [
      "고등학교 급식 조회:  84%|██████████████████████████████████████████▊        | 52/62 [00:14<00:02,  3.72it/s]"
     ]
    },
    {
     "name": "stdout",
     "output_type": "stream",
     "text": [
      "mealService 응답코드: 200\n",
      "급식 데이터 수: 37\n",
      "7430042 유성고등학교\n",
      "급식 정보 조회 중: 날짜=20250618\n"
     ]
    },
    {
     "name": "stderr",
     "output_type": "stream",
     "text": [
      "고등학교 급식 조회:  85%|███████████████████████████████████████████▌       | 53/62 [00:14<00:02,  3.55it/s]"
     ]
    },
    {
     "name": "stdout",
     "output_type": "stream",
     "text": [
      "mealService 응답코드: 200\n",
      "급식 데이터 수: 38\n",
      "7430135 유성생명과학고등학교\n",
      "급식 정보 조회 중: 날짜=20250618\n"
     ]
    },
    {
     "name": "stderr",
     "output_type": "stream",
     "text": [
      "고등학교 급식 조회:  87%|████████████████████████████████████████████▍      | 54/62 [00:14<00:02,  3.55it/s]"
     ]
    },
    {
     "name": "stdout",
     "output_type": "stream",
     "text": [
      "mealService 응답코드: 200\n",
      "급식 데이터 수: 20\n",
      "7430064 유성여자고등학교\n",
      "급식 정보 조회 중: 날짜=20250618\n"
     ]
    },
    {
     "name": "stderr",
     "output_type": "stream",
     "text": [
      "고등학교 급식 조회:  89%|█████████████████████████████████████████████▏     | 55/62 [00:15<00:01,  3.68it/s]"
     ]
    },
    {
     "name": "stdout",
     "output_type": "stream",
     "text": [
      "mealService 응답코드: 200\n",
      "급식 데이터 수: 38\n",
      "7430065 중일고등학교\n",
      "급식 정보 조회 중: 날짜=20250618\n"
     ]
    },
    {
     "name": "stderr",
     "output_type": "stream",
     "text": [
      "고등학교 급식 조회:  90%|██████████████████████████████████████████████     | 56/62 [00:15<00:01,  3.69it/s]"
     ]
    },
    {
     "name": "stdout",
     "output_type": "stream",
     "text": [
      "mealService 응답코드: 200\n",
      "급식 데이터 수: 38\n",
      "7430066 청란여자고등학교\n",
      "급식 정보 조회 중: 날짜=20250618\n"
     ]
    },
    {
     "name": "stderr",
     "output_type": "stream",
     "text": [
      "고등학교 급식 조회:  92%|██████████████████████████████████████████████▉    | 57/62 [00:15<00:01,  3.62it/s]"
     ]
    },
    {
     "name": "stdout",
     "output_type": "stream",
     "text": [
      "mealService 응답코드: 200\n",
      "급식 데이터 수: 39\n",
      "7430043 충남고등학교\n",
      "급식 정보 조회 중: 날짜=20250618\n"
     ]
    },
    {
     "name": "stderr",
     "output_type": "stream",
     "text": [
      "고등학교 급식 조회:  94%|███████████████████████████████████████████████▋   | 58/62 [00:15<00:01,  3.70it/s]"
     ]
    },
    {
     "name": "stdout",
     "output_type": "stream",
     "text": [
      "mealService 응답코드: 200\n",
      "급식 데이터 수: 41\n",
      "7430073 충남기계공업고등학교\n",
      "급식 정보 조회 중: 날짜=20250618\n"
     ]
    },
    {
     "name": "stderr",
     "output_type": "stream",
     "text": [
      "고등학교 급식 조회:  95%|████████████████████████████████████████████████▌  | 59/62 [00:16<00:00,  3.56it/s]"
     ]
    },
    {
     "name": "stdout",
     "output_type": "stream",
     "text": [
      "mealService 응답코드: 200\n",
      "급식 데이터 수: 60\n",
      "7430044 충남여자고등학교\n",
      "급식 정보 조회 중: 날짜=20250618\n"
     ]
    },
    {
     "name": "stderr",
     "output_type": "stream",
     "text": [
      "고등학교 급식 조회:  97%|█████████████████████████████████████████████████▎ | 60/62 [00:16<00:00,  3.78it/s]"
     ]
    },
    {
     "name": "stdout",
     "output_type": "stream",
     "text": [
      "mealService 응답코드: 200\n",
      "급식 데이터 수: 38\n",
      "7430045 한밭고등학교\n",
      "급식 정보 조회 중: 날짜=20250618\n"
     ]
    },
    {
     "name": "stderr",
     "output_type": "stream",
     "text": [
      "고등학교 급식 조회:  98%|██████████████████████████████████████████████████▏| 61/62 [00:16<00:00,  3.91it/s]"
     ]
    },
    {
     "name": "stdout",
     "output_type": "stream",
     "text": [
      "mealService 응답코드: 200\n",
      "급식 데이터 수: 38\n",
      "7430067 호수돈여자고등학교\n",
      "급식 정보 조회 중: 날짜=20250618\n"
     ]
    },
    {
     "name": "stderr",
     "output_type": "stream",
     "text": [
      "고등학교 급식 조회: 100%|███████████████████████████████████████████████████| 62/62 [00:16<00:00,  3.68it/s]"
     ]
    },
    {
     "name": "stdout",
     "output_type": "stream",
     "text": [
      "mealService 응답코드: 200\n",
      "급식 데이터 수: 41\n",
      "수집된 급식 행 수: 21890\n",
      "수집된 전체 급식 행 수: 21890\n",
      "  교육청코드     학교코드     학교명      급식일자 식사명  \\\n",
      "0   B10  7010057  가락고등학교  20250519  중식   \n",
      "1   B10  7010057  가락고등학교  20250520  중식   \n",
      "2   B10  7010057  가락고등학교  20250521  중식   \n",
      "3   B10  7010057  가락고등학교  20250522  중식   \n",
      "4   B10  7010057  가락고등학교  20250523  중식   \n",
      "\n",
      "                                                급식식단  \n",
      "0  쌀밥 <br/>소고기미역국 (2.5.6.15.16.18)<br/>돼지갈비찜 (5.6...  \n",
      "1  쇠고기콩나물밥 (5.6.16)<br/>물만두국 (1.2.5.6.10.15.16.18...  \n",
      "2  새우볶음밥 (1.5.6.8.9.13.18)<br/>씨앗호떡파이 (1.2.3.5.6)...  \n",
      "3  쌀밥 <br/>볶음우동 (5.6.8.9.13.15.17.18)<br/>zero초코파...  \n",
      "4  현미밥 <br/>어묵국 (1.2.5.6.15.16.18)<br/>마라찜닭 (5.6....  \n"
     ]
    },
    {
     "name": "stderr",
     "output_type": "stream",
     "text": [
      "\n"
     ]
    },
    {
     "name": "stdout",
     "output_type": "stream",
     "text": [
      "응답코드 : 200\n"
     ]
    },
    {
     "name": "stderr",
     "output_type": "stream",
     "text": [
      "고등학교 급식 조회:   0%|                                                            | 0/57 [00:00<?, ?it/s]"
     ]
    },
    {
     "name": "stdout",
     "output_type": "stream",
     "text": [
      "7480237 강동고등학교\n",
      "급식 정보 조회 중: 날짜=20250618\n",
      "mealService 응답코드: 200\n",
      "급식 데이터 수: 19\n"
     ]
    },
    {
     "name": "stderr",
     "output_type": "stream",
     "text": [
      "고등학교 급식 조회:   2%|▉                                                   | 1/57 [00:00<00:12,  4.55it/s]"
     ]
    },
    {
     "name": "stdout",
     "output_type": "stream",
     "text": [
      "7480124 남목고등학교\n",
      "급식 정보 조회 중: 날짜=20250618\n",
      "mealService 응답코드: 200\n",
      "급식 데이터 수: 21\n"
     ]
    },
    {
     "name": "stderr",
     "output_type": "stream",
     "text": [
      "고등학교 급식 조회:   5%|██▋                                                 | 3/57 [00:00<00:11,  4.61it/s]"
     ]
    },
    {
     "name": "stdout",
     "output_type": "stream",
     "text": [
      "7480023 남창고등학교\n",
      "급식 정보 조회 중: 날짜=20250618\n",
      "mealService 응답코드: 200\n",
      "급식 데이터 수: 19\n",
      "7480126 다운고등학교\n",
      "급식 정보 조회 중: 날짜=20250618\n",
      "mealService 응답코드: 200\n",
      "급식 데이터 수: 21\n"
     ]
    },
    {
     "name": "stderr",
     "output_type": "stream",
     "text": [
      "고등학교 급식 조회:   7%|███▋                                                | 4/57 [00:00<00:11,  4.69it/s]"
     ]
    },
    {
     "name": "stdout",
     "output_type": "stream",
     "text": [
      "7480135 달천고등학교\n",
      "급식 정보 조회 중: 날짜=20250618\n",
      "mealService 응답코드: 200\n",
      "급식 데이터 수: 20\n"
     ]
    },
    {
     "name": "stderr",
     "output_type": "stream",
     "text": [
      "고등학교 급식 조회:   9%|████▌                                               | 5/57 [00:01<00:11,  4.56it/s]"
     ]
    },
    {
     "name": "stdout",
     "output_type": "stream",
     "text": [
      "7480069 대송고등학교\n",
      "급식 정보 조회 중: 날짜=20250618\n",
      "mealService 응답코드: 200\n",
      "급식 데이터 수: 21\n"
     ]
    },
    {
     "name": "stderr",
     "output_type": "stream",
     "text": [
      "고등학교 급식 조회:  12%|██████▍                                             | 7/57 [00:01<00:10,  4.74it/s]"
     ]
    },
    {
     "name": "stdout",
     "output_type": "stream",
     "text": [
      "7480093 대현고등학교\n",
      "급식 정보 조회 중: 날짜=20250618\n",
      "mealService 응답코드: 200\n",
      "급식 데이터 수: 20\n",
      "7480199 매곡고등학교\n",
      "급식 정보 조회 중: 날짜=20250618\n",
      "mealService 응답코드: 200\n",
      "급식 데이터 수: 20\n"
     ]
    },
    {
     "name": "stderr",
     "output_type": "stream",
     "text": [
      "고등학교 급식 조회:  14%|███████▎                                            | 8/57 [00:01<00:10,  4.55it/s]"
     ]
    },
    {
     "name": "stdout",
     "output_type": "stream",
     "text": [
      "7480107 무거고등학교\n",
      "급식 정보 조회 중: 날짜=20250618\n",
      "mealService 응답코드: 200\n",
      "급식 데이터 수: 20\n"
     ]
    },
    {
     "name": "stderr",
     "output_type": "stream",
     "text": [
      "고등학교 급식 조회:  16%|████████▏                                           | 9/57 [00:01<00:10,  4.61it/s]"
     ]
    },
    {
     "name": "stdout",
     "output_type": "stream",
     "text": [
      "7480070 무룡고등학교\n",
      "급식 정보 조회 중: 날짜=20250618\n",
      "mealService 응답코드: 200\n",
      "급식 데이터 수: 21\n"
     ]
    },
    {
     "name": "stderr",
     "output_type": "stream",
     "text": [
      "고등학교 급식 조회:  18%|████████▉                                          | 10/57 [00:02<00:10,  4.64it/s]"
     ]
    },
    {
     "name": "stdout",
     "output_type": "stream",
     "text": [
      "7480088 문수고등학교\n",
      "급식 정보 조회 중: 날짜=20250618\n",
      "mealService 응답코드: 200\n",
      "급식 데이터 수: 21\n"
     ]
    },
    {
     "name": "stderr",
     "output_type": "stream",
     "text": [
      "고등학교 급식 조회:  19%|█████████▊                                         | 11/57 [00:02<00:09,  4.65it/s]"
     ]
    },
    {
     "name": "stdout",
     "output_type": "stream",
     "text": [
      "7480108 문현고등학교\n",
      "급식 정보 조회 중: 날짜=20250618\n",
      "mealService 응답코드: 200\n",
      "급식 데이터 수: 21\n"
     ]
    },
    {
     "name": "stderr",
     "output_type": "stream",
     "text": [
      "고등학교 급식 조회:  21%|██████████▋                                        | 12/57 [00:02<00:09,  4.56it/s]"
     ]
    },
    {
     "name": "stdout",
     "output_type": "stream",
     "text": [
      "7480024 방어진고등학교\n",
      "급식 정보 조회 중: 날짜=20250618\n",
      "mealService 응답코드: 200\n",
      "급식 데이터 수: 20\n"
     ]
    },
    {
     "name": "stderr",
     "output_type": "stream",
     "text": [
      "고등학교 급식 조회:  23%|███████████▋                                       | 13/57 [00:02<00:09,  4.43it/s]"
     ]
    },
    {
     "name": "stdout",
     "output_type": "stream",
     "text": [
      "7480125 범서고등학교\n",
      "급식 정보 조회 중: 날짜=20250618\n",
      "mealService 응답코드: 200\n",
      "급식 데이터 수: 20\n"
     ]
    },
    {
     "name": "stderr",
     "output_type": "stream",
     "text": [
      "고등학교 급식 조회:  26%|█████████████▍                                     | 15/57 [00:03<00:09,  4.63it/s]"
     ]
    },
    {
     "name": "stdout",
     "output_type": "stream",
     "text": [
      "7480096 삼산고등학교\n",
      "급식 정보 조회 중: 날짜=20250618\n",
      "mealService 응답코드: 200\n",
      "급식 데이터 수: 19\n",
      "7480033 성광여자고등학교\n",
      "급식 정보 조회 중: 날짜=20250618\n",
      "mealService 응답코드: 200\n",
      "급식 데이터 수: 21\n"
     ]
    },
    {
     "name": "stderr",
     "output_type": "stream",
     "text": [
      "고등학교 급식 조회:  30%|███████████████▏                                   | 17/57 [00:03<00:08,  4.73it/s]"
     ]
    },
    {
     "name": "stdout",
     "output_type": "stream",
     "text": [
      "7480034 성신고등학교\n",
      "급식 정보 조회 중: 날짜=20250618\n",
      "mealService 응답코드: 200\n",
      "급식 데이터 수: 21\n"
     ]
    },
    {
     "name": "stderr",
     "output_type": "stream",
     "text": [
      "고등학교 급식 조회:  32%|████████████████                                   | 18/57 [00:03<00:08,  4.85it/s]"
     ]
    },
    {
     "name": "stdout",
     "output_type": "stream",
     "text": [
      "7480095 신선여자고등학교\n",
      "급식 정보 조회 중: 날짜=20250618\n",
      "mealService 응답코드: 200\n",
      "급식 데이터 수: 21\n",
      "7480072 신정고등학교\n",
      "급식 정보 조회 중: 날짜=20250618\n",
      "mealService 응답코드: 200\n",
      "급식 데이터 수: 21\n"
     ]
    },
    {
     "name": "stderr",
     "output_type": "stream",
     "text": [
      "고등학교 급식 조회:  33%|█████████████████                                  | 19/57 [00:04<00:08,  4.57it/s]"
     ]
    },
    {
     "name": "stdout",
     "output_type": "stream",
     "text": [
      "7480189 약사고등학교\n",
      "급식 정보 조회 중: 날짜=20250618\n"
     ]
    },
    {
     "name": "stderr",
     "output_type": "stream",
     "text": [
      "고등학교 급식 조회:  35%|█████████████████▉                                 | 20/57 [00:04<00:09,  3.99it/s]"
     ]
    },
    {
     "name": "stdout",
     "output_type": "stream",
     "text": [
      "mealService 응답코드: 200\n",
      "급식 데이터 수: 21\n",
      "7480188 언양고등학교\n",
      "급식 정보 조회 중: 날짜=20250618\n"
     ]
    },
    {
     "name": "stderr",
     "output_type": "stream",
     "text": [
      "고등학교 급식 조회:  37%|██████████████████▊                                | 21/57 [00:04<00:08,  4.13it/s]"
     ]
    },
    {
     "name": "stdout",
     "output_type": "stream",
     "text": [
      "mealService 응답코드: 200\n",
      "급식 데이터 수: 21\n",
      "7480205 온산고등학교\n",
      "급식 정보 조회 중: 날짜=20250618\n"
     ]
    },
    {
     "name": "stderr",
     "output_type": "stream",
     "text": [
      "고등학교 급식 조회:  39%|███████████████████▋                               | 22/57 [00:04<00:08,  4.20it/s]"
     ]
    },
    {
     "name": "stdout",
     "output_type": "stream",
     "text": [
      "mealService 응답코드: 200\n",
      "급식 데이터 수: 21\n",
      "7480074 우신고등학교\n",
      "급식 정보 조회 중: 날짜=20250618\n"
     ]
    },
    {
     "name": "stderr",
     "output_type": "stream",
     "text": [
      "고등학교 급식 조회:  40%|████████████████████▌                              | 23/57 [00:05<00:08,  3.97it/s]"
     ]
    },
    {
     "name": "stdout",
     "output_type": "stream",
     "text": [
      "mealService 응답코드: 200\n",
      "급식 데이터 수: 20\n",
      "7480254 울산가온고등학교\n",
      "급식 정보 조회 중: 날짜=20250618\n",
      "mealService 응답코드: 200\n",
      "급식 데이터 수: 21\n"
     ]
    },
    {
     "name": "stderr",
     "output_type": "stream",
     "text": [
      "고등학교 급식 조회:  42%|█████████████████████▍                             | 24/57 [00:05<00:07,  4.27it/s]"
     ]
    },
    {
     "name": "stdout",
     "output_type": "stream",
     "text": [
      "7480142 울산강남고등학교\n",
      "급식 정보 조회 중: 날짜=20250618\n",
      "mealService 응답코드: 200\n",
      "급식 데이터 수: 20\n"
     ]
    },
    {
     "name": "stderr",
     "output_type": "stream",
     "text": [
      "고등학교 급식 조회:  44%|██████████████████████▎                            | 25/57 [00:05<00:07,  4.42it/s]"
     ]
    },
    {
     "name": "stdout",
     "output_type": "stream",
     "text": [
      "7480075 울산경의고등학교\n",
      "급식 정보 조회 중: 날짜=20250618\n",
      "mealService 응답코드: 200\n",
      "급식 데이터 수: 20\n"
     ]
    },
    {
     "name": "stderr",
     "output_type": "stream",
     "text": [
      "고등학교 급식 조회:  46%|███████████████████████▎                           | 26/57 [00:05<00:06,  4.48it/s]"
     ]
    },
    {
     "name": "stdout",
     "output_type": "stream",
     "text": [
      "7480035 울산고등학교\n",
      "급식 정보 조회 중: 날짜=20250618\n",
      "mealService 응답코드: 200\n",
      "급식 데이터 수: 21\n"
     ]
    },
    {
     "name": "stderr",
     "output_type": "stream",
     "text": [
      "고등학교 급식 조회:  47%|████████████████████████▏                          | 27/57 [00:06<00:06,  4.61it/s]"
     ]
    },
    {
     "name": "stdout",
     "output_type": "stream",
     "text": [
      "7480044 울산공업고등학교\n",
      "급식 정보 조회 중: 날짜=20250618\n",
      "mealService 응답코드: 200\n",
      "급식 데이터 수: 22\n"
     ]
    },
    {
     "name": "stderr",
     "output_type": "stream",
     "text": [
      "고등학교 급식 조회:  49%|█████████████████████████                          | 28/57 [00:06<00:06,  4.52it/s]"
     ]
    },
    {
     "name": "stdout",
     "output_type": "stream",
     "text": [
      "7480110 울산과학고등학교\n",
      "급식 정보 조회 중: 날짜=20250618\n",
      "mealService 응답코드: 200\n",
      "급식 데이터 수: 55\n"
     ]
    },
    {
     "name": "stderr",
     "output_type": "stream",
     "text": [
      "고등학교 급식 조회:  53%|██████████████████████████▊                        | 30/57 [00:06<00:05,  4.54it/s]"
     ]
    },
    {
     "name": "stdout",
     "output_type": "stream",
     "text": [
      "7480208 울산기술공업고등학교\n",
      "급식 정보 조회 중: 날짜=20250618\n",
      "mealService 응답코드: 200\n",
      "급식 데이터 수: 21\n",
      "7480172 울산동천고등학교\n",
      "급식 정보 조회 중: 날짜=20250618\n",
      "mealService 응답코드: 200\n",
      "급식 데이터 수: 20\n"
     ]
    },
    {
     "name": "stderr",
     "output_type": "stream",
     "text": [
      "고등학교 급식 조회:  54%|███████████████████████████▋                       | 31/57 [00:06<00:05,  4.61it/s]"
     ]
    },
    {
     "name": "stdout",
     "output_type": "stream",
     "text": [
      "7480143 울산마이스터고등학교\n",
      "급식 정보 조회 중: 날짜=20250618\n",
      "mealService 응답코드: 200\n",
      "급식 데이터 수: 53\n"
     ]
    },
    {
     "name": "stderr",
     "output_type": "stream",
     "text": [
      "고등학교 급식 조회:  58%|█████████████████████████████▌                     | 33/57 [00:07<00:05,  4.59it/s]"
     ]
    },
    {
     "name": "stdout",
     "output_type": "stream",
     "text": [
      "7480173 울산미용예술고등학교\n",
      "급식 정보 조회 중: 날짜=20250618\n",
      "mealService 응답코드: 200\n",
      "급식 데이터 수: 21\n",
      "7480190 울산산업고등학교\n",
      "급식 정보 조회 중: 날짜=20250618\n",
      "mealService 응답코드: 200\n",
      "급식 데이터 수: 21\n"
     ]
    },
    {
     "name": "stderr",
     "output_type": "stream",
     "text": [
      "고등학교 급식 조회:  61%|███████████████████████████████▎                   | 35/57 [00:07<00:04,  4.97it/s]"
     ]
    },
    {
     "name": "stdout",
     "output_type": "stream",
     "text": [
      "7480252 울산삼일고등학교\n",
      "급식 정보 조회 중: 날짜=20250618\n",
      "mealService 응답코드: 200\n",
      "mealServiceDietInfo 키 없음: {'RESULT': {'CODE': 'INFO-200', 'MESSAGE': '해당하는 데이터가 없습니다.'}}\n",
      "7480198 울산상업고등학교\n",
      "급식 정보 조회 중: 날짜=20250618\n"
     ]
    },
    {
     "name": "stderr",
     "output_type": "stream",
     "text": [
      "고등학교 급식 조회:  63%|████████████████████████████████▏                  | 36/57 [00:07<00:04,  4.90it/s]"
     ]
    },
    {
     "name": "stdout",
     "output_type": "stream",
     "text": [
      "mealService 응답코드: 200\n",
      "급식 데이터 수: 20\n",
      "7480047 울산생활과학고등학교\n",
      "급식 정보 조회 중: 날짜=20250618\n"
     ]
    },
    {
     "name": "stderr",
     "output_type": "stream",
     "text": [
      "고등학교 급식 조회:  65%|█████████████████████████████████                  | 37/57 [00:08<00:04,  4.85it/s]"
     ]
    },
    {
     "name": "stdout",
     "output_type": "stream",
     "text": [
      "mealService 응답코드: 200\n",
      "급식 데이터 수: 21\n",
      "7480191 울산스포츠과학고등학교\n",
      "급식 정보 조회 중: 날짜=20250618\n"
     ]
    },
    {
     "name": "stderr",
     "output_type": "stream",
     "text": [
      "고등학교 급식 조회:  67%|██████████████████████████████████                 | 38/57 [00:08<00:04,  4.67it/s]"
     ]
    },
    {
     "name": "stdout",
     "output_type": "stream",
     "text": [
      "mealService 응답코드: 200\n",
      "급식 데이터 수: 48\n",
      "7480087 울산애니원고등학교\n",
      "급식 정보 조회 중: 날짜=20250618\n"
     ]
    },
    {
     "name": "stderr",
     "output_type": "stream",
     "text": [
      "고등학교 급식 조회:  68%|██████████████████████████████████▉                | 39/57 [00:08<00:04,  4.31it/s]"
     ]
    },
    {
     "name": "stdout",
     "output_type": "stream",
     "text": [
      "mealService 응답코드: 200\n",
      "급식 데이터 수: 62\n",
      "7480183 울산에너지고등학교\n",
      "급식 정보 조회 중: 날짜=20250618\n"
     ]
    },
    {
     "name": "stderr",
     "output_type": "stream",
     "text": [
      "고등학교 급식 조회:  70%|███████████████████████████████████▊               | 40/57 [00:08<00:03,  4.27it/s]"
     ]
    },
    {
     "name": "stdout",
     "output_type": "stream",
     "text": [
      "mealService 응답코드: 200\n",
      "급식 데이터 수: 21\n",
      "7480026 울산여자고등학교\n",
      "급식 정보 조회 중: 날짜=20250618\n",
      "mealService 응답코드: 200\n",
      "급식 데이터 수: 20\n"
     ]
    },
    {
     "name": "stderr",
     "output_type": "stream",
     "text": [
      "고등학교 급식 조회:  72%|████████████████████████████████████▋              | 41/57 [00:09<00:03,  4.47it/s]"
     ]
    },
    {
     "name": "stdout",
     "output_type": "stream",
     "text": [
      "7480048 울산여자상업고등학교\n",
      "급식 정보 조회 중: 날짜=20250618\n",
      "mealService 응답코드: 200\n",
      "급식 데이터 수: 21\n"
     ]
    },
    {
     "name": "stderr",
     "output_type": "stream",
     "text": [
      "고등학교 급식 조회:  75%|██████████████████████████████████████▍            | 43/57 [00:09<00:02,  4.72it/s]"
     ]
    },
    {
     "name": "stdout",
     "output_type": "stream",
     "text": [
      "7480036 울산예술고등학교\n",
      "급식 정보 조회 중: 날짜=20250618\n",
      "mealService 응답코드: 200\n",
      "급식 데이터 수: 21\n",
      "7480141 울산외국어고등학교\n",
      "급식 정보 조회 중: 날짜=20250618\n",
      "mealService 응답코드: 200\n",
      "급식 데이터 수: 21\n"
     ]
    },
    {
     "name": "stderr",
     "output_type": "stream",
     "text": [
      "고등학교 급식 조회:  77%|███████████████████████████████████████▎           | 44/57 [00:09<00:02,  4.69it/s]"
     ]
    },
    {
     "name": "stdout",
     "output_type": "stream",
     "text": [
      "7480037 울산제일고등학교\n",
      "급식 정보 조회 중: 날짜=20250618\n",
      "mealService 응답코드: 200\n",
      "급식 데이터 수: 21\n"
     ]
    },
    {
     "name": "stderr",
     "output_type": "stream",
     "text": [
      "고등학교 급식 조회:  79%|████████████████████████████████████████▎          | 45/57 [00:09<00:02,  4.64it/s]"
     ]
    },
    {
     "name": "stdout",
     "output_type": "stream",
     "text": [
      "7480027 울산중앙고등학교\n",
      "급식 정보 조회 중: 날짜=20250618\n",
      "mealService 응답코드: 200\n",
      "급식 데이터 수: 21\n"
     ]
    },
    {
     "name": "stderr",
     "output_type": "stream",
     "text": [
      "고등학교 급식 조회:  81%|█████████████████████████████████████████▏         | 46/57 [00:10<00:02,  4.60it/s]"
     ]
    },
    {
     "name": "stdout",
     "output_type": "stream",
     "text": [
      "7480209 천상고등학교\n",
      "급식 정보 조회 중: 날짜=20250618\n",
      "mealService 응답코드: 200\n",
      "급식 데이터 수: 21\n"
     ]
    },
    {
     "name": "stderr",
     "output_type": "stream",
     "text": [
      "고등학교 급식 조회:  82%|██████████████████████████████████████████         | 47/57 [00:10<00:02,  4.68it/s]"
     ]
    },
    {
     "name": "stdout",
     "output_type": "stream",
     "text": [
      "7480029 학성고등학교\n",
      "급식 정보 조회 중: 날짜=20250618\n",
      "mealService 응답코드: 200\n",
      "급식 데이터 수: 20\n"
     ]
    },
    {
     "name": "stderr",
     "output_type": "stream",
     "text": [
      "고등학교 급식 조회:  84%|██████████████████████████████████████████▉        | 48/57 [00:10<00:01,  4.59it/s]"
     ]
    },
    {
     "name": "stdout",
     "output_type": "stream",
     "text": [
      "7480030 학성여자고등학교\n",
      "급식 정보 조회 중: 날짜=20250618\n",
      "mealService 응답코드: 200\n",
      "급식 데이터 수: 20\n"
     ]
    },
    {
     "name": "stderr",
     "output_type": "stream",
     "text": [
      "고등학교 급식 조회:  86%|███████████████████████████████████████████▊       | 49/57 [00:10<00:01,  4.65it/s]"
     ]
    },
    {
     "name": "stdout",
     "output_type": "stream",
     "text": [
      "7480094 함월고등학교\n",
      "급식 정보 조회 중: 날짜=20250618\n",
      "mealService 응답코드: 200\n",
      "급식 데이터 수: 21\n"
     ]
    },
    {
     "name": "stderr",
     "output_type": "stream",
     "text": [
      "고등학교 급식 조회:  88%|████████████████████████████████████████████▋      | 50/57 [00:11<00:01,  4.23it/s]"
     ]
    },
    {
     "name": "stdout",
     "output_type": "stream",
     "text": [
      "7480039 현대고등학교\n",
      "급식 정보 조회 중: 날짜=20250618\n",
      "mealService 응답코드: 200\n",
      "급식 데이터 수: 31\n"
     ]
    },
    {
     "name": "stderr",
     "output_type": "stream",
     "text": [
      "고등학교 급식 조회:  89%|█████████████████████████████████████████████▋     | 51/57 [00:11<00:01,  4.24it/s]"
     ]
    },
    {
     "name": "stdout",
     "output_type": "stream",
     "text": [
      "7480186 현대공업고등학교\n",
      "급식 정보 조회 중: 날짜=20250618\n",
      "mealService 응답코드: 200\n",
      "급식 데이터 수: 21\n"
     ]
    },
    {
     "name": "stderr",
     "output_type": "stream",
     "text": [
      "고등학교 급식 조회:  91%|██████████████████████████████████████████████▌    | 52/57 [00:11<00:01,  3.99it/s]"
     ]
    },
    {
     "name": "stdout",
     "output_type": "stream",
     "text": [
      "7480085 현대청운고등학교\n",
      "급식 정보 조회 중: 날짜=20250618\n"
     ]
    },
    {
     "name": "stderr",
     "output_type": "stream",
     "text": [
      "고등학교 급식 조회:  93%|███████████████████████████████████████████████▍   | 53/57 [00:11<00:01,  3.71it/s]"
     ]
    },
    {
     "name": "stdout",
     "output_type": "stream",
     "text": [
      "mealService 응답코드: 200\n",
      "급식 데이터 수: 82\n",
      "7480109 호계고등학교\n",
      "급식 정보 조회 중: 날짜=20250618\n"
     ]
    },
    {
     "name": "stderr",
     "output_type": "stream",
     "text": [
      "고등학교 급식 조회:  95%|████████████████████████████████████████████████▎  | 54/57 [00:12<00:00,  3.58it/s]"
     ]
    },
    {
     "name": "stdout",
     "output_type": "stream",
     "text": [
      "mealService 응답코드: 200\n",
      "급식 데이터 수: 21\n",
      "7480171 화봉고등학교\n",
      "급식 정보 조회 중: 날짜=20250618\n"
     ]
    },
    {
     "name": "stderr",
     "output_type": "stream",
     "text": [
      "고등학교 급식 조회:  96%|█████████████████████████████████████████████████▏ | 55/57 [00:12<00:00,  3.67it/s]"
     ]
    },
    {
     "name": "stdout",
     "output_type": "stream",
     "text": [
      "mealService 응답코드: 200\n",
      "급식 데이터 수: 21\n",
      "7480083 화암고등학교\n",
      "급식 정보 조회 중: 날짜=20250618\n"
     ]
    },
    {
     "name": "stderr",
     "output_type": "stream",
     "text": [
      "고등학교 급식 조회:  98%|██████████████████████████████████████████████████ | 56/57 [00:12<00:00,  3.92it/s]"
     ]
    },
    {
     "name": "stdout",
     "output_type": "stream",
     "text": [
      "mealService 응답코드: 200\n",
      "급식 데이터 수: 21\n",
      "7480073 효정고등학교\n",
      "급식 정보 조회 중: 날짜=20250618\n"
     ]
    },
    {
     "name": "stderr",
     "output_type": "stream",
     "text": [
      "고등학교 급식 조회: 100%|███████████████████████████████████████████████████| 57/57 [00:12<00:00,  4.40it/s]"
     ]
    },
    {
     "name": "stdout",
     "output_type": "stream",
     "text": [
      "mealService 응답코드: 200\n",
      "급식 데이터 수: 20\n",
      "수집된 급식 행 수: 23251\n",
      "수집된 전체 급식 행 수: 23251\n",
      "  교육청코드     학교코드     학교명      급식일자 식사명  \\\n",
      "0   B10  7010057  가락고등학교  20250519  중식   \n",
      "1   B10  7010057  가락고등학교  20250520  중식   \n",
      "2   B10  7010057  가락고등학교  20250521  중식   \n",
      "3   B10  7010057  가락고등학교  20250522  중식   \n",
      "4   B10  7010057  가락고등학교  20250523  중식   \n",
      "\n",
      "                                                급식식단  \n",
      "0  쌀밥 <br/>소고기미역국 (2.5.6.15.16.18)<br/>돼지갈비찜 (5.6...  \n",
      "1  쇠고기콩나물밥 (5.6.16)<br/>물만두국 (1.2.5.6.10.15.16.18...  \n",
      "2  새우볶음밥 (1.5.6.8.9.13.18)<br/>씨앗호떡파이 (1.2.3.5.6)...  \n",
      "3  쌀밥 <br/>볶음우동 (5.6.8.9.13.15.17.18)<br/>zero초코파...  \n",
      "4  현미밥 <br/>어묵국 (1.2.5.6.15.16.18)<br/>마라찜닭 (5.6....  \n"
     ]
    },
    {
     "name": "stderr",
     "output_type": "stream",
     "text": [
      "\n"
     ]
    },
    {
     "name": "stdout",
     "output_type": "stream",
     "text": [
      "응답코드 : 200\n"
     ]
    },
    {
     "name": "stderr",
     "output_type": "stream",
     "text": [
      "고등학교 급식 조회:   0%|                                                            | 0/22 [00:00<?, ?it/s]"
     ]
    },
    {
     "name": "stdout",
     "output_type": "stream",
     "text": [
      "9300178 고운고등학교\n",
      "급식 정보 조회 중: 날짜=20250618\n",
      "mealService 응답코드: 200\n",
      "급식 데이터 수: 39\n"
     ]
    },
    {
     "name": "stderr",
     "output_type": "stream",
     "text": [
      "고등학교 급식 조회:   5%|██▎                                                 | 1/22 [00:00<00:04,  4.24it/s]"
     ]
    },
    {
     "name": "stdout",
     "output_type": "stream",
     "text": [
      "9300235 다정고등학교\n",
      "급식 정보 조회 중: 날짜=20250618\n",
      "mealService 응답코드: 200\n",
      "급식 데이터 수: 38\n"
     ]
    },
    {
     "name": "stderr",
     "output_type": "stream",
     "text": [
      "고등학교 급식 조회:   9%|████▋                                               | 2/22 [00:00<00:04,  4.28it/s]"
     ]
    },
    {
     "name": "stdout",
     "output_type": "stream",
     "text": [
      "9300107 도담고등학교\n",
      "급식 정보 조회 중: 날짜=20250618\n",
      "mealService 응답코드: 200\n",
      "급식 데이터 수: 39\n"
     ]
    },
    {
     "name": "stderr",
     "output_type": "stream",
     "text": [
      "고등학교 급식 조회:  14%|███████                                             | 3/22 [00:00<00:04,  4.40it/s]"
     ]
    },
    {
     "name": "stdout",
     "output_type": "stream",
     "text": [
      "9300177 두루고등학교\n",
      "급식 정보 조회 중: 날짜=20250618\n",
      "mealService 응답코드: 200\n",
      "급식 데이터 수: 39\n"
     ]
    },
    {
     "name": "stderr",
     "output_type": "stream",
     "text": [
      "고등학교 급식 조회:  18%|█████████▍                                          | 4/22 [00:00<00:04,  4.47it/s]"
     ]
    },
    {
     "name": "stdout",
     "output_type": "stream",
     "text": [
      "9300265 반곡고등학교\n",
      "급식 정보 조회 중: 날짜=20250618\n",
      "mealService 응답코드: 200\n",
      "급식 데이터 수: 38\n"
     ]
    },
    {
     "name": "stderr",
     "output_type": "stream",
     "text": [
      "고등학교 급식 조회:  23%|███████████▊                                        | 5/22 [00:01<00:03,  4.35it/s]"
     ]
    },
    {
     "name": "stdout",
     "output_type": "stream",
     "text": [
      "9300191 보람고등학교\n",
      "급식 정보 조회 중: 날짜=20250618\n",
      "mealService 응답코드: 200\n",
      "급식 데이터 수: 38\n"
     ]
    },
    {
     "name": "stderr",
     "output_type": "stream",
     "text": [
      "고등학교 급식 조회:  27%|██████████████▏                                     | 6/22 [00:01<00:03,  4.24it/s]"
     ]
    },
    {
     "name": "stdout",
     "output_type": "stream",
     "text": [
      "9300219 새롬고등학교\n",
      "급식 정보 조회 중: 날짜=20250618\n",
      "mealService 응답코드: 200\n",
      "급식 데이터 수: 38\n"
     ]
    },
    {
     "name": "stderr",
     "output_type": "stream",
     "text": [
      "고등학교 급식 조회:  32%|████████████████▌                                   | 7/22 [00:01<00:03,  4.23it/s]"
     ]
    },
    {
     "name": "stdout",
     "output_type": "stream",
     "text": [
      "9300054 세종고등학교\n",
      "급식 정보 조회 중: 날짜=20250618\n",
      "mealService 응답코드: 200\n",
      "급식 데이터 수: 65\n"
     ]
    },
    {
     "name": "stderr",
     "output_type": "stream",
     "text": [
      "고등학교 급식 조회:  36%|██████████████████▉                                 | 8/22 [00:01<00:03,  3.98it/s]"
     ]
    },
    {
     "name": "stdout",
     "output_type": "stream",
     "text": [
      "9300181 세종과학예술영재학교\n",
      "급식 정보 조회 중: 날짜=20250618\n",
      "mealService 응답코드: 200\n",
      "급식 데이터 수: 76\n"
     ]
    },
    {
     "name": "stderr",
     "output_type": "stream",
     "text": [
      "고등학교 급식 조회:  41%|█████████████████████▎                              | 9/22 [00:02<00:03,  3.91it/s]"
     ]
    },
    {
     "name": "stdout",
     "output_type": "stream",
     "text": [
      "9300108 세종국제고등학교\n",
      "급식 정보 조회 중: 날짜=20250618\n",
      "mealService 응답코드: 200\n",
      "급식 데이터 수: 62\n"
     ]
    },
    {
     "name": "stderr",
     "output_type": "stream",
     "text": [
      "고등학교 급식 조회:  45%|███████████████████████▏                           | 10/22 [00:02<00:03,  3.98it/s]"
     ]
    },
    {
     "name": "stdout",
     "output_type": "stream",
     "text": [
      "9300278 세종대성고등학교\n",
      "급식 정보 조회 중: 날짜=20250618\n",
      "mealService 응답코드: 200\n",
      "급식 데이터 수: 61\n"
     ]
    },
    {
     "name": "stderr",
     "output_type": "stream",
     "text": [
      "고등학교 급식 조회:  50%|█████████████████████████▌                         | 11/22 [00:02<00:02,  4.06it/s]"
     ]
    },
    {
     "name": "stdout",
     "output_type": "stream",
     "text": [
      "9300329 세종미래고등학교\n",
      "급식 정보 조회 중: 날짜=20250618\n",
      "mealService 응답코드: 200\n",
      "급식 데이터 수: 53\n"
     ]
    },
    {
     "name": "stderr",
     "output_type": "stream",
     "text": [
      "고등학교 급식 조회:  55%|███████████████████████████▊                       | 12/22 [00:02<00:02,  4.28it/s]"
     ]
    },
    {
     "name": "stdout",
     "output_type": "stream",
     "text": [
      "9300185 세종여자고등학교\n",
      "급식 정보 조회 중: 날짜=20250618\n",
      "mealService 응답코드: 200\n",
      "급식 데이터 수: 58\n"
     ]
    },
    {
     "name": "stderr",
     "output_type": "stream",
     "text": [
      "고등학교 급식 조회:  59%|██████████████████████████████▏                    | 13/22 [00:03<00:02,  4.07it/s]"
     ]
    },
    {
     "name": "stdout",
     "output_type": "stream",
     "text": [
      "9300233 세종예술고등학교\n",
      "급식 정보 조회 중: 날짜=20250618\n",
      "mealService 응답코드: 200\n",
      "급식 데이터 수: 40\n"
     ]
    },
    {
     "name": "stderr",
     "output_type": "stream",
     "text": [
      "고등학교 급식 조회:  64%|████████████████████████████████▍                  | 14/22 [00:03<00:01,  4.03it/s]"
     ]
    },
    {
     "name": "stdout",
     "output_type": "stream",
     "text": [
      "9300266 세종장영실고등학교\n",
      "급식 정보 조회 중: 날짜=20250618\n",
      "mealService 응답코드: 200\n",
      "급식 데이터 수: 52\n"
     ]
    },
    {
     "name": "stderr",
     "output_type": "stream",
     "text": [
      "고등학교 급식 조회:  68%|██████████████████████████████████▊                | 15/22 [00:03<00:01,  3.89it/s]"
     ]
    },
    {
     "name": "stdout",
     "output_type": "stream",
     "text": [
      "9300357 세종캠퍼스고등학교\n",
      "급식 정보 조회 중: 날짜=20250618\n",
      "mealService 응답코드: 200\n",
      "급식 데이터 수: 39\n"
     ]
    },
    {
     "name": "stderr",
     "output_type": "stream",
     "text": [
      "고등학교 급식 조회:  77%|███████████████████████████████████████▍           | 17/22 [00:04<00:01,  4.24it/s]"
     ]
    },
    {
     "name": "stdout",
     "output_type": "stream",
     "text": [
      "9300220 소담고등학교\n",
      "급식 정보 조회 중: 날짜=20250618\n",
      "mealService 응답코드: 200\n",
      "급식 데이터 수: 39\n",
      "9300117 아름고등학교\n",
      "급식 정보 조회 중: 날짜=20250618\n",
      "mealService 응답코드: 200\n",
      "급식 데이터 수: 38\n"
     ]
    },
    {
     "name": "stderr",
     "output_type": "stream",
     "text": [
      "고등학교 급식 조회:  82%|█████████████████████████████████████████▋         | 18/22 [00:04<00:00,  4.27it/s]"
     ]
    },
    {
     "name": "stdout",
     "output_type": "stream",
     "text": [
      "9300179 양지고등학교\n",
      "급식 정보 조회 중: 날짜=20250618\n",
      "mealService 응답코드: 200\n",
      "급식 데이터 수: 41\n"
     ]
    },
    {
     "name": "stderr",
     "output_type": "stream",
     "text": [
      "고등학교 급식 조회:  86%|████████████████████████████████████████████       | 19/22 [00:04<00:00,  4.28it/s]"
     ]
    },
    {
     "name": "stdout",
     "output_type": "stream",
     "text": [
      "9300180 종촌고등학교\n",
      "급식 정보 조회 중: 날짜=20250618\n",
      "mealService 응답코드: 200\n",
      "급식 데이터 수: 40\n"
     ]
    },
    {
     "name": "stderr",
     "output_type": "stream",
     "text": [
      "고등학교 급식 조회:  91%|██████████████████████████████████████████████▎    | 20/22 [00:04<00:00,  4.26it/s]"
     ]
    },
    {
     "name": "stdout",
     "output_type": "stream",
     "text": [
      "9300058 한솔고등학교\n",
      "급식 정보 조회 중: 날짜=20250618\n"
     ]
    },
    {
     "name": "stderr",
     "output_type": "stream",
     "text": [
      "고등학교 급식 조회:  95%|████████████████████████████████████████████████▋  | 21/22 [00:05<00:00,  3.58it/s]"
     ]
    },
    {
     "name": "stdout",
     "output_type": "stream",
     "text": [
      "mealService 응답코드: 200\n",
      "급식 데이터 수: 61\n",
      "9300270 해밀고등학교\n",
      "급식 정보 조회 중: 날짜=20250618\n"
     ]
    },
    {
     "name": "stderr",
     "output_type": "stream",
     "text": [
      "고등학교 급식 조회: 100%|███████████████████████████████████████████████████| 22/22 [00:05<00:00,  4.04it/s]"
     ]
    },
    {
     "name": "stdout",
     "output_type": "stream",
     "text": [
      "mealService 응답코드: 200\n",
      "급식 데이터 수: 38\n",
      "수집된 급식 행 수: 24283\n",
      "수집된 전체 급식 행 수: 24283\n",
      "  교육청코드     학교코드     학교명      급식일자 식사명  \\\n",
      "0   B10  7010057  가락고등학교  20250519  중식   \n",
      "1   B10  7010057  가락고등학교  20250520  중식   \n",
      "2   B10  7010057  가락고등학교  20250521  중식   \n",
      "3   B10  7010057  가락고등학교  20250522  중식   \n",
      "4   B10  7010057  가락고등학교  20250523  중식   \n",
      "\n",
      "                                                급식식단  \n",
      "0  쌀밥 <br/>소고기미역국 (2.5.6.15.16.18)<br/>돼지갈비찜 (5.6...  \n",
      "1  쇠고기콩나물밥 (5.6.16)<br/>물만두국 (1.2.5.6.10.15.16.18...  \n",
      "2  새우볶음밥 (1.5.6.8.9.13.18)<br/>씨앗호떡파이 (1.2.3.5.6)...  \n",
      "3  쌀밥 <br/>볶음우동 (5.6.8.9.13.15.17.18)<br/>zero초코파...  \n",
      "4  현미밥 <br/>어묵국 (1.2.5.6.15.16.18)<br/>마라찜닭 (5.6....  \n"
     ]
    },
    {
     "name": "stderr",
     "output_type": "stream",
     "text": [
      "\n"
     ]
    },
    {
     "name": "stdout",
     "output_type": "stream",
     "text": [
      "응답코드 : 200\n"
     ]
    },
    {
     "name": "stderr",
     "output_type": "stream",
     "text": [
      "고등학교 급식 조회:   0%|                                                           | 0/187 [00:00<?, ?it/s]"
     ]
    },
    {
     "name": "stdout",
     "output_type": "stream",
     "text": [
      "7530907 가온고등학교\n",
      "급식 정보 조회 중: 날짜=20250618\n"
     ]
    },
    {
     "name": "stderr",
     "output_type": "stream",
     "text": [
      "고등학교 급식 조회:   1%|▎                                                  | 1/187 [00:00<00:54,  3.41it/s]"
     ]
    },
    {
     "name": "stdout",
     "output_type": "stream",
     "text": [
      "mealService 응답코드: 200\n",
      "급식 데이터 수: 44\n",
      "7530974 가운고등학교\n",
      "급식 정보 조회 중: 날짜=20250618\n"
     ]
    },
    {
     "name": "stderr",
     "output_type": "stream",
     "text": [
      "고등학교 급식 조회:   1%|▌                                                  | 2/187 [00:00<00:45,  4.09it/s]"
     ]
    },
    {
     "name": "stdout",
     "output_type": "stream",
     "text": [
      "mealService 응답코드: 200\n",
      "급식 데이터 수: 21\n",
      "7530854 가좌고등학교\n",
      "급식 정보 조회 중: 날짜=20250618\n"
     ]
    },
    {
     "name": "stderr",
     "output_type": "stream",
     "text": [
      "고등학교 급식 조회:   2%|▊                                                  | 3/187 [00:00<00:43,  4.26it/s]"
     ]
    },
    {
     "name": "stdout",
     "output_type": "stream",
     "text": [
      "mealService 응답코드: 200\n",
      "급식 데이터 수: 20\n",
      "7530633 가평고등학교\n",
      "급식 정보 조회 중: 날짜=20250618\n"
     ]
    },
    {
     "name": "stderr",
     "output_type": "stream",
     "text": [
      "고등학교 급식 조회:   2%|█                                                  | 4/187 [00:00<00:43,  4.25it/s]"
     ]
    },
    {
     "name": "stdout",
     "output_type": "stream",
     "text": [
      "mealService 응답코드: 200\n",
      "급식 데이터 수: 37\n",
      "7531270 갈매고등학교\n",
      "급식 정보 조회 중: 날짜=20250618\n"
     ]
    },
    {
     "name": "stderr",
     "output_type": "stream",
     "text": [
      "고등학교 급식 조회:   3%|█▎                                                 | 5/187 [00:01<00:42,  4.32it/s]"
     ]
    },
    {
     "name": "stdout",
     "output_type": "stream",
     "text": [
      "mealService 응답코드: 200\n",
      "급식 데이터 수: 20\n",
      "7531390 감일고등학교\n",
      "급식 정보 조회 중: 날짜=20250618\n"
     ]
    },
    {
     "name": "stderr",
     "output_type": "stream",
     "text": [
      "고등학교 급식 조회:   3%|█▋                                                 | 6/187 [00:01<00:43,  4.19it/s]"
     ]
    },
    {
     "name": "stdout",
     "output_type": "stream",
     "text": [
      "mealService 응답코드: 200\n",
      "급식 데이터 수: 21\n",
      "7531377 경기게임마이스터고등학교\n",
      "급식 정보 조회 중: 날짜=20250618\n"
     ]
    },
    {
     "name": "stderr",
     "output_type": "stream",
     "text": [
      "고등학교 급식 조회:   4%|█▉                                                 | 7/187 [00:01<00:41,  4.35it/s]"
     ]
    },
    {
     "name": "stdout",
     "output_type": "stream",
     "text": [
      "mealService 응답코드: 200\n",
      "급식 데이터 수: 8\n",
      "7531275 경기경영고등학교\n",
      "급식 정보 조회 중: 날짜=20250618\n"
     ]
    },
    {
     "name": "stderr",
     "output_type": "stream",
     "text": [
      "고등학교 급식 조회:   4%|██▏                                                | 8/187 [00:01<00:39,  4.51it/s]"
     ]
    },
    {
     "name": "stdout",
     "output_type": "stream",
     "text": [
      "mealService 응답코드: 200\n",
      "급식 데이터 수: 20\n",
      "7530045 경기과학고등학교\n",
      "급식 정보 조회 중: 날짜=20250618\n"
     ]
    },
    {
     "name": "stderr",
     "output_type": "stream",
     "text": [
      "고등학교 급식 조회:   5%|██▍                                                | 9/187 [00:02<00:40,  4.38it/s]"
     ]
    },
    {
     "name": "stdout",
     "output_type": "stream",
     "text": [
      "mealService 응답코드: 200\n",
      "급식 데이터 수: 58\n",
      "7531056 경기관광고등학교\n",
      "급식 정보 조회 중: 날짜=20250618\n"
     ]
    },
    {
     "name": "stderr",
     "output_type": "stream",
     "text": [
      "고등학교 급식 조회:   5%|██▋                                               | 10/187 [00:02<00:41,  4.31it/s]"
     ]
    },
    {
     "name": "stdout",
     "output_type": "stream",
     "text": [
      "mealService 응답코드: 200\n",
      "급식 데이터 수: 42\n",
      "7530989 경기국제통상고등학교\n",
      "급식 정보 조회 중: 날짜=20250618\n",
      "mealService 응답코드: 200\n",
      "급식 데이터 수: 20\n"
     ]
    },
    {
     "name": "stderr",
     "output_type": "stream",
     "text": [
      "고등학교 급식 조회:   6%|██▉                                               | 11/187 [00:02<00:38,  4.58it/s]"
     ]
    },
    {
     "name": "stdout",
     "output_type": "stream",
     "text": [
      "7530551 경기대명고등학교\n",
      "급식 정보 조회 중: 날짜=20250618\n",
      "mealService 응답코드: 200\n",
      "급식 데이터 수: 21\n"
     ]
    },
    {
     "name": "stderr",
     "output_type": "stream",
     "text": [
      "고등학교 급식 조회:   6%|███▏                                              | 12/187 [00:02<00:37,  4.72it/s]"
     ]
    },
    {
     "name": "stdout",
     "output_type": "stream",
     "text": [
      "7530903 경기모바일과학고등학교\n",
      "급식 정보 조회 중: 날짜=20250618\n",
      "mealService 응답코드: 200\n",
      "급식 데이터 수: 20\n"
     ]
    },
    {
     "name": "stderr",
     "output_type": "stream",
     "text": [
      "고등학교 급식 조회:   7%|███▍                                              | 13/187 [00:02<00:37,  4.64it/s]"
     ]
    },
    {
     "name": "stdout",
     "output_type": "stream",
     "text": [
      "7530945 경기물류고등학교\n",
      "급식 정보 조회 중: 날짜=20250618\n",
      "mealService 응답코드: 200\n",
      "급식 데이터 수: 21\n"
     ]
    },
    {
     "name": "stderr",
     "output_type": "stream",
     "text": [
      "고등학교 급식 조회:   7%|███▋                                              | 14/187 [00:03<00:37,  4.64it/s]"
     ]
    },
    {
     "name": "stdout",
     "output_type": "stream",
     "text": [
      "7530851 경기북과학고등학교\n",
      "급식 정보 조회 중: 날짜=20250618\n",
      "mealService 응답코드: 200\n",
      "급식 데이터 수: 60\n"
     ]
    },
    {
     "name": "stderr",
     "output_type": "stream",
     "text": [
      "고등학교 급식 조회:   8%|████                                              | 15/187 [00:03<00:39,  4.40it/s]"
     ]
    },
    {
     "name": "stdout",
     "output_type": "stream",
     "text": [
      "7531380 경기스마트고등학교\n",
      "급식 정보 조회 중: 날짜=20250618\n",
      "mealService 응답코드: 200\n",
      "급식 데이터 수: 21\n"
     ]
    },
    {
     "name": "stderr",
     "output_type": "stream",
     "text": [
      "고등학교 급식 조회:   9%|████▌                                             | 17/187 [00:03<00:36,  4.64it/s]"
     ]
    },
    {
     "name": "stdout",
     "output_type": "stream",
     "text": [
      "7530943 경기영상과학고등학교\n",
      "급식 정보 조회 중: 날짜=20250618\n",
      "mealService 응답코드: 200\n",
      "급식 데이터 수: 21\n",
      "7530569 경기예술고등학교\n",
      "급식 정보 조회 중: 날짜=20250618\n",
      "mealService 응답코드: 200\n",
      "급식 데이터 수: 21\n"
     ]
    },
    {
     "name": "stderr",
     "output_type": "stream",
     "text": [
      "고등학교 급식 조회:  10%|████▊                                             | 18/187 [00:04<00:36,  4.60it/s]"
     ]
    },
    {
     "name": "stdout",
     "output_type": "stream",
     "text": [
      "7530909 경기외국어고등학교\n",
      "급식 정보 조회 중: 날짜=20250618\n"
     ]
    },
    {
     "name": "stderr",
     "output_type": "stream",
     "text": [
      "고등학교 급식 조회:  10%|█████                                             | 19/187 [00:04<00:41,  4.03it/s]"
     ]
    },
    {
     "name": "stdout",
     "output_type": "stream",
     "text": [
      "mealService 응답코드: 200\n",
      "급식 데이터 수: 66\n",
      "7530908 경기자동차과학고등학교\n",
      "급식 정보 조회 중: 날짜=20250618\n"
     ]
    },
    {
     "name": "stderr",
     "output_type": "stream",
     "text": [
      "고등학교 급식 조회:  11%|█████▎                                            | 20/187 [00:04<00:41,  4.02it/s]"
     ]
    },
    {
     "name": "stdout",
     "output_type": "stream",
     "text": [
      "mealService 응답코드: 200\n",
      "급식 데이터 수: 40\n",
      "7530937 경기창조고등학교\n",
      "급식 정보 조회 중: 날짜=20250618\n"
     ]
    },
    {
     "name": "stderr",
     "output_type": "stream",
     "text": [
      "고등학교 급식 조회:  11%|█████▌                                            | 21/187 [00:04<00:39,  4.21it/s]"
     ]
    },
    {
     "name": "stdout",
     "output_type": "stream",
     "text": [
      "mealService 응답코드: 200\n",
      "급식 데이터 수: 20\n",
      "7530046 경기체육고등학교\n",
      "급식 정보 조회 중: 날짜=20250618\n",
      "mealService 응답코드: 200\n",
      "급식 데이터 수: 46\n"
     ]
    },
    {
     "name": "stderr",
     "output_type": "stream",
     "text": [
      "고등학교 급식 조회:  12%|█████▉                                            | 22/187 [00:05<00:37,  4.39it/s]"
     ]
    },
    {
     "name": "stdout",
     "output_type": "stream",
     "text": [
      "7531378 경기폴리텍고등학교\n",
      "급식 정보 조회 중: 날짜=20250618\n",
      "mealService 응답코드: 200\n",
      "급식 데이터 수: 21\n"
     ]
    },
    {
     "name": "stderr",
     "output_type": "stream",
     "text": [
      "고등학교 급식 조회:  12%|██████▏                                           | 23/187 [00:05<00:36,  4.47it/s]"
     ]
    },
    {
     "name": "stdout",
     "output_type": "stream",
     "text": [
      "7531382 경기항공고등학교\n",
      "급식 정보 조회 중: 날짜=20250618\n",
      "mealService 응답코드: 200\n",
      "급식 데이터 수: 21\n"
     ]
    },
    {
     "name": "stderr",
     "output_type": "stream",
     "text": [
      "고등학교 급식 조회:  13%|██████▋                                           | 25/187 [00:05<00:34,  4.74it/s]"
     ]
    },
    {
     "name": "stdout",
     "output_type": "stream",
     "text": [
      "7530995 경민IT고등학교\n",
      "급식 정보 조회 중: 날짜=20250618\n",
      "mealService 응답코드: 200\n",
      "급식 데이터 수: 21\n"
     ]
    },
    {
     "name": "stderr",
     "output_type": "stream",
     "text": [
      "고등학교 급식 조회:  14%|██████▉                                           | 26/187 [00:05<00:33,  4.83it/s]"
     ]
    },
    {
     "name": "stdout",
     "output_type": "stream",
     "text": [
      "7530141 경민고등학교\n",
      "급식 정보 조회 중: 날짜=20250618\n",
      "mealService 응답코드: 200\n",
      "급식 데이터 수: 21\n",
      "7531061 경민비즈니스고등학교\n",
      "급식 정보 조회 중: 날짜=20250618\n",
      "mealService 응답코드: 200\n",
      "급식 데이터 수: 21\n"
     ]
    },
    {
     "name": "stderr",
     "output_type": "stream",
     "text": [
      "고등학교 급식 조회:  14%|███████▏                                          | 27/187 [00:06<00:32,  4.86it/s]"
     ]
    },
    {
     "name": "stdout",
     "output_type": "stream",
     "text": [
      "7530143 경안고등학교\n",
      "급식 정보 조회 중: 날짜=20250618\n",
      "mealService 응답코드: 200\n",
      "급식 데이터 수: 21\n"
     ]
    },
    {
     "name": "stderr",
     "output_type": "stream",
     "text": [
      "고등학교 급식 조회:  15%|███████▍                                          | 28/187 [00:06<00:33,  4.79it/s]"
     ]
    },
    {
     "name": "stdout",
     "output_type": "stream",
     "text": [
      "7531055 경일관광경영고등학교\n",
      "급식 정보 조회 중: 날짜=20250618\n",
      "mealService 응답코드: 200\n",
      "급식 데이터 수: 21\n"
     ]
    },
    {
     "name": "stderr",
     "output_type": "stream",
     "text": [
      "고등학교 급식 조회:  16%|████████                                          | 30/187 [00:06<00:31,  4.97it/s]"
     ]
    },
    {
     "name": "stdout",
     "output_type": "stream",
     "text": [
      "7530993 경화여자English Business고등학교\n",
      "급식 정보 조회 중: 날짜=20250618\n",
      "mealService 응답코드: 200\n",
      "mealServiceDietInfo 키 없음: {'RESULT': {'CODE': 'INFO-200', 'MESSAGE': '해당하는 데이터가 없습니다.'}}\n",
      "7530535 경화여자고등학교\n",
      "급식 정보 조회 중: 날짜=20250618\n"
     ]
    },
    {
     "name": "stderr",
     "output_type": "stream",
     "text": [
      "고등학교 급식 조회:  17%|████████▎                                         | 31/187 [00:06<00:31,  4.96it/s]"
     ]
    },
    {
     "name": "stdout",
     "output_type": "stream",
     "text": [
      "mealService 응답코드: 200\n",
      "mealServiceDietInfo 키 없음: {'RESULT': {'CODE': 'INFO-200', 'MESSAGE': '해당하는 데이터가 없습니다.'}}\n",
      "7530047 계남고등학교\n",
      "급식 정보 조회 중: 날짜=20250618\n"
     ]
    },
    {
     "name": "stderr",
     "output_type": "stream",
     "text": [
      "고등학교 급식 조회:  17%|████████▌                                         | 32/187 [00:07<00:31,  4.90it/s]"
     ]
    },
    {
     "name": "stdout",
     "output_type": "stream",
     "text": [
      "mealService 응답코드: 200\n",
      "급식 데이터 수: 21\n",
      "7530144 계원예술고등학교\n",
      "급식 정보 조회 중: 날짜=20250618\n"
     ]
    },
    {
     "name": "stderr",
     "output_type": "stream",
     "text": [
      "고등학교 급식 조회:  18%|████████▊                                         | 33/187 [00:07<00:32,  4.76it/s]"
     ]
    },
    {
     "name": "stdout",
     "output_type": "stream",
     "text": [
      "mealService 응답코드: 200\n",
      "급식 데이터 수: 41\n",
      "7531242 고림고등학교\n",
      "급식 정보 조회 중: 날짜=20250618\n",
      "mealService 응답코드: 200\n",
      "급식 데이터 수: 21\n"
     ]
    },
    {
     "name": "stderr",
     "output_type": "stream",
     "text": [
      "고등학교 급식 조회:  18%|█████████                                         | 34/187 [00:07<00:31,  4.85it/s]"
     ]
    },
    {
     "name": "stdout",
     "output_type": "stream",
     "text": [
      "7530878 고색고등학교\n",
      "급식 정보 조회 중: 날짜=20250618\n",
      "mealService 응답코드: 200\n",
      "급식 데이터 수: 20\n"
     ]
    },
    {
     "name": "stderr",
     "output_type": "stream",
     "text": [
      "고등학교 급식 조회:  19%|█████████▋                                        | 36/187 [00:07<00:31,  4.82it/s]"
     ]
    },
    {
     "name": "stdout",
     "output_type": "stream",
     "text": [
      "7530576 고양고등학교\n",
      "급식 정보 조회 중: 날짜=20250618\n",
      "mealService 응답코드: 200\n",
      "급식 데이터 수: 21\n",
      "7530977 고양국제고등학교\n",
      "급식 정보 조회 중: 날짜=20250618\n",
      "mealService 응답코드: 200\n",
      "급식 데이터 수: 56\n"
     ]
    },
    {
     "name": "stderr",
     "output_type": "stream",
     "text": [
      "고등학교 급식 조회:  20%|█████████▉                                        | 37/187 [00:08<00:32,  4.56it/s]"
     ]
    },
    {
     "name": "stdout",
     "output_type": "stream",
     "text": [
      "7531099 고양동산고등학교\n",
      "급식 정보 조회 중: 날짜=20250618\n",
      "mealService 응답코드: 200\n",
      "급식 데이터 수: 21\n"
     ]
    },
    {
     "name": "stderr",
     "output_type": "stream",
     "text": [
      "고등학교 급식 조회:  21%|██████████▍                                       | 39/187 [00:08<00:30,  4.84it/s]"
     ]
    },
    {
     "name": "stdout",
     "output_type": "stream",
     "text": [
      "7530777 고양예술고등학교\n",
      "급식 정보 조회 중: 날짜=20250618\n",
      "mealService 응답코드: 200\n",
      "mealServiceDietInfo 키 없음: {'RESULT': {'CODE': 'INFO-200', 'MESSAGE': '해당하는 데이터가 없습니다.'}}\n",
      "7530552 고양외국어고등학교\n",
      "급식 정보 조회 중: 날짜=20250618\n",
      "mealService 응답코드: 200\n",
      "급식 데이터 수: 63\n"
     ]
    },
    {
     "name": "stderr",
     "output_type": "stream",
     "text": [
      "고등학교 급식 조회:  22%|██████████▉                                       | 41/187 [00:08<00:30,  4.77it/s]"
     ]
    },
    {
     "name": "stdout",
     "output_type": "stream",
     "text": [
      "7530892 고양일고등학교\n",
      "급식 정보 조회 중: 날짜=20250618\n",
      "mealService 응답코드: 200\n",
      "급식 데이터 수: 21\n"
     ]
    },
    {
     "name": "stderr",
     "output_type": "stream",
     "text": [
      "고등학교 급식 조회:  22%|███████████▏                                      | 42/187 [00:09<00:30,  4.82it/s]"
     ]
    },
    {
     "name": "stdout",
     "output_type": "stream",
     "text": [
      "7530520 고잔고등학교\n",
      "급식 정보 조회 중: 날짜=20250618\n",
      "mealService 응답코드: 200\n",
      "급식 데이터 수: 21\n",
      "7531375 고촌고등학교\n",
      "급식 정보 조회 중: 날짜=20250618\n",
      "mealService 응답코드: 200\n",
      "급식 데이터 수: 20\n"
     ]
    },
    {
     "name": "stderr",
     "output_type": "stream",
     "text": [
      "고등학교 급식 조회:  23%|███████████▍                                      | 43/187 [00:09<00:29,  4.90it/s]"
     ]
    },
    {
     "name": "stdout",
     "output_type": "stream",
     "text": [
      "7531239 곡정고등학교\n",
      "급식 정보 조회 중: 날짜=20250618\n",
      "mealService 응답코드: 200\n",
      "급식 데이터 수: 21\n"
     ]
    },
    {
     "name": "stderr",
     "output_type": "stream",
     "text": [
      "고등학교 급식 조회:  24%|████████████                                      | 45/187 [00:09<00:29,  4.89it/s]"
     ]
    },
    {
     "name": "stdout",
     "output_type": "stream",
     "text": [
      "7530632 곤지암고등학교\n",
      "급식 정보 조회 중: 날짜=20250618\n",
      "mealService 응답코드: 200\n",
      "급식 데이터 수: 20\n"
     ]
    },
    {
     "name": "stderr",
     "output_type": "stream",
     "text": [
      "고등학교 급식 조회:  25%|████████████▎                                     | 46/187 [00:09<00:28,  5.01it/s]"
     ]
    },
    {
     "name": "stdout",
     "output_type": "stream",
     "text": [
      "7530048 과천고등학교\n",
      "급식 정보 조회 중: 날짜=20250618\n",
      "mealService 응답코드: 200\n",
      "급식 데이터 수: 21\n",
      "7530145 과천여자고등학교\n",
      "급식 정보 조회 중: 날짜=20250618\n",
      "mealService 응답코드: 200\n",
      "급식 데이터 수: 42\n"
     ]
    },
    {
     "name": "stderr",
     "output_type": "stream",
     "text": [
      "고등학교 급식 조회:  26%|████████████▊                                     | 48/187 [00:10<00:27,  5.10it/s]"
     ]
    },
    {
     "name": "stdout",
     "output_type": "stream",
     "text": [
      "7530146 과천외국어고등학교\n",
      "급식 정보 조회 중: 날짜=20250618\n",
      "mealService 응답코드: 200\n",
      "mealServiceDietInfo 키 없음: {'RESULT': {'CODE': 'INFO-200', 'MESSAGE': '해당하는 데이터가 없습니다.'}}\n",
      "7530469 과천중앙고등학교\n",
      "급식 정보 조회 중: 날짜=20250618\n"
     ]
    },
    {
     "name": "stderr",
     "output_type": "stream",
     "text": [
      "고등학교 급식 조회:  26%|█████████████                                     | 49/187 [00:10<00:27,  4.98it/s]"
     ]
    },
    {
     "name": "stdout",
     "output_type": "stream",
     "text": [
      "mealService 응답코드: 200\n",
      "급식 데이터 수: 21\n",
      "7530553 관양고등학교\n",
      "급식 정보 조회 중: 날짜=20250618\n"
     ]
    },
    {
     "name": "stderr",
     "output_type": "stream",
     "text": [
      "고등학교 급식 조회:  27%|█████████████▎                                    | 50/187 [00:10<00:28,  4.84it/s]"
     ]
    },
    {
     "name": "stdout",
     "output_type": "stream",
     "text": [
      "mealService 응답코드: 200\n",
      "급식 데이터 수: 21\n",
      "7530049 관인고등학교\n",
      "급식 정보 조회 중: 날짜=20250618\n",
      "mealService 응답코드: 200\n",
      "급식 데이터 수: 21\n"
     ]
    },
    {
     "name": "stderr",
     "output_type": "stream",
     "text": [
      "고등학교 급식 조회:  28%|█████████████▉                                    | 52/187 [00:11<00:27,  4.92it/s]"
     ]
    },
    {
     "name": "stdout",
     "output_type": "stream",
     "text": [
      "7531040 광교고등학교\n",
      "급식 정보 조회 중: 날짜=20250618\n",
      "mealService 응답코드: 200\n",
      "급식 데이터 수: 20\n"
     ]
    },
    {
     "name": "stderr",
     "output_type": "stream",
     "text": [
      "고등학교 급식 조회:  28%|██████████████▏                                   | 53/187 [00:11<00:26,  4.97it/s]"
     ]
    },
    {
     "name": "stdout",
     "output_type": "stream",
     "text": [
      "7530885 광남고등학교\n",
      "급식 정보 조회 중: 날짜=20250618\n",
      "mealService 응답코드: 200\n",
      "급식 데이터 수: 21\n"
     ]
    },
    {
     "name": "stderr",
     "output_type": "stream",
     "text": [
      "고등학교 급식 조회:  29%|██████████████▍                                   | 54/187 [00:11<00:26,  5.09it/s]"
     ]
    },
    {
     "name": "stdout",
     "output_type": "stream",
     "text": [
      "7530934 광덕고등학교\n",
      "급식 정보 조회 중: 날짜=20250618\n",
      "mealService 응답코드: 200\n",
      "급식 데이터 수: 21\n"
     ]
    },
    {
     "name": "stderr",
     "output_type": "stream",
     "text": [
      "고등학교 급식 조회:  29%|██████████████▋                                   | 55/187 [00:11<00:25,  5.12it/s]"
     ]
    },
    {
     "name": "stdout",
     "output_type": "stream",
     "text": [
      "7530542 광동고등학교\n",
      "급식 정보 조회 중: 날짜=20250618\n",
      "mealService 응답코드: 200\n",
      "급식 데이터 수: 21\n",
      "7530050 광명고등학교\n",
      "급식 정보 조회 중: 날짜=20250618\n",
      "mealService 응답코드: 200\n",
      "급식 데이터 수: 21\n"
     ]
    },
    {
     "name": "stderr",
     "output_type": "stream",
     "text": [
      "고등학교 급식 조회:  30%|██████████████▉                                   | 56/187 [00:11<00:25,  5.08it/s]"
     ]
    },
    {
     "name": "stdout",
     "output_type": "stream",
     "text": [
      "7530051 광명북고등학교\n",
      "급식 정보 조회 중: 날짜=20250618\n",
      "mealService 응답코드: 200\n",
      "급식 데이터 수: 21\n"
     ]
    },
    {
     "name": "stderr",
     "output_type": "stream",
     "text": [
      "고등학교 급식 조회:  30%|███████████████▏                                  | 57/187 [00:12<00:26,  4.95it/s]"
     ]
    },
    {
     "name": "stdout",
     "output_type": "stream",
     "text": [
      "7530053 광문고등학교\n",
      "급식 정보 조회 중: 날짜=20250618\n",
      "mealService 응답코드: 200\n",
      "급식 데이터 수: 21\n"
     ]
    },
    {
     "name": "stderr",
     "output_type": "stream",
     "text": [
      "고등학교 급식 조회:  31%|███████████████▌                                  | 58/187 [00:12<00:27,  4.73it/s]"
     ]
    },
    {
     "name": "stdout",
     "output_type": "stream",
     "text": [
      "7530521 광주고등학교\n",
      "급식 정보 조회 중: 날짜=20250618\n",
      "mealService 응답코드: 200\n",
      "급식 데이터 수: 21\n"
     ]
    },
    {
     "name": "stderr",
     "output_type": "stream",
     "text": [
      "고등학교 급식 조회:  32%|████████████████                                  | 60/187 [00:12<00:26,  4.81it/s]"
     ]
    },
    {
     "name": "stdout",
     "output_type": "stream",
     "text": [
      "7530786 광주중앙고등학교\n",
      "급식 정보 조회 중: 날짜=20250618\n",
      "mealService 응답코드: 200\n",
      "급식 데이터 수: 21\n",
      "7530838 광탄고등학교\n",
      "급식 정보 조회 중: 날짜=20250618\n",
      "mealService 응답코드: 200\n",
      "급식 데이터 수: 20\n"
     ]
    },
    {
     "name": "stderr",
     "output_type": "stream",
     "text": [
      "고등학교 급식 조회:  33%|████████████████▎                                 | 61/187 [00:13<00:25,  4.93it/s]"
     ]
    },
    {
     "name": "stdout",
     "output_type": "stream",
     "text": [
      "7531100 광휘고등학교\n",
      "급식 정보 조회 중: 날짜=20250618\n",
      "mealService 응답코드: 200\n",
      "급식 데이터 수: 21\n"
     ]
    },
    {
     "name": "stderr",
     "output_type": "stream",
     "text": [
      "고등학교 급식 조회:  34%|████████████████▊                                 | 63/187 [00:13<00:25,  4.85it/s]"
     ]
    },
    {
     "name": "stdout",
     "output_type": "stream",
     "text": [
      "7530774 교하고등학교\n",
      "급식 정보 조회 중: 날짜=20250618\n",
      "mealService 응답코드: 200\n",
      "급식 데이터 수: 21\n"
     ]
    },
    {
     "name": "stderr",
     "output_type": "stream",
     "text": [
      "고등학교 급식 조회:  34%|█████████████████                                 | 64/187 [00:13<00:25,  4.89it/s]"
     ]
    },
    {
     "name": "stdout",
     "output_type": "stream",
     "text": [
      "7530054 구리고등학교\n",
      "급식 정보 조회 중: 날짜=20250618\n",
      "mealService 응답코드: 200\n",
      "급식 데이터 수: 21\n",
      "7530055 구리여자고등학교\n",
      "급식 정보 조회 중: 날짜=20250618\n",
      "mealService 응답코드: 200\n",
      "급식 데이터 수: 21\n"
     ]
    },
    {
     "name": "stderr",
     "output_type": "stream",
     "text": [
      "고등학교 급식 조회:  35%|█████████████████▍                                | 65/187 [00:13<00:25,  4.86it/s]"
     ]
    },
    {
     "name": "stdout",
     "output_type": "stream",
     "text": [
      "7530611 구성고등학교\n",
      "급식 정보 조회 중: 날짜=20250618\n",
      "mealService 응답코드: 200\n",
      "급식 데이터 수: 21\n"
     ]
    },
    {
     "name": "stderr",
     "output_type": "stream",
     "text": [
      "고등학교 급식 조회:  35%|█████████████████▋                                | 66/187 [00:14<00:25,  4.79it/s]"
     ]
    },
    {
     "name": "stdout",
     "output_type": "stream",
     "text": [
      "7530766 군서고등학교\n",
      "급식 정보 조회 중: 날짜=20250618\n",
      "mealService 응답코드: 200\n",
      "급식 데이터 수: 21\n"
     ]
    },
    {
     "name": "stderr",
     "output_type": "stream",
     "text": [
      "고등학교 급식 조회:  36%|██████████████████▏                               | 68/187 [00:14<00:25,  4.70it/s]"
     ]
    },
    {
     "name": "stdout",
     "output_type": "stream",
     "text": [
      "7531293 군자디지털과학고등학교\n",
      "급식 정보 조회 중: 날짜=20250618\n",
      "mealService 응답코드: 200\n",
      "급식 데이터 수: 21\n",
      "7530902 군포e비즈니스고등학교\n",
      "급식 정보 조회 중: 날짜=20250618\n",
      "mealService 응답코드: 200\n",
      "급식 데이터 수: 21\n"
     ]
    },
    {
     "name": "stderr",
     "output_type": "stream",
     "text": [
      "고등학교 급식 조회:  37%|██████████████████▋                               | 70/187 [00:14<00:24,  4.80it/s]"
     ]
    },
    {
     "name": "stdout",
     "output_type": "stream",
     "text": [
      "7530148 군포고등학교\n",
      "급식 정보 조회 중: 날짜=20250618\n",
      "mealService 응답코드: 200\n",
      "급식 데이터 수: 21\n",
      "7531272 군포중앙고등학교\n",
      "급식 정보 조회 중: 날짜=20250618\n",
      "mealService 응답코드: 200\n",
      "급식 데이터 수: 21\n"
     ]
    },
    {
     "name": "stderr",
     "output_type": "stream",
     "text": [
      "고등학교 급식 조회:  38%|██████████████████▉                               | 71/187 [00:15<00:24,  4.79it/s]"
     ]
    },
    {
     "name": "stdout",
     "output_type": "stream",
     "text": [
      "7530057 권선고등학교\n",
      "급식 정보 조회 중: 날짜=20250618\n",
      "mealService 응답코드: 200\n",
      "급식 데이터 수: 21\n"
     ]
    },
    {
     "name": "stderr",
     "output_type": "stream",
     "text": [
      "고등학교 급식 조회:  39%|███████████████████▎                              | 72/187 [00:15<00:24,  4.62it/s]"
     ]
    },
    {
     "name": "stdout",
     "output_type": "stream",
     "text": [
      "7531381 근명고등학교\n",
      "급식 정보 조회 중: 날짜=20250618\n",
      "mealService 응답코드: 200\n",
      "급식 데이터 수: 21\n"
     ]
    },
    {
     "name": "stderr",
     "output_type": "stream",
     "text": [
      "고등학교 급식 조회:  39%|███████████████████▌                              | 73/187 [00:15<00:24,  4.63it/s]"
     ]
    },
    {
     "name": "stdout",
     "output_type": "stream",
     "text": [
      "7530629 금곡고등학교\n",
      "급식 정보 조회 중: 날짜=20250618\n",
      "mealService 응답코드: 200\n",
      "급식 데이터 수: 21\n"
     ]
    },
    {
     "name": "stderr",
     "output_type": "stream",
     "text": [
      "고등학교 급식 조회:  40%|████████████████████                              | 75/187 [00:16<00:23,  4.79it/s]"
     ]
    },
    {
     "name": "stdout",
     "output_type": "stream",
     "text": [
      "7530656 금촌고등학교\n",
      "급식 정보 조회 중: 날짜=20250618\n",
      "mealService 응답코드: 200\n",
      "급식 데이터 수: 21\n"
     ]
    },
    {
     "name": "stderr",
     "output_type": "stream",
     "text": [
      "고등학교 급식 조회:  41%|████████████████████▎                             | 76/187 [00:16<00:23,  4.81it/s]"
     ]
    },
    {
     "name": "stdout",
     "output_type": "stream",
     "text": [
      "7530522 기흥고등학교\n",
      "급식 정보 조회 중: 날짜=20250618\n",
      "mealService 응답코드: 200\n",
      "급식 데이터 수: 21\n",
      "7530058 김포고등학교\n",
      "급식 정보 조회 중: 날짜=20250618\n",
      "mealService 응답코드: 200\n",
      "급식 데이터 수: 36\n"
     ]
    },
    {
     "name": "stderr",
     "output_type": "stream",
     "text": [
      "고등학교 급식 조회:  42%|████████████████████▊                             | 78/187 [00:16<00:22,  4.74it/s]"
     ]
    },
    {
     "name": "stdout",
     "output_type": "stream",
     "text": [
      "7531517 김포과학기술고등학교\n",
      "급식 정보 조회 중: 날짜=20250618\n",
      "mealService 응답코드: 200\n",
      "급식 데이터 수: 17\n",
      "7530745 김포외국어고등학교\n",
      "급식 정보 조회 중: 날짜=20250618\n",
      "mealService 응답코드: 200\n",
      "급식 데이터 수: 66\n"
     ]
    },
    {
     "name": "stderr",
     "output_type": "stream",
     "text": [
      "고등학교 급식 조회:  42%|█████████████████████                             | 79/187 [00:16<00:24,  4.37it/s]"
     ]
    },
    {
     "name": "stdout",
     "output_type": "stream",
     "text": [
      "7531149 김포제일고등학교\n",
      "급식 정보 조회 중: 날짜=20250618\n",
      "mealService 응답코드: 200\n",
      "급식 데이터 수: 20\n"
     ]
    },
    {
     "name": "stderr",
     "output_type": "stream",
     "text": [
      "고등학교 급식 조회:  43%|█████████████████████▋                            | 81/187 [00:17<00:23,  4.47it/s]"
     ]
    },
    {
     "name": "stdout",
     "output_type": "stream",
     "text": [
      "7531530 김포호수고등학교\n",
      "급식 정보 조회 중: 날짜=20250618\n",
      "mealService 응답코드: 200\n",
      "급식 데이터 수: 21\n"
     ]
    },
    {
     "name": "stderr",
     "output_type": "stream",
     "text": [
      "고등학교 급식 조회:  44%|█████████████████████▉                            | 82/187 [00:17<00:22,  4.61it/s]"
     ]
    },
    {
     "name": "stdout",
     "output_type": "stream",
     "text": [
      "7530880 나루고등학교\n",
      "급식 정보 조회 중: 날짜=20250618\n",
      "mealService 응답코드: 200\n",
      "급식 데이터 수: 19\n",
      "7530149 낙생고등학교\n",
      "급식 정보 조회 중: 날짜=20250618\n",
      "mealService 응답코드: 200\n",
      "급식 데이터 수: 39\n"
     ]
    },
    {
     "name": "stderr",
     "output_type": "stream",
     "text": [
      "고등학교 급식 조회:  45%|██████████████████████▍                           | 84/187 [00:17<00:21,  4.82it/s]"
     ]
    },
    {
     "name": "stdout",
     "output_type": "stream",
     "text": [
      "7530783 남양고등학교\n",
      "급식 정보 조회 중: 날짜=20250618\n",
      "mealService 응답코드: 200\n",
      "급식 데이터 수: 22\n",
      "7531425 남양주고등학교\n",
      "급식 정보 조회 중: 날짜=20250618\n"
     ]
    },
    {
     "name": "stderr",
     "output_type": "stream",
     "text": [
      "고등학교 급식 조회:  45%|██████████████████████▋                           | 85/187 [00:18<00:21,  4.83it/s]"
     ]
    },
    {
     "name": "stdout",
     "output_type": "stream",
     "text": [
      "mealService 응답코드: 200\n",
      "급식 데이터 수: 21\n",
      "7531376 남양주다산고등학교\n",
      "급식 정보 조회 중: 날짜=20250618\n"
     ]
    },
    {
     "name": "stderr",
     "output_type": "stream",
     "text": [
      "고등학교 급식 조회:  46%|██████████████████████▉                           | 86/187 [00:18<00:21,  4.63it/s]"
     ]
    },
    {
     "name": "stdout",
     "output_type": "stream",
     "text": [
      "mealService 응답코드: 200\n",
      "급식 데이터 수: 21\n",
      "7530059 남한고등학교\n",
      "급식 정보 조회 중: 날짜=20250618\n"
     ]
    },
    {
     "name": "stderr",
     "output_type": "stream",
     "text": [
      "고등학교 급식 조회:  47%|███████████████████████▎                          | 87/187 [00:18<00:21,  4.65it/s]"
     ]
    },
    {
     "name": "stdout",
     "output_type": "stream",
     "text": [
      "mealService 응답코드: 200\n",
      "급식 데이터 수: 21\n",
      "7531527 내손고등학교\n",
      "급식 정보 조회 중: 날짜=20250618\n"
     ]
    },
    {
     "name": "stderr",
     "output_type": "stream",
     "text": [
      "고등학교 급식 조회:  47%|███████████████████████▌                          | 88/187 [00:18<00:21,  4.66it/s]"
     ]
    },
    {
     "name": "stdout",
     "output_type": "stream",
     "text": [
      "mealService 응답코드: 200\n",
      "급식 데이터 수: 21\n",
      "7530625 늘푸른고등학교\n",
      "급식 정보 조회 중: 날짜=20250618\n"
     ]
    },
    {
     "name": "stderr",
     "output_type": "stream",
     "text": [
      "고등학교 급식 조회:  48%|███████████████████████▊                          | 89/187 [00:19<00:23,  4.12it/s]"
     ]
    },
    {
     "name": "stdout",
     "output_type": "stream",
     "text": [
      "mealService 응답코드: 200\n",
      "급식 데이터 수: 20\n",
      "7530060 능곡고등학교\n",
      "급식 정보 조회 중: 날짜=20250618\n"
     ]
    },
    {
     "name": "stderr",
     "output_type": "stream",
     "text": [
      "고등학교 급식 조회:  48%|████████████████████████                          | 90/187 [00:19<00:24,  3.93it/s]"
     ]
    },
    {
     "name": "stdout",
     "output_type": "stream",
     "text": [
      "mealService 응답코드: 200\n",
      "급식 데이터 수: 21\n",
      "7530942 능동고등학교\n",
      "급식 정보 조회 중: 날짜=20250618\n"
     ]
    },
    {
     "name": "stderr",
     "output_type": "stream",
     "text": [
      "고등학교 급식 조회:  49%|████████████████████████▎                         | 91/187 [00:19<00:24,  3.95it/s]"
     ]
    },
    {
     "name": "stdout",
     "output_type": "stream",
     "text": [
      "mealService 응답코드: 200\n",
      "급식 데이터 수: 21\n",
      "7530608 다산고등학교\n",
      "급식 정보 조회 중: 날짜=20250618\n"
     ]
    },
    {
     "name": "stderr",
     "output_type": "stream",
     "text": [
      "고등학교 급식 조회:  49%|████████████████████████▌                         | 92/187 [00:19<00:24,  3.92it/s]"
     ]
    },
    {
     "name": "stdout",
     "output_type": "stream",
     "text": [
      "mealService 응답코드: 200\n",
      "급식 데이터 수: 21\n",
      "7530654 단원고등학교\n",
      "급식 정보 조회 중: 날짜=20250618\n"
     ]
    },
    {
     "name": "stderr",
     "output_type": "stream",
     "text": [
      "고등학교 급식 조회:  50%|████████████████████████▊                         | 93/187 [00:20<00:23,  4.05it/s]"
     ]
    },
    {
     "name": "stdout",
     "output_type": "stream",
     "text": [
      "mealService 응답코드: 200\n",
      "급식 데이터 수: 21\n",
      "7530785 대부고등학교\n",
      "급식 정보 조회 중: 날짜=20250618\n"
     ]
    },
    {
     "name": "stderr",
     "output_type": "stream",
     "text": [
      "고등학교 급식 조회:  50%|█████████████████████████▏                        | 94/187 [00:20<00:22,  4.06it/s]"
     ]
    },
    {
     "name": "stdout",
     "output_type": "stream",
     "text": [
      "mealService 응답코드: 200\n",
      "급식 데이터 수: 20\n",
      "7530150 대신고등학교\n",
      "급식 정보 조회 중: 날짜=20250618\n"
     ]
    },
    {
     "name": "stderr",
     "output_type": "stream",
     "text": [
      "고등학교 급식 조회:  51%|█████████████████████████▍                        | 95/187 [00:20<00:25,  3.64it/s]"
     ]
    },
    {
     "name": "stdout",
     "output_type": "stream",
     "text": [
      "mealService 응답코드: 200\n",
      "급식 데이터 수: 40\n",
      "7530824 대지고등학교\n",
      "급식 정보 조회 중: 날짜=20250618\n",
      "mealService 응답코드: 200\n",
      "급식 데이터 수: 21\n"
     ]
    },
    {
     "name": "stderr",
     "output_type": "stream",
     "text": [
      "고등학교 급식 조회:  51%|█████████████████████████▋                        | 96/187 [00:20<00:22,  3.96it/s]"
     ]
    },
    {
     "name": "stdout",
     "output_type": "stream",
     "text": [
      "7530554 대평고등학교\n",
      "급식 정보 조회 중: 날짜=20250618\n",
      "mealService 응답코드: 200\n",
      "급식 데이터 수: 21\n"
     ]
    },
    {
     "name": "stderr",
     "output_type": "stream",
     "text": [
      "고등학교 급식 조회:  52%|█████████████████████████▉                        | 97/187 [00:21<00:22,  4.09it/s]"
     ]
    },
    {
     "name": "stdout",
     "output_type": "stream",
     "text": [
      "7531042 대화고등학교\n",
      "급식 정보 조회 중: 날짜=20250618\n",
      "mealService 응답코드: 200\n",
      "급식 데이터 수: 21\n"
     ]
    },
    {
     "name": "stderr",
     "output_type": "stream",
     "text": [
      "고등학교 급식 조회:  53%|██████████████████████████▍                       | 99/187 [00:21<00:19,  4.47it/s]"
     ]
    },
    {
     "name": "stdout",
     "output_type": "stream",
     "text": [
      "7530619 덕계고등학교\n",
      "급식 정보 조회 중: 날짜=20250618\n",
      "mealService 응답코드: 200\n",
      "급식 데이터 수: 20\n",
      "7530555 덕산고등학교\n",
      "급식 정보 조회 중: 날짜=20250618\n",
      "mealService 응답코드: 200\n",
      "급식 데이터 수: 21\n"
     ]
    },
    {
     "name": "stderr",
     "output_type": "stream",
     "text": [
      "고등학교 급식 조회:  53%|██████████████████████████▏                      | 100/187 [00:21<00:19,  4.43it/s]"
     ]
    },
    {
     "name": "stdout",
     "output_type": "stream",
     "text": [
      "7530151 덕소고등학교\n",
      "급식 정보 조회 중: 날짜=20250618\n",
      "mealService 응답코드: 200\n",
      "급식 데이터 수: 21\n"
     ]
    },
    {
     "name": "stderr",
     "output_type": "stream",
     "text": [
      "고등학교 급식 조회:  54%|██████████████████████████▍                      | 101/187 [00:22<00:20,  4.22it/s]"
     ]
    },
    {
     "name": "stdout",
     "output_type": "stream",
     "text": [
      "7531328 덕영고등학교\n",
      "급식 정보 조회 중: 날짜=20250618\n",
      "mealService 응답코드: 200\n",
      "급식 데이터 수: 21\n"
     ]
    },
    {
     "name": "stderr",
     "output_type": "stream",
     "text": [
      "고등학교 급식 조회:  55%|██████████████████████████▋                      | 102/187 [00:22<00:20,  4.12it/s]"
     ]
    },
    {
     "name": "stdout",
     "output_type": "stream",
     "text": [
      "7531043 덕이고등학교\n",
      "급식 정보 조회 중: 날짜=20250618\n",
      "mealService 응답코드: 200\n",
      "급식 데이터 수: 21\n"
     ]
    },
    {
     "name": "stderr",
     "output_type": "stream",
     "text": [
      "고등학교 급식 조회:  56%|███████████████████████████▎                     | 104/187 [00:22<00:18,  4.53it/s]"
     ]
    },
    {
     "name": "stdout",
     "output_type": "stream",
     "text": [
      "7530470 덕정고등학교\n",
      "급식 정보 조회 중: 날짜=20250618\n",
      "mealService 응답코드: 200\n",
      "급식 데이터 수: 21\n",
      "7530979 덕현고등학교\n",
      "급식 정보 조회 중: 날짜=20250618\n",
      "mealService 응답코드: 200\n",
      "급식 데이터 수: 21\n"
     ]
    },
    {
     "name": "stderr",
     "output_type": "stream",
     "text": [
      "고등학교 급식 조회:  56%|███████████████████████████▌                     | 105/187 [00:22<00:17,  4.63it/s]"
     ]
    },
    {
     "name": "stdout",
     "output_type": "stream",
     "text": [
      "7530857 도농고등학교\n",
      "급식 정보 조회 중: 날짜=20250618\n",
      "mealService 응답코드: 200\n",
      "급식 데이터 수: 21\n"
     ]
    },
    {
     "name": "stderr",
     "output_type": "stream",
     "text": [
      "고등학교 급식 조회:  57%|███████████████████████████▊                     | 106/187 [00:23<00:17,  4.63it/s]"
     ]
    },
    {
     "name": "stdout",
     "output_type": "stream",
     "text": [
      "7530471 도당고등학교\n",
      "급식 정보 조회 중: 날짜=20250618\n",
      "mealService 응답코드: 200\n",
      "급식 데이터 수: 21\n"
     ]
    },
    {
     "name": "stderr",
     "output_type": "stream",
     "text": [
      "고등학교 급식 조회:  57%|████████████████████████████                     | 107/187 [00:23<00:17,  4.65it/s]"
     ]
    },
    {
     "name": "stdout",
     "output_type": "stream",
     "text": [
      "7531165 도래울고등학교\n",
      "급식 정보 조회 중: 날짜=20250618\n",
      "mealService 응답코드: 200\n",
      "급식 데이터 수: 21\n"
     ]
    },
    {
     "name": "stderr",
     "output_type": "stream",
     "text": [
      "고등학교 급식 조회:  58%|████████████████████████████▎                    | 108/187 [00:23<00:16,  4.73it/s]"
     ]
    },
    {
     "name": "stdout",
     "output_type": "stream",
     "text": [
      "7530523 돌마고등학교\n",
      "급식 정보 조회 중: 날짜=20250618\n",
      "mealService 응답코드: 200\n",
      "급식 데이터 수: 21\n"
     ]
    },
    {
     "name": "stderr",
     "output_type": "stream",
     "text": [
      "고등학교 급식 조회:  59%|████████████████████████████▊                    | 110/187 [00:24<00:16,  4.74it/s]"
     ]
    },
    {
     "name": "stdout",
     "output_type": "stream",
     "text": [
      "7530990 동광고등학교\n",
      "급식 정보 조회 중: 날짜=20250618\n",
      "mealService 응답코드: 200\n",
      "급식 데이터 수: 20\n",
      "7530999 동국대학교사범대학부속영석고등학교\n",
      "급식 정보 조회 중: 날짜=20250618\n",
      "mealService 응답코드: 200\n",
      "급식 데이터 수: 20\n"
     ]
    },
    {
     "name": "stderr",
     "output_type": "stream",
     "text": [
      "고등학교 급식 조회:  59%|█████████████████████████████                    | 111/187 [00:24<00:16,  4.60it/s]"
     ]
    },
    {
     "name": "stdout",
     "output_type": "stream",
     "text": [
      "7530484 동남고등학교\n",
      "급식 정보 조회 중: 날짜=20250618\n",
      "mealService 응답코드: 200\n",
      "급식 데이터 수: 40\n"
     ]
    },
    {
     "name": "stderr",
     "output_type": "stream",
     "text": [
      "고등학교 급식 조회:  60%|█████████████████████████████▌                   | 113/187 [00:24<00:16,  4.62it/s]"
     ]
    },
    {
     "name": "stdout",
     "output_type": "stream",
     "text": [
      "7530153 동두천고등학교\n",
      "급식 정보 조회 중: 날짜=20250618\n",
      "mealService 응답코드: 200\n",
      "급식 데이터 수: 21\n",
      "7530655 동두천외국어고등학교\n",
      "급식 정보 조회 중: 날짜=20250618\n",
      "mealService 응답코드: 200\n",
      "급식 데이터 수: 58\n"
     ]
    },
    {
     "name": "stderr",
     "output_type": "stream",
     "text": [
      "고등학교 급식 조회:  61%|██████████████████████████████▏                  | 115/187 [00:25<00:16,  4.48it/s]"
     ]
    },
    {
     "name": "stdout",
     "output_type": "stream",
     "text": [
      "7530544 동두천중앙고등학교\n",
      "급식 정보 조회 중: 날짜=20250618\n",
      "mealService 응답코드: 200\n",
      "급식 데이터 수: 20\n",
      "7530823 동백고등학교\n",
      "급식 정보 조회 중: 날짜=20250618\n",
      "mealService 응답코드: 200\n",
      "급식 데이터 수: 20\n"
     ]
    },
    {
     "name": "stderr",
     "output_type": "stream",
     "text": [
      "고등학교 급식 조회:  62%|██████████████████████████████▍                  | 116/187 [00:25<00:15,  4.45it/s]"
     ]
    },
    {
     "name": "stdout",
     "output_type": "stream",
     "text": [
      "7530063 동안고등학교\n",
      "급식 정보 조회 중: 날짜=20250618\n",
      "mealService 응답코드: 200\n",
      "급식 데이터 수: 21\n"
     ]
    },
    {
     "name": "stderr",
     "output_type": "stream",
     "text": [
      "고등학교 급식 조회:  63%|██████████████████████████████▉                  | 118/187 [00:25<00:14,  4.80it/s]"
     ]
    },
    {
     "name": "stdout",
     "output_type": "stream",
     "text": [
      "7530154 동우여자고등학교\n",
      "급식 정보 조회 중: 날짜=20250618\n",
      "mealService 응답코드: 200\n",
      "mealServiceDietInfo 키 없음: {'RESULT': {'CODE': 'INFO-200', 'MESSAGE': '해당하는 데이터가 없습니다.'}}\n"
     ]
    },
    {
     "name": "stderr",
     "output_type": "stream",
     "text": [
      "고등학교 급식 조회:  64%|███████████████████████████████▏                 | 119/187 [00:25<00:13,  4.98it/s]"
     ]
    },
    {
     "name": "stdout",
     "output_type": "stream",
     "text": [
      "7531598 동원동우고등학교\n",
      "급식 정보 조회 중: 날짜=20250618\n",
      "mealService 응답코드: 200\n",
      "급식 데이터 수: 21\n",
      "7530327 동일공업고등학교\n",
      "급식 정보 조회 중: 날짜=20250618\n",
      "mealService 응답코드: 200\n",
      "급식 데이터 수: 20\n"
     ]
    },
    {
     "name": "stderr",
     "output_type": "stream",
     "text": [
      "고등학교 급식 조회:  64%|███████████████████████████████▍                 | 120/187 [00:26<00:13,  4.86it/s]"
     ]
    },
    {
     "name": "stdout",
     "output_type": "stream",
     "text": [
      "7530820 동탄고등학교\n",
      "급식 정보 조회 중: 날짜=20250618\n",
      "mealService 응답코드: 200\n",
      "급식 데이터 수: 20\n"
     ]
    },
    {
     "name": "stderr",
     "output_type": "stream",
     "text": [
      "고등학교 급식 조회:  65%|███████████████████████████████▋                 | 121/187 [00:26<00:14,  4.68it/s]"
     ]
    },
    {
     "name": "stdout",
     "output_type": "stream",
     "text": [
      "7530976 동탄국제고등학교\n",
      "급식 정보 조회 중: 날짜=20250618\n",
      "mealService 응답코드: 200\n",
      "급식 데이터 수: 21\n"
     ]
    },
    {
     "name": "stderr",
     "output_type": "stream",
     "text": [
      "고등학교 급식 조회:  65%|███████████████████████████████▉                 | 122/187 [00:26<00:15,  4.29it/s]"
     ]
    },
    {
     "name": "stdout",
     "output_type": "stream",
     "text": [
      "7531159 동탄중앙고등학교\n",
      "급식 정보 조회 중: 날짜=20250618\n",
      "mealService 응답코드: 200\n",
      "급식 데이터 수: 21\n"
     ]
    },
    {
     "name": "stderr",
     "output_type": "stream",
     "text": [
      "고등학교 급식 조회:  66%|████████████████████████████████▏                | 123/187 [00:26<00:15,  4.08it/s]"
     ]
    },
    {
     "name": "stdout",
     "output_type": "stream",
     "text": [
      "7530969 동패고등학교\n",
      "급식 정보 조회 중: 날짜=20250618\n",
      "mealService 응답코드: 200\n",
      "급식 데이터 수: 20\n"
     ]
    },
    {
     "name": "stderr",
     "output_type": "stream",
     "text": [
      "고등학교 급식 조회:  67%|████████████████████████████████▊                | 125/187 [00:27<00:14,  4.35it/s]"
     ]
    },
    {
     "name": "stdout",
     "output_type": "stream",
     "text": [
      "7530156 동화고등학교\n",
      "급식 정보 조회 중: 날짜=20250618\n",
      "mealService 응답코드: 200\n",
      "급식 데이터 수: 20\n",
      "7530485 두레자연고등학교\n",
      "급식 정보 조회 중: 날짜=20250618\n"
     ]
    },
    {
     "name": "stderr",
     "output_type": "stream",
     "text": [
      "고등학교 급식 조회:  67%|█████████████████████████████████                | 126/187 [00:27<00:16,  3.64it/s]"
     ]
    },
    {
     "name": "stdout",
     "output_type": "stream",
     "text": [
      "mealService 응답코드: 200\n",
      "급식 데이터 수: 41\n",
      "7531257 두원공업고등학교\n",
      "급식 정보 조회 중: 날짜=20250618\n"
     ]
    },
    {
     "name": "stderr",
     "output_type": "stream",
     "text": [
      "고등학교 급식 조회:  68%|█████████████████████████████████▎               | 127/187 [00:28<00:16,  3.55it/s]"
     ]
    },
    {
     "name": "stdout",
     "output_type": "stream",
     "text": [
      "mealService 응답코드: 200\n",
      "급식 데이터 수: 37\n",
      "7531294 라온고등학교\n",
      "급식 정보 조회 중: 날짜=20250618\n"
     ]
    },
    {
     "name": "stderr",
     "output_type": "stream",
     "text": [
      "고등학교 급식 조회:  68%|█████████████████████████████████▌               | 128/187 [00:28<00:17,  3.37it/s]"
     ]
    },
    {
     "name": "stdout",
     "output_type": "stream",
     "text": [
      "mealService 응답코드: 200\n",
      "급식 데이터 수: 41\n",
      "7530972 마석고등학교\n",
      "급식 정보 조회 중: 날짜=20250618\n"
     ]
    },
    {
     "name": "stderr",
     "output_type": "stream",
     "text": [
      "고등학교 급식 조회:  69%|█████████████████████████████████▊               | 129/187 [00:28<00:16,  3.53it/s]"
     ]
    },
    {
     "name": "stdout",
     "output_type": "stream",
     "text": [
      "mealService 응답코드: 200\n",
      "급식 데이터 수: 21\n",
      "7530930 마송고등학교\n",
      "급식 정보 조회 중: 날짜=20250618\n"
     ]
    },
    {
     "name": "stderr",
     "output_type": "stream",
     "text": [
      "고등학교 급식 조회:  70%|██████████████████████████████████               | 130/187 [00:28<00:15,  3.68it/s]"
     ]
    },
    {
     "name": "stdout",
     "output_type": "stream",
     "text": [
      "mealService 응답코드: 200\n",
      "급식 데이터 수: 21\n",
      "7530649 마장고등학교\n",
      "급식 정보 조회 중: 날짜=20250618\n"
     ]
    },
    {
     "name": "stderr",
     "output_type": "stream",
     "text": [
      "고등학교 급식 조회:  70%|██████████████████████████████████▎              | 131/187 [00:29<00:14,  3.85it/s]"
     ]
    },
    {
     "name": "stdout",
     "output_type": "stream",
     "text": [
      "mealService 응답코드: 200\n",
      "급식 데이터 수: 21\n",
      "7530844 망포고등학교\n",
      "급식 정보 조회 중: 날짜=20250618\n"
     ]
    },
    {
     "name": "stderr",
     "output_type": "stream",
     "text": [
      "고등학교 급식 조회:  71%|██████████████████████████████████▌              | 132/187 [00:29<00:14,  3.82it/s]"
     ]
    },
    {
     "name": "stdout",
     "output_type": "stream",
     "text": [
      "mealService 응답코드: 200\n",
      "급식 데이터 수: 21\n",
      "7530845 매원고등학교\n",
      "급식 정보 조회 중: 날짜=20250618\n"
     ]
    },
    {
     "name": "stderr",
     "output_type": "stream",
     "text": [
      "고등학교 급식 조회:  71%|██████████████████████████████████▊              | 133/187 [00:29<00:13,  4.10it/s]"
     ]
    },
    {
     "name": "stdout",
     "output_type": "stream",
     "text": [
      "mealService 응답코드: 200\n",
      "급식 데이터 수: 20\n",
      "7530652 매탄고등학교\n",
      "급식 정보 조회 중: 날짜=20250618\n"
     ]
    },
    {
     "name": "stderr",
     "output_type": "stream",
     "text": [
      "고등학교 급식 조회:  72%|███████████████████████████████████              | 134/187 [00:29<00:12,  4.20it/s]"
     ]
    },
    {
     "name": "stdout",
     "output_type": "stream",
     "text": [
      "mealService 응답코드: 200\n",
      "급식 데이터 수: 21\n",
      "7530497 매향여자정보고등학교\n",
      "급식 정보 조회 중: 날짜=20250618\n"
     ]
    },
    {
     "name": "stderr",
     "output_type": "stream",
     "text": [
      "고등학교 급식 조회:  72%|███████████████████████████████████▎             | 135/187 [00:30<00:12,  4.18it/s]"
     ]
    },
    {
     "name": "stdout",
     "output_type": "stream",
     "text": [
      "mealService 응답코드: 200\n",
      "급식 데이터 수: 20\n",
      "7531139 매홀고등학교\n",
      "급식 정보 조회 중: 날짜=20250618\n",
      "mealService 응답코드: 200\n",
      "급식 데이터 수: 21\n"
     ]
    },
    {
     "name": "stderr",
     "output_type": "stream",
     "text": [
      "고등학교 급식 조회:  73%|███████████████████████████████████▋             | 136/187 [00:30<00:11,  4.36it/s]"
     ]
    },
    {
     "name": "stdout",
     "output_type": "stream",
     "text": [
      "7530628 명문고등학교\n",
      "급식 정보 조회 중: 날짜=20250618\n",
      "mealService 응답코드: 200\n",
      "급식 데이터 수: 21\n"
     ]
    },
    {
     "name": "stderr",
     "output_type": "stream",
     "text": [
      "고등학교 급식 조회:  73%|███████████████████████████████████▉             | 137/187 [00:30<00:11,  4.43it/s]"
     ]
    },
    {
     "name": "stdout",
     "output_type": "stream",
     "text": [
      "7531108 모락고등학교\n",
      "급식 정보 조회 중: 날짜=20250618\n",
      "mealService 응답코드: 200\n",
      "급식 데이터 수: 21\n"
     ]
    },
    {
     "name": "stderr",
     "output_type": "stream",
     "text": [
      "고등학교 급식 조회:  74%|████████████████████████████████████▏            | 138/187 [00:30<00:10,  4.48it/s]"
     ]
    },
    {
     "name": "stdout",
     "output_type": "stream",
     "text": [
      "7531370 목감고등학교\n",
      "급식 정보 조회 중: 날짜=20250618\n",
      "mealService 응답코드: 200\n",
      "급식 데이터 수: 21\n"
     ]
    },
    {
     "name": "stderr",
     "output_type": "stream",
     "text": [
      "고등학교 급식 조회:  74%|████████████████████████████████████▍            | 139/187 [00:30<00:10,  4.62it/s]"
     ]
    },
    {
     "name": "stdout",
     "output_type": "stream",
     "text": [
      "7530064 무원고등학교\n",
      "급식 정보 조회 중: 날짜=20250618\n",
      "mealService 응답코드: 200\n",
      "급식 데이터 수: 21\n"
     ]
    },
    {
     "name": "stderr",
     "output_type": "stream",
     "text": [
      "고등학교 급식 조회:  75%|████████████████████████████████████▋            | 140/187 [00:31<00:10,  4.65it/s]"
     ]
    },
    {
     "name": "stdout",
     "output_type": "stream",
     "text": [
      "7530065 문산고등학교\n",
      "급식 정보 조회 중: 날짜=20250618\n",
      "mealService 응답코드: 200\n",
      "급식 데이터 수: 21\n"
     ]
    },
    {
     "name": "stderr",
     "output_type": "stream",
     "text": [
      "고등학교 급식 조회:  75%|████████████████████████████████████▉            | 141/187 [00:31<00:09,  4.68it/s]"
     ]
    },
    {
     "name": "stdout",
     "output_type": "stream",
     "text": [
      "7531236 문산수억고등학교\n",
      "급식 정보 조회 중: 날짜=20250618\n",
      "mealService 응답코드: 200\n",
      "급식 데이터 수: 21\n"
     ]
    },
    {
     "name": "stderr",
     "output_type": "stream",
     "text": [
      "고등학교 급식 조회:  76%|█████████████████████████████████████▏           | 142/187 [00:31<00:10,  4.46it/s]"
     ]
    },
    {
     "name": "stdout",
     "output_type": "stream",
     "text": [
      "7530630 문산제일고등학교\n",
      "급식 정보 조회 중: 날짜=20250618\n",
      "mealService 응답코드: 200\n",
      "급식 데이터 수: 21\n"
     ]
    },
    {
     "name": "stderr",
     "output_type": "stream",
     "text": [
      "고등학교 급식 조회:  76%|█████████████████████████████████████▍           | 143/187 [00:31<00:09,  4.51it/s]"
     ]
    },
    {
     "name": "stdout",
     "output_type": "stream",
     "text": [
      "7531244 미사강변고등학교\n",
      "급식 정보 조회 중: 날짜=20250618\n",
      "mealService 응답코드: 200\n",
      "급식 데이터 수: 21\n"
     ]
    },
    {
     "name": "stderr",
     "output_type": "stream",
     "text": [
      "고등학교 급식 조회:  77%|█████████████████████████████████████▋           | 144/187 [00:32<00:10,  4.20it/s]"
     ]
    },
    {
     "name": "stdout",
     "output_type": "stream",
     "text": [
      "7531163 미사고등학교\n",
      "급식 정보 조회 중: 날짜=20250618\n",
      "mealService 응답코드: 200\n",
      "급식 데이터 수: 20\n"
     ]
    },
    {
     "name": "stderr",
     "output_type": "stream",
     "text": [
      "고등학교 급식 조회:  78%|█████████████████████████████████████▉           | 145/187 [00:32<00:10,  3.95it/s]"
     ]
    },
    {
     "name": "stdout",
     "output_type": "stream",
     "text": [
      "7530847 반송고등학교\n",
      "급식 정보 조회 중: 날짜=20250618\n"
     ]
    },
    {
     "name": "stderr",
     "output_type": "stream",
     "text": [
      "고등학교 급식 조회:  78%|██████████████████████████████████████▎          | 146/187 [00:32<00:11,  3.62it/s]"
     ]
    },
    {
     "name": "stdout",
     "output_type": "stream",
     "text": [
      "mealService 응답코드: 200\n",
      "급식 데이터 수: 21\n",
      "7530933 발곡고등학교\n",
      "급식 정보 조회 중: 날짜=20250618\n"
     ]
    },
    {
     "name": "stderr",
     "output_type": "stream",
     "text": [
      "고등학교 급식 조회:  79%|██████████████████████████████████████▌          | 147/187 [00:32<00:10,  3.88it/s]"
     ]
    },
    {
     "name": "stdout",
     "output_type": "stream",
     "text": [
      "mealService 응답코드: 200\n",
      "급식 데이터 수: 21\n",
      "7530904 발안바이오과학고등학교\n",
      "급식 정보 조회 중: 날짜=20250618\n",
      "mealService 응답코드: 200\n",
      "급식 데이터 수: 21\n"
     ]
    },
    {
     "name": "stderr",
     "output_type": "stream",
     "text": [
      "고등학교 급식 조회:  80%|███████████████████████████████████████          | 149/187 [00:33<00:08,  4.38it/s]"
     ]
    },
    {
     "name": "stdout",
     "output_type": "stream",
     "text": [
      "7531246 배곧고등학교\n",
      "급식 정보 조회 중: 날짜=20250618\n",
      "mealService 응답코드: 200\n",
      "급식 데이터 수: 21\n",
      "7530066 백마고등학교\n",
      "급식 정보 조회 중: 날짜=20250618\n",
      "mealService 응답코드: 200\n",
      "급식 데이터 수: 21\n"
     ]
    },
    {
     "name": "stderr",
     "output_type": "stream",
     "text": [
      "고등학교 급식 조회:  80%|███████████████████████████████████████▎         | 150/187 [00:33<00:08,  4.44it/s]"
     ]
    },
    {
     "name": "stdout",
     "output_type": "stream",
     "text": [
      "7530067 백석고등학교\n",
      "급식 정보 조회 중: 날짜=20250618\n",
      "mealService 응답코드: 200\n",
      "급식 데이터 수: 21\n"
     ]
    },
    {
     "name": "stderr",
     "output_type": "stream",
     "text": [
      "고등학교 급식 조회:  81%|███████████████████████████████████████▌         | 151/187 [00:33<00:07,  4.52it/s]"
     ]
    },
    {
     "name": "stdout",
     "output_type": "stream",
     "text": [
      "7531057 백송고등학교\n",
      "급식 정보 조회 중: 날짜=20250618\n",
      "mealService 응답코드: 200\n",
      "급식 데이터 수: 21\n"
     ]
    },
    {
     "name": "stderr",
     "output_type": "stream",
     "text": [
      "고등학교 급식 조회:  81%|███████████████████████████████████████▊         | 152/187 [00:33<00:07,  4.56it/s]"
     ]
    },
    {
     "name": "stdout",
     "output_type": "stream",
     "text": [
      "7530068 백신고등학교\n",
      "급식 정보 조회 중: 날짜=20250618\n",
      "mealService 응답코드: 200\n",
      "급식 데이터 수: 21\n"
     ]
    },
    {
     "name": "stderr",
     "output_type": "stream",
     "text": [
      "고등학교 급식 조회:  82%|████████████████████████████████████████         | 153/187 [00:34<00:07,  4.64it/s]"
     ]
    },
    {
     "name": "stdout",
     "output_type": "stream",
     "text": [
      "7530650 백암고등학교\n",
      "급식 정보 조회 중: 날짜=20250618\n",
      "mealService 응답코드: 200\n",
      "급식 데이터 수: 57\n"
     ]
    },
    {
     "name": "stderr",
     "output_type": "stream",
     "text": [
      "고등학교 급식 조회:  82%|████████████████████████████████████████▎        | 154/187 [00:34<00:07,  4.54it/s]"
     ]
    },
    {
     "name": "stdout",
     "output_type": "stream",
     "text": [
      "7530472 백양고등학교\n",
      "급식 정보 조회 중: 날짜=20250618\n",
      "mealService 응답코드: 200\n",
      "급식 데이터 수: 21\n"
     ]
    },
    {
     "name": "stderr",
     "output_type": "stream",
     "text": [
      "고등학교 급식 조회:  83%|████████████████████████████████████████▉        | 156/187 [00:34<00:06,  4.77it/s]"
     ]
    },
    {
     "name": "stdout",
     "output_type": "stream",
     "text": [
      "7530157 백영고등학교\n",
      "급식 정보 조회 중: 날짜=20250618\n",
      "mealService 응답코드: 200\n",
      "급식 데이터 수: 20\n",
      "7530069 백운고등학교\n",
      "급식 정보 조회 중: 날짜=20250618\n"
     ]
    },
    {
     "name": "stderr",
     "output_type": "stream",
     "text": [
      "고등학교 급식 조회:  84%|█████████████████████████████████████████▏       | 157/187 [00:35<00:06,  4.82it/s]"
     ]
    },
    {
     "name": "stdout",
     "output_type": "stream",
     "text": [
      "mealService 응답코드: 200\n",
      "급식 데이터 수: 21\n",
      "7530763 범박고등학교\n",
      "급식 정보 조회 중: 날짜=20250618\n"
     ]
    },
    {
     "name": "stderr",
     "output_type": "stream",
     "text": [
      "고등학교 급식 조회:  84%|█████████████████████████████████████████▍       | 158/187 [00:35<00:06,  4.81it/s]"
     ]
    },
    {
     "name": "stdout",
     "output_type": "stream",
     "text": [
      "mealService 응답코드: 200\n",
      "급식 데이터 수: 20\n",
      "7531247 별가람고등학교\n",
      "급식 정보 조회 중: 날짜=20250618\n",
      "mealService 응답코드: 200\n",
      "급식 데이터 수: 21\n"
     ]
    },
    {
     "name": "stderr",
     "output_type": "stream",
     "text": [
      "고등학교 급식 조회:  85%|█████████████████████████████████████████▋       | 159/187 [00:35<00:05,  4.85it/s]"
     ]
    },
    {
     "name": "stdout",
     "output_type": "stream",
     "text": [
      "7531113 별내고등학교\n",
      "급식 정보 조회 중: 날짜=20250618\n",
      "mealService 응답코드: 200\n",
      "급식 데이터 수: 21\n"
     ]
    },
    {
     "name": "stderr",
     "output_type": "stream",
     "text": [
      "고등학교 급식 조회:  86%|█████████████████████████████████████████▉       | 160/187 [00:35<00:05,  4.83it/s]"
     ]
    },
    {
     "name": "stdout",
     "output_type": "stream",
     "text": [
      "7530627 병점고등학교\n",
      "급식 정보 조회 중: 날짜=20250618\n",
      "mealService 응답코드: 200\n",
      "급식 데이터 수: 21\n"
     ]
    },
    {
     "name": "stderr",
     "output_type": "stream",
     "text": [
      "고등학교 급식 조회:  86%|██████████████████████████████████████████▏      | 161/187 [00:35<00:05,  4.64it/s]"
     ]
    },
    {
     "name": "stdout",
     "output_type": "stream",
     "text": [
      "7530882 보라고등학교\n",
      "급식 정보 조회 중: 날짜=20250618\n",
      "mealService 응답코드: 200\n",
      "급식 데이터 수: 21\n"
     ]
    },
    {
     "name": "stderr",
     "output_type": "stream",
     "text": [
      "고등학교 급식 조회:  87%|██████████████████████████████████████████▍      | 162/187 [00:36<00:05,  4.48it/s]"
     ]
    },
    {
     "name": "stdout",
     "output_type": "stream",
     "text": [
      "7530658 보정고등학교\n",
      "급식 정보 조회 중: 날짜=20250618\n",
      "mealService 응답코드: 200\n",
      "급식 데이터 수: 20\n"
     ]
    },
    {
     "name": "stderr",
     "output_type": "stream",
     "text": [
      "고등학교 급식 조회:  87%|██████████████████████████████████████████▋      | 163/187 [00:36<00:05,  4.33it/s]"
     ]
    },
    {
     "name": "stdout",
     "output_type": "stream",
     "text": [
      "7530921 보평고등학교\n",
      "급식 정보 조회 중: 날짜=20250618\n",
      "mealService 응답코드: 200\n",
      "급식 데이터 수: 21\n"
     ]
    },
    {
     "name": "stderr",
     "output_type": "stream",
     "text": [
      "고등학교 급식 조회:  88%|██████████████████████████████████████████▉      | 164/187 [00:36<00:05,  4.09it/s]"
     ]
    },
    {
     "name": "stdout",
     "output_type": "stream",
     "text": [
      "7530940 복정고등학교\n",
      "급식 정보 조회 중: 날짜=20250618\n",
      "mealService 응답코드: 200\n",
      "급식 데이터 수: 21\n"
     ]
    },
    {
     "name": "stderr",
     "output_type": "stream",
     "text": [
      "고등학교 급식 조회:  88%|███████████████████████████████████████████▏     | 165/187 [00:36<00:05,  4.16it/s]"
     ]
    },
    {
     "name": "stdout",
     "output_type": "stream",
     "text": [
      "7530848 봉담고등학교\n",
      "급식 정보 조회 중: 날짜=20250618\n",
      "mealService 응답코드: 200\n",
      "급식 데이터 수: 21\n"
     ]
    },
    {
     "name": "stderr",
     "output_type": "stream",
     "text": [
      "고등학교 급식 조회:  89%|███████████████████████████████████████████▍     | 166/187 [00:37<00:04,  4.36it/s]"
     ]
    },
    {
     "name": "stdout",
     "output_type": "stream",
     "text": [
      "7530825 봉일천고등학교\n",
      "급식 정보 조회 중: 날짜=20250618\n",
      "mealService 응답코드: 200\n",
      "급식 데이터 수: 20\n"
     ]
    },
    {
     "name": "stderr",
     "output_type": "stream",
     "text": [
      "고등학교 급식 조회:  89%|███████████████████████████████████████████▊     | 167/187 [00:37<00:04,  4.51it/s]"
     ]
    },
    {
     "name": "stdout",
     "output_type": "stream",
     "text": [
      "7531106 부곡고등학교\n",
      "급식 정보 조회 중: 날짜=20250618\n",
      "mealService 응답코드: 200\n",
      "급식 데이터 수: 21\n"
     ]
    },
    {
     "name": "stderr",
     "output_type": "stream",
     "text": [
      "고등학교 급식 조회:  90%|████████████████████████████████████████████     | 168/187 [00:37<00:04,  4.56it/s]"
     ]
    },
    {
     "name": "stdout",
     "output_type": "stream",
     "text": [
      "7530070 부명고등학교\n",
      "급식 정보 조회 중: 날짜=20250618\n",
      "mealService 응답코드: 200\n",
      "급식 데이터 수: 21\n"
     ]
    },
    {
     "name": "stderr",
     "output_type": "stream",
     "text": [
      "고등학교 급식 조회:  90%|████████████████████████████████████████████▎    | 169/187 [00:37<00:03,  4.67it/s]"
     ]
    },
    {
     "name": "stdout",
     "output_type": "stream",
     "text": [
      "7530575 부용고등학교\n",
      "급식 정보 조회 중: 날짜=20250618\n",
      "mealService 응답코드: 200\n",
      "급식 데이터 수: 21\n"
     ]
    },
    {
     "name": "stderr",
     "output_type": "stream",
     "text": [
      "고등학교 급식 조회:  91%|████████████████████████████████████████████▌    | 170/187 [00:37<00:03,  4.59it/s]"
     ]
    },
    {
     "name": "stdout",
     "output_type": "stream",
     "text": [
      "7530842 부원고등학교\n",
      "급식 정보 조회 중: 날짜=20250618\n",
      "mealService 응답코드: 200\n",
      "급식 데이터 수: 21\n"
     ]
    },
    {
     "name": "stderr",
     "output_type": "stream",
     "text": [
      "고등학교 급식 조회:  91%|████████████████████████████████████████████▊    | 171/187 [00:38<00:03,  4.48it/s]"
     ]
    },
    {
     "name": "stdout",
     "output_type": "stream",
     "text": [
      "7530071 부천고등학교\n",
      "급식 정보 조회 중: 날짜=20250618\n",
      "mealService 응답코드: 200\n",
      "mealServiceDietInfo 키 없음: {'RESULT': {'CODE': 'INFO-200', 'MESSAGE': '해당하는 데이터가 없습니다.'}}\n"
     ]
    },
    {
     "name": "stderr",
     "output_type": "stream",
     "text": [
      "고등학교 급식 조회:  92%|█████████████████████████████████████████████    | 172/187 [00:38<00:03,  4.40it/s]"
     ]
    },
    {
     "name": "stdout",
     "output_type": "stream",
     "text": [
      "7530254 부천공업고등학교\n",
      "급식 정보 조회 중: 날짜=20250618\n",
      "mealService 응답코드: 200\n",
      "급식 데이터 수: 21\n"
     ]
    },
    {
     "name": "stderr",
     "output_type": "stream",
     "text": [
      "고등학교 급식 조회:  93%|█████████████████████████████████████████████▎   | 173/187 [00:38<00:03,  4.45it/s]"
     ]
    },
    {
     "name": "stdout",
     "output_type": "stream",
     "text": [
      "7530072 부천북고등학교\n",
      "급식 정보 조회 중: 날짜=20250618\n",
      "mealService 응답코드: 200\n",
      "급식 데이터 수: 21\n"
     ]
    },
    {
     "name": "stderr",
     "output_type": "stream",
     "text": [
      "고등학교 급식 조회:  93%|█████████████████████████████████████████████▌   | 174/187 [00:38<00:02,  4.36it/s]"
     ]
    },
    {
     "name": "stdout",
     "output_type": "stream",
     "text": [
      "7530073 부천여자고등학교\n",
      "급식 정보 조회 중: 날짜=20250618\n",
      "mealService 응답코드: 200\n",
      "급식 데이터 수: 21\n"
     ]
    },
    {
     "name": "stderr",
     "output_type": "stream",
     "text": [
      "고등학교 급식 조회:  94%|█████████████████████████████████████████████▊   | 175/187 [00:39<00:02,  4.48it/s]"
     ]
    },
    {
     "name": "stdout",
     "output_type": "stream",
     "text": [
      "7530256 부천정보산업고등학교\n",
      "급식 정보 조회 중: 날짜=20250618\n",
      "mealService 응답코드: 200\n",
      "급식 데이터 수: 21\n"
     ]
    },
    {
     "name": "stderr",
     "output_type": "stream",
     "text": [
      "고등학교 급식 조회:  94%|██████████████████████████████████████████████   | 176/187 [00:39<00:02,  4.54it/s]"
     ]
    },
    {
     "name": "stdout",
     "output_type": "stream",
     "text": [
      "7530074 부흥고등학교\n",
      "급식 정보 조회 중: 날짜=20250618\n",
      "mealService 응답코드: 200\n",
      "급식 데이터 수: 21\n"
     ]
    },
    {
     "name": "stderr",
     "output_type": "stream",
     "text": [
      "고등학교 급식 조회:  95%|██████████████████████████████████████████████▍  | 177/187 [00:39<00:02,  4.58it/s]"
     ]
    },
    {
     "name": "stdout",
     "output_type": "stream",
     "text": [
      "7531114 분당경영고등학교\n",
      "급식 정보 조회 중: 날짜=20250618\n",
      "mealService 응답코드: 200\n",
      "급식 데이터 수: 21\n"
     ]
    },
    {
     "name": "stderr",
     "output_type": "stream",
     "text": [
      "고등학교 급식 조회:  96%|██████████████████████████████████████████████▉  | 179/187 [00:39<00:01,  4.74it/s]"
     ]
    },
    {
     "name": "stdout",
     "output_type": "stream",
     "text": [
      "7530075 분당고등학교\n",
      "급식 정보 조회 중: 날짜=20250618\n",
      "mealService 응답코드: 200\n",
      "급식 데이터 수: 21\n"
     ]
    },
    {
     "name": "stderr",
     "output_type": "stream",
     "text": [
      "고등학교 급식 조회:  96%|███████████████████████████████████████████████▏ | 180/187 [00:40<00:01,  4.90it/s]"
     ]
    },
    {
     "name": "stdout",
     "output_type": "stream",
     "text": [
      "7530160 분당대진고등학교\n",
      "급식 정보 조회 중: 날짜=20250618\n",
      "mealService 응답코드: 200\n",
      "mealServiceDietInfo 키 없음: {'RESULT': {'CODE': 'INFO-200', 'MESSAGE': '해당하는 데이터가 없습니다.'}}\n",
      "7531423 분당아람고등학교\n",
      "급식 정보 조회 중: 날짜=20250618\n"
     ]
    },
    {
     "name": "stderr",
     "output_type": "stream",
     "text": [
      "고등학교 급식 조회:  97%|███████████████████████████████████████████████▍ | 181/187 [00:40<00:01,  4.91it/s]"
     ]
    },
    {
     "name": "stdout",
     "output_type": "stream",
     "text": [
      "mealService 응답코드: 200\n",
      "급식 데이터 수: 21\n",
      "7530598 분당영덕여자고등학교\n",
      "급식 정보 조회 중: 날짜=20250618\n"
     ]
    },
    {
     "name": "stderr",
     "output_type": "stream",
     "text": [
      "고등학교 급식 조회:  97%|███████████████████████████████████████████████▋ | 182/187 [00:40<00:01,  4.78it/s]"
     ]
    },
    {
     "name": "stdout",
     "output_type": "stream",
     "text": [
      "mealService 응답코드: 200\n",
      "급식 데이터 수: 37\n",
      "7530076 분당중앙고등학교\n",
      "급식 정보 조회 중: 날짜=20250618\n"
     ]
    },
    {
     "name": "stderr",
     "output_type": "stream",
     "text": [
      "고등학교 급식 조회:  98%|███████████████████████████████████████████████▉ | 183/187 [00:40<00:00,  4.83it/s]"
     ]
    },
    {
     "name": "stdout",
     "output_type": "stream",
     "text": [
      "mealService 응답코드: 200\n",
      "급식 데이터 수: 21\n",
      "7530077 불곡고등학교\n",
      "급식 정보 조회 중: 날짜=20250618\n"
     ]
    },
    {
     "name": "stderr",
     "output_type": "stream",
     "text": [
      "고등학교 급식 조회:  98%|████████████████████████████████████████████████▏| 184/187 [00:40<00:00,  4.58it/s]"
     ]
    },
    {
     "name": "stdout",
     "output_type": "stream",
     "text": [
      "mealService 응답코드: 200\n",
      "급식 데이터 수: 21\n",
      "7530603 비봉고등학교\n",
      "급식 정보 조회 중: 날짜=20250618\n"
     ]
    },
    {
     "name": "stderr",
     "output_type": "stream",
     "text": [
      "고등학교 급식 조회:  99%|████████████████████████████████████████████████▍| 185/187 [00:41<00:00,  4.54it/s]"
     ]
    },
    {
     "name": "stdout",
     "output_type": "stream",
     "text": [
      "mealService 응답코드: 200\n",
      "급식 데이터 수: 21\n",
      "7531109 비전고등학교\n",
      "급식 정보 조회 중: 날짜=20250618\n",
      "mealService 응답코드: 200\n",
      "급식 데이터 수: 21\n"
     ]
    },
    {
     "name": "stderr",
     "output_type": "stream",
     "text": [
      "고등학교 급식 조회: 100%|█████████████████████████████████████████████████| 187/187 [00:41<00:00,  4.82it/s]"
     ]
    },
    {
     "name": "stdout",
     "output_type": "stream",
     "text": [
      "7530474 사우고등학교\n",
      "급식 정보 조회 중: 날짜=20250618\n",
      "mealService 응답코드: 200\n",
      "급식 데이터 수: 35\n"
     ]
    },
    {
     "name": "stderr",
     "output_type": "stream",
     "text": [
      "고등학교 급식 조회: 100%|█████████████████████████████████████████████████| 187/187 [00:41<00:00,  4.50it/s]\n"
     ]
    },
    {
     "name": "stdout",
     "output_type": "stream",
     "text": [
      "수집된 급식 행 수: 28633\n",
      "수집된 전체 급식 행 수: 28633\n",
      "  교육청코드     학교코드     학교명      급식일자 식사명  \\\n",
      "0   B10  7010057  가락고등학교  20250519  중식   \n",
      "1   B10  7010057  가락고등학교  20250520  중식   \n",
      "2   B10  7010057  가락고등학교  20250521  중식   \n",
      "3   B10  7010057  가락고등학교  20250522  중식   \n",
      "4   B10  7010057  가락고등학교  20250523  중식   \n",
      "\n",
      "                                                급식식단  \n",
      "0  쌀밥 <br/>소고기미역국 (2.5.6.15.16.18)<br/>돼지갈비찜 (5.6...  \n",
      "1  쇠고기콩나물밥 (5.6.16)<br/>물만두국 (1.2.5.6.10.15.16.18...  \n",
      "2  새우볶음밥 (1.5.6.8.9.13.18)<br/>씨앗호떡파이 (1.2.3.5.6)...  \n",
      "3  쌀밥 <br/>볶음우동 (5.6.8.9.13.15.17.18)<br/>zero초코파...  \n",
      "4  현미밥 <br/>어묵국 (1.2.5.6.15.16.18)<br/>마라찜닭 (5.6....  \n",
      "응답코드 : 200\n"
     ]
    },
    {
     "name": "stderr",
     "output_type": "stream",
     "text": [
      "고등학교 급식 조회:   0%|                                                           | 0/116 [00:00<?, ?it/s]"
     ]
    },
    {
     "name": "stdout",
     "output_type": "stream",
     "text": [
      "7801089 가곡고등학교\n",
      "급식 정보 조회 중: 날짜=20250618\n",
      "mealService 응답코드: 200\n",
      "급식 데이터 수: 18\n"
     ]
    },
    {
     "name": "stderr",
     "output_type": "stream",
     "text": [
      "고등학교 급식 조회:   2%|▉                                                  | 2/116 [00:00<00:23,  4.92it/s]"
     ]
    },
    {
     "name": "stdout",
     "output_type": "stream",
     "text": [
      "7801090 간동고등학교\n",
      "급식 정보 조회 중: 날짜=20250618\n",
      "mealService 응답코드: 200\n",
      "급식 데이터 수: 21\n",
      "7801091 갑천고등학교\n",
      "급식 정보 조회 중: 날짜=20250618\n",
      "mealService 응답코드: 200\n",
      "급식 데이터 수: 21\n"
     ]
    },
    {
     "name": "stderr",
     "output_type": "stream",
     "text": [
      "고등학교 급식 조회:   3%|█▎                                                 | 3/116 [00:00<00:24,  4.64it/s]"
     ]
    },
    {
     "name": "stdout",
     "output_type": "stream",
     "text": [
      "7801092 강릉고등학교\n",
      "급식 정보 조회 중: 날짜=20250618\n",
      "mealService 응답코드: 200\n",
      "급식 데이터 수: 60\n"
     ]
    },
    {
     "name": "stderr",
     "output_type": "stream",
     "text": [
      "고등학교 급식 조회:   3%|█▊                                                 | 4/116 [00:00<00:25,  4.32it/s]"
     ]
    },
    {
     "name": "stdout",
     "output_type": "stream",
     "text": [
      "7801093 강릉명륜고등학교\n",
      "급식 정보 조회 중: 날짜=20250618\n",
      "mealService 응답코드: 200\n",
      "급식 데이터 수: 39\n"
     ]
    },
    {
     "name": "stderr",
     "output_type": "stream",
     "text": [
      "고등학교 급식 조회:   5%|██▋                                                | 6/116 [00:01<00:24,  4.55it/s]"
     ]
    },
    {
     "name": "stdout",
     "output_type": "stream",
     "text": [
      "7801094 강릉문성고등학교\n",
      "급식 정보 조회 중: 날짜=20250618\n",
      "mealService 응답코드: 200\n",
      "급식 데이터 수: 34\n",
      "7801095 강릉여자고등학교\n",
      "급식 정보 조회 중: 날짜=20250618\n",
      "mealService 응답코드: 200\n",
      "급식 데이터 수: 55\n"
     ]
    },
    {
     "name": "stderr",
     "output_type": "stream",
     "text": [
      "고등학교 급식 조회:   7%|███▌                                               | 8/116 [00:01<00:23,  4.51it/s]"
     ]
    },
    {
     "name": "stdout",
     "output_type": "stream",
     "text": [
      "7801096 강릉정보공업고등학교\n",
      "급식 정보 조회 중: 날짜=20250618\n",
      "mealService 응답코드: 200\n",
      "급식 데이터 수: 21\n",
      "7801097 강릉제일고등학교\n",
      "급식 정보 조회 중: 날짜=20250618\n",
      "mealService 응답코드: 200\n",
      "급식 데이터 수: 38\n"
     ]
    },
    {
     "name": "stderr",
     "output_type": "stream",
     "text": [
      "고등학교 급식 조회:   9%|████▎                                             | 10/116 [00:02<00:22,  4.63it/s]"
     ]
    },
    {
     "name": "stdout",
     "output_type": "stream",
     "text": [
      "7801099 강릉중앙고등학교\n",
      "급식 정보 조회 중: 날짜=20250618\n",
      "mealService 응답코드: 200\n",
      "급식 데이터 수: 19\n",
      "7801100 강원고등학교\n",
      "급식 정보 조회 중: 날짜=20250618\n",
      "mealService 응답코드: 200\n",
      "급식 데이터 수: 21\n"
     ]
    },
    {
     "name": "stderr",
     "output_type": "stream",
     "text": [
      "고등학교 급식 조회:   9%|████▋                                             | 11/116 [00:02<00:22,  4.58it/s]"
     ]
    },
    {
     "name": "stdout",
     "output_type": "stream",
     "text": [
      "7801101 강원과학고등학교\n",
      "급식 정보 조회 중: 날짜=20250618\n",
      "mealService 응답코드: 200\n",
      "급식 데이터 수: 74\n"
     ]
    },
    {
     "name": "stderr",
     "output_type": "stream",
     "text": [
      "고등학교 급식 조회:  10%|█████▏                                            | 12/116 [00:02<00:23,  4.34it/s]"
     ]
    },
    {
     "name": "stdout",
     "output_type": "stream",
     "text": [
      "7004207 강원대학교사범대학부설고등학교\n",
      "급식 정보 조회 중: 날짜=20250618\n",
      "mealService 응답코드: 200\n",
      "급식 데이터 수: 30\n"
     ]
    },
    {
     "name": "stderr",
     "output_type": "stream",
     "text": [
      "고등학교 급식 조회:  11%|█████▌                                            | 13/116 [00:02<00:23,  4.47it/s]"
     ]
    },
    {
     "name": "stdout",
     "output_type": "stream",
     "text": [
      "7801102 강원생명과학고등학교\n",
      "급식 정보 조회 중: 날짜=20250618\n",
      "mealService 응답코드: 200\n",
      "급식 데이터 수: 57\n"
     ]
    },
    {
     "name": "stderr",
     "output_type": "stream",
     "text": [
      "고등학교 급식 조회:  12%|██████                                            | 14/116 [00:03<00:23,  4.38it/s]"
     ]
    },
    {
     "name": "stdout",
     "output_type": "stream",
     "text": [
      "7801103 강원생활과학고등학교\n",
      "급식 정보 조회 중: 날짜=20250618\n",
      "mealService 응답코드: 200\n",
      "급식 데이터 수: 58\n"
     ]
    },
    {
     "name": "stderr",
     "output_type": "stream",
     "text": [
      "고등학교 급식 조회:  13%|██████▍                                           | 15/116 [00:03<00:22,  4.46it/s]"
     ]
    },
    {
     "name": "stdout",
     "output_type": "stream",
     "text": [
      "7801104 강원애니고등학교\n",
      "급식 정보 조회 중: 날짜=20250618\n",
      "mealService 응답코드: 200\n",
      "급식 데이터 수: 46\n"
     ]
    },
    {
     "name": "stderr",
     "output_type": "stream",
     "text": [
      "고등학교 급식 조회:  14%|██████▉                                           | 16/116 [00:03<00:23,  4.31it/s]"
     ]
    },
    {
     "name": "stdout",
     "output_type": "stream",
     "text": [
      "7801105 강원예술고등학교\n",
      "급식 정보 조회 중: 날짜=20250618\n",
      "mealService 응답코드: 200\n",
      "급식 데이터 수: 60\n"
     ]
    },
    {
     "name": "stderr",
     "output_type": "stream",
     "text": [
      "고등학교 급식 조회:  15%|███████▎                                          | 17/116 [00:03<00:23,  4.27it/s]"
     ]
    },
    {
     "name": "stdout",
     "output_type": "stream",
     "text": [
      "7801106 강원외국어고등학교\n",
      "급식 정보 조회 중: 날짜=20250618\n"
     ]
    },
    {
     "name": "stderr",
     "output_type": "stream",
     "text": [
      "고등학교 급식 조회:  16%|███████▊                                          | 18/116 [00:04<00:25,  3.82it/s]"
     ]
    },
    {
     "name": "stdout",
     "output_type": "stream",
     "text": [
      "mealService 응답코드: 200\n",
      "급식 데이터 수: 85\n",
      "7801107 강원체육고등학교\n",
      "급식 정보 조회 중: 날짜=20250618\n"
     ]
    },
    {
     "name": "stderr",
     "output_type": "stream",
     "text": [
      "고등학교 급식 조회:  16%|████████▏                                         | 19/116 [00:04<00:26,  3.67it/s]"
     ]
    },
    {
     "name": "stdout",
     "output_type": "stream",
     "text": [
      "mealService 응답코드: 200\n",
      "급식 데이터 수: 63\n",
      "7801108 강일여자고등학교\n",
      "급식 정보 조회 중: 날짜=20250618\n",
      "mealService 응답코드: 200\n",
      "급식 데이터 수: 21\n"
     ]
    },
    {
     "name": "stderr",
     "output_type": "stream",
     "text": [
      "고등학교 급식 조회:  18%|█████████                                         | 21/116 [00:04<00:22,  4.31it/s]"
     ]
    },
    {
     "name": "stdout",
     "output_type": "stream",
     "text": [
      "7801109 거진고등학교\n",
      "급식 정보 조회 중: 날짜=20250618\n",
      "mealService 응답코드: 200\n",
      "급식 데이터 수: 18\n",
      "7801110 경포고등학교\n",
      "급식 정보 조회 중: 날짜=20250618\n",
      "mealService 응답코드: 200\n",
      "급식 데이터 수: 41\n"
     ]
    },
    {
     "name": "stderr",
     "output_type": "stream",
     "text": [
      "고등학교 급식 조회:  19%|█████████▍                                        | 22/116 [00:05<00:21,  4.33it/s]"
     ]
    },
    {
     "name": "stdout",
     "output_type": "stream",
     "text": [
      "7801111 고성고등학교\n",
      "급식 정보 조회 중: 날짜=20250618\n",
      "mealService 응답코드: 200\n",
      "급식 데이터 수: 50\n"
     ]
    },
    {
     "name": "stderr",
     "output_type": "stream",
     "text": [
      "고등학교 급식 조회:  20%|█████████▉                                        | 23/116 [00:05<00:23,  4.02it/s]"
     ]
    },
    {
     "name": "stdout",
     "output_type": "stream",
     "text": [
      "7801112 고한고등학교\n",
      "급식 정보 조회 중: 날짜=20250618\n",
      "mealService 응답코드: 200\n",
      "급식 데이터 수: 62\n"
     ]
    },
    {
     "name": "stderr",
     "output_type": "stream",
     "text": [
      "고등학교 급식 조회:  21%|██████████▎                                       | 24/116 [00:05<00:23,  3.96it/s]"
     ]
    },
    {
     "name": "stdout",
     "output_type": "stream",
     "text": [
      "7801113 기린고등학교\n",
      "급식 정보 조회 중: 날짜=20250618\n",
      "mealService 응답코드: 200\n",
      "급식 데이터 수: 37\n"
     ]
    },
    {
     "name": "stderr",
     "output_type": "stream",
     "text": [
      "고등학교 급식 조회:  22%|██████████▊                                       | 25/116 [00:05<00:21,  4.16it/s]"
     ]
    },
    {
     "name": "stdout",
     "output_type": "stream",
     "text": [
      "7801114 김화고등학교\n",
      "급식 정보 조회 중: 날짜=20250618\n",
      "mealService 응답코드: 200\n",
      "급식 데이터 수: 58\n"
     ]
    },
    {
     "name": "stderr",
     "output_type": "stream",
     "text": [
      "고등학교 급식 조회:  22%|███████████▏                                      | 26/116 [00:06<00:21,  4.17it/s]"
     ]
    },
    {
     "name": "stdout",
     "output_type": "stream",
     "text": [
      "7801115 김화공업고등학교\n",
      "급식 정보 조회 중: 날짜=20250618\n",
      "mealService 응답코드: 200\n",
      "급식 데이터 수: 21\n"
     ]
    },
    {
     "name": "stderr",
     "output_type": "stream",
     "text": [
      "고등학교 급식 조회:  23%|███████████▋                                      | 27/116 [00:06<00:22,  4.01it/s]"
     ]
    },
    {
     "name": "stdout",
     "output_type": "stream",
     "text": [
      "7801116 내면고등학교\n",
      "급식 정보 조회 중: 날짜=20250618\n",
      "mealService 응답코드: 200\n",
      "급식 데이터 수: 21\n"
     ]
    },
    {
     "name": "stderr",
     "output_type": "stream",
     "text": [
      "고등학교 급식 조회:  24%|████████████                                      | 28/116 [00:06<00:20,  4.25it/s]"
     ]
    },
    {
     "name": "stdout",
     "output_type": "stream",
     "text": [
      "7801117 대성고등학교\n",
      "급식 정보 조회 중: 날짜=20250618\n",
      "mealService 응답코드: 200\n",
      "급식 데이터 수: 36\n"
     ]
    },
    {
     "name": "stderr",
     "output_type": "stream",
     "text": [
      "고등학교 급식 조회:  25%|████████████▌                                     | 29/116 [00:06<00:20,  4.27it/s]"
     ]
    },
    {
     "name": "stdout",
     "output_type": "stream",
     "text": [
      "7801118 대진고등학교\n",
      "급식 정보 조회 중: 날짜=20250618\n",
      "mealService 응답코드: 200\n",
      "급식 데이터 수: 21\n"
     ]
    },
    {
     "name": "stderr",
     "output_type": "stream",
     "text": [
      "고등학교 급식 조회:  26%|████████████▉                                     | 30/116 [00:06<00:19,  4.43it/s]"
     ]
    },
    {
     "name": "stdout",
     "output_type": "stream",
     "text": [
      "7801119 대화고등학교\n",
      "급식 정보 조회 중: 날짜=20250618\n",
      "mealService 응답코드: 200\n",
      "급식 데이터 수: 51\n"
     ]
    },
    {
     "name": "stderr",
     "output_type": "stream",
     "text": [
      "고등학교 급식 조회:  27%|█████████████▎                                    | 31/116 [00:07<00:19,  4.43it/s]"
     ]
    },
    {
     "name": "stdout",
     "output_type": "stream",
     "text": [
      "7801120 도계고등학교\n",
      "급식 정보 조회 중: 날짜=20250618\n",
      "mealService 응답코드: 200\n",
      "급식 데이터 수: 40\n"
     ]
    },
    {
     "name": "stderr",
     "output_type": "stream",
     "text": [
      "고등학교 급식 조회:  28%|██████████████▏                                   | 33/116 [00:07<00:18,  4.56it/s]"
     ]
    },
    {
     "name": "stdout",
     "output_type": "stream",
     "text": [
      "7801121 도계전산정보고등학교\n",
      "급식 정보 조회 중: 날짜=20250618\n",
      "mealService 응답코드: 200\n",
      "급식 데이터 수: 21\n",
      "7801122 동광산업과학고등학교\n",
      "급식 정보 조회 중: 날짜=20250618\n",
      "mealService 응답코드: 200\n",
      "급식 데이터 수: 59\n"
     ]
    },
    {
     "name": "stderr",
     "output_type": "stream",
     "text": [
      "고등학교 급식 조회:  30%|███████████████                                   | 35/116 [00:08<00:17,  4.74it/s]"
     ]
    },
    {
     "name": "stdout",
     "output_type": "stream",
     "text": [
      "7801123 동해광희고등학교\n",
      "급식 정보 조회 중: 날짜=20250618\n",
      "mealService 응답코드: 200\n",
      "급식 데이터 수: 39\n",
      "7801124 동해삼육고등학교\n",
      "급식 정보 조회 중: 날짜=20250618\n",
      "mealService 응답코드: 200\n",
      "급식 데이터 수: 64\n"
     ]
    },
    {
     "name": "stderr",
     "output_type": "stream",
     "text": [
      "고등학교 급식 조회:  31%|███████████████▌                                  | 36/116 [00:08<00:18,  4.43it/s]"
     ]
    },
    {
     "name": "stdout",
     "output_type": "stream",
     "text": [
      "7801125 동해상업고등학교\n",
      "급식 정보 조회 중: 날짜=20250618\n",
      "mealService 응답코드: 200\n",
      "급식 데이터 수: 44\n"
     ]
    },
    {
     "name": "stderr",
     "output_type": "stream",
     "text": [
      "고등학교 급식 조회:  32%|███████████████▉                                  | 37/116 [00:08<00:19,  4.00it/s]"
     ]
    },
    {
     "name": "stdout",
     "output_type": "stream",
     "text": [
      "7801126 둔내고등학교\n",
      "급식 정보 조회 중: 날짜=20250618\n",
      "mealService 응답코드: 200\n",
      "급식 데이터 수: 21\n"
     ]
    },
    {
     "name": "stderr",
     "output_type": "stream",
     "text": [
      "고등학교 급식 조회:  33%|████████████████▍                                 | 38/116 [00:08<00:19,  4.08it/s]"
     ]
    },
    {
     "name": "stdout",
     "output_type": "stream",
     "text": [
      "7801127 마차고등학교\n",
      "급식 정보 조회 중: 날짜=20250618\n",
      "mealService 응답코드: 200\n",
      "급식 데이터 수: 21\n"
     ]
    },
    {
     "name": "stderr",
     "output_type": "stream",
     "text": [
      "고등학교 급식 조회:  34%|████████████████▊                                 | 39/116 [00:09<00:17,  4.28it/s]"
     ]
    },
    {
     "name": "stdout",
     "output_type": "stream",
     "text": [
      "7801128 묵호고등학교\n",
      "급식 정보 조회 중: 날짜=20250618\n",
      "mealService 응답코드: 200\n",
      "급식 데이터 수: 37\n"
     ]
    },
    {
     "name": "stderr",
     "output_type": "stream",
     "text": [
      "고등학교 급식 조회:  34%|█████████████████▏                                | 40/116 [00:09<00:18,  4.15it/s]"
     ]
    },
    {
     "name": "stdout",
     "output_type": "stream",
     "text": [
      "7801130 문막고등학교\n",
      "급식 정보 조회 중: 날짜=20250618\n",
      "mealService 응답코드: 200\n",
      "급식 데이터 수: 20\n"
     ]
    },
    {
     "name": "stderr",
     "output_type": "stream",
     "text": [
      "고등학교 급식 조회:  35%|█████████████████▋                                | 41/116 [00:09<00:18,  4.06it/s]"
     ]
    },
    {
     "name": "stdout",
     "output_type": "stream",
     "text": [
      "7801131 미래고등학교\n",
      "급식 정보 조회 중: 날짜=20250618\n",
      "mealService 응답코드: 200\n",
      "급식 데이터 수: 45\n"
     ]
    },
    {
     "name": "stderr",
     "output_type": "stream",
     "text": [
      "고등학교 급식 조회:  36%|██████████████████                                | 42/116 [00:09<00:18,  4.05it/s]"
     ]
    },
    {
     "name": "stdout",
     "output_type": "stream",
     "text": [
      "7801132 민족사관고등학교\n",
      "급식 정보 조회 중: 날짜=20250618\n",
      "mealService 응답코드: 200\n",
      "급식 데이터 수: 74\n"
     ]
    },
    {
     "name": "stderr",
     "output_type": "stream",
     "text": [
      "고등학교 급식 조회:  37%|██████████████████▌                               | 43/116 [00:10<00:18,  3.89it/s]"
     ]
    },
    {
     "name": "stdout",
     "output_type": "stream",
     "text": [
      "7801133 봉의고등학교\n",
      "급식 정보 조회 중: 날짜=20250618\n",
      "mealService 응답코드: 200\n",
      "급식 데이터 수: 21\n"
     ]
    },
    {
     "name": "stderr",
     "output_type": "stream",
     "text": [
      "고등학교 급식 조회:  38%|██████████████████▉                               | 44/116 [00:10<00:18,  3.93it/s]"
     ]
    },
    {
     "name": "stdout",
     "output_type": "stream",
     "text": [
      "7801134 봉평고등학교\n",
      "급식 정보 조회 중: 날짜=20250618\n",
      "mealService 응답코드: 200\n",
      "급식 데이터 수: 17\n"
     ]
    },
    {
     "name": "stderr",
     "output_type": "stream",
     "text": [
      "고등학교 급식 조회:  39%|███████████████████▍                              | 45/116 [00:10<00:17,  4.07it/s]"
     ]
    },
    {
     "name": "stdout",
     "output_type": "stream",
     "text": [
      "7801135 북원여자고등학교\n",
      "급식 정보 조회 중: 날짜=20250618\n",
      "mealService 응답코드: 200\n",
      "급식 데이터 수: 40\n"
     ]
    },
    {
     "name": "stderr",
     "output_type": "stream",
     "text": [
      "고등학교 급식 조회:  40%|███████████████████▊                              | 46/116 [00:10<00:17,  4.01it/s]"
     ]
    },
    {
     "name": "stdout",
     "output_type": "stream",
     "text": [
      "7801136 북평고등학교\n",
      "급식 정보 조회 중: 날짜=20250618\n",
      "mealService 응답코드: 200\n",
      "급식 데이터 수: 42\n"
     ]
    },
    {
     "name": "stderr",
     "output_type": "stream",
     "text": [
      "고등학교 급식 조회:  41%|████████████████████▎                             | 47/116 [00:11<00:17,  3.89it/s]"
     ]
    },
    {
     "name": "stdout",
     "output_type": "stream",
     "text": [
      "7801137 북평여자고등학교\n",
      "급식 정보 조회 중: 날짜=20250618\n",
      "mealService 응답코드: 200\n",
      "급식 데이터 수: 41\n"
     ]
    },
    {
     "name": "stderr",
     "output_type": "stream",
     "text": [
      "고등학교 급식 조회:  41%|████████████████████▋                             | 48/116 [00:11<00:18,  3.78it/s]"
     ]
    },
    {
     "name": "stdout",
     "output_type": "stream",
     "text": [
      "7801138 사내고등학교\n",
      "급식 정보 조회 중: 날짜=20250618\n",
      "mealService 응답코드: 200\n",
      "급식 데이터 수: 21\n"
     ]
    },
    {
     "name": "stderr",
     "output_type": "stream",
     "text": [
      "고등학교 급식 조회:  42%|█████████████████████                             | 49/116 [00:11<00:17,  3.90it/s]"
     ]
    },
    {
     "name": "stdout",
     "output_type": "stream",
     "text": [
      "7801139 사북고등학교\n",
      "급식 정보 조회 중: 날짜=20250618\n",
      "mealService 응답코드: 200\n",
      "급식 데이터 수: 53\n"
     ]
    },
    {
     "name": "stderr",
     "output_type": "stream",
     "text": [
      "고등학교 급식 조회:  43%|█████████████████████▌                            | 50/116 [00:11<00:17,  3.79it/s]"
     ]
    },
    {
     "name": "stdout",
     "output_type": "stream",
     "text": [
      "7801140 삼일고등학교\n",
      "급식 정보 조회 중: 날짜=20250618\n",
      "mealService 응답코드: 200\n",
      "급식 데이터 수: 38\n"
     ]
    },
    {
     "name": "stderr",
     "output_type": "stream",
     "text": [
      "고등학교 급식 조회:  44%|█████████████████████▉                            | 51/116 [00:12<00:16,  3.88it/s]"
     ]
    },
    {
     "name": "stdout",
     "output_type": "stream",
     "text": [
      "7801141 삼척고등학교\n",
      "급식 정보 조회 중: 날짜=20250618\n",
      "mealService 응답코드: 200\n",
      "급식 데이터 수: 36\n"
     ]
    },
    {
     "name": "stderr",
     "output_type": "stream",
     "text": [
      "고등학교 급식 조회:  45%|██████████████████████▍                           | 52/116 [00:12<00:16,  3.94it/s]"
     ]
    },
    {
     "name": "stdout",
     "output_type": "stream",
     "text": [
      "7801142 삼척여자고등학교\n",
      "급식 정보 조회 중: 날짜=20250618\n",
      "mealService 응답코드: 200\n",
      "급식 데이터 수: 36\n"
     ]
    },
    {
     "name": "stderr",
     "output_type": "stream",
     "text": [
      "고등학교 급식 조회:  46%|██████████████████████▊                           | 53/116 [00:12<00:16,  3.80it/s]"
     ]
    },
    {
     "name": "stdout",
     "output_type": "stream",
     "text": [
      "7801143 상동고등학교\n",
      "급식 정보 조회 중: 날짜=20250618\n"
     ]
    },
    {
     "name": "stderr",
     "output_type": "stream",
     "text": [
      "고등학교 급식 조회:  47%|███████████████████████▎                          | 54/116 [00:12<00:17,  3.64it/s]"
     ]
    },
    {
     "name": "stdout",
     "output_type": "stream",
     "text": [
      "mealService 응답코드: 200\n",
      "급식 데이터 수: 21\n",
      "7801144 상지대관령고등학교\n",
      "급식 정보 조회 중: 날짜=20250618\n"
     ]
    },
    {
     "name": "stderr",
     "output_type": "stream",
     "text": [
      "고등학교 급식 조회:  47%|███████████████████████▋                          | 55/116 [00:13<00:17,  3.43it/s]"
     ]
    },
    {
     "name": "stdout",
     "output_type": "stream",
     "text": [
      "mealService 응답코드: 200\n",
      "급식 데이터 수: 21\n",
      "7801145 상지여자고등학교\n",
      "급식 정보 조회 중: 날짜=20250618\n"
     ]
    },
    {
     "name": "stderr",
     "output_type": "stream",
     "text": [
      "고등학교 급식 조회:  48%|████████████████████████▏                         | 56/116 [00:13<00:17,  3.38it/s]"
     ]
    },
    {
     "name": "stdout",
     "output_type": "stream",
     "text": [
      "mealService 응답코드: 200\n",
      "급식 데이터 수: 40\n",
      "7801146 서석고등학교\n",
      "급식 정보 조회 중: 날짜=20250618\n"
     ]
    },
    {
     "name": "stderr",
     "output_type": "stream",
     "text": [
      "고등학교 급식 조회:  49%|████████████████████████▌                         | 57/116 [00:13<00:17,  3.37it/s]"
     ]
    },
    {
     "name": "stdout",
     "output_type": "stream",
     "text": [
      "mealService 응답코드: 200\n",
      "급식 데이터 수: 37\n",
      "7801147 석정여자고등학교\n",
      "급식 정보 조회 중: 날짜=20250618\n"
     ]
    },
    {
     "name": "stderr",
     "output_type": "stream",
     "text": [
      "고등학교 급식 조회:  50%|█████████████████████████                         | 58/116 [00:14<00:17,  3.41it/s]"
     ]
    },
    {
     "name": "stdout",
     "output_type": "stream",
     "text": [
      "mealService 응답코드: 200\n",
      "급식 데이터 수: 38\n",
      "7801148 설악고등학교\n",
      "급식 정보 조회 중: 날짜=20250618\n"
     ]
    },
    {
     "name": "stderr",
     "output_type": "stream",
     "text": [
      "고등학교 급식 조회:  51%|█████████████████████████▍                        | 59/116 [00:14<00:16,  3.46it/s]"
     ]
    },
    {
     "name": "stdout",
     "output_type": "stream",
     "text": [
      "mealService 응답코드: 200\n",
      "급식 데이터 수: 56\n",
      "7801233 섬강고등학교\n",
      "급식 정보 조회 중: 날짜=20250618\n",
      "mealService 응답코드: 200\n",
      "급식 데이터 수: 20\n"
     ]
    },
    {
     "name": "stderr",
     "output_type": "stream",
     "text": [
      "고등학교 급식 조회:  52%|█████████████████████████▊                        | 60/116 [00:14<00:14,  3.86it/s]"
     ]
    },
    {
     "name": "stdout",
     "output_type": "stream",
     "text": [
      "7801150 성수고등학교\n",
      "급식 정보 조회 중: 날짜=20250618\n",
      "mealService 응답코드: 200\n",
      "급식 데이터 수: 21\n"
     ]
    },
    {
     "name": "stderr",
     "output_type": "stream",
     "text": [
      "고등학교 급식 조회:  53%|██████████████████████████▎                       | 61/116 [00:14<00:13,  4.02it/s]"
     ]
    },
    {
     "name": "stdout",
     "output_type": "stream",
     "text": [
      "7801151 성수여자고등학교\n",
      "급식 정보 조회 중: 날짜=20250618\n",
      "mealService 응답코드: 200\n",
      "급식 데이터 수: 21\n"
     ]
    },
    {
     "name": "stderr",
     "output_type": "stream",
     "text": [
      "고등학교 급식 조회:  54%|███████████████████████████▏                      | 63/116 [00:15<00:11,  4.45it/s]"
     ]
    },
    {
     "name": "stdout",
     "output_type": "stream",
     "text": [
      "7801152 속초고등학교\n",
      "급식 정보 조회 중: 날짜=20250618\n",
      "mealService 응답코드: 200\n",
      "급식 데이터 수: 19\n",
      "7801153 속초여자고등학교\n",
      "급식 정보 조회 중: 날짜=20250618\n",
      "mealService 응답코드: 200\n",
      "급식 데이터 수: 21\n"
     ]
    },
    {
     "name": "stderr",
     "output_type": "stream",
     "text": [
      "고등학교 급식 조회:  56%|████████████████████████████                      | 65/116 [00:15<00:11,  4.57it/s]"
     ]
    },
    {
     "name": "stdout",
     "output_type": "stream",
     "text": [
      "7801154 신남고등학교\n",
      "급식 정보 조회 중: 날짜=20250618\n",
      "mealService 응답코드: 200\n",
      "급식 데이터 수: 20\n",
      "7801155 신철원고등학교\n",
      "급식 정보 조회 중: 날짜=20250618\n",
      "mealService 응답코드: 200\n",
      "급식 데이터 수: 59\n"
     ]
    },
    {
     "name": "stderr",
     "output_type": "stream",
     "text": [
      "고등학교 급식 조회:  57%|████████████████████████████▍                     | 66/116 [00:15<00:11,  4.40it/s]"
     ]
    },
    {
     "name": "stdout",
     "output_type": "stream",
     "text": [
      "7801156 안흥고등학교\n",
      "급식 정보 조회 중: 날짜=20250618\n",
      "mealService 응답코드: 200\n",
      "급식 데이터 수: 21\n"
     ]
    },
    {
     "name": "stderr",
     "output_type": "stream",
     "text": [
      "고등학교 급식 조회:  58%|████████████████████████████▉                     | 67/116 [00:16<00:11,  4.45it/s]"
     ]
    },
    {
     "name": "stdout",
     "output_type": "stream",
     "text": [
      "7801157 양구고등학교\n",
      "급식 정보 조회 중: 날짜=20250618\n",
      "mealService 응답코드: 200\n",
      "급식 데이터 수: 46\n"
     ]
    },
    {
     "name": "stderr",
     "output_type": "stream",
     "text": [
      "고등학교 급식 조회:  59%|█████████████████████████████▎                    | 68/116 [00:16<00:11,  4.06it/s]"
     ]
    },
    {
     "name": "stdout",
     "output_type": "stream",
     "text": [
      "7801158 양구여자고등학교\n",
      "급식 정보 조회 중: 날짜=20250618\n",
      "mealService 응답코드: 200\n",
      "급식 데이터 수: 54\n"
     ]
    },
    {
     "name": "stderr",
     "output_type": "stream",
     "text": [
      "고등학교 급식 조회:  59%|█████████████████████████████▋                    | 69/116 [00:16<00:11,  4.15it/s]"
     ]
    },
    {
     "name": "stdout",
     "output_type": "stream",
     "text": [
      "7801159 양양고등학교\n",
      "급식 정보 조회 중: 날짜=20250618\n",
      "mealService 응답코드: 200\n",
      "급식 데이터 수: 56\n"
     ]
    },
    {
     "name": "stderr",
     "output_type": "stream",
     "text": [
      "고등학교 급식 조회:  60%|██████████████████████████████▏                   | 70/116 [00:16<00:11,  4.16it/s]"
     ]
    },
    {
     "name": "stdout",
     "output_type": "stream",
     "text": [
      "7801160 여량고등학교\n",
      "급식 정보 조회 중: 날짜=20250618\n"
     ]
    },
    {
     "name": "stderr",
     "output_type": "stream",
     "text": [
      "고등학교 급식 조회:  61%|██████████████████████████████▌                   | 71/116 [00:17<00:11,  3.84it/s]"
     ]
    },
    {
     "name": "stdout",
     "output_type": "stream",
     "text": [
      "mealService 응답코드: 200\n",
      "급식 데이터 수: 21\n",
      "7801161 영서고등학교\n",
      "급식 정보 조회 중: 날짜=20250618\n"
     ]
    },
    {
     "name": "stderr",
     "output_type": "stream",
     "text": [
      "고등학교 급식 조회:  62%|███████████████████████████████                   | 72/116 [00:17<00:12,  3.64it/s]"
     ]
    },
    {
     "name": "stdout",
     "output_type": "stream",
     "text": [
      "mealService 응답코드: 200\n",
      "급식 데이터 수: 21\n",
      "7801162 영월고등학교\n",
      "급식 정보 조회 중: 날짜=20250618\n"
     ]
    },
    {
     "name": "stderr",
     "output_type": "stream",
     "text": [
      "고등학교 급식 조회:  63%|███████████████████████████████▍                  | 73/116 [00:17<00:12,  3.50it/s]"
     ]
    },
    {
     "name": "stdout",
     "output_type": "stream",
     "text": [
      "mealService 응답코드: 200\n",
      "급식 데이터 수: 58\n",
      "7801163 원덕고등학교\n",
      "급식 정보 조회 중: 날짜=20250618\n"
     ]
    },
    {
     "name": "stderr",
     "output_type": "stream",
     "text": [
      "고등학교 급식 조회:  64%|███████████████████████████████▉                  | 74/116 [00:18<00:11,  3.69it/s]"
     ]
    },
    {
     "name": "stdout",
     "output_type": "stream",
     "text": [
      "mealService 응답코드: 200\n",
      "급식 데이터 수: 21\n",
      "7801164 원주고등학교\n",
      "급식 정보 조회 중: 날짜=20250618\n"
     ]
    },
    {
     "name": "stderr",
     "output_type": "stream",
     "text": [
      "고등학교 급식 조회:  65%|████████████████████████████████▎                 | 75/116 [00:18<00:10,  3.90it/s]"
     ]
    },
    {
     "name": "stdout",
     "output_type": "stream",
     "text": [
      "mealService 응답코드: 200\n",
      "급식 데이터 수: 36\n",
      "7801166 원주금융회계고등학교\n",
      "급식 정보 조회 중: 날짜=20250618\n"
     ]
    },
    {
     "name": "stderr",
     "output_type": "stream",
     "text": [
      "고등학교 급식 조회:  66%|████████████████████████████████▊                 | 76/116 [00:18<00:09,  4.08it/s]"
     ]
    },
    {
     "name": "stdout",
     "output_type": "stream",
     "text": [
      "mealService 응답코드: 200\n",
      "급식 데이터 수: 50\n",
      "7801167 원주삼육고등학교\n",
      "급식 정보 조회 중: 날짜=20250618\n"
     ]
    },
    {
     "name": "stderr",
     "output_type": "stream",
     "text": [
      "고등학교 급식 조회:  66%|█████████████████████████████████▏                | 77/116 [00:18<00:09,  4.12it/s]"
     ]
    },
    {
     "name": "stdout",
     "output_type": "stream",
     "text": [
      "mealService 응답코드: 200\n",
      "급식 데이터 수: 64\n",
      "7801168 원주여자고등학교\n",
      "급식 정보 조회 중: 날짜=20250618\n"
     ]
    },
    {
     "name": "stderr",
     "output_type": "stream",
     "text": [
      "고등학교 급식 조회:  67%|█████████████████████████████████▌                | 78/116 [00:19<00:09,  3.99it/s]"
     ]
    },
    {
     "name": "stdout",
     "output_type": "stream",
     "text": [
      "mealService 응답코드: 200\n",
      "급식 데이터 수: 41\n",
      "7801169 원주의료고등학교\n",
      "급식 정보 조회 중: 날짜=20250618\n"
     ]
    },
    {
     "name": "stderr",
     "output_type": "stream",
     "text": [
      "고등학교 급식 조회:  68%|██████████████████████████████████                | 79/116 [00:19<00:09,  3.77it/s]"
     ]
    },
    {
     "name": "stdout",
     "output_type": "stream",
     "text": [
      "mealService 응답코드: 200\n",
      "급식 데이터 수: 56\n",
      "7801170 원통고등학교\n",
      "급식 정보 조회 중: 날짜=20250618\n"
     ]
    },
    {
     "name": "stderr",
     "output_type": "stream",
     "text": [
      "고등학교 급식 조회:  69%|██████████████████████████████████▍               | 80/116 [00:19<00:10,  3.49it/s]"
     ]
    },
    {
     "name": "stdout",
     "output_type": "stream",
     "text": [
      "mealService 응답코드: 200\n",
      "급식 데이터 수: 57\n",
      "7801171 유봉여자고등학교\n",
      "급식 정보 조회 중: 날짜=20250618\n"
     ]
    },
    {
     "name": "stderr",
     "output_type": "stream",
     "text": [
      "고등학교 급식 조회:  70%|██████████████████████████████████▉               | 81/116 [00:20<00:10,  3.47it/s]"
     ]
    },
    {
     "name": "stdout",
     "output_type": "stream",
     "text": [
      "mealService 응답코드: 200\n",
      "급식 데이터 수: 41\n",
      "7801172 육민관고등학교\n",
      "급식 정보 조회 중: 날짜=20250618\n"
     ]
    },
    {
     "name": "stderr",
     "output_type": "stream",
     "text": [
      "고등학교 급식 조회:  71%|███████████████████████████████████▎              | 82/116 [00:20<00:09,  3.53it/s]"
     ]
    },
    {
     "name": "stdout",
     "output_type": "stream",
     "text": [
      "mealService 응답코드: 200\n",
      "급식 데이터 수: 36\n",
      "7801173 인제고등학교\n",
      "급식 정보 조회 중: 날짜=20250618\n"
     ]
    },
    {
     "name": "stderr",
     "output_type": "stream",
     "text": [
      "고등학교 급식 조회:  72%|███████████████████████████████████▊              | 83/116 [00:20<00:09,  3.60it/s]"
     ]
    },
    {
     "name": "stdout",
     "output_type": "stream",
     "text": [
      "mealService 응답코드: 200\n",
      "급식 데이터 수: 52\n",
      "7801174 임계고등학교\n",
      "급식 정보 조회 중: 날짜=20250618\n"
     ]
    },
    {
     "name": "stderr",
     "output_type": "stream",
     "text": [
      "고등학교 급식 조회:  72%|████████████████████████████████████▏             | 84/116 [00:20<00:08,  3.60it/s]"
     ]
    },
    {
     "name": "stdout",
     "output_type": "stream",
     "text": [
      "mealService 응답코드: 200\n",
      "급식 데이터 수: 50\n",
      "7801175 장성여자고등학교\n",
      "급식 정보 조회 중: 날짜=20250618\n"
     ]
    },
    {
     "name": "stderr",
     "output_type": "stream",
     "text": [
      "고등학교 급식 조회:  73%|████████████████████████████████████▋             | 85/116 [00:21<00:08,  3.59it/s]"
     ]
    },
    {
     "name": "stdout",
     "output_type": "stream",
     "text": [
      "mealService 응답코드: 200\n",
      "급식 데이터 수: 60\n",
      "7801209 전인고등학교\n",
      "급식 정보 조회 중: 날짜=20250618\n"
     ]
    },
    {
     "name": "stderr",
     "output_type": "stream",
     "text": [
      "고등학교 급식 조회:  74%|█████████████████████████████████████             | 86/116 [00:21<00:08,  3.51it/s]"
     ]
    },
    {
     "name": "stdout",
     "output_type": "stream",
     "text": [
      "mealService 응답코드: 200\n",
      "급식 데이터 수: 67\n",
      "7801176 정선고등학교\n",
      "급식 정보 조회 중: 날짜=20250618\n"
     ]
    },
    {
     "name": "stderr",
     "output_type": "stream",
     "text": [
      "고등학교 급식 조회:  75%|█████████████████████████████████████▌            | 87/116 [00:21<00:08,  3.51it/s]"
     ]
    },
    {
     "name": "stdout",
     "output_type": "stream",
     "text": [
      "mealService 응답코드: 200\n",
      "급식 데이터 수: 58\n",
      "7801177 정선정보공업고등학교\n",
      "급식 정보 조회 중: 날짜=20250618\n"
     ]
    },
    {
     "name": "stderr",
     "output_type": "stream",
     "text": [
      "고등학교 급식 조회:  76%|█████████████████████████████████████▉            | 88/116 [00:22<00:08,  3.42it/s]"
     ]
    },
    {
     "name": "stdout",
     "output_type": "stream",
     "text": [
      "mealService 응답코드: 200\n",
      "급식 데이터 수: 58\n",
      "7801178 주문진고등학교\n",
      "급식 정보 조회 중: 날짜=20250618\n"
     ]
    },
    {
     "name": "stderr",
     "output_type": "stream",
     "text": [
      "고등학교 급식 조회:  77%|██████████████████████████████████████▎           | 89/116 [00:22<00:07,  3.46it/s]"
     ]
    },
    {
     "name": "stdout",
     "output_type": "stream",
     "text": [
      "mealService 응답코드: 200\n",
      "급식 데이터 수: 20\n",
      "7801179 주천고등학교\n",
      "급식 정보 조회 중: 날짜=20250618\n"
     ]
    },
    {
     "name": "stderr",
     "output_type": "stream",
     "text": [
      "고등학교 급식 조회:  78%|██████████████████████████████████████▊           | 90/116 [00:22<00:08,  3.16it/s]"
     ]
    },
    {
     "name": "stdout",
     "output_type": "stream",
     "text": [
      "mealService 응답코드: 200\n",
      "급식 데이터 수: 59\n",
      "7801180 진광고등학교\n",
      "급식 정보 조회 중: 날짜=20250618\n"
     ]
    },
    {
     "name": "stderr",
     "output_type": "stream",
     "text": [
      "고등학교 급식 조회:  78%|███████████████████████████████████████▏          | 91/116 [00:22<00:07,  3.29it/s]"
     ]
    },
    {
     "name": "stdout",
     "output_type": "stream",
     "text": [
      "mealService 응답코드: 200\n",
      "급식 데이터 수: 37\n",
      "7801181 진부고등학교\n",
      "급식 정보 조회 중: 날짜=20250618\n"
     ]
    },
    {
     "name": "stderr",
     "output_type": "stream",
     "text": [
      "고등학교 급식 조회:  79%|███████████████████████████████████████▋          | 92/116 [00:23<00:06,  3.54it/s]"
     ]
    },
    {
     "name": "stdout",
     "output_type": "stream",
     "text": [
      "mealService 응답코드: 200\n",
      "급식 데이터 수: 42\n",
      "7801182 철암고등학교\n",
      "급식 정보 조회 중: 날짜=20250618\n"
     ]
    },
    {
     "name": "stderr",
     "output_type": "stream",
     "text": [
      "고등학교 급식 조회:  80%|████████████████████████████████████████          | 93/116 [00:23<00:05,  3.84it/s]"
     ]
    },
    {
     "name": "stdout",
     "output_type": "stream",
     "text": [
      "mealService 응답코드: 200\n",
      "급식 데이터 수: 21\n",
      "7801183 철원고등학교\n",
      "급식 정보 조회 중: 날짜=20250618\n"
     ]
    },
    {
     "name": "stderr",
     "output_type": "stream",
     "text": [
      "고등학교 급식 조회:  81%|████████████████████████████████████████▌         | 94/116 [00:23<00:05,  3.97it/s]"
     ]
    },
    {
     "name": "stdout",
     "output_type": "stream",
     "text": [
      "mealService 응답코드: 200\n",
      "급식 데이터 수: 48\n",
      "7801184 철원여자고등학교\n",
      "급식 정보 조회 중: 날짜=20250618\n"
     ]
    },
    {
     "name": "stderr",
     "output_type": "stream",
     "text": [
      "고등학교 급식 조회:  82%|████████████████████████████████████████▉         | 95/116 [00:23<00:04,  4.20it/s]"
     ]
    },
    {
     "name": "stdout",
     "output_type": "stream",
     "text": [
      "mealService 응답코드: 200\n",
      "급식 데이터 수: 38\n",
      "7801185 춘천고등학교\n",
      "급식 정보 조회 중: 날짜=20250618\n"
     ]
    },
    {
     "name": "stderr",
     "output_type": "stream",
     "text": [
      "고등학교 급식 조회:  83%|█████████████████████████████████████████▍        | 96/116 [00:24<00:04,  4.35it/s]"
     ]
    },
    {
     "name": "stdout",
     "output_type": "stream",
     "text": [
      "mealService 응답코드: 200\n",
      "급식 데이터 수: 38\n",
      "7801187 춘천기계공업고등학교\n",
      "급식 정보 조회 중: 날짜=20250618\n"
     ]
    },
    {
     "name": "stderr",
     "output_type": "stream",
     "text": [
      "고등학교 급식 조회:  84%|█████████████████████████████████████████▊        | 97/116 [00:24<00:04,  4.00it/s]"
     ]
    },
    {
     "name": "stdout",
     "output_type": "stream",
     "text": [
      "mealService 응답코드: 200\n",
      "급식 데이터 수: 65\n",
      "7801188 춘천여자고등학교\n",
      "급식 정보 조회 중: 날짜=20250618\n"
     ]
    },
    {
     "name": "stderr",
     "output_type": "stream",
     "text": [
      "고등학교 급식 조회:  84%|██████████████████████████████████████████▏       | 98/116 [00:24<00:04,  4.05it/s]"
     ]
    },
    {
     "name": "stdout",
     "output_type": "stream",
     "text": [
      "mealService 응답코드: 200\n",
      "급식 데이터 수: 20\n",
      "7801190 춘천한샘고등학교\n",
      "급식 정보 조회 중: 날짜=20250618\n"
     ]
    },
    {
     "name": "stderr",
     "output_type": "stream",
     "text": [
      "고등학교 급식 조회:  85%|██████████████████████████████████████████▋       | 99/116 [00:24<00:04,  3.92it/s]"
     ]
    },
    {
     "name": "stdout",
     "output_type": "stream",
     "text": [
      "mealService 응답코드: 200\n",
      "급식 데이터 수: 21\n",
      "7801191 치악고등학교\n",
      "급식 정보 조회 중: 날짜=20250618\n"
     ]
    },
    {
     "name": "stderr",
     "output_type": "stream",
     "text": [
      "고등학교 급식 조회:  86%|██████████████████████████████████████████▏      | 100/116 [00:25<00:04,  3.80it/s]"
     ]
    },
    {
     "name": "stdout",
     "output_type": "stream",
     "text": [
      "mealService 응답코드: 200\n",
      "급식 데이터 수: 21\n",
      "7801193 팔렬고등학교\n",
      "급식 정보 조회 중: 날짜=20250618\n"
     ]
    },
    {
     "name": "stderr",
     "output_type": "stream",
     "text": [
      "고등학교 급식 조회:  87%|██████████████████████████████████████████▋      | 101/116 [00:25<00:04,  3.45it/s]"
     ]
    },
    {
     "name": "stdout",
     "output_type": "stream",
     "text": [
      "mealService 응답코드: 200\n",
      "급식 데이터 수: 32\n",
      "7801194 평창고등학교\n",
      "급식 정보 조회 중: 날짜=20250618\n"
     ]
    },
    {
     "name": "stderr",
     "output_type": "stream",
     "text": [
      "고등학교 급식 조회:  88%|███████████████████████████████████████████      | 102/116 [00:25<00:04,  3.33it/s]"
     ]
    },
    {
     "name": "stdout",
     "output_type": "stream",
     "text": [
      "mealService 응답코드: 200\n",
      "급식 데이터 수: 58\n",
      "7801195 한국소방마이스터고등학교\n",
      "급식 정보 조회 중: 날짜=20250618\n"
     ]
    },
    {
     "name": "stderr",
     "output_type": "stream",
     "text": [
      "고등학교 급식 조회:  89%|███████████████████████████████████████████▌     | 103/116 [00:26<00:03,  3.41it/s]"
     ]
    },
    {
     "name": "stdout",
     "output_type": "stream",
     "text": [
      "mealService 응답코드: 200\n",
      "급식 데이터 수: 41\n",
      "7801196 한국에너지마이스터고등학교\n",
      "급식 정보 조회 중: 날짜=20250618\n"
     ]
    },
    {
     "name": "stderr",
     "output_type": "stream",
     "text": [
      "고등학교 급식 조회:  90%|███████████████████████████████████████████▉     | 104/116 [00:26<00:03,  3.69it/s]"
     ]
    },
    {
     "name": "stdout",
     "output_type": "stream",
     "text": [
      "mealService 응답코드: 200\n",
      "급식 데이터 수: 46\n",
      "7801228 한국항공고등학교\n",
      "급식 정보 조회 중: 날짜=20250618\n"
     ]
    },
    {
     "name": "stderr",
     "output_type": "stream",
     "text": [
      "고등학교 급식 조회:  91%|████████████████████████████████████████████▎    | 105/116 [00:26<00:02,  3.78it/s]"
     ]
    },
    {
     "name": "stdout",
     "output_type": "stream",
     "text": [
      "mealService 응답코드: 200\n",
      "급식 데이터 수: 76\n",
      "7801197 함백고등학교\n",
      "급식 정보 조회 중: 날짜=20250618\n"
     ]
    },
    {
     "name": "stderr",
     "output_type": "stream",
     "text": [
      "고등학교 급식 조회:  91%|████████████████████████████████████████████▊    | 106/116 [00:26<00:02,  3.83it/s]"
     ]
    },
    {
     "name": "stdout",
     "output_type": "stream",
     "text": [
      "mealService 응답코드: 200\n",
      "급식 데이터 수: 58\n",
      "7801198 현천고등학교\n",
      "급식 정보 조회 중: 날짜=20250618\n"
     ]
    },
    {
     "name": "stderr",
     "output_type": "stream",
     "text": [
      "고등학교 급식 조회:  92%|█████████████████████████████████████████████▏   | 107/116 [00:27<00:02,  3.97it/s]"
     ]
    },
    {
     "name": "stdout",
     "output_type": "stream",
     "text": [
      "mealService 응답코드: 200\n",
      "급식 데이터 수: 45\n",
      "7801199 홍천고등학교\n",
      "급식 정보 조회 중: 날짜=20250618\n"
     ]
    },
    {
     "name": "stderr",
     "output_type": "stream",
     "text": [
      "고등학교 급식 조회:  93%|█████████████████████████████████████████████▌   | 108/116 [00:27<00:02,  3.95it/s]"
     ]
    },
    {
     "name": "stdout",
     "output_type": "stream",
     "text": [
      "mealService 응답코드: 200\n",
      "급식 데이터 수: 58\n",
      "7801200 홍천농업고등학교\n",
      "급식 정보 조회 중: 날짜=20250618\n"
     ]
    },
    {
     "name": "stderr",
     "output_type": "stream",
     "text": [
      "고등학교 급식 조회:  94%|██████████████████████████████████████████████   | 109/116 [00:27<00:01,  4.05it/s]"
     ]
    },
    {
     "name": "stdout",
     "output_type": "stream",
     "text": [
      "mealService 응답코드: 200\n",
      "급식 데이터 수: 58\n",
      "7801201 홍천여자고등학교\n",
      "급식 정보 조회 중: 날짜=20250618\n"
     ]
    },
    {
     "name": "stderr",
     "output_type": "stream",
     "text": [
      "고등학교 급식 조회:  95%|██████████████████████████████████████████████▍  | 110/116 [00:27<00:01,  4.05it/s]"
     ]
    },
    {
     "name": "stdout",
     "output_type": "stream",
     "text": [
      "mealService 응답코드: 200\n",
      "급식 데이터 수: 60\n",
      "7801202 화천고등학교\n",
      "급식 정보 조회 중: 날짜=20250618\n"
     ]
    },
    {
     "name": "stderr",
     "output_type": "stream",
     "text": [
      "고등학교 급식 조회:  96%|██████████████████████████████████████████████▉  | 111/116 [00:27<00:01,  4.23it/s]"
     ]
    },
    {
     "name": "stdout",
     "output_type": "stream",
     "text": [
      "mealService 응답코드: 200\n",
      "급식 데이터 수: 52\n",
      "7801203 화천정보산업고등학교\n",
      "급식 정보 조회 중: 날짜=20250618\n",
      "mealService 응답코드: 200\n",
      "급식 데이터 수: 21\n"
     ]
    },
    {
     "name": "stderr",
     "output_type": "stream",
     "text": [
      "고등학교 급식 조회:  97%|███████████████████████████████████████████████▎ | 112/116 [00:28<00:00,  4.50it/s]"
     ]
    },
    {
     "name": "stdout",
     "output_type": "stream",
     "text": [
      "7801204 황지고등학교\n",
      "급식 정보 조회 중: 날짜=20250618\n",
      "mealService 응답코드: 200\n",
      "급식 데이터 수: 58\n"
     ]
    },
    {
     "name": "stderr",
     "output_type": "stream",
     "text": [
      "고등학교 급식 조회:  98%|████████████████████████████████████████████████▏| 114/116 [00:28<00:00,  4.57it/s]"
     ]
    },
    {
     "name": "stdout",
     "output_type": "stream",
     "text": [
      "7801206 황지정보산업고등학교\n",
      "급식 정보 조회 중: 날짜=20250618\n",
      "mealService 응답코드: 200\n",
      "급식 데이터 수: 21\n",
      "7801207 횡성고등학교\n",
      "급식 정보 조회 중: 날짜=20250618\n",
      "mealService 응답코드: 200\n",
      "급식 데이터 수: 58\n"
     ]
    },
    {
     "name": "stderr",
     "output_type": "stream",
     "text": [
      "고등학교 급식 조회:  99%|████████████████████████████████████████████████▌| 115/116 [00:28<00:00,  4.22it/s]"
     ]
    },
    {
     "name": "stdout",
     "output_type": "stream",
     "text": [
      "7801208 횡성여자고등학교\n",
      "급식 정보 조회 중: 날짜=20250618\n",
      "mealService 응답코드: 200\n",
      "급식 데이터 수: 58\n"
     ]
    },
    {
     "name": "stderr",
     "output_type": "stream",
     "text": [
      "고등학교 급식 조회: 100%|█████████████████████████████████████████████████| 116/116 [00:29<00:00,  3.98it/s]\n"
     ]
    },
    {
     "name": "stdout",
     "output_type": "stream",
     "text": [
      "수집된 급식 행 수: 33368\n",
      "수집된 전체 급식 행 수: 33368\n",
      "  교육청코드     학교코드     학교명      급식일자 식사명  \\\n",
      "0   B10  7010057  가락고등학교  20250519  중식   \n",
      "1   B10  7010057  가락고등학교  20250520  중식   \n",
      "2   B10  7010057  가락고등학교  20250521  중식   \n",
      "3   B10  7010057  가락고등학교  20250522  중식   \n",
      "4   B10  7010057  가락고등학교  20250523  중식   \n",
      "\n",
      "                                                급식식단  \n",
      "0  쌀밥 <br/>소고기미역국 (2.5.6.15.16.18)<br/>돼지갈비찜 (5.6...  \n",
      "1  쇠고기콩나물밥 (5.6.16)<br/>물만두국 (1.2.5.6.10.15.16.18...  \n",
      "2  새우볶음밥 (1.5.6.8.9.13.18)<br/>씨앗호떡파이 (1.2.3.5.6)...  \n",
      "3  쌀밥 <br/>볶음우동 (5.6.8.9.13.15.17.18)<br/>zero초코파...  \n",
      "4  현미밥 <br/>어묵국 (1.2.5.6.15.16.18)<br/>마라찜닭 (5.6....  \n",
      "응답코드 : 200\n"
     ]
    },
    {
     "name": "stderr",
     "output_type": "stream",
     "text": [
      "고등학교 급식 조회:   1%|▌                                                   | 1/84 [00:00<00:13,  5.96it/s]"
     ]
    },
    {
     "name": "stdout",
     "output_type": "stream",
     "text": [
      "        (가칭)오송2고등학교\n",
      "급식 정보 조회 중: 날짜=20250618\n",
      "mealService 응답코드: 200\n",
      "mealServiceDietInfo 키 없음: {'RESULT': {'CODE': 'INFO-200', 'MESSAGE': '해당하는 데이터가 없습니다.'}}\n",
      "8000032 광혜원고등학교\n",
      "급식 정보 조회 중: 날짜=20250618\n"
     ]
    },
    {
     "name": "stderr",
     "output_type": "stream",
     "text": [
      "고등학교 급식 조회:   2%|█▏                                                  | 2/84 [00:00<00:20,  4.05it/s]"
     ]
    },
    {
     "name": "stdout",
     "output_type": "stream",
     "text": [
      "mealService 응답코드: 200\n",
      "급식 데이터 수: 52\n",
      "8000033 괴산고등학교\n",
      "급식 정보 조회 중: 날짜=20250618\n"
     ]
    },
    {
     "name": "stderr",
     "output_type": "stream",
     "text": [
      "고등학교 급식 조회:   4%|█▊                                                  | 3/84 [00:00<00:21,  3.77it/s]"
     ]
    },
    {
     "name": "stdout",
     "output_type": "stream",
     "text": [
      "mealService 응답코드: 200\n",
      "급식 데이터 수: 39\n",
      "8000308 국원고등학교\n",
      "급식 정보 조회 중: 날짜=20250618\n"
     ]
    },
    {
     "name": "stderr",
     "output_type": "stream",
     "text": [
      "고등학교 급식 조회:   5%|██▍                                                 | 4/84 [00:01<00:20,  3.88it/s]"
     ]
    },
    {
     "name": "stdout",
     "output_type": "stream",
     "text": [
      "mealService 응답코드: 200\n",
      "급식 데이터 수: 53\n",
      "8000038 금천고등학교\n",
      "급식 정보 조회 중: 날짜=20250618\n"
     ]
    },
    {
     "name": "stderr",
     "output_type": "stream",
     "text": [
      "고등학교 급식 조회:   6%|███                                                 | 5/84 [00:01<00:20,  3.84it/s]"
     ]
    },
    {
     "name": "stdout",
     "output_type": "stream",
     "text": [
      "mealService 응답코드: 200\n",
      "급식 데이터 수: 37\n",
      "8000040 단양고등학교\n",
      "급식 정보 조회 중: 날짜=20250618\n"
     ]
    },
    {
     "name": "stderr",
     "output_type": "stream",
     "text": [
      "고등학교 급식 조회:   7%|███▋                                                | 6/84 [00:01<00:21,  3.63it/s]"
     ]
    },
    {
     "name": "stdout",
     "output_type": "stream",
     "text": [
      "mealService 응답코드: 200\n",
      "급식 데이터 수: 58\n",
      "8000431 대금고등학교\n",
      "급식 정보 조회 중: 날짜=20250618\n"
     ]
    },
    {
     "name": "stderr",
     "output_type": "stream",
     "text": [
      "고등학교 급식 조회:   8%|████▎                                               | 7/84 [00:01<00:23,  3.32it/s]"
     ]
    },
    {
     "name": "stdout",
     "output_type": "stream",
     "text": [
      "mealService 응답코드: 200\n",
      "급식 데이터 수: 56\n",
      "8000135 대성여자상업고등학교\n",
      "급식 정보 조회 중: 날짜=20250618\n"
     ]
    },
    {
     "name": "stderr",
     "output_type": "stream",
     "text": [
      "고등학교 급식 조회:  10%|████▉                                               | 8/84 [00:02<00:20,  3.63it/s]"
     ]
    },
    {
     "name": "stdout",
     "output_type": "stream",
     "text": [
      "mealService 응답코드: 200\n",
      "급식 데이터 수: 21\n",
      "8000530 동성고등학교\n",
      "급식 정보 조회 중: 날짜=20250618\n"
     ]
    },
    {
     "name": "stderr",
     "output_type": "stream",
     "text": [
      "고등학교 급식 조회:  11%|█████▌                                              | 9/84 [00:02<00:19,  3.90it/s]"
     ]
    },
    {
     "name": "stdout",
     "output_type": "stream",
     "text": [
      "mealService 응답코드: 200\n",
      "급식 데이터 수: 44\n",
      "8000183 매괴고등학교\n",
      "급식 정보 조회 중: 날짜=20250618\n"
     ]
    },
    {
     "name": "stderr",
     "output_type": "stream",
     "text": [
      "고등학교 급식 조회:  12%|██████                                             | 10/84 [00:02<00:20,  3.70it/s]"
     ]
    },
    {
     "name": "stdout",
     "output_type": "stream",
     "text": [
      "mealService 응답코드: 200\n",
      "급식 데이터 수: 58\n",
      "8000085 보은고등학교\n",
      "급식 정보 조회 중: 날짜=20250618\n"
     ]
    },
    {
     "name": "stderr",
     "output_type": "stream",
     "text": [
      "고등학교 급식 조회:  13%|██████▋                                            | 11/84 [00:02<00:20,  3.50it/s]"
     ]
    },
    {
     "name": "stdout",
     "output_type": "stream",
     "text": [
      "mealService 응답코드: 200\n",
      "급식 데이터 수: 60\n",
      "8000046 보은여자고등학교\n",
      "급식 정보 조회 중: 날짜=20250618\n"
     ]
    },
    {
     "name": "stderr",
     "output_type": "stream",
     "text": [
      "고등학교 급식 조회:  14%|███████▎                                           | 12/84 [00:03<00:19,  3.69it/s]"
     ]
    },
    {
     "name": "stdout",
     "output_type": "stream",
     "text": [
      "mealService 응답코드: 200\n",
      "급식 데이터 수: 35\n",
      "8000212 봉명고등학교\n",
      "급식 정보 조회 중: 날짜=20250618\n"
     ]
    },
    {
     "name": "stderr",
     "output_type": "stream",
     "text": [
      "고등학교 급식 조회:  15%|███████▉                                           | 13/84 [00:03<00:18,  3.76it/s]"
     ]
    },
    {
     "name": "stdout",
     "output_type": "stream",
     "text": [
      "mealService 응답코드: 200\n",
      "급식 데이터 수: 63\n",
      "8000213 산남고등학교\n",
      "급식 정보 조회 중: 날짜=20250618\n"
     ]
    },
    {
     "name": "stderr",
     "output_type": "stream",
     "text": [
      "고등학교 급식 조회:  17%|████████▌                                          | 14/84 [00:03<00:18,  3.69it/s]"
     ]
    },
    {
     "name": "stdout",
     "output_type": "stream",
     "text": [
      "mealService 응답코드: 200\n",
      "급식 데이터 수: 56\n",
      "8000047 상당고등학교\n",
      "급식 정보 조회 중: 날짜=20250618\n"
     ]
    },
    {
     "name": "stderr",
     "output_type": "stream",
     "text": [
      "고등학교 급식 조회:  18%|█████████                                          | 15/84 [00:04<00:18,  3.66it/s]"
     ]
    },
    {
     "name": "stdout",
     "output_type": "stream",
     "text": [
      "mealService 응답코드: 200\n",
      "급식 데이터 수: 63\n",
      "8000199 서원고등학교\n",
      "급식 정보 조회 중: 날짜=20250618\n"
     ]
    },
    {
     "name": "stderr",
     "output_type": "stream",
     "text": [
      "고등학교 급식 조회:  19%|█████████▋                                         | 16/84 [00:04<00:17,  3.80it/s]"
     ]
    },
    {
     "name": "stdout",
     "output_type": "stream",
     "text": [
      "mealService 응답코드: 200\n",
      "급식 데이터 수: 63\n",
      "8000376 서전고등학교\n",
      "급식 정보 조회 중: 날짜=20250618\n"
     ]
    },
    {
     "name": "stderr",
     "output_type": "stream",
     "text": [
      "고등학교 급식 조회:  20%|██████████▎                                        | 17/84 [00:04<00:17,  3.94it/s]"
     ]
    },
    {
     "name": "stdout",
     "output_type": "stream",
     "text": [
      "mealService 응답코드: 200\n",
      "급식 데이터 수: 60\n",
      "8000086 세광고등학교\n",
      "급식 정보 조회 중: 날짜=20250618\n"
     ]
    },
    {
     "name": "stderr",
     "output_type": "stream",
     "text": [
      "고등학교 급식 조회:  21%|██████████▉                                        | 18/84 [00:04<00:17,  3.84it/s]"
     ]
    },
    {
     "name": "stdout",
     "output_type": "stream",
     "text": [
      "mealService 응답코드: 200\n",
      "급식 데이터 수: 62\n",
      "8000087 세명고등학교\n",
      "급식 정보 조회 중: 날짜=20250618\n"
     ]
    },
    {
     "name": "stderr",
     "output_type": "stream",
     "text": [
      "고등학교 급식 조회:  23%|███████████▌                                       | 19/84 [00:05<00:16,  3.87it/s]"
     ]
    },
    {
     "name": "stdout",
     "output_type": "stream",
     "text": [
      "mealService 응답코드: 200\n",
      "급식 데이터 수: 58\n",
      "8000090 양업고등학교\n",
      "급식 정보 조회 중: 날짜=20250618\n"
     ]
    },
    {
     "name": "stderr",
     "output_type": "stream",
     "text": [
      "고등학교 급식 조회:  24%|████████████▏                                      | 20/84 [00:05<00:16,  3.94it/s]"
     ]
    },
    {
     "name": "stdout",
     "output_type": "stream",
     "text": [
      "mealService 응답코드: 200\n",
      "급식 데이터 수: 53\n",
      "8000268 양청고등학교\n",
      "급식 정보 조회 중: 날짜=20250618\n"
     ]
    },
    {
     "name": "stderr",
     "output_type": "stream",
     "text": [
      "고등학교 급식 조회:  25%|████████████▊                                      | 21/84 [00:05<00:15,  3.95it/s]"
     ]
    },
    {
     "name": "stdout",
     "output_type": "stream",
     "text": [
      "mealService 응답코드: 200\n",
      "급식 데이터 수: 62\n",
      "8000048 영동고등학교\n",
      "급식 정보 조회 중: 날짜=20250618\n"
     ]
    },
    {
     "name": "stderr",
     "output_type": "stream",
     "text": [
      "고등학교 급식 조회:  26%|█████████████▎                                     | 22/84 [00:05<00:15,  3.98it/s]"
     ]
    },
    {
     "name": "stdout",
     "output_type": "stream",
     "text": [
      "mealService 응답코드: 200\n",
      "급식 데이터 수: 42\n",
      "8000508 영동미래고등학교\n",
      "급식 정보 조회 중: 날짜=20250618\n"
     ]
    },
    {
     "name": "stderr",
     "output_type": "stream",
     "text": [
      "고등학교 급식 조회:  27%|█████████████▉                                     | 23/84 [00:05<00:14,  4.15it/s]"
     ]
    },
    {
     "name": "stdout",
     "output_type": "stream",
     "text": [
      "mealService 응답코드: 200\n",
      "급식 데이터 수: 37\n",
      "8000211 영동산업과학고등학교\n",
      "급식 정보 조회 중: 날짜=20250618\n"
     ]
    },
    {
     "name": "stderr",
     "output_type": "stream",
     "text": [
      "고등학교 급식 조회:  29%|██████████████▌                                    | 24/84 [00:06<00:14,  4.17it/s]"
     ]
    },
    {
     "name": "stdout",
     "output_type": "stream",
     "text": [
      "mealService 응답코드: 200\n",
      "급식 데이터 수: 37\n",
      "8000283 오송고등학교\n",
      "급식 정보 조회 중: 날짜=20250618\n"
     ]
    },
    {
     "name": "stderr",
     "output_type": "stream",
     "text": [
      "고등학교 급식 조회:  30%|███████████████▏                                   | 25/84 [00:06<00:14,  4.00it/s]"
     ]
    },
    {
     "name": "stdout",
     "output_type": "stream",
     "text": [
      "mealService 응답코드: 200\n",
      "급식 데이터 수: 64\n",
      "8000050 오창고등학교\n",
      "급식 정보 조회 중: 날짜=20250618\n"
     ]
    },
    {
     "name": "stderr",
     "output_type": "stream",
     "text": [
      "고등학교 급식 조회:  31%|███████████████▊                                   | 26/84 [00:06<00:15,  3.85it/s]"
     ]
    },
    {
     "name": "stdout",
     "output_type": "stream",
     "text": [
      "mealService 응답코드: 200\n",
      "급식 데이터 수: 39\n",
      "8000051 옥천고등학교\n",
      "급식 정보 조회 중: 날짜=20250618\n"
     ]
    },
    {
     "name": "stderr",
     "output_type": "stream",
     "text": [
      "고등학교 급식 조회:  32%|████████████████▍                                  | 27/84 [00:07<00:15,  3.57it/s]"
     ]
    },
    {
     "name": "stdout",
     "output_type": "stream",
     "text": [
      "mealService 응답코드: 200\n",
      "급식 데이터 수: 57\n",
      "8000091 운호고등학교\n",
      "급식 정보 조회 중: 날짜=20250618\n"
     ]
    },
    {
     "name": "stderr",
     "output_type": "stream",
     "text": [
      "고등학교 급식 조회:  33%|█████████████████                                  | 28/84 [00:07<00:15,  3.66it/s]"
     ]
    },
    {
     "name": "stdout",
     "output_type": "stream",
     "text": [
      "mealService 응답코드: 200\n",
      "급식 데이터 수: 37\n",
      "8000053 음성고등학교\n",
      "급식 정보 조회 중: 날짜=20250618\n"
     ]
    },
    {
     "name": "stderr",
     "output_type": "stream",
     "text": [
      "고등학교 급식 조회:  35%|█████████████████▌                                 | 29/84 [00:07<00:14,  3.85it/s]"
     ]
    },
    {
     "name": "stdout",
     "output_type": "stream",
     "text": [
      "mealService 응답코드: 200\n",
      "급식 데이터 수: 50\n",
      "8000093 일신여자고등학교\n",
      "급식 정보 조회 중: 날짜=20250618\n"
     ]
    },
    {
     "name": "stderr",
     "output_type": "stream",
     "text": [
      "고등학교 급식 조회:  36%|██████████████████▏                                | 30/84 [00:07<00:15,  3.50it/s]"
     ]
    },
    {
     "name": "stdout",
     "output_type": "stream",
     "text": [
      "mealService 응답코드: 200\n",
      "급식 데이터 수: 40\n",
      "8000057 제천고등학교\n",
      "급식 정보 조회 중: 날짜=20250618\n"
     ]
    },
    {
     "name": "stderr",
     "output_type": "stream",
     "text": [
      "고등학교 급식 조회:  37%|██████████████████▊                                | 31/84 [00:08<00:14,  3.63it/s]"
     ]
    },
    {
     "name": "stdout",
     "output_type": "stream",
     "text": [
      "mealService 응답코드: 200\n",
      "급식 데이터 수: 60\n",
      "8000207 제천디지털전자고등학교\n",
      "급식 정보 조회 중: 날짜=20250618\n"
     ]
    },
    {
     "name": "stderr",
     "output_type": "stream",
     "text": [
      "고등학교 급식 조회:  38%|███████████████████▍                               | 32/84 [00:08<00:13,  3.89it/s]"
     ]
    },
    {
     "name": "stdout",
     "output_type": "stream",
     "text": [
      "mealService 응답코드: 200\n",
      "급식 데이터 수: 21\n",
      "8000210 제천산업고등학교\n",
      "급식 정보 조회 중: 날짜=20250618\n",
      "mealService 응답코드: 200\n",
      "급식 데이터 수: 21\n"
     ]
    },
    {
     "name": "stderr",
     "output_type": "stream",
     "text": [
      "고등학교 급식 조회:  40%|████████████████████▋                              | 34/84 [00:08<00:11,  4.38it/s]"
     ]
    },
    {
     "name": "stdout",
     "output_type": "stream",
     "text": [
      "8000121 제천상업고등학교\n",
      "급식 정보 조회 중: 날짜=20250618\n",
      "mealService 응답코드: 200\n",
      "급식 데이터 수: 21\n",
      "8000058 제천여자고등학교\n",
      "급식 정보 조회 중: 날짜=20250618\n",
      "mealService 응답코드: 200\n",
      "급식 데이터 수: 56\n"
     ]
    },
    {
     "name": "stderr",
     "output_type": "stream",
     "text": [
      "고등학교 급식 조회:  42%|█████████████████████▎                             | 35/84 [00:09<00:11,  4.18it/s]"
     ]
    },
    {
     "name": "stdout",
     "output_type": "stream",
     "text": [
      "8000216 제천제일고등학교\n",
      "급식 정보 조회 중: 날짜=20250618\n",
      "mealService 응답코드: 200\n",
      "급식 데이터 수: 60\n"
     ]
    },
    {
     "name": "stderr",
     "output_type": "stream",
     "text": [
      "고등학교 급식 조회:  43%|█████████████████████▊                             | 36/84 [00:09<00:11,  4.11it/s]"
     ]
    },
    {
     "name": "stdout",
     "output_type": "stream",
     "text": [
      "8000201 주성고등학교\n",
      "급식 정보 조회 중: 날짜=20250618\n",
      "mealService 응답코드: 200\n",
      "급식 데이터 수: 43\n"
     ]
    },
    {
     "name": "stderr",
     "output_type": "stream",
     "text": [
      "고등학교 급식 조회:  44%|██████████████████████▍                            | 37/84 [00:09<00:11,  4.09it/s]"
     ]
    },
    {
     "name": "stdout",
     "output_type": "stream",
     "text": [
      "8000531 중앙탑고등학교\n",
      "급식 정보 조회 중: 날짜=20250618\n",
      "mealService 응답코드: 200\n",
      "급식 데이터 수: 38\n"
     ]
    },
    {
     "name": "stderr",
     "output_type": "stream",
     "text": [
      "고등학교 급식 조회:  45%|███████████████████████                            | 38/84 [00:09<00:10,  4.32it/s]"
     ]
    },
    {
     "name": "stdout",
     "output_type": "stream",
     "text": [
      "8000117 증평공업고등학교\n",
      "급식 정보 조회 중: 날짜=20250618\n",
      "mealService 응답코드: 200\n",
      "급식 데이터 수: 39\n"
     ]
    },
    {
     "name": "stderr",
     "output_type": "stream",
     "text": [
      "고등학교 급식 조회:  46%|███████████████████████▋                           | 39/84 [00:09<00:10,  4.42it/s]"
     ]
    },
    {
     "name": "stdout",
     "output_type": "stream",
     "text": [
      "8000062 진천고등학교\n",
      "급식 정보 조회 중: 날짜=20250618\n",
      "mealService 응답코드: 200\n",
      "급식 데이터 수: 63\n"
     ]
    },
    {
     "name": "stderr",
     "output_type": "stream",
     "text": [
      "고등학교 급식 조회:  48%|████████████████████████▎                          | 40/84 [00:10<00:10,  4.40it/s]"
     ]
    },
    {
     "name": "stdout",
     "output_type": "stream",
     "text": [
      "8000122 진천상업고등학교\n",
      "급식 정보 조회 중: 날짜=20250618\n",
      "mealService 응답코드: 200\n",
      "급식 데이터 수: 21\n"
     ]
    },
    {
     "name": "stderr",
     "output_type": "stream",
     "text": [
      "고등학교 급식 조회:  49%|████████████████████████▉                          | 41/84 [00:10<00:09,  4.33it/s]"
     ]
    },
    {
     "name": "stdout",
     "output_type": "stream",
     "text": [
      "8000064 청산고등학교\n",
      "급식 정보 조회 중: 날짜=20250618\n",
      "mealService 응답코드: 200\n",
      "급식 데이터 수: 35\n"
     ]
    },
    {
     "name": "stderr",
     "output_type": "stream",
     "text": [
      "고등학교 급식 조회:  50%|█████████████████████████▌                         | 42/84 [00:10<00:09,  4.49it/s]"
     ]
    },
    {
     "name": "stdout",
     "output_type": "stream",
     "text": [
      "8000096 청석고등학교\n",
      "급식 정보 조회 중: 날짜=20250618\n",
      "mealService 응답코드: 200\n",
      "급식 데이터 수: 40\n"
     ]
    },
    {
     "name": "stderr",
     "output_type": "stream",
     "text": [
      "고등학교 급식 조회:  51%|██████████████████████████                         | 43/84 [00:10<00:09,  4.36it/s]"
     ]
    },
    {
     "name": "stdout",
     "output_type": "stream",
     "text": [
      "8000214 청원고등학교\n",
      "급식 정보 조회 중: 날짜=20250618\n",
      "mealService 응답코드: 200\n",
      "급식 데이터 수: 46\n"
     ]
    },
    {
     "name": "stderr",
     "output_type": "stream",
     "text": [
      "고등학교 급식 조회:  52%|██████████████████████████▋                        | 44/84 [00:11<00:09,  4.35it/s]"
     ]
    },
    {
     "name": "stdout",
     "output_type": "stream",
     "text": [
      "8000507 청주IT과학고등학교\n",
      "급식 정보 조회 중: 날짜=20250618\n",
      "mealService 응답코드: 200\n",
      "급식 데이터 수: 25\n"
     ]
    },
    {
     "name": "stderr",
     "output_type": "stream",
     "text": [
      "고등학교 급식 조회:  54%|███████████████████████████▎                       | 45/84 [00:11<00:08,  4.43it/s]"
     ]
    },
    {
     "name": "stdout",
     "output_type": "stream",
     "text": [
      "8000066 청주고등학교\n",
      "급식 정보 조회 중: 날짜=20250618\n",
      "mealService 응답코드: 200\n",
      "급식 데이터 수: 63\n"
     ]
    },
    {
     "name": "stderr",
     "output_type": "stream",
     "text": [
      "고등학교 급식 조회:  55%|███████████████████████████▉                       | 46/84 [00:11<00:08,  4.31it/s]"
     ]
    },
    {
     "name": "stdout",
     "output_type": "stream",
     "text": [
      "8000280 청주공업고등학교\n",
      "급식 정보 조회 중: 날짜=20250618\n",
      "mealService 응답코드: 200\n",
      "급식 데이터 수: 37\n"
     ]
    },
    {
     "name": "stderr",
     "output_type": "stream",
     "text": [
      "고등학교 급식 조회:  56%|████████████████████████████▌                      | 47/84 [00:11<00:08,  4.20it/s]"
     ]
    },
    {
     "name": "stdout",
     "output_type": "stream",
     "text": [
      "8000125 청주농업고등학교\n",
      "급식 정보 조회 중: 날짜=20250618\n",
      "mealService 응답코드: 200\n",
      "급식 데이터 수: 52\n"
     ]
    },
    {
     "name": "stderr",
     "output_type": "stream",
     "text": [
      "고등학교 급식 조회:  57%|█████████████████████████████▏                     | 48/84 [00:12<00:08,  4.00it/s]"
     ]
    },
    {
     "name": "stdout",
     "output_type": "stream",
     "text": [
      "8000195 청주대성고등학교\n",
      "급식 정보 조회 중: 날짜=20250618\n",
      "mealService 응답코드: 200\n",
      "급식 데이터 수: 41\n"
     ]
    },
    {
     "name": "stderr",
     "output_type": "stream",
     "text": [
      "고등학교 급식 조회:  58%|█████████████████████████████▊                     | 49/84 [00:12<00:08,  4.07it/s]"
     ]
    },
    {
     "name": "stdout",
     "output_type": "stream",
     "text": [
      "8000203 청주신흥고등학교\n",
      "급식 정보 조회 중: 날짜=20250618\n",
      "mealService 응답코드: 200\n",
      "급식 데이터 수: 41\n"
     ]
    },
    {
     "name": "stderr",
     "output_type": "stream",
     "text": [
      "고등학교 급식 조회:  60%|██████████████████████████████▎                    | 50/84 [00:12<00:08,  4.12it/s]"
     ]
    },
    {
     "name": "stdout",
     "output_type": "stream",
     "text": [
      "8000069 청주여자고등학교\n",
      "급식 정보 조회 중: 날짜=20250618\n",
      "mealService 응답코드: 200\n",
      "급식 데이터 수: 54\n"
     ]
    },
    {
     "name": "stderr",
     "output_type": "stream",
     "text": [
      "고등학교 급식 조회:  61%|██████████████████████████████▉                    | 51/84 [00:12<00:07,  4.21it/s]"
     ]
    },
    {
     "name": "stdout",
     "output_type": "stream",
     "text": [
      "8000140 청주여자상업고등학교\n",
      "급식 정보 조회 중: 날짜=20250618\n",
      "mealService 응답코드: 200\n",
      "급식 데이터 수: 22\n"
     ]
    },
    {
     "name": "stderr",
     "output_type": "stream",
     "text": [
      "고등학교 급식 조회:  62%|███████████████████████████████▌                   | 52/84 [00:13<00:07,  4.35it/s]"
     ]
    },
    {
     "name": "stdout",
     "output_type": "stream",
     "text": [
      "8000070 청주외국어고등학교\n",
      "급식 정보 조회 중: 날짜=20250618\n",
      "mealService 응답코드: 200\n",
      "급식 데이터 수: 38\n"
     ]
    },
    {
     "name": "stderr",
     "output_type": "stream",
     "text": [
      "고등학교 급식 조회:  63%|████████████████████████████████▏                  | 53/84 [00:13<00:07,  4.41it/s]"
     ]
    },
    {
     "name": "stdout",
     "output_type": "stream",
     "text": [
      "8000072 청주중앙여자고등학교\n",
      "급식 정보 조회 중: 날짜=20250618\n",
      "mealService 응답코드: 200\n",
      "급식 데이터 수: 63\n"
     ]
    },
    {
     "name": "stderr",
     "output_type": "stream",
     "text": [
      "고등학교 급식 조회:  64%|████████████████████████████████▊                  | 54/84 [00:13<00:07,  4.13it/s]"
     ]
    },
    {
     "name": "stdout",
     "output_type": "stream",
     "text": [
      "8000430 청주하이텍고등학교\n",
      "급식 정보 조회 중: 날짜=20250618\n",
      "mealService 응답코드: 200\n",
      "급식 데이터 수: 21\n"
     ]
    },
    {
     "name": "stderr",
     "output_type": "stream",
     "text": [
      "고등학교 급식 조회:  65%|█████████████████████████████████▍                 | 55/84 [00:13<00:06,  4.30it/s]"
     ]
    },
    {
     "name": "stdout",
     "output_type": "stream",
     "text": [
      "8000074 충북고등학교\n",
      "급식 정보 조회 중: 날짜=20250618\n",
      "mealService 응답코드: 200\n",
      "급식 데이터 수: 63\n"
     ]
    },
    {
     "name": "stderr",
     "output_type": "stream",
     "text": [
      "고등학교 급식 조회:  67%|██████████████████████████████████                 | 56/84 [00:14<00:06,  4.03it/s]"
     ]
    },
    {
     "name": "stdout",
     "output_type": "stream",
     "text": [
      "8000127 충북공업고등학교\n",
      "급식 정보 조회 중: 날짜=20250618\n",
      "mealService 응답코드: 200\n",
      "급식 데이터 수: 58\n"
     ]
    },
    {
     "name": "stderr",
     "output_type": "stream",
     "text": [
      "고등학교 급식 조회:  68%|██████████████████████████████████▌                | 57/84 [00:14<00:06,  4.02it/s]"
     ]
    },
    {
     "name": "stdout",
     "output_type": "stream",
     "text": [
      "8000075 충북과학고등학교\n",
      "급식 정보 조회 중: 날짜=20250618\n"
     ]
    },
    {
     "name": "stderr",
     "output_type": "stream",
     "text": [
      "고등학교 급식 조회:  69%|███████████████████████████████████▏               | 58/84 [00:14<00:07,  3.63it/s]"
     ]
    },
    {
     "name": "stdout",
     "output_type": "stream",
     "text": [
      "mealService 응답코드: 200\n",
      "급식 데이터 수: 51\n",
      "7003892 충북대학교사범대학부설고등학교\n",
      "급식 정보 조회 중: 날짜=20250618\n"
     ]
    },
    {
     "name": "stderr",
     "output_type": "stream",
     "text": [
      "고등학교 급식 조회:  70%|███████████████████████████████████▊               | 59/84 [00:14<00:07,  3.38it/s]"
     ]
    },
    {
     "name": "stdout",
     "output_type": "stream",
     "text": [
      "mealService 응답코드: 200\n",
      "급식 데이터 수: 62\n",
      "8000237 충북반도체고등학교\n",
      "급식 정보 조회 중: 날짜=20250618\n"
     ]
    },
    {
     "name": "stderr",
     "output_type": "stream",
     "text": [
      "고등학교 급식 조회:  71%|████████████████████████████████████▍              | 60/84 [00:15<00:07,  3.38it/s]"
     ]
    },
    {
     "name": "stdout",
     "output_type": "stream",
     "text": [
      "mealService 응답코드: 200\n",
      "급식 데이터 수: 56\n",
      "8000527 충북비즈니스고등학교\n",
      "급식 정보 조회 중: 날짜=20250618\n"
     ]
    },
    {
     "name": "stderr",
     "output_type": "stream",
     "text": [
      "고등학교 급식 조회:  73%|█████████████████████████████████████              | 61/84 [00:15<00:06,  3.69it/s]"
     ]
    },
    {
     "name": "stdout",
     "output_type": "stream",
     "text": [
      "mealService 응답코드: 200\n",
      "급식 데이터 수: 21\n",
      "8000384 충북산업과학고등학교\n",
      "급식 정보 조회 중: 날짜=20250618\n",
      "mealService 응답코드: 200\n",
      "급식 데이터 수: 20\n"
     ]
    },
    {
     "name": "stderr",
     "output_type": "stream",
     "text": [
      "고등학교 급식 조회:  75%|██████████████████████████████████████▎            | 63/84 [00:15<00:04,  4.23it/s]"
     ]
    },
    {
     "name": "stdout",
     "output_type": "stream",
     "text": [
      "8000335 충북상업정보고등학교\n",
      "급식 정보 조회 중: 날짜=20250618\n",
      "mealService 응답코드: 200\n",
      "급식 데이터 수: 20\n",
      "8000383 충북생명산업고등학교\n",
      "급식 정보 조회 중: 날짜=20250618\n",
      "mealService 응답코드: 200\n",
      "급식 데이터 수: 57\n"
     ]
    },
    {
     "name": "stderr",
     "output_type": "stream",
     "text": [
      "고등학교 급식 조회:  76%|██████████████████████████████████████▊            | 64/84 [00:16<00:04,  4.20it/s]"
     ]
    },
    {
     "name": "stdout",
     "output_type": "stream",
     "text": [
      "8000310 충북에너지고등학교\n",
      "급식 정보 조회 중: 날짜=20250618\n",
      "mealService 응답코드: 200\n",
      "급식 데이터 수: 58\n"
     ]
    },
    {
     "name": "stderr",
     "output_type": "stream",
     "text": [
      "고등학교 급식 조회:  77%|███████████████████████████████████████▍           | 65/84 [00:16<00:04,  4.16it/s]"
     ]
    },
    {
     "name": "stdout",
     "output_type": "stream",
     "text": [
      "8000099 충북여자고등학교\n",
      "급식 정보 조회 중: 날짜=20250618\n",
      "mealService 응답코드: 200\n",
      "급식 데이터 수: 65\n"
     ]
    },
    {
     "name": "stderr",
     "output_type": "stream",
     "text": [
      "고등학교 급식 조회:  79%|████████████████████████████████████████           | 66/84 [00:16<00:04,  3.96it/s]"
     ]
    },
    {
     "name": "stdout",
     "output_type": "stream",
     "text": [
      "8000076 충북예술고등학교\n",
      "급식 정보 조회 중: 날짜=20250618\n",
      "mealService 응답코드: 200\n",
      "급식 데이터 수: 44\n"
     ]
    },
    {
     "name": "stderr",
     "output_type": "stream",
     "text": [
      "고등학교 급식 조회:  80%|████████████████████████████████████████▋          | 67/84 [00:16<00:04,  3.95it/s]"
     ]
    },
    {
     "name": "stdout",
     "output_type": "stream",
     "text": [
      "8000077 충북체육고등학교\n",
      "급식 정보 조회 중: 날짜=20250618\n"
     ]
    },
    {
     "name": "stderr",
     "output_type": "stream",
     "text": [
      "고등학교 급식 조회:  81%|█████████████████████████████████████████▎         | 68/84 [00:17<00:04,  3.45it/s]"
     ]
    },
    {
     "name": "stdout",
     "output_type": "stream",
     "text": [
      "mealService 응답코드: 200\n",
      "급식 데이터 수: 62\n",
      "8000100 충원고등학교\n",
      "급식 정보 조회 중: 날짜=20250618\n"
     ]
    },
    {
     "name": "stderr",
     "output_type": "stream",
     "text": [
      "고등학교 급식 조회:  82%|█████████████████████████████████████████▉         | 69/84 [00:17<00:04,  3.67it/s]"
     ]
    },
    {
     "name": "stdout",
     "output_type": "stream",
     "text": [
      "mealService 응답코드: 200\n",
      "mealServiceDietInfo 키 없음: {'RESULT': {'CODE': 'INFO-200', 'MESSAGE': '해당하는 데이터가 없습니다.'}}\n",
      "8000078 충주고등학교\n",
      "급식 정보 조회 중: 날짜=20250618\n"
     ]
    },
    {
     "name": "stderr",
     "output_type": "stream",
     "text": [
      "고등학교 급식 조회:  83%|██████████████████████████████████████████▌        | 70/84 [00:17<00:04,  3.46it/s]"
     ]
    },
    {
     "name": "stdout",
     "output_type": "stream",
     "text": [
      "mealService 응답코드: 200\n",
      "급식 데이터 수: 62\n",
      "8000129 충주공업고등학교\n",
      "급식 정보 조회 중: 날짜=20250618\n"
     ]
    },
    {
     "name": "stderr",
     "output_type": "stream",
     "text": [
      "고등학교 급식 조회:  85%|███████████████████████████████████████████        | 71/84 [00:18<00:03,  3.62it/s]"
     ]
    },
    {
     "name": "stdout",
     "output_type": "stream",
     "text": [
      "mealService 응답코드: 200\n",
      "급식 데이터 수: 21\n",
      "8000202 충주대원고등학교\n",
      "급식 정보 조회 중: 날짜=20250618\n"
     ]
    },
    {
     "name": "stderr",
     "output_type": "stream",
     "text": [
      "고등학교 급식 조회:  86%|███████████████████████████████████████████▋       | 72/84 [00:18<00:03,  3.70it/s]"
     ]
    },
    {
     "name": "stdout",
     "output_type": "stream",
     "text": [
      "mealService 응답코드: 200\n",
      "급식 데이터 수: 37\n",
      "8000141 충주상업고등학교\n",
      "급식 정보 조회 중: 날짜=20250618\n"
     ]
    },
    {
     "name": "stderr",
     "output_type": "stream",
     "text": [
      "고등학교 급식 조회:  87%|████████████████████████████████████████████▎      | 73/84 [00:18<00:03,  3.55it/s]"
     ]
    },
    {
     "name": "stdout",
     "output_type": "stream",
     "text": [
      "mealService 응답코드: 200\n",
      "급식 데이터 수: 32\n",
      "8000080 충주여자고등학교\n",
      "급식 정보 조회 중: 날짜=20250618\n"
     ]
    },
    {
     "name": "stderr",
     "output_type": "stream",
     "text": [
      "고등학교 급식 조회:  88%|████████████████████████████████████████████▉      | 74/84 [00:18<00:02,  3.52it/s]"
     ]
    },
    {
     "name": "stdout",
     "output_type": "stream",
     "text": [
      "mealService 응답코드: 200\n",
      "급식 데이터 수: 56\n",
      "8000081 충주예성여자고등학교\n",
      "급식 정보 조회 중: 날짜=20250618\n"
     ]
    },
    {
     "name": "stderr",
     "output_type": "stream",
     "text": [
      "고등학교 급식 조회:  89%|█████████████████████████████████████████████▌     | 75/84 [00:19<00:02,  3.22it/s]"
     ]
    },
    {
     "name": "stdout",
     "output_type": "stream",
     "text": [
      "mealService 응답코드: 200\n",
      "급식 데이터 수: 56\n",
      "8000281 충주중산고등학교\n",
      "급식 정보 조회 중: 날짜=20250618\n"
     ]
    },
    {
     "name": "stderr",
     "output_type": "stream",
     "text": [
      "고등학교 급식 조회:  90%|██████████████████████████████████████████████▏    | 76/84 [00:19<00:02,  3.24it/s]"
     ]
    },
    {
     "name": "stdout",
     "output_type": "stream",
     "text": [
      "mealService 응답코드: 200\n",
      "급식 데이터 수: 38\n",
      "8000309 학산고등학교\n",
      "급식 정보 조회 중: 날짜=20250618\n"
     ]
    },
    {
     "name": "stderr",
     "output_type": "stream",
     "text": [
      "고등학교 급식 조회:  92%|██████████████████████████████████████████████▊    | 77/84 [00:19<00:02,  3.26it/s]"
     ]
    },
    {
     "name": "stdout",
     "output_type": "stream",
     "text": [
      "mealService 응답코드: 200\n",
      "급식 데이터 수: 36\n",
      "7003851 한국교원대학교부설고등학교\n",
      "급식 정보 조회 중: 날짜=20250618\n"
     ]
    },
    {
     "name": "stderr",
     "output_type": "stream",
     "text": [
      "고등학교 급식 조회:  93%|███████████████████████████████████████████████▎   | 78/84 [00:20<00:01,  3.33it/s]"
     ]
    },
    {
     "name": "stdout",
     "output_type": "stream",
     "text": [
      "mealService 응답코드: 200\n",
      "급식 데이터 수: 72\n",
      "8000287 한국바이오마이스터고등학교\n",
      "급식 정보 조회 중: 날짜=20250618\n"
     ]
    },
    {
     "name": "stderr",
     "output_type": "stream",
     "text": [
      "고등학교 급식 조회:  94%|███████████████████████████████████████████████▉   | 79/84 [00:20<00:01,  3.42it/s]"
     ]
    },
    {
     "name": "stdout",
     "output_type": "stream",
     "text": [
      "mealService 응답코드: 200\n",
      "급식 데이터 수: 59\n",
      "8000311 한국호텔관광고등학교\n",
      "급식 정보 조회 중: 날짜=20250618\n"
     ]
    },
    {
     "name": "stderr",
     "output_type": "stream",
     "text": [
      "고등학교 급식 조회:  95%|████████████████████████████████████████████████▌  | 80/84 [00:20<00:01,  3.31it/s]"
     ]
    },
    {
     "name": "stdout",
     "output_type": "stream",
     "text": [
      "mealService 응답코드: 200\n",
      "급식 데이터 수: 54\n",
      "8000269 한림디자인고등학교\n",
      "급식 정보 조회 중: 날짜=20250618\n"
     ]
    },
    {
     "name": "stderr",
     "output_type": "stream",
     "text": [
      "고등학교 급식 조회:  96%|█████████████████████████████████████████████████▏ | 81/84 [00:21<00:00,  3.56it/s]"
     ]
    },
    {
     "name": "stdout",
     "output_type": "stream",
     "text": [
      "mealService 응답코드: 200\n",
      "급식 데이터 수: 51\n",
      "8000102 형석고등학교\n",
      "급식 정보 조회 중: 날짜=20250618\n"
     ]
    },
    {
     "name": "stderr",
     "output_type": "stream",
     "text": [
      "고등학교 급식 조회:  98%|█████████████████████████████████████████████████▊ | 82/84 [00:21<00:00,  3.56it/s]"
     ]
    },
    {
     "name": "stdout",
     "output_type": "stream",
     "text": [
      "mealService 응답코드: 200\n",
      "급식 데이터 수: 42\n",
      "8000082 황간고등학교\n",
      "급식 정보 조회 중: 날짜=20250618\n"
     ]
    },
    {
     "name": "stderr",
     "output_type": "stream",
     "text": [
      "고등학교 급식 조회:  99%|██████████████████████████████████████████████████▍| 83/84 [00:21<00:00,  3.69it/s]"
     ]
    },
    {
     "name": "stdout",
     "output_type": "stream",
     "text": [
      "mealService 응답코드: 200\n",
      "급식 데이터 수: 36\n",
      "8000200 흥덕고등학교\n",
      "급식 정보 조회 중: 날짜=20250618\n"
     ]
    },
    {
     "name": "stderr",
     "output_type": "stream",
     "text": [
      "고등학교 급식 조회: 100%|███████████████████████████████████████████████████| 84/84 [00:21<00:00,  3.85it/s]"
     ]
    },
    {
     "name": "stdout",
     "output_type": "stream",
     "text": [
      "mealService 응답코드: 200\n",
      "급식 데이터 수: 42\n",
      "수집된 급식 행 수: 37176\n",
      "수집된 전체 급식 행 수: 37176\n",
      "  교육청코드     학교코드     학교명      급식일자 식사명  \\\n",
      "0   B10  7010057  가락고등학교  20250519  중식   \n",
      "1   B10  7010057  가락고등학교  20250520  중식   \n",
      "2   B10  7010057  가락고등학교  20250521  중식   \n",
      "3   B10  7010057  가락고등학교  20250522  중식   \n",
      "4   B10  7010057  가락고등학교  20250523  중식   \n",
      "\n",
      "                                                급식식단  \n",
      "0  쌀밥 <br/>소고기미역국 (2.5.6.15.16.18)<br/>돼지갈비찜 (5.6...  \n",
      "1  쇠고기콩나물밥 (5.6.16)<br/>물만두국 (1.2.5.6.10.15.16.18...  \n",
      "2  새우볶음밥 (1.5.6.8.9.13.18)<br/>씨앗호떡파이 (1.2.3.5.6)...  \n",
      "3  쌀밥 <br/>볶음우동 (5.6.8.9.13.15.17.18)<br/>zero초코파...  \n",
      "4  현미밥 <br/>어묵국 (1.2.5.6.15.16.18)<br/>마라찜닭 (5.6....  \n"
     ]
    },
    {
     "name": "stderr",
     "output_type": "stream",
     "text": [
      "\n"
     ]
    },
    {
     "name": "stdout",
     "output_type": "stream",
     "text": [
      "응답코드 : 200\n"
     ]
    },
    {
     "name": "stderr",
     "output_type": "stream",
     "text": [
      "고등학교 급식 조회:   0%|                                                           | 0/118 [00:00<?, ?it/s]"
     ]
    },
    {
     "name": "stdout",
     "output_type": "stream",
     "text": [
      "8140032 갈산고등학교\n",
      "급식 정보 조회 중: 날짜=20250618\n",
      "mealService 응답코드: 200\n",
      "급식 데이터 수: 58\n"
     ]
    },
    {
     "name": "stderr",
     "output_type": "stream",
     "text": [
      "고등학교 급식 조회:   1%|▍                                                  | 1/118 [00:00<00:32,  3.59it/s]"
     ]
    },
    {
     "name": "stdout",
     "output_type": "stream",
     "text": [
      "8140034 강경고등학교\n",
      "급식 정보 조회 중: 날짜=20250618\n",
      "mealService 응답코드: 200\n",
      "급식 데이터 수: 50\n"
     ]
    },
    {
     "name": "stderr",
     "output_type": "stream",
     "text": [
      "고등학교 급식 조회:   2%|▊                                                  | 2/118 [00:00<00:30,  3.85it/s]"
     ]
    },
    {
     "name": "stdout",
     "output_type": "stream",
     "text": [
      "8140378 강경상업고등학교\n",
      "급식 정보 조회 중: 날짜=20250618\n",
      "mealService 응답코드: 200\n",
      "급식 데이터 수: 57\n"
     ]
    },
    {
     "name": "stderr",
     "output_type": "stream",
     "text": [
      "고등학교 급식 조회:   3%|█▎                                                 | 3/118 [00:00<00:29,  3.91it/s]"
     ]
    },
    {
     "name": "stdout",
     "output_type": "stream",
     "text": [
      "8140360 건양대학교병설건양고등학교\n",
      "급식 정보 조회 중: 날짜=20250618\n",
      "mealService 응답코드: 200\n",
      "급식 데이터 수: 83\n"
     ]
    },
    {
     "name": "stderr",
     "output_type": "stream",
     "text": [
      "고등학교 급식 조회:   3%|█▋                                                 | 4/118 [00:01<00:29,  3.92it/s]"
     ]
    },
    {
     "name": "stdout",
     "output_type": "stream",
     "text": [
      "8140237 계룡고등학교\n",
      "급식 정보 조회 중: 날짜=20250618\n",
      "mealService 응답코드: 200\n",
      "급식 데이터 수: 37\n"
     ]
    },
    {
     "name": "stderr",
     "output_type": "stream",
     "text": [
      "고등학교 급식 조회:   4%|██▏                                                | 5/118 [00:01<00:28,  3.96it/s]"
     ]
    },
    {
     "name": "stdout",
     "output_type": "stream",
     "text": [
      "8140036 공주고등학교\n",
      "급식 정보 조회 중: 날짜=20250618\n",
      "mealService 응답코드: 200\n",
      "급식 데이터 수: 62\n"
     ]
    },
    {
     "name": "stderr",
     "output_type": "stream",
     "text": [
      "고등학교 급식 조회:   5%|██▌                                                | 6/118 [00:01<00:29,  3.85it/s]"
     ]
    },
    {
     "name": "stdout",
     "output_type": "stream",
     "text": [
      "8140080 공주금성여자고등학교\n",
      "급식 정보 조회 중: 날짜=20250618\n",
      "mealService 응답코드: 200\n",
      "급식 데이터 수: 58\n"
     ]
    },
    {
     "name": "stderr",
     "output_type": "stream",
     "text": [
      "고등학교 급식 조회:   6%|███                                                | 7/118 [00:01<00:28,  3.85it/s]"
     ]
    },
    {
     "name": "stdout",
     "output_type": "stream",
     "text": [
      "8140347 공주마이스터고등학교\n",
      "급식 정보 조회 중: 날짜=20250618\n",
      "mealService 응답코드: 200\n",
      "급식 데이터 수: 58\n"
     ]
    },
    {
     "name": "stderr",
     "output_type": "stream",
     "text": [
      "고등학교 급식 조회:   7%|███▍                                               | 8/118 [00:02<00:27,  4.04it/s]"
     ]
    },
    {
     "name": "stdout",
     "output_type": "stream",
     "text": [
      "8140238 공주생명과학고등학교\n",
      "급식 정보 조회 중: 날짜=20250618\n",
      "mealService 응답코드: 200\n",
      "급식 데이터 수: 55\n"
     ]
    },
    {
     "name": "stderr",
     "output_type": "stream",
     "text": [
      "고등학교 급식 조회:   8%|███▉                                               | 9/118 [00:02<00:26,  4.08it/s]"
     ]
    },
    {
     "name": "stdout",
     "output_type": "stream",
     "text": [
      "8140037 공주여자고등학교\n",
      "급식 정보 조회 중: 날짜=20250618\n",
      "mealService 응답코드: 200\n",
      "급식 데이터 수: 44\n"
     ]
    },
    {
     "name": "stderr",
     "output_type": "stream",
     "text": [
      "고등학교 급식 조회:   8%|████▏                                             | 10/118 [00:02<00:25,  4.18it/s]"
     ]
    },
    {
     "name": "stdout",
     "output_type": "stream",
     "text": [
      "8140082 공주영명고등학교\n",
      "급식 정보 조회 중: 날짜=20250618\n",
      "mealService 응답코드: 200\n",
      "급식 데이터 수: 58\n"
     ]
    },
    {
     "name": "stderr",
     "output_type": "stream",
     "text": [
      "고등학교 급식 조회:   9%|████▋                                             | 11/118 [00:02<00:25,  4.23it/s]"
     ]
    },
    {
     "name": "stdout",
     "output_type": "stream",
     "text": [
      "8140196 공주정보고등학교\n",
      "급식 정보 조회 중: 날짜=20250618\n"
     ]
    },
    {
     "name": "stderr",
     "output_type": "stream",
     "text": [
      "고등학교 급식 조회:  10%|█████                                             | 12/118 [00:03<00:28,  3.69it/s]"
     ]
    },
    {
     "name": "stdout",
     "output_type": "stream",
     "text": [
      "mealService 응답코드: 200\n",
      "급식 데이터 수: 60\n",
      "C035903 국립공주대학교사범대학부설고등학교\n",
      "급식 정보 조회 중: 날짜=20250618\n"
     ]
    },
    {
     "name": "stderr",
     "output_type": "stream",
     "text": [
      "고등학교 급식 조회:  11%|█████▌                                            | 13/118 [00:03<00:27,  3.75it/s]"
     ]
    },
    {
     "name": "stdout",
     "output_type": "stream",
     "text": [
      "mealService 응답코드: 200\n",
      "급식 데이터 수: 57\n",
      "8140498 국방항공고등학교\n",
      "급식 정보 조회 중: 날짜=20250618\n"
     ]
    },
    {
     "name": "stderr",
     "output_type": "stream",
     "text": [
      "고등학교 급식 조회:  12%|█████▉                                            | 14/118 [00:03<00:27,  3.77it/s]"
     ]
    },
    {
     "name": "stdout",
     "output_type": "stream",
     "text": [
      "mealService 응답코드: 200\n",
      "급식 데이터 수: 59\n",
      "8140038 금산고등학교\n",
      "급식 정보 조회 중: 날짜=20250618\n"
     ]
    },
    {
     "name": "stderr",
     "output_type": "stream",
     "text": [
      "고등학교 급식 조회:  13%|██████▎                                           | 15/118 [00:03<00:26,  3.90it/s]"
     ]
    },
    {
     "name": "stdout",
     "output_type": "stream",
     "text": [
      "mealService 응답코드: 200\n",
      "급식 데이터 수: 60\n",
      "8140115 금산산업고등학교\n",
      "급식 정보 조회 중: 날짜=20250618\n"
     ]
    },
    {
     "name": "stderr",
     "output_type": "stream",
     "text": [
      "고등학교 급식 조회:  14%|██████▊                                           | 16/118 [00:04<00:27,  3.67it/s]"
     ]
    },
    {
     "name": "stdout",
     "output_type": "stream",
     "text": [
      "mealService 응답코드: 200\n",
      "급식 데이터 수: 51\n",
      "8140039 금산여자고등학교\n",
      "급식 정보 조회 중: 날짜=20250618\n"
     ]
    },
    {
     "name": "stderr",
     "output_type": "stream",
     "text": [
      "고등학교 급식 조회:  14%|███████▏                                          | 17/118 [00:04<00:27,  3.72it/s]"
     ]
    },
    {
     "name": "stdout",
     "output_type": "stream",
     "text": [
      "mealService 응답코드: 200\n",
      "급식 데이터 수: 58\n",
      "8140343 금산하이텍고등학교\n",
      "급식 정보 조회 중: 날짜=20250618\n",
      "mealService 응답코드: 200\n",
      "급식 데이터 수: 50\n"
     ]
    },
    {
     "name": "stderr",
     "output_type": "stream",
     "text": [
      "고등학교 급식 조회:  15%|███████▋                                          | 18/118 [00:04<00:25,  4.00it/s]"
     ]
    },
    {
     "name": "stdout",
     "output_type": "stream",
     "text": [
      "8140040 논산고등학교\n",
      "급식 정보 조회 중: 날짜=20250618\n",
      "mealService 응답코드: 200\n",
      "급식 데이터 수: 37\n"
     ]
    },
    {
     "name": "stderr",
     "output_type": "stream",
     "text": [
      "고등학교 급식 조회:  16%|████████                                          | 19/118 [00:04<00:25,  3.84it/s]"
     ]
    },
    {
     "name": "stdout",
     "output_type": "stream",
     "text": [
      "8140085 논산대건고등학교\n",
      "급식 정보 조회 중: 날짜=20250618\n",
      "mealService 응답코드: 200\n",
      "급식 데이터 수: 83\n"
     ]
    },
    {
     "name": "stderr",
     "output_type": "stream",
     "text": [
      "고등학교 급식 조회:  17%|████████▍                                         | 20/118 [00:05<00:25,  3.78it/s]"
     ]
    },
    {
     "name": "stdout",
     "output_type": "stream",
     "text": [
      "8140041 논산여자고등학교\n",
      "급식 정보 조회 중: 날짜=20250618\n",
      "mealService 응답코드: 200\n",
      "급식 데이터 수: 60\n"
     ]
    },
    {
     "name": "stderr",
     "output_type": "stream",
     "text": [
      "고등학교 급식 조회:  18%|████████▉                                         | 21/118 [00:05<00:25,  3.87it/s]"
     ]
    },
    {
     "name": "stdout",
     "output_type": "stream",
     "text": [
      "8140152 논산여자상업고등학교\n",
      "급식 정보 조회 중: 날짜=20250618\n",
      "mealService 응답코드: 200\n",
      "급식 데이터 수: 56\n"
     ]
    },
    {
     "name": "stderr",
     "output_type": "stream",
     "text": [
      "고등학교 급식 조회:  19%|█████████▎                                        | 22/118 [00:05<00:25,  3.82it/s]"
     ]
    },
    {
     "name": "stdout",
     "output_type": "stream",
     "text": [
      "8140042 당진고등학교\n",
      "급식 정보 조회 중: 날짜=20250618\n",
      "mealService 응답코드: 200\n",
      "급식 데이터 수: 63\n"
     ]
    },
    {
     "name": "stderr",
     "output_type": "stream",
     "text": [
      "고등학교 급식 조회:  19%|█████████▋                                        | 23/118 [00:05<00:25,  3.70it/s]"
     ]
    },
    {
     "name": "stdout",
     "output_type": "stream",
     "text": [
      "8140118 당진정보고등학교\n",
      "급식 정보 조회 중: 날짜=20250618\n",
      "mealService 응답코드: 200\n",
      "급식 데이터 수: 21\n"
     ]
    },
    {
     "name": "stderr",
     "output_type": "stream",
     "text": [
      "고등학교 급식 조회:  20%|██████████▏                                       | 24/118 [00:06<00:24,  3.84it/s]"
     ]
    },
    {
     "name": "stdout",
     "output_type": "stream",
     "text": [
      "8140254 대산고등학교\n",
      "급식 정보 조회 중: 날짜=20250618\n",
      "mealService 응답코드: 200\n",
      "급식 데이터 수: 60\n"
     ]
    },
    {
     "name": "stderr",
     "output_type": "stream",
     "text": [
      "고등학교 급식 조회:  21%|██████████▌                                       | 25/118 [00:06<00:23,  3.89it/s]"
     ]
    },
    {
     "name": "stdout",
     "output_type": "stream",
     "text": [
      "8140044 대천고등학교\n",
      "급식 정보 조회 중: 날짜=20250618\n",
      "mealService 응답코드: 200\n",
      "급식 데이터 수: 62\n"
     ]
    },
    {
     "name": "stderr",
     "output_type": "stream",
     "text": [
      "고등학교 급식 조회:  22%|███████████                                       | 26/118 [00:06<00:22,  4.00it/s]"
     ]
    },
    {
     "name": "stdout",
     "output_type": "stream",
     "text": [
      "8140045 대천여자고등학교\n",
      "급식 정보 조회 중: 날짜=20250618\n",
      "mealService 응답코드: 200\n",
      "급식 데이터 수: 58\n"
     ]
    },
    {
     "name": "stderr",
     "output_type": "stream",
     "text": [
      "고등학교 급식 조회:  23%|███████████▍                                      | 27/118 [00:06<00:21,  4.14it/s]"
     ]
    },
    {
     "name": "stdout",
     "output_type": "stream",
     "text": [
      "8140120 대천여자상업고등학교\n",
      "급식 정보 조회 중: 날짜=20250618\n",
      "mealService 응답코드: 200\n",
      "급식 데이터 수: 20\n"
     ]
    },
    {
     "name": "stderr",
     "output_type": "stream",
     "text": [
      "고등학교 급식 조회:  24%|███████████▊                                      | 28/118 [00:07<00:21,  4.28it/s]"
     ]
    },
    {
     "name": "stdout",
     "output_type": "stream",
     "text": [
      "8140086 대흥고등학교\n",
      "급식 정보 조회 중: 날짜=20250618\n",
      "mealService 응답코드: 200\n",
      "급식 데이터 수: 58\n"
     ]
    },
    {
     "name": "stderr",
     "output_type": "stream",
     "text": [
      "고등학교 급식 조회:  25%|████████████▎                                     | 29/118 [00:07<00:21,  4.17it/s]"
     ]
    },
    {
     "name": "stdout",
     "output_type": "stream",
     "text": [
      "8140046 덕산고등학교\n",
      "급식 정보 조회 중: 날짜=20250618\n",
      "mealService 응답코드: 200\n",
      "급식 데이터 수: 58\n"
     ]
    },
    {
     "name": "stderr",
     "output_type": "stream",
     "text": [
      "고등학교 급식 조회:  25%|████████████▋                                     | 30/118 [00:07<00:21,  4.12it/s]"
     ]
    },
    {
     "name": "stdout",
     "output_type": "stream",
     "text": [
      "8140048 만리포고등학교\n",
      "급식 정보 조회 중: 날짜=20250618\n",
      "mealService 응답코드: 200\n",
      "급식 데이터 수: 34\n"
     ]
    },
    {
     "name": "stderr",
     "output_type": "stream",
     "text": [
      "고등학교 급식 조회:  26%|█████████████▏                                    | 31/118 [00:07<00:21,  4.12it/s]"
     ]
    },
    {
     "name": "stdout",
     "output_type": "stream",
     "text": [
      "8140049 목천고등학교\n",
      "급식 정보 조회 중: 날짜=20250618\n",
      "mealService 응답코드: 200\n",
      "급식 데이터 수: 52\n"
     ]
    },
    {
     "name": "stderr",
     "output_type": "stream",
     "text": [
      "고등학교 급식 조회:  27%|█████████████▌                                    | 32/118 [00:08<00:21,  4.01it/s]"
     ]
    },
    {
     "name": "stdout",
     "output_type": "stream",
     "text": [
      "8140256 배방고등학교\n",
      "급식 정보 조회 중: 날짜=20250618\n",
      "mealService 응답코드: 200\n",
      "급식 데이터 수: 35\n"
     ]
    },
    {
     "name": "stderr",
     "output_type": "stream",
     "text": [
      "고등학교 급식 조회:  28%|█████████████▉                                    | 33/118 [00:08<00:20,  4.09it/s]"
     ]
    },
    {
     "name": "stdout",
     "output_type": "stream",
     "text": [
      "8140050 병천고등학교\n",
      "급식 정보 조회 중: 날짜=20250618\n",
      "mealService 응답코드: 200\n",
      "급식 데이터 수: 56\n"
     ]
    },
    {
     "name": "stderr",
     "output_type": "stream",
     "text": [
      "고등학교 급식 조회:  29%|██████████████▍                                   | 34/118 [00:08<00:21,  3.98it/s]"
     ]
    },
    {
     "name": "stdout",
     "output_type": "stream",
     "text": [
      "8140087 복자여자고등학교\n",
      "급식 정보 조회 중: 날짜=20250618\n",
      "mealService 응답코드: 200\n",
      "급식 데이터 수: 38\n"
     ]
    },
    {
     "name": "stderr",
     "output_type": "stream",
     "text": [
      "고등학교 급식 조회:  30%|██████████████▊                                   | 35/118 [00:08<00:20,  4.07it/s]"
     ]
    },
    {
     "name": "stdout",
     "output_type": "stream",
     "text": [
      "8140051 부석고등학교\n",
      "급식 정보 조회 중: 날짜=20250618\n",
      "mealService 응답코드: 200\n",
      "급식 데이터 수: 58\n"
     ]
    },
    {
     "name": "stderr",
     "output_type": "stream",
     "text": [
      "고등학교 급식 조회:  31%|███████████████▋                                  | 37/118 [00:09<00:19,  4.16it/s]"
     ]
    },
    {
     "name": "stdout",
     "output_type": "stream",
     "text": [
      "8140052 부여고등학교\n",
      "급식 정보 조회 중: 날짜=20250618\n",
      "mealService 응답코드: 200\n",
      "급식 데이터 수: 59\n",
      "8140053 부여여자고등학교\n",
      "급식 정보 조회 중: 날짜=20250618\n",
      "mealService 응답코드: 200\n",
      "급식 데이터 수: 58\n"
     ]
    },
    {
     "name": "stderr",
     "output_type": "stream",
     "text": [
      "고등학교 급식 조회:  32%|████████████████                                  | 38/118 [00:09<00:19,  4.01it/s]"
     ]
    },
    {
     "name": "stdout",
     "output_type": "stream",
     "text": [
      "8140192 부여전자고등학교\n",
      "급식 정보 조회 중: 날짜=20250618\n",
      "mealService 응답코드: 200\n",
      "급식 데이터 수: 51\n"
     ]
    },
    {
     "name": "stderr",
     "output_type": "stream",
     "text": [
      "고등학교 급식 조회:  33%|████████████████▌                                 | 39/118 [00:09<00:20,  3.81it/s]"
     ]
    },
    {
     "name": "stdout",
     "output_type": "stream",
     "text": [
      "8140193 부여정보고등학교\n",
      "급식 정보 조회 중: 날짜=20250618\n",
      "mealService 응답코드: 200\n",
      "급식 데이터 수: 21\n"
     ]
    },
    {
     "name": "stderr",
     "output_type": "stream",
     "text": [
      "고등학교 급식 조회:  34%|████████████████▉                                 | 40/118 [00:10<00:19,  3.97it/s]"
     ]
    },
    {
     "name": "stdout",
     "output_type": "stream",
     "text": [
      "8140270 북일고등학교\n",
      "급식 정보 조회 중: 날짜=20250618\n",
      "mealService 응답코드: 200\n",
      "급식 데이터 수: 83\n"
     ]
    },
    {
     "name": "stderr",
     "output_type": "stream",
     "text": [
      "고등학교 급식 조회:  35%|█████████████████▎                                | 41/118 [00:10<00:20,  3.76it/s]"
     ]
    },
    {
     "name": "stdout",
     "output_type": "stream",
     "text": [
      "8140271 북일여자고등학교\n",
      "급식 정보 조회 중: 날짜=20250618\n"
     ]
    },
    {
     "name": "stderr",
     "output_type": "stream",
     "text": [
      "고등학교 급식 조회:  36%|█████████████████▊                                | 42/118 [00:10<00:21,  3.59it/s]"
     ]
    },
    {
     "name": "stdout",
     "output_type": "stream",
     "text": [
      "mealService 응답코드: 200\n",
      "급식 데이터 수: 66\n",
      "8140501 비전고등학교\n",
      "급식 정보 조회 중: 날짜=20250618\n"
     ]
    },
    {
     "name": "stderr",
     "output_type": "stream",
     "text": [
      "고등학교 급식 조회:  36%|██████████████████▏                               | 43/118 [00:11<00:20,  3.70it/s]"
     ]
    },
    {
     "name": "stdout",
     "output_type": "stream",
     "text": [
      "mealService 응답코드: 200\n",
      "급식 데이터 수: 66\n",
      "8140088 삽교고등학교\n",
      "급식 정보 조회 중: 날짜=20250618\n"
     ]
    },
    {
     "name": "stderr",
     "output_type": "stream",
     "text": [
      "고등학교 급식 조회:  37%|██████████████████▋                               | 44/118 [00:11<00:19,  3.74it/s]"
     ]
    },
    {
     "name": "stdout",
     "output_type": "stream",
     "text": [
      "mealService 응답코드: 200\n",
      "급식 데이터 수: 59\n",
      "8140089 서령고등학교\n",
      "급식 정보 조회 중: 날짜=20250618\n"
     ]
    },
    {
     "name": "stderr",
     "output_type": "stream",
     "text": [
      "고등학교 급식 조회:  38%|███████████████████                               | 45/118 [00:11<00:20,  3.60it/s]"
     ]
    },
    {
     "name": "stdout",
     "output_type": "stream",
     "text": [
      "mealService 응답코드: 200\n",
      "급식 데이터 수: 62\n",
      "8140200 서산고등학교\n",
      "급식 정보 조회 중: 날짜=20250618\n"
     ]
    },
    {
     "name": "stderr",
     "output_type": "stream",
     "text": [
      "고등학교 급식 조회:  39%|███████████████████▍                              | 46/118 [00:11<00:19,  3.75it/s]"
     ]
    },
    {
     "name": "stdout",
     "output_type": "stream",
     "text": [
      "mealService 응답코드: 200\n",
      "급식 데이터 수: 27\n",
      "8140391 서산공업고등학교\n",
      "급식 정보 조회 중: 날짜=20250618\n"
     ]
    },
    {
     "name": "stderr",
     "output_type": "stream",
     "text": [
      "고등학교 급식 조회:  40%|███████████████████▉                              | 47/118 [00:12<00:19,  3.63it/s]"
     ]
    },
    {
     "name": "stdout",
     "output_type": "stream",
     "text": [
      "mealService 응답코드: 200\n",
      "급식 데이터 수: 56\n",
      "8140054 서산여자고등학교\n",
      "급식 정보 조회 중: 날짜=20250618\n"
     ]
    },
    {
     "name": "stderr",
     "output_type": "stream",
     "text": [
      "고등학교 급식 조회:  41%|████████████████████▎                             | 48/118 [00:12<00:18,  3.79it/s]"
     ]
    },
    {
     "name": "stdout",
     "output_type": "stream",
     "text": [
      "mealService 응답코드: 200\n",
      "급식 데이터 수: 62\n",
      "8140260 서산중앙고등학교\n",
      "급식 정보 조회 중: 날짜=20250618\n"
     ]
    },
    {
     "name": "stderr",
     "output_type": "stream",
     "text": [
      "고등학교 급식 조회:  42%|████████████████████▊                             | 49/118 [00:12<00:18,  3.79it/s]"
     ]
    },
    {
     "name": "stdout",
     "output_type": "stream",
     "text": [
      "mealService 응답코드: 200\n",
      "급식 데이터 수: 52\n",
      "8140090 서야고등학교\n",
      "급식 정보 조회 중: 날짜=20250618\n"
     ]
    },
    {
     "name": "stderr",
     "output_type": "stream",
     "text": [
      "고등학교 급식 조회:  42%|█████████████████████▏                            | 50/118 [00:12<00:18,  3.68it/s]"
     ]
    },
    {
     "name": "stdout",
     "output_type": "stream",
     "text": [
      "mealService 응답코드: 200\n",
      "급식 데이터 수: 63\n",
      "8140209 서일고등학교\n",
      "급식 정보 조회 중: 날짜=20250618\n"
     ]
    },
    {
     "name": "stderr",
     "output_type": "stream",
     "text": [
      "고등학교 급식 조회:  43%|█████████████████████▌                            | 51/118 [00:13<00:19,  3.52it/s]"
     ]
    },
    {
     "name": "stdout",
     "output_type": "stream",
     "text": [
      "mealService 응답코드: 200\n",
      "급식 데이터 수: 62\n",
      "8140055 서천고등학교\n",
      "급식 정보 조회 중: 날짜=20250618\n"
     ]
    },
    {
     "name": "stderr",
     "output_type": "stream",
     "text": [
      "고등학교 급식 조회:  44%|██████████████████████                            | 52/118 [00:13<00:17,  3.70it/s]"
     ]
    },
    {
     "name": "stdout",
     "output_type": "stream",
     "text": [
      "mealService 응답코드: 200\n",
      "급식 데이터 수: 58\n",
      "8140056 서천여자고등학교\n",
      "급식 정보 조회 중: 날짜=20250618\n"
     ]
    },
    {
     "name": "stderr",
     "output_type": "stream",
     "text": [
      "고등학교 급식 조회:  45%|██████████████████████▍                           | 53/118 [00:13<00:17,  3.67it/s]"
     ]
    },
    {
     "name": "stdout",
     "output_type": "stream",
     "text": [
      "mealService 응답코드: 200\n",
      "급식 데이터 수: 58\n",
      "8140217 서천여자정보고등학교\n",
      "급식 정보 조회 중: 날짜=20250618\n"
     ]
    },
    {
     "name": "stderr",
     "output_type": "stream",
     "text": [
      "고등학교 급식 조회:  46%|██████████████████████▉                           | 54/118 [00:14<00:17,  3.64it/s]"
     ]
    },
    {
     "name": "stdout",
     "output_type": "stream",
     "text": [
      "mealService 응답코드: 200\n",
      "급식 데이터 수: 57\n",
      "8140091 서해삼육고등학교\n",
      "급식 정보 조회 중: 날짜=20250618\n"
     ]
    },
    {
     "name": "stderr",
     "output_type": "stream",
     "text": [
      "고등학교 급식 조회:  47%|███████████████████████▎                          | 55/118 [00:14<00:18,  3.44it/s]"
     ]
    },
    {
     "name": "stdout",
     "output_type": "stream",
     "text": [
      "mealService 응답코드: 200\n",
      "급식 데이터 수: 83\n",
      "8140266 설화고등학교\n",
      "급식 정보 조회 중: 날짜=20250618\n"
     ]
    },
    {
     "name": "stderr",
     "output_type": "stream",
     "text": [
      "고등학교 급식 조회:  47%|███████████████████████▋                          | 56/118 [00:14<00:17,  3.63it/s]"
     ]
    },
    {
     "name": "stdout",
     "output_type": "stream",
     "text": [
      "mealService 응답코드: 200\n",
      "급식 데이터 수: 58\n",
      "8140057 성환고등학교\n",
      "급식 정보 조회 중: 날짜=20250618\n"
     ]
    },
    {
     "name": "stderr",
     "output_type": "stream",
     "text": [
      "고등학교 급식 조회:  48%|████████████████████████▏                         | 57/118 [00:14<00:15,  3.83it/s]"
     ]
    },
    {
     "name": "stdout",
     "output_type": "stream",
     "text": [
      "mealService 응답코드: 200\n",
      "급식 데이터 수: 58\n",
      "8140093 송악고등학교\n",
      "급식 정보 조회 중: 날짜=20250618\n"
     ]
    },
    {
     "name": "stderr",
     "output_type": "stream",
     "text": [
      "고등학교 급식 조회:  49%|████████████████████████▌                         | 58/118 [00:15<00:15,  3.93it/s]"
     ]
    },
    {
     "name": "stdout",
     "output_type": "stream",
     "text": [
      "mealService 응답코드: 200\n",
      "급식 데이터 수: 41\n",
      "8140094 신평고등학교\n",
      "급식 정보 조회 중: 날짜=20250618\n"
     ]
    },
    {
     "name": "stderr",
     "output_type": "stream",
     "text": [
      "고등학교 급식 조회:  50%|█████████████████████████                         | 59/118 [00:15<00:14,  3.93it/s]"
     ]
    },
    {
     "name": "stdout",
     "output_type": "stream",
     "text": [
      "mealService 응답코드: 200\n",
      "급식 데이터 수: 62\n",
      "8140095 쌘뽈여자고등학교\n",
      "급식 정보 조회 중: 날짜=20250618\n"
     ]
    },
    {
     "name": "stderr",
     "output_type": "stream",
     "text": [
      "고등학교 급식 조회:  51%|█████████████████████████▍                        | 60/118 [00:15<00:14,  3.92it/s]"
     ]
    },
    {
     "name": "stdout",
     "output_type": "stream",
     "text": [
      "mealService 응답코드: 200\n",
      "급식 데이터 수: 72\n",
      "8140096 아산고등학교\n",
      "급식 정보 조회 중: 날짜=20250618\n"
     ]
    },
    {
     "name": "stderr",
     "output_type": "stream",
     "text": [
      "고등학교 급식 조회:  52%|█████████████████████████▊                        | 61/118 [00:15<00:14,  3.86it/s]"
     ]
    },
    {
     "name": "stdout",
     "output_type": "stream",
     "text": [
      "mealService 응답코드: 200\n",
      "급식 데이터 수: 61\n",
      "8140472 아산스마트팩토리마이스터고등학교\n",
      "급식 정보 조회 중: 날짜=20250618\n"
     ]
    },
    {
     "name": "stderr",
     "output_type": "stream",
     "text": [
      "고등학교 급식 조회:  53%|██████████████████████████▎                       | 62/118 [00:16<00:14,  3.95it/s]"
     ]
    },
    {
     "name": "stdout",
     "output_type": "stream",
     "text": [
      "mealService 응답코드: 200\n",
      "급식 데이터 수: 56\n",
      "8140491 아산충무고등학교\n",
      "급식 정보 조회 중: 날짜=20250618\n",
      "mealService 응답코드: 200\n",
      "급식 데이터 수: 37\n"
     ]
    },
    {
     "name": "stderr",
     "output_type": "stream",
     "text": [
      "고등학교 급식 조회:  53%|██████████████████████████▋                       | 63/118 [00:16<00:13,  4.21it/s]"
     ]
    },
    {
     "name": "stdout",
     "output_type": "stream",
     "text": [
      "8140058 안면고등학교\n",
      "급식 정보 조회 중: 날짜=20250618\n",
      "mealService 응답코드: 200\n",
      "급식 데이터 수: 33\n"
     ]
    },
    {
     "name": "stderr",
     "output_type": "stream",
     "text": [
      "고등학교 급식 조회:  54%|███████████████████████████                       | 64/118 [00:16<00:12,  4.23it/s]"
     ]
    },
    {
     "name": "stdout",
     "output_type": "stream",
     "text": [
      "8140098 연무고등학교\n",
      "급식 정보 조회 중: 날짜=20250618\n"
     ]
    },
    {
     "name": "stderr",
     "output_type": "stream",
     "text": [
      "고등학교 급식 조회:  55%|███████████████████████████▌                      | 65/118 [00:16<00:13,  3.80it/s]"
     ]
    },
    {
     "name": "stdout",
     "output_type": "stream",
     "text": [
      "mealService 응답코드: 200\n",
      "급식 데이터 수: 68\n",
      "8140482 연무마이스터고등학교\n",
      "급식 정보 조회 중: 날짜=20250618\n"
     ]
    },
    {
     "name": "stderr",
     "output_type": "stream",
     "text": [
      "고등학교 급식 조회:  56%|███████████████████████████▉                      | 66/118 [00:17<00:13,  3.78it/s]"
     ]
    },
    {
     "name": "stdout",
     "output_type": "stream",
     "text": [
      "mealService 응답코드: 200\n",
      "급식 데이터 수: 48\n",
      "8140100 예산고등학교\n",
      "급식 정보 조회 중: 날짜=20250618\n"
     ]
    },
    {
     "name": "stderr",
     "output_type": "stream",
     "text": [
      "고등학교 급식 조회:  57%|████████████████████████████▍                     | 67/118 [00:17<00:12,  3.99it/s]"
     ]
    },
    {
     "name": "stdout",
     "output_type": "stream",
     "text": [
      "mealService 응답코드: 200\n",
      "급식 데이터 수: 76\n",
      "8140059 예산여자고등학교\n",
      "급식 정보 조회 중: 날짜=20250618\n"
     ]
    },
    {
     "name": "stderr",
     "output_type": "stream",
     "text": [
      "고등학교 급식 조회:  58%|████████████████████████████▊                     | 68/118 [00:17<00:12,  4.01it/s]"
     ]
    },
    {
     "name": "stdout",
     "output_type": "stream",
     "text": [
      "mealService 응답코드: 200\n",
      "급식 데이터 수: 59\n",
      "8140344 예산예화여자고등학교\n",
      "급식 정보 조회 중: 날짜=20250618\n"
     ]
    },
    {
     "name": "stderr",
     "output_type": "stream",
     "text": [
      "고등학교 급식 조회:  58%|█████████████████████████████▏                    | 69/118 [00:17<00:12,  4.06it/s]"
     ]
    },
    {
     "name": "stdout",
     "output_type": "stream",
     "text": [
      "mealService 응답코드: 200\n",
      "급식 데이터 수: 58\n",
      "8140061 온양고등학교\n",
      "급식 정보 조회 중: 날짜=20250618\n"
     ]
    },
    {
     "name": "stderr",
     "output_type": "stream",
     "text": [
      "고등학교 급식 조회:  59%|█████████████████████████████▋                    | 70/118 [00:18<00:12,  3.98it/s]"
     ]
    },
    {
     "name": "stdout",
     "output_type": "stream",
     "text": [
      "mealService 응답코드: 200\n",
      "급식 데이터 수: 59\n",
      "8140062 온양여자고등학교\n",
      "급식 정보 조회 중: 날짜=20250618\n"
     ]
    },
    {
     "name": "stderr",
     "output_type": "stream",
     "text": [
      "고등학교 급식 조회:  60%|██████████████████████████████                    | 71/118 [00:18<00:11,  3.97it/s]"
     ]
    },
    {
     "name": "stdout",
     "output_type": "stream",
     "text": [
      "mealService 응답코드: 200\n",
      "급식 데이터 수: 59\n",
      "8140229 온양용화고등학교\n",
      "급식 정보 조회 중: 날짜=20250618\n"
     ]
    },
    {
     "name": "stderr",
     "output_type": "stream",
     "text": [
      "고등학교 급식 조회:  61%|██████████████████████████████▌                   | 72/118 [00:18<00:11,  4.00it/s]"
     ]
    },
    {
     "name": "stdout",
     "output_type": "stream",
     "text": [
      "mealService 응답코드: 200\n",
      "급식 데이터 수: 58\n",
      "8140063 용남고등학교\n",
      "급식 정보 조회 중: 날짜=20250618\n"
     ]
    },
    {
     "name": "stderr",
     "output_type": "stream",
     "text": [
      "고등학교 급식 조회:  62%|██████████████████████████████▉                   | 73/118 [00:18<00:10,  4.18it/s]"
     ]
    },
    {
     "name": "stdout",
     "output_type": "stream",
     "text": [
      "mealService 응답코드: 200\n",
      "급식 데이터 수: 41\n",
      "8140064 웅천고등학교\n",
      "급식 정보 조회 중: 날짜=20250618\n"
     ]
    },
    {
     "name": "stderr",
     "output_type": "stream",
     "text": [
      "고등학교 급식 조회:  63%|███████████████████████████████▎                  | 74/118 [00:19<00:10,  4.10it/s]"
     ]
    },
    {
     "name": "stdout",
     "output_type": "stream",
     "text": [
      "mealService 응답코드: 200\n",
      "급식 데이터 수: 58\n",
      "8140473 이순신고등학교\n",
      "급식 정보 조회 중: 날짜=20250618\n"
     ]
    },
    {
     "name": "stderr",
     "output_type": "stream",
     "text": [
      "고등학교 급식 조회:  64%|███████████████████████████████▊                  | 75/118 [00:19<00:10,  4.18it/s]"
     ]
    },
    {
     "name": "stdout",
     "output_type": "stream",
     "text": [
      "mealService 응답코드: 200\n",
      "급식 데이터 수: 37\n",
      "8140101 장항고등학교\n",
      "급식 정보 조회 중: 날짜=20250618\n"
     ]
    },
    {
     "name": "stderr",
     "output_type": "stream",
     "text": [
      "고등학교 급식 조회:  64%|████████████████████████████████▏                 | 76/118 [00:19<00:10,  3.96it/s]"
     ]
    },
    {
     "name": "stdout",
     "output_type": "stream",
     "text": [
      "mealService 응답코드: 200\n",
      "급식 데이터 수: 60\n",
      "8140134 장항공업고등학교\n",
      "급식 정보 조회 중: 날짜=20250618\n"
     ]
    },
    {
     "name": "stderr",
     "output_type": "stream",
     "text": [
      "고등학교 급식 조회:  65%|████████████████████████████████▋                 | 77/118 [00:19<00:10,  3.94it/s]"
     ]
    },
    {
     "name": "stdout",
     "output_type": "stream",
     "text": [
      "mealService 응답코드: 200\n",
      "급식 데이터 수: 58\n",
      "8140354 정산고등학교\n",
      "급식 정보 조회 중: 날짜=20250618\n"
     ]
    },
    {
     "name": "stderr",
     "output_type": "stream",
     "text": [
      "고등학교 급식 조회:  66%|█████████████████████████████████                 | 78/118 [00:20<00:10,  3.90it/s]"
     ]
    },
    {
     "name": "stdout",
     "output_type": "stream",
     "text": [
      "mealService 응답코드: 200\n",
      "급식 데이터 수: 56\n",
      "8140136 주산산업고등학교\n",
      "급식 정보 조회 중: 날짜=20250618\n"
     ]
    },
    {
     "name": "stderr",
     "output_type": "stream",
     "text": [
      "고등학교 급식 조회:  67%|█████████████████████████████████▍                | 79/118 [00:20<00:09,  3.97it/s]"
     ]
    },
    {
     "name": "stdout",
     "output_type": "stream",
     "text": [
      "mealService 응답코드: 200\n",
      "급식 데이터 수: 58\n",
      "8140104 천안고등학교\n",
      "급식 정보 조회 중: 날짜=20250618\n"
     ]
    },
    {
     "name": "stderr",
     "output_type": "stream",
     "text": [
      "고등학교 급식 조회:  68%|█████████████████████████████████▉                | 80/118 [00:20<00:09,  3.91it/s]"
     ]
    },
    {
     "name": "stdout",
     "output_type": "stream",
     "text": [
      "mealService 응답코드: 200\n",
      "급식 데이터 수: 60\n",
      "8140139 천안공업고등학교\n",
      "급식 정보 조회 중: 날짜=20250618\n"
     ]
    },
    {
     "name": "stderr",
     "output_type": "stream",
     "text": [
      "고등학교 급식 조회:  69%|██████████████████████████████████▎               | 81/118 [00:20<00:09,  4.11it/s]"
     ]
    },
    {
     "name": "stdout",
     "output_type": "stream",
     "text": [
      "mealService 응답코드: 200\n",
      "급식 데이터 수: 42\n",
      "8140213 천안두정고등학교\n",
      "급식 정보 조회 중: 날짜=20250618\n"
     ]
    },
    {
     "name": "stderr",
     "output_type": "stream",
     "text": [
      "고등학교 급식 조회:  69%|██████████████████████████████████▋               | 82/118 [00:20<00:08,  4.25it/s]"
     ]
    },
    {
     "name": "stdout",
     "output_type": "stream",
     "text": [
      "mealService 응답코드: 200\n",
      "급식 데이터 수: 38\n",
      "8140387 천안불당고등학교\n",
      "급식 정보 조회 중: 날짜=20250618\n"
     ]
    },
    {
     "name": "stderr",
     "output_type": "stream",
     "text": [
      "고등학교 급식 조회:  70%|███████████████████████████████████▏              | 83/118 [00:21<00:08,  4.24it/s]"
     ]
    },
    {
     "name": "stdout",
     "output_type": "stream",
     "text": [
      "mealService 응답코드: 200\n",
      "급식 데이터 수: 36\n",
      "8140358 천안상업고등학교\n",
      "급식 정보 조회 중: 날짜=20250618\n",
      "mealService 응답코드: 200\n",
      "급식 데이터 수: 21\n"
     ]
    },
    {
     "name": "stderr",
     "output_type": "stream",
     "text": [
      "고등학교 급식 조회:  71%|███████████████████████████████████▌              | 84/118 [00:21<00:07,  4.44it/s]"
     ]
    },
    {
     "name": "stdout",
     "output_type": "stream",
     "text": [
      "8140236 천안신당고등학교\n",
      "급식 정보 조회 중: 날짜=20250618\n",
      "mealService 응답코드: 200\n",
      "급식 데이터 수: 55\n"
     ]
    },
    {
     "name": "stderr",
     "output_type": "stream",
     "text": [
      "고등학교 급식 조회:  72%|████████████████████████████████████              | 85/118 [00:21<00:07,  4.28it/s]"
     ]
    },
    {
     "name": "stdout",
     "output_type": "stream",
     "text": [
      "8140219 천안쌍용고등학교\n",
      "급식 정보 조회 중: 날짜=20250618\n",
      "mealService 응답코드: 200\n",
      "급식 데이터 수: 38\n"
     ]
    },
    {
     "name": "stderr",
     "output_type": "stream",
     "text": [
      "고등학교 급식 조회:  73%|████████████████████████████████████▍             | 86/118 [00:21<00:07,  4.28it/s]"
     ]
    },
    {
     "name": "stdout",
     "output_type": "stream",
     "text": [
      "8140253 천안업성고등학교\n",
      "급식 정보 조회 중: 날짜=20250618\n",
      "mealService 응답코드: 200\n",
      "급식 데이터 수: 58\n"
     ]
    },
    {
     "name": "stderr",
     "output_type": "stream",
     "text": [
      "고등학교 급식 조회:  74%|████████████████████████████████████▊             | 87/118 [00:22<00:07,  4.25it/s]"
     ]
    },
    {
     "name": "stdout",
     "output_type": "stream",
     "text": [
      "8140069 천안여자고등학교\n",
      "급식 정보 조회 중: 날짜=20250618\n",
      "mealService 응답코드: 200\n",
      "급식 데이터 수: 47\n"
     ]
    },
    {
     "name": "stderr",
     "output_type": "stream",
     "text": [
      "고등학교 급식 조회:  75%|█████████████████████████████████████▎            | 88/118 [00:22<00:07,  4.28it/s]"
     ]
    },
    {
     "name": "stdout",
     "output_type": "stream",
     "text": [
      "8140160 천안여자상업고등학교\n",
      "급식 정보 조회 중: 날짜=20250618\n",
      "mealService 응답코드: 200\n",
      "급식 데이터 수: 39\n"
     ]
    },
    {
     "name": "stderr",
     "output_type": "stream",
     "text": [
      "고등학교 급식 조회:  75%|█████████████████████████████████████▋            | 89/118 [00:22<00:06,  4.39it/s]"
     ]
    },
    {
     "name": "stdout",
     "output_type": "stream",
     "text": [
      "8140246 천안오성고등학교\n",
      "급식 정보 조회 중: 날짜=20250618\n",
      "mealService 응답코드: 200\n",
      "급식 데이터 수: 39\n"
     ]
    },
    {
     "name": "stderr",
     "output_type": "stream",
     "text": [
      "고등학교 급식 조회:  76%|██████████████████████████████████████▏           | 90/118 [00:22<00:06,  4.18it/s]"
     ]
    },
    {
     "name": "stdout",
     "output_type": "stream",
     "text": [
      "8140214 천안월봉고등학교\n",
      "급식 정보 조회 중: 날짜=20250618\n",
      "mealService 응답코드: 200\n",
      "급식 데이터 수: 38\n"
     ]
    },
    {
     "name": "stderr",
     "output_type": "stream",
     "text": [
      "고등학교 급식 조회:  77%|██████████████████████████████████████▌           | 91/118 [00:23<00:06,  4.21it/s]"
     ]
    },
    {
     "name": "stdout",
     "output_type": "stream",
     "text": [
      "8140259 천안제일고등학교\n",
      "급식 정보 조회 중: 날짜=20250618\n",
      "mealService 응답코드: 200\n",
      "급식 데이터 수: 55\n"
     ]
    },
    {
     "name": "stderr",
     "output_type": "stream",
     "text": [
      "고등학교 급식 조회:  78%|██████████████████████████████████████▉           | 92/118 [00:23<00:06,  4.11it/s]"
     ]
    },
    {
     "name": "stdout",
     "output_type": "stream",
     "text": [
      "8140070 천안중앙고등학교\n",
      "급식 정보 조회 중: 날짜=20250618\n",
      "mealService 응답코드: 200\n",
      "급식 데이터 수: 59\n"
     ]
    },
    {
     "name": "stderr",
     "output_type": "stream",
     "text": [
      "고등학교 급식 조회:  79%|███████████████████████████████████████▍          | 93/118 [00:23<00:05,  4.18it/s]"
     ]
    },
    {
     "name": "stdout",
     "output_type": "stream",
     "text": [
      "8140265 천안청수고등학교\n",
      "급식 정보 조회 중: 날짜=20250618\n",
      "mealService 응답코드: 200\n",
      "급식 데이터 수: 38\n"
     ]
    },
    {
     "name": "stderr",
     "output_type": "stream",
     "text": [
      "고등학교 급식 조회:  80%|███████████████████████████████████████▊          | 94/118 [00:23<00:05,  4.28it/s]"
     ]
    },
    {
     "name": "stdout",
     "output_type": "stream",
     "text": [
      "8140267 청양고등학교\n",
      "급식 정보 조회 중: 날짜=20250618\n"
     ]
    },
    {
     "name": "stderr",
     "output_type": "stream",
     "text": [
      "고등학교 급식 조회:  81%|████████████████████████████████████████▎         | 95/118 [00:24<00:06,  3.77it/s]"
     ]
    },
    {
     "name": "stdout",
     "output_type": "stream",
     "text": [
      "mealService 응답코드: 200\n",
      "급식 데이터 수: 67\n",
      "8140071 충남과학고등학교\n",
      "급식 정보 조회 중: 날짜=20250618\n"
     ]
    },
    {
     "name": "stderr",
     "output_type": "stream",
     "text": [
      "고등학교 급식 조회:  81%|████████████████████████████████████████▋         | 96/118 [00:24<00:05,  3.90it/s]"
     ]
    },
    {
     "name": "stdout",
     "output_type": "stream",
     "text": [
      "mealService 응답코드: 200\n",
      "급식 데이터 수: 59\n",
      "8140459 충남드론항공고등학교\n",
      "급식 정보 조회 중: 날짜=20250618\n"
     ]
    },
    {
     "name": "stderr",
     "output_type": "stream",
     "text": [
      "고등학교 급식 조회:  82%|█████████████████████████████████████████         | 97/118 [00:24<00:05,  3.92it/s]"
     ]
    },
    {
     "name": "stdout",
     "output_type": "stream",
     "text": [
      "mealService 응답코드: 200\n",
      "급식 데이터 수: 59\n",
      "8140359 충남디자인예술고등학교\n",
      "급식 정보 조회 중: 날짜=20250618\n"
     ]
    },
    {
     "name": "stderr",
     "output_type": "stream",
     "text": [
      "고등학교 급식 조회:  83%|█████████████████████████████████████████▌        | 98/118 [00:24<00:05,  3.93it/s]"
     ]
    },
    {
     "name": "stdout",
     "output_type": "stream",
     "text": [
      "mealService 응답코드: 200\n",
      "급식 데이터 수: 59\n",
      "8140499 충남반도체마이스터고등학교\n",
      "급식 정보 조회 중: 날짜=20250618\n"
     ]
    },
    {
     "name": "stderr",
     "output_type": "stream",
     "text": [
      "고등학교 급식 조회:  84%|█████████████████████████████████████████▉        | 99/118 [00:25<00:04,  3.91it/s]"
     ]
    },
    {
     "name": "stdout",
     "output_type": "stream",
     "text": [
      "mealService 응답코드: 200\n",
      "급식 데이터 수: 58\n",
      "8140366 충남삼성고등학교\n",
      "급식 정보 조회 중: 날짜=20250618\n"
     ]
    },
    {
     "name": "stderr",
     "output_type": "stream",
     "text": [
      "고등학교 급식 조회:  85%|█████████████████████████████████████████▌       | 100/118 [00:25<00:04,  3.85it/s]"
     ]
    },
    {
     "name": "stdout",
     "output_type": "stream",
     "text": [
      "mealService 응답코드: 200\n",
      "급식 데이터 수: 83\n",
      "8140072 충남예술고등학교\n",
      "급식 정보 조회 중: 날짜=20250618\n"
     ]
    },
    {
     "name": "stderr",
     "output_type": "stream",
     "text": [
      "고등학교 급식 조회:  86%|█████████████████████████████████████████▉       | 101/118 [00:25<00:04,  3.84it/s]"
     ]
    },
    {
     "name": "stdout",
     "output_type": "stream",
     "text": [
      "mealService 응답코드: 200\n",
      "급식 데이터 수: 61\n",
      "8140252 충남외국어고등학교\n",
      "급식 정보 조회 중: 날짜=20250618\n"
     ]
    },
    {
     "name": "stderr",
     "output_type": "stream",
     "text": [
      "고등학교 급식 조회:  86%|██████████████████████████████████████████▎      | 102/118 [00:25<00:04,  3.81it/s]"
     ]
    },
    {
     "name": "stdout",
     "output_type": "stream",
     "text": [
      "mealService 응답코드: 200\n",
      "급식 데이터 수: 62\n",
      "8140195 충남인터넷고등학교\n",
      "급식 정보 조회 중: 날짜=20250618\n"
     ]
    },
    {
     "name": "stderr",
     "output_type": "stream",
     "text": [
      "고등학교 급식 조회:  87%|██████████████████████████████████████████▊      | 103/118 [00:26<00:04,  3.73it/s]"
     ]
    },
    {
     "name": "stdout",
     "output_type": "stream",
     "text": [
      "mealService 응답코드: 200\n",
      "급식 데이터 수: 58\n",
      "8140073 충남체육고등학교\n",
      "급식 정보 조회 중: 날짜=20250618\n"
     ]
    },
    {
     "name": "stderr",
     "output_type": "stream",
     "text": [
      "고등학교 급식 조회:  88%|███████████████████████████████████████████▏     | 104/118 [00:26<00:03,  3.84it/s]"
     ]
    },
    {
     "name": "stdout",
     "output_type": "stream",
     "text": [
      "mealService 응답코드: 200\n",
      "급식 데이터 수: 60\n",
      "8140206 충남해양과학고등학교\n",
      "급식 정보 조회 중: 날짜=20250618\n"
     ]
    },
    {
     "name": "stderr",
     "output_type": "stream",
     "text": [
      "고등학교 급식 조회:  89%|███████████████████████████████████████████▌     | 105/118 [00:26<00:03,  3.91it/s]"
     ]
    },
    {
     "name": "stdout",
     "output_type": "stream",
     "text": [
      "mealService 응답코드: 200\n",
      "급식 데이터 수: 58\n",
      "8140074 태안고등학교\n",
      "급식 정보 조회 중: 날짜=20250618\n"
     ]
    },
    {
     "name": "stderr",
     "output_type": "stream",
     "text": [
      "고등학교 급식 조회:  90%|████████████████████████████████████████████     | 106/118 [00:26<00:03,  3.93it/s]"
     ]
    },
    {
     "name": "stdout",
     "output_type": "stream",
     "text": [
      "mealService 응답코드: 200\n",
      "급식 데이터 수: 61\n",
      "8140197 태안여자고등학교\n",
      "급식 정보 조회 중: 날짜=20250618\n"
     ]
    },
    {
     "name": "stderr",
     "output_type": "stream",
     "text": [
      "고등학교 급식 조회:  91%|████████████████████████████████████████████▍    | 107/118 [00:27<00:02,  4.11it/s]"
     ]
    },
    {
     "name": "stdout",
     "output_type": "stream",
     "text": [
      "mealService 응답코드: 200\n",
      "급식 데이터 수: 58\n",
      "8140461 한국K-POP고등학교\n",
      "급식 정보 조회 중: 날짜=20250618\n"
     ]
    },
    {
     "name": "stderr",
     "output_type": "stream",
     "text": [
      "고등학교 급식 조회:  92%|████████████████████████████████████████████▊    | 108/118 [00:27<00:02,  4.06it/s]"
     ]
    },
    {
     "name": "stdout",
     "output_type": "stream",
     "text": [
      "mealService 응답코드: 200\n",
      "급식 데이터 수: 60\n",
      "8140377 한국식품마이스터고등학교\n",
      "급식 정보 조회 중: 날짜=20250618\n"
     ]
    },
    {
     "name": "stderr",
     "output_type": "stream",
     "text": [
      "고등학교 급식 조회:  92%|█████████████████████████████████████████████▎   | 109/118 [00:27<00:02,  4.20it/s]"
     ]
    },
    {
     "name": "stdout",
     "output_type": "stream",
     "text": [
      "mealService 응답코드: 200\n",
      "급식 데이터 수: 59\n",
      "8140500 한올고등학교\n",
      "급식 정보 조회 중: 날짜=20250618\n"
     ]
    },
    {
     "name": "stderr",
     "output_type": "stream",
     "text": [
      "고등학교 급식 조회:  93%|█████████████████████████████████████████████▋   | 110/118 [00:27<00:01,  4.26it/s]"
     ]
    },
    {
     "name": "stdout",
     "output_type": "stream",
     "text": [
      "mealService 응답코드: 200\n",
      "급식 데이터 수: 51\n",
      "8140107 한일고등학교\n",
      "급식 정보 조회 중: 날짜=20250618\n"
     ]
    },
    {
     "name": "stderr",
     "output_type": "stream",
     "text": [
      "고등학교 급식 조회:  94%|██████████████████████████████████████████████   | 111/118 [00:28<00:01,  3.80it/s]"
     ]
    },
    {
     "name": "stdout",
     "output_type": "stream",
     "text": [
      "mealService 응답코드: 200\n",
      "급식 데이터 수: 93\n",
      "8140460 합덕고등학교\n",
      "급식 정보 조회 중: 날짜=20250618\n"
     ]
    },
    {
     "name": "stderr",
     "output_type": "stream",
     "text": [
      "고등학교 급식 조회:  95%|██████████████████████████████████████████████▌  | 112/118 [00:28<00:01,  3.98it/s]"
     ]
    },
    {
     "name": "stdout",
     "output_type": "stream",
     "text": [
      "mealService 응답코드: 200\n",
      "급식 데이터 수: 44\n",
      "8140262 합덕제철고등학교\n",
      "급식 정보 조회 중: 날짜=20250618\n"
     ]
    },
    {
     "name": "stderr",
     "output_type": "stream",
     "text": [
      "고등학교 급식 조회:  96%|██████████████████████████████████████████████▉  | 113/118 [00:28<00:01,  4.01it/s]"
     ]
    },
    {
     "name": "stdout",
     "output_type": "stream",
     "text": [
      "mealService 응답코드: 200\n",
      "급식 데이터 수: 56\n",
      "8140108 호서고등학교\n",
      "급식 정보 조회 중: 날짜=20250618\n"
     ]
    },
    {
     "name": "stderr",
     "output_type": "stream",
     "text": [
      "고등학교 급식 조회:  97%|███████████████████████████████████████████████▎ | 114/118 [00:28<00:00,  4.10it/s]"
     ]
    },
    {
     "name": "stdout",
     "output_type": "stream",
     "text": [
      "mealService 응답코드: 200\n",
      "급식 데이터 수: 38\n",
      "8140077 홍성고등학교\n",
      "급식 정보 조회 중: 날짜=20250618\n"
     ]
    },
    {
     "name": "stderr",
     "output_type": "stream",
     "text": [
      "고등학교 급식 조회:  97%|███████████████████████████████████████████████▊ | 115/118 [00:29<00:00,  4.02it/s]"
     ]
    },
    {
     "name": "stdout",
     "output_type": "stream",
     "text": [
      "mealService 응답코드: 200\n",
      "급식 데이터 수: 62\n",
      "8140220 홍성공업고등학교\n",
      "급식 정보 조회 중: 날짜=20250618\n"
     ]
    },
    {
     "name": "stderr",
     "output_type": "stream",
     "text": [
      "고등학교 급식 조회:  98%|████████████████████████████████████████████████▏| 116/118 [00:29<00:00,  4.07it/s]"
     ]
    },
    {
     "name": "stdout",
     "output_type": "stream",
     "text": [
      "mealService 응답코드: 200\n",
      "급식 데이터 수: 58\n",
      "8140078 홍성여자고등학교\n",
      "급식 정보 조회 중: 날짜=20250618\n"
     ]
    },
    {
     "name": "stderr",
     "output_type": "stream",
     "text": [
      "고등학교 급식 조회:  99%|████████████████████████████████████████████████▌| 117/118 [00:29<00:00,  4.11it/s]"
     ]
    },
    {
     "name": "stdout",
     "output_type": "stream",
     "text": [
      "mealService 응답코드: 200\n",
      "급식 데이터 수: 59\n",
      "8140109 홍주고등학교\n",
      "급식 정보 조회 중: 날짜=20250618\n"
     ]
    },
    {
     "name": "stderr",
     "output_type": "stream",
     "text": [
      "고등학교 급식 조회: 100%|█████████████████████████████████████████████████| 118/118 [00:29<00:00,  3.95it/s]"
     ]
    },
    {
     "name": "stdout",
     "output_type": "stream",
     "text": [
      "mealService 응답코드: 200\n",
      "급식 데이터 수: 63\n",
      "수집된 급식 행 수: 43643\n",
      "수집된 전체 급식 행 수: 43643\n",
      "  교육청코드     학교코드     학교명      급식일자 식사명  \\\n",
      "0   B10  7010057  가락고등학교  20250519  중식   \n",
      "1   B10  7010057  가락고등학교  20250520  중식   \n",
      "2   B10  7010057  가락고등학교  20250521  중식   \n",
      "3   B10  7010057  가락고등학교  20250522  중식   \n",
      "4   B10  7010057  가락고등학교  20250523  중식   \n",
      "\n",
      "                                                급식식단  \n",
      "0  쌀밥 <br/>소고기미역국 (2.5.6.15.16.18)<br/>돼지갈비찜 (5.6...  \n",
      "1  쇠고기콩나물밥 (5.6.16)<br/>물만두국 (1.2.5.6.10.15.16.18...  \n",
      "2  새우볶음밥 (1.5.6.8.9.13.18)<br/>씨앗호떡파이 (1.2.3.5.6)...  \n",
      "3  쌀밥 <br/>볶음우동 (5.6.8.9.13.15.17.18)<br/>zero초코파...  \n",
      "4  현미밥 <br/>어묵국 (1.2.5.6.15.16.18)<br/>마라찜닭 (5.6....  \n"
     ]
    },
    {
     "name": "stderr",
     "output_type": "stream",
     "text": [
      "\n"
     ]
    },
    {
     "name": "stdout",
     "output_type": "stream",
     "text": [
      "응답코드 : 200\n"
     ]
    },
    {
     "name": "stderr",
     "output_type": "stream",
     "text": [
      "고등학교 급식 조회:   0%|                                                           | 0/133 [00:00<?, ?it/s]"
     ]
    },
    {
     "name": "stdout",
     "output_type": "stream",
     "text": [
      "8321199 강호항공고등학교\n",
      "급식 정보 조회 중: 날짜=20250618\n",
      "mealService 응답코드: 200\n",
      "급식 데이터 수: 57\n"
     ]
    },
    {
     "name": "stderr",
     "output_type": "stream",
     "text": [
      "고등학교 급식 조회:   1%|▍                                                  | 1/133 [00:00<00:33,  3.95it/s]"
     ]
    },
    {
     "name": "stdout",
     "output_type": "stream",
     "text": [
      "8321168 고산고등학교\n",
      "급식 정보 조회 중: 날짜=20250618\n",
      "mealService 응답코드: 200\n",
      "급식 데이터 수: 51\n"
     ]
    },
    {
     "name": "stderr",
     "output_type": "stream",
     "text": [
      "고등학교 급식 조회:   2%|▊                                                  | 2/133 [00:00<00:30,  4.30it/s]"
     ]
    },
    {
     "name": "stdout",
     "output_type": "stream",
     "text": [
      "8321197 고창고등학교\n",
      "급식 정보 조회 중: 날짜=20250618\n",
      "mealService 응답코드: 200\n",
      "급식 데이터 수: 63\n"
     ]
    },
    {
     "name": "stderr",
     "output_type": "stream",
     "text": [
      "고등학교 급식 조회:   2%|█▏                                                 | 3/133 [00:00<00:30,  4.26it/s]"
     ]
    },
    {
     "name": "stdout",
     "output_type": "stream",
     "text": [
      "8321200 고창북고등학교\n",
      "급식 정보 조회 중: 날짜=20250618\n",
      "mealService 응답코드: 200\n",
      "급식 데이터 수: 72\n"
     ]
    },
    {
     "name": "stderr",
     "output_type": "stream",
     "text": [
      "고등학교 급식 조회:   3%|█▌                                                 | 4/133 [00:00<00:31,  4.07it/s]"
     ]
    },
    {
     "name": "stdout",
     "output_type": "stream",
     "text": [
      "8321107 군산고등학교\n",
      "급식 정보 조회 중: 날짜=20250618\n",
      "mealService 응답코드: 200\n",
      "급식 데이터 수: 58\n"
     ]
    },
    {
     "name": "stderr",
     "output_type": "stream",
     "text": [
      "고등학교 급식 조회:   4%|█▉                                                 | 5/133 [00:01<00:31,  4.00it/s]"
     ]
    },
    {
     "name": "stdout",
     "output_type": "stream",
     "text": [
      "8321109 군산기계공업고등학교\n",
      "급식 정보 조회 중: 날짜=20250618\n",
      "mealService 응답코드: 200\n",
      "급식 데이터 수: 51\n"
     ]
    },
    {
     "name": "stderr",
     "output_type": "stream",
     "text": [
      "고등학교 급식 조회:   5%|██▎                                                | 6/133 [00:01<00:30,  4.15it/s]"
     ]
    },
    {
     "name": "stdout",
     "output_type": "stream",
     "text": [
      "8321111 군산동고등학교\n",
      "급식 정보 조회 중: 날짜=20250618\n",
      "mealService 응답코드: 200\n",
      "급식 데이터 수: 64\n"
     ]
    },
    {
     "name": "stderr",
     "output_type": "stream",
     "text": [
      "고등학교 급식 조회:   5%|██▋                                                | 7/133 [00:01<00:31,  4.06it/s]"
     ]
    },
    {
     "name": "stdout",
     "output_type": "stream",
     "text": [
      "8321110 군산상일고등학교\n",
      "급식 정보 조회 중: 날짜=20250618\n",
      "mealService 응답코드: 200\n",
      "급식 데이터 수: 38\n"
     ]
    },
    {
     "name": "stderr",
     "output_type": "stream",
     "text": [
      "고등학교 급식 조회:   6%|███                                                | 8/133 [00:01<00:30,  4.15it/s]"
     ]
    },
    {
     "name": "stdout",
     "output_type": "stream",
     "text": [
      "8321108 군산여자고등학교\n",
      "급식 정보 조회 중: 날짜=20250618\n",
      "mealService 응답코드: 200\n",
      "급식 데이터 수: 59\n"
     ]
    },
    {
     "name": "stderr",
     "output_type": "stream",
     "text": [
      "고등학교 급식 조회:   7%|███▍                                               | 9/133 [00:02<00:29,  4.19it/s]"
     ]
    },
    {
     "name": "stdout",
     "output_type": "stream",
     "text": [
      "8321112 군산여자상업고등학교\n",
      "급식 정보 조회 중: 날짜=20250618\n",
      "mealService 응답코드: 200\n",
      "급식 데이터 수: 20\n"
     ]
    },
    {
     "name": "stderr",
     "output_type": "stream",
     "text": [
      "고등학교 급식 조회:   8%|███▊                                              | 10/133 [00:02<00:28,  4.32it/s]"
     ]
    },
    {
     "name": "stdout",
     "output_type": "stream",
     "text": [
      "8321118 군산영광여자고등학교\n",
      "급식 정보 조회 중: 날짜=20250618\n",
      "mealService 응답코드: 200\n",
      "급식 데이터 수: 41\n"
     ]
    },
    {
     "name": "stderr",
     "output_type": "stream",
     "text": [
      "고등학교 급식 조회:   8%|████▏                                             | 11/133 [00:02<00:28,  4.29it/s]"
     ]
    },
    {
     "name": "stdout",
     "output_type": "stream",
     "text": [
      "8321115 군산제일고등학교\n",
      "급식 정보 조회 중: 날짜=20250618\n",
      "mealService 응답코드: 200\n",
      "급식 데이터 수: 69\n"
     ]
    },
    {
     "name": "stderr",
     "output_type": "stream",
     "text": [
      "고등학교 급식 조회:   9%|████▌                                             | 12/133 [00:02<00:28,  4.24it/s]"
     ]
    },
    {
     "name": "stdout",
     "output_type": "stream",
     "text": [
      "8321116 군산중앙고등학교\n",
      "급식 정보 조회 중: 날짜=20250618\n",
      "mealService 응답코드: 200\n",
      "급식 데이터 수: 73\n"
     ]
    },
    {
     "name": "stderr",
     "output_type": "stream",
     "text": [
      "고등학교 급식 조회:  10%|████▉                                             | 13/133 [00:03<00:28,  4.27it/s]"
     ]
    },
    {
     "name": "stdout",
     "output_type": "stream",
     "text": [
      "8321117 군산중앙여자고등학교\n",
      "급식 정보 조회 중: 날짜=20250618\n",
      "mealService 응답코드: 200\n",
      "급식 데이터 수: 63\n"
     ]
    },
    {
     "name": "stderr",
     "output_type": "stream",
     "text": [
      "고등학교 급식 조회:  11%|█████▎                                            | 14/133 [00:03<00:27,  4.34it/s]"
     ]
    },
    {
     "name": "stdout",
     "output_type": "stream",
     "text": [
      "8321236 글로벌학산고등학교\n",
      "급식 정보 조회 중: 날짜=20250618\n",
      "mealService 응답코드: 200\n",
      "급식 데이터 수: 59\n"
     ]
    },
    {
     "name": "stderr",
     "output_type": "stream",
     "text": [
      "고등학교 급식 조회:  11%|█████▋                                            | 15/133 [00:03<00:27,  4.25it/s]"
     ]
    },
    {
     "name": "stdout",
     "output_type": "stream",
     "text": [
      "8321158 김제고등학교\n",
      "급식 정보 조회 중: 날짜=20250618\n",
      "mealService 응답코드: 200\n",
      "급식 데이터 수: 21\n"
     ]
    },
    {
     "name": "stderr",
     "output_type": "stream",
     "text": [
      "고등학교 급식 조회:  12%|██████                                            | 16/133 [00:03<00:26,  4.44it/s]"
     ]
    },
    {
     "name": "stdout",
     "output_type": "stream",
     "text": [
      "8321160 김제농생명마이스터고등학교\n",
      "급식 정보 조회 중: 날짜=20250618\n",
      "mealService 응답코드: 200\n",
      "급식 데이터 수: 56\n"
     ]
    },
    {
     "name": "stderr",
     "output_type": "stream",
     "text": [
      "고등학교 급식 조회:  14%|██████▊                                           | 18/133 [00:04<00:24,  4.67it/s]"
     ]
    },
    {
     "name": "stdout",
     "output_type": "stream",
     "text": [
      "8321162 김제서고등학교\n",
      "급식 정보 조회 중: 날짜=20250618\n",
      "mealService 응답코드: 200\n",
      "급식 데이터 수: 21\n",
      "8321159 김제여자고등학교\n",
      "급식 정보 조회 중: 날짜=20250618\n",
      "mealService 응답코드: 200\n",
      "급식 데이터 수: 63\n"
     ]
    },
    {
     "name": "stderr",
     "output_type": "stream",
     "text": [
      "고등학교 급식 조회:  14%|███████▏                                          | 19/133 [00:04<00:25,  4.54it/s]"
     ]
    },
    {
     "name": "stdout",
     "output_type": "stream",
     "text": [
      "8321125 남성고등학교\n",
      "급식 정보 조회 중: 날짜=20250618\n",
      "mealService 응답코드: 200\n",
      "급식 데이터 수: 61\n"
     ]
    },
    {
     "name": "stderr",
     "output_type": "stream",
     "text": [
      "고등학교 급식 조회:  15%|███████▌                                          | 20/133 [00:04<00:25,  4.38it/s]"
     ]
    },
    {
     "name": "stdout",
     "output_type": "stream",
     "text": [
      "8321149 남원고등학교\n",
      "급식 정보 조회 중: 날짜=20250618\n",
      "mealService 응답코드: 200\n",
      "급식 데이터 수: 61\n"
     ]
    },
    {
     "name": "stderr",
     "output_type": "stream",
     "text": [
      "고등학교 급식 조회:  16%|███████▉                                          | 21/133 [00:04<00:25,  4.32it/s]"
     ]
    },
    {
     "name": "stdout",
     "output_type": "stream",
     "text": [
      "8321155 남원국악예술고등학교\n",
      "급식 정보 조회 중: 날짜=20250618\n",
      "mealService 응답코드: 200\n",
      "급식 데이터 수: 59\n"
     ]
    },
    {
     "name": "stderr",
     "output_type": "stream",
     "text": [
      "고등학교 급식 조회:  17%|████████▎                                         | 22/133 [00:05<00:26,  4.23it/s]"
     ]
    },
    {
     "name": "stdout",
     "output_type": "stream",
     "text": [
      "8321154 남원서진여자고등학교\n",
      "급식 정보 조회 중: 날짜=20250618\n",
      "mealService 응답코드: 200\n",
      "급식 데이터 수: 48\n"
     ]
    },
    {
     "name": "stderr",
     "output_type": "stream",
     "text": [
      "고등학교 급식 조회:  17%|████████▋                                         | 23/133 [00:05<00:25,  4.28it/s]"
     ]
    },
    {
     "name": "stdout",
     "output_type": "stream",
     "text": [
      "8321150 남원여자고등학교\n",
      "급식 정보 조회 중: 날짜=20250618\n",
      "mealService 응답코드: 200\n",
      "급식 데이터 수: 62\n"
     ]
    },
    {
     "name": "stderr",
     "output_type": "stream",
     "text": [
      "고등학교 급식 조회:  18%|█████████                                         | 24/133 [00:05<00:24,  4.40it/s]"
     ]
    },
    {
     "name": "stdout",
     "output_type": "stream",
     "text": [
      "8321151 남원용성고등학교\n",
      "급식 정보 조회 중: 날짜=20250618\n",
      "mealService 응답코드: 200\n",
      "급식 데이터 수: 21\n"
     ]
    },
    {
     "name": "stderr",
     "output_type": "stream",
     "text": [
      "고등학교 급식 조회:  19%|█████████▍                                        | 25/133 [00:05<00:23,  4.55it/s]"
     ]
    },
    {
     "name": "stdout",
     "output_type": "stream",
     "text": [
      "8321156 남원제일고등학교\n",
      "급식 정보 조회 중: 날짜=20250618\n",
      "mealService 응답코드: 200\n",
      "급식 데이터 수: 55\n"
     ]
    },
    {
     "name": "stderr",
     "output_type": "stream",
     "text": [
      "고등학교 급식 조회:  20%|█████████▊                                        | 26/133 [00:06<00:24,  4.38it/s]"
     ]
    },
    {
     "name": "stdout",
     "output_type": "stream",
     "text": [
      "8321163 덕암고등학교\n",
      "급식 정보 조회 중: 날짜=20250618\n",
      "mealService 응답코드: 200\n",
      "급식 데이터 수: 39\n"
     ]
    },
    {
     "name": "stderr",
     "output_type": "stream",
     "text": [
      "고등학교 급식 조회:  21%|██████████▌                                       | 28/133 [00:06<00:22,  4.73it/s]"
     ]
    },
    {
     "name": "stdout",
     "output_type": "stream",
     "text": [
      "8321164 덕암정보고등학교\n",
      "급식 정보 조회 중: 날짜=20250618\n",
      "mealService 응답코드: 200\n",
      "급식 데이터 수: 21\n",
      "8321194 동계고등학교\n",
      "급식 정보 조회 중: 날짜=20250618\n",
      "mealService 응답코드: 200\n",
      "급식 데이터 수: 45\n"
     ]
    },
    {
     "name": "stderr",
     "output_type": "stream",
     "text": [
      "고등학교 급식 조회:  22%|██████████▉                                       | 29/133 [00:06<00:22,  4.59it/s]"
     ]
    },
    {
     "name": "stdout",
     "output_type": "stream",
     "text": [
      "8321161 동국대학교사범대학부속금산고등학교\n",
      "급식 정보 조회 중: 날짜=20250618\n",
      "mealService 응답코드: 200\n",
      "급식 데이터 수: 21\n"
     ]
    },
    {
     "name": "stderr",
     "output_type": "stream",
     "text": [
      "고등학교 급식 조회:  23%|███████████▎                                      | 30/133 [00:06<00:22,  4.64it/s]"
     ]
    },
    {
     "name": "stdout",
     "output_type": "stream",
     "text": [
      "8321089 동암고등학교\n",
      "급식 정보 조회 중: 날짜=20250618\n",
      "mealService 응답코드: 200\n",
      "급식 데이터 수: 62\n"
     ]
    },
    {
     "name": "stderr",
     "output_type": "stream",
     "text": [
      "고등학교 급식 조회:  24%|████████████                                      | 32/133 [00:07<00:21,  4.77it/s]"
     ]
    },
    {
     "name": "stdout",
     "output_type": "stream",
     "text": [
      "8321179 마령고등학교\n",
      "급식 정보 조회 중: 날짜=20250618\n",
      "mealService 응답코드: 200\n",
      "급식 데이터 수: 21\n",
      "8321165 만경고등학교\n",
      "급식 정보 조회 중: 날짜=20250618\n",
      "mealService 응답코드: 200\n",
      "급식 데이터 수: 52\n"
     ]
    },
    {
     "name": "stderr",
     "output_type": "stream",
     "text": [
      "고등학교 급식 조회:  26%|████████████▊                                     | 34/133 [00:07<00:20,  4.79it/s]"
     ]
    },
    {
     "name": "stdout",
     "output_type": "stream",
     "text": [
      "8321166 만경여자고등학교\n",
      "급식 정보 조회 중: 날짜=20250618\n",
      "mealService 응답코드: 200\n",
      "mealServiceDietInfo 키 없음: {'RESULT': {'CODE': 'INFO-200', 'MESSAGE': '해당하는 데이터가 없습니다.'}}\n",
      "8321184 무주고등학교\n",
      "급식 정보 조회 중: 날짜=20250618\n"
     ]
    },
    {
     "name": "stderr",
     "output_type": "stream",
     "text": [
      "고등학교 급식 조회:  26%|█████████████▏                                    | 35/133 [00:07<00:21,  4.60it/s]"
     ]
    },
    {
     "name": "stdout",
     "output_type": "stream",
     "text": [
      "mealService 응답코드: 200\n",
      "급식 데이터 수: 52\n",
      "8321183 무풍고등학교\n",
      "급식 정보 조회 중: 날짜=20250618\n"
     ]
    },
    {
     "name": "stderr",
     "output_type": "stream",
     "text": [
      "고등학교 급식 조회:  27%|█████████████▌                                    | 36/133 [00:08<00:21,  4.60it/s]"
     ]
    },
    {
     "name": "stdout",
     "output_type": "stream",
     "text": [
      "mealService 응답코드: 200\n",
      "급식 데이터 수: 21\n",
      "8321140 배영고등학교\n",
      "급식 정보 조회 중: 날짜=20250618\n"
     ]
    },
    {
     "name": "stderr",
     "output_type": "stream",
     "text": [
      "고등학교 급식 조회:  28%|█████████████▉                                    | 37/133 [00:08<00:22,  4.23it/s]"
     ]
    },
    {
     "name": "stdout",
     "output_type": "stream",
     "text": [
      "mealService 응답코드: 200\n",
      "급식 데이터 수: 70\n",
      "8321208 백산고등학교\n",
      "급식 정보 조회 중: 날짜=20250618\n"
     ]
    },
    {
     "name": "stderr",
     "output_type": "stream",
     "text": [
      "고등학교 급식 조회:  29%|██████████████▎                                   | 38/133 [00:08<00:21,  4.32it/s]"
     ]
    },
    {
     "name": "stdout",
     "output_type": "stream",
     "text": [
      "mealService 응답코드: 200\n",
      "급식 데이터 수: 42\n",
      "8321238 백화고등학교\n",
      "급식 정보 조회 중: 날짜=20250618\n"
     ]
    },
    {
     "name": "stderr",
     "output_type": "stream",
     "text": [
      "고등학교 급식 조회:  29%|██████████████▋                                   | 39/133 [00:08<00:22,  4.27it/s]"
     ]
    },
    {
     "name": "stdout",
     "output_type": "stream",
     "text": [
      "mealService 응답코드: 200\n",
      "급식 데이터 수: 56\n",
      "8321203 부안고등학교\n",
      "급식 정보 조회 중: 날짜=20250618\n"
     ]
    },
    {
     "name": "stderr",
     "output_type": "stream",
     "text": [
      "고등학교 급식 조회:  30%|███████████████                                   | 40/133 [00:09<00:22,  4.18it/s]"
     ]
    },
    {
     "name": "stdout",
     "output_type": "stream",
     "text": [
      "mealService 응답코드: 200\n",
      "급식 데이터 수: 59\n",
      "8321209 부안여자고등학교\n",
      "급식 정보 조회 중: 날짜=20250618\n"
     ]
    },
    {
     "name": "stderr",
     "output_type": "stream",
     "text": [
      "고등학교 급식 조회:  31%|███████████████▍                                  | 41/133 [00:09<00:21,  4.21it/s]"
     ]
    },
    {
     "name": "stdout",
     "output_type": "stream",
     "text": [
      "mealService 응답코드: 200\n",
      "급식 데이터 수: 57\n",
      "8321188 산서고등학교\n",
      "급식 정보 조회 중: 날짜=20250618\n"
     ]
    },
    {
     "name": "stderr",
     "output_type": "stream",
     "text": [
      "고등학교 급식 조회:  32%|███████████████▊                                  | 42/133 [00:09<00:20,  4.45it/s]"
     ]
    },
    {
     "name": "stdout",
     "output_type": "stream",
     "text": [
      "mealService 응답코드: 200\n",
      "급식 데이터 수: 21\n",
      "8321090 상산고등학교\n",
      "급식 정보 조회 중: 날짜=20250618\n"
     ]
    },
    {
     "name": "stderr",
     "output_type": "stream",
     "text": [
      "고등학교 급식 조회:  32%|████████████████▏                                 | 43/133 [00:09<00:21,  4.24it/s]"
     ]
    },
    {
     "name": "stdout",
     "output_type": "stream",
     "text": [
      "mealService 응답코드: 200\n",
      "급식 데이터 수: 93\n",
      "8321207 서림고등학교\n",
      "급식 정보 조회 중: 날짜=20250618\n"
     ]
    },
    {
     "name": "stderr",
     "output_type": "stream",
     "text": [
      "고등학교 급식 조회:  33%|████████████████▌                                 | 44/133 [00:10<00:20,  4.30it/s]"
     ]
    },
    {
     "name": "stdout",
     "output_type": "stream",
     "text": [
      "mealService 응답코드: 200\n",
      "급식 데이터 수: 61\n",
      "8321141 서영여자고등학교\n",
      "급식 정보 조회 중: 날짜=20250618\n"
     ]
    },
    {
     "name": "stderr",
     "output_type": "stream",
     "text": [
      "고등학교 급식 조회:  34%|████████████████▉                                 | 45/133 [00:10<00:21,  4.18it/s]"
     ]
    },
    {
     "name": "stdout",
     "output_type": "stream",
     "text": [
      "mealService 응답코드: 200\n",
      "급식 데이터 수: 74\n",
      "8321181 설천고등학교\n",
      "급식 정보 조회 중: 날짜=20250618\n"
     ]
    },
    {
     "name": "stderr",
     "output_type": "stream",
     "text": [
      "고등학교 급식 조회:  35%|█████████████████▎                                | 46/133 [00:10<00:20,  4.16it/s]"
     ]
    },
    {
     "name": "stdout",
     "output_type": "stream",
     "text": [
      "mealService 응답코드: 200\n",
      "급식 데이터 수: 45\n",
      "8321157 성원고등학교\n",
      "급식 정보 조회 중: 날짜=20250618\n"
     ]
    },
    {
     "name": "stderr",
     "output_type": "stream",
     "text": [
      "고등학교 급식 조회:  35%|█████████████████▋                                | 47/133 [00:10<00:20,  4.10it/s]"
     ]
    },
    {
     "name": "stdout",
     "output_type": "stream",
     "text": [
      "mealService 응답코드: 200\n",
      "급식 데이터 수: 63\n",
      "8321126 성일고등학교\n",
      "급식 정보 조회 중: 날짜=20250618\n"
     ]
    },
    {
     "name": "stderr",
     "output_type": "stream",
     "text": [
      "고등학교 급식 조회:  36%|██████████████████                                | 48/133 [00:11<00:20,  4.12it/s]"
     ]
    },
    {
     "name": "stdout",
     "output_type": "stream",
     "text": [
      "mealService 응답코드: 200\n",
      "급식 데이터 수: 50\n",
      "8321172 세인고등학교\n",
      "급식 정보 조회 중: 날짜=20250618\n"
     ]
    },
    {
     "name": "stderr",
     "output_type": "stream",
     "text": [
      "고등학교 급식 조회:  37%|██████████████████▍                               | 49/133 [00:11<00:20,  4.01it/s]"
     ]
    },
    {
     "name": "stdout",
     "output_type": "stream",
     "text": [
      "mealService 응답코드: 200\n",
      "급식 데이터 수: 60\n",
      "8321268 수소에너지고등학교\n",
      "급식 정보 조회 중: 날짜=20250618\n"
     ]
    },
    {
     "name": "stderr",
     "output_type": "stream",
     "text": [
      "고등학교 급식 조회:  38%|██████████████████▊                               | 50/133 [00:11<00:21,  3.87it/s]"
     ]
    },
    {
     "name": "stdout",
     "output_type": "stream",
     "text": [
      "mealService 응답코드: 200\n",
      "급식 데이터 수: 37\n",
      "8321196 순창고등학교\n",
      "급식 정보 조회 중: 날짜=20250618\n"
     ]
    },
    {
     "name": "stderr",
     "output_type": "stream",
     "text": [
      "고등학교 급식 조회:  38%|███████████████████▏                              | 51/133 [00:11<00:22,  3.69it/s]"
     ]
    },
    {
     "name": "stdout",
     "output_type": "stream",
     "text": [
      "mealService 응답코드: 200\n",
      "급식 데이터 수: 54\n",
      "8321195 순창제일고등학교\n",
      "급식 정보 조회 중: 날짜=20250618\n"
     ]
    },
    {
     "name": "stderr",
     "output_type": "stream",
     "text": [
      "고등학교 급식 조회:  39%|███████████████████▌                              | 52/133 [00:12<00:22,  3.61it/s]"
     ]
    },
    {
     "name": "stdout",
     "output_type": "stream",
     "text": [
      "mealService 응답코드: 200\n",
      "급식 데이터 수: 57\n",
      "8321142 신태인고등학교\n",
      "급식 정보 조회 중: 날짜=20250618\n"
     ]
    },
    {
     "name": "stderr",
     "output_type": "stream",
     "text": [
      "고등학교 급식 조회:  40%|███████████████████▉                              | 53/133 [00:12<00:22,  3.63it/s]"
     ]
    },
    {
     "name": "stdout",
     "output_type": "stream",
     "text": [
      "mealService 응답코드: 200\n",
      "급식 데이터 수: 52\n",
      "8321182 안성고등학교\n",
      "급식 정보 조회 중: 날짜=20250618\n"
     ]
    },
    {
     "name": "stderr",
     "output_type": "stream",
     "text": [
      "고등학교 급식 조회:  41%|████████████████████▎                             | 54/133 [00:12<00:20,  3.83it/s]"
     ]
    },
    {
     "name": "stdout",
     "output_type": "stream",
     "text": [
      "mealService 응답코드: 200\n",
      "급식 데이터 수: 52\n",
      "8321178 안천고등학교\n",
      "급식 정보 조회 중: 날짜=20250618\n"
     ]
    },
    {
     "name": "stderr",
     "output_type": "stream",
     "text": [
      "고등학교 급식 조회:  41%|████████████████████▋                             | 55/133 [00:13<00:21,  3.70it/s]"
     ]
    },
    {
     "name": "stdout",
     "output_type": "stream",
     "text": [
      "mealService 응답코드: 200\n",
      "급식 데이터 수: 21\n",
      "8321083 양현고등학교\n",
      "급식 정보 조회 중: 날짜=20250618\n"
     ]
    },
    {
     "name": "stderr",
     "output_type": "stream",
     "text": [
      "고등학교 급식 조회:  42%|█████████████████████                             | 56/133 [00:13<00:19,  3.86it/s]"
     ]
    },
    {
     "name": "stdout",
     "output_type": "stream",
     "text": [
      "mealService 응답코드: 200\n",
      "급식 데이터 수: 64\n",
      "8321122 여산고등학교\n",
      "급식 정보 조회 중: 날짜=20250618\n"
     ]
    },
    {
     "name": "stderr",
     "output_type": "stream",
     "text": [
      "고등학교 급식 조회:  43%|█████████████████████▍                            | 57/133 [00:13<00:19,  4.00it/s]"
     ]
    },
    {
     "name": "stdout",
     "output_type": "stream",
     "text": [
      "mealService 응답코드: 200\n",
      "급식 데이터 수: 21\n",
      "8321092 완산고등학교\n",
      "급식 정보 조회 중: 날짜=20250618\n"
     ]
    },
    {
     "name": "stderr",
     "output_type": "stream",
     "text": [
      "고등학교 급식 조회:  44%|█████████████████████▊                            | 58/133 [00:13<00:18,  3.98it/s]"
     ]
    },
    {
     "name": "stdout",
     "output_type": "stream",
     "text": [
      "mealService 응답코드: 200\n",
      "급식 데이터 수: 63\n",
      "8321093 완산여자고등학교\n",
      "급식 정보 조회 중: 날짜=20250618\n"
     ]
    },
    {
     "name": "stderr",
     "output_type": "stream",
     "text": [
      "고등학교 급식 조회:  44%|██████████████████████▏                           | 59/133 [00:13<00:18,  4.01it/s]"
     ]
    },
    {
     "name": "stdout",
     "output_type": "stream",
     "text": [
      "mealService 응답코드: 200\n",
      "급식 데이터 수: 21\n",
      "8321173 완주고등학교\n",
      "급식 정보 조회 중: 날짜=20250618\n"
     ]
    },
    {
     "name": "stderr",
     "output_type": "stream",
     "text": [
      "고등학교 급식 조회:  45%|██████████████████████▌                           | 60/133 [00:14<00:17,  4.11it/s]"
     ]
    },
    {
     "name": "stdout",
     "output_type": "stream",
     "text": [
      "mealService 응답코드: 200\n",
      "급식 데이터 수: 41\n",
      "8321143 왕신여자고등학교\n",
      "급식 정보 조회 중: 날짜=20250618\n"
     ]
    },
    {
     "name": "stderr",
     "output_type": "stream",
     "text": [
      "고등학교 급식 조회:  46%|██████████████████████▉                           | 61/133 [00:14<00:17,  4.21it/s]"
     ]
    },
    {
     "name": "stdout",
     "output_type": "stream",
     "text": [
      "mealService 응답코드: 200\n",
      "급식 데이터 수: 37\n",
      "8321094 우석고등학교\n",
      "급식 정보 조회 중: 날짜=20250618\n"
     ]
    },
    {
     "name": "stderr",
     "output_type": "stream",
     "text": [
      "고등학교 급식 조회:  47%|███████████████████████▎                          | 62/133 [00:14<00:16,  4.26it/s]"
     ]
    },
    {
     "name": "stdout",
     "output_type": "stream",
     "text": [
      "mealService 응답코드: 200\n",
      "급식 데이터 수: 60\n",
      "8321127 원광고등학교\n",
      "급식 정보 조회 중: 날짜=20250618\n"
     ]
    },
    {
     "name": "stderr",
     "output_type": "stream",
     "text": [
      "고등학교 급식 조회:  47%|███████████████████████▋                          | 63/133 [00:14<00:16,  4.27it/s]"
     ]
    },
    {
     "name": "stdout",
     "output_type": "stream",
     "text": [
      "mealService 응답코드: 200\n",
      "급식 데이터 수: 64\n",
      "8321129 원광보건고등학교\n",
      "급식 정보 조회 중: 날짜=20250618\n"
     ]
    },
    {
     "name": "stderr",
     "output_type": "stream",
     "text": [
      "고등학교 급식 조회:  48%|████████████████████████                          | 64/133 [00:15<00:16,  4.24it/s]"
     ]
    },
    {
     "name": "stdout",
     "output_type": "stream",
     "text": [
      "mealService 응답코드: 200\n",
      "급식 데이터 수: 58\n",
      "8321128 원광여자고등학교\n",
      "급식 정보 조회 중: 날짜=20250618\n"
     ]
    },
    {
     "name": "stderr",
     "output_type": "stream",
     "text": [
      "고등학교 급식 조회:  49%|████████████████████████▍                         | 65/133 [00:15<00:16,  4.14it/s]"
     ]
    },
    {
     "name": "stdout",
     "output_type": "stream",
     "text": [
      "mealService 응답코드: 200\n",
      "급식 데이터 수: 63\n",
      "8321205 위도고등학교\n",
      "급식 정보 조회 중: 날짜=20250618\n",
      "mealService 응답코드: 200\n",
      "mealServiceDietInfo 키 없음: {'RESULT': {'CODE': 'INFO-200', 'MESSAGE': '해당하는 데이터가 없습니다.'}}\n"
     ]
    },
    {
     "name": "stderr",
     "output_type": "stream",
     "text": [
      "고등학교 급식 조회:  50%|█████████████████████████▏                        | 67/133 [00:15<00:14,  4.59it/s]"
     ]
    },
    {
     "name": "stdout",
     "output_type": "stream",
     "text": [
      "8321095 유일여자고등학교\n",
      "급식 정보 조회 중: 날짜=20250618\n",
      "mealService 응답코드: 200\n",
      "급식 데이터 수: 41\n",
      "8321119 이리고등학교\n",
      "급식 정보 조회 중: 날짜=20250618\n",
      "mealService 응답코드: 200\n",
      "급식 데이터 수: 66\n"
     ]
    },
    {
     "name": "stderr",
     "output_type": "stream",
     "text": [
      "고등학교 급식 조회:  51%|█████████████████████████▌                        | 68/133 [00:16<00:14,  4.45it/s]"
     ]
    },
    {
     "name": "stdout",
     "output_type": "stream",
     "text": [
      "8321121 이리공업고등학교\n",
      "급식 정보 조회 중: 날짜=20250618\n",
      "mealService 응답코드: 200\n",
      "급식 데이터 수: 52\n"
     ]
    },
    {
     "name": "stderr",
     "output_type": "stream",
     "text": [
      "고등학교 급식 조회:  52%|█████████████████████████▉                        | 69/133 [00:16<00:14,  4.42it/s]"
     ]
    },
    {
     "name": "stdout",
     "output_type": "stream",
     "text": [
      "8321130 이리남성여자고등학교\n",
      "급식 정보 조회 중: 날짜=20250618\n",
      "mealService 응답코드: 200\n",
      "급식 데이터 수: 63\n"
     ]
    },
    {
     "name": "stderr",
     "output_type": "stream",
     "text": [
      "고등학교 급식 조회:  53%|██████████████████████████▎                       | 70/133 [00:16<00:14,  4.41it/s]"
     ]
    },
    {
     "name": "stdout",
     "output_type": "stream",
     "text": [
      "8321120 이리여자고등학교\n",
      "급식 정보 조회 중: 날짜=20250618\n",
      "mealService 응답코드: 200\n",
      "급식 데이터 수: 63\n"
     ]
    },
    {
     "name": "stderr",
     "output_type": "stream",
     "text": [
      "고등학교 급식 조회:  53%|██████████████████████████▋                       | 71/133 [00:16<00:13,  4.45it/s]"
     ]
    },
    {
     "name": "stdout",
     "output_type": "stream",
     "text": [
      "8321131 이일여자고등학교\n",
      "급식 정보 조회 중: 날짜=20250618\n",
      "mealService 응답코드: 200\n",
      "급식 데이터 수: 63\n"
     ]
    },
    {
     "name": "stderr",
     "output_type": "stream",
     "text": [
      "고등학교 급식 조회:  54%|███████████████████████████                       | 72/133 [00:16<00:13,  4.43it/s]"
     ]
    },
    {
     "name": "stdout",
     "output_type": "stream",
     "text": [
      "8321132 익산고등학교\n",
      "급식 정보 조회 중: 날짜=20250618\n",
      "mealService 응답코드: 200\n",
      "급식 데이터 수: 76\n"
     ]
    },
    {
     "name": "stderr",
     "output_type": "stream",
     "text": [
      "고등학교 급식 조회:  55%|███████████████████████████▍                      | 73/133 [00:17<00:14,  4.18it/s]"
     ]
    },
    {
     "name": "stdout",
     "output_type": "stream",
     "text": [
      "8321144 인상고등학교\n",
      "급식 정보 조회 중: 날짜=20250618\n",
      "mealService 응답코드: 200\n",
      "급식 데이터 수: 42\n"
     ]
    },
    {
     "name": "stderr",
     "output_type": "stream",
     "text": [
      "고등학교 급식 조회:  56%|████████████████████████████▏                     | 75/133 [00:17<00:12,  4.46it/s]"
     ]
    },
    {
     "name": "stdout",
     "output_type": "stream",
     "text": [
      "8321152 인월고등학교\n",
      "급식 정보 조회 중: 날짜=20250618\n",
      "mealService 응답코드: 200\n",
      "급식 데이터 수: 21\n",
      "8321191 임실고등학교\n",
      "급식 정보 조회 중: 날짜=20250618\n",
      "mealService 응답코드: 200\n",
      "급식 데이터 수: 58\n"
     ]
    },
    {
     "name": "stderr",
     "output_type": "stream",
     "text": [
      "고등학교 급식 조회:  57%|████████████████████████████▌                     | 76/133 [00:17<00:13,  4.37it/s]"
     ]
    },
    {
     "name": "stdout",
     "output_type": "stream",
     "text": [
      "8321237 자유고등학교\n",
      "급식 정보 조회 중: 날짜=20250618\n",
      "mealService 응답코드: 200\n",
      "급식 데이터 수: 62\n"
     ]
    },
    {
     "name": "stderr",
     "output_type": "stream",
     "text": [
      "고등학교 급식 조회:  58%|████████████████████████████▉                     | 77/133 [00:18<00:12,  4.39it/s]"
     ]
    },
    {
     "name": "stdout",
     "output_type": "stream",
     "text": [
      "8321186 장수고등학교\n",
      "급식 정보 조회 중: 날짜=20250618\n",
      "mealService 응답코드: 200\n",
      "급식 데이터 수: 58\n"
     ]
    },
    {
     "name": "stderr",
     "output_type": "stream",
     "text": [
      "고등학교 급식 조회:  59%|█████████████████████████████▎                    | 78/133 [00:18<00:12,  4.44it/s]"
     ]
    },
    {
     "name": "stdout",
     "output_type": "stream",
     "text": [
      "8321080 전라고등학교\n",
      "급식 정보 조회 중: 날짜=20250618\n",
      "mealService 응답코드: 200\n",
      "급식 데이터 수: 38\n"
     ]
    },
    {
     "name": "stderr",
     "output_type": "stream",
     "text": [
      "고등학교 급식 조회:  59%|█████████████████████████████▋                    | 79/133 [00:18<00:12,  4.19it/s]"
     ]
    },
    {
     "name": "stdout",
     "output_type": "stream",
     "text": [
      "8321124 전북과학고등학교\n",
      "급식 정보 조회 중: 날짜=20250618\n",
      "mealService 응답코드: 200\n",
      "급식 데이터 수: 56\n"
     ]
    },
    {
     "name": "stderr",
     "output_type": "stream",
     "text": [
      "고등학교 급식 조회:  60%|██████████████████████████████                    | 80/133 [00:18<00:12,  4.19it/s]"
     ]
    },
    {
     "name": "stdout",
     "output_type": "stream",
     "text": [
      "1421118 전북기계공업고등학교\n",
      "급식 정보 조회 중: 날짜=20250618\n"
     ]
    },
    {
     "name": "stderr",
     "output_type": "stream",
     "text": [
      "고등학교 급식 조회:  61%|██████████████████████████████▍                   | 81/133 [00:19<00:13,  3.73it/s]"
     ]
    },
    {
     "name": "stdout",
     "output_type": "stream",
     "text": [
      "mealService 응답코드: 200\n",
      "급식 데이터 수: 56\n",
      "7003982 전북대학교사범대학부설고등학교\n",
      "급식 정보 조회 중: 날짜=20250618\n"
     ]
    },
    {
     "name": "stderr",
     "output_type": "stream",
     "text": [
      "고등학교 급식 조회:  62%|██████████████████████████████▊                   | 82/133 [00:19<00:13,  3.90it/s]"
     ]
    },
    {
     "name": "stdout",
     "output_type": "stream",
     "text": [
      "mealService 응답코드: 200\n",
      "급식 데이터 수: 63\n",
      "8321235 전북베이커리고등학교\n",
      "급식 정보 조회 중: 날짜=20250618\n"
     ]
    },
    {
     "name": "stderr",
     "output_type": "stream",
     "text": [
      "고등학교 급식 조회:  62%|███████████████████████████████▏                  | 83/133 [00:19<00:12,  3.91it/s]"
     ]
    },
    {
     "name": "stdout",
     "output_type": "stream",
     "text": [
      "mealService 응답코드: 200\n",
      "급식 데이터 수: 37\n",
      "8321096 전북여자고등학교\n",
      "급식 정보 조회 중: 날짜=20250618\n"
     ]
    },
    {
     "name": "stderr",
     "output_type": "stream",
     "text": [
      "고등학교 급식 조회:  63%|███████████████████████████████▌                  | 84/133 [00:19<00:12,  3.95it/s]"
     ]
    },
    {
     "name": "stdout",
     "output_type": "stream",
     "text": [
      "mealService 응답코드: 200\n",
      "급식 데이터 수: 61\n",
      "8321114 전북외국어고등학교\n",
      "급식 정보 조회 중: 날짜=20250618\n"
     ]
    },
    {
     "name": "stderr",
     "output_type": "stream",
     "text": [
      "고등학교 급식 조회:  64%|███████████████████████████████▉                  | 85/133 [00:20<00:11,  4.04it/s]"
     ]
    },
    {
     "name": "stdout",
     "output_type": "stream",
     "text": [
      "mealService 응답코드: 200\n",
      "급식 데이터 수: 58\n",
      "8321187 전북유니텍고등학교\n",
      "급식 정보 조회 중: 날짜=20250618\n"
     ]
    },
    {
     "name": "stderr",
     "output_type": "stream",
     "text": [
      "고등학교 급식 조회:  65%|████████████████████████████████▎                 | 86/133 [00:20<00:11,  4.16it/s]"
     ]
    },
    {
     "name": "stdout",
     "output_type": "stream",
     "text": [
      "mealService 응답코드: 200\n",
      "급식 데이터 수: 54\n",
      "8321270 전북인공지능고등학교\n",
      "급식 정보 조회 중: 날짜=20250618\n"
     ]
    },
    {
     "name": "stderr",
     "output_type": "stream",
     "text": [
      "고등학교 급식 조회:  65%|████████████████████████████████▋                 | 87/133 [00:20<00:11,  4.12it/s]"
     ]
    },
    {
     "name": "stdout",
     "output_type": "stream",
     "text": [
      "mealService 응답코드: 200\n",
      "급식 데이터 수: 62\n",
      "8321133 전북제일고등학교\n",
      "급식 정보 조회 중: 날짜=20250618\n"
     ]
    },
    {
     "name": "stderr",
     "output_type": "stream",
     "text": [
      "고등학교 급식 조회:  66%|█████████████████████████████████                 | 88/133 [00:20<00:11,  3.97it/s]"
     ]
    },
    {
     "name": "stdout",
     "output_type": "stream",
     "text": [
      "mealService 응답코드: 200\n",
      "급식 데이터 수: 62\n",
      "8321171 전북체육고등학교\n",
      "급식 정보 조회 중: 날짜=20250618\n"
     ]
    },
    {
     "name": "stderr",
     "output_type": "stream",
     "text": [
      "고등학교 급식 조회:  67%|█████████████████████████████████▍                | 89/133 [00:21<00:10,  4.10it/s]"
     ]
    },
    {
     "name": "stdout",
     "output_type": "stream",
     "text": [
      "mealService 응답코드: 200\n",
      "급식 데이터 수: 56\n",
      "8321234 전북펫고등학교\n",
      "급식 정보 조회 중: 날짜=20250618\n"
     ]
    },
    {
     "name": "stderr",
     "output_type": "stream",
     "text": [
      "고등학교 급식 조회:  68%|█████████████████████████████████▊                | 90/133 [00:21<00:09,  4.34it/s]"
     ]
    },
    {
     "name": "stdout",
     "output_type": "stream",
     "text": [
      "mealService 응답코드: 200\n",
      "급식 데이터 수: 21\n",
      "8321097 전일고등학교\n",
      "급식 정보 조회 중: 날짜=20250618\n"
     ]
    },
    {
     "name": "stderr",
     "output_type": "stream",
     "text": [
      "고등학교 급식 조회:  68%|██████████████████████████████████▏               | 91/133 [00:21<00:09,  4.43it/s]"
     ]
    },
    {
     "name": "stdout",
     "output_type": "stream",
     "text": [
      "mealService 응답코드: 200\n",
      "급식 데이터 수: 55\n",
      "8321079 전주고등학교\n",
      "급식 정보 조회 중: 날짜=20250618\n"
     ]
    },
    {
     "name": "stderr",
     "output_type": "stream",
     "text": [
      "고등학교 급식 조회:  69%|██████████████████████████████████▌               | 92/133 [00:21<00:09,  4.35it/s]"
     ]
    },
    {
     "name": "stdout",
     "output_type": "stream",
     "text": [
      "mealService 응답코드: 200\n",
      "급식 데이터 수: 60\n",
      "8321088 전주공업고등학교\n",
      "급식 정보 조회 중: 날짜=20250618\n"
     ]
    },
    {
     "name": "stderr",
     "output_type": "stream",
     "text": [
      "고등학교 급식 조회:  70%|██████████████████████████████████▉               | 93/133 [00:21<00:09,  4.25it/s]"
     ]
    },
    {
     "name": "stdout",
     "output_type": "stream",
     "text": [
      "mealService 응답코드: 200\n",
      "급식 데이터 수: 58\n",
      "8321098 전주근영여자고등학교\n",
      "급식 정보 조회 중: 날짜=20250618\n"
     ]
    },
    {
     "name": "stderr",
     "output_type": "stream",
     "text": [
      "고등학교 급식 조회:  71%|███████████████████████████████████▎              | 94/133 [00:22<00:09,  4.22it/s]"
     ]
    },
    {
     "name": "stdout",
     "output_type": "stream",
     "text": [
      "mealService 응답코드: 200\n",
      "급식 데이터 수: 63\n",
      "8321099 전주기전여자고등학교\n",
      "급식 정보 조회 중: 날짜=20250618\n"
     ]
    },
    {
     "name": "stderr",
     "output_type": "stream",
     "text": [
      "고등학교 급식 조회:  71%|███████████████████████████████████▋              | 95/133 [00:22<00:09,  4.07it/s]"
     ]
    },
    {
     "name": "stdout",
     "output_type": "stream",
     "text": [
      "mealService 응답코드: 200\n",
      "급식 데이터 수: 69\n",
      "8321091 전주대학교사범대학부설고등학교\n",
      "급식 정보 조회 중: 날짜=20250618\n"
     ]
    },
    {
     "name": "stderr",
     "output_type": "stream",
     "text": [
      "고등학교 급식 조회:  72%|████████████████████████████████████              | 96/133 [00:22<00:08,  4.21it/s]"
     ]
    },
    {
     "name": "stdout",
     "output_type": "stream",
     "text": [
      "mealService 응답코드: 200\n",
      "급식 데이터 수: 63\n",
      "8321087 전주상업정보고등학교\n",
      "급식 정보 조회 중: 날짜=20250618\n"
     ]
    },
    {
     "name": "stderr",
     "output_type": "stream",
     "text": [
      "고등학교 급식 조회:  73%|████████████████████████████████████▍             | 97/133 [00:22<00:08,  4.36it/s]"
     ]
    },
    {
     "name": "stdout",
     "output_type": "stream",
     "text": [
      "mealService 응답코드: 200\n",
      "급식 데이터 수: 20\n",
      "8321085 전주생명과학고등학교\n",
      "급식 정보 조회 중: 날짜=20250618\n",
      "mealService 응답코드: 200\n",
      "급식 데이터 수: 20\n"
     ]
    },
    {
     "name": "stderr",
     "output_type": "stream",
     "text": [
      "고등학교 급식 조회:  74%|████████████████████████████████████▊             | 98/133 [00:23<00:07,  4.56it/s]"
     ]
    },
    {
     "name": "stdout",
     "output_type": "stream",
     "text": [
      "8321100 전주성심여자고등학교\n",
      "급식 정보 조회 중: 날짜=20250618\n",
      "mealService 응답코드: 200\n",
      "급식 데이터 수: 40\n"
     ]
    },
    {
     "name": "stderr",
     "output_type": "stream",
     "text": [
      "고등학교 급식 조회:  74%|█████████████████████████████████████▏            | 99/133 [00:23<00:07,  4.61it/s]"
     ]
    },
    {
     "name": "stdout",
     "output_type": "stream",
     "text": [
      "8321082 전주솔내고등학교\n",
      "급식 정보 조회 중: 날짜=20250618\n",
      "mealService 응답코드: 200\n",
      "급식 데이터 수: 61\n"
     ]
    },
    {
     "name": "stderr",
     "output_type": "stream",
     "text": [
      "고등학교 급식 조회:  75%|████████████████████████████████████▊            | 100/133 [00:23<00:07,  4.66it/s]"
     ]
    },
    {
     "name": "stdout",
     "output_type": "stream",
     "text": [
      "8321101 전주신흥고등학교\n",
      "급식 정보 조회 중: 날짜=20250618\n",
      "mealService 응답코드: 200\n",
      "급식 데이터 수: 66\n"
     ]
    },
    {
     "name": "stderr",
     "output_type": "stream",
     "text": [
      "고등학교 급식 조회:  76%|█████████████████████████████████████▏           | 101/133 [00:23<00:07,  4.57it/s]"
     ]
    },
    {
     "name": "stdout",
     "output_type": "stream",
     "text": [
      "8321081 전주여자고등학교\n",
      "급식 정보 조회 중: 날짜=20250618\n",
      "mealService 응답코드: 200\n",
      "급식 데이터 수: 60\n"
     ]
    },
    {
     "name": "stderr",
     "output_type": "stream",
     "text": [
      "고등학교 급식 조회:  77%|█████████████████████████████████████▌           | 102/133 [00:23<00:07,  4.42it/s]"
     ]
    },
    {
     "name": "stdout",
     "output_type": "stream",
     "text": [
      "8321102 전주영생고등학교\n",
      "급식 정보 조회 중: 날짜=20250618\n",
      "mealService 응답코드: 200\n",
      "급식 데이터 수: 42\n"
     ]
    },
    {
     "name": "stderr",
     "output_type": "stream",
     "text": [
      "고등학교 급식 조회:  77%|█████████████████████████████████████▉           | 103/133 [00:24<00:06,  4.35it/s]"
     ]
    },
    {
     "name": "stdout",
     "output_type": "stream",
     "text": [
      "8321174 전주예술고등학교\n",
      "급식 정보 조회 중: 날짜=20250618\n"
     ]
    },
    {
     "name": "stderr",
     "output_type": "stream",
     "text": [
      "고등학교 급식 조회:  78%|██████████████████████████████████████▎          | 104/133 [00:24<00:07,  3.87it/s]"
     ]
    },
    {
     "name": "stdout",
     "output_type": "stream",
     "text": [
      "mealService 응답코드: 200\n",
      "급식 데이터 수: 61\n",
      "8321086 전주제일고등학교\n",
      "급식 정보 조회 중: 날짜=20250618\n"
     ]
    },
    {
     "name": "stderr",
     "output_type": "stream",
     "text": [
      "고등학교 급식 조회:  79%|██████████████████████████████████████▋          | 105/133 [00:24<00:07,  3.95it/s]"
     ]
    },
    {
     "name": "stdout",
     "output_type": "stream",
     "text": [
      "mealService 응답코드: 200\n",
      "급식 데이터 수: 63\n",
      "8321103 전주중앙여자고등학교\n",
      "급식 정보 조회 중: 날짜=20250618\n"
     ]
    },
    {
     "name": "stderr",
     "output_type": "stream",
     "text": [
      "고등학교 급식 조회:  80%|███████████████████████████████████████          | 106/133 [00:25<00:06,  4.16it/s]"
     ]
    },
    {
     "name": "stdout",
     "output_type": "stream",
     "text": [
      "mealService 응답코드: 200\n",
      "급식 데이터 수: 41\n",
      "8321104 전주한일고등학교\n",
      "급식 정보 조회 중: 날짜=20250618\n"
     ]
    },
    {
     "name": "stderr",
     "output_type": "stream",
     "text": [
      "고등학교 급식 조회:  80%|███████████████████████████████████████▍         | 107/133 [00:25<00:06,  4.00it/s]"
     ]
    },
    {
     "name": "stdout",
     "output_type": "stream",
     "text": [
      "mealService 응답코드: 200\n",
      "급식 데이터 수: 66\n",
      "8321105 전주해성고등학교\n",
      "급식 정보 조회 중: 날짜=20250618\n"
     ]
    },
    {
     "name": "stderr",
     "output_type": "stream",
     "text": [
      "고등학교 급식 조회:  81%|███████████████████████████████████████▊         | 108/133 [00:25<00:06,  3.97it/s]"
     ]
    },
    {
     "name": "stdout",
     "output_type": "stream",
     "text": [
      "mealService 응답코드: 200\n",
      "급식 데이터 수: 39\n",
      "8321136 정읍고등학교\n",
      "급식 정보 조회 중: 날짜=20250618\n"
     ]
    },
    {
     "name": "stderr",
     "output_type": "stream",
     "text": [
      "고등학교 급식 조회:  82%|████████████████████████████████████████▏        | 109/133 [00:25<00:06,  4.00it/s]"
     ]
    },
    {
     "name": "stdout",
     "output_type": "stream",
     "text": [
      "mealService 응답코드: 200\n",
      "급식 데이터 수: 61\n",
      "8321137 정읍여자고등학교\n",
      "급식 정보 조회 중: 날짜=20250618\n"
     ]
    },
    {
     "name": "stderr",
     "output_type": "stream",
     "text": [
      "고등학교 급식 조회:  83%|████████████████████████████████████████▌        | 110/133 [00:26<00:05,  3.94it/s]"
     ]
    },
    {
     "name": "stdout",
     "output_type": "stream",
     "text": [
      "mealService 응답코드: 200\n",
      "급식 데이터 수: 60\n",
      "8321138 정읍제일고등학교\n",
      "급식 정보 조회 중: 날짜=20250618\n",
      "mealService 응답코드: 200\n",
      "급식 데이터 수: 19\n"
     ]
    },
    {
     "name": "stderr",
     "output_type": "stream",
     "text": [
      "고등학교 급식 조회:  83%|████████████████████████████████████████▉        | 111/133 [00:26<00:05,  4.28it/s]"
     ]
    },
    {
     "name": "stdout",
     "output_type": "stream",
     "text": [
      "8321145 정주고등학교\n",
      "급식 정보 조회 중: 날짜=20250618\n",
      "mealService 응답코드: 200\n",
      "급식 데이터 수: 62\n"
     ]
    },
    {
     "name": "stderr",
     "output_type": "stream",
     "text": [
      "고등학교 급식 조회:  84%|█████████████████████████████████████████▎       | 112/133 [00:26<00:04,  4.23it/s]"
     ]
    },
    {
     "name": "stdout",
     "output_type": "stream",
     "text": [
      "8321204 줄포자동차공업고등학교\n",
      "급식 정보 조회 중: 날짜=20250618\n",
      "mealService 응답코드: 200\n",
      "급식 데이터 수: 56\n"
     ]
    },
    {
     "name": "stderr",
     "output_type": "stream",
     "text": [
      "고등학교 급식 조회:  85%|█████████████████████████████████████████▋       | 113/133 [00:26<00:04,  4.18it/s]"
     ]
    },
    {
     "name": "stdout",
     "output_type": "stream",
     "text": [
      "8321167 지평선고등학교\n",
      "급식 정보 조회 중: 날짜=20250618\n",
      "mealService 응답코드: 200\n",
      "급식 데이터 수: 54\n"
     ]
    },
    {
     "name": "stderr",
     "output_type": "stream",
     "text": [
      "고등학교 급식 조회:  86%|██████████████████████████████████████████▎      | 115/133 [00:27<00:04,  4.47it/s]"
     ]
    },
    {
     "name": "stdout",
     "output_type": "stream",
     "text": [
      "8321134 진경여자고등학교\n",
      "급식 정보 조회 중: 날짜=20250618\n",
      "mealService 응답코드: 200\n",
      "급식 데이터 수: 20\n",
      "8321177 진안제일고등학교\n",
      "급식 정보 조회 중: 날짜=20250618\n",
      "mealService 응답코드: 200\n",
      "급식 데이터 수: 56\n"
     ]
    },
    {
     "name": "stderr",
     "output_type": "stream",
     "text": [
      "고등학교 급식 조회:  87%|██████████████████████████████████████████▋      | 116/133 [00:27<00:03,  4.27it/s]"
     ]
    },
    {
     "name": "stdout",
     "output_type": "stream",
     "text": [
      "8321139 칠보고등학교\n",
      "급식 정보 조회 중: 날짜=20250618\n",
      "mealService 응답코드: 200\n",
      "급식 데이터 수: 21\n"
     ]
    },
    {
     "name": "stderr",
     "output_type": "stream",
     "text": [
      "고등학교 급식 조회:  88%|███████████████████████████████████████████      | 117/133 [00:27<00:03,  4.26it/s]"
     ]
    },
    {
     "name": "stdout",
     "output_type": "stream",
     "text": [
      "8321146 태인고등학교\n",
      "급식 정보 조회 중: 날짜=20250618\n",
      "mealService 응답코드: 200\n",
      "급식 데이터 수: 52\n"
     ]
    },
    {
     "name": "stderr",
     "output_type": "stream",
     "text": [
      "고등학교 급식 조회:  89%|███████████████████████████████████████████▍     | 118/133 [00:27<00:03,  4.10it/s]"
     ]
    },
    {
     "name": "stdout",
     "output_type": "stream",
     "text": [
      "8321185 푸른꿈고등학교\n",
      "급식 정보 조회 중: 날짜=20250618\n",
      "mealService 응답코드: 200\n",
      "급식 데이터 수: 68\n"
     ]
    },
    {
     "name": "stderr",
     "output_type": "stream",
     "text": [
      "고등학교 급식 조회:  89%|███████████████████████████████████████████▊     | 119/133 [00:28<00:03,  4.08it/s]"
     ]
    },
    {
     "name": "stdout",
     "output_type": "stream",
     "text": [
      "8321175 한국게임과학고등학교\n",
      "급식 정보 조회 중: 날짜=20250618\n",
      "mealService 응답코드: 200\n",
      "급식 데이터 수: 87\n"
     ]
    },
    {
     "name": "stderr",
     "output_type": "stream",
     "text": [
      "고등학교 급식 조회:  90%|████████████████████████████████████████████▏    | 120/133 [00:28<00:03,  3.83it/s]"
     ]
    },
    {
     "name": "stdout",
     "output_type": "stream",
     "text": [
      "8321153 한국경마축산고등학교\n",
      "급식 정보 조회 중: 날짜=20250618\n"
     ]
    },
    {
     "name": "stderr",
     "output_type": "stream",
     "text": [
      "고등학교 급식 조회:  91%|████████████████████████████████████████████▌    | 121/133 [00:28<00:03,  3.44it/s]"
     ]
    },
    {
     "name": "stdout",
     "output_type": "stream",
     "text": [
      "mealService 응답코드: 200\n",
      "급식 데이터 수: 79\n",
      "8321233 한국기술부사관고등학교\n",
      "급식 정보 조회 중: 날짜=20250618\n"
     ]
    },
    {
     "name": "stderr",
     "output_type": "stream",
     "text": [
      "고등학교 급식 조회:  92%|████████████████████████████████████████████▉    | 122/133 [00:29<00:03,  3.62it/s]"
     ]
    },
    {
     "name": "stdout",
     "output_type": "stream",
     "text": [
      "mealService 응답코드: 200\n",
      "급식 데이터 수: 58\n",
      "8321190 한국마사고등학교\n",
      "급식 정보 조회 중: 날짜=20250618\n"
     ]
    },
    {
     "name": "stderr",
     "output_type": "stream",
     "text": [
      "고등학교 급식 조회:  92%|█████████████████████████████████████████████▎   | 123/133 [00:29<00:02,  3.76it/s]"
     ]
    },
    {
     "name": "stdout",
     "output_type": "stream",
     "text": [
      "mealService 응답코드: 200\n",
      "급식 데이터 수: 62\n",
      "8321084 한국전통문화고등학교\n",
      "급식 정보 조회 중: 날짜=20250618\n"
     ]
    },
    {
     "name": "stderr",
     "output_type": "stream",
     "text": [
      "고등학교 급식 조회:  93%|█████████████████████████████████████████████▋   | 124/133 [00:29<00:02,  3.75it/s]"
     ]
    },
    {
     "name": "stdout",
     "output_type": "stream",
     "text": [
      "mealService 응답코드: 200\n",
      "급식 데이터 수: 59\n",
      "8321193 한국치즈과학고등학교\n",
      "급식 정보 조회 중: 날짜=20250618\n"
     ]
    },
    {
     "name": "stderr",
     "output_type": "stream",
     "text": [
      "고등학교 급식 조회:  94%|██████████████████████████████████████████████   | 125/133 [00:29<00:02,  3.90it/s]"
     ]
    },
    {
     "name": "stdout",
     "output_type": "stream",
     "text": [
      "mealService 응답코드: 200\n",
      "급식 데이터 수: 56\n",
      "8321180 한국한방고등학교\n",
      "급식 정보 조회 중: 날짜=20250618\n"
     ]
    },
    {
     "name": "stderr",
     "output_type": "stream",
     "text": [
      "고등학교 급식 조회:  95%|██████████████████████████████████████████████▍  | 126/133 [00:30<00:01,  4.00it/s]"
     ]
    },
    {
     "name": "stdout",
     "output_type": "stream",
     "text": [
      "mealService 응답코드: 200\n",
      "급식 데이터 수: 70\n",
      "8321113 한들고등학교\n",
      "급식 정보 조회 중: 날짜=20250618\n"
     ]
    },
    {
     "name": "stderr",
     "output_type": "stream",
     "text": [
      "고등학교 급식 조회:  95%|██████████████████████████████████████████████▊  | 127/133 [00:30<00:01,  4.20it/s]"
     ]
    },
    {
     "name": "stdout",
     "output_type": "stream",
     "text": [
      "mealService 응답코드: 200\n",
      "급식 데이터 수: 21\n",
      "8321169 한별고등학교\n",
      "급식 정보 조회 중: 날짜=20250618\n"
     ]
    },
    {
     "name": "stderr",
     "output_type": "stream",
     "text": [
      "고등학교 급식 조회:  96%|███████████████████████████████████████████████▏ | 128/133 [00:30<00:01,  4.33it/s]"
     ]
    },
    {
     "name": "stdout",
     "output_type": "stream",
     "text": [
      "mealService 응답코드: 200\n",
      "급식 데이터 수: 58\n",
      "8321123 함열고등학교\n",
      "급식 정보 조회 중: 날짜=20250618\n"
     ]
    },
    {
     "name": "stderr",
     "output_type": "stream",
     "text": [
      "고등학교 급식 조회:  97%|███████████████████████████████████████████████▌ | 129/133 [00:30<00:00,  4.42it/s]"
     ]
    },
    {
     "name": "stdout",
     "output_type": "stream",
     "text": [
      "mealService 응답코드: 200\n",
      "급식 데이터 수: 21\n",
      "8321135 함열여자고등학교\n",
      "급식 정보 조회 중: 날짜=20250618\n"
     ]
    },
    {
     "name": "stderr",
     "output_type": "stream",
     "text": [
      "고등학교 급식 조회:  98%|███████████████████████████████████████████████▉ | 130/133 [00:30<00:00,  4.46it/s]"
     ]
    },
    {
     "name": "stdout",
     "output_type": "stream",
     "text": [
      "mealService 응답코드: 200\n",
      "급식 데이터 수: 65\n",
      "8321198 해리고등학교\n",
      "급식 정보 조회 중: 날짜=20250618\n"
     ]
    },
    {
     "name": "stderr",
     "output_type": "stream",
     "text": [
      "고등학교 급식 조회:  98%|████████████████████████████████████████████████▎| 131/133 [00:31<00:00,  4.36it/s]"
     ]
    },
    {
     "name": "stdout",
     "output_type": "stream",
     "text": [
      "mealService 응답코드: 200\n",
      "급식 데이터 수: 20\n",
      "8321148 호남고등학교\n",
      "급식 정보 조회 중: 날짜=20250618\n"
     ]
    },
    {
     "name": "stderr",
     "output_type": "stream",
     "text": [
      "고등학교 급식 조회:  99%|████████████████████████████████████████████████▋| 132/133 [00:31<00:00,  4.34it/s]"
     ]
    },
    {
     "name": "stdout",
     "output_type": "stream",
     "text": [
      "mealService 응답코드: 200\n",
      "급식 데이터 수: 68\n",
      "8321106 호남제일고등학교\n",
      "급식 정보 조회 중: 날짜=20250618\n"
     ]
    },
    {
     "name": "stderr",
     "output_type": "stream",
     "text": [
      "고등학교 급식 조회: 100%|█████████████████████████████████████████████████| 133/133 [00:31<00:00,  4.21it/s]"
     ]
    },
    {
     "name": "stdout",
     "output_type": "stream",
     "text": [
      "mealService 응답코드: 200\n",
      "급식 데이터 수: 59\n",
      "수집된 급식 행 수: 50407\n",
      "수집된 전체 급식 행 수: 50407\n",
      "  교육청코드     학교코드     학교명      급식일자 식사명  \\\n",
      "0   B10  7010057  가락고등학교  20250519  중식   \n",
      "1   B10  7010057  가락고등학교  20250520  중식   \n",
      "2   B10  7010057  가락고등학교  20250521  중식   \n",
      "3   B10  7010057  가락고등학교  20250522  중식   \n",
      "4   B10  7010057  가락고등학교  20250523  중식   \n",
      "\n",
      "                                                급식식단  \n",
      "0  쌀밥 <br/>소고기미역국 (2.5.6.15.16.18)<br/>돼지갈비찜 (5.6...  \n",
      "1  쇠고기콩나물밥 (5.6.16)<br/>물만두국 (1.2.5.6.10.15.16.18...  \n",
      "2  새우볶음밥 (1.5.6.8.9.13.18)<br/>씨앗호떡파이 (1.2.3.5.6)...  \n",
      "3  쌀밥 <br/>볶음우동 (5.6.8.9.13.15.17.18)<br/>zero초코파...  \n",
      "4  현미밥 <br/>어묵국 (1.2.5.6.15.16.18)<br/>마라찜닭 (5.6....  \n"
     ]
    },
    {
     "name": "stderr",
     "output_type": "stream",
     "text": [
      "\n"
     ]
    },
    {
     "name": "stdout",
     "output_type": "stream",
     "text": [
      "응답코드 : 200\n"
     ]
    },
    {
     "name": "stderr",
     "output_type": "stream",
     "text": [
      "고등학교 급식 조회:   0%|                                                           | 0/143 [00:00<?, ?it/s]"
     ]
    },
    {
     "name": "stdout",
     "output_type": "stream",
     "text": [
      "8490032 강진고등학교\n",
      "급식 정보 조회 중: 날짜=20250618\n",
      "mealService 응답코드: 200\n",
      "급식 데이터 수: 63\n"
     ]
    },
    {
     "name": "stderr",
     "output_type": "stream",
     "text": [
      "고등학교 급식 조회:   1%|▎                                                  | 1/143 [00:00<00:34,  4.18it/s]"
     ]
    },
    {
     "name": "stdout",
     "output_type": "stream",
     "text": [
      "8490245 고금고등학교\n",
      "급식 정보 조회 중: 날짜=20250618\n",
      "mealService 응답코드: 200\n",
      "급식 데이터 수: 36\n"
     ]
    },
    {
     "name": "stderr",
     "output_type": "stream",
     "text": [
      "고등학교 급식 조회:   1%|▋                                                  | 2/143 [00:00<00:33,  4.26it/s]"
     ]
    },
    {
     "name": "stdout",
     "output_type": "stream",
     "text": [
      "8490033 고흥고등학교\n",
      "급식 정보 조회 중: 날짜=20250618\n",
      "mealService 응답코드: 200\n",
      "급식 데이터 수: 58\n"
     ]
    },
    {
     "name": "stderr",
     "output_type": "stream",
     "text": [
      "고등학교 급식 조회:   2%|█                                                  | 3/143 [00:00<00:33,  4.19it/s]"
     ]
    },
    {
     "name": "stdout",
     "output_type": "stream",
     "text": [
      "8490222 고흥도화고등학교\n",
      "급식 정보 조회 중: 날짜=20250618\n",
      "mealService 응답코드: 200\n",
      "급식 데이터 수: 58\n"
     ]
    },
    {
     "name": "stderr",
     "output_type": "stream",
     "text": [
      "고등학교 급식 조회:   3%|█▍                                                 | 4/143 [00:00<00:33,  4.18it/s]"
     ]
    },
    {
     "name": "stdout",
     "output_type": "stream",
     "text": [
      "8490323 고흥산업과학고등학교\n",
      "급식 정보 조회 중: 날짜=20250618\n",
      "mealService 응답코드: 200\n",
      "급식 데이터 수: 58\n"
     ]
    },
    {
     "name": "stderr",
     "output_type": "stream",
     "text": [
      "고등학교 급식 조회:   3%|█▊                                                 | 5/143 [00:01<00:33,  4.12it/s]"
     ]
    },
    {
     "name": "stdout",
     "output_type": "stream",
     "text": [
      "8490035 곡성고등학교\n",
      "급식 정보 조회 중: 날짜=20250618\n",
      "mealService 응답코드: 200\n",
      "급식 데이터 수: 52\n"
     ]
    },
    {
     "name": "stderr",
     "output_type": "stream",
     "text": [
      "고등학교 급식 조회:   4%|██▏                                                | 6/143 [00:01<00:35,  3.91it/s]"
     ]
    },
    {
     "name": "stdout",
     "output_type": "stream",
     "text": [
      "8490077 광남고등학교\n",
      "급식 정보 조회 중: 날짜=20250618\n"
     ]
    },
    {
     "name": "stderr",
     "output_type": "stream",
     "text": [
      "고등학교 급식 조회:   5%|██▍                                                | 7/143 [00:01<00:43,  3.16it/s]"
     ]
    },
    {
     "name": "stdout",
     "output_type": "stream",
     "text": [
      "mealService 응답코드: 200\n",
      "급식 데이터 수: 66\n",
      "8490037 광양고등학교\n",
      "급식 정보 조회 중: 날짜=20250618\n"
     ]
    },
    {
     "name": "stderr",
     "output_type": "stream",
     "text": [
      "고등학교 급식 조회:   6%|██▊                                                | 8/143 [00:02<00:39,  3.39it/s]"
     ]
    },
    {
     "name": "stdout",
     "output_type": "stream",
     "text": [
      "mealService 응답코드: 200\n",
      "급식 데이터 수: 54\n",
      "8490243 광양백운고등학교\n",
      "급식 정보 조회 중: 날짜=20250618\n"
     ]
    },
    {
     "name": "stderr",
     "output_type": "stream",
     "text": [
      "고등학교 급식 조회:   6%|███▏                                               | 9/143 [00:02<00:39,  3.41it/s]"
     ]
    },
    {
     "name": "stdout",
     "output_type": "stream",
     "text": [
      "mealService 응답코드: 200\n",
      "급식 데이터 수: 57\n",
      "8490038 광양여자고등학교\n",
      "급식 정보 조회 중: 날짜=20250618\n"
     ]
    },
    {
     "name": "stderr",
     "output_type": "stream",
     "text": [
      "고등학교 급식 조회:   7%|███▍                                              | 10/143 [00:02<00:36,  3.63it/s]"
     ]
    },
    {
     "name": "stdout",
     "output_type": "stream",
     "text": [
      "mealService 응답코드: 200\n",
      "급식 데이터 수: 54\n",
      "8490078 광양제철고등학교\n",
      "급식 정보 조회 중: 날짜=20250618\n"
     ]
    },
    {
     "name": "stderr",
     "output_type": "stream",
     "text": [
      "고등학교 급식 조회:   8%|███▊                                              | 11/143 [00:03<00:43,  3.01it/s]"
     ]
    },
    {
     "name": "stdout",
     "output_type": "stream",
     "text": [
      "mealService 응답코드: 200\n",
      "급식 데이터 수: 83\n",
      "8490433 광양하이텍고등학교\n",
      "급식 정보 조회 중: 날짜=20250618\n",
      "mealService 응답코드: 200\n",
      "급식 데이터 수: 21\n"
     ]
    },
    {
     "name": "stderr",
     "output_type": "stream",
     "text": [
      "고등학교 급식 조회:   8%|████▏                                             | 12/143 [00:03<00:37,  3.51it/s]"
     ]
    },
    {
     "name": "stdout",
     "output_type": "stream",
     "text": [
      "8490299 광영고등학교\n",
      "급식 정보 조회 중: 날짜=20250618\n",
      "mealService 응답코드: 200\n",
      "급식 데이터 수: 61\n"
     ]
    },
    {
     "name": "stderr",
     "output_type": "stream",
     "text": [
      "고등학교 급식 조회:   9%|████▌                                             | 13/143 [00:03<00:35,  3.69it/s]"
     ]
    },
    {
     "name": "stdout",
     "output_type": "stream",
     "text": [
      "8490039 구례고등학교\n",
      "급식 정보 조회 중: 날짜=20250618\n",
      "mealService 응답코드: 200\n",
      "급식 데이터 수: 62\n"
     ]
    },
    {
     "name": "stderr",
     "output_type": "stream",
     "text": [
      "고등학교 급식 조회:  10%|████▉                                             | 14/143 [00:03<00:33,  3.86it/s]"
     ]
    },
    {
     "name": "stdout",
     "output_type": "stream",
     "text": [
      "8490120 구림공업고등학교\n",
      "급식 정보 조회 중: 날짜=20250618\n",
      "mealService 응답코드: 200\n",
      "급식 데이터 수: 58\n"
     ]
    },
    {
     "name": "stderr",
     "output_type": "stream",
     "text": [
      "고등학교 급식 조회:  10%|█████▏                                            | 15/143 [00:04<00:32,  3.97it/s]"
     ]
    },
    {
     "name": "stdout",
     "output_type": "stream",
     "text": [
      "8490079 금성고등학교\n",
      "급식 정보 조회 중: 날짜=20250618\n",
      "mealService 응답코드: 200\n",
      "급식 데이터 수: 63\n"
     ]
    },
    {
     "name": "stderr",
     "output_type": "stream",
     "text": [
      "고등학교 급식 조회:  11%|█████▌                                            | 16/143 [00:04<00:32,  3.94it/s]"
     ]
    },
    {
     "name": "stdout",
     "output_type": "stream",
     "text": [
      "8490040 나주고등학교\n",
      "급식 정보 조회 중: 날짜=20250618\n",
      "mealService 응답코드: 200\n",
      "급식 데이터 수: 62\n"
     ]
    },
    {
     "name": "stderr",
     "output_type": "stream",
     "text": [
      "고등학교 급식 조회:  12%|█████▉                                            | 17/143 [00:04<00:32,  3.89it/s]"
     ]
    },
    {
     "name": "stdout",
     "output_type": "stream",
     "text": [
      "8490169 나주공업고등학교\n",
      "급식 정보 조회 중: 날짜=20250618\n",
      "mealService 응답코드: 200\n",
      "급식 데이터 수: 60\n"
     ]
    },
    {
     "name": "stderr",
     "output_type": "stream",
     "text": [
      "고등학교 급식 조회:  13%|██████▎                                           | 18/143 [00:04<00:31,  3.96it/s]"
     ]
    },
    {
     "name": "stdout",
     "output_type": "stream",
     "text": [
      "8490373 나주상업고등학교\n",
      "급식 정보 조회 중: 날짜=20250618\n",
      "mealService 응답코드: 200\n",
      "급식 데이터 수: 58\n"
     ]
    },
    {
     "name": "stderr",
     "output_type": "stream",
     "text": [
      "고등학교 급식 조회:  13%|██████▋                                           | 19/143 [00:05<00:30,  4.07it/s]"
     ]
    },
    {
     "name": "stdout",
     "output_type": "stream",
     "text": [
      "8490301 남악고등학교\n",
      "급식 정보 조회 중: 날짜=20250618\n",
      "mealService 응답코드: 200\n",
      "급식 데이터 수: 38\n"
     ]
    },
    {
     "name": "stderr",
     "output_type": "stream",
     "text": [
      "고등학교 급식 조회:  14%|██████▉                                           | 20/143 [00:05<00:29,  4.16it/s]"
     ]
    },
    {
     "name": "stdout",
     "output_type": "stream",
     "text": [
      "8490289 노화고등학교\n",
      "급식 정보 조회 중: 날짜=20250618\n",
      "mealService 응답코드: 200\n",
      "급식 데이터 수: 63\n"
     ]
    },
    {
     "name": "stderr",
     "output_type": "stream",
     "text": [
      "고등학교 급식 조회:  15%|███████▎                                          | 21/143 [00:05<00:29,  4.12it/s]"
     ]
    },
    {
     "name": "stdout",
     "output_type": "stream",
     "text": [
      "8490270 녹동고등학교\n",
      "급식 정보 조회 중: 날짜=20250618\n",
      "mealService 응답코드: 200\n",
      "급식 데이터 수: 63\n"
     ]
    },
    {
     "name": "stderr",
     "output_type": "stream",
     "text": [
      "고등학교 급식 조회:  15%|███████▋                                          | 22/143 [00:05<00:29,  4.11it/s]"
     ]
    },
    {
     "name": "stdout",
     "output_type": "stream",
     "text": [
      "8490081 능주고등학교\n",
      "급식 정보 조회 중: 날짜=20250618\n"
     ]
    },
    {
     "name": "stderr",
     "output_type": "stream",
     "text": [
      "고등학교 급식 조회:  16%|████████                                          | 23/143 [00:06<00:31,  3.82it/s]"
     ]
    },
    {
     "name": "stdout",
     "output_type": "stream",
     "text": [
      "mealService 응답코드: 200\n",
      "급식 데이터 수: 76\n",
      "8490375 다향고등학교\n",
      "급식 정보 조회 중: 날짜=20250618\n"
     ]
    },
    {
     "name": "stderr",
     "output_type": "stream",
     "text": [
      "고등학교 급식 조회:  17%|████████▍                                         | 24/143 [00:06<00:33,  3.57it/s]"
     ]
    },
    {
     "name": "stdout",
     "output_type": "stream",
     "text": [
      "mealService 응답코드: 200\n",
      "급식 데이터 수: 58\n",
      "8490209 담양고등학교\n",
      "급식 정보 조회 중: 날짜=20250618\n"
     ]
    },
    {
     "name": "stderr",
     "output_type": "stream",
     "text": [
      "고등학교 급식 조회:  17%|████████▋                                         | 25/143 [00:06<00:33,  3.53it/s]"
     ]
    },
    {
     "name": "stdout",
     "output_type": "stream",
     "text": [
      "mealService 응답코드: 200\n",
      "급식 데이터 수: 56\n",
      "8490124 담양공업고등학교\n",
      "급식 정보 조회 중: 날짜=20250618\n"
     ]
    },
    {
     "name": "stderr",
     "output_type": "stream",
     "text": [
      "고등학교 급식 조회:  18%|█████████                                         | 26/143 [00:07<00:34,  3.39it/s]"
     ]
    },
    {
     "name": "stdout",
     "output_type": "stream",
     "text": [
      "mealService 응답코드: 200\n",
      "급식 데이터 수: 56\n",
      "8490041 도초고등학교\n",
      "급식 정보 조회 중: 날짜=20250618\n"
     ]
    },
    {
     "name": "stderr",
     "output_type": "stream",
     "text": [
      "고등학교 급식 조회:  19%|█████████▍                                        | 27/143 [00:07<00:32,  3.60it/s]"
     ]
    },
    {
     "name": "stdout",
     "output_type": "stream",
     "text": [
      "mealService 응답코드: 200\n",
      "급식 데이터 수: 56\n",
      "8490320 매성고등학교\n",
      "급식 정보 조회 중: 날짜=20250618\n"
     ]
    },
    {
     "name": "stderr",
     "output_type": "stream",
     "text": [
      "고등학교 급식 조회:  20%|█████████▊                                        | 28/143 [00:07<00:31,  3.62it/s]"
     ]
    },
    {
     "name": "stdout",
     "output_type": "stream",
     "text": [
      "mealService 응답코드: 200\n",
      "급식 데이터 수: 40\n",
      "8490425 목상고등학교\n",
      "급식 정보 조회 중: 날짜=20250618\n"
     ]
    },
    {
     "name": "stderr",
     "output_type": "stream",
     "text": [
      "고등학교 급식 조회:  20%|██████████▏                                       | 29/143 [00:07<00:33,  3.39it/s]"
     ]
    },
    {
     "name": "stdout",
     "output_type": "stream",
     "text": [
      "mealService 응답코드: 200\n",
      "급식 데이터 수: 39\n",
      "8490043 목포고등학교\n",
      "급식 정보 조회 중: 날짜=20250618\n"
     ]
    },
    {
     "name": "stderr",
     "output_type": "stream",
     "text": [
      "고등학교 급식 조회:  21%|██████████▍                                       | 30/143 [00:08<00:36,  3.12it/s]"
     ]
    },
    {
     "name": "stdout",
     "output_type": "stream",
     "text": [
      "mealService 응답코드: 200\n",
      "급식 데이터 수: 63\n",
      "8490287 목포공업고등학교\n",
      "급식 정보 조회 중: 날짜=20250618\n"
     ]
    },
    {
     "name": "stderr",
     "output_type": "stream",
     "text": [
      "고등학교 급식 조회:  22%|██████████▊                                       | 31/143 [00:08<00:35,  3.13it/s]"
     ]
    },
    {
     "name": "stdout",
     "output_type": "stream",
     "text": [
      "mealService 응답코드: 200\n",
      "급식 데이터 수: 58\n",
      "8490082 목포덕인고등학교\n",
      "급식 정보 조회 중: 날짜=20250618\n"
     ]
    },
    {
     "name": "stderr",
     "output_type": "stream",
     "text": [
      "고등학교 급식 조회:  22%|███████████▏                                      | 32/143 [00:08<00:34,  3.25it/s]"
     ]
    },
    {
     "name": "stdout",
     "output_type": "stream",
     "text": [
      "mealService 응답코드: 200\n",
      "급식 데이터 수: 71\n",
      "8490083 목포마리아회고등학교\n",
      "급식 정보 조회 중: 날짜=20250618\n"
     ]
    },
    {
     "name": "stderr",
     "output_type": "stream",
     "text": [
      "고등학교 급식 조회:  23%|███████████▌                                      | 33/143 [00:09<00:33,  3.31it/s]"
     ]
    },
    {
     "name": "stdout",
     "output_type": "stream",
     "text": [
      "mealService 응답코드: 200\n",
      "급식 데이터 수: 55\n",
      "8490236 목포성신고등학교\n",
      "급식 정보 조회 중: 날짜=20250618\n",
      "mealService 응답코드: 200\n",
      "급식 데이터 수: 20\n"
     ]
    },
    {
     "name": "stderr",
     "output_type": "stream",
     "text": [
      "고등학교 급식 조회:  24%|███████████▉                                      | 34/143 [00:09<00:29,  3.72it/s]"
     ]
    },
    {
     "name": "stdout",
     "output_type": "stream",
     "text": [
      "8490044 목포여자고등학교\n",
      "급식 정보 조회 중: 날짜=20250618\n",
      "mealService 응답코드: 200\n",
      "급식 데이터 수: 40\n"
     ]
    },
    {
     "name": "stderr",
     "output_type": "stream",
     "text": [
      "고등학교 급식 조회:  24%|████████████▏                                     | 35/143 [00:09<00:28,  3.82it/s]"
     ]
    },
    {
     "name": "stdout",
     "output_type": "stream",
     "text": [
      "8490171 목포여자상업고등학교\n",
      "급식 정보 조회 중: 날짜=20250618\n",
      "mealService 응답코드: 200\n",
      "급식 데이터 수: 58\n"
     ]
    },
    {
     "name": "stderr",
     "output_type": "stream",
     "text": [
      "고등학교 급식 조회:  25%|████████████▌                                     | 36/143 [00:09<00:26,  3.98it/s]"
     ]
    },
    {
     "name": "stdout",
     "output_type": "stream",
     "text": [
      "8490085 목포정명여자고등학교\n",
      "급식 정보 조회 중: 날짜=20250618\n",
      "mealService 응답코드: 200\n",
      "급식 데이터 수: 67\n"
     ]
    },
    {
     "name": "stderr",
     "output_type": "stream",
     "text": [
      "고등학교 급식 조회:  26%|████████████▉                                     | 37/143 [00:10<00:27,  3.91it/s]"
     ]
    },
    {
     "name": "stdout",
     "output_type": "stream",
     "text": [
      "8490045 목포제일여자고등학교\n",
      "급식 정보 조회 중: 날짜=20250618\n",
      "mealService 응답코드: 200\n",
      "급식 데이터 수: 39\n"
     ]
    },
    {
     "name": "stderr",
     "output_type": "stream",
     "text": [
      "고등학교 급식 조회:  27%|█████████████▎                                    | 38/143 [00:10<00:26,  3.96it/s]"
     ]
    },
    {
     "name": "stdout",
     "output_type": "stream",
     "text": [
      "8490273 목포중앙고등학교\n",
      "급식 정보 조회 중: 날짜=20250618\n",
      "mealService 응답코드: 200\n",
      "급식 데이터 수: 58\n"
     ]
    },
    {
     "name": "stderr",
     "output_type": "stream",
     "text": [
      "고등학교 급식 조회:  27%|█████████████▋                                    | 39/143 [00:10<00:25,  4.11it/s]"
     ]
    },
    {
     "name": "stdout",
     "output_type": "stream",
     "text": [
      "8490086 목포혜인여자고등학교\n",
      "급식 정보 조회 중: 날짜=20250618\n",
      "mealService 응답코드: 200\n",
      "급식 데이터 수: 73\n"
     ]
    },
    {
     "name": "stderr",
     "output_type": "stream",
     "text": [
      "고등학교 급식 조회:  28%|█████████████▉                                    | 40/143 [00:10<00:26,  3.92it/s]"
     ]
    },
    {
     "name": "stdout",
     "output_type": "stream",
     "text": [
      "8490087 목포홍일고등학교\n",
      "급식 정보 조회 중: 날짜=20250618\n",
      "mealService 응답코드: 200\n",
      "급식 데이터 수: 74\n"
     ]
    },
    {
     "name": "stderr",
     "output_type": "stream",
     "text": [
      "고등학교 급식 조회:  29%|██████████████▎                                   | 41/143 [00:11<00:26,  3.78it/s]"
     ]
    },
    {
     "name": "stdout",
     "output_type": "stream",
     "text": [
      "8490223 무안고등학교\n",
      "급식 정보 조회 중: 날짜=20250618\n",
      "mealService 응답코드: 200\n",
      "급식 데이터 수: 63\n"
     ]
    },
    {
     "name": "stderr",
     "output_type": "stream",
     "text": [
      "고등학교 급식 조회:  29%|██████████████▋                                   | 42/143 [00:11<00:27,  3.72it/s]"
     ]
    },
    {
     "name": "stdout",
     "output_type": "stream",
     "text": [
      "8490088 문태고등학교\n",
      "급식 정보 조회 중: 날짜=20250618\n",
      "mealService 응답코드: 200\n",
      "급식 데이터 수: 41\n"
     ]
    },
    {
     "name": "stderr",
     "output_type": "stream",
     "text": [
      "고등학교 급식 조회:  30%|███████████████                                   | 43/143 [00:11<00:26,  3.73it/s]"
     ]
    },
    {
     "name": "stdout",
     "output_type": "stream",
     "text": [
      "8490288 문향고등학교\n",
      "급식 정보 조회 중: 날짜=20250618\n"
     ]
    },
    {
     "name": "stderr",
     "output_type": "stream",
     "text": [
      "고등학교 급식 조회:  31%|███████████████▍                                  | 44/143 [00:11<00:28,  3.53it/s]"
     ]
    },
    {
     "name": "stdout",
     "output_type": "stream",
     "text": [
      "mealService 응답코드: 200\n",
      "급식 데이터 수: 62\n",
      "8490213 백제고등학교\n",
      "급식 정보 조회 중: 날짜=20250618\n"
     ]
    },
    {
     "name": "stderr",
     "output_type": "stream",
     "text": [
      "고등학교 급식 조회:  31%|███████████████▋                                  | 45/143 [00:12<00:27,  3.58it/s]"
     ]
    },
    {
     "name": "stdout",
     "output_type": "stream",
     "text": [
      "mealService 응답코드: 200\n",
      "급식 데이터 수: 58\n",
      "8490089 벌교고등학교\n",
      "급식 정보 조회 중: 날짜=20250618\n"
     ]
    },
    {
     "name": "stderr",
     "output_type": "stream",
     "text": [
      "고등학교 급식 조회:  32%|████████████████                                  | 46/143 [00:12<00:27,  3.50it/s]"
     ]
    },
    {
     "name": "stdout",
     "output_type": "stream",
     "text": [
      "mealService 응답코드: 200\n",
      "급식 데이터 수: 69\n",
      "8490413 벌교상업고등학교\n",
      "급식 정보 조회 중: 날짜=20250618\n"
     ]
    },
    {
     "name": "stderr",
     "output_type": "stream",
     "text": [
      "고등학교 급식 조회:  33%|████████████████▍                                 | 47/143 [00:12<00:25,  3.71it/s]"
     ]
    },
    {
     "name": "stdout",
     "output_type": "stream",
     "text": [
      "mealService 응답코드: 200\n",
      "급식 데이터 수: 58\n",
      "8490090 벌교여자고등학교\n",
      "급식 정보 조회 중: 날짜=20250618\n"
     ]
    },
    {
     "name": "stderr",
     "output_type": "stream",
     "text": [
      "고등학교 급식 조회:  34%|████████████████▊                                 | 48/143 [00:12<00:23,  4.03it/s]"
     ]
    },
    {
     "name": "stdout",
     "output_type": "stream",
     "text": [
      "mealService 응답코드: 200\n",
      "급식 데이터 수: 20\n",
      "8490272 법성고등학교\n",
      "급식 정보 조회 중: 날짜=20250618\n"
     ]
    },
    {
     "name": "stderr",
     "output_type": "stream",
     "text": [
      "고등학교 급식 조회:  34%|█████████████████▏                                | 49/143 [00:13<00:23,  4.08it/s]"
     ]
    },
    {
     "name": "stdout",
     "output_type": "stream",
     "text": [
      "mealService 응답코드: 200\n",
      "급식 데이터 수: 52\n",
      "8490429 병영상업고등학교\n",
      "급식 정보 조회 중: 날짜=20250618\n"
     ]
    },
    {
     "name": "stderr",
     "output_type": "stream",
     "text": [
      "고등학교 급식 조회:  35%|█████████████████▍                                | 50/143 [00:13<00:21,  4.27it/s]"
     ]
    },
    {
     "name": "stdout",
     "output_type": "stream",
     "text": [
      "mealService 응답코드: 200\n",
      "급식 데이터 수: 37\n",
      "8490047 보성고등학교\n",
      "급식 정보 조회 중: 날짜=20250618\n"
     ]
    },
    {
     "name": "stderr",
     "output_type": "stream",
     "text": [
      "고등학교 급식 조회:  36%|█████████████████▊                                | 51/143 [00:13<00:22,  4.07it/s]"
     ]
    },
    {
     "name": "stdout",
     "output_type": "stream",
     "text": [
      "mealService 응답코드: 200\n",
      "급식 데이터 수: 63\n",
      "8490048 봉황고등학교\n",
      "급식 정보 조회 중: 날짜=20250618\n"
     ]
    },
    {
     "name": "stderr",
     "output_type": "stream",
     "text": [
      "고등학교 급식 조회:  36%|██████████████████▏                               | 52/143 [00:13<00:22,  4.03it/s]"
     ]
    },
    {
     "name": "stdout",
     "output_type": "stream",
     "text": [
      "mealService 응답코드: 200\n",
      "급식 데이터 수: 62\n",
      "8490049 부영여자고등학교\n",
      "급식 정보 조회 중: 날짜=20250618\n"
     ]
    },
    {
     "name": "stderr",
     "output_type": "stream",
     "text": [
      "고등학교 급식 조회:  37%|██████████████████▌                               | 53/143 [00:14<00:23,  3.83it/s]"
     ]
    },
    {
     "name": "stdout",
     "output_type": "stream",
     "text": [
      "mealService 응답코드: 200\n",
      "급식 데이터 수: 64\n",
      "8490576 삼계부사관고등학교\n",
      "급식 정보 조회 중: 날짜=20250618\n"
     ]
    },
    {
     "name": "stderr",
     "output_type": "stream",
     "text": [
      "고등학교 급식 조회:  38%|██████████████████▉                               | 54/143 [00:14<00:22,  3.95it/s]"
     ]
    },
    {
     "name": "stdout",
     "output_type": "stream",
     "text": [
      "mealService 응답코드: 200\n",
      "급식 데이터 수: 63\n",
      "8490340 삼호고등학교\n",
      "급식 정보 조회 중: 날짜=20250618\n"
     ]
    },
    {
     "name": "stderr",
     "output_type": "stream",
     "text": [
      "고등학교 급식 조회:  38%|███████████████████▏                              | 55/143 [00:14<00:23,  3.79it/s]"
     ]
    },
    {
     "name": "stdout",
     "output_type": "stream",
     "text": [
      "mealService 응답코드: 200\n",
      "급식 데이터 수: 58\n",
      "8490052 성전고등학교\n",
      "급식 정보 조회 중: 날짜=20250618\n"
     ]
    },
    {
     "name": "stderr",
     "output_type": "stream",
     "text": [
      "고등학교 급식 조회:  39%|███████████████████▌                              | 56/143 [00:15<00:23,  3.70it/s]"
     ]
    },
    {
     "name": "stdout",
     "output_type": "stream",
     "text": [
      "mealService 응답코드: 200\n",
      "급식 데이터 수: 45\n",
      "8490427 송지고등학교\n",
      "급식 정보 조회 중: 날짜=20250618\n"
     ]
    },
    {
     "name": "stderr",
     "output_type": "stream",
     "text": [
      "고등학교 급식 조회:  40%|███████████████████▉                              | 57/143 [00:15<00:25,  3.32it/s]"
     ]
    },
    {
     "name": "stdout",
     "output_type": "stream",
     "text": [
      "mealService 응답코드: 200\n",
      "급식 데이터 수: 58\n",
      "8490091 순천강남여자고등학교\n",
      "급식 정보 조회 중: 날짜=20250618\n"
     ]
    },
    {
     "name": "stderr",
     "output_type": "stream",
     "text": [
      "고등학교 급식 조회:  41%|████████████████████▎                             | 58/143 [00:15<00:24,  3.46it/s]"
     ]
    },
    {
     "name": "stdout",
     "output_type": "stream",
     "text": [
      "mealService 응답코드: 200\n",
      "급식 데이터 수: 38\n",
      "8490054 순천고등학교\n",
      "급식 정보 조회 중: 날짜=20250618\n"
     ]
    },
    {
     "name": "stderr",
     "output_type": "stream",
     "text": [
      "고등학교 급식 조회:  41%|████████████████████▋                             | 59/143 [00:15<00:23,  3.55it/s]"
     ]
    },
    {
     "name": "stdout",
     "output_type": "stream",
     "text": [
      "mealService 응답코드: 200\n",
      "급식 데이터 수: 63\n",
      "8490141 순천공업고등학교\n",
      "급식 정보 조회 중: 날짜=20250618\n"
     ]
    },
    {
     "name": "stderr",
     "output_type": "stream",
     "text": [
      "고등학교 급식 조회:  42%|████████████████████▉                             | 60/143 [00:16<00:23,  3.57it/s]"
     ]
    },
    {
     "name": "stdout",
     "output_type": "stream",
     "text": [
      "mealService 응답코드: 200\n",
      "급식 데이터 수: 57\n",
      "8490092 순천금당고등학교\n",
      "급식 정보 조회 중: 날짜=20250618\n"
     ]
    },
    {
     "name": "stderr",
     "output_type": "stream",
     "text": [
      "고등학교 급식 조회:  43%|█████████████████████▎                            | 61/143 [00:16<00:21,  3.78it/s]"
     ]
    },
    {
     "name": "stdout",
     "output_type": "stream",
     "text": [
      "mealService 응답코드: 200\n",
      "급식 데이터 수: 38\n",
      "8490093 순천매산고등학교\n",
      "급식 정보 조회 중: 날짜=20250618\n"
     ]
    },
    {
     "name": "stderr",
     "output_type": "stream",
     "text": [
      "고등학교 급식 조회:  43%|█████████████████████▋                            | 62/143 [00:16<00:20,  3.86it/s]"
     ]
    },
    {
     "name": "stdout",
     "output_type": "stream",
     "text": [
      "mealService 응답코드: 200\n",
      "급식 데이터 수: 63\n",
      "8490094 순천매산여자고등학교\n",
      "급식 정보 조회 중: 날짜=20250618\n"
     ]
    },
    {
     "name": "stderr",
     "output_type": "stream",
     "text": [
      "고등학교 급식 조회:  44%|██████████████████████                            | 63/143 [00:16<00:20,  3.83it/s]"
     ]
    },
    {
     "name": "stdout",
     "output_type": "stream",
     "text": [
      "mealService 응답코드: 200\n",
      "급식 데이터 수: 54\n",
      "8490519 순천미래과학고등학교\n",
      "급식 정보 조회 중: 날짜=20250618\n"
     ]
    },
    {
     "name": "stderr",
     "output_type": "stream",
     "text": [
      "고등학교 급식 조회:  45%|██████████████████████▍                           | 64/143 [00:17<00:19,  3.96it/s]"
     ]
    },
    {
     "name": "stdout",
     "output_type": "stream",
     "text": [
      "mealService 응답코드: 200\n",
      "급식 데이터 수: 59\n",
      "8490339 순천복성고등학교\n",
      "급식 정보 조회 중: 날짜=20250618\n"
     ]
    },
    {
     "name": "stderr",
     "output_type": "stream",
     "text": [
      "고등학교 급식 조회:  45%|██████████████████████▋                           | 65/143 [00:17<00:19,  3.98it/s]"
     ]
    },
    {
     "name": "stdout",
     "output_type": "stream",
     "text": [
      "mealService 응답코드: 200\n",
      "급식 데이터 수: 38\n",
      "8490055 순천여자고등학교\n",
      "급식 정보 조회 중: 날짜=20250618\n"
     ]
    },
    {
     "name": "stderr",
     "output_type": "stream",
     "text": [
      "고등학교 급식 조회:  46%|███████████████████████                           | 66/143 [00:17<00:18,  4.06it/s]"
     ]
    },
    {
     "name": "stdout",
     "output_type": "stream",
     "text": [
      "mealService 응답코드: 200\n",
      "급식 데이터 수: 57\n",
      "8490230 순천제일고등학교\n",
      "급식 정보 조회 중: 날짜=20250618\n"
     ]
    },
    {
     "name": "stderr",
     "output_type": "stream",
     "text": [
      "고등학교 급식 조회:  47%|███████████████████████▍                          | 67/143 [00:17<00:18,  4.12it/s]"
     ]
    },
    {
     "name": "stdout",
     "output_type": "stream",
     "text": [
      "mealService 응답코드: 200\n",
      "급식 데이터 수: 37\n",
      "8490235 순천청암고등학교\n",
      "급식 정보 조회 중: 날짜=20250618\n"
     ]
    },
    {
     "name": "stderr",
     "output_type": "stream",
     "text": [
      "고등학교 급식 조회:  48%|███████████████████████▊                          | 68/143 [00:18<00:17,  4.26it/s]"
     ]
    },
    {
     "name": "stdout",
     "output_type": "stream",
     "text": [
      "mealService 응답코드: 200\n",
      "급식 데이터 수: 36\n",
      "8490291 순천팔마고등학교\n",
      "급식 정보 조회 중: 날짜=20250618\n"
     ]
    },
    {
     "name": "stderr",
     "output_type": "stream",
     "text": [
      "고등학교 급식 조회:  48%|████████████████████████▏                         | 69/143 [00:18<00:17,  4.34it/s]"
     ]
    },
    {
     "name": "stdout",
     "output_type": "stream",
     "text": [
      "mealService 응답코드: 200\n",
      "급식 데이터 수: 38\n",
      "8490214 순천효산고등학교\n",
      "급식 정보 조회 중: 날짜=20250618\n"
     ]
    },
    {
     "name": "stderr",
     "output_type": "stream",
     "text": [
      "고등학교 급식 조회:  49%|████████████████████████▍                         | 70/143 [00:18<00:18,  4.05it/s]"
     ]
    },
    {
     "name": "stdout",
     "output_type": "stream",
     "text": [
      "mealService 응답코드: 200\n",
      "급식 데이터 수: 59\n",
      "8490095 순천효천고등학교\n",
      "급식 정보 조회 중: 날짜=20250618\n"
     ]
    },
    {
     "name": "stderr",
     "output_type": "stream",
     "text": [
      "고등학교 급식 조회:  50%|████████████████████████▊                         | 71/143 [00:18<00:18,  3.90it/s]"
     ]
    },
    {
     "name": "stdout",
     "output_type": "stream",
     "text": [
      "mealService 응답코드: 200\n",
      "급식 데이터 수: 55\n",
      "8490417 신안해양과학고등학교\n",
      "급식 정보 조회 중: 날짜=20250618\n"
     ]
    },
    {
     "name": "stderr",
     "output_type": "stream",
     "text": [
      "고등학교 급식 조회:  50%|█████████████████████████▏                        | 72/143 [00:19<00:17,  3.99it/s]"
     ]
    },
    {
     "name": "stdout",
     "output_type": "stream",
     "text": [
      "mealService 응답코드: 200\n",
      "급식 데이터 수: 58\n",
      "8490416 안좌고등학교\n",
      "급식 정보 조회 중: 날짜=20250618\n"
     ]
    },
    {
     "name": "stderr",
     "output_type": "stream",
     "text": [
      "고등학교 급식 조회:  51%|█████████████████████████▌                        | 73/143 [00:19<00:17,  4.05it/s]"
     ]
    },
    {
     "name": "stdout",
     "output_type": "stream",
     "text": [
      "mealService 응답코드: 200\n",
      "급식 데이터 수: 60\n",
      "8490056 약산고등학교\n",
      "급식 정보 조회 중: 날짜=20250618\n"
     ]
    },
    {
     "name": "stderr",
     "output_type": "stream",
     "text": [
      "고등학교 급식 조회:  52%|█████████████████████████▊                        | 74/143 [00:19<00:16,  4.15it/s]"
     ]
    },
    {
     "name": "stdout",
     "output_type": "stream",
     "text": [
      "mealService 응답코드: 200\n",
      "급식 데이터 수: 30\n",
      "8490057 여남고등학교\n",
      "급식 정보 조회 중: 날짜=20250618\n"
     ]
    },
    {
     "name": "stderr",
     "output_type": "stream",
     "text": [
      "고등학교 급식 조회:  52%|██████████████████████████▏                       | 75/143 [00:19<00:16,  4.09it/s]"
     ]
    },
    {
     "name": "stdout",
     "output_type": "stream",
     "text": [
      "mealService 응답코드: 200\n",
      "급식 데이터 수: 54\n",
      "8490058 여수고등학교\n",
      "급식 정보 조회 중: 날짜=20250618\n"
     ]
    },
    {
     "name": "stderr",
     "output_type": "stream",
     "text": [
      "고등학교 급식 조회:  53%|██████████████████████████▌                       | 76/143 [00:20<00:16,  4.06it/s]"
     ]
    },
    {
     "name": "stdout",
     "output_type": "stream",
     "text": [
      "mealService 응답코드: 200\n",
      "급식 데이터 수: 59\n",
      "8490177 여수공업고등학교\n",
      "급식 정보 조회 중: 날짜=20250618\n"
     ]
    },
    {
     "name": "stderr",
     "output_type": "stream",
     "text": [
      "고등학교 급식 조회:  54%|██████████████████████████▉                       | 77/143 [00:20<00:15,  4.17it/s]"
     ]
    },
    {
     "name": "stdout",
     "output_type": "stream",
     "text": [
      "mealService 응답코드: 200\n",
      "급식 데이터 수: 21\n",
      "8490411 여수석유화학고등학교\n",
      "급식 정보 조회 중: 날짜=20250618\n"
     ]
    },
    {
     "name": "stderr",
     "output_type": "stream",
     "text": [
      "고등학교 급식 조회:  55%|███████████████████████████▎                      | 78/143 [00:20<00:15,  4.10it/s]"
     ]
    },
    {
     "name": "stdout",
     "output_type": "stream",
     "text": [
      "mealService 응답코드: 200\n",
      "급식 데이터 수: 58\n",
      "8490059 여수여자고등학교\n",
      "급식 정보 조회 중: 날짜=20250618\n"
     ]
    },
    {
     "name": "stderr",
     "output_type": "stream",
     "text": [
      "고등학교 급식 조회:  55%|███████████████████████████▌                      | 79/143 [00:20<00:15,  4.08it/s]"
     ]
    },
    {
     "name": "stdout",
     "output_type": "stream",
     "text": [
      "mealService 응답코드: 200\n",
      "급식 데이터 수: 53\n",
      "8490212 여수정보과학고등학교\n",
      "급식 정보 조회 중: 날짜=20250618\n"
     ]
    },
    {
     "name": "stderr",
     "output_type": "stream",
     "text": [
      "고등학교 급식 조회:  56%|███████████████████████████▉                      | 80/143 [00:21<00:16,  3.73it/s]"
     ]
    },
    {
     "name": "stdout",
     "output_type": "stream",
     "text": [
      "mealService 응답코드: 200\n",
      "급식 데이터 수: 55\n",
      "8490096 여수중앙여자고등학교\n",
      "급식 정보 조회 중: 날짜=20250618\n"
     ]
    },
    {
     "name": "stderr",
     "output_type": "stream",
     "text": [
      "고등학교 급식 조회:  57%|████████████████████████████▎                     | 81/143 [00:21<00:17,  3.63it/s]"
     ]
    },
    {
     "name": "stdout",
     "output_type": "stream",
     "text": [
      "mealService 응답코드: 200\n",
      "급식 데이터 수: 40\n",
      "8490286 여수충무고등학교\n",
      "급식 정보 조회 중: 날짜=20250618\n"
     ]
    },
    {
     "name": "stderr",
     "output_type": "stream",
     "text": [
      "고등학교 급식 조회:  57%|████████████████████████████▋                     | 82/143 [00:21<00:17,  3.48it/s]"
     ]
    },
    {
     "name": "stdout",
     "output_type": "stream",
     "text": [
      "mealService 응답코드: 200\n",
      "급식 데이터 수: 61\n",
      "8490374 여수해양과학고등학교\n",
      "급식 정보 조회 중: 날짜=20250618\n"
     ]
    },
    {
     "name": "stderr",
     "output_type": "stream",
     "text": [
      "고등학교 급식 조회:  58%|█████████████████████████████                     | 83/143 [00:21<00:16,  3.63it/s]"
     ]
    },
    {
     "name": "stdout",
     "output_type": "stream",
     "text": [
      "mealService 응답코드: 200\n",
      "급식 데이터 수: 45\n",
      "8490215 여수화양고등학교\n",
      "급식 정보 조회 중: 날짜=20250618\n"
     ]
    },
    {
     "name": "stderr",
     "output_type": "stream",
     "text": [
      "고등학교 급식 조회:  59%|█████████████████████████████▎                    | 84/143 [00:22<00:16,  3.55it/s]"
     ]
    },
    {
     "name": "stdout",
     "output_type": "stream",
     "text": [
      "mealService 응답코드: 200\n",
      "급식 데이터 수: 53\n",
      "8490097 여양고등학교\n",
      "급식 정보 조회 중: 날짜=20250618\n"
     ]
    },
    {
     "name": "stderr",
     "output_type": "stream",
     "text": [
      "고등학교 급식 조회:  59%|█████████████████████████████▋                    | 85/143 [00:22<00:15,  3.68it/s]"
     ]
    },
    {
     "name": "stdout",
     "output_type": "stream",
     "text": [
      "mealService 응답코드: 200\n",
      "급식 데이터 수: 40\n",
      "8490060 여천고등학교\n",
      "급식 정보 조회 중: 날짜=20250618\n"
     ]
    },
    {
     "name": "stderr",
     "output_type": "stream",
     "text": [
      "고등학교 급식 조회:  60%|██████████████████████████████                    | 86/143 [00:22<00:14,  3.89it/s]"
     ]
    },
    {
     "name": "stdout",
     "output_type": "stream",
     "text": [
      "mealService 응답코드: 200\n",
      "급식 데이터 수: 39\n",
      "8490062 영광고등학교\n",
      "급식 정보 조회 중: 날짜=20250618\n"
     ]
    },
    {
     "name": "stderr",
     "output_type": "stream",
     "text": [
      "고등학교 급식 조회:  61%|██████████████████████████████▍                   | 87/143 [00:23<00:14,  3.76it/s]"
     ]
    },
    {
     "name": "stdout",
     "output_type": "stream",
     "text": [
      "mealService 응답코드: 200\n",
      "급식 데이터 수: 62\n",
      "8490428 영광공업고등학교\n",
      "급식 정보 조회 중: 날짜=20250618\n"
     ]
    },
    {
     "name": "stderr",
     "output_type": "stream",
     "text": [
      "고등학교 급식 조회:  62%|██████████████████████████████▊                   | 88/143 [00:23<00:13,  4.02it/s]"
     ]
    },
    {
     "name": "stdout",
     "output_type": "stream",
     "text": [
      "mealService 응답코드: 200\n",
      "급식 데이터 수: 52\n",
      "8490305 영광전자고등학교\n",
      "급식 정보 조회 중: 날짜=20250618\n"
     ]
    },
    {
     "name": "stderr",
     "output_type": "stream",
     "text": [
      "고등학교 급식 조회:  62%|███████████████████████████████                   | 89/143 [00:23<00:13,  4.14it/s]"
     ]
    },
    {
     "name": "stdout",
     "output_type": "stream",
     "text": [
      "mealService 응답코드: 200\n",
      "급식 데이터 수: 57\n",
      "8490325 영산고등학교\n",
      "급식 정보 조회 중: 날짜=20250618\n"
     ]
    },
    {
     "name": "stderr",
     "output_type": "stream",
     "text": [
      "고등학교 급식 조회:  63%|███████████████████████████████▍                  | 90/143 [00:23<00:13,  4.00it/s]"
     ]
    },
    {
     "name": "stdout",
     "output_type": "stream",
     "text": [
      "mealService 응답코드: 200\n",
      "급식 데이터 수: 77\n",
      "8490098 영산성지고등학교\n",
      "급식 정보 조회 중: 날짜=20250618\n"
     ]
    },
    {
     "name": "stderr",
     "output_type": "stream",
     "text": [
      "고등학교 급식 조회:  64%|███████████████████████████████▊                  | 91/143 [00:23<00:12,  4.07it/s]"
     ]
    },
    {
     "name": "stdout",
     "output_type": "stream",
     "text": [
      "mealService 응답코드: 200\n",
      "급식 데이터 수: 64\n",
      "8490063 영암고등학교\n",
      "급식 정보 조회 중: 날짜=20250618\n"
     ]
    },
    {
     "name": "stderr",
     "output_type": "stream",
     "text": [
      "고등학교 급식 조회:  64%|████████████████████████████████▏                 | 92/143 [00:24<00:12,  4.05it/s]"
     ]
    },
    {
     "name": "stdout",
     "output_type": "stream",
     "text": [
      "mealService 응답코드: 200\n",
      "급식 데이터 수: 58\n",
      "8490064 영암낭주고등학교\n",
      "급식 정보 조회 중: 날짜=20250618\n"
     ]
    },
    {
     "name": "stderr",
     "output_type": "stream",
     "text": [
      "고등학교 급식 조회:  65%|████████████████████████████████▌                 | 93/143 [00:24<00:12,  3.99it/s]"
     ]
    },
    {
     "name": "stdout",
     "output_type": "stream",
     "text": [
      "mealService 응답코드: 200\n",
      "급식 데이터 수: 57\n",
      "8490099 영암여자고등학교\n",
      "급식 정보 조회 중: 날짜=20250618\n"
     ]
    },
    {
     "name": "stderr",
     "output_type": "stream",
     "text": [
      "고등학교 급식 조회:  66%|████████████████████████████████▊                 | 94/143 [00:24<00:12,  3.97it/s]"
     ]
    },
    {
     "name": "stdout",
     "output_type": "stream",
     "text": [
      "mealService 응답코드: 200\n",
      "급식 데이터 수: 60\n",
      "8490100 영흥고등학교\n",
      "급식 정보 조회 중: 날짜=20250618\n"
     ]
    },
    {
     "name": "stderr",
     "output_type": "stream",
     "text": [
      "고등학교 급식 조회:  66%|█████████████████████████████████▏                | 95/143 [00:25<00:12,  3.81it/s]"
     ]
    },
    {
     "name": "stdout",
     "output_type": "stream",
     "text": [
      "mealService 응답코드: 200\n",
      "급식 데이터 수: 70\n",
      "8490101 예당고등학교\n",
      "급식 정보 조회 중: 날짜=20250618\n"
     ]
    },
    {
     "name": "stderr",
     "output_type": "stream",
     "text": [
      "고등학교 급식 조회:  67%|█████████████████████████████████▌                | 96/143 [00:25<00:12,  3.82it/s]"
     ]
    },
    {
     "name": "stdout",
     "output_type": "stream",
     "text": [
      "mealService 응답코드: 200\n",
      "급식 데이터 수: 59\n",
      "8490102 옥과고등학교\n",
      "급식 정보 조회 중: 날짜=20250618\n"
     ]
    },
    {
     "name": "stderr",
     "output_type": "stream",
     "text": [
      "고등학교 급식 조회:  68%|█████████████████████████████████▉                | 97/143 [00:25<00:11,  3.90it/s]"
     ]
    },
    {
     "name": "stdout",
     "output_type": "stream",
     "text": [
      "mealService 응답코드: 200\n",
      "급식 데이터 수: 61\n",
      "8490065 완도고등학교\n",
      "급식 정보 조회 중: 날짜=20250618\n"
     ]
    },
    {
     "name": "stderr",
     "output_type": "stream",
     "text": [
      "고등학교 급식 조회:  69%|██████████████████████████████████▎               | 98/143 [00:25<00:11,  4.04it/s]"
     ]
    },
    {
     "name": "stdout",
     "output_type": "stream",
     "text": [
      "mealService 응답코드: 200\n",
      "급식 데이터 수: 56\n",
      "8490066 완도금일고등학교\n",
      "급식 정보 조회 중: 날짜=20250618\n"
     ]
    },
    {
     "name": "stderr",
     "output_type": "stream",
     "text": [
      "고등학교 급식 조회:  69%|██████████████████████████████████▌               | 99/143 [00:25<00:10,  4.14it/s]"
     ]
    },
    {
     "name": "stdout",
     "output_type": "stream",
     "text": [
      "mealService 응답코드: 200\n",
      "급식 데이터 수: 35\n",
      "8490151 완도수산고등학교\n",
      "급식 정보 조회 중: 날짜=20250618\n"
     ]
    },
    {
     "name": "stderr",
     "output_type": "stream",
     "text": [
      "고등학교 급식 조회:  70%|██████████████████████████████████▎              | 100/143 [00:26<00:10,  4.15it/s]"
     ]
    },
    {
     "name": "stdout",
     "output_type": "stream",
     "text": [
      "mealService 응답코드: 200\n",
      "급식 데이터 수: 58\n",
      "8490377 임자고등학교\n",
      "급식 정보 조회 중: 날짜=20250618\n"
     ]
    },
    {
     "name": "stderr",
     "output_type": "stream",
     "text": [
      "고등학교 급식 조회:  71%|██████████████████████████████████▌              | 101/143 [00:26<00:09,  4.21it/s]"
     ]
    },
    {
     "name": "stdout",
     "output_type": "stream",
     "text": [
      "mealService 응답코드: 200\n",
      "급식 데이터 수: 29\n",
      "8490103 장성고등학교\n",
      "급식 정보 조회 중: 날짜=20250618\n"
     ]
    },
    {
     "name": "stderr",
     "output_type": "stream",
     "text": [
      "고등학교 급식 조회:  71%|██████████████████████████████████▉              | 102/143 [00:26<00:10,  4.03it/s]"
     ]
    },
    {
     "name": "stdout",
     "output_type": "stream",
     "text": [
      "mealService 응답코드: 200\n",
      "급식 데이터 수: 77\n",
      "8490458 장성하이텍고등학교\n",
      "급식 정보 조회 중: 날짜=20250618\n"
     ]
    },
    {
     "name": "stderr",
     "output_type": "stream",
     "text": [
      "고등학교 급식 조회:  72%|███████████████████████████████████▎             | 103/143 [00:27<00:10,  3.94it/s]"
     ]
    },
    {
     "name": "stdout",
     "output_type": "stream",
     "text": [
      "mealService 응답코드: 200\n",
      "급식 데이터 수: 58\n",
      "8490067 장흥고등학교\n",
      "급식 정보 조회 중: 날짜=20250618\n"
     ]
    },
    {
     "name": "stderr",
     "output_type": "stream",
     "text": [
      "고등학교 급식 조회:  73%|███████████████████████████████████▋             | 104/143 [00:27<00:09,  4.07it/s]"
     ]
    },
    {
     "name": "stdout",
     "output_type": "stream",
     "text": [
      "mealService 응답코드: 200\n",
      "급식 데이터 수: 58\n",
      "8490068 장흥관산고등학교\n",
      "급식 정보 조회 중: 날짜=20250618\n"
     ]
    },
    {
     "name": "stderr",
     "output_type": "stream",
     "text": [
      "고등학교 급식 조회:  73%|███████████████████████████████████▉             | 105/143 [00:27<00:09,  4.01it/s]"
     ]
    },
    {
     "name": "stdout",
     "output_type": "stream",
     "text": [
      "mealService 응답코드: 200\n",
      "급식 데이터 수: 57\n",
      "8490069 전남과학고등학교\n",
      "급식 정보 조회 중: 날짜=20250618\n"
     ]
    },
    {
     "name": "stderr",
     "output_type": "stream",
     "text": [
      "고등학교 급식 조회:  74%|████████████████████████████████████▎            | 106/143 [00:27<00:09,  3.83it/s]"
     ]
    },
    {
     "name": "stdout",
     "output_type": "stream",
     "text": [
      "mealService 응답코드: 200\n",
      "급식 데이터 수: 76\n",
      "8490376 전남기술과학고등학교\n",
      "급식 정보 조회 중: 날짜=20250618\n"
     ]
    },
    {
     "name": "stderr",
     "output_type": "stream",
     "text": [
      "고등학교 급식 조회:  75%|████████████████████████████████████▋            | 107/143 [00:28<00:09,  3.61it/s]"
     ]
    },
    {
     "name": "stdout",
     "output_type": "stream",
     "text": [
      "mealService 응답코드: 200\n",
      "급식 데이터 수: 58\n",
      "8490577 전남미래자동차고등학교\n",
      "급식 정보 조회 중: 날짜=20250618\n"
     ]
    },
    {
     "name": "stderr",
     "output_type": "stream",
     "text": [
      "고등학교 급식 조회:  76%|█████████████████████████████████████            | 108/143 [00:28<00:09,  3.86it/s]"
     ]
    },
    {
     "name": "stdout",
     "output_type": "stream",
     "text": [
      "mealService 응답코드: 200\n",
      "급식 데이터 수: 56\n",
      "8490239 전남미용고등학교\n",
      "급식 정보 조회 중: 날짜=20250618\n"
     ]
    },
    {
     "name": "stderr",
     "output_type": "stream",
     "text": [
      "고등학교 급식 조회:  76%|█████████████████████████████████████▎           | 109/143 [00:28<00:08,  3.94it/s]"
     ]
    },
    {
     "name": "stdout",
     "output_type": "stream",
     "text": [
      "mealService 응답코드: 200\n",
      "급식 데이터 수: 56\n",
      "8490319 전남보건고등학교\n",
      "급식 정보 조회 중: 날짜=20250618\n"
     ]
    },
    {
     "name": "stderr",
     "output_type": "stream",
     "text": [
      "고등학교 급식 조회:  77%|█████████████████████████████████████▋           | 110/143 [00:28<00:08,  4.01it/s]"
     ]
    },
    {
     "name": "stdout",
     "output_type": "stream",
     "text": [
      "mealService 응답코드: 200\n",
      "급식 데이터 수: 57\n",
      "8490296 전남생명과학고등학교\n",
      "급식 정보 조회 중: 날짜=20250618\n"
     ]
    },
    {
     "name": "stderr",
     "output_type": "stream",
     "text": [
      "고등학교 급식 조회:  78%|██████████████████████████████████████           | 111/143 [00:29<00:07,  4.15it/s]"
     ]
    },
    {
     "name": "stdout",
     "output_type": "stream",
     "text": [
      "mealService 응답코드: 200\n",
      "급식 데이터 수: 58\n",
      "8490516 전남에너지고등학교\n",
      "급식 정보 조회 중: 날짜=20250618\n"
     ]
    },
    {
     "name": "stderr",
     "output_type": "stream",
     "text": [
      "고등학교 급식 조회:  78%|██████████████████████████████████████▍          | 112/143 [00:29<00:07,  4.28it/s]"
     ]
    },
    {
     "name": "stdout",
     "output_type": "stream",
     "text": [
      "mealService 응답코드: 200\n",
      "급식 데이터 수: 58\n",
      "8490180 전남예술고등학교\n",
      "급식 정보 조회 중: 날짜=20250618\n"
     ]
    },
    {
     "name": "stderr",
     "output_type": "stream",
     "text": [
      "고등학교 급식 조회:  79%|██████████████████████████████████████▋          | 113/143 [00:29<00:07,  4.15it/s]"
     ]
    },
    {
     "name": "stdout",
     "output_type": "stream",
     "text": [
      "mealService 응답코드: 200\n",
      "급식 데이터 수: 61\n",
      "8490070 전남외국어고등학교\n",
      "급식 정보 조회 중: 날짜=20250618\n"
     ]
    },
    {
     "name": "stderr",
     "output_type": "stream",
     "text": [
      "고등학교 급식 조회:  80%|███████████████████████████████████████          | 114/143 [00:29<00:06,  4.19it/s]"
     ]
    },
    {
     "name": "stdout",
     "output_type": "stream",
     "text": [
      "mealService 응답코드: 200\n",
      "급식 데이터 수: 66\n",
      "8490316 전남자연과학고등학교\n",
      "급식 정보 조회 중: 날짜=20250618\n"
     ]
    },
    {
     "name": "stderr",
     "output_type": "stream",
     "text": [
      "고등학교 급식 조회:  80%|███████████████████████████████████████▍         | 115/143 [00:29<00:06,  4.02it/s]"
     ]
    },
    {
     "name": "stdout",
     "output_type": "stream",
     "text": [
      "mealService 응답코드: 200\n",
      "급식 데이터 수: 57\n",
      "8490290 전남조리과학고등학교\n",
      "급식 정보 조회 중: 날짜=20250618\n"
     ]
    },
    {
     "name": "stderr",
     "output_type": "stream",
     "text": [
      "고등학교 급식 조회:  81%|███████████████████████████████████████▋         | 116/143 [00:30<00:07,  3.86it/s]"
     ]
    },
    {
     "name": "stdout",
     "output_type": "stream",
     "text": [
      "mealService 응답코드: 200\n",
      "급식 데이터 수: 58\n",
      "8490242 전남체육고등학교\n",
      "급식 정보 조회 중: 날짜=20250618\n"
     ]
    },
    {
     "name": "stderr",
     "output_type": "stream",
     "text": [
      "고등학교 급식 조회:  82%|████████████████████████████████████████         | 117/143 [00:30<00:06,  3.85it/s]"
     ]
    },
    {
     "name": "stdout",
     "output_type": "stream",
     "text": [
      "mealService 응답코드: 200\n",
      "급식 데이터 수: 53\n",
      "8490227 조도고등학교\n",
      "급식 정보 조회 중: 날짜=20250618\n",
      "mealService 응답코드: 200\n",
      "급식 데이터 수: 21\n"
     ]
    },
    {
     "name": "stderr",
     "output_type": "stream",
     "text": [
      "고등학교 급식 조회:  83%|████████████████████████████████████████▍        | 118/143 [00:30<00:05,  4.21it/s]"
     ]
    },
    {
     "name": "stdout",
     "output_type": "stream",
     "text": [
      "8490283 중마고등학교\n",
      "급식 정보 조회 중: 날짜=20250618\n",
      "mealService 응답코드: 200\n",
      "급식 데이터 수: 57\n"
     ]
    },
    {
     "name": "stderr",
     "output_type": "stream",
     "text": [
      "고등학교 급식 조회:  83%|████████████████████████████████████████▊        | 119/143 [00:30<00:05,  4.19it/s]"
     ]
    },
    {
     "name": "stdout",
     "output_type": "stream",
     "text": [
      "8490248 지명고등학교\n",
      "급식 정보 조회 중: 날짜=20250618\n",
      "mealService 응답코드: 200\n",
      "급식 데이터 수: 55\n"
     ]
    },
    {
     "name": "stderr",
     "output_type": "stream",
     "text": [
      "고등학교 급식 조회:  84%|█████████████████████████████████████████        | 120/143 [00:31<00:05,  4.25it/s]"
     ]
    },
    {
     "name": "stdout",
     "output_type": "stream",
     "text": [
      "8490104 진도고등학교\n",
      "급식 정보 조회 중: 날짜=20250618\n",
      "mealService 응답코드: 200\n",
      "급식 데이터 수: 61\n"
     ]
    },
    {
     "name": "stderr",
     "output_type": "stream",
     "text": [
      "고등학교 급식 조회:  85%|█████████████████████████████████████████▍       | 121/143 [00:31<00:05,  4.26it/s]"
     ]
    },
    {
     "name": "stdout",
     "output_type": "stream",
     "text": [
      "8490415 진도국악고등학교\n",
      "급식 정보 조회 중: 날짜=20250618\n",
      "mealService 응답코드: 200\n",
      "급식 데이터 수: 58\n"
     ]
    },
    {
     "name": "stderr",
     "output_type": "stream",
     "text": [
      "고등학교 급식 조회:  85%|█████████████████████████████████████████▊       | 122/143 [00:31<00:05,  4.13it/s]"
     ]
    },
    {
     "name": "stdout",
     "output_type": "stream",
     "text": [
      "8490159 진도실업고등학교\n",
      "급식 정보 조회 중: 날짜=20250618\n",
      "mealService 응답코드: 200\n",
      "급식 데이터 수: 45\n"
     ]
    },
    {
     "name": "stderr",
     "output_type": "stream",
     "text": [
      "고등학교 급식 조회:  86%|██████████████████████████████████████████▏      | 123/143 [00:31<00:04,  4.17it/s]"
     ]
    },
    {
     "name": "stdout",
     "output_type": "stream",
     "text": [
      "8490276 진성여자고등학교\n",
      "급식 정보 조회 중: 날짜=20250618\n",
      "mealService 응답코드: 200\n",
      "급식 데이터 수: 21\n"
     ]
    },
    {
     "name": "stderr",
     "output_type": "stream",
     "text": [
      "고등학교 급식 조회:  87%|██████████████████████████████████████████▍      | 124/143 [00:32<00:04,  4.38it/s]"
     ]
    },
    {
     "name": "stdout",
     "output_type": "stream",
     "text": [
      "8490105 창평고등학교\n",
      "급식 정보 조회 중: 날짜=20250618\n",
      "mealService 응답코드: 200\n",
      "급식 데이터 수: 83\n"
     ]
    },
    {
     "name": "stderr",
     "output_type": "stream",
     "text": [
      "고등학교 급식 조회:  88%|███████████████████████████████████████████▏     | 126/143 [00:32<00:03,  4.31it/s]"
     ]
    },
    {
     "name": "stdout",
     "output_type": "stream",
     "text": [
      "8490220 하의고등학교\n",
      "급식 정보 조회 중: 날짜=20250618\n",
      "mealService 응답코드: 200\n",
      "급식 데이터 수: 21\n",
      "8490414 한국말산업고등학교\n",
      "급식 정보 조회 중: 날짜=20250618\n",
      "mealService 응답코드: 200\n",
      "급식 데이터 수: 60\n"
     ]
    },
    {
     "name": "stderr",
     "output_type": "stream",
     "text": [
      "고등학교 급식 조회:  89%|███████████████████████████████████████████▌     | 127/143 [00:32<00:03,  4.28it/s]"
     ]
    },
    {
     "name": "stdout",
     "output_type": "stream",
     "text": [
      "8490412 한국바둑고등학교\n",
      "급식 정보 조회 중: 날짜=20250618\n",
      "mealService 응답코드: 200\n",
      "급식 데이터 수: 64\n"
     ]
    },
    {
     "name": "stderr",
     "output_type": "stream",
     "text": [
      "고등학교 급식 조회:  90%|███████████████████████████████████████████▊     | 128/143 [00:33<00:03,  4.24it/s]"
     ]
    },
    {
     "name": "stdout",
     "output_type": "stream",
     "text": [
      "8490468 한국창의예술고등학교\n",
      "급식 정보 조회 중: 날짜=20250618\n",
      "mealService 응답코드: 200\n",
      "급식 데이터 수: 58\n"
     ]
    },
    {
     "name": "stderr",
     "output_type": "stream",
     "text": [
      "고등학교 급식 조회:  90%|████████████████████████████████████████████▏    | 129/143 [00:33<00:03,  4.15it/s]"
     ]
    },
    {
     "name": "stdout",
     "output_type": "stream",
     "text": [
      "8490295 한국항만물류고등학교\n",
      "급식 정보 조회 중: 날짜=20250618\n",
      "mealService 응답코드: 200\n",
      "급식 데이터 수: 58\n"
     ]
    },
    {
     "name": "stderr",
     "output_type": "stream",
     "text": [
      "고등학교 급식 조회:  91%|████████████████████████████████████████████▌    | 130/143 [00:33<00:03,  4.25it/s]"
     ]
    },
    {
     "name": "stdout",
     "output_type": "stream",
     "text": [
      "8490107 한빛고등학교\n",
      "급식 정보 조회 중: 날짜=20250618\n",
      "mealService 응답코드: 200\n",
      "급식 데이터 수: 83\n"
     ]
    },
    {
     "name": "stderr",
     "output_type": "stream",
     "text": [
      "고등학교 급식 조회:  92%|████████████████████████████████████████████▉    | 131/143 [00:33<00:02,  4.05it/s]"
     ]
    },
    {
     "name": "stdout",
     "output_type": "stream",
     "text": [
      "8490108 한영고등학교\n",
      "급식 정보 조회 중: 날짜=20250618\n",
      "mealService 응답코드: 200\n",
      "급식 데이터 수: 63\n"
     ]
    },
    {
     "name": "stderr",
     "output_type": "stream",
     "text": [
      "고등학교 급식 조회:  92%|█████████████████████████████████████████████▏   | 132/143 [00:34<00:02,  4.11it/s]"
     ]
    },
    {
     "name": "stdout",
     "output_type": "stream",
     "text": [
      "8490363 한울고등학교\n",
      "급식 정보 조회 중: 날짜=20250618\n",
      "mealService 응답코드: 200\n",
      "급식 데이터 수: 58\n"
     ]
    },
    {
     "name": "stderr",
     "output_type": "stream",
     "text": [
      "고등학교 급식 조회:  93%|█████████████████████████████████████████████▌   | 133/143 [00:34<00:02,  4.10it/s]"
     ]
    },
    {
     "name": "stdout",
     "output_type": "stream",
     "text": [
      "8490109 함평고등학교\n",
      "급식 정보 조회 중: 날짜=20250618\n",
      "mealService 응답코드: 200\n",
      "급식 데이터 수: 62\n"
     ]
    },
    {
     "name": "stderr",
     "output_type": "stream",
     "text": [
      "고등학교 급식 조회:  94%|█████████████████████████████████████████████▉   | 134/143 [00:34<00:02,  4.02it/s]"
     ]
    },
    {
     "name": "stdout",
     "output_type": "stream",
     "text": [
      "8490224 함평골프고등학교\n",
      "급식 정보 조회 중: 날짜=20250618\n"
     ]
    },
    {
     "name": "stderr",
     "output_type": "stream",
     "text": [
      "고등학교 급식 조회:  94%|██████████████████████████████████████████████▎  | 135/143 [00:34<00:02,  3.52it/s]"
     ]
    },
    {
     "name": "stdout",
     "output_type": "stream",
     "text": [
      "mealService 응답코드: 200\n",
      "급식 데이터 수: 62\n",
      "8490459 함평학다리고등학교\n",
      "급식 정보 조회 중: 날짜=20250618\n"
     ]
    },
    {
     "name": "stderr",
     "output_type": "stream",
     "text": [
      "고등학교 급식 조회:  95%|██████████████████████████████████████████████▌  | 136/143 [00:35<00:01,  3.53it/s]"
     ]
    },
    {
     "name": "stdout",
     "output_type": "stream",
     "text": [
      "mealService 응답코드: 200\n",
      "급식 데이터 수: 63\n",
      "8490073 해남고등학교\n",
      "급식 정보 조회 중: 날짜=20250618\n"
     ]
    },
    {
     "name": "stderr",
     "output_type": "stream",
     "text": [
      "고등학교 급식 조회:  96%|██████████████████████████████████████████████▉  | 137/143 [00:35<00:01,  3.46it/s]"
     ]
    },
    {
     "name": "stdout",
     "output_type": "stream",
     "text": [
      "mealService 응답코드: 200\n",
      "급식 데이터 수: 66\n",
      "8490164 해남공업고등학교\n",
      "급식 정보 조회 중: 날짜=20250618\n"
     ]
    },
    {
     "name": "stderr",
     "output_type": "stream",
     "text": [
      "고등학교 급식 조회:  97%|███████████████████████████████████████████████▎ | 138/143 [00:35<00:01,  3.46it/s]"
     ]
    },
    {
     "name": "stdout",
     "output_type": "stream",
     "text": [
      "mealService 응답코드: 200\n",
      "급식 데이터 수: 55\n",
      "8490110 해룡고등학교\n",
      "급식 정보 조회 중: 날짜=20250618\n"
     ]
    },
    {
     "name": "stderr",
     "output_type": "stream",
     "text": [
      "고등학교 급식 조회:  97%|███████████████████████████████████████████████▋ | 139/143 [00:36<00:01,  3.50it/s]"
     ]
    },
    {
     "name": "stdout",
     "output_type": "stream",
     "text": [
      "mealService 응답코드: 200\n",
      "급식 데이터 수: 41\n",
      "8490165 호남원예고등학교\n",
      "급식 정보 조회 중: 날짜=20250618\n"
     ]
    },
    {
     "name": "stderr",
     "output_type": "stream",
     "text": [
      "고등학교 급식 조회:  98%|███████████████████████████████████████████████▉ | 140/143 [00:36<00:00,  3.42it/s]"
     ]
    },
    {
     "name": "stdout",
     "output_type": "stream",
     "text": [
      "mealService 응답코드: 200\n",
      "급식 데이터 수: 58\n",
      "8490076 화순고등학교\n",
      "급식 정보 조회 중: 날짜=20250618\n"
     ]
    },
    {
     "name": "stderr",
     "output_type": "stream",
     "text": [
      "고등학교 급식 조회:  99%|████████████████████████████████████████████████▎| 141/143 [00:36<00:00,  3.67it/s]"
     ]
    },
    {
     "name": "stdout",
     "output_type": "stream",
     "text": [
      "mealService 응답코드: 200\n",
      "급식 데이터 수: 63\n",
      "8490271 화순이양고등학교\n",
      "급식 정보 조회 중: 날짜=20250618\n",
      "mealService 응답코드: 200\n",
      "급식 데이터 수: 21\n"
     ]
    },
    {
     "name": "stderr",
     "output_type": "stream",
     "text": [
      "고등학교 급식 조회:  99%|████████████████████████████████████████████████▋| 142/143 [00:36<00:00,  3.95it/s]"
     ]
    },
    {
     "name": "stdout",
     "output_type": "stream",
     "text": [
      "8490111 화원고등학교\n",
      "급식 정보 조회 중: 날짜=20250618\n",
      "mealService 응답코드: 200\n",
      "급식 데이터 수: 52\n"
     ]
    },
    {
     "name": "stderr",
     "output_type": "stream",
     "text": [
      "고등학교 급식 조회: 100%|█████████████████████████████████████████████████| 143/143 [00:37<00:00,  3.86it/s]\n"
     ]
    },
    {
     "name": "stdout",
     "output_type": "stream",
     "text": [
      "수집된 급식 행 수: 58231\n",
      "수집된 전체 급식 행 수: 58231\n",
      "  교육청코드     학교코드     학교명      급식일자 식사명  \\\n",
      "0   B10  7010057  가락고등학교  20250519  중식   \n",
      "1   B10  7010057  가락고등학교  20250520  중식   \n",
      "2   B10  7010057  가락고등학교  20250521  중식   \n",
      "3   B10  7010057  가락고등학교  20250522  중식   \n",
      "4   B10  7010057  가락고등학교  20250523  중식   \n",
      "\n",
      "                                                급식식단  \n",
      "0  쌀밥 <br/>소고기미역국 (2.5.6.15.16.18)<br/>돼지갈비찜 (5.6...  \n",
      "1  쇠고기콩나물밥 (5.6.16)<br/>물만두국 (1.2.5.6.10.15.16.18...  \n",
      "2  새우볶음밥 (1.5.6.8.9.13.18)<br/>씨앗호떡파이 (1.2.3.5.6)...  \n",
      "3  쌀밥 <br/>볶음우동 (5.6.8.9.13.15.17.18)<br/>zero초코파...  \n",
      "4  현미밥 <br/>어묵국 (1.2.5.6.15.16.18)<br/>마라찜닭 (5.6....  \n",
      "응답코드 : 200\n"
     ]
    },
    {
     "name": "stderr",
     "output_type": "stream",
     "text": [
      "고등학교 급식 조회:   0%|                                                           | 0/183 [00:00<?, ?it/s]"
     ]
    },
    {
     "name": "stdout",
     "output_type": "stream",
     "text": [
      "8750075 가은고등학교\n",
      "급식 정보 조회 중: 날짜=20250618\n",
      "mealService 응답코드: 200\n",
      "급식 데이터 수: 40\n"
     ]
    },
    {
     "name": "stderr",
     "output_type": "stream",
     "text": [
      "고등학교 급식 조회:   1%|▎                                                  | 1/183 [00:00<00:38,  4.68it/s]"
     ]
    },
    {
     "name": "stdout",
     "output_type": "stream",
     "text": [
      "8750474 강구정보고등학교\n",
      "급식 정보 조회 중: 날짜=20250618\n",
      "mealService 응답코드: 200\n",
      "급식 데이터 수: 21\n"
     ]
    },
    {
     "name": "stderr",
     "output_type": "stream",
     "text": [
      "고등학교 급식 조회:   1%|▌                                                  | 2/183 [00:00<00:40,  4.45it/s]"
     ]
    },
    {
     "name": "stdout",
     "output_type": "stream",
     "text": [
      "8750143 경구고등학교\n",
      "급식 정보 조회 중: 날짜=20250618\n",
      "mealService 응답코드: 200\n",
      "급식 데이터 수: 61\n"
     ]
    },
    {
     "name": "stderr",
     "output_type": "stream",
     "text": [
      "고등학교 급식 조회:   2%|▊                                                  | 3/183 [00:00<00:41,  4.33it/s]"
     ]
    },
    {
     "name": "stdout",
     "output_type": "stream",
     "text": [
      "8750813 경북골프경영고등학교\n",
      "급식 정보 조회 중: 날짜=20250618\n",
      "mealService 응답코드: 200\n",
      "급식 데이터 수: 54\n"
     ]
    },
    {
     "name": "stderr",
     "output_type": "stream",
     "text": [
      "고등학교 급식 조회:   2%|█                                                  | 4/183 [00:00<00:39,  4.50it/s]"
     ]
    },
    {
     "name": "stdout",
     "output_type": "stream",
     "text": [
      "8750078 경북과학고등학교\n",
      "급식 정보 조회 중: 날짜=20250618\n"
     ]
    },
    {
     "name": "stderr",
     "output_type": "stream",
     "text": [
      "고등학교 급식 조회:   3%|█▍                                                 | 5/183 [00:01<00:49,  3.56it/s]"
     ]
    },
    {
     "name": "stdout",
     "output_type": "stream",
     "text": [
      "mealService 응답코드: 200\n",
      "급식 데이터 수: 67\n",
      "8750627 경북과학기술고등학교\n",
      "급식 정보 조회 중: 날짜=20250618\n"
     ]
    },
    {
     "name": "stderr",
     "output_type": "stream",
     "text": [
      "고등학교 급식 조회:   3%|█▋                                                 | 6/183 [00:01<00:46,  3.83it/s]"
     ]
    },
    {
     "name": "stdout",
     "output_type": "stream",
     "text": [
      "mealService 응답코드: 200\n",
      "급식 데이터 수: 21\n",
      "8750810 경북관광비즈니스고등학교\n",
      "급식 정보 조회 중: 날짜=20250618\n"
     ]
    },
    {
     "name": "stderr",
     "output_type": "stream",
     "text": [
      "고등학교 급식 조회:   4%|█▉                                                 | 7/183 [00:01<00:44,  3.99it/s]"
     ]
    },
    {
     "name": "stdout",
     "output_type": "stream",
     "text": [
      "mealService 응답코드: 200\n",
      "급식 데이터 수: 21\n",
      "8750667 경북기계금속고등학교\n",
      "급식 정보 조회 중: 날짜=20250618\n"
     ]
    },
    {
     "name": "stderr",
     "output_type": "stream",
     "text": [
      "고등학교 급식 조회:   4%|██▏                                                | 8/183 [00:01<00:42,  4.07it/s]"
     ]
    },
    {
     "name": "stdout",
     "output_type": "stream",
     "text": [
      "mealService 응답코드: 200\n",
      "급식 데이터 수: 58\n",
      "8750758 경북기계명장고등학교\n",
      "급식 정보 조회 중: 날짜=20250618\n"
     ]
    },
    {
     "name": "stderr",
     "output_type": "stream",
     "text": [
      "고등학교 급식 조회:   5%|██▌                                                | 9/183 [00:02<00:42,  4.14it/s]"
     ]
    },
    {
     "name": "stdout",
     "output_type": "stream",
     "text": [
      "mealService 응답코드: 200\n",
      "급식 데이터 수: 52\n",
      "8750731 경북드론고등학교\n",
      "급식 정보 조회 중: 날짜=20250618\n"
     ]
    },
    {
     "name": "stderr",
     "output_type": "stream",
     "text": [
      "고등학교 급식 조회:   5%|██▋                                               | 10/183 [00:02<00:41,  4.19it/s]"
     ]
    },
    {
     "name": "stdout",
     "output_type": "stream",
     "text": [
      "mealService 응답코드: 200\n",
      "급식 데이터 수: 59\n",
      "8750805 경북바이오마이스터고등학교\n",
      "급식 정보 조회 중: 날짜=20250618\n"
     ]
    },
    {
     "name": "stderr",
     "output_type": "stream",
     "text": [
      "고등학교 급식 조회:   6%|███                                               | 11/183 [00:02<00:42,  4.04it/s]"
     ]
    },
    {
     "name": "stdout",
     "output_type": "stream",
     "text": [
      "mealService 응답코드: 200\n",
      "급식 데이터 수: 76\n",
      "8750444 경북생활과학고등학교\n",
      "급식 정보 조회 중: 날짜=20250618\n"
     ]
    },
    {
     "name": "stderr",
     "output_type": "stream",
     "text": [
      "고등학교 급식 조회:   7%|███▎                                              | 12/183 [00:02<00:42,  4.06it/s]"
     ]
    },
    {
     "name": "stdout",
     "output_type": "stream",
     "text": [
      "mealService 응답코드: 200\n",
      "급식 데이터 수: 59\n",
      "8750730 경북세무고등학교\n",
      "급식 정보 조회 중: 날짜=20250618\n"
     ]
    },
    {
     "name": "stderr",
     "output_type": "stream",
     "text": [
      "고등학교 급식 조회:   7%|███▌                                              | 13/183 [00:03<00:40,  4.16it/s]"
     ]
    },
    {
     "name": "stdout",
     "output_type": "stream",
     "text": [
      "mealService 응답코드: 200\n",
      "급식 데이터 수: 52\n",
      "8750829 경북소프트웨어마이스터고등학교\n",
      "급식 정보 조회 중: 날짜=20250618\n"
     ]
    },
    {
     "name": "stderr",
     "output_type": "stream",
     "text": [
      "고등학교 급식 조회:   8%|███▊                                              | 14/183 [00:03<00:39,  4.30it/s]"
     ]
    },
    {
     "name": "stdout",
     "output_type": "stream",
     "text": [
      "mealService 응답코드: 200\n",
      "급식 데이터 수: 64\n",
      "8750079 경북외국어고등학교\n",
      "급식 정보 조회 중: 날짜=20250618\n"
     ]
    },
    {
     "name": "stderr",
     "output_type": "stream",
     "text": [
      "고등학교 급식 조회:   8%|████                                              | 15/183 [00:03<00:39,  4.21it/s]"
     ]
    },
    {
     "name": "stdout",
     "output_type": "stream",
     "text": [
      "mealService 응답코드: 200\n",
      "급식 데이터 수: 70\n",
      "8750724 경북일고등학교\n",
      "급식 정보 조회 중: 날짜=20250618\n"
     ]
    },
    {
     "name": "stderr",
     "output_type": "stream",
     "text": [
      "고등학교 급식 조회:   9%|████▎                                             | 16/183 [00:03<00:40,  4.12it/s]"
     ]
    },
    {
     "name": "stdout",
     "output_type": "stream",
     "text": [
      "mealService 응답코드: 200\n",
      "급식 데이터 수: 63\n",
      "8750770 경북자연과학고등학교\n",
      "급식 정보 조회 중: 날짜=20250618\n"
     ]
    },
    {
     "name": "stderr",
     "output_type": "stream",
     "text": [
      "고등학교 급식 조회:   9%|████▋                                             | 17/183 [00:04<00:39,  4.16it/s]"
     ]
    },
    {
     "name": "stdout",
     "output_type": "stream",
     "text": [
      "mealService 응답코드: 200\n",
      "급식 데이터 수: 59\n",
      "8750726 경북조리과학고등학교\n",
      "급식 정보 조회 중: 날짜=20250618\n"
     ]
    },
    {
     "name": "stderr",
     "output_type": "stream",
     "text": [
      "고등학교 급식 조회:  10%|████▉                                             | 18/183 [00:04<00:39,  4.17it/s]"
     ]
    },
    {
     "name": "stdout",
     "output_type": "stream",
     "text": [
      "mealService 응답코드: 200\n",
      "급식 데이터 수: 56\n",
      "8750080 경북체육고등학교\n",
      "급식 정보 조회 중: 날짜=20250618\n"
     ]
    },
    {
     "name": "stderr",
     "output_type": "stream",
     "text": [
      "고등학교 급식 조회:  10%|█████▏                                            | 19/183 [00:04<00:41,  3.99it/s]"
     ]
    },
    {
     "name": "stdout",
     "output_type": "stream",
     "text": [
      "mealService 응답코드: 200\n",
      "급식 데이터 수: 66\n",
      "8750644 경북하이텍고등학교\n",
      "급식 정보 조회 중: 날짜=20250618\n"
     ]
    },
    {
     "name": "stderr",
     "output_type": "stream",
     "text": [
      "고등학교 급식 조회:  11%|█████▍                                            | 20/183 [00:04<00:40,  4.04it/s]"
     ]
    },
    {
     "name": "stdout",
     "output_type": "stream",
     "text": [
      "mealService 응답코드: 200\n",
      "급식 데이터 수: 60\n",
      "8750557 경북항공고등학교\n",
      "급식 정보 조회 중: 날짜=20250618\n"
     ]
    },
    {
     "name": "stderr",
     "output_type": "stream",
     "text": [
      "고등학교 급식 조회:  11%|█████▋                                            | 21/183 [00:05<00:45,  3.60it/s]"
     ]
    },
    {
     "name": "stdout",
     "output_type": "stream",
     "text": [
      "mealService 응답코드: 200\n",
      "급식 데이터 수: 75\n",
      "8750776 경북휴먼테크고등학교\n",
      "급식 정보 조회 중: 날짜=20250618\n"
     ]
    },
    {
     "name": "stderr",
     "output_type": "stream",
     "text": [
      "고등학교 급식 조회:  12%|██████                                            | 22/183 [00:05<00:43,  3.71it/s]"
     ]
    },
    {
     "name": "stdout",
     "output_type": "stream",
     "text": [
      "mealService 응답코드: 200\n",
      "급식 데이터 수: 63\n",
      "8750081 경산고등학교\n",
      "급식 정보 조회 중: 날짜=20250618\n",
      "mealService 응답코드: 200\n",
      "급식 데이터 수: 41\n"
     ]
    },
    {
     "name": "stderr",
     "output_type": "stream",
     "text": [
      "고등학교 급식 조회:  13%|██████▎                                           | 23/183 [00:05<00:40,  3.98it/s]"
     ]
    },
    {
     "name": "stdout",
     "output_type": "stream",
     "text": [
      "8750555 경산과학고등학교\n",
      "급식 정보 조회 중: 날짜=20250618\n"
     ]
    },
    {
     "name": "stderr",
     "output_type": "stream",
     "text": [
      "고등학교 급식 조회:  13%|██████▌                                           | 24/183 [00:05<00:42,  3.71it/s]"
     ]
    },
    {
     "name": "stdout",
     "output_type": "stream",
     "text": [
      "mealService 응답코드: 200\n",
      "급식 데이터 수: 76\n",
      "8750144 경산여자고등학교\n",
      "급식 정보 조회 중: 날짜=20250618\n"
     ]
    },
    {
     "name": "stderr",
     "output_type": "stream",
     "text": [
      "고등학교 급식 조회:  14%|██████▊                                           | 25/183 [00:06<00:44,  3.52it/s]"
     ]
    },
    {
     "name": "stdout",
     "output_type": "stream",
     "text": [
      "mealService 응답코드: 200\n",
      "급식 데이터 수: 40\n",
      "8750771 경산제일고등학교\n",
      "급식 정보 조회 중: 날짜=20250618\n"
     ]
    },
    {
     "name": "stderr",
     "output_type": "stream",
     "text": [
      "고등학교 급식 조회:  14%|███████                                           | 26/183 [00:06<00:43,  3.59it/s]"
     ]
    },
    {
     "name": "stdout",
     "output_type": "stream",
     "text": [
      "mealService 응답코드: 200\n",
      "급식 데이터 수: 58\n",
      "8750145 경안고등학교\n",
      "급식 정보 조회 중: 날짜=20250618\n"
     ]
    },
    {
     "name": "stderr",
     "output_type": "stream",
     "text": [
      "고등학교 급식 조회:  15%|███████▍                                          | 27/183 [00:06<00:45,  3.45it/s]"
     ]
    },
    {
     "name": "stdout",
     "output_type": "stream",
     "text": [
      "mealService 응답코드: 200\n",
      "급식 데이터 수: 61\n",
      "8750588 경안여자고등학교\n",
      "급식 정보 조회 중: 날짜=20250618\n"
     ]
    },
    {
     "name": "stderr",
     "output_type": "stream",
     "text": [
      "고등학교 급식 조회:  15%|███████▋                                          | 28/183 [00:07<00:44,  3.50it/s]"
     ]
    },
    {
     "name": "stdout",
     "output_type": "stream",
     "text": [
      "mealService 응답코드: 200\n",
      "급식 데이터 수: 61\n",
      "8750146 경일고등학교\n",
      "급식 정보 조회 중: 날짜=20250618\n"
     ]
    },
    {
     "name": "stderr",
     "output_type": "stream",
     "text": [
      "고등학교 급식 조회:  16%|███████▉                                          | 29/183 [00:07<00:41,  3.69it/s]"
     ]
    },
    {
     "name": "stdout",
     "output_type": "stream",
     "text": [
      "mealService 응답코드: 200\n",
      "급식 데이터 수: 58\n",
      "8750147 경주고등학교\n",
      "급식 정보 조회 중: 날짜=20250618\n"
     ]
    },
    {
     "name": "stderr",
     "output_type": "stream",
     "text": [
      "고등학교 급식 조회:  16%|████████▏                                         | 30/183 [00:07<00:46,  3.33it/s]"
     ]
    },
    {
     "name": "stdout",
     "output_type": "stream",
     "text": [
      "mealService 응답코드: 200\n",
      "급식 데이터 수: 67\n",
      "8750225 경주공업고등학교\n",
      "급식 정보 조회 중: 날짜=20250618\n"
     ]
    },
    {
     "name": "stderr",
     "output_type": "stream",
     "text": [
      "고등학교 급식 조회:  17%|████████▍                                         | 31/183 [00:08<00:47,  3.23it/s]"
     ]
    },
    {
     "name": "stdout",
     "output_type": "stream",
     "text": [
      "mealService 응답코드: 200\n",
      "급식 데이터 수: 58\n",
      "8750446 경주디자인고등학교\n",
      "급식 정보 조회 중: 날짜=20250618\n"
     ]
    },
    {
     "name": "stderr",
     "output_type": "stream",
     "text": [
      "고등학교 급식 조회:  17%|████████▋                                         | 32/183 [00:08<00:49,  3.05it/s]"
     ]
    },
    {
     "name": "stdout",
     "output_type": "stream",
     "text": [
      "mealService 응답코드: 200\n",
      "급식 데이터 수: 59\n",
      "8750082 경주여자고등학교\n",
      "급식 정보 조회 중: 날짜=20250618\n"
     ]
    },
    {
     "name": "stderr",
     "output_type": "stream",
     "text": [
      "고등학교 급식 조회:  18%|█████████                                         | 33/183 [00:08<00:51,  2.89it/s]"
     ]
    },
    {
     "name": "stdout",
     "output_type": "stream",
     "text": [
      "mealService 응답코드: 200\n",
      "급식 데이터 수: 63\n",
      "8750457 경주여자정보고등학교\n",
      "급식 정보 조회 중: 날짜=20250618\n"
     ]
    },
    {
     "name": "stderr",
     "output_type": "stream",
     "text": [
      "고등학교 급식 조회:  19%|█████████▎                                        | 34/183 [00:09<00:54,  2.73it/s]"
     ]
    },
    {
     "name": "stdout",
     "output_type": "stream",
     "text": [
      "mealService 응답코드: 200\n",
      "급식 데이터 수: 58\n",
      "8750772 경주예일고등학교\n",
      "급식 정보 조회 중: 날짜=20250618\n"
     ]
    },
    {
     "name": "stderr",
     "output_type": "stream",
     "text": [
      "고등학교 급식 조회:  19%|█████████▌                                        | 35/183 [00:09<00:58,  2.53it/s]"
     ]
    },
    {
     "name": "stdout",
     "output_type": "stream",
     "text": [
      "mealService 응답코드: 200\n",
      "급식 데이터 수: 66\n",
      "8750433 경주정보고등학교\n",
      "급식 정보 조회 중: 날짜=20250618\n"
     ]
    },
    {
     "name": "stderr",
     "output_type": "stream",
     "text": [
      "고등학교 급식 조회:  20%|█████████▊                                        | 36/183 [00:10<00:57,  2.57it/s]"
     ]
    },
    {
     "name": "stdout",
     "output_type": "stream",
     "text": [
      "mealService 응답코드: 200\n",
      "급식 데이터 수: 58\n",
      "8750148 경주화랑고등학교\n",
      "급식 정보 조회 중: 날짜=20250618\n"
     ]
    },
    {
     "name": "stderr",
     "output_type": "stream",
     "text": [
      "고등학교 급식 조회:  20%|██████████                                        | 37/183 [00:10<00:53,  2.72it/s]"
     ]
    },
    {
     "name": "stdout",
     "output_type": "stream",
     "text": [
      "mealService 응답코드: 200\n",
      "급식 데이터 수: 60\n",
      "8750083 계림고등학교\n",
      "급식 정보 조회 중: 날짜=20250618\n"
     ]
    },
    {
     "name": "stderr",
     "output_type": "stream",
     "text": [
      "고등학교 급식 조회:  21%|██████████▍                                       | 38/183 [00:10<00:48,  2.98it/s]"
     ]
    },
    {
     "name": "stdout",
     "output_type": "stream",
     "text": [
      "mealService 응답코드: 200\n",
      "급식 데이터 수: 63\n",
      "8750084 구미고등학교\n",
      "급식 정보 조회 중: 날짜=20250618\n"
     ]
    },
    {
     "name": "stderr",
     "output_type": "stream",
     "text": [
      "고등학교 급식 조회:  21%|██████████▋                                       | 39/183 [00:10<00:44,  3.24it/s]"
     ]
    },
    {
     "name": "stdout",
     "output_type": "stream",
     "text": [
      "mealService 응답코드: 200\n",
      "급식 데이터 수: 62\n",
      "8750754 구미산동고등학교\n",
      "급식 정보 조회 중: 날짜=20250618\n"
     ]
    },
    {
     "name": "stderr",
     "output_type": "stream",
     "text": [
      "고등학교 급식 조회:  22%|██████████▉                                       | 40/183 [00:11<00:42,  3.35it/s]"
     ]
    },
    {
     "name": "stdout",
     "output_type": "stream",
     "text": [
      "mealService 응답코드: 200\n",
      "급식 데이터 수: 38\n",
      "8750085 구미여자고등학교\n",
      "급식 정보 조회 중: 날짜=20250618\n"
     ]
    },
    {
     "name": "stderr",
     "output_type": "stream",
     "text": [
      "고등학교 급식 조회:  22%|███████████▏                                      | 41/183 [00:11<00:40,  3.50it/s]"
     ]
    },
    {
     "name": "stdout",
     "output_type": "stream",
     "text": [
      "mealService 응답코드: 200\n",
      "급식 데이터 수: 61\n",
      "8750611 구미여자상업고등학교\n",
      "급식 정보 조회 중: 날짜=20250618\n"
     ]
    },
    {
     "name": "stderr",
     "output_type": "stream",
     "text": [
      "고등학교 급식 조회:  23%|███████████▍                                      | 42/183 [00:11<00:37,  3.73it/s]"
     ]
    },
    {
     "name": "stdout",
     "output_type": "stream",
     "text": [
      "mealService 응답코드: 200\n",
      "급식 데이터 수: 20\n",
      "1421116 구미전자공업고등학교\n",
      "급식 정보 조회 중: 날짜=20250618\n"
     ]
    },
    {
     "name": "stderr",
     "output_type": "stream",
     "text": [
      "고등학교 급식 조회:  23%|███████████▋                                      | 43/183 [00:11<00:37,  3.70it/s]"
     ]
    },
    {
     "name": "stdout",
     "output_type": "stream",
     "text": [
      "mealService 응답코드: 200\n",
      "급식 데이터 수: 93\n",
      "8750234 구미정보고등학교\n",
      "급식 정보 조회 중: 날짜=20250618\n",
      "mealService 응답코드: 200\n",
      "급식 데이터 수: 20\n"
     ]
    },
    {
     "name": "stderr",
     "output_type": "stream",
     "text": [
      "고등학교 급식 조회:  24%|████████████                                      | 44/183 [00:12<00:34,  4.04it/s]"
     ]
    },
    {
     "name": "stdout",
     "output_type": "stream",
     "text": [
      "8750811 구미제일고등학교\n",
      "급식 정보 조회 중: 날짜=20250618\n",
      "mealService 응답코드: 200\n",
      "급식 데이터 수: 37\n"
     ]
    },
    {
     "name": "stderr",
     "output_type": "stream",
     "text": [
      "고등학교 급식 조회:  25%|████████████▎                                     | 45/183 [00:12<00:32,  4.20it/s]"
     ]
    },
    {
     "name": "stdout",
     "output_type": "stream",
     "text": [
      "8750151 근화여자고등학교\n",
      "급식 정보 조회 중: 날짜=20250618\n",
      "mealService 응답코드: 200\n",
      "급식 데이터 수: 62\n"
     ]
    },
    {
     "name": "stderr",
     "output_type": "stream",
     "text": [
      "고등학교 급식 조회:  26%|████████████▊                                     | 47/183 [00:12<00:30,  4.39it/s]"
     ]
    },
    {
     "name": "stdout",
     "output_type": "stream",
     "text": [
      "8750088 금성고등학교\n",
      "급식 정보 조회 중: 날짜=20250618\n",
      "mealService 응답코드: 200\n",
      "mealServiceDietInfo 키 없음: {'RESULT': {'CODE': 'INFO-200', 'MESSAGE': '해당하는 데이터가 없습니다.'}}\n",
      "8750447 금오고등학교\n",
      "급식 정보 조회 중: 날짜=20250618\n",
      "mealService 응답코드: 200\n",
      "급식 데이터 수: 38\n"
     ]
    },
    {
     "name": "stderr",
     "output_type": "stream",
     "text": [
      "고등학교 급식 조회:  26%|█████████████                                     | 48/183 [00:13<00:30,  4.45it/s]"
     ]
    },
    {
     "name": "stdout",
     "output_type": "stream",
     "text": [
      "8750237 금오공업고등학교\n",
      "급식 정보 조회 중: 날짜=20250618\n",
      "mealService 응답코드: 200\n",
      "급식 데이터 수: 58\n"
     ]
    },
    {
     "name": "stderr",
     "output_type": "stream",
     "text": [
      "고등학교 급식 조회:  27%|█████████████▍                                    | 49/183 [00:13<00:31,  4.30it/s]"
     ]
    },
    {
     "name": "stdout",
     "output_type": "stream",
     "text": [
      "8750090 금천고등학교\n",
      "급식 정보 조회 중: 날짜=20250618\n",
      "mealService 응답코드: 200\n",
      "급식 데이터 수: 52\n"
     ]
    },
    {
     "name": "stderr",
     "output_type": "stream",
     "text": [
      "고등학교 급식 조회:  27%|█████████████▋                                    | 50/183 [00:13<00:31,  4.17it/s]"
     ]
    },
    {
     "name": "stdout",
     "output_type": "stream",
     "text": [
      "8750154 길원여자고등학교\n",
      "급식 정보 조회 중: 날짜=20250618\n",
      "mealService 응답코드: 200\n",
      "급식 데이터 수: 63\n"
     ]
    },
    {
     "name": "stderr",
     "output_type": "stream",
     "text": [
      "고등학교 급식 조회:  28%|█████████████▉                                    | 51/183 [00:13<00:31,  4.16it/s]"
     ]
    },
    {
     "name": "stdout",
     "output_type": "stream",
     "text": [
      "8750155 김천고등학교\n",
      "급식 정보 조회 중: 날짜=20250618\n"
     ]
    },
    {
     "name": "stderr",
     "output_type": "stream",
     "text": [
      "고등학교 급식 조회:  28%|██████████████▏                                   | 52/183 [00:14<00:36,  3.58it/s]"
     ]
    },
    {
     "name": "stdout",
     "output_type": "stream",
     "text": [
      "mealService 응답코드: 200\n",
      "급식 데이터 수: 83\n",
      "8750626 김천생명과학고등학교\n",
      "급식 정보 조회 중: 날짜=20250618\n"
     ]
    },
    {
     "name": "stderr",
     "output_type": "stream",
     "text": [
      "고등학교 급식 조회:  29%|██████████████▍                                   | 53/183 [00:14<00:36,  3.56it/s]"
     ]
    },
    {
     "name": "stdout",
     "output_type": "stream",
     "text": [
      "mealService 응답코드: 200\n",
      "급식 데이터 수: 57\n",
      "8750092 김천여자고등학교\n",
      "급식 정보 조회 중: 날짜=20250618\n"
     ]
    },
    {
     "name": "stderr",
     "output_type": "stream",
     "text": [
      "고등학교 급식 조회:  30%|██████████████▊                                   | 54/183 [00:14<00:35,  3.68it/s]"
     ]
    },
    {
     "name": "stdout",
     "output_type": "stream",
     "text": [
      "mealService 응답코드: 200\n",
      "급식 데이터 수: 62\n",
      "8750156 김천예술고등학교\n",
      "급식 정보 조회 중: 날짜=20250618\n"
     ]
    },
    {
     "name": "stderr",
     "output_type": "stream",
     "text": [
      "고등학교 급식 조회:  30%|███████████████                                   | 55/183 [00:14<00:33,  3.78it/s]"
     ]
    },
    {
     "name": "stdout",
     "output_type": "stream",
     "text": [
      "mealService 응답코드: 200\n",
      "급식 데이터 수: 55\n",
      "8750093 김천중앙고등학교\n",
      "급식 정보 조회 중: 날짜=20250618\n"
     ]
    },
    {
     "name": "stderr",
     "output_type": "stream",
     "text": [
      "고등학교 급식 조회:  31%|███████████████▎                                  | 56/183 [00:15<00:33,  3.74it/s]"
     ]
    },
    {
     "name": "stdout",
     "output_type": "stream",
     "text": [
      "mealService 응답코드: 200\n",
      "급식 데이터 수: 40\n",
      "8750159 대가야고등학교\n",
      "급식 정보 조회 중: 날짜=20250618\n"
     ]
    },
    {
     "name": "stderr",
     "output_type": "stream",
     "text": [
      "고등학교 급식 조회:  31%|███████████████▌                                  | 57/183 [00:15<00:34,  3.70it/s]"
     ]
    },
    {
     "name": "stdout",
     "output_type": "stream",
     "text": [
      "mealService 응답코드: 200\n",
      "급식 데이터 수: 63\n",
      "8750594 대구가톨릭대학교사범대학부속무학고등학교\n",
      "급식 정보 조회 중: 날짜=20250618\n"
     ]
    },
    {
     "name": "stderr",
     "output_type": "stream",
     "text": [
      "고등학교 급식 조회:  32%|███████████████▊                                  | 58/183 [00:15<00:35,  3.57it/s]"
     ]
    },
    {
     "name": "stdout",
     "output_type": "stream",
     "text": [
      "mealService 응답코드: 200\n",
      "급식 데이터 수: 72\n",
      "8750160 대동고등학교\n",
      "급식 정보 조회 중: 날짜=20250618\n"
     ]
    },
    {
     "name": "stderr",
     "output_type": "stream",
     "text": [
      "고등학교 급식 조회:  32%|████████████████                                  | 59/183 [00:16<00:34,  3.59it/s]"
     ]
    },
    {
     "name": "stdout",
     "output_type": "stream",
     "text": [
      "mealService 응답코드: 200\n",
      "급식 데이터 수: 41\n",
      "8750161 대영고등학교\n",
      "급식 정보 조회 중: 날짜=20250618\n"
     ]
    },
    {
     "name": "stderr",
     "output_type": "stream",
     "text": [
      "고등학교 급식 조회:  33%|████████████████▍                                 | 60/183 [00:16<00:33,  3.67it/s]"
     ]
    },
    {
     "name": "stdout",
     "output_type": "stream",
     "text": [
      "mealService 응답코드: 200\n",
      "급식 데이터 수: 62\n",
      "8750162 대창고등학교\n",
      "급식 정보 조회 중: 날짜=20250618\n"
     ]
    },
    {
     "name": "stderr",
     "output_type": "stream",
     "text": [
      "고등학교 급식 조회:  33%|████████████████▋                                 | 61/183 [00:16<00:32,  3.76it/s]"
     ]
    },
    {
     "name": "stdout",
     "output_type": "stream",
     "text": [
      "mealService 응답코드: 200\n",
      "급식 데이터 수: 63\n",
      "8750163 도개고등학교\n",
      "급식 정보 조회 중: 날짜=20250618\n"
     ]
    },
    {
     "name": "stderr",
     "output_type": "stream",
     "text": [
      "고등학교 급식 조회:  34%|████████████████▉                                 | 62/183 [00:16<00:33,  3.59it/s]"
     ]
    },
    {
     "name": "stdout",
     "output_type": "stream",
     "text": [
      "mealService 응답코드: 200\n",
      "급식 데이터 수: 60\n",
      "8750812 동국대학교사범대학부속선화여자고등학교\n",
      "급식 정보 조회 중: 날짜=20250618\n"
     ]
    },
    {
     "name": "stderr",
     "output_type": "stream",
     "text": [
      "고등학교 급식 조회:  34%|█████████████████▏                                | 63/183 [00:17<00:33,  3.62it/s]"
     ]
    },
    {
     "name": "stdout",
     "output_type": "stream",
     "text": [
      "mealService 응답코드: 200\n",
      "급식 데이터 수: 62\n",
      "8750095 동명고등학교\n",
      "급식 정보 조회 중: 날짜=20250618\n"
     ]
    },
    {
     "name": "stderr",
     "output_type": "stream",
     "text": [
      "고등학교 급식 조회:  35%|█████████████████▍                                | 64/183 [00:17<00:32,  3.66it/s]"
     ]
    },
    {
     "name": "stdout",
     "output_type": "stream",
     "text": [
      "mealService 응답코드: 200\n",
      "급식 데이터 수: 37\n",
      "8750165 동지고등학교\n",
      "급식 정보 조회 중: 날짜=20250618\n"
     ]
    },
    {
     "name": "stderr",
     "output_type": "stream",
     "text": [
      "고등학교 급식 조회:  36%|█████████████████▊                                | 65/183 [00:17<00:30,  3.85it/s]"
     ]
    },
    {
     "name": "stdout",
     "output_type": "stream",
     "text": [
      "mealService 응답코드: 200\n",
      "급식 데이터 수: 41\n",
      "8750568 동지여자고등학교\n",
      "급식 정보 조회 중: 날짜=20250618\n"
     ]
    },
    {
     "name": "stderr",
     "output_type": "stream",
     "text": [
      "고등학교 급식 조회:  36%|██████████████████                                | 66/183 [00:17<00:29,  3.92it/s]"
     ]
    },
    {
     "name": "stdout",
     "output_type": "stream",
     "text": [
      "mealService 응답코드: 200\n",
      "급식 데이터 수: 41\n",
      "8750518 두호고등학교\n",
      "급식 정보 조회 중: 날짜=20250618\n"
     ]
    },
    {
     "name": "stderr",
     "output_type": "stream",
     "text": [
      "고등학교 급식 조회:  37%|██████████████████▎                               | 67/183 [00:18<00:28,  4.09it/s]"
     ]
    },
    {
     "name": "stdout",
     "output_type": "stream",
     "text": [
      "mealService 응답코드: 200\n",
      "급식 데이터 수: 41\n",
      "8750762 명인고등학교\n",
      "급식 정보 조회 중: 날짜=20250618\n"
     ]
    },
    {
     "name": "stderr",
     "output_type": "stream",
     "text": [
      "고등학교 급식 조회:  37%|██████████████████▌                               | 68/183 [00:18<00:27,  4.15it/s]"
     ]
    },
    {
     "name": "stdout",
     "output_type": "stream",
     "text": [
      "mealService 응답코드: 200\n",
      "급식 데이터 수: 54\n",
      "8750166 모계고등학교\n",
      "급식 정보 조회 중: 날짜=20250618\n"
     ]
    },
    {
     "name": "stderr",
     "output_type": "stream",
     "text": [
      "고등학교 급식 조회:  38%|██████████████████▊                               | 69/183 [00:18<00:27,  4.13it/s]"
     ]
    },
    {
     "name": "stdout",
     "output_type": "stream",
     "text": [
      "mealService 응답코드: 200\n",
      "급식 데이터 수: 66\n",
      "8750167 무산고등학교\n",
      "급식 정보 조회 중: 날짜=20250618\n"
     ]
    },
    {
     "name": "stderr",
     "output_type": "stream",
     "text": [
      "고등학교 급식 조회:  38%|███████████████████▏                              | 70/183 [00:18<00:27,  4.17it/s]"
     ]
    },
    {
     "name": "stdout",
     "output_type": "stream",
     "text": [
      "mealService 응답코드: 200\n",
      "급식 데이터 수: 48\n",
      "8750246 문경공업고등학교\n",
      "급식 정보 조회 중: 날짜=20250618\n"
     ]
    },
    {
     "name": "stderr",
     "output_type": "stream",
     "text": [
      "고등학교 급식 조회:  39%|███████████████████▍                              | 71/183 [00:19<00:26,  4.16it/s]"
     ]
    },
    {
     "name": "stdout",
     "output_type": "stream",
     "text": [
      "mealService 응답코드: 200\n",
      "급식 데이터 수: 58\n",
      "8750169 문경여자고등학교\n",
      "급식 정보 조회 중: 날짜=20250618\n"
     ]
    },
    {
     "name": "stderr",
     "output_type": "stream",
     "text": [
      "고등학교 급식 조회:  39%|███████████████████▋                              | 72/183 [00:19<00:28,  3.93it/s]"
     ]
    },
    {
     "name": "stdout",
     "output_type": "stream",
     "text": [
      "mealService 응답코드: 200\n",
      "급식 데이터 수: 62\n",
      "8750170 문명고등학교\n",
      "급식 정보 조회 중: 날짜=20250618\n"
     ]
    },
    {
     "name": "stderr",
     "output_type": "stream",
     "text": [
      "고등학교 급식 조회:  40%|███████████████████▉                              | 73/183 [00:19<00:29,  3.74it/s]"
     ]
    },
    {
     "name": "stdout",
     "output_type": "stream",
     "text": [
      "mealService 응답코드: 200\n",
      "급식 데이터 수: 66\n",
      "8750171 문창고등학교\n",
      "급식 정보 조회 중: 날짜=20250618\n"
     ]
    },
    {
     "name": "stderr",
     "output_type": "stream",
     "text": [
      "고등학교 급식 조회:  40%|████████████████████▏                             | 74/183 [00:19<00:28,  3.83it/s]"
     ]
    },
    {
     "name": "stdout",
     "output_type": "stream",
     "text": [
      "mealService 응답코드: 200\n",
      "급식 데이터 수: 59\n",
      "8750172 문화고등학교\n",
      "급식 정보 조회 중: 날짜=20250618\n"
     ]
    },
    {
     "name": "stderr",
     "output_type": "stream",
     "text": [
      "고등학교 급식 조회:  41%|████████████████████▍                             | 75/183 [00:20<00:28,  3.81it/s]"
     ]
    },
    {
     "name": "stdout",
     "output_type": "stream",
     "text": [
      "mealService 응답코드: 200\n",
      "급식 데이터 수: 69\n",
      "8750097 봉화고등학교\n",
      "급식 정보 조회 중: 날짜=20250618\n"
     ]
    },
    {
     "name": "stderr",
     "output_type": "stream",
     "text": [
      "고등학교 급식 조회:  42%|████████████████████▊                             | 76/183 [00:20<00:27,  3.96it/s]"
     ]
    },
    {
     "name": "stdout",
     "output_type": "stream",
     "text": [
      "mealService 응답코드: 200\n",
      "급식 데이터 수: 58\n",
      "8750581 북삼고등학교\n",
      "급식 정보 조회 중: 날짜=20250618\n"
     ]
    },
    {
     "name": "stderr",
     "output_type": "stream",
     "text": [
      "고등학교 급식 조회:  42%|█████████████████████                             | 77/183 [00:20<00:26,  3.99it/s]"
     ]
    },
    {
     "name": "stdout",
     "output_type": "stream",
     "text": [
      "mealService 응답코드: 200\n",
      "급식 데이터 수: 60\n",
      "8750487 사곡고등학교\n",
      "급식 정보 조회 중: 날짜=20250618\n"
     ]
    },
    {
     "name": "stderr",
     "output_type": "stream",
     "text": [
      "고등학교 급식 조회:  43%|█████████████████████▎                            | 78/183 [00:20<00:25,  4.17it/s]"
     ]
    },
    {
     "name": "stdout",
     "output_type": "stream",
     "text": [
      "mealService 응답코드: 200\n",
      "급식 데이터 수: 38\n",
      "8750654 사동고등학교\n",
      "급식 정보 조회 중: 날짜=20250618\n"
     ]
    },
    {
     "name": "stderr",
     "output_type": "stream",
     "text": [
      "고등학교 급식 조회:  43%|█████████████████████▌                            | 79/183 [00:21<00:24,  4.21it/s]"
     ]
    },
    {
     "name": "stdout",
     "output_type": "stream",
     "text": [
      "mealService 응답코드: 200\n",
      "급식 데이터 수: 38\n",
      "8750536 삼성생활예술고등학교\n",
      "급식 정보 조회 중: 날짜=20250618\n"
     ]
    },
    {
     "name": "stderr",
     "output_type": "stream",
     "text": [
      "고등학교 급식 조회:  44%|█████████████████████▊                            | 80/183 [00:21<00:25,  4.08it/s]"
     ]
    },
    {
     "name": "stdout",
     "output_type": "stream",
     "text": [
      "mealService 응답코드: 200\n",
      "급식 데이터 수: 59\n",
      "8750486 상모고등학교\n",
      "급식 정보 조회 중: 날짜=20250618\n"
     ]
    },
    {
     "name": "stderr",
     "output_type": "stream",
     "text": [
      "고등학교 급식 조회:  44%|██████████████████████▏                           | 81/183 [00:21<00:24,  4.22it/s]"
     ]
    },
    {
     "name": "stdout",
     "output_type": "stream",
     "text": [
      "mealService 응답코드: 200\n",
      "급식 데이터 수: 38\n",
      "8750544 상산전자고등학교\n",
      "급식 정보 조회 중: 날짜=20250618\n"
     ]
    },
    {
     "name": "stderr",
     "output_type": "stream",
     "text": [
      "고등학교 급식 조회:  45%|██████████████████████▍                           | 82/183 [00:21<00:25,  3.90it/s]"
     ]
    },
    {
     "name": "stdout",
     "output_type": "stream",
     "text": [
      "mealService 응답코드: 200\n",
      "급식 데이터 수: 57\n",
      "8750174 상주고등학교\n",
      "급식 정보 조회 중: 날짜=20250618\n"
     ]
    },
    {
     "name": "stderr",
     "output_type": "stream",
     "text": [
      "고등학교 급식 조회:  45%|██████████████████████▋                           | 83/183 [00:22<00:25,  3.94it/s]"
     ]
    },
    {
     "name": "stdout",
     "output_type": "stream",
     "text": [
      "mealService 응답코드: 200\n",
      "급식 데이터 수: 71\n",
      "8750315 상주공업고등학교\n",
      "급식 정보 조회 중: 날짜=20250618\n"
     ]
    },
    {
     "name": "stderr",
     "output_type": "stream",
     "text": [
      "고등학교 급식 조회:  46%|██████████████████████▉                           | 84/183 [00:22<00:26,  3.74it/s]"
     ]
    },
    {
     "name": "stdout",
     "output_type": "stream",
     "text": [
      "mealService 응답코드: 200\n",
      "급식 데이터 수: 42\n",
      "8750104 상주여자고등학교\n",
      "급식 정보 조회 중: 날짜=20250618\n"
     ]
    },
    {
     "name": "stderr",
     "output_type": "stream",
     "text": [
      "고등학교 급식 조회:  46%|███████████████████████▏                          | 85/183 [00:22<00:25,  3.91it/s]"
     ]
    },
    {
     "name": "stdout",
     "output_type": "stream",
     "text": [
      "mealService 응답코드: 200\n",
      "급식 데이터 수: 66\n",
      "8750806 상지미래경영고등학교\n",
      "급식 정보 조회 중: 날짜=20250618\n"
     ]
    },
    {
     "name": "stderr",
     "output_type": "stream",
     "text": [
      "고등학교 급식 조회:  47%|███████████████████████▍                          | 86/183 [00:22<00:23,  4.06it/s]"
     ]
    },
    {
     "name": "stdout",
     "output_type": "stream",
     "text": [
      "mealService 응답코드: 200\n",
      "급식 데이터 수: 56\n",
      "8750637 석적고등학교\n",
      "급식 정보 조회 중: 날짜=20250618\n"
     ]
    },
    {
     "name": "stderr",
     "output_type": "stream",
     "text": [
      "고등학교 급식 조회:  48%|███████████████████████▊                          | 87/183 [00:23<00:24,  3.94it/s]"
     ]
    },
    {
     "name": "stdout",
     "output_type": "stream",
     "text": [
      "mealService 응답코드: 200\n",
      "급식 데이터 수: 58\n",
      "8750449 선덕여자고등학교\n",
      "급식 정보 조회 중: 날짜=20250618\n"
     ]
    },
    {
     "name": "stderr",
     "output_type": "stream",
     "text": [
      "고등학교 급식 조회:  48%|████████████████████████                          | 88/183 [00:23<00:24,  3.80it/s]"
     ]
    },
    {
     "name": "stdout",
     "output_type": "stream",
     "text": [
      "mealService 응답코드: 200\n",
      "급식 데이터 수: 61\n",
      "8750105 선산고등학교\n",
      "급식 정보 조회 중: 날짜=20250618\n"
     ]
    },
    {
     "name": "stderr",
     "output_type": "stream",
     "text": [
      "고등학교 급식 조회:  49%|████████████████████████▎                         | 89/183 [00:23<00:24,  3.88it/s]"
     ]
    },
    {
     "name": "stdout",
     "output_type": "stream",
     "text": [
      "mealService 응답코드: 200\n",
      "급식 데이터 수: 58\n",
      "8750519 선주고등학교\n",
      "급식 정보 조회 중: 날짜=20250618\n"
     ]
    },
    {
     "name": "stderr",
     "output_type": "stream",
     "text": [
      "고등학교 급식 조회:  49%|████████████████████████▌                         | 90/183 [00:23<00:22,  4.09it/s]"
     ]
    },
    {
     "name": "stdout",
     "output_type": "stream",
     "text": [
      "mealService 응답코드: 200\n",
      "급식 데이터 수: 38\n",
      "8750450 성의고등학교\n",
      "급식 정보 조회 중: 날짜=20250618\n"
     ]
    },
    {
     "name": "stderr",
     "output_type": "stream",
     "text": [
      "고등학교 급식 조회:  50%|████████████████████████▊                         | 91/183 [00:24<00:22,  4.01it/s]"
     ]
    },
    {
     "name": "stdout",
     "output_type": "stream",
     "text": [
      "mealService 응답코드: 200\n",
      "급식 데이터 수: 62\n",
      "8750451 성의여자고등학교\n",
      "급식 정보 조회 중: 날짜=20250618\n"
     ]
    },
    {
     "name": "stderr",
     "output_type": "stream",
     "text": [
      "고등학교 급식 조회:  50%|█████████████████████████▏                        | 92/183 [00:24<00:21,  4.16it/s]"
     ]
    },
    {
     "name": "stdout",
     "output_type": "stream",
     "text": [
      "mealService 응답코드: 200\n",
      "mealServiceDietInfo 키 없음: {'RESULT': {'CODE': 'INFO-200', 'MESSAGE': '해당하는 데이터가 없습니다.'}}\n",
      "8750177 성주고등학교\n",
      "급식 정보 조회 중: 날짜=20250618\n"
     ]
    },
    {
     "name": "stderr",
     "output_type": "stream",
     "text": [
      "고등학교 급식 조회:  51%|█████████████████████████▍                        | 93/183 [00:24<00:22,  4.07it/s]"
     ]
    },
    {
     "name": "stdout",
     "output_type": "stream",
     "text": [
      "mealService 응답코드: 200\n",
      "급식 데이터 수: 57\n",
      "8750465 성주여자고등학교\n",
      "급식 정보 조회 중: 날짜=20250618\n"
     ]
    },
    {
     "name": "stderr",
     "output_type": "stream",
     "text": [
      "고등학교 급식 조회:  51%|█████████████████████████▋                        | 94/183 [00:24<00:22,  3.95it/s]"
     ]
    },
    {
     "name": "stdout",
     "output_type": "stream",
     "text": [
      "mealService 응답코드: 200\n",
      "급식 데이터 수: 57\n",
      "8750178 성창여자고등학교\n",
      "급식 정보 조회 중: 날짜=20250618\n"
     ]
    },
    {
     "name": "stderr",
     "output_type": "stream",
     "text": [
      "고등학교 급식 조회:  52%|█████████████████████████▉                        | 95/183 [00:25<00:22,  3.87it/s]"
     ]
    },
    {
     "name": "stdout",
     "output_type": "stream",
     "text": [
      "mealService 응답코드: 200\n",
      "급식 데이터 수: 54\n",
      "8750179 성희여자고등학교\n",
      "급식 정보 조회 중: 날짜=20250618\n"
     ]
    },
    {
     "name": "stderr",
     "output_type": "stream",
     "text": [
      "고등학교 급식 조회:  52%|██████████████████████████▏                       | 96/183 [00:25<00:23,  3.64it/s]"
     ]
    },
    {
     "name": "stdout",
     "output_type": "stream",
     "text": [
      "mealService 응답코드: 200\n",
      "급식 데이터 수: 70\n",
      "8750180 세명고등학교\n",
      "급식 정보 조회 중: 날짜=20250618\n"
     ]
    },
    {
     "name": "stderr",
     "output_type": "stream",
     "text": [
      "고등학교 급식 조회:  53%|██████████████████████████▌                       | 97/183 [00:25<00:22,  3.77it/s]"
     ]
    },
    {
     "name": "stdout",
     "output_type": "stream",
     "text": [
      "mealService 응답코드: 200\n",
      "급식 데이터 수: 41\n",
      "8750541 세화고등학교\n",
      "급식 정보 조회 중: 날짜=20250618\n"
     ]
    },
    {
     "name": "stderr",
     "output_type": "stream",
     "text": [
      "고등학교 급식 조회:  54%|██████████████████████████▊                       | 98/183 [00:25<00:21,  3.93it/s]"
     ]
    },
    {
     "name": "stdout",
     "output_type": "stream",
     "text": [
      "mealService 응답코드: 200\n",
      "급식 데이터 수: 37\n",
      "8750107 수비고등학교\n",
      "급식 정보 조회 중: 날짜=20250618\n"
     ]
    },
    {
     "name": "stderr",
     "output_type": "stream",
     "text": [
      "고등학교 급식 조회:  54%|███████████████████████████                       | 99/183 [00:26<00:19,  4.20it/s]"
     ]
    },
    {
     "name": "stdout",
     "output_type": "stream",
     "text": [
      "mealService 응답코드: 200\n",
      "급식 데이터 수: 21\n",
      "8750182 순심고등학교\n",
      "급식 정보 조회 중: 날짜=20250618\n"
     ]
    },
    {
     "name": "stderr",
     "output_type": "stream",
     "text": [
      "고등학교 급식 조회:  55%|██████████████████████████▊                      | 100/183 [00:26<00:22,  3.75it/s]"
     ]
    },
    {
     "name": "stdout",
     "output_type": "stream",
     "text": [
      "mealService 응답코드: 200\n",
      "급식 데이터 수: 63\n",
      "8750183 순심여자고등학교\n",
      "급식 정보 조회 중: 날짜=20250618\n"
     ]
    },
    {
     "name": "stderr",
     "output_type": "stream",
     "text": [
      "고등학교 급식 조회:  55%|███████████████████████████                      | 101/183 [00:26<00:24,  3.38it/s]"
     ]
    },
    {
     "name": "stdout",
     "output_type": "stream",
     "text": [
      "mealService 응답코드: 200\n",
      "급식 데이터 수: 67\n",
      "8750184 신라고등학교\n",
      "급식 정보 조회 중: 날짜=20250618\n"
     ]
    },
    {
     "name": "stderr",
     "output_type": "stream",
     "text": [
      "고등학교 급식 조회:  56%|███████████████████████████▎                     | 102/183 [00:27<00:23,  3.48it/s]"
     ]
    },
    {
     "name": "stdout",
     "output_type": "stream",
     "text": [
      "mealService 응답코드: 200\n",
      "급식 데이터 수: 63\n",
      "8750323 신라공업고등학교\n",
      "급식 정보 조회 중: 날짜=20250618\n"
     ]
    },
    {
     "name": "stderr",
     "output_type": "stream",
     "text": [
      "고등학교 급식 조회:  56%|███████████████████████████▌                     | 103/183 [00:27<00:22,  3.62it/s]"
     ]
    },
    {
     "name": "stdout",
     "output_type": "stream",
     "text": [
      "mealService 응답코드: 200\n",
      "급식 데이터 수: 58\n",
      "8750453 안강전자고등학교\n",
      "급식 정보 조회 중: 날짜=20250618\n"
     ]
    },
    {
     "name": "stderr",
     "output_type": "stream",
     "text": [
      "고등학교 급식 조회:  57%|███████████████████████████▊                     | 104/183 [00:27<00:20,  3.89it/s]"
     ]
    },
    {
     "name": "stdout",
     "output_type": "stream",
     "text": [
      "mealService 응답코드: 200\n",
      "급식 데이터 수: 52\n",
      "8750467 안계고등학교\n",
      "급식 정보 조회 중: 날짜=20250618\n"
     ]
    },
    {
     "name": "stderr",
     "output_type": "stream",
     "text": [
      "고등학교 급식 조회:  57%|████████████████████████████                     | 105/183 [00:27<00:20,  3.90it/s]"
     ]
    },
    {
     "name": "stdout",
     "output_type": "stream",
     "text": [
      "mealService 응답코드: 200\n",
      "급식 데이터 수: 57\n",
      "8750113 안동고등학교\n",
      "급식 정보 조회 중: 날짜=20250618\n"
     ]
    },
    {
     "name": "stderr",
     "output_type": "stream",
     "text": [
      "고등학교 급식 조회:  58%|████████████████████████████▍                    | 106/183 [00:28<00:19,  3.93it/s]"
     ]
    },
    {
     "name": "stdout",
     "output_type": "stream",
     "text": [
      "mealService 응답코드: 200\n",
      "급식 데이터 수: 66\n",
      "8750114 안동여자고등학교\n",
      "급식 정보 조회 중: 날짜=20250618\n"
     ]
    },
    {
     "name": "stderr",
     "output_type": "stream",
     "text": [
      "고등학교 급식 조회:  58%|████████████████████████████▋                    | 107/183 [00:28<00:20,  3.77it/s]"
     ]
    },
    {
     "name": "stdout",
     "output_type": "stream",
     "text": [
      "mealService 응답코드: 200\n",
      "급식 데이터 수: 62\n",
      "8750186 안동중앙고등학교\n",
      "급식 정보 조회 중: 날짜=20250618\n"
     ]
    },
    {
     "name": "stderr",
     "output_type": "stream",
     "text": [
      "고등학교 급식 조회:  59%|████████████████████████████▉                    | 108/183 [00:28<00:20,  3.71it/s]"
     ]
    },
    {
     "name": "stdout",
     "output_type": "stream",
     "text": [
      "mealService 응답코드: 200\n",
      "급식 데이터 수: 63\n",
      "8750115 약목고등학교\n",
      "급식 정보 조회 중: 날짜=20250618\n"
     ]
    },
    {
     "name": "stderr",
     "output_type": "stream",
     "text": [
      "고등학교 급식 조회:  60%|█████████████████████████████▏                   | 109/183 [00:28<00:19,  3.81it/s]"
     ]
    },
    {
     "name": "stdout",
     "output_type": "stream",
     "text": [
      "mealService 응답코드: 200\n",
      "급식 데이터 수: 58\n",
      "8750188 영광고등학교\n",
      "급식 정보 조회 중: 날짜=20250618\n"
     ]
    },
    {
     "name": "stderr",
     "output_type": "stream",
     "text": [
      "고등학교 급식 조회:  60%|█████████████████████████████▍                   | 110/183 [00:29<00:18,  3.86it/s]"
     ]
    },
    {
     "name": "stdout",
     "output_type": "stream",
     "text": [
      "mealService 응답코드: 200\n",
      "급식 데이터 수: 60\n",
      "8750189 영광여자고등학교\n",
      "급식 정보 조회 중: 날짜=20250618\n"
     ]
    },
    {
     "name": "stderr",
     "output_type": "stream",
     "text": [
      "고등학교 급식 조회:  61%|█████████████████████████████▋                   | 111/183 [00:29<00:18,  3.96it/s]"
     ]
    },
    {
     "name": "stdout",
     "output_type": "stream",
     "text": [
      "mealService 응답코드: 200\n",
      "급식 데이터 수: 66\n",
      "8750190 영남삼육고등학교\n",
      "급식 정보 조회 중: 날짜=20250618\n"
     ]
    },
    {
     "name": "stderr",
     "output_type": "stream",
     "text": [
      "고등학교 급식 조회:  61%|█████████████████████████████▉                   | 112/183 [00:29<00:19,  3.72it/s]"
     ]
    },
    {
     "name": "stdout",
     "output_type": "stream",
     "text": [
      "mealService 응답코드: 200\n",
      "급식 데이터 수: 63\n",
      "8750546 영덕고등학교\n",
      "급식 정보 조회 중: 날짜=20250618\n"
     ]
    },
    {
     "name": "stderr",
     "output_type": "stream",
     "text": [
      "고등학교 급식 조회:  62%|██████████████████████████████▎                  | 113/183 [00:29<00:18,  3.79it/s]"
     ]
    },
    {
     "name": "stdout",
     "output_type": "stream",
     "text": [
      "mealService 응답코드: 200\n",
      "급식 데이터 수: 37\n",
      "8750191 영덕여자고등학교\n",
      "급식 정보 조회 중: 날짜=20250618\n"
     ]
    },
    {
     "name": "stderr",
     "output_type": "stream",
     "text": [
      "고등학교 급식 조회:  62%|██████████████████████████████▌                  | 114/183 [00:30<00:17,  3.87it/s]"
     ]
    },
    {
     "name": "stdout",
     "output_type": "stream",
     "text": [
      "mealService 응답코드: 200\n",
      "급식 데이터 수: 41\n",
      "8750192 영동고등학교\n",
      "급식 정보 조회 중: 날짜=20250618\n"
     ]
    },
    {
     "name": "stderr",
     "output_type": "stream",
     "text": [
      "고등학교 급식 조회:  63%|██████████████████████████████▊                  | 115/183 [00:30<00:17,  3.93it/s]"
     ]
    },
    {
     "name": "stdout",
     "output_type": "stream",
     "text": [
      "mealService 응답코드: 200\n",
      "급식 데이터 수: 65\n",
      "8750117 영양고등학교\n",
      "급식 정보 조회 중: 날짜=20250618\n"
     ]
    },
    {
     "name": "stderr",
     "output_type": "stream",
     "text": [
      "고등학교 급식 조회:  63%|███████████████████████████████                  | 116/183 [00:30<00:16,  4.08it/s]"
     ]
    },
    {
     "name": "stdout",
     "output_type": "stream",
     "text": [
      "mealService 응답코드: 200\n",
      "급식 데이터 수: 59\n",
      "8750325 영양여자고등학교\n",
      "급식 정보 조회 중: 날짜=20250618\n"
     ]
    },
    {
     "name": "stderr",
     "output_type": "stream",
     "text": [
      "고등학교 급식 조회:  64%|███████████████████████████████▎                 | 117/183 [00:30<00:16,  4.12it/s]"
     ]
    },
    {
     "name": "stdout",
     "output_type": "stream",
     "text": [
      "mealService 응답코드: 200\n",
      "급식 데이터 수: 83\n",
      "8750480 영일고등학교\n",
      "급식 정보 조회 중: 날짜=20250618\n"
     ]
    },
    {
     "name": "stderr",
     "output_type": "stream",
     "text": [
      "고등학교 급식 조회:  64%|███████████████████████████████▌                 | 118/183 [00:31<00:15,  4.12it/s]"
     ]
    },
    {
     "name": "stdout",
     "output_type": "stream",
     "text": [
      "mealService 응답코드: 200\n",
      "급식 데이터 수: 41\n",
      "8750118 영주여자고등학교\n",
      "급식 정보 조회 중: 날짜=20250618\n"
     ]
    },
    {
     "name": "stderr",
     "output_type": "stream",
     "text": [
      "고등학교 급식 조회:  65%|███████████████████████████████▊                 | 119/183 [00:31<00:15,  4.00it/s]"
     ]
    },
    {
     "name": "stdout",
     "output_type": "stream",
     "text": [
      "mealService 응답코드: 200\n",
      "급식 데이터 수: 62\n",
      "8750456 영주제일고등학교\n",
      "급식 정보 조회 중: 날짜=20250618\n"
     ]
    },
    {
     "name": "stderr",
     "output_type": "stream",
     "text": [
      "고등학교 급식 조회:  66%|████████████████████████████████▏                | 120/183 [00:31<00:15,  4.15it/s]"
     ]
    },
    {
     "name": "stdout",
     "output_type": "stream",
     "text": [
      "mealService 응답코드: 200\n",
      "급식 데이터 수: 63\n",
      "8750119 영천고등학교\n",
      "급식 정보 조회 중: 날짜=20250618\n"
     ]
    },
    {
     "name": "stderr",
     "output_type": "stream",
     "text": [
      "고등학교 급식 조회:  66%|████████████████████████████████▍                | 121/183 [00:31<00:15,  4.02it/s]"
     ]
    },
    {
     "name": "stdout",
     "output_type": "stream",
     "text": [
      "mealService 응답코드: 200\n",
      "급식 데이터 수: 63\n",
      "8750525 영천성남여자고등학교\n",
      "급식 정보 조회 중: 날짜=20250618\n"
     ]
    },
    {
     "name": "stderr",
     "output_type": "stream",
     "text": [
      "고등학교 급식 조회:  67%|████████████████████████████████▋                | 122/183 [00:32<00:15,  3.97it/s]"
     ]
    },
    {
     "name": "stdout",
     "output_type": "stream",
     "text": [
      "mealService 응답코드: 200\n",
      "급식 데이터 수: 73\n",
      "8750120 영천여자고등학교\n",
      "급식 정보 조회 중: 날짜=20250618\n"
     ]
    },
    {
     "name": "stderr",
     "output_type": "stream",
     "text": [
      "고등학교 급식 조회:  67%|████████████████████████████████▉                | 123/183 [00:32<00:15,  3.98it/s]"
     ]
    },
    {
     "name": "stdout",
     "output_type": "stream",
     "text": [
      "mealService 응답코드: 200\n",
      "급식 데이터 수: 61\n",
      "8750476 영천전자고등학교\n",
      "급식 정보 조회 중: 날짜=20250618\n"
     ]
    },
    {
     "name": "stderr",
     "output_type": "stream",
     "text": [
      "고등학교 급식 조회:  68%|█████████████████████████████████▏               | 124/183 [00:32<00:14,  4.02it/s]"
     ]
    },
    {
     "name": "stdout",
     "output_type": "stream",
     "text": [
      "mealService 응답코드: 200\n",
      "급식 데이터 수: 58\n",
      "8750121 영해고등학교\n",
      "급식 정보 조회 중: 날짜=20250618\n"
     ]
    },
    {
     "name": "stderr",
     "output_type": "stream",
     "text": [
      "고등학교 급식 조회:  68%|█████████████████████████████████▍               | 125/183 [00:32<00:15,  3.86it/s]"
     ]
    },
    {
     "name": "stdout",
     "output_type": "stream",
     "text": [
      "mealService 응답코드: 200\n",
      "급식 데이터 수: 58\n",
      "8750768 예일메디텍고등학교\n",
      "급식 정보 조회 중: 날짜=20250618\n"
     ]
    },
    {
     "name": "stderr",
     "output_type": "stream",
     "text": [
      "고등학교 급식 조회:  69%|█████████████████████████████████▋               | 126/183 [00:33<00:16,  3.49it/s]"
     ]
    },
    {
     "name": "stdout",
     "output_type": "stream",
     "text": [
      "mealService 응답코드: 200\n",
      "급식 데이터 수: 59\n",
      "8750122 예천여자고등학교\n",
      "급식 정보 조회 중: 날짜=20250618\n"
     ]
    },
    {
     "name": "stderr",
     "output_type": "stream",
     "text": [
      "고등학교 급식 조회:  69%|██████████████████████████████████               | 127/183 [00:33<00:16,  3.36it/s]"
     ]
    },
    {
     "name": "stdout",
     "output_type": "stream",
     "text": [
      "mealService 응답코드: 200\n",
      "급식 데이터 수: 68\n",
      "8750198 오상고등학교\n",
      "급식 정보 조회 중: 날짜=20250618\n"
     ]
    },
    {
     "name": "stderr",
     "output_type": "stream",
     "text": [
      "고등학교 급식 조회:  70%|██████████████████████████████████▎              | 128/183 [00:33<00:15,  3.50it/s]"
     ]
    },
    {
     "name": "stdout",
     "output_type": "stream",
     "text": [
      "mealService 응답코드: 200\n",
      "급식 데이터 수: 63\n",
      "8750468 오천고등학교\n",
      "급식 정보 조회 중: 날짜=20250618\n"
     ]
    },
    {
     "name": "stderr",
     "output_type": "stream",
     "text": [
      "고등학교 급식 조회:  70%|██████████████████████████████████▌              | 129/183 [00:34<00:15,  3.53it/s]"
     ]
    },
    {
     "name": "stdout",
     "output_type": "stream",
     "text": [
      "mealService 응답코드: 200\n",
      "급식 데이터 수: 41\n",
      "8750589 우석여자고등학교\n",
      "급식 정보 조회 중: 날짜=20250618\n"
     ]
    },
    {
     "name": "stderr",
     "output_type": "stream",
     "text": [
      "고등학교 급식 조회:  71%|██████████████████████████████████▊              | 130/183 [00:34<00:14,  3.73it/s]"
     ]
    },
    {
     "name": "stdout",
     "output_type": "stream",
     "text": [
      "mealService 응답코드: 200\n",
      "급식 데이터 수: 41\n",
      "8750587 울릉고등학교\n",
      "급식 정보 조회 중: 날짜=20250618\n",
      "mealService 응답코드: 200\n",
      "급식 데이터 수: 21\n"
     ]
    },
    {
     "name": "stderr",
     "output_type": "stream",
     "text": [
      "고등학교 급식 조회:  72%|███████████████████████████████████              | 131/183 [00:34<00:12,  4.04it/s]"
     ]
    },
    {
     "name": "stdout",
     "output_type": "stream",
     "text": [
      "8750419 울진고등학교\n",
      "급식 정보 조회 중: 날짜=20250618\n"
     ]
    },
    {
     "name": "stderr",
     "output_type": "stream",
     "text": [
      "고등학교 급식 조회:  72%|███████████████████████████████████▎             | 132/183 [00:34<00:14,  3.64it/s]"
     ]
    },
    {
     "name": "stdout",
     "output_type": "stream",
     "text": [
      "mealService 응답코드: 200\n",
      "급식 데이터 수: 63\n",
      "8750201 유성여자고등학교\n",
      "급식 정보 조회 중: 날짜=20250618\n"
     ]
    },
    {
     "name": "stderr",
     "output_type": "stream",
     "text": [
      "고등학교 급식 조회:  73%|███████████████████████████████████▌             | 133/183 [00:35<00:13,  3.63it/s]"
     ]
    },
    {
     "name": "stdout",
     "output_type": "stream",
     "text": [
      "mealService 응답코드: 200\n",
      "급식 데이터 수: 41\n",
      "8750656 율곡고등학교\n",
      "급식 정보 조회 중: 날짜=20250618\n"
     ]
    },
    {
     "name": "stderr",
     "output_type": "stream",
     "text": [
      "고등학교 급식 조회:  73%|███████████████████████████████████▉             | 134/183 [00:35<00:14,  3.48it/s]"
     ]
    },
    {
     "name": "stdout",
     "output_type": "stream",
     "text": [
      "mealService 응답코드: 200\n",
      "급식 데이터 수: 60\n",
      "8750202 의성고등학교\n",
      "급식 정보 조회 중: 날짜=20250618\n"
     ]
    },
    {
     "name": "stderr",
     "output_type": "stream",
     "text": [
      "고등학교 급식 조회:  74%|████████████████████████████████████▏            | 135/183 [00:35<00:13,  3.54it/s]"
     ]
    },
    {
     "name": "stdout",
     "output_type": "stream",
     "text": [
      "mealService 응답코드: 200\n",
      "급식 데이터 수: 65\n",
      "8750124 의성여자고등학교\n",
      "급식 정보 조회 중: 날짜=20250618\n"
     ]
    },
    {
     "name": "stderr",
     "output_type": "stream",
     "text": [
      "고등학교 급식 조회:  74%|████████████████████████████████████▍            | 136/183 [00:36<00:12,  3.64it/s]"
     ]
    },
    {
     "name": "stdout",
     "output_type": "stream",
     "text": [
      "mealService 응답코드: 200\n",
      "급식 데이터 수: 63\n",
      "8750766 의성유니텍고등학교\n",
      "급식 정보 조회 중: 날짜=20250618\n"
     ]
    },
    {
     "name": "stderr",
     "output_type": "stream",
     "text": [
      "고등학교 급식 조회:  75%|████████████████████████████████████▋            | 137/183 [00:36<00:12,  3.76it/s]"
     ]
    },
    {
     "name": "stdout",
     "output_type": "stream",
     "text": [
      "mealService 응답코드: 200\n",
      "급식 데이터 수: 56\n",
      "8750203 이서고등학교\n",
      "급식 정보 조회 중: 날짜=20250618\n"
     ]
    },
    {
     "name": "stderr",
     "output_type": "stream",
     "text": [
      "고등학교 급식 조회:  75%|████████████████████████████████████▉            | 138/183 [00:36<00:12,  3.74it/s]"
     ]
    },
    {
     "name": "stdout",
     "output_type": "stream",
     "text": [
      "mealService 응답코드: 200\n",
      "급식 데이터 수: 76\n",
      "8750473 인동고등학교\n",
      "급식 정보 조회 중: 날짜=20250618\n"
     ]
    },
    {
     "name": "stderr",
     "output_type": "stream",
     "text": [
      "고등학교 급식 조회:  76%|█████████████████████████████████████▏           | 139/183 [00:36<00:11,  3.84it/s]"
     ]
    },
    {
     "name": "stdout",
     "output_type": "stream",
     "text": [
      "mealService 응답코드: 200\n",
      "급식 데이터 수: 37\n",
      "8750127 점촌고등학교\n",
      "급식 정보 조회 중: 날짜=20250618\n"
     ]
    },
    {
     "name": "stderr",
     "output_type": "stream",
     "text": [
      "고등학교 급식 조회:  77%|█████████████████████████████████████▍           | 140/183 [00:37<00:13,  3.23it/s]"
     ]
    },
    {
     "name": "stdout",
     "output_type": "stream",
     "text": [
      "mealService 응답코드: 200\n",
      "급식 데이터 수: 67\n",
      "8750559 죽변고등학교\n",
      "급식 정보 조회 중: 날짜=20250618\n"
     ]
    },
    {
     "name": "stderr",
     "output_type": "stream",
     "text": [
      "고등학교 급식 조회:  77%|█████████████████████████████████████▊           | 141/183 [00:37<00:13,  3.09it/s]"
     ]
    },
    {
     "name": "stdout",
     "output_type": "stream",
     "text": [
      "mealService 응답코드: 200\n",
      "급식 데이터 수: 56\n",
      "8750205 진량고등학교\n",
      "급식 정보 조회 중: 날짜=20250618\n"
     ]
    },
    {
     "name": "stderr",
     "output_type": "stream",
     "text": [
      "고등학교 급식 조회:  78%|██████████████████████████████████████           | 142/183 [00:38<00:14,  2.80it/s]"
     ]
    },
    {
     "name": "stdout",
     "output_type": "stream",
     "text": [
      "mealService 응답코드: 200\n",
      "급식 데이터 수: 62\n",
      "8750535 진보고등학교\n",
      "급식 정보 조회 중: 날짜=20250618\n"
     ]
    },
    {
     "name": "stderr",
     "output_type": "stream",
     "text": [
      "고등학교 급식 조회:  78%|██████████████████████████████████████▎          | 143/183 [00:38<00:13,  3.04it/s]"
     ]
    },
    {
     "name": "stdout",
     "output_type": "stream",
     "text": [
      "mealService 응답코드: 200\n",
      "급식 데이터 수: 51\n",
      "8750558 청도고등학교\n",
      "급식 정보 조회 중: 날짜=20250618\n"
     ]
    },
    {
     "name": "stderr",
     "output_type": "stream",
     "text": [
      "고등학교 급식 조회:  79%|██████████████████████████████████████▌          | 144/183 [00:38<00:12,  3.08it/s]"
     ]
    },
    {
     "name": "stdout",
     "output_type": "stream",
     "text": [
      "mealService 응답코드: 200\n",
      "급식 데이터 수: 40\n",
      "8750130 청송고등학교\n",
      "급식 정보 조회 중: 날짜=20250618\n"
     ]
    },
    {
     "name": "stderr",
     "output_type": "stream",
     "text": [
      "고등학교 급식 조회:  79%|██████████████████████████████████████▊          | 145/183 [00:38<00:11,  3.30it/s]"
     ]
    },
    {
     "name": "stdout",
     "output_type": "stream",
     "text": [
      "mealService 응답코드: 200\n",
      "급식 데이터 수: 52\n",
      "8750632 청송여자고등학교\n",
      "급식 정보 조회 중: 날짜=20250618\n"
     ]
    },
    {
     "name": "stderr",
     "output_type": "stream",
     "text": [
      "고등학교 급식 조회:  80%|███████████████████████████████████████          | 146/183 [00:39<00:10,  3.67it/s]"
     ]
    },
    {
     "name": "stdout",
     "output_type": "stream",
     "text": [
      "mealService 응답코드: 200\n",
      "mealServiceDietInfo 키 없음: {'RESULT': {'CODE': 'INFO-200', 'MESSAGE': '해당하는 데이터가 없습니다.'}}\n",
      "8750655 포은고등학교\n",
      "급식 정보 조회 중: 날짜=20250618\n"
     ]
    },
    {
     "name": "stderr",
     "output_type": "stream",
     "text": [
      "고등학교 급식 조회:  80%|███████████████████████████████████████▎         | 147/183 [00:39<00:09,  3.65it/s]"
     ]
    },
    {
     "name": "stdout",
     "output_type": "stream",
     "text": [
      "mealService 응답코드: 200\n",
      "급식 데이터 수: 52\n",
      "8750133 포항고등학교\n",
      "급식 정보 조회 중: 날짜=20250618\n"
     ]
    },
    {
     "name": "stderr",
     "output_type": "stream",
     "text": [
      "고등학교 급식 조회:  81%|███████████████████████████████████████▋         | 148/183 [00:39<00:08,  3.91it/s]"
     ]
    },
    {
     "name": "stdout",
     "output_type": "stream",
     "text": [
      "mealService 응답코드: 200\n",
      "급식 데이터 수: 42\n",
      "8750625 포항과학기술고등학교\n",
      "급식 정보 조회 중: 날짜=20250618\n"
     ]
    },
    {
     "name": "stderr",
     "output_type": "stream",
     "text": [
      "고등학교 급식 조회:  81%|███████████████████████████████████████▉         | 149/183 [00:39<00:08,  4.00it/s]"
     ]
    },
    {
     "name": "stdout",
     "output_type": "stream",
     "text": [
      "mealService 응답코드: 200\n",
      "급식 데이터 수: 58\n",
      "8750542 포항동성고등학교\n",
      "급식 정보 조회 중: 날짜=20250618\n"
     ]
    },
    {
     "name": "stderr",
     "output_type": "stream",
     "text": [
      "고등학교 급식 조회:  82%|████████████████████████████████████████▏        | 150/183 [00:40<00:09,  3.53it/s]"
     ]
    },
    {
     "name": "stdout",
     "output_type": "stream",
     "text": [
      "mealService 응답코드: 200\n",
      "급식 데이터 수: 75\n",
      "8750769 포항보건고등학교\n",
      "급식 정보 조회 중: 날짜=20250618\n"
     ]
    },
    {
     "name": "stderr",
     "output_type": "stream",
     "text": [
      "고등학교 급식 조회:  83%|████████████████████████████████████████▍        | 151/183 [00:40<00:08,  3.59it/s]"
     ]
    },
    {
     "name": "stdout",
     "output_type": "stream",
     "text": [
      "mealService 응답코드: 200\n",
      "급식 데이터 수: 58\n",
      "8750134 포항여자고등학교\n",
      "급식 정보 조회 중: 날짜=20250618\n"
     ]
    },
    {
     "name": "stderr",
     "output_type": "stream",
     "text": [
      "고등학교 급식 조회:  83%|████████████████████████████████████████▋        | 152/183 [00:40<00:08,  3.77it/s]"
     ]
    },
    {
     "name": "stdout",
     "output_type": "stream",
     "text": [
      "mealService 응답코드: 200\n",
      "급식 데이터 수: 45\n",
      "8750292 포항여자전자고등학교\n",
      "급식 정보 조회 중: 날짜=20250618\n",
      "mealService 응답코드: 200\n",
      "급식 데이터 수: 19\n"
     ]
    },
    {
     "name": "stderr",
     "output_type": "stream",
     "text": [
      "고등학교 급식 조회:  84%|████████████████████████████████████████▉        | 153/183 [00:40<00:07,  4.12it/s]"
     ]
    },
    {
     "name": "stdout",
     "output_type": "stream",
     "text": [
      "8750208 포항영신고등학교\n",
      "급식 정보 조회 중: 날짜=20250618\n",
      "mealService 응답코드: 200\n",
      "급식 데이터 수: 42\n"
     ]
    },
    {
     "name": "stderr",
     "output_type": "stream",
     "text": [
      "고등학교 급식 조회:  84%|█████████████████████████████████████████▏       | 154/183 [00:41<00:07,  4.00it/s]"
     ]
    },
    {
     "name": "stdout",
     "output_type": "stream",
     "text": [
      "8750209 포항예술고등학교\n",
      "급식 정보 조회 중: 날짜=20250618\n",
      "mealService 응답코드: 200\n",
      "급식 데이터 수: 60\n"
     ]
    },
    {
     "name": "stderr",
     "output_type": "stream",
     "text": [
      "고등학교 급식 조회:  85%|█████████████████████████████████████████▌       | 155/183 [00:41<00:06,  4.04it/s]"
     ]
    },
    {
     "name": "stdout",
     "output_type": "stream",
     "text": [
      "8750539 포항이동고등학교\n",
      "급식 정보 조회 중: 날짜=20250618\n",
      "mealService 응답코드: 200\n",
      "급식 데이터 수: 40\n"
     ]
    },
    {
     "name": "stderr",
     "output_type": "stream",
     "text": [
      "고등학교 급식 조회:  85%|█████████████████████████████████████████▊       | 156/183 [00:41<00:06,  4.12it/s]"
     ]
    },
    {
     "name": "stdout",
     "output_type": "stream",
     "text": [
      "8750534 포항장성고등학교\n",
      "급식 정보 조회 중: 날짜=20250618\n",
      "mealService 응답코드: 200\n",
      "급식 데이터 수: 40\n"
     ]
    },
    {
     "name": "stderr",
     "output_type": "stream",
     "text": [
      "고등학교 급식 조회:  86%|██████████████████████████████████████████       | 157/183 [00:41<00:06,  4.17it/s]"
     ]
    },
    {
     "name": "stdout",
     "output_type": "stream",
     "text": [
      "8750210 포항제철고등학교\n",
      "급식 정보 조회 중: 날짜=20250618\n",
      "mealService 응답코드: 200\n",
      "급식 데이터 수: 13\n"
     ]
    },
    {
     "name": "stderr",
     "output_type": "stream",
     "text": [
      "고등학교 급식 조회:  86%|██████████████████████████████████████████▎      | 158/183 [00:42<00:05,  4.35it/s]"
     ]
    },
    {
     "name": "stdout",
     "output_type": "stream",
     "text": [
      "8750337 포항제철공업고등학교\n",
      "급식 정보 조회 중: 날짜=20250618\n",
      "mealService 응답코드: 200\n",
      "급식 데이터 수: 59\n"
     ]
    },
    {
     "name": "stderr",
     "output_type": "stream",
     "text": [
      "고등학교 급식 조회:  87%|██████████████████████████████████████████▌      | 159/183 [00:42<00:05,  4.49it/s]"
     ]
    },
    {
     "name": "stdout",
     "output_type": "stream",
     "text": [
      "8750211 포항중앙고등학교\n",
      "급식 정보 조회 중: 날짜=20250618\n",
      "mealService 응답코드: 200\n",
      "급식 데이터 수: 40\n"
     ]
    },
    {
     "name": "stderr",
     "output_type": "stream",
     "text": [
      "고등학교 급식 조회:  87%|██████████████████████████████████████████▊      | 160/183 [00:42<00:05,  4.59it/s]"
     ]
    },
    {
     "name": "stdout",
     "output_type": "stream",
     "text": [
      "8750212 포항중앙여자고등학교\n",
      "급식 정보 조회 중: 날짜=20250618\n",
      "mealService 응답코드: 200\n",
      "급식 데이터 수: 40\n"
     ]
    },
    {
     "name": "stderr",
     "output_type": "stream",
     "text": [
      "고등학교 급식 조회:  88%|███████████████████████████████████████████      | 161/183 [00:42<00:04,  4.49it/s]"
     ]
    },
    {
     "name": "stdout",
     "output_type": "stream",
     "text": [
      "8750670 포항흥해공업고등학교\n",
      "급식 정보 조회 중: 날짜=20250618\n",
      "mealService 응답코드: 200\n",
      "급식 데이터 수: 21\n"
     ]
    },
    {
     "name": "stderr",
     "output_type": "stream",
     "text": [
      "고등학교 급식 조회:  89%|███████████████████████████████████████████▍     | 162/183 [00:42<00:04,  4.58it/s]"
     ]
    },
    {
     "name": "stdout",
     "output_type": "stream",
     "text": [
      "8750475 풍산고등학교\n",
      "급식 정보 조회 중: 날짜=20250618\n"
     ]
    },
    {
     "name": "stderr",
     "output_type": "stream",
     "text": [
      "고등학교 급식 조회:  89%|███████████████████████████████████████████▋     | 163/183 [00:43<00:04,  4.09it/s]"
     ]
    },
    {
     "name": "stdout",
     "output_type": "stream",
     "text": [
      "mealService 응답코드: 200\n",
      "급식 데이터 수: 83\n",
      "8750214 하양여자고등학교\n",
      "급식 정보 조회 중: 날짜=20250618\n"
     ]
    },
    {
     "name": "stderr",
     "output_type": "stream",
     "text": [
      "고등학교 급식 조회:  90%|███████████████████████████████████████████▉     | 164/183 [00:43<00:04,  3.94it/s]"
     ]
    },
    {
     "name": "stdout",
     "output_type": "stream",
     "text": [
      "mealService 응답코드: 200\n",
      "급식 데이터 수: 66\n",
      "8750763 한국국제조리고등학교\n",
      "급식 정보 조회 중: 날짜=20250618\n"
     ]
    },
    {
     "name": "stderr",
     "output_type": "stream",
     "text": [
      "고등학교 급식 조회:  90%|████████████████████████████████████████████▏    | 165/183 [00:43<00:04,  3.87it/s]"
     ]
    },
    {
     "name": "stdout",
     "output_type": "stream",
     "text": [
      "mealService 응답코드: 200\n",
      "급식 데이터 수: 72\n",
      "8750757 한국국제통상마이스터고등학교\n",
      "급식 정보 조회 중: 날짜=20250618\n"
     ]
    },
    {
     "name": "stderr",
     "output_type": "stream",
     "text": [
      "고등학교 급식 조회:  91%|████████████████████████████████████████████▍    | 166/183 [00:44<00:04,  3.73it/s]"
     ]
    },
    {
     "name": "stdout",
     "output_type": "stream",
     "text": [
      "mealService 응답코드: 200\n",
      "급식 데이터 수: 40\n",
      "8750775 한국미래농업고등학교\n",
      "급식 정보 조회 중: 날짜=20250618\n"
     ]
    },
    {
     "name": "stderr",
     "output_type": "stream",
     "text": [
      "고등학교 급식 조회:  91%|████████████████████████████████████████████▋    | 167/183 [00:44<00:04,  3.82it/s]"
     ]
    },
    {
     "name": "stdout",
     "output_type": "stream",
     "text": [
      "mealService 응답코드: 200\n",
      "급식 데이터 수: 59\n",
      "8750807 한국미래산업고등학교\n",
      "급식 정보 조회 중: 날짜=20250618\n"
     ]
    },
    {
     "name": "stderr",
     "output_type": "stream",
     "text": [
      "고등학교 급식 조회:  92%|████████████████████████████████████████████▉    | 168/183 [00:44<00:03,  3.96it/s]"
     ]
    },
    {
     "name": "stdout",
     "output_type": "stream",
     "text": [
      "mealService 응답코드: 200\n",
      "급식 데이터 수: 59\n",
      "8750630 한국산림과학고등학교\n",
      "급식 정보 조회 중: 날짜=20250618\n"
     ]
    },
    {
     "name": "stderr",
     "output_type": "stream",
     "text": [
      "고등학교 급식 조회:  92%|█████████████████████████████████████████████▎   | 169/183 [00:44<00:03,  3.93it/s]"
     ]
    },
    {
     "name": "stdout",
     "output_type": "stream",
     "text": [
      "mealService 응답코드: 200\n",
      "급식 데이터 수: 59\n",
      "8750556 한국생명과학고등학교\n",
      "급식 정보 조회 중: 날짜=20250618\n"
     ]
    },
    {
     "name": "stderr",
     "output_type": "stream",
     "text": [
      "고등학교 급식 조회:  93%|█████████████████████████████████████████████▌   | 170/183 [00:44<00:03,  3.98it/s]"
     ]
    },
    {
     "name": "stdout",
     "output_type": "stream",
     "text": [
      "mealService 응답코드: 200\n",
      "급식 데이터 수: 56\n",
      "8750652 한국원자력마이스터고등학교\n",
      "급식 정보 조회 중: 날짜=20250618\n"
     ]
    },
    {
     "name": "stderr",
     "output_type": "stream",
     "text": [
      "고등학교 급식 조회:  93%|█████████████████████████████████████████████▊   | 171/183 [00:45<00:03,  3.80it/s]"
     ]
    },
    {
     "name": "stdout",
     "output_type": "stream",
     "text": [
      "mealService 응답코드: 200\n",
      "급식 데이터 수: 83\n",
      "8750830 한국조리명장고등학교\n",
      "급식 정보 조회 중: 날짜=20250618\n"
     ]
    },
    {
     "name": "stderr",
     "output_type": "stream",
     "text": [
      "고등학교 급식 조회:  94%|██████████████████████████████████████████████   | 172/183 [00:45<00:02,  3.87it/s]"
     ]
    },
    {
     "name": "stdout",
     "output_type": "stream",
     "text": [
      "mealService 응답코드: 200\n",
      "급식 데이터 수: 58\n",
      "8750831 한국철도고등학교\n",
      "급식 정보 조회 중: 날짜=20250618\n"
     ]
    },
    {
     "name": "stderr",
     "output_type": "stream",
     "text": [
      "고등학교 급식 조회:  95%|██████████████████████████████████████████████▎  | 173/183 [00:45<00:02,  3.97it/s]"
     ]
    },
    {
     "name": "stdout",
     "output_type": "stream",
     "text": [
      "mealService 응답코드: 200\n",
      "급식 데이터 수: 76\n",
      "8750732 한국펫고등학교\n",
      "급식 정보 조회 중: 날짜=20250618\n"
     ]
    },
    {
     "name": "stderr",
     "output_type": "stream",
     "text": [
      "고등학교 급식 조회:  95%|██████████████████████████████████████████████▌  | 174/183 [00:46<00:02,  4.03it/s]"
     ]
    },
    {
     "name": "stdout",
     "output_type": "stream",
     "text": [
      "mealService 응답코드: 200\n",
      "급식 데이터 수: 65\n",
      "8750804 한국해양마이스터고등학교\n",
      "급식 정보 조회 중: 날짜=20250618\n"
     ]
    },
    {
     "name": "stderr",
     "output_type": "stream",
     "text": [
      "고등학교 급식 조회:  96%|██████████████████████████████████████████████▊  | 175/183 [00:46<00:02,  3.99it/s]"
     ]
    },
    {
     "name": "stdout",
     "output_type": "stream",
     "text": [
      "mealService 응답코드: 200\n",
      "급식 데이터 수: 67\n",
      "8750216 한일여자고등학교\n",
      "급식 정보 조회 중: 날짜=20250618\n"
     ]
    },
    {
     "name": "stderr",
     "output_type": "stream",
     "text": [
      "고등학교 급식 조회:  96%|███████████████████████████████████████████████▏ | 176/183 [00:46<00:01,  4.06it/s]"
     ]
    },
    {
     "name": "stdout",
     "output_type": "stream",
     "text": [
      "mealService 응답코드: 200\n",
      "급식 데이터 수: 59\n",
      "8750217 함창고등학교\n",
      "급식 정보 조회 중: 날짜=20250618\n"
     ]
    },
    {
     "name": "stderr",
     "output_type": "stream",
     "text": [
      "고등학교 급식 조회:  97%|███████████████████████████████████████████████▍ | 177/183 [00:46<00:01,  4.04it/s]"
     ]
    },
    {
     "name": "stdout",
     "output_type": "stream",
     "text": [
      "mealService 응답코드: 200\n",
      "급식 데이터 수: 60\n",
      "8750136 현서고등학교\n",
      "급식 정보 조회 중: 날짜=20250618\n"
     ]
    },
    {
     "name": "stderr",
     "output_type": "stream",
     "text": [
      "고등학교 급식 조회:  97%|███████████████████████████████████████████████▋ | 178/183 [00:47<00:01,  3.90it/s]"
     ]
    },
    {
     "name": "stdout",
     "output_type": "stream",
     "text": [
      "mealService 응답코드: 200\n",
      "급식 데이터 수: 52\n",
      "8750218 현일고등학교\n",
      "급식 정보 조회 중: 날짜=20250618\n"
     ]
    },
    {
     "name": "stderr",
     "output_type": "stream",
     "text": [
      "고등학교 급식 조회:  98%|███████████████████████████████████████████████▉ | 179/183 [00:47<00:01,  3.63it/s]"
     ]
    },
    {
     "name": "stdout",
     "output_type": "stream",
     "text": [
      "mealService 응답코드: 200\n",
      "급식 데이터 수: 63\n",
      "8750566 형곡고등학교\n",
      "급식 정보 조회 중: 날짜=20250618\n"
     ]
    },
    {
     "name": "stderr",
     "output_type": "stream",
     "text": [
      "고등학교 급식 조회:  98%|████████████████████████████████████████████████▏| 180/183 [00:47<00:00,  3.85it/s]"
     ]
    },
    {
     "name": "stdout",
     "output_type": "stream",
     "text": [
      "mealService 응답코드: 200\n",
      "급식 데이터 수: 38\n",
      "8750138 화령고등학교\n",
      "급식 정보 조회 중: 날짜=20250618\n",
      "mealService 응답코드: 200\n",
      "mealServiceDietInfo 키 없음: {'RESULT': {'CODE': 'INFO-200', 'MESSAGE': '해당하는 데이터가 없습니다.'}}\n"
     ]
    },
    {
     "name": "stderr",
     "output_type": "stream",
     "text": [
      "고등학교 급식 조회:  99%|████████████████████████████████████████████████▍| 181/183 [00:47<00:00,  4.20it/s]"
     ]
    },
    {
     "name": "stdout",
     "output_type": "stream",
     "text": [
      "8750669 효청보건고등학교\n",
      "급식 정보 조회 중: 날짜=20250618\n",
      "mealService 응답코드: 200\n",
      "급식 데이터 수: 58\n"
     ]
    },
    {
     "name": "stderr",
     "output_type": "stream",
     "text": [
      "고등학교 급식 조회:  99%|████████████████████████████████████████████████▋| 182/183 [00:48<00:00,  4.05it/s]"
     ]
    },
    {
     "name": "stdout",
     "output_type": "stream",
     "text": [
      "8750140 후포고등학교\n",
      "급식 정보 조회 중: 날짜=20250618\n",
      "mealService 응답코드: 200\n",
      "급식 데이터 수: 53\n"
     ]
    },
    {
     "name": "stderr",
     "output_type": "stream",
     "text": [
      "고등학교 급식 조회: 100%|█████████████████████████████████████████████████| 183/183 [00:48<00:00,  3.79it/s]\n"
     ]
    },
    {
     "name": "stdout",
     "output_type": "stream",
     "text": [
      "수집된 급식 행 수: 68132\n",
      "수집된 전체 급식 행 수: 68132\n",
      "  교육청코드     학교코드     학교명      급식일자 식사명  \\\n",
      "0   B10  7010057  가락고등학교  20250519  중식   \n",
      "1   B10  7010057  가락고등학교  20250520  중식   \n",
      "2   B10  7010057  가락고등학교  20250521  중식   \n",
      "3   B10  7010057  가락고등학교  20250522  중식   \n",
      "4   B10  7010057  가락고등학교  20250523  중식   \n",
      "\n",
      "                                                급식식단  \n",
      "0  쌀밥 <br/>소고기미역국 (2.5.6.15.16.18)<br/>돼지갈비찜 (5.6...  \n",
      "1  쇠고기콩나물밥 (5.6.16)<br/>물만두국 (1.2.5.6.10.15.16.18...  \n",
      "2  새우볶음밥 (1.5.6.8.9.13.18)<br/>씨앗호떡파이 (1.2.3.5.6)...  \n",
      "3  쌀밥 <br/>볶음우동 (5.6.8.9.13.15.17.18)<br/>zero초코파...  \n",
      "4  현미밥 <br/>어묵국 (1.2.5.6.15.16.18)<br/>마라찜닭 (5.6....  \n",
      "응답코드 : 200\n"
     ]
    },
    {
     "name": "stderr",
     "output_type": "stream",
     "text": [
      "고등학교 급식 조회:   0%|                                                           | 0/193 [00:00<?, ?it/s]"
     ]
    },
    {
     "name": "stdout",
     "output_type": "stream",
     "text": [
      "9010438 간디고등학교\n",
      "급식 정보 조회 중: 날짜=20250618\n",
      "mealService 응답코드: 200\n",
      "급식 데이터 수: 64\n"
     ]
    },
    {
     "name": "stderr",
     "output_type": "stream",
     "text": [
      "고등학교 급식 조회:   1%|▎                                                  | 1/193 [00:00<00:51,  3.70it/s]"
     ]
    },
    {
     "name": "stdout",
     "output_type": "stream",
     "text": [
      "9010079 거제고등학교\n",
      "급식 정보 조회 중: 날짜=20250618\n",
      "mealService 응답코드: 200\n",
      "급식 데이터 수: 41\n"
     ]
    },
    {
     "name": "stderr",
     "output_type": "stream",
     "text": [
      "고등학교 급식 조회:   1%|▌                                                  | 2/193 [00:00<00:48,  3.90it/s]"
     ]
    },
    {
     "name": "stdout",
     "output_type": "stream",
     "text": [
      "9010123 거제공업고등학교\n",
      "급식 정보 조회 중: 날짜=20250618\n",
      "mealService 응답코드: 200\n",
      "급식 데이터 수: 56\n"
     ]
    },
    {
     "name": "stderr",
     "output_type": "stream",
     "text": [
      "고등학교 급식 조회:   2%|▊                                                  | 3/193 [00:00<00:48,  3.95it/s]"
     ]
    },
    {
     "name": "stdout",
     "output_type": "stream",
     "text": [
      "9010480 거제상문고등학교\n",
      "급식 정보 조회 중: 날짜=20250618\n",
      "mealService 응답코드: 200\n",
      "급식 데이터 수: 39\n"
     ]
    },
    {
     "name": "stderr",
     "output_type": "stream",
     "text": [
      "고등학교 급식 조회:   2%|█                                                  | 4/193 [00:00<00:44,  4.24it/s]"
     ]
    },
    {
     "name": "stdout",
     "output_type": "stream",
     "text": [
      "9010479 거제여자상업고등학교\n",
      "급식 정보 조회 중: 날짜=20250618\n",
      "mealService 응답코드: 200\n",
      "급식 데이터 수: 58\n"
     ]
    },
    {
     "name": "stderr",
     "output_type": "stream",
     "text": [
      "고등학교 급식 조회:   3%|█▎                                                 | 5/193 [00:01<00:46,  4.07it/s]"
     ]
    },
    {
     "name": "stdout",
     "output_type": "stream",
     "text": [
      "9010323 거제옥포고등학교\n",
      "급식 정보 조회 중: 날짜=20250618\n",
      "mealService 응답코드: 200\n",
      "급식 데이터 수: 37\n"
     ]
    },
    {
     "name": "stderr",
     "output_type": "stream",
     "text": [
      "고등학교 급식 조회:   3%|█▌                                                 | 6/193 [00:01<00:44,  4.17it/s]"
     ]
    },
    {
     "name": "stdout",
     "output_type": "stream",
     "text": [
      "9010275 거제제일고등학교\n",
      "급식 정보 조회 중: 날짜=20250618\n",
      "mealService 응답코드: 200\n",
      "급식 데이터 수: 36\n"
     ]
    },
    {
     "name": "stderr",
     "output_type": "stream",
     "text": [
      "고등학교 급식 조회:   4%|█▊                                                 | 7/193 [00:01<00:44,  4.14it/s]"
     ]
    },
    {
     "name": "stdout",
     "output_type": "stream",
     "text": [
      "9010031 거제중앙고등학교\n",
      "급식 정보 조회 중: 날짜=20250618\n",
      "mealService 응답코드: 200\n",
      "급식 데이터 수: 38\n"
     ]
    },
    {
     "name": "stderr",
     "output_type": "stream",
     "text": [
      "고등학교 급식 조회:   4%|██                                                 | 8/193 [00:01<00:42,  4.34it/s]"
     ]
    },
    {
     "name": "stdout",
     "output_type": "stream",
     "text": [
      "9010080 거창고등학교\n",
      "급식 정보 조회 중: 날짜=20250618\n",
      "mealService 응답코드: 200\n",
      "급식 데이터 수: 81\n"
     ]
    },
    {
     "name": "stderr",
     "output_type": "stream",
     "text": [
      "고등학교 급식 조회:   5%|██▍                                                | 9/193 [00:02<00:46,  3.99it/s]"
     ]
    },
    {
     "name": "stdout",
     "output_type": "stream",
     "text": [
      "9010081 거창대성고등학교\n",
      "급식 정보 조회 중: 날짜=20250618\n",
      "mealService 응답코드: 200\n",
      "급식 데이터 수: 78\n"
     ]
    },
    {
     "name": "stderr",
     "output_type": "stream",
     "text": [
      "고등학교 급식 조회:   5%|██▌                                               | 10/193 [00:02<00:47,  3.82it/s]"
     ]
    },
    {
     "name": "stdout",
     "output_type": "stream",
     "text": [
      "9010690 거창승강기고등학교\n",
      "급식 정보 조회 중: 날짜=20250618\n",
      "mealService 응답코드: 200\n",
      "급식 데이터 수: 51\n"
     ]
    },
    {
     "name": "stderr",
     "output_type": "stream",
     "text": [
      "고등학교 급식 조회:   6%|██▊                                               | 11/193 [00:02<00:46,  3.95it/s]"
     ]
    },
    {
     "name": "stdout",
     "output_type": "stream",
     "text": [
      "9010032 거창여자고등학교\n",
      "급식 정보 조회 중: 날짜=20250618\n",
      "mealService 응답코드: 200\n",
      "급식 데이터 수: 60\n"
     ]
    },
    {
     "name": "stderr",
     "output_type": "stream",
     "text": [
      "고등학교 급식 조회:   6%|███                                               | 12/193 [00:02<00:44,  4.04it/s]"
     ]
    },
    {
     "name": "stdout",
     "output_type": "stream",
     "text": [
      "9010240 거창중앙고등학교\n",
      "급식 정보 조회 중: 날짜=20250618\n",
      "mealService 응답코드: 200\n",
      "급식 데이터 수: 37\n"
     ]
    },
    {
     "name": "stderr",
     "output_type": "stream",
     "text": [
      "고등학교 급식 조회:   7%|███▎                                              | 13/193 [00:03<00:46,  3.88it/s]"
     ]
    },
    {
     "name": "stdout",
     "output_type": "stream",
     "text": [
      "9010437 경남간호고등학교\n",
      "급식 정보 조회 중: 날짜=20250618\n",
      "mealService 응답코드: 200\n",
      "급식 데이터 수: 57\n"
     ]
    },
    {
     "name": "stderr",
     "output_type": "stream",
     "text": [
      "고등학교 급식 조회:   7%|███▋                                              | 14/193 [00:03<00:45,  3.89it/s]"
     ]
    },
    {
     "name": "stdout",
     "output_type": "stream",
     "text": [
      "9010033 경남과학고등학교\n",
      "급식 정보 조회 중: 날짜=20250618\n",
      "mealService 응답코드: 200\n",
      "급식 데이터 수: 76\n"
     ]
    },
    {
     "name": "stderr",
     "output_type": "stream",
     "text": [
      "고등학교 급식 조회:   8%|███▉                                              | 15/193 [00:03<00:45,  3.92it/s]"
     ]
    },
    {
     "name": "stdout",
     "output_type": "stream",
     "text": [
      "9010334 경남관광고등학교\n",
      "급식 정보 조회 중: 날짜=20250618\n",
      "mealService 응답코드: 200\n",
      "급식 데이터 수: 20\n"
     ]
    },
    {
     "name": "stderr",
     "output_type": "stream",
     "text": [
      "고등학교 급식 조회:   8%|████▏                                             | 16/193 [00:03<00:42,  4.14it/s]"
     ]
    },
    {
     "name": "stdout",
     "output_type": "stream",
     "text": [
      "9010505 경남로봇고등학교\n",
      "급식 정보 조회 중: 날짜=20250618\n",
      "mealService 응답코드: 200\n",
      "급식 데이터 수: 58\n"
     ]
    },
    {
     "name": "stderr",
     "output_type": "stream",
     "text": [
      "고등학교 급식 조회:   9%|████▍                                             | 17/193 [00:04<00:43,  4.07it/s]"
     ]
    },
    {
     "name": "stdout",
     "output_type": "stream",
     "text": [
      "9010332 경남산업고등학교\n",
      "급식 정보 조회 중: 날짜=20250618\n",
      "mealService 응답코드: 200\n",
      "급식 데이터 수: 21\n"
     ]
    },
    {
     "name": "stderr",
     "output_type": "stream",
     "text": [
      "고등학교 급식 조회:   9%|████▋                                             | 18/193 [00:04<00:41,  4.17it/s]"
     ]
    },
    {
     "name": "stdout",
     "output_type": "stream",
     "text": [
      "9010082 경남예술고등학교\n",
      "급식 정보 조회 중: 날짜=20250618\n",
      "mealService 응답코드: 200\n",
      "급식 데이터 수: 63\n"
     ]
    },
    {
     "name": "stderr",
     "output_type": "stream",
     "text": [
      "고등학교 급식 조회:  10%|████▉                                             | 19/193 [00:04<00:42,  4.06it/s]"
     ]
    },
    {
     "name": "stdout",
     "output_type": "stream",
     "text": [
      "9010083 경남외국어고등학교\n",
      "급식 정보 조회 중: 날짜=20250618\n",
      "mealService 응답코드: 200\n",
      "급식 데이터 수: 62\n"
     ]
    },
    {
     "name": "stderr",
     "output_type": "stream",
     "text": [
      "고등학교 급식 조회:  10%|█████▏                                            | 20/193 [00:04<00:42,  4.03it/s]"
     ]
    },
    {
     "name": "stdout",
     "output_type": "stream",
     "text": [
      "9010335 경남자동차고등학교\n",
      "급식 정보 조회 중: 날짜=20250618\n",
      "mealService 응답코드: 200\n",
      "급식 데이터 수: 56\n"
     ]
    },
    {
     "name": "stderr",
     "output_type": "stream",
     "text": [
      "고등학교 급식 조회:  11%|█████▍                                            | 21/193 [00:05<00:41,  4.10it/s]"
     ]
    },
    {
     "name": "stdout",
     "output_type": "stream",
     "text": [
      "9010128 경남자영고등학교\n",
      "급식 정보 조회 중: 날짜=20250618\n",
      "mealService 응답코드: 200\n",
      "급식 데이터 수: 56\n"
     ]
    },
    {
     "name": "stderr",
     "output_type": "stream",
     "text": [
      "고등학교 급식 조회:  11%|█████▋                                            | 22/193 [00:05<00:43,  3.96it/s]"
     ]
    },
    {
     "name": "stdout",
     "output_type": "stream",
     "text": [
      "9010234 경남정보고등학교\n",
      "급식 정보 조회 중: 날짜=20250618\n",
      "mealService 응답코드: 200\n",
      "급식 데이터 수: 20\n"
     ]
    },
    {
     "name": "stderr",
     "output_type": "stream",
     "text": [
      "고등학교 급식 조회:  12%|█████▉                                            | 23/193 [00:05<00:41,  4.10it/s]"
     ]
    },
    {
     "name": "stdout",
     "output_type": "stream",
     "text": [
      "9010034 경남체육고등학교\n",
      "급식 정보 조회 중: 날짜=20250618\n"
     ]
    },
    {
     "name": "stderr",
     "output_type": "stream",
     "text": [
      "고등학교 급식 조회:  12%|██████▏                                           | 24/193 [00:06<00:45,  3.71it/s]"
     ]
    },
    {
     "name": "stdout",
     "output_type": "stream",
     "text": [
      "mealService 응답코드: 200\n",
      "급식 데이터 수: 58\n",
      "9010129 경남항공고등학교\n",
      "급식 정보 조회 중: 날짜=20250618\n"
     ]
    },
    {
     "name": "stderr",
     "output_type": "stream",
     "text": [
      "고등학교 급식 조회:  13%|██████▍                                           | 25/193 [00:06<00:45,  3.67it/s]"
     ]
    },
    {
     "name": "stdout",
     "output_type": "stream",
     "text": [
      "mealService 응답코드: 200\n",
      "급식 데이터 수: 56\n",
      "9010301 경남해양과학고등학교\n",
      "급식 정보 조회 중: 날짜=20250618\n"
     ]
    },
    {
     "name": "stderr",
     "output_type": "stream",
     "text": [
      "고등학교 급식 조회:  13%|██████▋                                           | 26/193 [00:06<00:43,  3.81it/s]"
     ]
    },
    {
     "name": "stdout",
     "output_type": "stream",
     "text": [
      "mealService 응답코드: 200\n",
      "급식 데이터 수: 58\n",
      "9010084 경상고등학교\n",
      "급식 정보 조회 중: 날짜=20250618\n"
     ]
    },
    {
     "name": "stderr",
     "output_type": "stream",
     "text": [
      "고등학교 급식 조회:  14%|██████▉                                           | 27/193 [00:06<00:43,  3.86it/s]"
     ]
    },
    {
     "name": "stdout",
     "output_type": "stream",
     "text": [
      "mealService 응답코드: 200\n",
      "급식 데이터 수: 59\n",
      "C020714 경상국립대학교사범대학부설고등학교\n",
      "급식 정보 조회 중: 날짜=20250618\n"
     ]
    },
    {
     "name": "stderr",
     "output_type": "stream",
     "text": [
      "고등학교 급식 조회:  15%|███████▎                                          | 28/193 [00:07<00:40,  4.03it/s]"
     ]
    },
    {
     "name": "stdout",
     "output_type": "stream",
     "text": [
      "mealService 응답코드: 200\n",
      "급식 데이터 수: 36\n",
      "9010280 경진고등학교\n",
      "급식 정보 조회 중: 날짜=20250618\n",
      "mealService 응답코드: 200\n",
      "급식 데이터 수: 21\n"
     ]
    },
    {
     "name": "stderr",
     "output_type": "stream",
     "text": [
      "고등학교 급식 조회:  15%|███████▌                                          | 29/193 [00:07<00:37,  4.32it/s]"
     ]
    },
    {
     "name": "stdout",
     "output_type": "stream",
     "text": [
      "9010085 경해여자고등학교\n",
      "급식 정보 조회 중: 날짜=20250618\n",
      "mealService 응답코드: 200\n",
      "급식 데이터 수: 41\n"
     ]
    },
    {
     "name": "stderr",
     "output_type": "stream",
     "text": [
      "고등학교 급식 조회:  16%|███████▊                                          | 30/193 [00:07<00:37,  4.31it/s]"
     ]
    },
    {
     "name": "stdout",
     "output_type": "stream",
     "text": [
      "9010160 고성고등학교\n",
      "급식 정보 조회 중: 날짜=20250618\n",
      "mealService 응답코드: 200\n",
      "급식 데이터 수: 56\n"
     ]
    },
    {
     "name": "stderr",
     "output_type": "stream",
     "text": [
      "고등학교 급식 조회:  16%|████████                                          | 31/193 [00:07<00:37,  4.36it/s]"
     ]
    },
    {
     "name": "stdout",
     "output_type": "stream",
     "text": [
      "9010276 고성중앙고등학교\n",
      "급식 정보 조회 중: 날짜=20250618\n",
      "mealService 응답코드: 200\n",
      "급식 데이터 수: 55\n"
     ]
    },
    {
     "name": "stderr",
     "output_type": "stream",
     "text": [
      "고등학교 급식 조회:  17%|████████▎                                         | 32/193 [00:07<00:38,  4.19it/s]"
     ]
    },
    {
     "name": "stdout",
     "output_type": "stream",
     "text": [
      "9010037 곤양고등학교\n",
      "급식 정보 조회 중: 날짜=20250618\n",
      "mealService 응답코드: 200\n",
      "급식 데이터 수: 19\n"
     ]
    },
    {
     "name": "stderr",
     "output_type": "stream",
     "text": [
      "고등학교 급식 조회:  18%|████████▊                                         | 34/193 [00:08<00:34,  4.63it/s]"
     ]
    },
    {
     "name": "stdout",
     "output_type": "stream",
     "text": [
      "9010388 공군항공과학고등학교\n",
      "급식 정보 조회 중: 날짜=20250618\n",
      "mealService 응답코드: 200\n",
      "mealServiceDietInfo 키 없음: {'RESULT': {'CODE': 'INFO-200', 'MESSAGE': '해당하는 데이터가 없습니다.'}}\n",
      "9010516 구산고등학교\n",
      "급식 정보 조회 중: 날짜=20250618\n",
      "mealService 응답코드: 200\n",
      "급식 데이터 수: 37\n"
     ]
    },
    {
     "name": "stderr",
     "output_type": "stream",
     "text": [
      "고등학교 급식 조회:  18%|█████████                                         | 35/193 [00:08<00:34,  4.60it/s]"
     ]
    },
    {
     "name": "stdout",
     "output_type": "stream",
     "text": [
      "9010086 군북고등학교\n",
      "급식 정보 조회 중: 날짜=20250618\n"
     ]
    },
    {
     "name": "stderr",
     "output_type": "stream",
     "text": [
      "고등학교 급식 조회:  19%|█████████▎                                        | 36/193 [00:08<00:39,  4.01it/s]"
     ]
    },
    {
     "name": "stdout",
     "output_type": "stream",
     "text": [
      "mealService 응답코드: 200\n",
      "급식 데이터 수: 56\n",
      "9010038 금남고등학교\n",
      "급식 정보 조회 중: 날짜=20250618\n"
     ]
    },
    {
     "name": "stderr",
     "output_type": "stream",
     "text": [
      "고등학교 급식 조회:  19%|█████████▌                                        | 37/193 [00:09<00:39,  3.91it/s]"
     ]
    },
    {
     "name": "stdout",
     "output_type": "stream",
     "text": [
      "mealService 응답코드: 200\n",
      "급식 데이터 수: 54\n",
      "9010039 김해가야고등학교\n",
      "급식 정보 조회 중: 날짜=20250618\n"
     ]
    },
    {
     "name": "stderr",
     "output_type": "stream",
     "text": [
      "고등학교 급식 조회:  20%|█████████▊                                        | 38/193 [00:09<00:40,  3.87it/s]"
     ]
    },
    {
     "name": "stdout",
     "output_type": "stream",
     "text": [
      "mealService 응답코드: 200\n",
      "급식 데이터 수: 38\n",
      "9010130 김해건설공업고등학교\n",
      "급식 정보 조회 중: 날짜=20250618\n"
     ]
    },
    {
     "name": "stderr",
     "output_type": "stream",
     "text": [
      "고등학교 급식 조회:  20%|██████████                                        | 39/193 [00:09<00:40,  3.83it/s]"
     ]
    },
    {
     "name": "stdout",
     "output_type": "stream",
     "text": [
      "mealService 응답코드: 200\n",
      "급식 데이터 수: 58\n",
      "9010040 김해경원고등학교\n",
      "급식 정보 조회 중: 날짜=20250618\n"
     ]
    },
    {
     "name": "stderr",
     "output_type": "stream",
     "text": [
      "고등학교 급식 조회:  21%|██████████▎                                       | 40/193 [00:09<00:38,  3.93it/s]"
     ]
    },
    {
     "name": "stdout",
     "output_type": "stream",
     "text": [
      "mealService 응답코드: 200\n",
      "급식 데이터 수: 37\n",
      "9010041 김해고등학교\n",
      "급식 정보 조회 중: 날짜=20250618\n"
     ]
    },
    {
     "name": "stderr",
     "output_type": "stream",
     "text": [
      "고등학교 급식 조회:  21%|██████████▌                                       | 41/193 [00:10<00:37,  4.06it/s]"
     ]
    },
    {
     "name": "stdout",
     "output_type": "stream",
     "text": [
      "mealService 응답코드: 200\n",
      "급식 데이터 수: 37\n",
      "9010282 김해대청고등학교\n",
      "급식 정보 조회 중: 날짜=20250618\n"
     ]
    },
    {
     "name": "stderr",
     "output_type": "stream",
     "text": [
      "고등학교 급식 조회:  22%|██████████▉                                       | 42/193 [00:10<00:37,  4.01it/s]"
     ]
    },
    {
     "name": "stdout",
     "output_type": "stream",
     "text": [
      "mealService 응답코드: 200\n",
      "급식 데이터 수: 60\n",
      "9010281 김해분성고등학교\n",
      "급식 정보 조회 중: 날짜=20250618\n",
      "mealService 응답코드: 200\n",
      "급식 데이터 수: 35\n"
     ]
    },
    {
     "name": "stderr",
     "output_type": "stream",
     "text": [
      "고등학교 급식 조회:  22%|███████████▏                                      | 43/193 [00:10<00:35,  4.25it/s]"
     ]
    },
    {
     "name": "stdout",
     "output_type": "stream",
     "text": [
      "9010294 김해분성여자고등학교\n",
      "급식 정보 조회 중: 날짜=20250618\n",
      "mealService 응답코드: 200\n",
      "급식 데이터 수: 36\n"
     ]
    },
    {
     "name": "stderr",
     "output_type": "stream",
     "text": [
      "고등학교 급식 조회:  23%|███████████▍                                      | 44/193 [00:10<00:35,  4.19it/s]"
     ]
    },
    {
     "name": "stdout",
     "output_type": "stream",
     "text": [
      "9010295 김해삼문고등학교\n",
      "급식 정보 조회 중: 날짜=20250618\n",
      "mealService 응답코드: 200\n",
      "급식 데이터 수: 37\n"
     ]
    },
    {
     "name": "stderr",
     "output_type": "stream",
     "text": [
      "고등학교 급식 조회:  23%|███████████▋                                      | 45/193 [00:11<00:35,  4.20it/s]"
     ]
    },
    {
     "name": "stdout",
     "output_type": "stream",
     "text": [
      "9010346 김해삼방고등학교\n",
      "급식 정보 조회 중: 날짜=20250618\n",
      "mealService 응답코드: 200\n",
      "급식 데이터 수: 35\n"
     ]
    },
    {
     "name": "stderr",
     "output_type": "stream",
     "text": [
      "고등학교 급식 조회:  24%|███████████▉                                      | 46/193 [00:11<00:35,  4.19it/s]"
     ]
    },
    {
     "name": "stdout",
     "output_type": "stream",
     "text": [
      "9010327 김해생명과학고등학교\n",
      "급식 정보 조회 중: 날짜=20250618\n",
      "mealService 응답코드: 200\n",
      "급식 데이터 수: 21\n"
     ]
    },
    {
     "name": "stderr",
     "output_type": "stream",
     "text": [
      "고등학교 급식 조회:  24%|████████████▏                                     | 47/193 [00:11<00:33,  4.32it/s]"
     ]
    },
    {
     "name": "stdout",
     "output_type": "stream",
     "text": [
      "9010537 김해수남고등학교\n",
      "급식 정보 조회 중: 날짜=20250618\n",
      "mealService 응답코드: 200\n",
      "급식 데이터 수: 36\n"
     ]
    },
    {
     "name": "stderr",
     "output_type": "stream",
     "text": [
      "고등학교 급식 조회:  25%|████████████▍                                     | 48/193 [00:11<00:34,  4.21it/s]"
     ]
    },
    {
     "name": "stdout",
     "output_type": "stream",
     "text": [
      "9010042 김해여자고등학교\n",
      "급식 정보 조회 중: 날짜=20250618\n",
      "mealService 응답코드: 200\n",
      "급식 데이터 수: 37\n"
     ]
    },
    {
     "name": "stderr",
     "output_type": "stream",
     "text": [
      "고등학교 급식 조회:  25%|████████████▋                                     | 49/193 [00:12<00:35,  4.08it/s]"
     ]
    },
    {
     "name": "stdout",
     "output_type": "stream",
     "text": [
      "9010321 김해영운고등학교\n",
      "급식 정보 조회 중: 날짜=20250618\n",
      "mealService 응답코드: 200\n",
      "급식 데이터 수: 37\n"
     ]
    },
    {
     "name": "stderr",
     "output_type": "stream",
     "text": [
      "고등학교 급식 조회:  26%|████████████▉                                     | 50/193 [00:12<00:37,  3.82it/s]"
     ]
    },
    {
     "name": "stdout",
     "output_type": "stream",
     "text": [
      "9010322 김해외국어고등학교\n",
      "급식 정보 조회 중: 날짜=20250618\n",
      "mealService 응답코드: 200\n",
      "급식 데이터 수: 58\n"
     ]
    },
    {
     "name": "stderr",
     "output_type": "stream",
     "text": [
      "고등학교 급식 조회:  26%|█████████████▏                                    | 51/193 [00:12<00:38,  3.72it/s]"
     ]
    },
    {
     "name": "stdout",
     "output_type": "stream",
     "text": [
      "9010431 김해율하고등학교\n",
      "급식 정보 조회 중: 날짜=20250618\n",
      "mealService 응답코드: 200\n",
      "급식 데이터 수: 37\n"
     ]
    },
    {
     "name": "stderr",
     "output_type": "stream",
     "text": [
      "고등학교 급식 조회:  27%|█████████████▍                                    | 52/193 [00:12<00:36,  3.86it/s]"
     ]
    },
    {
     "name": "stdout",
     "output_type": "stream",
     "text": [
      "9010462 김해임호고등학교\n",
      "급식 정보 조회 중: 날짜=20250618\n",
      "mealService 응답코드: 200\n",
      "급식 데이터 수: 37\n"
     ]
    },
    {
     "name": "stderr",
     "output_type": "stream",
     "text": [
      "고등학교 급식 조회:  27%|█████████████▋                                    | 53/193 [00:13<00:35,  3.90it/s]"
     ]
    },
    {
     "name": "stdout",
     "output_type": "stream",
     "text": [
      "9010430 김해제일고등학교\n",
      "급식 정보 조회 중: 날짜=20250618\n",
      "mealService 응답코드: 200\n",
      "급식 데이터 수: 37\n"
     ]
    },
    {
     "name": "stderr",
     "output_type": "stream",
     "text": [
      "고등학교 급식 조회:  28%|█████████████▉                                    | 54/193 [00:13<00:35,  3.91it/s]"
     ]
    },
    {
     "name": "stdout",
     "output_type": "stream",
     "text": [
      "9010087 김해중앙여자고등학교\n",
      "급식 정보 조회 중: 날짜=20250618\n",
      "mealService 응답코드: 200\n",
      "급식 데이터 수: 34\n"
     ]
    },
    {
     "name": "stderr",
     "output_type": "stream",
     "text": [
      "고등학교 급식 조회:  28%|██████████████▏                                   | 55/193 [00:13<00:34,  3.96it/s]"
     ]
    },
    {
     "name": "stdout",
     "output_type": "stream",
     "text": [
      "9010241 김해한일여자고등학교\n",
      "급식 정보 조회 중: 날짜=20250618\n",
      "mealService 응답코드: 200\n",
      "급식 데이터 수: 39\n"
     ]
    },
    {
     "name": "stderr",
     "output_type": "stream",
     "text": [
      "고등학교 급식 조회:  29%|██████████████▌                                   | 56/193 [00:13<00:32,  4.19it/s]"
     ]
    },
    {
     "name": "stdout",
     "output_type": "stream",
     "text": [
      "9010088 남지고등학교\n",
      "급식 정보 조회 중: 날짜=20250618\n",
      "mealService 응답코드: 200\n",
      "급식 데이터 수: 52\n"
     ]
    },
    {
     "name": "stderr",
     "output_type": "stream",
     "text": [
      "고등학교 급식 조회:  30%|██████████████▊                                   | 57/193 [00:14<00:32,  4.19it/s]"
     ]
    },
    {
     "name": "stdout",
     "output_type": "stream",
     "text": [
      "9010089 남해고등학교\n",
      "급식 정보 조회 중: 날짜=20250618\n",
      "mealService 응답코드: 200\n",
      "급식 데이터 수: 58\n"
     ]
    },
    {
     "name": "stderr",
     "output_type": "stream",
     "text": [
      "고등학교 급식 조회:  30%|███████████████                                   | 58/193 [00:14<00:32,  4.17it/s]"
     ]
    },
    {
     "name": "stdout",
     "output_type": "stream",
     "text": [
      "9010132 남해정보산업고등학교\n",
      "급식 정보 조회 중: 날짜=20250618\n",
      "mealService 응답코드: 200\n",
      "급식 데이터 수: 21\n"
     ]
    },
    {
     "name": "stderr",
     "output_type": "stream",
     "text": [
      "고등학교 급식 조회:  31%|███████████████▎                                  | 59/193 [00:14<00:30,  4.36it/s]"
     ]
    },
    {
     "name": "stdout",
     "output_type": "stream",
     "text": [
      "9010229 남해제일고등학교\n",
      "급식 정보 조회 중: 날짜=20250618\n",
      "mealService 응답코드: 200\n",
      "급식 데이터 수: 51\n"
     ]
    },
    {
     "name": "stderr",
     "output_type": "stream",
     "text": [
      "고등학교 급식 조회:  31%|███████████████▌                                  | 60/193 [00:14<00:32,  4.06it/s]"
     ]
    },
    {
     "name": "stdout",
     "output_type": "stream",
     "text": [
      "9010090 남해해성고등학교\n",
      "급식 정보 조회 중: 날짜=20250618\n",
      "mealService 응답코드: 200\n",
      "급식 데이터 수: 83\n"
     ]
    },
    {
     "name": "stderr",
     "output_type": "stream",
     "text": [
      "고등학교 급식 조회:  32%|███████████████▊                                  | 61/193 [00:15<00:33,  3.91it/s]"
     ]
    },
    {
     "name": "stdout",
     "output_type": "stream",
     "text": [
      "9010135 단성고등학교\n",
      "급식 정보 조회 중: 날짜=20250618\n",
      "mealService 응답코드: 200\n",
      "급식 데이터 수: 21\n"
     ]
    },
    {
     "name": "stderr",
     "output_type": "stream",
     "text": [
      "고등학교 급식 조회:  33%|████████████████▎                                 | 63/193 [00:15<00:29,  4.34it/s]"
     ]
    },
    {
     "name": "stdout",
     "output_type": "stream",
     "text": [
      "9010044 대곡고등학교\n",
      "급식 정보 조회 중: 날짜=20250618\n",
      "mealService 응답코드: 200\n",
      "mealServiceDietInfo 키 없음: {'RESULT': {'CODE': 'INFO-200', 'MESSAGE': '해당하는 데이터가 없습니다.'}}\n",
      "9010398 대성일고등학교\n",
      "급식 정보 조회 중: 날짜=20250618\n",
      "mealService 응답코드: 200\n",
      "급식 데이터 수: 36\n"
     ]
    },
    {
     "name": "stderr",
     "output_type": "stream",
     "text": [
      "고등학교 급식 조회:  33%|████████████████▌                                 | 64/193 [00:15<00:31,  4.15it/s]"
     ]
    },
    {
     "name": "stdout",
     "output_type": "stream",
     "text": [
      "9010091 대아고등학교\n",
      "급식 정보 조회 중: 날짜=20250618\n",
      "mealService 응답코드: 200\n",
      "급식 데이터 수: 41\n"
     ]
    },
    {
     "name": "stderr",
     "output_type": "stream",
     "text": [
      "고등학교 급식 조회:  34%|████████████████▊                                 | 65/193 [00:16<00:32,  3.97it/s]"
     ]
    },
    {
     "name": "stdout",
     "output_type": "stream",
     "text": [
      "9010045 덕산고등학교\n",
      "급식 정보 조회 중: 날짜=20250618\n",
      "mealService 응답코드: 200\n",
      "급식 데이터 수: 21\n"
     ]
    },
    {
     "name": "stderr",
     "output_type": "stream",
     "text": [
      "고등학교 급식 조회:  34%|█████████████████                                 | 66/193 [00:16<00:31,  3.99it/s]"
     ]
    },
    {
     "name": "stdout",
     "output_type": "stream",
     "text": [
      "9010463 동원고등학교\n",
      "급식 정보 조회 중: 날짜=20250618\n",
      "mealService 응답코드: 200\n",
      "급식 데이터 수: 69\n"
     ]
    },
    {
     "name": "stderr",
     "output_type": "stream",
     "text": [
      "고등학교 급식 조회:  35%|█████████████████▎                                | 67/193 [00:16<00:33,  3.76it/s]"
     ]
    },
    {
     "name": "stdout",
     "output_type": "stream",
     "text": [
      "9010046 마산가포고등학교\n",
      "급식 정보 조회 중: 날짜=20250618\n",
      "mealService 응답코드: 200\n",
      "급식 데이터 수: 38\n"
     ]
    },
    {
     "name": "stderr",
     "output_type": "stream",
     "text": [
      "고등학교 급식 조회:  35%|█████████████████▌                                | 68/193 [00:16<00:32,  3.83it/s]"
     ]
    },
    {
     "name": "stdout",
     "output_type": "stream",
     "text": [
      "9010047 마산고등학교\n",
      "급식 정보 조회 중: 날짜=20250618\n",
      "mealService 응답코드: 200\n",
      "급식 데이터 수: 53\n"
     ]
    },
    {
     "name": "stderr",
     "output_type": "stream",
     "text": [
      "고등학교 급식 조회:  36%|██████████████████▏                               | 70/193 [00:17<00:29,  4.20it/s]"
     ]
    },
    {
     "name": "stdout",
     "output_type": "stream",
     "text": [
      "9010165 마산공업고등학교\n",
      "급식 정보 조회 중: 날짜=20250618\n",
      "mealService 응답코드: 200\n",
      "급식 데이터 수: 20\n",
      "9010048 마산구암고등학교\n",
      "급식 정보 조회 중: 날짜=20250618\n",
      "mealService 응답코드: 200\n",
      "급식 데이터 수: 36\n"
     ]
    },
    {
     "name": "stderr",
     "output_type": "stream",
     "text": [
      "고등학교 급식 조회:  37%|██████████████████▍                               | 71/193 [00:17<00:28,  4.27it/s]"
     ]
    },
    {
     "name": "stdout",
     "output_type": "stream",
     "text": [
      "9010296 마산내서여자고등학교\n",
      "급식 정보 조회 중: 날짜=20250618\n",
      "mealService 응답코드: 200\n",
      "급식 데이터 수: 38\n"
     ]
    },
    {
     "name": "stderr",
     "output_type": "stream",
     "text": [
      "고등학교 급식 조회:  37%|██████████████████▋                               | 72/193 [00:17<00:27,  4.36it/s]"
     ]
    },
    {
     "name": "stdout",
     "output_type": "stream",
     "text": [
      "9010237 마산무학여자고등학교\n",
      "급식 정보 조회 중: 날짜=20250618\n",
      "mealService 응답코드: 200\n",
      "급식 데이터 수: 41\n"
     ]
    },
    {
     "name": "stderr",
     "output_type": "stream",
     "text": [
      "고등학교 급식 조회:  38%|██████████████████▉                               | 73/193 [00:17<00:26,  4.50it/s]"
     ]
    },
    {
     "name": "stdout",
     "output_type": "stream",
     "text": [
      "9010242 마산삼진고등학교\n",
      "급식 정보 조회 중: 날짜=20250618\n",
      "mealService 응답코드: 200\n",
      "급식 데이터 수: 61\n"
     ]
    },
    {
     "name": "stderr",
     "output_type": "stream",
     "text": [
      "고등학교 급식 조회:  38%|███████████████████▏                              | 74/193 [00:18<00:28,  4.14it/s]"
     ]
    },
    {
     "name": "stdout",
     "output_type": "stream",
     "text": [
      "9010049 마산여자고등학교\n",
      "급식 정보 조회 중: 날짜=20250618\n",
      "mealService 응답코드: 200\n",
      "급식 데이터 수: 37\n"
     ]
    },
    {
     "name": "stderr",
     "output_type": "stream",
     "text": [
      "고등학교 급식 조회:  39%|███████████████████▍                              | 75/193 [00:18<00:27,  4.24it/s]"
     ]
    },
    {
     "name": "stdout",
     "output_type": "stream",
     "text": [
      "9010273 마산용마고등학교\n",
      "급식 정보 조회 중: 날짜=20250618\n",
      "mealService 응답코드: 200\n",
      "급식 데이터 수: 37\n"
     ]
    },
    {
     "name": "stderr",
     "output_type": "stream",
     "text": [
      "고등학교 급식 조회:  39%|███████████████████▋                              | 76/193 [00:18<00:26,  4.38it/s]"
     ]
    },
    {
     "name": "stdout",
     "output_type": "stream",
     "text": [
      "9010092 마산제일고등학교\n",
      "급식 정보 조회 중: 날짜=20250618\n",
      "mealService 응답코드: 200\n",
      "급식 데이터 수: 75\n"
     ]
    },
    {
     "name": "stderr",
     "output_type": "stream",
     "text": [
      "고등학교 급식 조회:  40%|███████████████████▉                              | 77/193 [00:18<00:27,  4.29it/s]"
     ]
    },
    {
     "name": "stdout",
     "output_type": "stream",
     "text": [
      "9010093 마산제일여자고등학교\n",
      "급식 정보 조회 중: 날짜=20250618\n",
      "mealService 응답코드: 200\n",
      "급식 데이터 수: 68\n"
     ]
    },
    {
     "name": "stderr",
     "output_type": "stream",
     "text": [
      "고등학교 급식 조회:  40%|████████████████████▏                             | 78/193 [00:19<00:26,  4.28it/s]"
     ]
    },
    {
     "name": "stdout",
     "output_type": "stream",
     "text": [
      "9010094 마산중앙고등학교\n",
      "급식 정보 조회 중: 날짜=20250618\n",
      "mealService 응답코드: 200\n",
      "급식 데이터 수: 41\n"
     ]
    },
    {
     "name": "stderr",
     "output_type": "stream",
     "text": [
      "고등학교 급식 조회:  41%|████████████████████▍                             | 79/193 [00:19<00:26,  4.34it/s]"
     ]
    },
    {
     "name": "stdout",
     "output_type": "stream",
     "text": [
      "9010267 명덕고등학교\n",
      "급식 정보 조회 중: 날짜=20250618\n",
      "mealService 응답코드: 200\n",
      "급식 데이터 수: 59\n"
     ]
    },
    {
     "name": "stderr",
     "output_type": "stream",
     "text": [
      "고등학교 급식 조회:  41%|████████████████████▋                             | 80/193 [00:19<00:26,  4.31it/s]"
     ]
    },
    {
     "name": "stdout",
     "output_type": "stream",
     "text": [
      "9010050 명신고등학교\n",
      "급식 정보 조회 중: 날짜=20250618\n",
      "mealService 응답코드: 200\n",
      "급식 데이터 수: 40\n"
     ]
    },
    {
     "name": "stderr",
     "output_type": "stream",
     "text": [
      "고등학교 급식 조회:  42%|█████████████████████▏                            | 82/193 [00:19<00:24,  4.62it/s]"
     ]
    },
    {
     "name": "stdout",
     "output_type": "stream",
     "text": [
      "9010333 물금고등학교\n",
      "급식 정보 조회 중: 날짜=20250618\n",
      "mealService 응답코드: 200\n",
      "급식 데이터 수: 17\n",
      "9010095 밀성고등학교\n",
      "급식 정보 조회 중: 날짜=20250618\n",
      "mealService 응답코드: 200\n",
      "급식 데이터 수: 63\n"
     ]
    },
    {
     "name": "stderr",
     "output_type": "stream",
     "text": [
      "고등학교 급식 조회:  43%|█████████████████████▌                            | 83/193 [00:20<00:24,  4.46it/s]"
     ]
    },
    {
     "name": "stdout",
     "output_type": "stream",
     "text": [
      "9010329 밀성제일고등학교\n",
      "급식 정보 조회 중: 날짜=20250618\n",
      "mealService 응답코드: 200\n",
      "급식 데이터 수: 21\n"
     ]
    },
    {
     "name": "stderr",
     "output_type": "stream",
     "text": [
      "고등학교 급식 조회:  44%|█████████████████████▊                            | 84/193 [00:20<00:23,  4.59it/s]"
     ]
    },
    {
     "name": "stdout",
     "output_type": "stream",
     "text": [
      "9010051 밀양고등학교\n",
      "급식 정보 조회 중: 날짜=20250618\n"
     ]
    },
    {
     "name": "stderr",
     "output_type": "stream",
     "text": [
      "고등학교 급식 조회:  44%|██████████████████████                            | 85/193 [00:20<00:27,  4.00it/s]"
     ]
    },
    {
     "name": "stdout",
     "output_type": "stream",
     "text": [
      "mealService 응답코드: 200\n",
      "급식 데이터 수: 59\n",
      "9010244 밀양동명고등학교\n",
      "급식 정보 조회 중: 날짜=20250618\n"
     ]
    },
    {
     "name": "stderr",
     "output_type": "stream",
     "text": [
      "고등학교 급식 조회:  45%|██████████████████████▎                           | 86/193 [00:21<00:27,  3.95it/s]"
     ]
    },
    {
     "name": "stdout",
     "output_type": "stream",
     "text": [
      "mealService 응답코드: 200\n",
      "급식 데이터 수: 59\n",
      "9010052 밀양여자고등학교\n",
      "급식 정보 조회 중: 날짜=20250618\n"
     ]
    },
    {
     "name": "stderr",
     "output_type": "stream",
     "text": [
      "고등학교 급식 조회:  45%|██████████████████████▌                           | 87/193 [00:21<00:25,  4.09it/s]"
     ]
    },
    {
     "name": "stdout",
     "output_type": "stream",
     "text": [
      "mealService 응답코드: 200\n",
      "급식 데이터 수: 39\n",
      "9010433 범어고등학교\n",
      "급식 정보 조회 중: 날짜=20250618\n"
     ]
    },
    {
     "name": "stderr",
     "output_type": "stream",
     "text": [
      "고등학교 급식 조회:  46%|██████████████████████▊                           | 88/193 [00:21<00:24,  4.22it/s]"
     ]
    },
    {
     "name": "stdout",
     "output_type": "stream",
     "text": [
      "mealService 응답코드: 200\n",
      "급식 데이터 수: 37\n",
      "9010096 보광고등학교\n",
      "급식 정보 조회 중: 날짜=20250618\n"
     ]
    },
    {
     "name": "stderr",
     "output_type": "stream",
     "text": [
      "고등학교 급식 조회:  46%|███████████████████████                           | 89/193 [00:21<00:24,  4.33it/s]"
     ]
    },
    {
     "name": "stdout",
     "output_type": "stream",
     "text": [
      "mealService 응답코드: 200\n",
      "급식 데이터 수: 21\n",
      "9010097 사천고등학교\n",
      "급식 정보 조회 중: 날짜=20250618\n"
     ]
    },
    {
     "name": "stderr",
     "output_type": "stream",
     "text": [
      "고등학교 급식 조회:  47%|███████████████████████▎                          | 90/193 [00:21<00:24,  4.17it/s]"
     ]
    },
    {
     "name": "stdout",
     "output_type": "stream",
     "text": [
      "mealService 응답코드: 200\n",
      "급식 데이터 수: 63\n",
      "9010306 사천여자고등학교\n",
      "급식 정보 조회 중: 날짜=20250618\n"
     ]
    },
    {
     "name": "stderr",
     "output_type": "stream",
     "text": [
      "고등학교 급식 조회:  47%|███████████████████████▌                          | 91/193 [00:22<00:23,  4.34it/s]"
     ]
    },
    {
     "name": "stdout",
     "output_type": "stream",
     "text": [
      "mealService 응답코드: 200\n",
      "급식 데이터 수: 21\n",
      "9010138 산청고등학교\n",
      "급식 정보 조회 중: 날짜=20250618\n"
     ]
    },
    {
     "name": "stderr",
     "output_type": "stream",
     "text": [
      "고등학교 급식 조회:  48%|███████████████████████▊                          | 92/193 [00:22<00:23,  4.22it/s]"
     ]
    },
    {
     "name": "stdout",
     "output_type": "stream",
     "text": [
      "mealService 응답코드: 200\n",
      "급식 데이터 수: 58\n",
      "9010053 삼가고등학교\n",
      "급식 정보 조회 중: 날짜=20250618\n"
     ]
    },
    {
     "name": "stderr",
     "output_type": "stream",
     "text": [
      "고등학교 급식 조회:  48%|████████████████████████                          | 93/193 [00:22<00:23,  4.23it/s]"
     ]
    },
    {
     "name": "stdout",
     "output_type": "stream",
     "text": [
      "mealService 응답코드: 200\n",
      "급식 데이터 수: 58\n",
      "9010098 삼랑진고등학교\n",
      "급식 정보 조회 중: 날짜=20250618\n"
     ]
    },
    {
     "name": "stderr",
     "output_type": "stream",
     "text": [
      "고등학교 급식 조회:  49%|████████████████████████▎                         | 94/193 [00:22<00:24,  4.07it/s]"
     ]
    },
    {
     "name": "stdout",
     "output_type": "stream",
     "text": [
      "mealService 응답코드: 200\n",
      "급식 데이터 수: 56\n",
      "9010099 삼천포고등학교\n",
      "급식 정보 조회 중: 날짜=20250618\n"
     ]
    },
    {
     "name": "stderr",
     "output_type": "stream",
     "text": [
      "고등학교 급식 조회:  49%|████████████████████████▌                         | 95/193 [00:23<00:24,  3.97it/s]"
     ]
    },
    {
     "name": "stdout",
     "output_type": "stream",
     "text": [
      "mealService 응답코드: 200\n",
      "급식 데이터 수: 59\n",
      "9010139 삼천포공업고등학교\n",
      "급식 정보 조회 중: 날짜=20250618\n"
     ]
    },
    {
     "name": "stderr",
     "output_type": "stream",
     "text": [
      "고등학교 급식 조회:  50%|████████████████████████▊                         | 96/193 [00:23<00:24,  3.93it/s]"
     ]
    },
    {
     "name": "stdout",
     "output_type": "stream",
     "text": [
      "mealService 응답코드: 200\n",
      "급식 데이터 수: 51\n",
      "9010247 삼천포여자고등학교\n",
      "급식 정보 조회 중: 날짜=20250618\n"
     ]
    },
    {
     "name": "stderr",
     "output_type": "stream",
     "text": [
      "고등학교 급식 조회:  50%|█████████████████████████▏                        | 97/193 [00:23<00:24,  3.89it/s]"
     ]
    },
    {
     "name": "stdout",
     "output_type": "stream",
     "text": [
      "mealService 응답코드: 200\n",
      "급식 데이터 수: 40\n",
      "9010054 삼천포중앙고등학교\n",
      "급식 정보 조회 중: 날짜=20250618\n"
     ]
    },
    {
     "name": "stderr",
     "output_type": "stream",
     "text": [
      "고등학교 급식 조회:  51%|█████████████████████████▍                        | 98/193 [00:23<00:24,  3.87it/s]"
     ]
    },
    {
     "name": "stdout",
     "output_type": "stream",
     "text": [
      "mealService 응답코드: 200\n",
      "급식 데이터 수: 34\n",
      "9010100 삼현여자고등학교\n",
      "급식 정보 조회 중: 날짜=20250618\n"
     ]
    },
    {
     "name": "stderr",
     "output_type": "stream",
     "text": [
      "고등학교 급식 조회:  51%|█████████████████████████▋                        | 99/193 [00:24<00:24,  3.81it/s]"
     ]
    },
    {
     "name": "stdout",
     "output_type": "stream",
     "text": [
      "mealService 응답코드: 200\n",
      "급식 데이터 수: 38\n",
      "9010305 서상고등학교\n",
      "급식 정보 조회 중: 날짜=20250618\n"
     ]
    },
    {
     "name": "stderr",
     "output_type": "stream",
     "text": [
      "고등학교 급식 조회:  52%|█████████████████████████▍                       | 100/193 [00:24<00:24,  3.87it/s]"
     ]
    },
    {
     "name": "stdout",
     "output_type": "stream",
     "text": [
      "mealService 응답코드: 200\n",
      "급식 데이터 수: 21\n",
      "9010347 서창고등학교\n",
      "급식 정보 조회 중: 날짜=20250618\n"
     ]
    },
    {
     "name": "stderr",
     "output_type": "stream",
     "text": [
      "고등학교 급식 조회:  52%|█████████████████████████▋                       | 101/193 [00:24<00:23,  3.94it/s]"
     ]
    },
    {
     "name": "stdout",
     "output_type": "stream",
     "text": [
      "mealService 응답코드: 200\n",
      "급식 데이터 수: 35\n",
      "9010172 선명여자고등학교\n",
      "급식 정보 조회 중: 날짜=20250618\n"
     ]
    },
    {
     "name": "stderr",
     "output_type": "stream",
     "text": [
      "고등학교 급식 조회:  53%|█████████████████████████▉                       | 102/193 [00:24<00:22,  4.02it/s]"
     ]
    },
    {
     "name": "stdout",
     "output_type": "stream",
     "text": [
      "mealService 응답코드: 200\n",
      "급식 데이터 수: 21\n",
      "9010101 성지여자고등학교\n",
      "급식 정보 조회 중: 날짜=20250618\n"
     ]
    },
    {
     "name": "stderr",
     "output_type": "stream",
     "text": [
      "고등학교 급식 조회:  53%|██████████████████████████▏                      | 103/193 [00:25<00:27,  3.30it/s]"
     ]
    },
    {
     "name": "stdout",
     "output_type": "stream",
     "text": [
      "mealService 응답코드: 200\n",
      "급식 데이터 수: 60\n",
      "9010102 세종고등학교\n",
      "급식 정보 조회 중: 날짜=20250618\n"
     ]
    },
    {
     "name": "stderr",
     "output_type": "stream",
     "text": [
      "고등학교 급식 조회:  54%|██████████████████████████▍                      | 104/193 [00:25<00:26,  3.40it/s]"
     ]
    },
    {
     "name": "stdout",
     "output_type": "stream",
     "text": [
      "mealService 응답코드: 200\n",
      "급식 데이터 수: 63\n",
      "9010056 신등고등학교\n",
      "급식 정보 조회 중: 날짜=20250618\n",
      "mealService 응답코드: 200\n",
      "급식 데이터 수: 21\n"
     ]
    },
    {
     "name": "stderr",
     "output_type": "stream",
     "text": [
      "고등학교 급식 조회:  54%|██████████████████████████▋                      | 105/193 [00:25<00:23,  3.79it/s]"
     ]
    },
    {
     "name": "stdout",
     "output_type": "stream",
     "text": [
      "9010223 신반정보고등학교\n",
      "급식 정보 조회 중: 날짜=20250618\n",
      "mealService 응답코드: 200\n",
      "급식 데이터 수: 52\n"
     ]
    },
    {
     "name": "stderr",
     "output_type": "stream",
     "text": [
      "고등학교 급식 조회:  55%|██████████████████████████▉                      | 106/193 [00:26<00:22,  3.84it/s]"
     ]
    },
    {
     "name": "stdout",
     "output_type": "stream",
     "text": [
      "9010350 아림고등학교\n",
      "급식 정보 조회 중: 날짜=20250618\n",
      "mealService 응답코드: 200\n",
      "급식 데이터 수: 39\n"
     ]
    },
    {
     "name": "stderr",
     "output_type": "stream",
     "text": [
      "고등학교 급식 조회:  55%|███████████████████████████▏                     | 107/193 [00:26<00:21,  4.01it/s]"
     ]
    },
    {
     "name": "stdout",
     "output_type": "stream",
     "text": [
      "9010233 안의고등학교\n",
      "급식 정보 조회 중: 날짜=20250618\n",
      "mealService 응답코드: 200\n",
      "급식 데이터 수: 52\n"
     ]
    },
    {
     "name": "stderr",
     "output_type": "stream",
     "text": [
      "고등학교 급식 조회:  56%|███████████████████████████▍                     | 108/193 [00:26<00:20,  4.12it/s]"
     ]
    },
    {
     "name": "stdout",
     "output_type": "stream",
     "text": [
      "9010057 야로고등학교\n",
      "급식 정보 조회 중: 날짜=20250618\n",
      "mealService 응답코드: 200\n",
      "급식 데이터 수: 21\n"
     ]
    },
    {
     "name": "stderr",
     "output_type": "stream",
     "text": [
      "고등학교 급식 조회:  56%|███████████████████████████▋                     | 109/193 [00:26<00:19,  4.32it/s]"
     ]
    },
    {
     "name": "stdout",
     "output_type": "stream",
     "text": [
      "9010058 양산고등학교\n",
      "급식 정보 조회 중: 날짜=20250618\n",
      "mealService 응답코드: 200\n",
      "급식 데이터 수: 58\n"
     ]
    },
    {
     "name": "stderr",
     "output_type": "stream",
     "text": [
      "고등학교 급식 조회:  57%|███████████████████████████▉                     | 110/193 [00:27<00:19,  4.25it/s]"
     ]
    },
    {
     "name": "stdout",
     "output_type": "stream",
     "text": [
      "9010283 양산남부고등학교\n",
      "급식 정보 조회 중: 날짜=20250618\n",
      "mealService 응답코드: 200\n",
      "급식 데이터 수: 36\n"
     ]
    },
    {
     "name": "stderr",
     "output_type": "stream",
     "text": [
      "고등학교 급식 조회:  58%|████████████████████████████▏                    | 111/193 [00:27<00:19,  4.23it/s]"
     ]
    },
    {
     "name": "stdout",
     "output_type": "stream",
     "text": [
      "9010300 양산여자고등학교\n",
      "급식 정보 조회 중: 날짜=20250618\n",
      "mealService 응답코드: 200\n",
      "급식 데이터 수: 36\n"
     ]
    },
    {
     "name": "stderr",
     "output_type": "stream",
     "text": [
      "고등학교 급식 조회:  59%|████████████████████████████▋                    | 113/193 [00:27<00:17,  4.46it/s]"
     ]
    },
    {
     "name": "stdout",
     "output_type": "stream",
     "text": [
      "9010728 양산인공지능고등학교\n",
      "급식 정보 조회 중: 날짜=20250618\n",
      "mealService 응답코드: 200\n",
      "급식 데이터 수: 39\n",
      "9010299 양산제일고등학교\n",
      "급식 정보 조회 중: 날짜=20250618\n",
      "mealService 응답코드: 200\n",
      "급식 데이터 수: 38\n"
     ]
    },
    {
     "name": "stderr",
     "output_type": "stream",
     "text": [
      "고등학교 급식 조회:  59%|████████████████████████████▉                    | 114/193 [00:27<00:17,  4.46it/s]"
     ]
    },
    {
     "name": "stdout",
     "output_type": "stream",
     "text": [
      "9010432 연초고등학교\n",
      "급식 정보 조회 중: 날짜=20250618\n",
      "mealService 응답코드: 200\n",
      "급식 데이터 수: 35\n"
     ]
    },
    {
     "name": "stderr",
     "output_type": "stream",
     "text": [
      "고등학교 급식 조회:  60%|█████████████████████████████▏                   | 115/193 [00:28<00:17,  4.41it/s]"
     ]
    },
    {
     "name": "stdout",
     "output_type": "stream",
     "text": [
      "9010060 영산고등학교\n",
      "급식 정보 조회 중: 날짜=20250618\n",
      "mealService 응답코드: 200\n",
      "급식 데이터 수: 52\n"
     ]
    },
    {
     "name": "stderr",
     "output_type": "stream",
     "text": [
      "고등학교 급식 조회:  60%|█████████████████████████████▍                   | 116/193 [00:28<00:18,  4.15it/s]"
     ]
    },
    {
     "name": "stdout",
     "output_type": "stream",
     "text": [
      "9010061 옥종고등학교\n",
      "급식 정보 조회 중: 날짜=20250618\n",
      "mealService 응답코드: 200\n",
      "급식 데이터 수: 37\n"
     ]
    },
    {
     "name": "stderr",
     "output_type": "stream",
     "text": [
      "고등학교 급식 조회:  61%|█████████████████████████████▋                   | 117/193 [00:28<00:18,  4.15it/s]"
     ]
    },
    {
     "name": "stdout",
     "output_type": "stream",
     "text": [
      "9010106 용남고등학교\n",
      "급식 정보 조회 중: 날짜=20250618\n",
      "mealService 응답코드: 200\n",
      "급식 데이터 수: 62\n"
     ]
    },
    {
     "name": "stderr",
     "output_type": "stream",
     "text": [
      "고등학교 급식 조회:  61%|█████████████████████████████▉                   | 118/193 [00:28<00:18,  4.05it/s]"
     ]
    },
    {
     "name": "stdout",
     "output_type": "stream",
     "text": [
      "9010221 웅상고등학교\n",
      "급식 정보 조회 중: 날짜=20250618\n",
      "mealService 응답코드: 200\n",
      "급식 데이터 수: 37\n"
     ]
    },
    {
     "name": "stderr",
     "output_type": "stream",
     "text": [
      "고등학교 급식 조회:  62%|██████████████████████████████▏                  | 119/193 [00:29<00:17,  4.27it/s]"
     ]
    },
    {
     "name": "stdout",
     "output_type": "stream",
     "text": [
      "9010464 웅천고등학교\n",
      "급식 정보 조회 중: 날짜=20250618\n",
      "mealService 응답코드: 200\n",
      "급식 데이터 수: 36\n"
     ]
    },
    {
     "name": "stderr",
     "output_type": "stream",
     "text": [
      "고등학교 급식 조회:  62%|██████████████████████████████▍                  | 120/193 [00:29<00:16,  4.34it/s]"
     ]
    },
    {
     "name": "stdout",
     "output_type": "stream",
     "text": [
      "9010222 의령고등학교\n",
      "급식 정보 조회 중: 날짜=20250618\n",
      "mealService 응답코드: 200\n",
      "급식 데이터 수: 51\n"
     ]
    },
    {
     "name": "stderr",
     "output_type": "stream",
     "text": [
      "고등학교 급식 조회:  63%|██████████████████████████████▋                  | 121/193 [00:29<00:16,  4.36it/s]"
     ]
    },
    {
     "name": "stdout",
     "output_type": "stream",
     "text": [
      "9010108 의령여자고등학교\n",
      "급식 정보 조회 중: 날짜=20250618\n"
     ]
    },
    {
     "name": "stderr",
     "output_type": "stream",
     "text": [
      "고등학교 급식 조회:  63%|██████████████████████████████▉                  | 122/193 [00:29<00:18,  3.80it/s]"
     ]
    },
    {
     "name": "stdout",
     "output_type": "stream",
     "text": [
      "mealService 응답코드: 200\n",
      "급식 데이터 수: 55\n",
      "9010260 장유고등학교\n",
      "급식 정보 조회 중: 날짜=20250618\n"
     ]
    },
    {
     "name": "stderr",
     "output_type": "stream",
     "text": [
      "고등학교 급식 조회:  64%|███████████████████████████████▏                 | 123/193 [00:30<00:18,  3.86it/s]"
     ]
    },
    {
     "name": "stdout",
     "output_type": "stream",
     "text": [
      "mealService 응답코드: 200\n",
      "급식 데이터 수: 36\n",
      "9010699 증산고등학교\n",
      "급식 정보 조회 중: 날짜=20250618\n"
     ]
    },
    {
     "name": "stderr",
     "output_type": "stream",
     "text": [
      "고등학교 급식 조회:  64%|███████████████████████████████▍                 | 124/193 [00:30<00:17,  3.89it/s]"
     ]
    },
    {
     "name": "stdout",
     "output_type": "stream",
     "text": [
      "mealService 응답코드: 200\n",
      "급식 데이터 수: 34\n",
      "9010298 지리산고등학교\n",
      "급식 정보 조회 중: 날짜=20250618\n"
     ]
    },
    {
     "name": "stderr",
     "output_type": "stream",
     "text": [
      "고등학교 급식 조회:  65%|███████████████████████████████▋                 | 125/193 [00:30<00:18,  3.66it/s]"
     ]
    },
    {
     "name": "stdout",
     "output_type": "stream",
     "text": [
      "mealService 응답코드: 200\n",
      "급식 데이터 수: 73\n",
      "9010231 진교고등학교\n",
      "급식 정보 조회 중: 날짜=20250618\n"
     ]
    },
    {
     "name": "stderr",
     "output_type": "stream",
     "text": [
      "고등학교 급식 조회:  65%|███████████████████████████████▉                 | 126/193 [00:30<00:17,  3.75it/s]"
     ]
    },
    {
     "name": "stdout",
     "output_type": "stream",
     "text": [
      "mealService 응답코드: 200\n",
      "급식 데이터 수: 37\n",
      "9010062 진서고등학교\n",
      "급식 정보 조회 중: 날짜=20250618\n"
     ]
    },
    {
     "name": "stderr",
     "output_type": "stream",
     "text": [
      "고등학교 급식 조회:  66%|████████████████████████████████▏                | 127/193 [00:31<00:16,  4.05it/s]"
     ]
    },
    {
     "name": "stdout",
     "output_type": "stream",
     "text": [
      "mealService 응답코드: 200\n",
      "급식 데이터 수: 21\n",
      "9010063 진양고등학교\n",
      "급식 정보 조회 중: 날짜=20250618\n"
     ]
    },
    {
     "name": "stderr",
     "output_type": "stream",
     "text": [
      "고등학교 급식 조회:  66%|████████████████████████████████▍                | 128/193 [00:31<00:15,  4.14it/s]"
     ]
    },
    {
     "name": "stdout",
     "output_type": "stream",
     "text": [
      "mealService 응답코드: 200\n",
      "급식 데이터 수: 36\n",
      "9010227 진영고등학교\n",
      "급식 정보 조회 중: 날짜=20250618\n"
     ]
    },
    {
     "name": "stderr",
     "output_type": "stream",
     "text": [
      "고등학교 급식 조회:  67%|████████████████████████████████▊                | 129/193 [00:31<00:15,  4.08it/s]"
     ]
    },
    {
     "name": "stdout",
     "output_type": "stream",
     "text": [
      "mealService 응답코드: 200\n",
      "급식 데이터 수: 37\n",
      "9010226 진영제일고등학교\n",
      "급식 정보 조회 중: 날짜=20250618\n"
     ]
    },
    {
     "name": "stderr",
     "output_type": "stream",
     "text": [
      "고등학교 급식 조회:  67%|█████████████████████████████████                | 130/193 [00:31<00:15,  4.16it/s]"
     ]
    },
    {
     "name": "stdout",
     "output_type": "stream",
     "text": [
      "mealService 응답코드: 200\n",
      "급식 데이터 수: 21\n",
      "9010064 진주고등학교\n",
      "급식 정보 조회 중: 날짜=20250618\n"
     ]
    },
    {
     "name": "stderr",
     "output_type": "stream",
     "text": [
      "고등학교 급식 조회:  68%|█████████████████████████████████▎               | 131/193 [00:32<00:14,  4.14it/s]"
     ]
    },
    {
     "name": "stdout",
     "output_type": "stream",
     "text": [
      "mealService 응답코드: 200\n",
      "급식 데이터 수: 57\n",
      "9010147 진주기계공업고등학교\n",
      "급식 정보 조회 중: 날짜=20250618\n"
     ]
    },
    {
     "name": "stderr",
     "output_type": "stream",
     "text": [
      "고등학교 급식 조회:  68%|█████████████████████████████████▌               | 132/193 [00:32<00:15,  4.04it/s]"
     ]
    },
    {
     "name": "stdout",
     "output_type": "stream",
     "text": [
      "mealService 응답코드: 200\n",
      "급식 데이터 수: 54\n",
      "9010109 진주동명고등학교\n",
      "급식 정보 조회 중: 날짜=20250618\n"
     ]
    },
    {
     "name": "stderr",
     "output_type": "stream",
     "text": [
      "고등학교 급식 조회:  69%|█████████████████████████████████▊               | 133/193 [00:32<00:14,  4.06it/s]"
     ]
    },
    {
     "name": "stdout",
     "output_type": "stream",
     "text": [
      "mealService 응답코드: 200\n",
      "급식 데이터 수: 41\n",
      "9010065 진주여자고등학교\n",
      "급식 정보 조회 중: 날짜=20250618\n"
     ]
    },
    {
     "name": "stderr",
     "output_type": "stream",
     "text": [
      "고등학교 급식 조회:  69%|██████████████████████████████████               | 134/193 [00:32<00:14,  4.19it/s]"
     ]
    },
    {
     "name": "stdout",
     "output_type": "stream",
     "text": [
      "mealService 응답코드: 200\n",
      "급식 데이터 수: 40\n",
      "9010177 진주외국어고등학교\n",
      "급식 정보 조회 중: 날짜=20250618\n"
     ]
    },
    {
     "name": "stderr",
     "output_type": "stream",
     "text": [
      "고등학교 급식 조회:  70%|██████████████████████████████████▎              | 135/193 [00:33<00:13,  4.15it/s]"
     ]
    },
    {
     "name": "stdout",
     "output_type": "stream",
     "text": [
      "mealService 응답코드: 200\n",
      "급식 데이터 수: 56\n",
      "9010110 진주제일여자고등학교\n",
      "급식 정보 조회 중: 날짜=20250618\n"
     ]
    },
    {
     "name": "stderr",
     "output_type": "stream",
     "text": [
      "고등학교 급식 조회:  70%|██████████████████████████████████▌              | 136/193 [00:33<00:13,  4.12it/s]"
     ]
    },
    {
     "name": "stdout",
     "output_type": "stream",
     "text": [
      "mealService 응답코드: 200\n",
      "급식 데이터 수: 40\n",
      "9010279 진주중앙고등학교\n",
      "급식 정보 조회 중: 날짜=20250618\n"
     ]
    },
    {
     "name": "stderr",
     "output_type": "stream",
     "text": [
      "고등학교 급식 조회:  71%|██████████████████████████████████▊              | 137/193 [00:33<00:13,  4.07it/s]"
     ]
    },
    {
     "name": "stdout",
     "output_type": "stream",
     "text": [
      "mealService 응답코드: 200\n",
      "급식 데이터 수: 37\n",
      "9010066 진해고등학교\n",
      "급식 정보 조회 중: 날짜=20250618\n"
     ]
    },
    {
     "name": "stderr",
     "output_type": "stream",
     "text": [
      "고등학교 급식 조회:  72%|███████████████████████████████████              | 138/193 [00:33<00:13,  4.08it/s]"
     ]
    },
    {
     "name": "stdout",
     "output_type": "stream",
     "text": [
      "mealService 응답코드: 200\n",
      "급식 데이터 수: 60\n",
      "9010265 진해세화여자고등학교\n",
      "급식 정보 조회 중: 날짜=20250618\n"
     ]
    },
    {
     "name": "stderr",
     "output_type": "stream",
     "text": [
      "고등학교 급식 조회:  72%|███████████████████████████████████▎             | 139/193 [00:34<00:13,  4.13it/s]"
     ]
    },
    {
     "name": "stdout",
     "output_type": "stream",
     "text": [
      "mealService 응답코드: 200\n",
      "급식 데이터 수: 36\n",
      "9010067 진해여자고등학교\n",
      "급식 정보 조회 중: 날짜=20250618\n"
     ]
    },
    {
     "name": "stderr",
     "output_type": "stream",
     "text": [
      "고등학교 급식 조회:  73%|███████████████████████████████████▌             | 140/193 [00:34<00:12,  4.23it/s]"
     ]
    },
    {
     "name": "stdout",
     "output_type": "stream",
     "text": [
      "mealService 응답코드: 200\n",
      "급식 데이터 수: 37\n",
      "9010320 진해용원고등학교\n",
      "급식 정보 조회 중: 날짜=20250618\n"
     ]
    },
    {
     "name": "stderr",
     "output_type": "stream",
     "text": [
      "고등학교 급식 조회:  73%|███████████████████████████████████▊             | 141/193 [00:34<00:11,  4.35it/s]"
     ]
    },
    {
     "name": "stdout",
     "output_type": "stream",
     "text": [
      "mealService 응답코드: 200\n",
      "급식 데이터 수: 37\n",
      "9010252 진해중앙고등학교\n",
      "급식 정보 조회 중: 날짜=20250618\n"
     ]
    },
    {
     "name": "stderr",
     "output_type": "stream",
     "text": [
      "고등학교 급식 조회:  74%|████████████████████████████████████             | 142/193 [00:34<00:11,  4.32it/s]"
     ]
    },
    {
     "name": "stdout",
     "output_type": "stream",
     "text": [
      "mealService 응답코드: 200\n",
      "급식 데이터 수: 37\n",
      "9010111 창녕고등학교\n",
      "급식 정보 조회 중: 날짜=20250618\n"
     ]
    },
    {
     "name": "stderr",
     "output_type": "stream",
     "text": [
      "고등학교 급식 조회:  74%|████████████████████████████████████▎            | 143/193 [00:35<00:12,  3.99it/s]"
     ]
    },
    {
     "name": "stdout",
     "output_type": "stream",
     "text": [
      "mealService 응답코드: 200\n",
      "급식 데이터 수: 56\n",
      "9010253 창녕대성고등학교\n",
      "급식 정보 조회 중: 날짜=20250618\n"
     ]
    },
    {
     "name": "stderr",
     "output_type": "stream",
     "text": [
      "고등학교 급식 조회:  75%|████████████████████████████████████▌            | 144/193 [00:35<00:12,  3.90it/s]"
     ]
    },
    {
     "name": "stdout",
     "output_type": "stream",
     "text": [
      "mealService 응답코드: 200\n",
      "급식 데이터 수: 52\n",
      "9010570 창녕슈퍼텍고등학교\n",
      "급식 정보 조회 중: 날짜=20250618\n"
     ]
    },
    {
     "name": "stderr",
     "output_type": "stream",
     "text": [
      "고등학교 급식 조회:  75%|████████████████████████████████████▊            | 145/193 [00:35<00:12,  3.70it/s]"
     ]
    },
    {
     "name": "stdout",
     "output_type": "stream",
     "text": [
      "mealService 응답코드: 200\n",
      "급식 데이터 수: 56\n",
      "9010254 창녕여자고등학교\n",
      "급식 정보 조회 중: 날짜=20250618\n"
     ]
    },
    {
     "name": "stderr",
     "output_type": "stream",
     "text": [
      "고등학교 급식 조회:  76%|█████████████████████████████████████            | 146/193 [00:35<00:13,  3.54it/s]"
     ]
    },
    {
     "name": "stdout",
     "output_type": "stream",
     "text": [
      "mealService 응답코드: 200\n",
      "급식 데이터 수: 52\n",
      "9010330 창녕옥야고등학교\n",
      "급식 정보 조회 중: 날짜=20250618\n"
     ]
    },
    {
     "name": "stderr",
     "output_type": "stream",
     "text": [
      "고등학교 급식 조회:  76%|█████████████████████████████████████▎           | 147/193 [00:36<00:14,  3.18it/s]"
     ]
    },
    {
     "name": "stdout",
     "output_type": "stream",
     "text": [
      "mealService 응답코드: 200\n",
      "급식 데이터 수: 84\n",
      "9010255 창선고등학교\n",
      "급식 정보 조회 중: 날짜=20250618\n"
     ]
    },
    {
     "name": "stderr",
     "output_type": "stream",
     "text": [
      "고등학교 급식 조회:  77%|█████████████████████████████████████▌           | 148/193 [00:36<00:14,  3.01it/s]"
     ]
    },
    {
     "name": "stdout",
     "output_type": "stream",
     "text": [
      "mealService 응답코드: 200\n",
      "급식 데이터 수: 76\n",
      "9010112 창신고등학교\n",
      "급식 정보 조회 중: 날짜=20250618\n"
     ]
    },
    {
     "name": "stderr",
     "output_type": "stream",
     "text": [
      "고등학교 급식 조회:  77%|█████████████████████████████████████▊           | 149/193 [00:36<00:13,  3.22it/s]"
     ]
    },
    {
     "name": "stdout",
     "output_type": "stream",
     "text": [
      "mealService 응답코드: 200\n",
      "급식 데이터 수: 73\n",
      "9010113 창원경일고등학교\n",
      "급식 정보 조회 중: 날짜=20250618\n"
     ]
    },
    {
     "name": "stderr",
     "output_type": "stream",
     "text": [
      "고등학교 급식 조회:  78%|██████████████████████████████████████           | 150/193 [00:37<00:12,  3.32it/s]"
     ]
    },
    {
     "name": "stdout",
     "output_type": "stream",
     "text": [
      "mealService 응답코드: 200\n",
      "급식 데이터 수: 60\n",
      "9010297 창원경일여자고등학교\n",
      "급식 정보 조회 중: 날짜=20250618\n"
     ]
    },
    {
     "name": "stderr",
     "output_type": "stream",
     "text": [
      "고등학교 급식 조회:  78%|██████████████████████████████████████▎          | 151/193 [00:37<00:12,  3.46it/s]"
     ]
    },
    {
     "name": "stdout",
     "output_type": "stream",
     "text": [
      "mealService 응답코드: 200\n",
      "급식 데이터 수: 38\n",
      "9010114 창원고등학교\n",
      "급식 정보 조회 중: 날짜=20250618\n"
     ]
    },
    {
     "name": "stderr",
     "output_type": "stream",
     "text": [
      "고등학교 급식 조회:  79%|██████████████████████████████████████▌          | 152/193 [00:37<00:11,  3.73it/s]"
     ]
    },
    {
     "name": "stdout",
     "output_type": "stream",
     "text": [
      "mealService 응답코드: 200\n",
      "급식 데이터 수: 41\n",
      "9010183 창원공업고등학교\n",
      "급식 정보 조회 중: 날짜=20250618\n"
     ]
    },
    {
     "name": "stderr",
     "output_type": "stream",
     "text": [
      "고등학교 급식 조회:  79%|██████████████████████████████████████▊          | 153/193 [00:37<00:10,  3.91it/s]"
     ]
    },
    {
     "name": "stdout",
     "output_type": "stream",
     "text": [
      "mealService 응답코드: 200\n",
      "급식 데이터 수: 21\n",
      "9010429 창원과학고등학교\n",
      "급식 정보 조회 중: 날짜=20250618\n"
     ]
    },
    {
     "name": "stderr",
     "output_type": "stream",
     "text": [
      "고등학교 급식 조회:  80%|███████████████████████████████████████          | 154/193 [00:38<00:10,  3.69it/s]"
     ]
    },
    {
     "name": "stdout",
     "output_type": "stream",
     "text": [
      "mealService 응답코드: 200\n",
      "급식 데이터 수: 66\n",
      "9010151 창원기계공업고등학교\n",
      "급식 정보 조회 중: 날짜=20250618\n"
     ]
    },
    {
     "name": "stderr",
     "output_type": "stream",
     "text": [
      "고등학교 급식 조회:  80%|███████████████████████████████████████▎         | 155/193 [00:38<00:09,  3.81it/s]"
     ]
    },
    {
     "name": "stdout",
     "output_type": "stream",
     "text": [
      "mealService 응답코드: 200\n",
      "급식 데이터 수: 56\n",
      "9010115 창원남고등학교\n",
      "급식 정보 조회 중: 날짜=20250618\n"
     ]
    },
    {
     "name": "stderr",
     "output_type": "stream",
     "text": [
      "고등학교 급식 조회:  81%|███████████████████████████████████████▌         | 156/193 [00:38<00:10,  3.55it/s]"
     ]
    },
    {
     "name": "stdout",
     "output_type": "stream",
     "text": [
      "mealService 응답코드: 200\n",
      "급식 데이터 수: 46\n",
      "9010068 창원남산고등학교\n",
      "급식 정보 조회 중: 날짜=20250618\n"
     ]
    },
    {
     "name": "stderr",
     "output_type": "stream",
     "text": [
      "고등학교 급식 조회:  81%|███████████████████████████████████████▊         | 157/193 [00:39<00:10,  3.57it/s]"
     ]
    },
    {
     "name": "stdout",
     "output_type": "stream",
     "text": [
      "mealService 응답코드: 200\n",
      "급식 데이터 수: 36\n",
      "9010116 창원대산고등학교\n",
      "급식 정보 조회 중: 날짜=20250618\n"
     ]
    },
    {
     "name": "stderr",
     "output_type": "stream",
     "text": [
      "고등학교 급식 조회:  82%|████████████████████████████████████████         | 158/193 [00:39<00:09,  3.59it/s]"
     ]
    },
    {
     "name": "stdout",
     "output_type": "stream",
     "text": [
      "mealService 응답코드: 200\n",
      "급식 데이터 수: 60\n",
      "9010309 창원대암고등학교\n",
      "급식 정보 조회 중: 날짜=20250618\n"
     ]
    },
    {
     "name": "stderr",
     "output_type": "stream",
     "text": [
      "고등학교 급식 조회:  82%|████████████████████████████████████████▎        | 159/193 [00:39<00:08,  3.81it/s]"
     ]
    },
    {
     "name": "stdout",
     "output_type": "stream",
     "text": [
      "mealService 응답코드: 200\n",
      "급식 데이터 수: 37\n",
      "9010293 창원명곡고등학교\n",
      "급식 정보 조회 중: 날짜=20250618\n"
     ]
    },
    {
     "name": "stderr",
     "output_type": "stream",
     "text": [
      "고등학교 급식 조회:  83%|████████████████████████████████████████▌        | 160/193 [00:39<00:08,  3.71it/s]"
     ]
    },
    {
     "name": "stdout",
     "output_type": "stream",
     "text": [
      "mealService 응답코드: 200\n",
      "급식 데이터 수: 37\n",
      "9010069 창원명지여자고등학교\n",
      "급식 정보 조회 중: 날짜=20250618\n"
     ]
    },
    {
     "name": "stderr",
     "output_type": "stream",
     "text": [
      "고등학교 급식 조회:  83%|████████████████████████████████████████▉        | 161/193 [00:40<00:08,  3.98it/s]"
     ]
    },
    {
     "name": "stdout",
     "output_type": "stream",
     "text": [
      "mealService 응답코드: 200\n",
      "급식 데이터 수: 37\n",
      "9010117 창원문성고등학교\n",
      "급식 정보 조회 중: 날짜=20250618\n"
     ]
    },
    {
     "name": "stderr",
     "output_type": "stream",
     "text": [
      "고등학교 급식 조회:  84%|█████████████████████████████████████████▏       | 162/193 [00:40<00:07,  4.01it/s]"
     ]
    },
    {
     "name": "stdout",
     "output_type": "stream",
     "text": [
      "mealService 응답코드: 200\n",
      "급식 데이터 수: 38\n",
      "9010277 창원봉림고등학교\n",
      "급식 정보 조회 중: 날짜=20250618\n"
     ]
    },
    {
     "name": "stderr",
     "output_type": "stream",
     "text": [
      "고등학교 급식 조회:  84%|█████████████████████████████████████████▍       | 163/193 [00:40<00:07,  4.09it/s]"
     ]
    },
    {
     "name": "stdout",
     "output_type": "stream",
     "text": [
      "mealService 응답코드: 200\n",
      "급식 데이터 수: 37\n",
      "9010698 창원북면고등학교\n",
      "급식 정보 조회 중: 날짜=20250618\n"
     ]
    },
    {
     "name": "stderr",
     "output_type": "stream",
     "text": [
      "고등학교 급식 조회:  85%|█████████████████████████████████████████▋       | 164/193 [00:40<00:06,  4.16it/s]"
     ]
    },
    {
     "name": "stdout",
     "output_type": "stream",
     "text": [
      "mealService 응답코드: 200\n",
      "급식 데이터 수: 38\n",
      "9010261 창원사파고등학교\n",
      "급식 정보 조회 중: 날짜=20250618\n"
     ]
    },
    {
     "name": "stderr",
     "output_type": "stream",
     "text": [
      "고등학교 급식 조회:  85%|█████████████████████████████████████████▉       | 165/193 [00:41<00:06,  4.22it/s]"
     ]
    },
    {
     "name": "stdout",
     "output_type": "stream",
     "text": [
      "mealService 응답코드: 200\n",
      "급식 데이터 수: 37\n",
      "9010405 창원성민여자고등학교\n",
      "급식 정보 조회 중: 날짜=20250618\n"
     ]
    },
    {
     "name": "stderr",
     "output_type": "stream",
     "text": [
      "고등학교 급식 조회:  86%|██████████████████████████████████████████▏      | 166/193 [00:41<00:06,  4.11it/s]"
     ]
    },
    {
     "name": "stdout",
     "output_type": "stream",
     "text": [
      "mealService 응답코드: 200\n",
      "급식 데이터 수: 58\n",
      "9010278 창원신월고등학교\n",
      "급식 정보 조회 중: 날짜=20250618\n"
     ]
    },
    {
     "name": "stderr",
     "output_type": "stream",
     "text": [
      "고등학교 급식 조회:  87%|██████████████████████████████████████████▍      | 167/193 [00:41<00:06,  4.02it/s]"
     ]
    },
    {
     "name": "stdout",
     "output_type": "stream",
     "text": [
      "mealService 응답코드: 200\n",
      "급식 데이터 수: 35\n",
      "9010070 창원여자고등학교\n",
      "급식 정보 조회 중: 날짜=20250618\n"
     ]
    },
    {
     "name": "stderr",
     "output_type": "stream",
     "text": [
      "고등학교 급식 조회:  87%|██████████████████████████████████████████▋      | 168/193 [00:41<00:06,  3.83it/s]"
     ]
    },
    {
     "name": "stdout",
     "output_type": "stream",
     "text": [
      "mealService 응답코드: 200\n",
      "급식 데이터 수: 37\n",
      "9010262 창원용호고등학교\n",
      "급식 정보 조회 중: 날짜=20250618\n"
     ]
    },
    {
     "name": "stderr",
     "output_type": "stream",
     "text": [
      "고등학교 급식 조회:  88%|██████████████████████████████████████████▉      | 169/193 [00:42<00:06,  3.86it/s]"
     ]
    },
    {
     "name": "stdout",
     "output_type": "stream",
     "text": [
      "mealService 응답코드: 200\n",
      "급식 데이터 수: 37\n",
      "9010071 창원중앙고등학교\n",
      "급식 정보 조회 중: 날짜=20250618\n"
     ]
    },
    {
     "name": "stderr",
     "output_type": "stream",
     "text": [
      "고등학교 급식 조회:  88%|███████████████████████████████████████████▏     | 170/193 [00:42<00:05,  3.94it/s]"
     ]
    },
    {
     "name": "stdout",
     "output_type": "stream",
     "text": [
      "mealService 응답코드: 200\n",
      "급식 데이터 수: 35\n",
      "9010072 창원중앙여자고등학교\n",
      "급식 정보 조회 중: 날짜=20250618\n"
     ]
    },
    {
     "name": "stderr",
     "output_type": "stream",
     "text": [
      "고등학교 급식 조회:  89%|███████████████████████████████████████████▍     | 171/193 [00:42<00:05,  4.04it/s]"
     ]
    },
    {
     "name": "stdout",
     "output_type": "stream",
     "text": [
      "mealService 응답코드: 200\n",
      "급식 데이터 수: 34\n",
      "9010319 창원토월고등학교\n",
      "급식 정보 조회 중: 날짜=20250618\n"
     ]
    },
    {
     "name": "stderr",
     "output_type": "stream",
     "text": [
      "고등학교 급식 조회:  89%|███████████████████████████████████████████▋     | 172/193 [00:42<00:05,  4.07it/s]"
     ]
    },
    {
     "name": "stdout",
     "output_type": "stream",
     "text": [
      "mealService 응답코드: 200\n",
      "급식 데이터 수: 37\n",
      "9010118 철성고등학교\n",
      "급식 정보 조회 중: 날짜=20250618\n"
     ]
    },
    {
     "name": "stderr",
     "output_type": "stream",
     "text": [
      "고등학교 급식 조회:  90%|███████████████████████████████████████████▉     | 173/193 [00:43<00:04,  4.06it/s]"
     ]
    },
    {
     "name": "stdout",
     "output_type": "stream",
     "text": [
      "mealService 응답코드: 200\n",
      "급식 데이터 수: 60\n",
      "9010328 초계고등학교\n",
      "급식 정보 조회 중: 날짜=20250618\n"
     ]
    },
    {
     "name": "stderr",
     "output_type": "stream",
     "text": [
      "고등학교 급식 조회:  90%|████████████████████████████████████████████▏    | 174/193 [00:43<00:04,  4.11it/s]"
     ]
    },
    {
     "name": "stdout",
     "output_type": "stream",
     "text": [
      "mealService 응답코드: 200\n",
      "급식 데이터 수: 55\n",
      "9010256 충렬여자고등학교\n",
      "급식 정보 조회 중: 날짜=20250618\n"
     ]
    },
    {
     "name": "stderr",
     "output_type": "stream",
     "text": [
      "고등학교 급식 조회:  91%|████████████████████████████████████████████▍    | 175/193 [00:43<00:04,  4.08it/s]"
     ]
    },
    {
     "name": "stdout",
     "output_type": "stream",
     "text": [
      "mealService 응답코드: 200\n",
      "급식 데이터 수: 62\n",
      "9010073 충무고등학교\n",
      "급식 정보 조회 중: 날짜=20250618\n",
      "mealService 응답코드: 200\n",
      "급식 데이터 수: 21\n"
     ]
    },
    {
     "name": "stderr",
     "output_type": "stream",
     "text": [
      "고등학교 급식 조회:  91%|████████████████████████████████████████████▋    | 176/193 [00:43<00:03,  4.35it/s]"
     ]
    },
    {
     "name": "stdout",
     "output_type": "stream",
     "text": [
      "9010119 칠원고등학교\n",
      "급식 정보 조회 중: 날짜=20250618\n",
      "mealService 응답코드: 200\n",
      "급식 데이터 수: 66\n"
     ]
    },
    {
     "name": "stderr",
     "output_type": "stream",
     "text": [
      "고등학교 급식 조회:  92%|████████████████████████████████████████████▉    | 177/193 [00:43<00:03,  4.37it/s]"
     ]
    },
    {
     "name": "stdout",
     "output_type": "stream",
     "text": [
      "9010406 태봉고등학교\n",
      "급식 정보 조회 중: 날짜=20250618\n",
      "mealService 응답코드: 200\n",
      "급식 데이터 수: 56\n"
     ]
    },
    {
     "name": "stderr",
     "output_type": "stream",
     "text": [
      "고등학교 급식 조회:  92%|█████████████████████████████████████████████▏   | 178/193 [00:44<00:03,  4.29it/s]"
     ]
    },
    {
     "name": "stdout",
     "output_type": "stream",
     "text": [
      "9010074 통영고등학교\n",
      "급식 정보 조회 중: 날짜=20250618\n",
      "mealService 응답코드: 200\n",
      "급식 데이터 수: 39\n"
     ]
    },
    {
     "name": "stderr",
     "output_type": "stream",
     "text": [
      "고등학교 급식 조회:  93%|█████████████████████████████████████████████▍   | 179/193 [00:44<00:03,  4.32it/s]"
     ]
    },
    {
     "name": "stdout",
     "output_type": "stream",
     "text": [
      "9010075 통영여자고등학교\n",
      "급식 정보 조회 중: 날짜=20250618\n",
      "mealService 응답코드: 200\n",
      "급식 데이터 수: 37\n"
     ]
    },
    {
     "name": "stderr",
     "output_type": "stream",
     "text": [
      "고등학교 급식 조회:  93%|█████████████████████████████████████████████▋   | 180/193 [00:44<00:03,  4.31it/s]"
     ]
    },
    {
     "name": "stdout",
     "output_type": "stream",
     "text": [
      "9010230 하동고등학교\n",
      "급식 정보 조회 중: 날짜=20250618\n",
      "mealService 응답코드: 200\n",
      "급식 데이터 수: 52\n"
     ]
    },
    {
     "name": "stderr",
     "output_type": "stream",
     "text": [
      "고등학교 급식 조회:  94%|█████████████████████████████████████████████▉   | 181/193 [00:44<00:02,  4.38it/s]"
     ]
    },
    {
     "name": "stdout",
     "output_type": "stream",
     "text": [
      "9010120 하동여자고등학교\n",
      "급식 정보 조회 중: 날짜=20250618\n",
      "mealService 응답코드: 200\n",
      "급식 데이터 수: 40\n"
     ]
    },
    {
     "name": "stderr",
     "output_type": "stream",
     "text": [
      "고등학교 급식 조회:  94%|██████████████████████████████████████████████▏  | 182/193 [00:45<00:02,  4.34it/s]"
     ]
    },
    {
     "name": "stdout",
     "output_type": "stream",
     "text": [
      "9010697 한국과학기술고등학교\n",
      "급식 정보 조회 중: 날짜=20250618\n",
      "mealService 응답코드: 200\n",
      "급식 데이터 수: 44\n"
     ]
    },
    {
     "name": "stderr",
     "output_type": "stream",
     "text": [
      "고등학교 급식 조회:  95%|██████████████████████████████████████████████▍  | 183/193 [00:45<00:02,  4.29it/s]"
     ]
    },
    {
     "name": "stdout",
     "output_type": "stream",
     "text": [
      "9010655 한국나노마이스터고등학교\n",
      "급식 정보 조회 중: 날짜=20250618\n",
      "mealService 응답코드: 200\n",
      "급식 데이터 수: 56\n"
     ]
    },
    {
     "name": "stderr",
     "output_type": "stream",
     "text": [
      "고등학교 급식 조회:  96%|██████████████████████████████████████████████▉  | 185/193 [00:45<00:01,  4.36it/s]"
     ]
    },
    {
     "name": "stdout",
     "output_type": "stream",
     "text": [
      "9010531 한일여자고등학교\n",
      "급식 정보 조회 중: 날짜=20250618\n",
      "mealService 응답코드: 200\n",
      "급식 데이터 수: 8\n",
      "9010224 함안고등학교\n",
      "급식 정보 조회 중: 날짜=20250618\n"
     ]
    },
    {
     "name": "stderr",
     "output_type": "stream",
     "text": [
      "고등학교 급식 조회:  96%|███████████████████████████████████████████████▏ | 186/193 [00:46<00:01,  3.99it/s]"
     ]
    },
    {
     "name": "stdout",
     "output_type": "stream",
     "text": [
      "mealService 응답코드: 200\n",
      "급식 데이터 수: 62\n",
      "9010076 함양고등학교\n",
      "급식 정보 조회 중: 날짜=20250618\n"
     ]
    },
    {
     "name": "stderr",
     "output_type": "stream",
     "text": [
      "고등학교 급식 조회:  97%|███████████████████████████████████████████████▍ | 187/193 [00:46<00:01,  3.94it/s]"
     ]
    },
    {
     "name": "stdout",
     "output_type": "stream",
     "text": [
      "mealService 응답코드: 200\n",
      "급식 데이터 수: 56\n",
      "9010232 함양제일고등학교\n",
      "급식 정보 조회 중: 날짜=20250618\n",
      "mealService 응답코드: 200\n",
      "급식 데이터 수: 21\n"
     ]
    },
    {
     "name": "stderr",
     "output_type": "stream",
     "text": [
      "고등학교 급식 조회:  97%|███████████████████████████████████████████████▋ | 188/193 [00:46<00:01,  4.17it/s]"
     ]
    },
    {
     "name": "stdout",
     "output_type": "stream",
     "text": [
      "9010156 합천고등학교\n",
      "급식 정보 조회 중: 날짜=20250618\n",
      "mealService 응답코드: 200\n",
      "급식 데이터 수: 58\n"
     ]
    },
    {
     "name": "stderr",
     "output_type": "stream",
     "text": [
      "고등학교 급식 조회:  98%|███████████████████████████████████████████████▉ | 189/193 [00:46<00:00,  4.18it/s]"
     ]
    },
    {
     "name": "stdout",
     "output_type": "stream",
     "text": [
      "9010189 합천여자고등학교\n",
      "급식 정보 조회 중: 날짜=20250618\n",
      "mealService 응답코드: 200\n",
      "급식 데이터 수: 56\n"
     ]
    },
    {
     "name": "stderr",
     "output_type": "stream",
     "text": [
      "고등학교 급식 조회:  98%|████████████████████████████████████████████████▏| 190/193 [00:47<00:00,  4.21it/s]"
     ]
    },
    {
     "name": "stdout",
     "output_type": "stream",
     "text": [
      "9010668 합천평화고등학교\n",
      "급식 정보 조회 중: 날짜=20250618\n",
      "mealService 응답코드: 200\n",
      "급식 데이터 수: 51\n"
     ]
    },
    {
     "name": "stderr",
     "output_type": "stream",
     "text": [
      "고등학교 급식 조회:  99%|████████████████████████████████████████████████▍| 191/193 [00:47<00:00,  4.28it/s]"
     ]
    },
    {
     "name": "stdout",
     "output_type": "stream",
     "text": [
      "9010077 합포고등학교\n",
      "급식 정보 조회 중: 날짜=20250618\n",
      "mealService 응답코드: 200\n",
      "급식 데이터 수: 37\n"
     ]
    },
    {
     "name": "stderr",
     "output_type": "stream",
     "text": [
      "고등학교 급식 조회:  99%|████████████████████████████████████████████████▋| 192/193 [00:47<00:00,  4.40it/s]"
     ]
    },
    {
     "name": "stdout",
     "output_type": "stream",
     "text": [
      "9010121 해성고등학교\n",
      "급식 정보 조회 중: 날짜=20250618\n",
      "mealService 응답코드: 200\n",
      "급식 데이터 수: 62\n"
     ]
    },
    {
     "name": "stderr",
     "output_type": "stream",
     "text": [
      "고등학교 급식 조회: 100%|█████████████████████████████████████████████████| 193/193 [00:47<00:00,  4.04it/s]\n"
     ]
    },
    {
     "name": "stdout",
     "output_type": "stream",
     "text": [
      "수집된 급식 행 수: 76730\n",
      "수집된 전체 급식 행 수: 76730\n",
      "  교육청코드     학교코드     학교명      급식일자 식사명  \\\n",
      "0   B10  7010057  가락고등학교  20250519  중식   \n",
      "1   B10  7010057  가락고등학교  20250520  중식   \n",
      "2   B10  7010057  가락고등학교  20250521  중식   \n",
      "3   B10  7010057  가락고등학교  20250522  중식   \n",
      "4   B10  7010057  가락고등학교  20250523  중식   \n",
      "\n",
      "                                                급식식단  \n",
      "0  쌀밥 <br/>소고기미역국 (2.5.6.15.16.18)<br/>돼지갈비찜 (5.6...  \n",
      "1  쇠고기콩나물밥 (5.6.16)<br/>물만두국 (1.2.5.6.10.15.16.18...  \n",
      "2  새우볶음밥 (1.5.6.8.9.13.18)<br/>씨앗호떡파이 (1.2.3.5.6)...  \n",
      "3  쌀밥 <br/>볶음우동 (5.6.8.9.13.15.17.18)<br/>zero초코파...  \n",
      "4  현미밥 <br/>어묵국 (1.2.5.6.15.16.18)<br/>마라찜닭 (5.6....  \n",
      "응답코드 : 200\n"
     ]
    },
    {
     "name": "stderr",
     "output_type": "stream",
     "text": [
      "고등학교 급식 조회:   0%|                                                            | 0/30 [00:00<?, ?it/s]"
     ]
    },
    {
     "name": "stdout",
     "output_type": "stream",
     "text": [
      "9290076 남녕고등학교\n",
      "급식 정보 조회 중: 날짜=20250618\n",
      "mealService 응답코드: 200"
     ]
    },
    {
     "name": "stderr",
     "output_type": "stream",
     "text": [
      "고등학교 급식 조회:   3%|█▋                                                  | 1/30 [00:00<00:08,  3.52it/s]"
     ]
    },
    {
     "name": "stdout",
     "output_type": "stream",
     "text": [
      "\n",
      "급식 데이터 수: 57\n",
      "9290073 남주고등학교\n",
      "급식 정보 조회 중: 날짜=20250618\n"
     ]
    },
    {
     "name": "stderr",
     "output_type": "stream",
     "text": [
      "고등학교 급식 조회:   7%|███▍                                                | 2/30 [00:00<00:07,  3.98it/s]"
     ]
    },
    {
     "name": "stdout",
     "output_type": "stream",
     "text": [
      "mealService 응답코드: 200\n",
      "급식 데이터 수: 38\n",
      "9290075 대기고등학교\n",
      "급식 정보 조회 중: 날짜=20250618\n"
     ]
    },
    {
     "name": "stderr",
     "output_type": "stream",
     "text": [
      "고등학교 급식 조회:  10%|█████▏                                              | 3/30 [00:00<00:06,  4.21it/s]"
     ]
    },
    {
     "name": "stdout",
     "output_type": "stream",
     "text": [
      "mealService 응답코드: 200\n",
      "급식 데이터 수: 39\n",
      "9290056 대정고등학교\n",
      "급식 정보 조회 중: 날짜=20250618\n"
     ]
    },
    {
     "name": "stderr",
     "output_type": "stream",
     "text": [
      "고등학교 급식 조회:  13%|██████▉                                             | 4/30 [00:00<00:06,  4.24it/s]"
     ]
    },
    {
     "name": "stdout",
     "output_type": "stream",
     "text": [
      "mealService 응답코드: 200\n",
      "급식 데이터 수: 39\n",
      "9290057 대정여자고등학교\n",
      "급식 정보 조회 중: 날짜=20250618\n"
     ]
    },
    {
     "name": "stderr",
     "output_type": "stream",
     "text": [
      "고등학교 급식 조회:  17%|████████▋                                           | 5/30 [00:01<00:06,  4.14it/s]"
     ]
    },
    {
     "name": "stdout",
     "output_type": "stream",
     "text": [
      "mealService 응답코드: 200\n",
      "급식 데이터 수: 38\n",
      "9290074 삼성여자고등학교\n",
      "급식 정보 조회 중: 날짜=20250618\n"
     ]
    },
    {
     "name": "stderr",
     "output_type": "stream",
     "text": [
      "고등학교 급식 조회:  20%|██████████▍                                         | 6/30 [00:01<00:06,  3.73it/s]"
     ]
    },
    {
     "name": "stdout",
     "output_type": "stream",
     "text": [
      "mealService 응답코드: 200\n",
      "급식 데이터 수: 39\n",
      "9290059 서귀포고등학교\n",
      "급식 정보 조회 중: 날짜=20250618\n"
     ]
    },
    {
     "name": "stderr",
     "output_type": "stream",
     "text": [
      "고등학교 급식 조회:  23%|████████████▏                                       | 7/30 [00:01<00:06,  3.56it/s]"
     ]
    },
    {
     "name": "stdout",
     "output_type": "stream",
     "text": [
      "mealService 응답코드: 200\n",
      "급식 데이터 수: 40\n",
      "9290060 서귀포산업과학고등학교\n",
      "급식 정보 조회 중: 날짜=20250618\n"
     ]
    },
    {
     "name": "stderr",
     "output_type": "stream",
     "text": [
      "고등학교 급식 조회:  27%|█████████████▊                                      | 8/30 [00:02<00:06,  3.53it/s]"
     ]
    },
    {
     "name": "stdout",
     "output_type": "stream",
     "text": [
      "mealService 응답코드: 200\n",
      "급식 데이터 수: 52\n",
      "9290061 서귀포여자고등학교\n",
      "급식 정보 조회 중: 날짜=20250618\n"
     ]
    },
    {
     "name": "stderr",
     "output_type": "stream",
     "text": [
      "고등학교 급식 조회:  30%|███████████████▌                                    | 9/30 [00:02<00:05,  3.80it/s]"
     ]
    },
    {
     "name": "stdout",
     "output_type": "stream",
     "text": [
      "mealService 응답코드: 200\n",
      "급식 데이터 수: 36\n",
      "9290102 성산고등학교\n",
      "급식 정보 조회 중: 날짜=20250618\n"
     ]
    },
    {
     "name": "stderr",
     "output_type": "stream",
     "text": [
      "고등학교 급식 조회:  33%|█████████████████                                  | 10/30 [00:02<00:05,  3.98it/s]"
     ]
    },
    {
     "name": "stdout",
     "output_type": "stream",
     "text": [
      "mealService 응답코드: 200\n",
      "급식 데이터 수: 37\n",
      "9290064 세화고등학교\n",
      "급식 정보 조회 중: 날짜=20250618\n"
     ]
    },
    {
     "name": "stderr",
     "output_type": "stream",
     "text": [
      "고등학교 급식 조회:  37%|██████████████████▋                                | 11/30 [00:02<00:04,  4.23it/s]"
     ]
    },
    {
     "name": "stdout",
     "output_type": "stream",
     "text": [
      "mealService 응답코드: 200\n",
      "급식 데이터 수: 36\n",
      "9290072 신성여자고등학교\n",
      "급식 정보 조회 중: 날짜=20250618\n"
     ]
    },
    {
     "name": "stderr",
     "output_type": "stream",
     "text": [
      "고등학교 급식 조회:  40%|████████████████████▍                              | 12/30 [00:03<00:04,  4.20it/s]"
     ]
    },
    {
     "name": "stdout",
     "output_type": "stream",
     "text": [
      "mealService 응답코드: 200\n",
      "급식 데이터 수: 41\n",
      "9290086 애월고등학교\n",
      "급식 정보 조회 중: 날짜=20250618\n"
     ]
    },
    {
     "name": "stderr",
     "output_type": "stream",
     "text": [
      "고등학교 급식 조회:  43%|██████████████████████                             | 13/30 [00:03<00:03,  4.26it/s]"
     ]
    },
    {
     "name": "stdout",
     "output_type": "stream",
     "text": [
      "mealService 응답코드: 200\n",
      "급식 데이터 수: 39\n",
      "9290089 영주고등학교\n",
      "급식 정보 조회 중: 날짜=20250618\n"
     ]
    },
    {
     "name": "stderr",
     "output_type": "stream",
     "text": [
      "고등학교 급식 조회:  47%|███████████████████████▊                           | 14/30 [00:03<00:03,  4.09it/s]"
     ]
    },
    {
     "name": "stdout",
     "output_type": "stream",
     "text": [
      "mealService 응답코드: 200\n",
      "급식 데이터 수: 36\n",
      "9290069 오현고등학교\n",
      "급식 정보 조회 중: 날짜=20250618\n"
     ]
    },
    {
     "name": "stderr",
     "output_type": "stream",
     "text": [
      "고등학교 급식 조회:  50%|█████████████████████████▌                         | 15/30 [00:03<00:03,  4.22it/s]"
     ]
    },
    {
     "name": "stdout",
     "output_type": "stream",
     "text": [
      "mealService 응답코드: 200\n",
      "급식 데이터 수: 41\n",
      "9290096 제주고등학교\n",
      "급식 정보 조회 중: 날짜=20250618\n",
      "mealService 응답코드: 200\n",
      "급식 데이터 수: 21\n"
     ]
    },
    {
     "name": "stderr",
     "output_type": "stream",
     "text": [
      "고등학교 급식 조회:  53%|███████████████████████████▏                       | 16/30 [00:03<00:03,  4.41it/s]"
     ]
    },
    {
     "name": "stdout",
     "output_type": "stream",
     "text": [
      "9290066 제주과학고등학교\n",
      "급식 정보 조회 중: 날짜=20250618\n"
     ]
    },
    {
     "name": "stderr",
     "output_type": "stream",
     "text": [
      "고등학교 급식 조회:  57%|████████████████████████████▉                      | 17/30 [00:04<00:03,  3.63it/s]"
     ]
    },
    {
     "name": "stdout",
     "output_type": "stream",
     "text": [
      "mealService 응답코드: 200\n",
      "급식 데이터 수: 54\n",
      "7003713 제주대학교사범대학부설고등학교\n",
      "급식 정보 조회 중: 날짜=20250618\n"
     ]
    },
    {
     "name": "stderr",
     "output_type": "stream",
     "text": [
      "고등학교 급식 조회:  60%|██████████████████████████████▌                    | 18/30 [00:04<00:03,  3.50it/s]"
     ]
    },
    {
     "name": "stdout",
     "output_type": "stream",
     "text": [
      "mealService 응답코드: 200\n",
      "급식 데이터 수: 39\n",
      "9290071 제주여자고등학교\n",
      "급식 정보 조회 중: 날짜=20250618\n"
     ]
    },
    {
     "name": "stderr",
     "output_type": "stream",
     "text": [
      "고등학교 급식 조회:  63%|████████████████████████████████▎                  | 19/30 [00:04<00:02,  3.72it/s]"
     ]
    },
    {
     "name": "stdout",
     "output_type": "stream",
     "text": [
      "mealService 응답코드: 200\n",
      "급식 데이터 수: 38\n",
      "9290051 제주여자상업고등학교\n",
      "급식 정보 조회 중: 날짜=20250618\n"
     ]
    },
    {
     "name": "stderr",
     "output_type": "stream",
     "text": [
      "고등학교 급식 조회:  67%|██████████████████████████████████                 | 20/30 [00:05<00:02,  3.79it/s]"
     ]
    },
    {
     "name": "stdout",
     "output_type": "stream",
     "text": [
      "mealService 응답코드: 200\n",
      "급식 데이터 수: 21\n",
      "9290068 제주외국어고등학교\n",
      "급식 정보 조회 중: 날짜=20250618\n"
     ]
    },
    {
     "name": "stderr",
     "output_type": "stream",
     "text": [
      "고등학교 급식 조회:  70%|███████████████████████████████████▋               | 21/30 [00:05<00:02,  3.89it/s]"
     ]
    },
    {
     "name": "stdout",
     "output_type": "stream",
     "text": [
      "mealService 응답코드: 200\n",
      "급식 데이터 수: 52\n",
      "9290049 제주제일고등학교\n",
      "급식 정보 조회 중: 날짜=20250618\n"
     ]
    },
    {
     "name": "stderr",
     "output_type": "stream",
     "text": [
      "고등학교 급식 조회:  73%|█████████████████████████████████████▍             | 22/30 [00:05<00:02,  3.73it/s]"
     ]
    },
    {
     "name": "stdout",
     "output_type": "stream",
     "text": [
      "mealService 응답코드: 200\n",
      "급식 데이터 수: 41\n",
      "9290088 제주중앙고등학교\n",
      "급식 정보 조회 중: 날짜=20250618\n"
     ]
    },
    {
     "name": "stderr",
     "output_type": "stream",
     "text": [
      "고등학교 급식 조회:  77%|███████████████████████████████████████            | 23/30 [00:05<00:01,  3.67it/s]"
     ]
    },
    {
     "name": "stdout",
     "output_type": "stream",
     "text": [
      "mealService 응답코드: 200\n",
      "급식 데이터 수: 37\n",
      "9290050 제주중앙여자고등학교\n",
      "급식 정보 조회 중: 날짜=20250618\n"
     ]
    },
    {
     "name": "stderr",
     "output_type": "stream",
     "text": [
      "고등학교 급식 조회:  80%|████████████████████████████████████████▊          | 24/30 [00:06<00:01,  3.36it/s]"
     ]
    },
    {
     "name": "stdout",
     "output_type": "stream",
     "text": [
      "mealService 응답코드: 200\n",
      "급식 데이터 수: 40\n",
      "9290128 중문고등학교\n",
      "급식 정보 조회 중: 날짜=20250618\n"
     ]
    },
    {
     "name": "stderr",
     "output_type": "stream",
     "text": [
      "고등학교 급식 조회:  83%|██████████████████████████████████████████▌        | 25/30 [00:06<00:01,  3.46it/s]"
     ]
    },
    {
     "name": "stdout",
     "output_type": "stream",
     "text": [
      "mealService 응답코드: 200\n",
      "급식 데이터 수: 21\n",
      "9290087 표선고등학교\n",
      "급식 정보 조회 중: 날짜=20250618\n"
     ]
    },
    {
     "name": "stderr",
     "output_type": "stream",
     "text": [
      "고등학교 급식 조회:  87%|████████████████████████████████████████████▏      | 26/30 [00:06<00:01,  3.47it/s]"
     ]
    },
    {
     "name": "stdout",
     "output_type": "stream",
     "text": [
      "mealService 응답코드: 200\n",
      "급식 데이터 수: 37\n",
      "9290104 한국뷰티고등학교\n",
      "급식 정보 조회 중: 날짜=20250618\n"
     ]
    },
    {
     "name": "stderr",
     "output_type": "stream",
     "text": [
      "고등학교 급식 조회:  90%|█████████████████████████████████████████████▉     | 27/30 [00:07<00:00,  3.67it/s]"
     ]
    },
    {
     "name": "stdout",
     "output_type": "stream",
     "text": [
      "mealService 응답코드: 200\n",
      "급식 데이터 수: 21\n",
      "9290055 한림고등학교\n",
      "급식 정보 조회 중: 날짜=20250618\n"
     ]
    },
    {
     "name": "stderr",
     "output_type": "stream",
     "text": [
      "고등학교 급식 조회:  93%|███████████████████████████████████████████████▌   | 28/30 [00:07<00:00,  3.67it/s]"
     ]
    },
    {
     "name": "stdout",
     "output_type": "stream",
     "text": [
      "mealService 응답코드: 200\n",
      "급식 데이터 수: 38\n",
      "9290054 한림공업고등학교\n",
      "급식 정보 조회 중: 날짜=20250618\n"
     ]
    },
    {
     "name": "stderr",
     "output_type": "stream",
     "text": [
      "고등학교 급식 조회:  97%|█████████████████████████████████████████████████▎ | 29/30 [00:07<00:00,  3.70it/s]"
     ]
    },
    {
     "name": "stdout",
     "output_type": "stream",
     "text": [
      "mealService 응답코드: 200\n",
      "급식 데이터 수: 40\n",
      "9290103 함덕고등학교\n",
      "급식 정보 조회 중: 날짜=20250618\n"
     ]
    },
    {
     "name": "stderr",
     "output_type": "stream",
     "text": [
      "고등학교 급식 조회: 100%|███████████████████████████████████████████████████| 30/30 [00:07<00:00,  3.83it/s]"
     ]
    },
    {
     "name": "stdout",
     "output_type": "stream",
     "text": [
      "mealService 응답코드: 200\n",
      "급식 데이터 수: 33\n",
      "수집된 급식 행 수: 77871\n",
      "수집된 전체 급식 행 수: 77871\n",
      "  교육청코드     학교코드     학교명      급식일자 식사명  \\\n",
      "0   B10  7010057  가락고등학교  20250519  중식   \n",
      "1   B10  7010057  가락고등학교  20250520  중식   \n",
      "2   B10  7010057  가락고등학교  20250521  중식   \n",
      "3   B10  7010057  가락고등학교  20250522  중식   \n",
      "4   B10  7010057  가락고등학교  20250523  중식   \n",
      "\n",
      "                                                급식식단  \n",
      "0  쌀밥 <br/>소고기미역국 (2.5.6.15.16.18)<br/>돼지갈비찜 (5.6...  \n",
      "1  쇠고기콩나물밥 (5.6.16)<br/>물만두국 (1.2.5.6.10.15.16.18...  \n",
      "2  새우볶음밥 (1.5.6.8.9.13.18)<br/>씨앗호떡파이 (1.2.3.5.6)...  \n",
      "3  쌀밥 <br/>볶음우동 (5.6.8.9.13.15.17.18)<br/>zero초코파...  \n",
      "4  현미밥 <br/>어묵국 (1.2.5.6.15.16.18)<br/>마라찜닭 (5.6....  \n"
     ]
    },
    {
     "name": "stderr",
     "output_type": "stream",
     "text": [
      "\n"
     ]
    }
   ],
   "source": [
    "def get_meal_info(edu_code, school_code,from_date,to_date):\n",
    "    print(f\"급식 정보 조회 중: 날짜={TARGET_DATE}\")\n",
    "    url = \"https://open.neis.go.kr/hub/mealServiceDietInfo\"\n",
    "    params = {\n",
    "        \"KEY\": API_KEY,\n",
    "        \"Type\": \"json\",\n",
    "        \"ATPT_OFCDC_SC_CODE\": edu_code,\n",
    "        \"SD_SCHUL_CODE\": school_code,\n",
    "        \"MLSV_FROM_YMD\": from_date,\n",
    "        \"MLSV_TO_YMD\": to_date,\n",
    "        \"pIndex\" : 1,\n",
    "        \"pSize\" : 100\n",
    "    \n",
    "    }\n",
    "    try:\n",
    "        res = requests.get(url, params=params, timeout=5)\n",
    "        print(f\"mealService 응답코드: {res.status_code}\")\n",
    "        if res.status_code == 200:\n",
    "            data = res.json()\n",
    "            if \"mealServiceDietInfo\" in data:\n",
    "                print(f\"급식 데이터 수: {len(data['mealServiceDietInfo'][1]['row'])}\")\n",
    "                return data[\"mealServiceDietInfo\"][1][\"row\"]\n",
    "            else:\n",
    "                print(\"mealServiceDietInfo 키 없음:\", data)\n",
    "        else:\n",
    "            print(\"응답 실패:\", res.text)\n",
    "    except Exception as e:\n",
    "        print(f\"급식 정보 조회 오류: {e}\")\n",
    "    return []\n",
    "    \n",
    "EDU_CODES = [\n",
    "    \"B10\", \"C10\", \"D10\", \"E10\", \"F10\", \"G10\", \"H10\", \"I10\", \"J10\",\n",
    "    \"K10\", \"M10\", \"N10\", \"P10\", \"Q10\", \"R10\", \"S10\", \"T10\"\n",
    "]\n",
    "all_data = []\n",
    "for EDU_CODE in EDU_CODES:\n",
    "    highschool_list = get_highschools(EDU_CODE)\n",
    "    \n",
    "\n",
    "    for school_code, school_name in tqdm(highschool_list, desc=\"고등학교 급식 조회\"):\n",
    "        print(school_code, school_name)\n",
    "        meals = get_meal_info(EDU_CODE, school_code, FROM_DATE, TO_DATE)\n",
    "        for meal in meals:\n",
    "            all_data.append({\n",
    "                \"교육청코드\": EDU_CODE,\n",
    "                \"학교코드\": school_code,\n",
    "                \"학교명\": school_name,\n",
    "                \"급식일자\": meal.get(\"MLSV_YMD\"),\n",
    "                \"식사명\": meal.get(\"MMEAL_SC_NM\"),\n",
    "                \"급식식단\": meal.get(\"DDISH_NM\")\n",
    "            })\n",
    "        time.sleep(0.1)\n",
    "\n",
    "    df1 = pd.DataFrame()\n",
    "    df = pd.DataFrame(all_data)\n",
    "    df1 = pd.concat([df1, df], axis = 0)\n",
    "    \n",
    "    print(\"수집된 급식 행 수:\", len(df))\n",
    "    print(\"수집된 전체 급식 행 수:\", len(df1))\n",
    "    print(df.head())\n",
    "    "
   ]
  },
  {
   "cell_type": "code",
   "execution_count": 70,
   "id": "55873518-f2cc-4463-9f8b-355804dd234c",
   "metadata": {},
   "outputs": [
    {
     "name": "stdout",
     "output_type": "stream",
     "text": [
      "CSV 저장 완료: 고등학교 전국_급식_1개월 test.csv\n"
     ]
    }
   ],
   "source": [
    "df1.to_csv(\"전국_고등학교_급식_1개월.csv\", index=False, encoding=\"utf-8-sig\")\n",
    "print(\"CSV 저장 완료: 고등학교 전국_급식_1개월 test.csv\")"
   ]
  },
  {
   "cell_type": "code",
   "execution_count": null,
   "id": "b846fc3d-6c3f-41dd-9d1b-c1a418bc8f5f",
   "metadata": {},
   "outputs": [],
   "source": []
  }
 ],
 "metadata": {
  "kernelspec": {
   "display_name": "Python 3 (ipykernel)",
   "language": "python",
   "name": "python3"
  },
  "language_info": {
   "codemirror_mode": {
    "name": "ipython",
    "version": 3
   },
   "file_extension": ".py",
   "mimetype": "text/x-python",
   "name": "python",
   "nbconvert_exporter": "python",
   "pygments_lexer": "ipython3",
   "version": "3.11.12"
  }
 },
 "nbformat": 4,
 "nbformat_minor": 5
}
