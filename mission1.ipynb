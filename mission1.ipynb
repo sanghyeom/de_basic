{
 "cells": [
  {
   "cell_type": "code",
   "execution_count": 22,
   "id": "54e75488-ccfe-4dc6-9bb7-4c1677a2a357",
   "metadata": {},
   "outputs": [
    {
     "name": "stdout",
     "output_type": "stream",
     "text": [
      "<Response [200]>\n"
     ]
    }
   ],
   "source": [
    "import requests\n",
    "import pandas as pd\n",
    "\n",
    "API_KEY = '5a616e446b746b643830415762674b'\n",
    "\n",
    "url= 'http://openapi.seoul.go.kr:8088/'+API_KEY+'/xml/CardSubwayStatsNew/1/5/20151101/9호선/김포공항'\n",
    "params = {\n",
    "    \"api-key\" : API_KEY\n",
    "}\n",
    "\n",
    "response = requests.get(url)\n",
    "\n",
    "print(response)\n",
    "\n",
    "#data = response.json()\n",
    "# df = pd.json_normalize(data)\n",
    "# df.head"
   ]
  },
  {
   "cell_type": "code",
   "execution_count": 39,
   "id": "d2fafdbc-57a6-41e3-a7ff-247387c8cb26",
   "metadata": {},
   "outputs": [
    {
     "name": "stdout",
     "output_type": "stream",
     "text": [
      "호선명=1호선,역사명=수원\n",
      "API 요청 URL: http://openapi.seoul.go.kr:8088/{api_key}/{data_type}/{service_name}/{start_idx}/{end_idx}/{date}\n",
      "응답코드:200\n",
      " 조회 오류 :Expecting value: line 1 column 1 (char 0) \n",
      "<Response [500]>\n"
     ]
    }
   ],
   "source": [
    "import requests\n",
    "import pandas as pd\n",
    "import xml.etree.ElementTree as ET # XML 파싱을 위한 라이브러리\n",
    "\n",
    "API_KEY ='5a616e446b746b643830415762674b'\n",
    "DATA_TYPE = 'json'\n",
    "SERVICE_NAME= 'CardSubwayStatsNew'\n",
    "'''\n",
    "START_INDEX = '1'\n",
    "END_INDEX = '5'\n",
    "USE_YMD\t='%Y%m%d'\n",
    "SBWY_ROUT_LN_NM = '1호선'\n",
    "SBWY_STNS_NM = '수원'\n",
    "target_date_today = '20151101' # 조회할 날짜 (YYYYMMDD 형식)\n",
    "'''\n",
    "# 함수정의 \n",
    "def  get_subway_stats(api_key, service_name, data_type, start_idx, end_idx, date):\n",
    "    print(f'호선명={SBWY_ROUT_LN_NM},역사명={SBWY_STNS_NM}')\n",
    "    url = 'http://openapi.seoul.go.kr:8088/{api_key}/{data_type}/{service_name}/{start_idx}/{end_idx}/{date}'\n",
    "    print(f\"API 요청 URL: {url}\")\n",
    "    params = {\n",
    "    'KEY' : API_KEY,\n",
    "    'TYPE': 'json',\n",
    "    'SBWY_ROUT_LN_NM' : SBWY_ROUT_LN_NM,\n",
    "    'SBWY_STNS_NM' : SBWY_STNS_NM\n",
    "    }\n",
    "    try:\n",
    "        res = requests.get(url,params=params,timeout=5)\n",
    "        print(f\"응답코드:{res.status_code}\")\n",
    "        if res.status_code == 200 :\n",
    "            data=res.json()\n",
    "            print(res)\n",
    "            '''\n",
    "            if \"schoolInfo\" in data:\n",
    "                # 여기 코드가 핵심코드\n",
    "                name = data[\"schoolInfo\"][1][\"row\"][0][\"SCHUL_NM\"]\n",
    "                print(data)\n",
    "                return name   \n",
    "            else : \n",
    "                print(\"존재하지 않음.\", data)\n",
    "                '''\n",
    "        else:\n",
    "            print(\"응답 실패\", res.text)\n",
    "    except Exception as e:\n",
    "        print(f\" 조회 오류 :{e} \")\n",
    "    return \"조회 불가\"\n",
    "\n",
    "get_subway_stats(API_KEY, SERVICE_NAME, DATA_TYPE, 1, 10, target_date_today)\n",
    "\n",
    "print(data)"
   ]
  }
 ],
 "metadata": {
  "kernelspec": {
   "display_name": "Python 3 (ipykernel)",
   "language": "python",
   "name": "python3"
  },
  "language_info": {
   "codemirror_mode": {
    "name": "ipython",
    "version": 3
   },
   "file_extension": ".py",
   "mimetype": "text/x-python",
   "name": "python",
   "nbconvert_exporter": "python",
   "pygments_lexer": "ipython3",
   "version": "3.11.12"
  }
 },
 "nbformat": 4,
 "nbformat_minor": 5
}
